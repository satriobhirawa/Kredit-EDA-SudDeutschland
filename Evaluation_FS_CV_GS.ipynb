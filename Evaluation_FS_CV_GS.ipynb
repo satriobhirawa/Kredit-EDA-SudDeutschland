{
 "cells": [
  {
   "cell_type": "code",
   "execution_count": 121,
   "metadata": {},
   "outputs": [],
   "source": [
    "import numpy as np\n",
    "import matplotlib.pyplot as plt\n",
    "from matplotlib.pyplot import figure\n",
    "import pandas as pd\n",
    "import seaborn as sns"
   ]
  },
  {
   "cell_type": "code",
   "execution_count": null,
   "metadata": {},
   "outputs": [],
   "source": []
  },
  {
   "cell_type": "markdown",
   "metadata": {},
   "source": [
    "## Features Selection"
   ]
  },
  {
   "cell_type": "code",
   "execution_count": 122,
   "metadata": {},
   "outputs": [],
   "source": [
    "df_raw = pd.read_csv('kredit.csv')"
   ]
  },
  {
   "cell_type": "code",
   "execution_count": 123,
   "metadata": {},
   "outputs": [],
   "source": [
    "df = df_raw.copy(deep=True)"
   ]
  },
  {
   "cell_type": "code",
   "execution_count": 124,
   "metadata": {},
   "outputs": [
    {
     "data": {
      "text/html": [
       "<div>\n",
       "<style scoped>\n",
       "    .dataframe tbody tr th:only-of-type {\n",
       "        vertical-align: middle;\n",
       "    }\n",
       "\n",
       "    .dataframe tbody tr th {\n",
       "        vertical-align: top;\n",
       "    }\n",
       "\n",
       "    .dataframe thead th {\n",
       "        text-align: right;\n",
       "    }\n",
       "</style>\n",
       "<table border=\"1\" class=\"dataframe\">\n",
       "  <thead>\n",
       "    <tr style=\"text-align: right;\">\n",
       "      <th></th>\n",
       "      <th>kredit</th>\n",
       "      <th>laufkont</th>\n",
       "      <th>laufzeit</th>\n",
       "      <th>moral</th>\n",
       "      <th>verw</th>\n",
       "      <th>hoehe</th>\n",
       "      <th>sparkont</th>\n",
       "      <th>beszeit</th>\n",
       "      <th>rate</th>\n",
       "      <th>famges</th>\n",
       "      <th>...</th>\n",
       "      <th>verm</th>\n",
       "      <th>alter</th>\n",
       "      <th>weitkred</th>\n",
       "      <th>wohn</th>\n",
       "      <th>bishkred</th>\n",
       "      <th>beruf</th>\n",
       "      <th>pers</th>\n",
       "      <th>telef</th>\n",
       "      <th>gastarb</th>\n",
       "      <th>altersgruppe</th>\n",
       "    </tr>\n",
       "  </thead>\n",
       "  <tbody>\n",
       "    <tr>\n",
       "      <th>0</th>\n",
       "      <td>1</td>\n",
       "      <td>1</td>\n",
       "      <td>18</td>\n",
       "      <td>4</td>\n",
       "      <td>2</td>\n",
       "      <td>1049</td>\n",
       "      <td>1</td>\n",
       "      <td>2</td>\n",
       "      <td>4</td>\n",
       "      <td>2</td>\n",
       "      <td>...</td>\n",
       "      <td>2</td>\n",
       "      <td>21</td>\n",
       "      <td>3</td>\n",
       "      <td>1</td>\n",
       "      <td>1</td>\n",
       "      <td>3</td>\n",
       "      <td>1</td>\n",
       "      <td>1</td>\n",
       "      <td>1</td>\n",
       "      <td>Young Adults</td>\n",
       "    </tr>\n",
       "    <tr>\n",
       "      <th>1</th>\n",
       "      <td>1</td>\n",
       "      <td>1</td>\n",
       "      <td>9</td>\n",
       "      <td>4</td>\n",
       "      <td>0</td>\n",
       "      <td>2799</td>\n",
       "      <td>1</td>\n",
       "      <td>3</td>\n",
       "      <td>2</td>\n",
       "      <td>3</td>\n",
       "      <td>...</td>\n",
       "      <td>1</td>\n",
       "      <td>36</td>\n",
       "      <td>3</td>\n",
       "      <td>1</td>\n",
       "      <td>2</td>\n",
       "      <td>3</td>\n",
       "      <td>2</td>\n",
       "      <td>1</td>\n",
       "      <td>1</td>\n",
       "      <td>Adults</td>\n",
       "    </tr>\n",
       "    <tr>\n",
       "      <th>2</th>\n",
       "      <td>1</td>\n",
       "      <td>2</td>\n",
       "      <td>12</td>\n",
       "      <td>2</td>\n",
       "      <td>9</td>\n",
       "      <td>841</td>\n",
       "      <td>2</td>\n",
       "      <td>4</td>\n",
       "      <td>2</td>\n",
       "      <td>2</td>\n",
       "      <td>...</td>\n",
       "      <td>1</td>\n",
       "      <td>23</td>\n",
       "      <td>3</td>\n",
       "      <td>1</td>\n",
       "      <td>1</td>\n",
       "      <td>2</td>\n",
       "      <td>1</td>\n",
       "      <td>1</td>\n",
       "      <td>1</td>\n",
       "      <td>Young Adults</td>\n",
       "    </tr>\n",
       "    <tr>\n",
       "      <th>3</th>\n",
       "      <td>1</td>\n",
       "      <td>1</td>\n",
       "      <td>12</td>\n",
       "      <td>4</td>\n",
       "      <td>0</td>\n",
       "      <td>2122</td>\n",
       "      <td>1</td>\n",
       "      <td>3</td>\n",
       "      <td>3</td>\n",
       "      <td>3</td>\n",
       "      <td>...</td>\n",
       "      <td>1</td>\n",
       "      <td>39</td>\n",
       "      <td>3</td>\n",
       "      <td>1</td>\n",
       "      <td>2</td>\n",
       "      <td>2</td>\n",
       "      <td>2</td>\n",
       "      <td>1</td>\n",
       "      <td>2</td>\n",
       "      <td>Adults</td>\n",
       "    </tr>\n",
       "    <tr>\n",
       "      <th>4</th>\n",
       "      <td>1</td>\n",
       "      <td>1</td>\n",
       "      <td>12</td>\n",
       "      <td>4</td>\n",
       "      <td>0</td>\n",
       "      <td>2171</td>\n",
       "      <td>1</td>\n",
       "      <td>3</td>\n",
       "      <td>4</td>\n",
       "      <td>3</td>\n",
       "      <td>...</td>\n",
       "      <td>2</td>\n",
       "      <td>38</td>\n",
       "      <td>1</td>\n",
       "      <td>2</td>\n",
       "      <td>2</td>\n",
       "      <td>2</td>\n",
       "      <td>1</td>\n",
       "      <td>1</td>\n",
       "      <td>2</td>\n",
       "      <td>Adults</td>\n",
       "    </tr>\n",
       "  </tbody>\n",
       "</table>\n",
       "<p>5 rows × 22 columns</p>\n",
       "</div>"
      ],
      "text/plain": [
       "   kredit  laufkont  laufzeit  moral  verw  hoehe  sparkont  beszeit  rate  \\\n",
       "0       1         1        18      4     2   1049         1        2     4   \n",
       "1       1         1         9      4     0   2799         1        3     2   \n",
       "2       1         2        12      2     9    841         2        4     2   \n",
       "3       1         1        12      4     0   2122         1        3     3   \n",
       "4       1         1        12      4     0   2171         1        3     4   \n",
       "\n",
       "   famges  ...  verm  alter  weitkred  wohn  bishkred  beruf  pers  telef  \\\n",
       "0       2  ...     2     21         3     1         1      3     1      1   \n",
       "1       3  ...     1     36         3     1         2      3     2      1   \n",
       "2       2  ...     1     23         3     1         1      2     1      1   \n",
       "3       3  ...     1     39         3     1         2      2     2      1   \n",
       "4       3  ...     2     38         1     2         2      2     1      1   \n",
       "\n",
       "   gastarb  altersgruppe  \n",
       "0        1  Young Adults  \n",
       "1        1        Adults  \n",
       "2        1  Young Adults  \n",
       "3        2        Adults  \n",
       "4        2        Adults  \n",
       "\n",
       "[5 rows x 22 columns]"
      ]
     },
     "execution_count": 124,
     "metadata": {},
     "output_type": "execute_result"
    }
   ],
   "source": [
    "df['altersgruppe'] = np.nan\n",
    "\n",
    "lst = [df]\n",
    "\n",
    "for col in lst:\n",
    "    col.loc[(col['alter'] > 18) & (col['alter'] <= 25), 'altersgruppe'] = 'Young Adults'\n",
    "    col.loc[(col['alter'] > 25) & (col['alter'] <= 39), 'altersgruppe'] = 'Adults'\n",
    "    col.loc[(col['alter'] > 39) & (col['alter'] <= 59), 'altersgruppe'] = 'Senior'\n",
    "    col.loc[col['alter'] > 59, 'altersgruppe'] = 'Elder' \n",
    "    \n",
    "df.head()"
   ]
  },
  {
   "cell_type": "code",
   "execution_count": 125,
   "metadata": {},
   "outputs": [],
   "source": [
    "df['zahlung pro monat'] = df['hoehe'] / df['laufzeit']"
   ]
  },
  {
   "cell_type": "code",
   "execution_count": 126,
   "metadata": {},
   "outputs": [
    {
     "data": {
      "text/html": [
       "<div>\n",
       "<style scoped>\n",
       "    .dataframe tbody tr th:only-of-type {\n",
       "        vertical-align: middle;\n",
       "    }\n",
       "\n",
       "    .dataframe tbody tr th {\n",
       "        vertical-align: top;\n",
       "    }\n",
       "\n",
       "    .dataframe thead th {\n",
       "        text-align: right;\n",
       "    }\n",
       "</style>\n",
       "<table border=\"1\" class=\"dataframe\">\n",
       "  <thead>\n",
       "    <tr style=\"text-align: right;\">\n",
       "      <th></th>\n",
       "      <th>kredit</th>\n",
       "      <th>laufkont</th>\n",
       "      <th>laufzeit</th>\n",
       "      <th>moral</th>\n",
       "      <th>verw</th>\n",
       "      <th>hoehe</th>\n",
       "      <th>sparkont</th>\n",
       "      <th>beszeit</th>\n",
       "      <th>rate</th>\n",
       "      <th>famges</th>\n",
       "      <th>...</th>\n",
       "      <th>alter</th>\n",
       "      <th>weitkred</th>\n",
       "      <th>wohn</th>\n",
       "      <th>bishkred</th>\n",
       "      <th>beruf</th>\n",
       "      <th>pers</th>\n",
       "      <th>telef</th>\n",
       "      <th>gastarb</th>\n",
       "      <th>altersgruppe</th>\n",
       "      <th>zahlung pro monat</th>\n",
       "    </tr>\n",
       "  </thead>\n",
       "  <tbody>\n",
       "    <tr>\n",
       "      <th>0</th>\n",
       "      <td>1</td>\n",
       "      <td>1</td>\n",
       "      <td>18</td>\n",
       "      <td>4</td>\n",
       "      <td>2</td>\n",
       "      <td>1049</td>\n",
       "      <td>1</td>\n",
       "      <td>2</td>\n",
       "      <td>4</td>\n",
       "      <td>2</td>\n",
       "      <td>...</td>\n",
       "      <td>21</td>\n",
       "      <td>3</td>\n",
       "      <td>1</td>\n",
       "      <td>1</td>\n",
       "      <td>3</td>\n",
       "      <td>1</td>\n",
       "      <td>1</td>\n",
       "      <td>1</td>\n",
       "      <td>Young Adults</td>\n",
       "      <td>58.277778</td>\n",
       "    </tr>\n",
       "    <tr>\n",
       "      <th>1</th>\n",
       "      <td>1</td>\n",
       "      <td>1</td>\n",
       "      <td>9</td>\n",
       "      <td>4</td>\n",
       "      <td>0</td>\n",
       "      <td>2799</td>\n",
       "      <td>1</td>\n",
       "      <td>3</td>\n",
       "      <td>2</td>\n",
       "      <td>3</td>\n",
       "      <td>...</td>\n",
       "      <td>36</td>\n",
       "      <td>3</td>\n",
       "      <td>1</td>\n",
       "      <td>2</td>\n",
       "      <td>3</td>\n",
       "      <td>2</td>\n",
       "      <td>1</td>\n",
       "      <td>1</td>\n",
       "      <td>Adults</td>\n",
       "      <td>311.000000</td>\n",
       "    </tr>\n",
       "    <tr>\n",
       "      <th>2</th>\n",
       "      <td>1</td>\n",
       "      <td>2</td>\n",
       "      <td>12</td>\n",
       "      <td>2</td>\n",
       "      <td>9</td>\n",
       "      <td>841</td>\n",
       "      <td>2</td>\n",
       "      <td>4</td>\n",
       "      <td>2</td>\n",
       "      <td>2</td>\n",
       "      <td>...</td>\n",
       "      <td>23</td>\n",
       "      <td>3</td>\n",
       "      <td>1</td>\n",
       "      <td>1</td>\n",
       "      <td>2</td>\n",
       "      <td>1</td>\n",
       "      <td>1</td>\n",
       "      <td>1</td>\n",
       "      <td>Young Adults</td>\n",
       "      <td>70.083333</td>\n",
       "    </tr>\n",
       "    <tr>\n",
       "      <th>3</th>\n",
       "      <td>1</td>\n",
       "      <td>1</td>\n",
       "      <td>12</td>\n",
       "      <td>4</td>\n",
       "      <td>0</td>\n",
       "      <td>2122</td>\n",
       "      <td>1</td>\n",
       "      <td>3</td>\n",
       "      <td>3</td>\n",
       "      <td>3</td>\n",
       "      <td>...</td>\n",
       "      <td>39</td>\n",
       "      <td>3</td>\n",
       "      <td>1</td>\n",
       "      <td>2</td>\n",
       "      <td>2</td>\n",
       "      <td>2</td>\n",
       "      <td>1</td>\n",
       "      <td>2</td>\n",
       "      <td>Adults</td>\n",
       "      <td>176.833333</td>\n",
       "    </tr>\n",
       "    <tr>\n",
       "      <th>4</th>\n",
       "      <td>1</td>\n",
       "      <td>1</td>\n",
       "      <td>12</td>\n",
       "      <td>4</td>\n",
       "      <td>0</td>\n",
       "      <td>2171</td>\n",
       "      <td>1</td>\n",
       "      <td>3</td>\n",
       "      <td>4</td>\n",
       "      <td>3</td>\n",
       "      <td>...</td>\n",
       "      <td>38</td>\n",
       "      <td>1</td>\n",
       "      <td>2</td>\n",
       "      <td>2</td>\n",
       "      <td>2</td>\n",
       "      <td>1</td>\n",
       "      <td>1</td>\n",
       "      <td>2</td>\n",
       "      <td>Adults</td>\n",
       "      <td>180.916667</td>\n",
       "    </tr>\n",
       "  </tbody>\n",
       "</table>\n",
       "<p>5 rows × 23 columns</p>\n",
       "</div>"
      ],
      "text/plain": [
       "   kredit  laufkont  laufzeit  moral  verw  hoehe  sparkont  beszeit  rate  \\\n",
       "0       1         1        18      4     2   1049         1        2     4   \n",
       "1       1         1         9      4     0   2799         1        3     2   \n",
       "2       1         2        12      2     9    841         2        4     2   \n",
       "3       1         1        12      4     0   2122         1        3     3   \n",
       "4       1         1        12      4     0   2171         1        3     4   \n",
       "\n",
       "   famges  ...  alter  weitkred  wohn  bishkred  beruf  pers  telef  gastarb  \\\n",
       "0       2  ...     21         3     1         1      3     1      1        1   \n",
       "1       3  ...     36         3     1         2      3     2      1        1   \n",
       "2       2  ...     23         3     1         1      2     1      1        1   \n",
       "3       3  ...     39         3     1         2      2     2      1        2   \n",
       "4       3  ...     38         1     2         2      2     1      1        2   \n",
       "\n",
       "   altersgruppe  zahlung pro monat  \n",
       "0  Young Adults          58.277778  \n",
       "1        Adults         311.000000  \n",
       "2  Young Adults          70.083333  \n",
       "3        Adults         176.833333  \n",
       "4        Adults         180.916667  \n",
       "\n",
       "[5 rows x 23 columns]"
      ]
     },
     "execution_count": 126,
     "metadata": {},
     "output_type": "execute_result"
    }
   ],
   "source": [
    "df.head()"
   ]
  },
  {
   "cell_type": "markdown",
   "metadata": {},
   "source": [
    "### One Hot Encoded"
   ]
  },
  {
   "cell_type": "code",
   "execution_count": 127,
   "metadata": {},
   "outputs": [],
   "source": [
    "from sklearn.preprocessing import OneHotEncoder, StandardScaler"
   ]
  },
  {
   "cell_type": "code",
   "execution_count": 128,
   "metadata": {},
   "outputs": [],
   "source": [
    "X = df.drop('kredit', axis=1)"
   ]
  },
  {
   "cell_type": "code",
   "execution_count": 129,
   "metadata": {},
   "outputs": [],
   "source": [
    "y = df['kredit']"
   ]
  },
  {
   "cell_type": "code",
   "execution_count": 130,
   "metadata": {},
   "outputs": [],
   "source": [
    "categorical_columns = ['laufkont', 'moral', 'verw', 'sparkont', 'beszeit',\n",
    "       'rate', 'famges', 'buerge', 'wohnzeit', 'verm', 'weitkred',\n",
    "       'wohn', 'bishkred', 'beruf', 'pers', 'telef', 'gastarb', 'altersgruppe']\n",
    "\n",
    "numerical_columns = ['laufzeit', 'hoehe', 'alter', 'zahlung pro monat']\n",
    "\n",
    "X_cat = df[categorical_columns]\n",
    "X_num = df[numerical_columns].values"
   ]
  },
  {
   "cell_type": "code",
   "execution_count": 131,
   "metadata": {},
   "outputs": [
    {
     "data": {
      "text/plain": [
       "OneHotEncoder(categories='auto', drop=None, dtype=<class 'numpy.float64'>,\n",
       "              handle_unknown='error', sparse=False)"
      ]
     },
     "execution_count": 131,
     "metadata": {},
     "output_type": "execute_result"
    }
   ],
   "source": [
    "# One Hot Encoder before split\n",
    "\n",
    "ohe = OneHotEncoder(sparse=False)\n",
    "ohe.fit(X_cat)"
   ]
  },
  {
   "cell_type": "code",
   "execution_count": 132,
   "metadata": {},
   "outputs": [],
   "source": [
    "X_cat = ohe.transform(X_cat)"
   ]
  },
  {
   "cell_type": "code",
   "execution_count": 133,
   "metadata": {},
   "outputs": [],
   "source": [
    "# scaling before train test split\n",
    "X = np.hstack((X_cat, X_num))"
   ]
  },
  {
   "cell_type": "code",
   "execution_count": null,
   "metadata": {},
   "outputs": [],
   "source": []
  },
  {
   "cell_type": "code",
   "execution_count": 134,
   "metadata": {},
   "outputs": [],
   "source": [
    "X = np.hstack((X_cat, X_num))"
   ]
  },
  {
   "cell_type": "code",
   "execution_count": 135,
   "metadata": {},
   "outputs": [
    {
     "data": {
      "text/plain": [
       "array(['x0_1', 'x0_2', 'x0_3', 'x0_4', 'x1_0', 'x1_1', 'x1_2', 'x1_3',\n",
       "       'x1_4', 'x2_0', 'x2_1', 'x2_2', 'x2_3', 'x2_4', 'x2_5', 'x2_6',\n",
       "       'x2_8', 'x2_9', 'x2_10', 'x3_1', 'x3_2', 'x3_3', 'x3_4', 'x3_5',\n",
       "       'x4_1', 'x4_2', 'x4_3', 'x4_4', 'x4_5', 'x5_1', 'x5_2', 'x5_3',\n",
       "       'x5_4', 'x6_1', 'x6_2', 'x6_3', 'x6_4', 'x7_1', 'x7_2', 'x7_3',\n",
       "       'x8_1', 'x8_2', 'x8_3', 'x8_4', 'x9_1', 'x9_2', 'x9_3', 'x9_4',\n",
       "       'x10_1', 'x10_2', 'x10_3', 'x11_1', 'x11_2', 'x11_3', 'x12_1',\n",
       "       'x12_2', 'x12_3', 'x12_4', 'x13_1', 'x13_2', 'x13_3', 'x13_4',\n",
       "       'x14_1', 'x14_2', 'x15_1', 'x15_2', 'x16_1', 'x16_2', 'x17_Adults',\n",
       "       'x17_Elder', 'x17_Senior', 'x17_Young Adults'], dtype=object)"
      ]
     },
     "execution_count": 135,
     "metadata": {},
     "output_type": "execute_result"
    }
   ],
   "source": [
    "ohe.get_feature_names()"
   ]
  },
  {
   "cell_type": "code",
   "execution_count": 136,
   "metadata": {},
   "outputs": [
    {
     "data": {
      "text/plain": [
       "(1000, 76)"
      ]
     },
     "execution_count": 136,
     "metadata": {},
     "output_type": "execute_result"
    }
   ],
   "source": [
    "X.shape"
   ]
  },
  {
   "cell_type": "code",
   "execution_count": 137,
   "metadata": {},
   "outputs": [],
   "source": [
    "from sklearn.model_selection import train_test_split"
   ]
  },
  {
   "cell_type": "code",
   "execution_count": 138,
   "metadata": {},
   "outputs": [],
   "source": [
    "X_train, X_test, y_train, y_test = train_test_split(X, y, test_size=0.2, random_state=42, stratify=y)"
   ]
  },
  {
   "cell_type": "markdown",
   "metadata": {},
   "source": [
    "### Scaled after splitting"
   ]
  },
  {
   "cell_type": "code",
   "execution_count": 139,
   "metadata": {},
   "outputs": [],
   "source": [
    "scaler = StandardScaler()\n",
    "X_train[:, -4:] = scaler.fit_transform(X_train[:, -4:])"
   ]
  },
  {
   "cell_type": "markdown",
   "metadata": {},
   "source": [
    "### Chi Squared"
   ]
  },
  {
   "cell_type": "code",
   "execution_count": 140,
   "metadata": {},
   "outputs": [],
   "source": [
    "from sklearn.feature_selection import SelectKBest\n",
    "from sklearn.feature_selection import chi2"
   ]
  },
  {
   "cell_type": "code",
   "execution_count": 141,
   "metadata": {},
   "outputs": [],
   "source": [
    "best_features = SelectKBest(chi2, k=30)"
   ]
  },
  {
   "cell_type": "code",
   "execution_count": 142,
   "metadata": {},
   "outputs": [
    {
     "data": {
      "text/plain": [
       "SelectKBest(k=30, score_func=<function chi2 at 0x000001BE54A6C048>)"
      ]
     },
     "execution_count": 142,
     "metadata": {},
     "output_type": "execute_result"
    }
   ],
   "source": [
    "best_features.fit(X_train[:, :-4], y_train)"
   ]
  },
  {
   "cell_type": "code",
   "execution_count": 143,
   "metadata": {},
   "outputs": [],
   "source": [
    "df_best_features = pd.DataFrame()"
   ]
  },
  {
   "cell_type": "code",
   "execution_count": 144,
   "metadata": {},
   "outputs": [],
   "source": [
    "df_best_features['Features'] = np.hstack((ohe.get_feature_names(categorical_columns)))\n",
    "df_best_features['Scores'] = best_features.scores_"
   ]
  },
  {
   "cell_type": "code",
   "execution_count": 145,
   "metadata": {},
   "outputs": [
    {
     "data": {
      "text/html": [
       "<div>\n",
       "<style scoped>\n",
       "    .dataframe tbody tr th:only-of-type {\n",
       "        vertical-align: middle;\n",
       "    }\n",
       "\n",
       "    .dataframe tbody tr th {\n",
       "        vertical-align: top;\n",
       "    }\n",
       "\n",
       "    .dataframe thead th {\n",
       "        text-align: right;\n",
       "    }\n",
       "</style>\n",
       "<table border=\"1\" class=\"dataframe\">\n",
       "  <thead>\n",
       "    <tr style=\"text-align: right;\">\n",
       "      <th></th>\n",
       "      <th>Features</th>\n",
       "      <th>Scores</th>\n",
       "    </tr>\n",
       "  </thead>\n",
       "  <tbody>\n",
       "    <tr>\n",
       "      <th>3</th>\n",
       "      <td>laufkont_4</td>\n",
       "      <td>44.199148</td>\n",
       "    </tr>\n",
       "    <tr>\n",
       "      <th>0</th>\n",
       "      <td>laufkont_1</td>\n",
       "      <td>42.290959</td>\n",
       "    </tr>\n",
       "    <tr>\n",
       "      <th>5</th>\n",
       "      <td>moral_1</td>\n",
       "      <td>14.734694</td>\n",
       "    </tr>\n",
       "    <tr>\n",
       "      <th>8</th>\n",
       "      <td>moral_4</td>\n",
       "      <td>14.556391</td>\n",
       "    </tr>\n",
       "    <tr>\n",
       "      <th>23</th>\n",
       "      <td>sparkont_5</td>\n",
       "      <td>12.190476</td>\n",
       "    </tr>\n",
       "    <tr>\n",
       "      <th>4</th>\n",
       "      <td>moral_0</td>\n",
       "      <td>11.311987</td>\n",
       "    </tr>\n",
       "    <tr>\n",
       "      <th>19</th>\n",
       "      <td>sparkont_1</td>\n",
       "      <td>10.159122</td>\n",
       "    </tr>\n",
       "    <tr>\n",
       "      <th>22</th>\n",
       "      <td>sparkont_4</td>\n",
       "      <td>9.241758</td>\n",
       "    </tr>\n",
       "    <tr>\n",
       "      <th>67</th>\n",
       "      <td>gastarb_2</td>\n",
       "      <td>8.595238</td>\n",
       "    </tr>\n",
       "    <tr>\n",
       "      <th>47</th>\n",
       "      <td>verm_4</td>\n",
       "      <td>8.009524</td>\n",
       "    </tr>\n",
       "    <tr>\n",
       "      <th>10</th>\n",
       "      <td>verw_1</td>\n",
       "      <td>7.619048</td>\n",
       "    </tr>\n",
       "    <tr>\n",
       "      <th>25</th>\n",
       "      <td>beszeit_2</td>\n",
       "      <td>7.416226</td>\n",
       "    </tr>\n",
       "    <tr>\n",
       "      <th>44</th>\n",
       "      <td>verm_1</td>\n",
       "      <td>6.872456</td>\n",
       "    </tr>\n",
       "    <tr>\n",
       "      <th>48</th>\n",
       "      <td>weitkred_1</td>\n",
       "      <td>6.233766</td>\n",
       "    </tr>\n",
       "    <tr>\n",
       "      <th>33</th>\n",
       "      <td>famges_1</td>\n",
       "      <td>6.127413</td>\n",
       "    </tr>\n",
       "    <tr>\n",
       "      <th>9</th>\n",
       "      <td>verw_0</td>\n",
       "      <td>5.915003</td>\n",
       "    </tr>\n",
       "    <tr>\n",
       "      <th>12</th>\n",
       "      <td>verw_3</td>\n",
       "      <td>5.875055</td>\n",
       "    </tr>\n",
       "    <tr>\n",
       "      <th>71</th>\n",
       "      <td>altersgruppe_Young Adults</td>\n",
       "      <td>5.341114</td>\n",
       "    </tr>\n",
       "    <tr>\n",
       "      <th>51</th>\n",
       "      <td>wohn_1</td>\n",
       "      <td>4.897959</td>\n",
       "    </tr>\n",
       "    <tr>\n",
       "      <th>21</th>\n",
       "      <td>sparkont_3</td>\n",
       "      <td>4.362488</td>\n",
       "    </tr>\n",
       "  </tbody>\n",
       "</table>\n",
       "</div>"
      ],
      "text/plain": [
       "                     Features     Scores\n",
       "3                  laufkont_4  44.199148\n",
       "0                  laufkont_1  42.290959\n",
       "5                     moral_1  14.734694\n",
       "8                     moral_4  14.556391\n",
       "23                 sparkont_5  12.190476\n",
       "4                     moral_0  11.311987\n",
       "19                 sparkont_1  10.159122\n",
       "22                 sparkont_4   9.241758\n",
       "67                  gastarb_2   8.595238\n",
       "47                     verm_4   8.009524\n",
       "10                     verw_1   7.619048\n",
       "25                  beszeit_2   7.416226\n",
       "44                     verm_1   6.872456\n",
       "48                 weitkred_1   6.233766\n",
       "33                   famges_1   6.127413\n",
       "9                      verw_0   5.915003\n",
       "12                     verw_3   5.875055\n",
       "71  altersgruppe_Young Adults   5.341114\n",
       "51                     wohn_1   4.897959\n",
       "21                 sparkont_3   4.362488"
      ]
     },
     "execution_count": 145,
     "metadata": {},
     "output_type": "execute_result"
    }
   ],
   "source": [
    "df_best_features.sort_values(by='Scores', ascending=False).head(20)"
   ]
  },
  {
   "cell_type": "code",
   "execution_count": 146,
   "metadata": {},
   "outputs": [],
   "source": [
    "X_train_cat = best_features.transform(X_train[:, :-4])"
   ]
  },
  {
   "cell_type": "code",
   "execution_count": 147,
   "metadata": {},
   "outputs": [],
   "source": [
    "X_train_new = np.hstack((X_train_cat, X_train[:, -4:]))"
   ]
  },
  {
   "cell_type": "code",
   "execution_count": 148,
   "metadata": {},
   "outputs": [
    {
     "data": {
      "text/plain": [
       "(800, 34)"
      ]
     },
     "execution_count": 148,
     "metadata": {},
     "output_type": "execute_result"
    }
   ],
   "source": [
    "X_train_new.shape"
   ]
  },
  {
   "cell_type": "code",
   "execution_count": 149,
   "metadata": {},
   "outputs": [],
   "source": [
    "X_test[:, -4:] = scaler.fit_transform(X_test[:, -4:])"
   ]
  },
  {
   "cell_type": "code",
   "execution_count": 150,
   "metadata": {},
   "outputs": [],
   "source": [
    "X_test_cat = best_features.transform(X_test[:, :-4])"
   ]
  },
  {
   "cell_type": "code",
   "execution_count": 151,
   "metadata": {},
   "outputs": [],
   "source": [
    "X_test_new = np.hstack((X_test_cat, X_test[:, -4:]))"
   ]
  },
  {
   "cell_type": "code",
   "execution_count": 152,
   "metadata": {},
   "outputs": [
    {
     "data": {
      "text/plain": [
       "(200, 34)"
      ]
     },
     "execution_count": 152,
     "metadata": {},
     "output_type": "execute_result"
    }
   ],
   "source": [
    "X_test_new.shape"
   ]
  },
  {
   "cell_type": "code",
   "execution_count": null,
   "metadata": {},
   "outputs": [],
   "source": []
  },
  {
   "cell_type": "code",
   "execution_count": null,
   "metadata": {},
   "outputs": [],
   "source": []
  },
  {
   "cell_type": "code",
   "execution_count": null,
   "metadata": {},
   "outputs": [],
   "source": []
  },
  {
   "cell_type": "code",
   "execution_count": 153,
   "metadata": {},
   "outputs": [
    {
     "data": {
      "image/png": "[encoded data removed]",
      "text/plain": [
       "<Figure size 432x288 with 1 Axes>"
      ]
     },
     "metadata": {
      "needs_background": "light"
     },
     "output_type": "display_data"
    }
   ],
   "source": [
    "from matplotlib import pyplot\n",
    "\n",
    "pyplot.bar([i for i in range(len(best_features.scores_))], best_features.scores_)\n",
    "pyplot.show()"
   ]
  },
  {
   "cell_type": "code",
   "execution_count": null,
   "metadata": {},
   "outputs": [],
   "source": []
  },
  {
   "cell_type": "markdown",
   "metadata": {},
   "source": [
    "## Modeling"
   ]
  },
  {
   "cell_type": "markdown",
   "metadata": {},
   "source": [
    "### Logistic Regression"
   ]
  },
  {
   "cell_type": "code",
   "execution_count": 154,
   "metadata": {},
   "outputs": [],
   "source": [
    "from sklearn.linear_model import LogisticRegression"
   ]
  },
  {
   "cell_type": "code",
   "execution_count": 155,
   "metadata": {},
   "outputs": [],
   "source": [
    "log_model_baseline = LogisticRegression()"
   ]
  },
  {
   "cell_type": "code",
   "execution_count": 156,
   "metadata": {},
   "outputs": [
    {
     "data": {
      "text/plain": [
       "LogisticRegression(C=1.0, class_weight=None, dual=False, fit_intercept=True,\n",
       "                   intercept_scaling=1, l1_ratio=None, max_iter=100,\n",
       "                   multi_class='auto', n_jobs=None, penalty='l2',\n",
       "                   random_state=None, solver='lbfgs', tol=0.0001, verbose=0,\n",
       "                   warm_start=False)"
      ]
     },
     "execution_count": 156,
     "metadata": {},
     "output_type": "execute_result"
    }
   ],
   "source": [
    "log_model_baseline.fit(X_train_new, y_train)"
   ]
  },
  {
   "cell_type": "code",
   "execution_count": 157,
   "metadata": {},
   "outputs": [
    {
     "data": {
      "text/plain": [
       "array([[-0.76907488, -0.33675871,  0.37965929,  0.72664644, -0.66181724,\n",
       "        -0.62805466,  0.57609754, -0.68837156,  0.7737875 ,  0.15553116,\n",
       "        -0.49582166, -0.33457046,  0.34247581,  1.00223813,  0.63686774,\n",
       "        -0.27148303,  0.6226024 , -0.49065183, -0.67815456, -0.38490221,\n",
       "         0.67912432,  0.23786593, -0.1915335 , -0.37637785, -0.30150029,\n",
       "        -0.40965891,  0.16148863,  0.24864241,  1.3167585 , -0.33084225,\n",
       "        -0.40192893, -0.13655641,  0.04417227, -0.03897749]])"
      ]
     },
     "execution_count": 157,
     "metadata": {},
     "output_type": "execute_result"
    }
   ],
   "source": [
    "log_model_baseline.coef_"
   ]
  },
  {
   "cell_type": "code",
   "execution_count": 158,
   "metadata": {},
   "outputs": [],
   "source": [
    "y_pred = log_model_baseline.predict(X_test_new)"
   ]
  },
  {
   "cell_type": "code",
   "execution_count": 159,
   "metadata": {},
   "outputs": [
    {
     "data": {
      "text/plain": [
       "array([0, 1, 1, 1, 0, 1, 0, 0, 1, 1, 1, 0, 1, 1, 0, 1, 1, 1, 1, 1, 1, 1,\n",
       "       0, 0, 1, 1, 1, 0, 1, 0, 1, 1, 1, 1, 1, 1, 1, 1, 1, 0, 1, 0, 1, 1,\n",
       "       1, 1, 1, 0, 1, 1, 1, 0, 1, 1, 0, 1, 1, 1, 1, 1, 1, 0, 1, 1, 0, 1,\n",
       "       1, 1, 0, 1, 1, 1, 1, 1, 1, 1, 0, 1, 1, 0, 1, 0, 0, 1, 1, 1, 1, 1,\n",
       "       1, 1, 1, 1, 0, 1, 1, 1, 1, 0, 1, 1, 1, 1, 1, 1, 1, 1, 1, 1, 0, 1,\n",
       "       1, 1, 1, 1, 0, 1, 1, 0, 0, 1, 0, 1, 1, 1, 0, 1, 1, 1, 1, 1, 1, 0,\n",
       "       1, 1, 0, 1, 0, 1, 1, 1, 1, 1, 1, 1, 1, 0, 1, 1, 0, 1, 0, 1, 1, 1,\n",
       "       1, 1, 1, 1, 1, 1, 1, 1, 0, 1, 1, 0, 0, 1, 0, 1, 0, 1, 1, 1, 1, 0,\n",
       "       0, 1, 1, 1, 1, 1, 1, 1, 0, 1, 1, 1, 0, 1, 1, 1, 1, 1, 0, 1, 1, 1,\n",
       "       1, 1], dtype=int64)"
      ]
     },
     "execution_count": 159,
     "metadata": {},
     "output_type": "execute_result"
    }
   ],
   "source": [
    "y_pred"
   ]
  },
  {
   "cell_type": "code",
   "execution_count": 160,
   "metadata": {},
   "outputs": [],
   "source": [
    "y_pred_proba = log_model_baseline.predict_proba(X_test_new)"
   ]
  },
  {
   "cell_type": "code",
   "execution_count": 161,
   "metadata": {},
   "outputs": [
    {
     "data": {
      "text/plain": [
       "array([[0.74072155, 0.25927845],\n",
       "       [0.0458666 , 0.9541334 ],\n",
       "       [0.11486299, 0.88513701],\n",
       "       [0.02091196, 0.97908804],\n",
       "       [0.85400713, 0.14599287],\n",
       "       [0.13971726, 0.86028274],\n",
       "       [0.63500804, 0.36499196],\n",
       "       [0.69740541, 0.30259459],\n",
       "       [0.27842628, 0.72157372],\n",
       "       [0.02204135, 0.97795865],\n",
       "       [0.46515985, 0.53484015],\n",
       "       [0.85183335, 0.14816665],\n",
       "       [0.10942531, 0.89057469],\n",
       "       [0.40444224, 0.59555776],\n",
       "       [0.63166972, 0.36833028],\n",
       "       [0.11527847, 0.88472153],\n",
       "       [0.18411559, 0.81588441],\n",
       "       [0.2967791 , 0.7032209 ],\n",
       "       [0.07438709, 0.92561291],\n",
       "       [0.20383684, 0.79616316],\n",
       "       [0.10066251, 0.89933749],\n",
       "       [0.04485226, 0.95514774],\n",
       "       [0.66227367, 0.33772633],\n",
       "       [0.56487872, 0.43512128],\n",
       "       [0.07953448, 0.92046552],\n",
       "       [0.09417718, 0.90582282],\n",
       "       [0.01318891, 0.98681109],\n",
       "       [0.59211525, 0.40788475],\n",
       "       [0.1874924 , 0.8125076 ],\n",
       "       [0.88283721, 0.11716279],\n",
       "       [0.32593499, 0.67406501],\n",
       "       [0.35244251, 0.64755749],\n",
       "       [0.31772715, 0.68227285],\n",
       "       [0.05211648, 0.94788352],\n",
       "       [0.35024442, 0.64975558],\n",
       "       [0.13185806, 0.86814194],\n",
       "       [0.12020058, 0.87979942],\n",
       "       [0.05576068, 0.94423932],\n",
       "       [0.16624175, 0.83375825],\n",
       "       [0.8546278 , 0.1453722 ],\n",
       "       [0.1583108 , 0.8416892 ],\n",
       "       [0.68828761, 0.31171239],\n",
       "       [0.12502711, 0.87497289],\n",
       "       [0.13601976, 0.86398024],\n",
       "       [0.02271598, 0.97728402],\n",
       "       [0.31091331, 0.68908669],\n",
       "       [0.11433083, 0.88566917],\n",
       "       [0.52615769, 0.47384231],\n",
       "       [0.20082404, 0.79917596],\n",
       "       [0.13996672, 0.86003328],\n",
       "       [0.41055612, 0.58944388],\n",
       "       [0.70745362, 0.29254638],\n",
       "       [0.44241083, 0.55758917],\n",
       "       [0.09299501, 0.90700499],\n",
       "       [0.75763665, 0.24236335],\n",
       "       [0.10792556, 0.89207444],\n",
       "       [0.04331271, 0.95668729],\n",
       "       [0.27410116, 0.72589884],\n",
       "       [0.03511376, 0.96488624],\n",
       "       [0.11861971, 0.88138029],\n",
       "       [0.07675481, 0.92324519],\n",
       "       [0.77502095, 0.22497905],\n",
       "       [0.49167155, 0.50832845],\n",
       "       [0.07652554, 0.92347446],\n",
       "       [0.5805265 , 0.4194735 ],\n",
       "       [0.39090847, 0.60909153],\n",
       "       [0.38445963, 0.61554037],\n",
       "       [0.19688907, 0.80311093],\n",
       "       [0.82744281, 0.17255719],\n",
       "       [0.39443612, 0.60556388],\n",
       "       [0.14798032, 0.85201968],\n",
       "       [0.07826882, 0.92173118],\n",
       "       [0.41591054, 0.58408946],\n",
       "       [0.18080606, 0.81919394],\n",
       "       [0.18654924, 0.81345076],\n",
       "       [0.19075333, 0.80924667],\n",
       "       [0.87608067, 0.12391933],\n",
       "       [0.268143  , 0.731857  ],\n",
       "       [0.16285986, 0.83714014],\n",
       "       [0.70569089, 0.29430911],\n",
       "       [0.13042947, 0.86957053],\n",
       "       [0.57932207, 0.42067793],\n",
       "       [0.54245832, 0.45754168],\n",
       "       [0.03015426, 0.96984574],\n",
       "       [0.22601686, 0.77398314],\n",
       "       [0.04231497, 0.95768503],\n",
       "       [0.49494328, 0.50505672],\n",
       "       [0.09407175, 0.90592825],\n",
       "       [0.37370635, 0.62629365],\n",
       "       [0.05908482, 0.94091518],\n",
       "       [0.34426636, 0.65573364],\n",
       "       [0.12232699, 0.87767301],\n",
       "       [0.83274753, 0.16725247],\n",
       "       [0.10269387, 0.89730613],\n",
       "       [0.48968938, 0.51031062],\n",
       "       [0.09527171, 0.90472829],\n",
       "       [0.09766621, 0.90233379],\n",
       "       [0.6679804 , 0.3320196 ],\n",
       "       [0.12572245, 0.87427755],\n",
       "       [0.4151018 , 0.5848982 ],\n",
       "       [0.17981055, 0.82018945],\n",
       "       [0.13243869, 0.86756131],\n",
       "       [0.24842361, 0.75157639],\n",
       "       [0.26503615, 0.73496385],\n",
       "       [0.06218719, 0.93781281],\n",
       "       [0.11726628, 0.88273372],\n",
       "       [0.46053029, 0.53946971],\n",
       "       [0.19789859, 0.80210141],\n",
       "       [0.63971894, 0.36028106],\n",
       "       [0.26546649, 0.73453351],\n",
       "       [0.24463415, 0.75536585],\n",
       "       [0.06218386, 0.93781614],\n",
       "       [0.06871095, 0.93128905],\n",
       "       [0.34295437, 0.65704563],\n",
       "       [0.57239907, 0.42760093],\n",
       "       [0.29296992, 0.70703008],\n",
       "       [0.21228794, 0.78771206],\n",
       "       [0.51374181, 0.48625819],\n",
       "       [0.63124387, 0.36875613],\n",
       "       [0.30534357, 0.69465643],\n",
       "       [0.66468928, 0.33531072],\n",
       "       [0.00613263, 0.99386737],\n",
       "       [0.07441726, 0.92558274],\n",
       "       [0.20032634, 0.79967366],\n",
       "       [0.70595778, 0.29404222],\n",
       "       [0.19879625, 0.80120375],\n",
       "       [0.03662746, 0.96337254],\n",
       "       [0.07697208, 0.92302792],\n",
       "       [0.14302375, 0.85697625],\n",
       "       [0.12883792, 0.87116208],\n",
       "       [0.04450995, 0.95549005],\n",
       "       [0.56500617, 0.43499383],\n",
       "       [0.17503234, 0.82496766],\n",
       "       [0.06729187, 0.93270813],\n",
       "       [0.89183017, 0.10816983],\n",
       "       [0.02186105, 0.97813895],\n",
       "       [0.88865606, 0.11134394],\n",
       "       [0.15663446, 0.84336554],\n",
       "       [0.03727086, 0.96272914],\n",
       "       [0.13443168, 0.86556832],\n",
       "       [0.11267888, 0.88732112],\n",
       "       [0.38539574, 0.61460426],\n",
       "       [0.02545436, 0.97454564],\n",
       "       [0.26729806, 0.73270194],\n",
       "       [0.25911052, 0.74088948],\n",
       "       [0.62263981, 0.37736019],\n",
       "       [0.27612401, 0.72387599],\n",
       "       [0.43607006, 0.56392994],\n",
       "       [0.58964184, 0.41035816],\n",
       "       [0.3372362 , 0.6627638 ],\n",
       "       [0.78290965, 0.21709035],\n",
       "       [0.05828753, 0.94171247],\n",
       "       [0.13140768, 0.86859232],\n",
       "       [0.26473124, 0.73526876],\n",
       "       [0.36362956, 0.63637044],\n",
       "       [0.31592801, 0.68407199],\n",
       "       [0.01683329, 0.98316671],\n",
       "       [0.04331824, 0.95668176],\n",
       "       [0.08474213, 0.91525787],\n",
       "       [0.4702525 , 0.5297475 ],\n",
       "       [0.02937731, 0.97062269],\n",
       "       [0.13572111, 0.86427889],\n",
       "       [0.63257271, 0.36742729],\n",
       "       [0.06255793, 0.93744207],\n",
       "       [0.28400931, 0.71599069],\n",
       "       [0.74418856, 0.25581144],\n",
       "       [0.62927289, 0.37072711],\n",
       "       [0.39373085, 0.60626915],\n",
       "       [0.63295578, 0.36704422],\n",
       "       [0.17600027, 0.82399973],\n",
       "       [0.86206454, 0.13793546],\n",
       "       [0.07088026, 0.92911974],\n",
       "       [0.43522497, 0.56477503],\n",
       "       [0.04403701, 0.95596299],\n",
       "       [0.25323402, 0.74676598],\n",
       "       [0.5398978 , 0.4601022 ],\n",
       "       [0.67205801, 0.32794199],\n",
       "       [0.47405507, 0.52594493],\n",
       "       [0.32894138, 0.67105862],\n",
       "       [0.18252995, 0.81747005],\n",
       "       [0.29151717, 0.70848283],\n",
       "       [0.18124175, 0.81875825],\n",
       "       [0.08550661, 0.91449339],\n",
       "       [0.22495309, 0.77504691],\n",
       "       [0.662989  , 0.337011  ],\n",
       "       [0.31708548, 0.68291452],\n",
       "       [0.05215667, 0.94784333],\n",
       "       [0.25897006, 0.74102994],\n",
       "       [0.69764445, 0.30235555],\n",
       "       [0.23435439, 0.76564561],\n",
       "       [0.33447899, 0.66552101],\n",
       "       [0.32142294, 0.67857706],\n",
       "       [0.21295917, 0.78704083],\n",
       "       [0.38685471, 0.61314529],\n",
       "       [0.6040346 , 0.3959654 ],\n",
       "       [0.03842978, 0.96157022],\n",
       "       [0.06331962, 0.93668038],\n",
       "       [0.06877724, 0.93122276],\n",
       "       [0.09455404, 0.90544596],\n",
       "       [0.04210102, 0.95789898]])"
      ]
     },
     "execution_count": 161,
     "metadata": {},
     "output_type": "execute_result"
    }
   ],
   "source": [
    "y_pred_proba"
   ]
  },
  {
   "cell_type": "code",
   "execution_count": 162,
   "metadata": {},
   "outputs": [],
   "source": [
    "from sklearn.metrics import accuracy_score, confusion_matrix, classification_report, roc_auc_score"
   ]
  },
  {
   "cell_type": "code",
   "execution_count": 163,
   "metadata": {},
   "outputs": [
    {
     "data": {
      "text/plain": [
       "0.8"
      ]
     },
     "execution_count": 163,
     "metadata": {},
     "output_type": "execute_result"
    }
   ],
   "source": [
    "accuracy_score(y_test, y_pred)"
   ]
  },
  {
   "cell_type": "code",
   "execution_count": 164,
   "metadata": {},
   "outputs": [
    {
     "data": {
      "text/plain": [
       "array([[ 33,  27],\n",
       "       [ 13, 127]], dtype=int64)"
      ]
     },
     "execution_count": 164,
     "metadata": {},
     "output_type": "execute_result"
    }
   ],
   "source": [
    "confusion_matrix(y_test, y_pred)"
   ]
  },
  {
   "cell_type": "code",
   "execution_count": 165,
   "metadata": {},
   "outputs": [],
   "source": [
    "from sklearn.metrics import plot_confusion_matrix"
   ]
  },
  {
   "cell_type": "code",
   "execution_count": 166,
   "metadata": {},
   "outputs": [
    {
     "data": {
      "text/plain": [
       "<sklearn.metrics._plot.confusion_matrix.ConfusionMatrixDisplay at 0x1be56611308>"
      ]
     },
     "execution_count": 166,
     "metadata": {},
     "output_type": "execute_result"
    },
    {
     "data": {
      "image/png": "[encoded data removed]",
      "text/plain": [
       "<Figure size 432x288 with 2 Axes>"
      ]
     },
     "metadata": {
      "needs_background": "light"
     },
     "output_type": "display_data"
    }
   ],
   "source": [
    "plot_confusion_matrix(log_model_baseline, X_test_new, y_test)"
   ]
  },
  {
   "cell_type": "code",
   "execution_count": null,
   "metadata": {},
   "outputs": [],
   "source": []
  },
  {
   "cell_type": "code",
   "execution_count": null,
   "metadata": {},
   "outputs": [],
   "source": []
  },
  {
   "cell_type": "code",
   "execution_count": null,
   "metadata": {},
   "outputs": [],
   "source": []
  },
  {
   "cell_type": "code",
   "execution_count": null,
   "metadata": {},
   "outputs": [],
   "source": []
  },
  {
   "cell_type": "code",
   "execution_count": null,
   "metadata": {},
   "outputs": [],
   "source": []
  },
  {
   "cell_type": "code",
   "execution_count": null,
   "metadata": {},
   "outputs": [],
   "source": []
  },
  {
   "cell_type": "code",
   "execution_count": null,
   "metadata": {},
   "outputs": [],
   "source": []
  }
 ],
 "metadata": {
  "kernelspec": {
   "display_name": "Python 3",
   "language": "python",
   "name": "python3"
  },
  "language_info": {
   "codemirror_mode": {
    "name": "ipython",
    "version": 3
   },
   "file_extension": ".py",
   "mimetype": "text/x-python",
   "name": "python",
   "nbconvert_exporter": "python",
   "pygments_lexer": "ipython3",
   "version": "3.7.6"
  },
  "toc": {
   "base_numbering": 1,
   "nav_menu": {},
   "number_sections": true,
   "sideBar": true,
   "skip_h1_title": false,
   "title_cell": "Table of Contents",
   "title_sidebar": "Contents",
   "toc_cell": false,
   "toc_position": {},
   "toc_section_display": true,
   "toc_window_display": false
  }
 },
 "nbformat": 4,
 "nbformat_minor": 4
}
