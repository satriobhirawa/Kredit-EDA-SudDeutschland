{
 "cells": [
  {
   "cell_type": "code",
   "execution_count": 440,
   "metadata": {},
   "outputs": [],
   "source": [
    "import numpy as np\n",
    "import matplotlib.pyplot as plt\n",
    "from matplotlib.pyplot import figure\n",
    "import pandas as pd\n",
    "import seaborn as sns\n",
    "from sklearn.metrics import accuracy_score, roc_auc_score, f1_score, confusion_matrix, classification_report, recall_score, precision_score, plot_roc_curve\n",
    "from sklearn.metrics import plot_confusion_matrix"
   ]
  },
  {
   "cell_type": "markdown",
   "metadata": {},
   "source": [
    "## Reine Daten"
   ]
  },
  {
   "cell_type": "code",
   "execution_count": 441,
   "metadata": {},
   "outputs": [],
   "source": [
    "df_raw = pd.read_csv('kredit.csv')"
   ]
  },
  {
   "cell_type": "code",
   "execution_count": 442,
   "metadata": {},
   "outputs": [],
   "source": [
    "df = df_raw.copy(deep=True)"
   ]
  },
  {
   "cell_type": "code",
   "execution_count": 443,
   "metadata": {},
   "outputs": [],
   "source": [
    "df['zahlung pro monat'] = df['hoehe'] / df['laufzeit']"
   ]
  },
  {
   "cell_type": "code",
   "execution_count": 444,
   "metadata": {},
   "outputs": [
    {
     "data": {
      "text/html": [
       "<div>\n",
       "<style scoped>\n",
       "    .dataframe tbody tr th:only-of-type {\n",
       "        vertical-align: middle;\n",
       "    }\n",
       "\n",
       "    .dataframe tbody tr th {\n",
       "        vertical-align: top;\n",
       "    }\n",
       "\n",
       "    .dataframe thead th {\n",
       "        text-align: right;\n",
       "    }\n",
       "</style>\n",
       "<table border=\"1\" class=\"dataframe\">\n",
       "  <thead>\n",
       "    <tr style=\"text-align: right;\">\n",
       "      <th></th>\n",
       "      <th>kredit</th>\n",
       "      <th>laufkont</th>\n",
       "      <th>laufzeit</th>\n",
       "      <th>moral</th>\n",
       "      <th>verw</th>\n",
       "      <th>hoehe</th>\n",
       "      <th>sparkont</th>\n",
       "      <th>beszeit</th>\n",
       "      <th>rate</th>\n",
       "      <th>famges</th>\n",
       "      <th>...</th>\n",
       "      <th>verm</th>\n",
       "      <th>alter</th>\n",
       "      <th>weitkred</th>\n",
       "      <th>wohn</th>\n",
       "      <th>bishkred</th>\n",
       "      <th>beruf</th>\n",
       "      <th>pers</th>\n",
       "      <th>telef</th>\n",
       "      <th>gastarb</th>\n",
       "      <th>zahlung pro monat</th>\n",
       "    </tr>\n",
       "  </thead>\n",
       "  <tbody>\n",
       "    <tr>\n",
       "      <th>0</th>\n",
       "      <td>1</td>\n",
       "      <td>1</td>\n",
       "      <td>18</td>\n",
       "      <td>4</td>\n",
       "      <td>2</td>\n",
       "      <td>1049</td>\n",
       "      <td>1</td>\n",
       "      <td>2</td>\n",
       "      <td>4</td>\n",
       "      <td>2</td>\n",
       "      <td>...</td>\n",
       "      <td>2</td>\n",
       "      <td>21</td>\n",
       "      <td>3</td>\n",
       "      <td>1</td>\n",
       "      <td>1</td>\n",
       "      <td>3</td>\n",
       "      <td>1</td>\n",
       "      <td>1</td>\n",
       "      <td>1</td>\n",
       "      <td>58.277778</td>\n",
       "    </tr>\n",
       "    <tr>\n",
       "      <th>1</th>\n",
       "      <td>1</td>\n",
       "      <td>1</td>\n",
       "      <td>9</td>\n",
       "      <td>4</td>\n",
       "      <td>0</td>\n",
       "      <td>2799</td>\n",
       "      <td>1</td>\n",
       "      <td>3</td>\n",
       "      <td>2</td>\n",
       "      <td>3</td>\n",
       "      <td>...</td>\n",
       "      <td>1</td>\n",
       "      <td>36</td>\n",
       "      <td>3</td>\n",
       "      <td>1</td>\n",
       "      <td>2</td>\n",
       "      <td>3</td>\n",
       "      <td>2</td>\n",
       "      <td>1</td>\n",
       "      <td>1</td>\n",
       "      <td>311.000000</td>\n",
       "    </tr>\n",
       "    <tr>\n",
       "      <th>2</th>\n",
       "      <td>1</td>\n",
       "      <td>2</td>\n",
       "      <td>12</td>\n",
       "      <td>2</td>\n",
       "      <td>9</td>\n",
       "      <td>841</td>\n",
       "      <td>2</td>\n",
       "      <td>4</td>\n",
       "      <td>2</td>\n",
       "      <td>2</td>\n",
       "      <td>...</td>\n",
       "      <td>1</td>\n",
       "      <td>23</td>\n",
       "      <td>3</td>\n",
       "      <td>1</td>\n",
       "      <td>1</td>\n",
       "      <td>2</td>\n",
       "      <td>1</td>\n",
       "      <td>1</td>\n",
       "      <td>1</td>\n",
       "      <td>70.083333</td>\n",
       "    </tr>\n",
       "    <tr>\n",
       "      <th>3</th>\n",
       "      <td>1</td>\n",
       "      <td>1</td>\n",
       "      <td>12</td>\n",
       "      <td>4</td>\n",
       "      <td>0</td>\n",
       "      <td>2122</td>\n",
       "      <td>1</td>\n",
       "      <td>3</td>\n",
       "      <td>3</td>\n",
       "      <td>3</td>\n",
       "      <td>...</td>\n",
       "      <td>1</td>\n",
       "      <td>39</td>\n",
       "      <td>3</td>\n",
       "      <td>1</td>\n",
       "      <td>2</td>\n",
       "      <td>2</td>\n",
       "      <td>2</td>\n",
       "      <td>1</td>\n",
       "      <td>2</td>\n",
       "      <td>176.833333</td>\n",
       "    </tr>\n",
       "    <tr>\n",
       "      <th>4</th>\n",
       "      <td>1</td>\n",
       "      <td>1</td>\n",
       "      <td>12</td>\n",
       "      <td>4</td>\n",
       "      <td>0</td>\n",
       "      <td>2171</td>\n",
       "      <td>1</td>\n",
       "      <td>3</td>\n",
       "      <td>4</td>\n",
       "      <td>3</td>\n",
       "      <td>...</td>\n",
       "      <td>2</td>\n",
       "      <td>38</td>\n",
       "      <td>1</td>\n",
       "      <td>2</td>\n",
       "      <td>2</td>\n",
       "      <td>2</td>\n",
       "      <td>1</td>\n",
       "      <td>1</td>\n",
       "      <td>2</td>\n",
       "      <td>180.916667</td>\n",
       "    </tr>\n",
       "  </tbody>\n",
       "</table>\n",
       "<p>5 rows × 22 columns</p>\n",
       "</div>"
      ],
      "text/plain": [
       "   kredit  laufkont  laufzeit  moral  verw  hoehe  sparkont  beszeit  rate  \\\n",
       "0       1         1        18      4     2   1049         1        2     4   \n",
       "1       1         1         9      4     0   2799         1        3     2   \n",
       "2       1         2        12      2     9    841         2        4     2   \n",
       "3       1         1        12      4     0   2122         1        3     3   \n",
       "4       1         1        12      4     0   2171         1        3     4   \n",
       "\n",
       "   famges  ...  verm  alter  weitkred  wohn  bishkred  beruf  pers  telef  \\\n",
       "0       2  ...     2     21         3     1         1      3     1      1   \n",
       "1       3  ...     1     36         3     1         2      3     2      1   \n",
       "2       2  ...     1     23         3     1         1      2     1      1   \n",
       "3       3  ...     1     39         3     1         2      2     2      1   \n",
       "4       3  ...     2     38         1     2         2      2     1      1   \n",
       "\n",
       "   gastarb  zahlung pro monat  \n",
       "0        1          58.277778  \n",
       "1        1         311.000000  \n",
       "2        1          70.083333  \n",
       "3        2         176.833333  \n",
       "4        2         180.916667  \n",
       "\n",
       "[5 rows x 22 columns]"
      ]
     },
     "execution_count": 444,
     "metadata": {},
     "output_type": "execute_result"
    }
   ],
   "source": [
    "df.head()"
   ]
  },
  {
   "cell_type": "code",
   "execution_count": 445,
   "metadata": {},
   "outputs": [],
   "source": [
    "X = df.drop('kredit', axis=1)"
   ]
  },
  {
   "cell_type": "code",
   "execution_count": 446,
   "metadata": {},
   "outputs": [],
   "source": [
    "y = df['kredit']"
   ]
  },
  {
   "cell_type": "code",
   "execution_count": 447,
   "metadata": {},
   "outputs": [],
   "source": [
    "####### Für Skalierung bis hier, zu 2 Version #######"
   ]
  },
  {
   "cell_type": "code",
   "execution_count": 448,
   "metadata": {},
   "outputs": [],
   "source": [
    "from sklearn.model_selection import train_test_split"
   ]
  },
  {
   "cell_type": "code",
   "execution_count": 449,
   "metadata": {},
   "outputs": [],
   "source": [
    "X_train, X_other, y_train, y_other = train_test_split(X, y, test_size=0.3, random_state=42)"
   ]
  },
  {
   "cell_type": "code",
   "execution_count": 450,
   "metadata": {},
   "outputs": [],
   "source": [
    "X_eval, X_test, y_eval, y_test = train_test_split(X_other, y_other, test_size=0.5, random_state=42)"
   ]
  },
  {
   "cell_type": "markdown",
   "metadata": {},
   "source": [
    "## Version \n",
    "\n",
    "- nicht skaliert werden\n",
    "- das Parameter nicht optimiert werden"
   ]
  },
  {
   "cell_type": "markdown",
   "metadata": {},
   "source": [
    "### Logit"
   ]
  },
  {
   "cell_type": "code",
   "execution_count": 410,
   "metadata": {},
   "outputs": [
    {
     "data": {
      "text/plain": [
       "700"
      ]
     },
     "execution_count": 410,
     "metadata": {},
     "output_type": "execute_result"
    }
   ],
   "source": [
    "len(X_train)"
   ]
  },
  {
   "cell_type": "code",
   "execution_count": 411,
   "metadata": {},
   "outputs": [
    {
     "data": {
      "text/plain": [
       "150"
      ]
     },
     "execution_count": 411,
     "metadata": {},
     "output_type": "execute_result"
    }
   ],
   "source": [
    "len(X_eval)"
   ]
  },
  {
   "cell_type": "code",
   "execution_count": 412,
   "metadata": {},
   "outputs": [
    {
     "data": {
      "text/plain": [
       "150"
      ]
     },
     "execution_count": 412,
     "metadata": {},
     "output_type": "execute_result"
    }
   ],
   "source": [
    "len(X_test)"
   ]
  },
  {
   "cell_type": "code",
   "execution_count": 413,
   "metadata": {},
   "outputs": [],
   "source": [
    "from sklearn.linear_model import LogisticRegression\n",
    "\n",
    "logit_base = LogisticRegression()"
   ]
  },
  {
   "cell_type": "code",
   "execution_count": 414,
   "metadata": {},
   "outputs": [
    {
     "name": "stderr",
     "output_type": "stream",
     "text": [
      "E:\\Anaconda3\\lib\\site-packages\\sklearn\\linear_model\\_logistic.py:940: ConvergenceWarning: lbfgs failed to converge (status=1):\n",
      "STOP: TOTAL NO. of ITERATIONS REACHED LIMIT.\n",
      "\n",
      "Increase the number of iterations (max_iter) or scale the data as shown in:\n",
      "    https://scikit-learn.org/stable/modules/preprocessing.html\n",
      "Please also refer to the documentation for alternative solver options:\n",
      "    https://scikit-learn.org/stable/modules/linear_model.html#logistic-regression\n",
      "  extra_warning_msg=_LOGISTIC_SOLVER_CONVERGENCE_MSG)\n"
     ]
    },
    {
     "data": {
      "text/plain": [
       "LogisticRegression(C=1.0, class_weight=None, dual=False, fit_intercept=True,\n",
       "                   intercept_scaling=1, l1_ratio=None, max_iter=100,\n",
       "                   multi_class='auto', n_jobs=None, penalty='l2',\n",
       "                   random_state=None, solver='lbfgs', tol=0.0001, verbose=0,\n",
       "                   warm_start=False)"
      ]
     },
     "execution_count": 414,
     "metadata": {},
     "output_type": "execute_result"
    }
   ],
   "source": [
    "logit_base.fit(X_train, y_train)"
   ]
  },
  {
   "cell_type": "code",
   "execution_count": 418,
   "metadata": {},
   "outputs": [],
   "source": [
    "# testen mit Evaluation\n",
    "\n",
    "y_eval_pred = logit_base.predict(X_eval)\n",
    "y_eval_pred_proba = logit_base.predict_proba(X_eval)[:, 1]\n",
    "\n",
    "# testen mit train\n",
    "\n",
    "y_train_class = logit_base.predict(X_train)\n",
    "y_train_proba = logit_base.predict_proba(X_train)[:, 1]"
   ]
  },
  {
   "cell_type": "code",
   "execution_count": 421,
   "metadata": {},
   "outputs": [
    {
     "name": "stdout",
     "output_type": "stream",
     "text": [
      "0.8022875816993464\n",
      "0.831858407079646\n",
      "0.7466666666666667\n"
     ]
    }
   ],
   "source": [
    "# eval score\n",
    "\n",
    "print(roc_auc_score(y_eval, y_eval_pred_proba))\n",
    "print(f1_score(y_eval, y_eval_pred))\n",
    "print(accuracy_score(y_eval, y_eval_pred))"
   ]
  },
  {
   "cell_type": "code",
   "execution_count": 422,
   "metadata": {},
   "outputs": [
    {
     "name": "stdout",
     "output_type": "stream",
     "text": [
      "0.7837515634771732\n",
      "0.8444863336475023\n",
      "0.7642857142857142\n"
     ]
    }
   ],
   "source": [
    "# train score\n",
    "\n",
    "print(roc_auc_score(y_train, y_train_proba))\n",
    "print(f1_score(y_train, y_train_class))\n",
    "print(accuracy_score(y_train, y_train_class))\n"
   ]
  },
  {
   "cell_type": "code",
   "execution_count": null,
   "metadata": {},
   "outputs": [],
   "source": []
  },
  {
   "cell_type": "code",
   "execution_count": 24,
   "metadata": {},
   "outputs": [],
   "source": [
    "# report mit test\n",
    "\n",
    "y_final_test_pred = logit_base.predict(X_test)"
   ]
  },
  {
   "cell_type": "code",
   "execution_count": 26,
   "metadata": {},
   "outputs": [
    {
     "data": {
      "text/plain": [
       "<sklearn.metrics._plot.confusion_matrix.ConfusionMatrixDisplay at 0x16d09777188>"
      ]
     },
     "execution_count": 26,
     "metadata": {},
     "output_type": "execute_result"
    },
    {
     "data": {
      "image/png": "[encoded data removed]",
      "text/plain": [
       "<Figure size 432x288 with 2 Axes>"
      ]
     },
     "metadata": {
      "needs_background": "light"
     },
     "output_type": "display_data"
    }
   ],
   "source": [
    "plot_confusion_matrix(logit_base, X_test, y_test)"
   ]
  },
  {
   "cell_type": "code",
   "execution_count": 28,
   "metadata": {},
   "outputs": [
    {
     "name": "stdout",
     "output_type": "stream",
     "text": [
      "              precision    recall  f1-score   support\n",
      "\n",
      "           0       0.60      0.34      0.43        44\n",
      "           1       0.77      0.91      0.83       106\n",
      "\n",
      "    accuracy                           0.74       150\n",
      "   macro avg       0.68      0.62      0.63       150\n",
      "weighted avg       0.72      0.74      0.71       150\n",
      "\n"
     ]
    }
   ],
   "source": [
    "print(classification_report(y_test, y_final_test_pred))"
   ]
  },
  {
   "cell_type": "code",
   "execution_count": 31,
   "metadata": {},
   "outputs": [],
   "source": [
    "y_final_test_pred_proba = logit_base.predict_proba(X_test)[:, 1]"
   ]
  },
  {
   "cell_type": "code",
   "execution_count": 32,
   "metadata": {},
   "outputs": [
    {
     "data": {
      "text/plain": [
       "0.7575042881646656"
      ]
     },
     "execution_count": 32,
     "metadata": {},
     "output_type": "execute_result"
    }
   ],
   "source": [
    "roc_auc_score(y_test, y_final_test_pred_proba)\n"
   ]
  },
  {
   "cell_type": "markdown",
   "metadata": {},
   "source": [
    "### K-Nearest Neighbors"
   ]
  },
  {
   "cell_type": "code",
   "execution_count": 434,
   "metadata": {},
   "outputs": [],
   "source": [
    "from sklearn.neighbors import KNeighborsClassifier"
   ]
  },
  {
   "cell_type": "code",
   "execution_count": 435,
   "metadata": {},
   "outputs": [],
   "source": [
    "knn_base = KNeighborsClassifier()"
   ]
  },
  {
   "cell_type": "code",
   "execution_count": 436,
   "metadata": {},
   "outputs": [
    {
     "data": {
      "text/plain": [
       "KNeighborsClassifier(algorithm='auto', leaf_size=30, metric='minkowski',\n",
       "                     metric_params=None, n_jobs=None, n_neighbors=5, p=2,\n",
       "                     weights='uniform')"
      ]
     },
     "execution_count": 436,
     "metadata": {},
     "output_type": "execute_result"
    }
   ],
   "source": [
    "knn_base.fit(X_train, y_train)"
   ]
  },
  {
   "cell_type": "code",
   "execution_count": 437,
   "metadata": {},
   "outputs": [],
   "source": [
    "# testen mit Evaluation\n",
    "\n",
    "y_eval_pred = knn_base.predict(X_eval)\n",
    "y_eval_pred_proba = knn_base.predict_proba(X_eval)[:, 1]\n",
    "\n",
    "# testen mit train\n",
    "\n",
    "y_train_class = knn_base.predict(X_train)\n",
    "y_train_proba = knn_base.predict_proba(X_train)[:, 1]"
   ]
  },
  {
   "cell_type": "code",
   "execution_count": 438,
   "metadata": {},
   "outputs": [
    {
     "name": "stdout",
     "output_type": "stream",
     "text": [
      "0.6030433006535947\n",
      "0.7947598253275109\n",
      "0.6866666666666666\n"
     ]
    }
   ],
   "source": [
    "# eval score\n",
    "\n",
    "print(roc_auc_score(y_eval, y_eval_pred_proba))\n",
    "print(f1_score(y_eval, y_eval_pred))\n",
    "print(accuracy_score(y_eval, y_eval_pred))"
   ]
  },
  {
   "cell_type": "code",
   "execution_count": 439,
   "metadata": {},
   "outputs": [
    {
     "name": "stdout",
     "output_type": "stream",
     "text": [
      "0.8156758130081301\n",
      "0.8460076045627376\n",
      "0.7685714285714286\n"
     ]
    }
   ],
   "source": [
    "# train score\n",
    "\n",
    "print(roc_auc_score(y_train, y_train_proba))\n",
    "print(f1_score(y_train, y_train_class))\n",
    "print(accuracy_score(y_train, y_train_class))\n"
   ]
  },
  {
   "cell_type": "code",
   "execution_count": 36,
   "metadata": {},
   "outputs": [
    {
     "data": {
      "text/plain": [
       "0.6866666666666666"
      ]
     },
     "execution_count": 36,
     "metadata": {},
     "output_type": "execute_result"
    }
   ],
   "source": [
    "accuracy_score(y_eval, y_eval_pred)"
   ]
  },
  {
   "cell_type": "code",
   "execution_count": 37,
   "metadata": {},
   "outputs": [],
   "source": [
    "# report\n",
    "\n",
    "y_final_test_pred = knn_base.predict(X_test)"
   ]
  },
  {
   "cell_type": "code",
   "execution_count": 38,
   "metadata": {},
   "outputs": [
    {
     "data": {
      "text/plain": [
       "<sklearn.metrics._plot.confusion_matrix.ConfusionMatrixDisplay at 0x1bacfb65d88>"
      ]
     },
     "execution_count": 38,
     "metadata": {},
     "output_type": "execute_result"
    },
    {
     "data": {
      "image/png": "[encoded data removed]",
      "text/plain": [
       "<Figure size 432x288 with 2 Axes>"
      ]
     },
     "metadata": {
      "needs_background": "light"
     },
     "output_type": "display_data"
    }
   ],
   "source": [
    "plot_confusion_matrix(knn_base, X_test, y_test)"
   ]
  },
  {
   "cell_type": "code",
   "execution_count": 53,
   "metadata": {},
   "outputs": [
    {
     "name": "stdout",
     "output_type": "stream",
     "text": [
      "              precision    recall  f1-score   support\n",
      "\n",
      "           0       0.30      0.14      0.19        44\n",
      "           1       0.71      0.87      0.78       106\n",
      "\n",
      "    accuracy                           0.65       150\n",
      "   macro avg       0.50      0.50      0.48       150\n",
      "weighted avg       0.59      0.65      0.61       150\n",
      "\n"
     ]
    }
   ],
   "source": [
    "print(classification_report(y_test, y_final_test_pred))"
   ]
  },
  {
   "cell_type": "code",
   "execution_count": 54,
   "metadata": {},
   "outputs": [],
   "source": [
    "y_final_test_pred_proba = knn_base.predict_proba(X_test)[:, 1]"
   ]
  },
  {
   "cell_type": "code",
   "execution_count": 55,
   "metadata": {},
   "outputs": [
    {
     "data": {
      "text/plain": [
       "0.5266938250428816"
      ]
     },
     "execution_count": 55,
     "metadata": {},
     "output_type": "execute_result"
    }
   ],
   "source": [
    "roc_auc_score(y_test, y_final_test_pred_proba)"
   ]
  },
  {
   "cell_type": "markdown",
   "metadata": {},
   "source": [
    "### SVM"
   ]
  },
  {
   "cell_type": "code",
   "execution_count": 451,
   "metadata": {},
   "outputs": [],
   "source": [
    "from sklearn.svm import SVC"
   ]
  },
  {
   "cell_type": "code",
   "execution_count": 452,
   "metadata": {},
   "outputs": [],
   "source": [
    "svm_base = SVC(kernel='linear',probability= True)"
   ]
  },
  {
   "cell_type": "code",
   "execution_count": 453,
   "metadata": {},
   "outputs": [
    {
     "data": {
      "text/plain": [
       "SVC(C=1.0, break_ties=False, cache_size=200, class_weight=None, coef0=0.0,\n",
       "    decision_function_shape='ovr', degree=3, gamma='scale', kernel='linear',\n",
       "    max_iter=-1, probability=True, random_state=None, shrinking=True, tol=0.001,\n",
       "    verbose=False)"
      ]
     },
     "execution_count": 453,
     "metadata": {},
     "output_type": "execute_result"
    }
   ],
   "source": [
    "svm_base.fit(X_train, y_train)"
   ]
  },
  {
   "cell_type": "code",
   "execution_count": 454,
   "metadata": {},
   "outputs": [],
   "source": [
    "# testen mit Evaluation\n",
    "\n",
    "y_eval_pred =svm_base.predict(X_eval)\n",
    "y_eval_pred_proba = svm_base.predict_proba(X_eval)[:, 1]\n",
    "\n",
    "# testen mit train\n",
    "\n",
    "y_train_class = svm_base.predict(X_train)\n",
    "y_train_proba = svm_base.predict_proba(X_train)[:, 1]"
   ]
  },
  {
   "cell_type": "code",
   "execution_count": 455,
   "metadata": {},
   "outputs": [
    {
     "name": "stdout",
     "output_type": "stream",
     "text": [
      "0.7602124183006537\n",
      "0.8019323671497584\n",
      "0.7266666666666667\n"
     ]
    }
   ],
   "source": [
    "# eval score\n",
    "\n",
    "print(roc_auc_score(y_eval, y_eval_pred_proba))\n",
    "print(f1_score(y_eval, y_eval_pred))\n",
    "print(accuracy_score(y_eval, y_eval_pred))"
   ]
  },
  {
   "cell_type": "code",
   "execution_count": 456,
   "metadata": {},
   "outputs": [
    {
     "name": "stdout",
     "output_type": "stream",
     "text": [
      "0.7663090212632895\n",
      "0.8221343873517788\n",
      "0.7428571428571429\n"
     ]
    }
   ],
   "source": [
    "# train score\n",
    "\n",
    "print(roc_auc_score(y_train, y_train_proba))\n",
    "print(f1_score(y_train, y_train_class))\n",
    "print(accuracy_score(y_train, y_train_class))\n"
   ]
  },
  {
   "cell_type": "code",
   "execution_count": 16,
   "metadata": {},
   "outputs": [
    {
     "data": {
      "text/plain": [
       "0.7266666666666667"
      ]
     },
     "execution_count": 16,
     "metadata": {},
     "output_type": "execute_result"
    }
   ],
   "source": [
    "accuracy_score(y_eval, y_eval_pred)"
   ]
  },
  {
   "cell_type": "code",
   "execution_count": 17,
   "metadata": {},
   "outputs": [],
   "source": [
    "# report\n",
    "\n",
    "y_final_test_pred = svm_base.predict(X_test)"
   ]
  },
  {
   "cell_type": "code",
   "execution_count": 18,
   "metadata": {},
   "outputs": [
    {
     "data": {
      "text/plain": [
       "<sklearn.metrics._plot.confusion_matrix.ConfusionMatrixDisplay at 0x1bacf2efac8>"
      ]
     },
     "execution_count": 18,
     "metadata": {},
     "output_type": "execute_result"
    },
    {
     "data": {
      "image/png": "[encoded data removed]",
      "text/plain": [
       "<Figure size 432x288 with 2 Axes>"
      ]
     },
     "metadata": {
      "needs_background": "light"
     },
     "output_type": "display_data"
    }
   ],
   "source": [
    "plot_confusion_matrix(svm_base, X_test, y_test)"
   ]
  },
  {
   "cell_type": "code",
   "execution_count": 19,
   "metadata": {},
   "outputs": [
    {
     "name": "stdout",
     "output_type": "stream",
     "text": [
      "              precision    recall  f1-score   support\n",
      "\n",
      "           0       0.58      0.41      0.48        44\n",
      "           1       0.78      0.88      0.83       106\n",
      "\n",
      "    accuracy                           0.74       150\n",
      "   macro avg       0.68      0.64      0.65       150\n",
      "weighted avg       0.72      0.74      0.72       150\n",
      "\n"
     ]
    }
   ],
   "source": [
    "print(classification_report(y_test, y_final_test_pred))"
   ]
  },
  {
   "cell_type": "code",
   "execution_count": 20,
   "metadata": {},
   "outputs": [],
   "source": [
    "y_final_test_pred_proba = svm_base.predict_proba(X_test)[:, 1]"
   ]
  },
  {
   "cell_type": "code",
   "execution_count": 21,
   "metadata": {},
   "outputs": [
    {
     "data": {
      "text/plain": [
       "0.7266295025728987"
      ]
     },
     "execution_count": 21,
     "metadata": {},
     "output_type": "execute_result"
    }
   ],
   "source": [
    "roc_auc_score(y_test, y_final_test_pred_proba)"
   ]
  },
  {
   "cell_type": "markdown",
   "metadata": {},
   "source": [
    "## Version\n",
    "\n",
    "- numerisch Features skaliert werden"
   ]
  },
  {
   "cell_type": "code",
   "execution_count": 377,
   "metadata": {},
   "outputs": [],
   "source": [
    "categorical_columns = ['laufkont', 'moral', 'verw', 'sparkont', 'beszeit',\n",
    "       'rate', 'famges', 'buerge', 'wohnzeit', 'verm', 'weitkred',\n",
    "       'wohn', 'bishkred', 'beruf', 'pers', 'telef', 'gastarb']\n",
    "\n",
    "numerical_columns = ['laufzeit', 'hoehe', 'alter', 'zahlung pro monat']\n",
    "\n",
    "X_cat = df[categorical_columns]\n",
    "X_num = df[numerical_columns].values"
   ]
  },
  {
   "cell_type": "code",
   "execution_count": 378,
   "metadata": {},
   "outputs": [
    {
     "data": {
      "text/plain": [
       "array([[1.80000000e+01, 1.04900000e+03, 2.10000000e+01, 5.82777778e+01],\n",
       "       [9.00000000e+00, 2.79900000e+03, 3.60000000e+01, 3.11000000e+02],\n",
       "       [1.20000000e+01, 8.41000000e+02, 2.30000000e+01, 7.00833333e+01],\n",
       "       ...,\n",
       "       [2.10000000e+01, 1.26800000e+04, 3.00000000e+01, 6.03809524e+02],\n",
       "       [1.20000000e+01, 6.46800000e+03, 5.20000000e+01, 5.39000000e+02],\n",
       "       [3.00000000e+01, 6.35000000e+03, 3.10000000e+01, 2.11666667e+02]])"
      ]
     },
     "execution_count": 378,
     "metadata": {},
     "output_type": "execute_result"
    }
   ],
   "source": [
    "X_num"
   ]
  },
  {
   "cell_type": "code",
   "execution_count": 379,
   "metadata": {},
   "outputs": [],
   "source": [
    "X = np.hstack((X_cat, X_num))"
   ]
  },
  {
   "cell_type": "code",
   "execution_count": 380,
   "metadata": {},
   "outputs": [
    {
     "data": {
      "text/plain": [
       "array([[1.80000000e+01, 1.04900000e+03, 2.10000000e+01, 5.82777778e+01],\n",
       "       [9.00000000e+00, 2.79900000e+03, 3.60000000e+01, 3.11000000e+02],\n",
       "       [1.20000000e+01, 8.41000000e+02, 2.30000000e+01, 7.00833333e+01],\n",
       "       ...,\n",
       "       [2.10000000e+01, 1.26800000e+04, 3.00000000e+01, 6.03809524e+02],\n",
       "       [1.20000000e+01, 6.46800000e+03, 5.20000000e+01, 5.39000000e+02],\n",
       "       [3.00000000e+01, 6.35000000e+03, 3.10000000e+01, 2.11666667e+02]])"
      ]
     },
     "execution_count": 380,
     "metadata": {},
     "output_type": "execute_result"
    }
   ],
   "source": [
    "X[ :,-4:]"
   ]
  },
  {
   "cell_type": "code",
   "execution_count": 381,
   "metadata": {},
   "outputs": [],
   "source": [
    "X_train, X_other, y_train, y_other = train_test_split(X, y, test_size=0.3, random_state=42)"
   ]
  },
  {
   "cell_type": "code",
   "execution_count": 382,
   "metadata": {},
   "outputs": [],
   "source": [
    "X_eval, X_test, y_eval, y_test = train_test_split(X_other, y_other, test_size=0.5, random_state=42)"
   ]
  },
  {
   "cell_type": "code",
   "execution_count": 383,
   "metadata": {},
   "outputs": [],
   "source": [
    "from sklearn.preprocessing import OneHotEncoder, StandardScaler"
   ]
  },
  {
   "cell_type": "code",
   "execution_count": 384,
   "metadata": {},
   "outputs": [],
   "source": [
    "scaler = StandardScaler()\n",
    "X_train[:, -4:] = scaler.fit_transform(X_train[:, -4:])"
   ]
  },
  {
   "cell_type": "code",
   "execution_count": 385,
   "metadata": {},
   "outputs": [],
   "source": [
    "X_eval[:, -4:] = scaler.transform(X_eval[:, -4:])"
   ]
  },
  {
   "cell_type": "code",
   "execution_count": 386,
   "metadata": {},
   "outputs": [],
   "source": [
    "X_test[:, -4:] = scaler.transform(X_test[:, -4:])"
   ]
  },
  {
   "cell_type": "code",
   "execution_count": 127,
   "metadata": {},
   "outputs": [],
   "source": [
    "########### zu 3.Version für Cross Validation #########"
   ]
  },
  {
   "cell_type": "markdown",
   "metadata": {},
   "source": [
    "### Logit v2"
   ]
  },
  {
   "cell_type": "code",
   "execution_count": 62,
   "metadata": {},
   "outputs": [],
   "source": [
    "from sklearn.linear_model import LogisticRegression\n",
    "\n",
    "logit_v2 = LogisticRegression()"
   ]
  },
  {
   "cell_type": "code",
   "execution_count": 63,
   "metadata": {},
   "outputs": [
    {
     "name": "stderr",
     "output_type": "stream",
     "text": [
      "E:\\Anaconda3\\lib\\site-packages\\sklearn\\linear_model\\_logistic.py:940: ConvergenceWarning: lbfgs failed to converge (status=1):\n",
      "STOP: TOTAL NO. of ITERATIONS REACHED LIMIT.\n",
      "\n",
      "Increase the number of iterations (max_iter) or scale the data as shown in:\n",
      "    https://scikit-learn.org/stable/modules/preprocessing.html\n",
      "Please also refer to the documentation for alternative solver options:\n",
      "    https://scikit-learn.org/stable/modules/linear_model.html#logistic-regression\n",
      "  extra_warning_msg=_LOGISTIC_SOLVER_CONVERGENCE_MSG)\n"
     ]
    },
    {
     "data": {
      "text/plain": [
       "LogisticRegression(C=1.0, class_weight=None, dual=False, fit_intercept=True,\n",
       "                   intercept_scaling=1, l1_ratio=None, max_iter=100,\n",
       "                   multi_class='auto', n_jobs=None, penalty='l2',\n",
       "                   random_state=None, solver='lbfgs', tol=0.0001, verbose=0,\n",
       "                   warm_start=False)"
      ]
     },
     "execution_count": 63,
     "metadata": {},
     "output_type": "execute_result"
    }
   ],
   "source": [
    "logit_v2.fit(X_train, y_train)"
   ]
  },
  {
   "cell_type": "code",
   "execution_count": 64,
   "metadata": {},
   "outputs": [],
   "source": [
    "# testen mit Evaluation\n",
    "\n",
    "y_eval_pred = logit_v2.predict(X_eval)"
   ]
  },
  {
   "cell_type": "code",
   "execution_count": 66,
   "metadata": {},
   "outputs": [],
   "source": [
    "y_eval_pred_proba = logit_v2.predict_proba(X_eval)"
   ]
  },
  {
   "cell_type": "code",
   "execution_count": 67,
   "metadata": {},
   "outputs": [
    {
     "data": {
      "text/plain": [
       "0.7466666666666667"
      ]
     },
     "execution_count": 67,
     "metadata": {},
     "output_type": "execute_result"
    }
   ],
   "source": [
    "\n",
    "accuracy_score(y_eval, y_eval_pred)"
   ]
  },
  {
   "cell_type": "code",
   "execution_count": 68,
   "metadata": {},
   "outputs": [],
   "source": [
    "# report\n",
    "\n",
    "y_final_test_pred = logit_v2.predict(X_test)"
   ]
  },
  {
   "cell_type": "code",
   "execution_count": 69,
   "metadata": {},
   "outputs": [
    {
     "data": {
      "text/plain": [
       "<sklearn.metrics._plot.confusion_matrix.ConfusionMatrixDisplay at 0x1bad0bdae08>"
      ]
     },
     "execution_count": 69,
     "metadata": {},
     "output_type": "execute_result"
    },
    {
     "data": {
      "image/png": "[encoded data removed]",
      "text/plain": [
       "<Figure size 432x288 with 2 Axes>"
      ]
     },
     "metadata": {
      "needs_background": "light"
     },
     "output_type": "display_data"
    }
   ],
   "source": [
    "plot_confusion_matrix(logit_v2, X_test, y_test)"
   ]
  },
  {
   "cell_type": "code",
   "execution_count": 70,
   "metadata": {},
   "outputs": [
    {
     "name": "stdout",
     "output_type": "stream",
     "text": [
      "              precision    recall  f1-score   support\n",
      "\n",
      "           0       0.67      0.45      0.54        44\n",
      "           1       0.80      0.91      0.85       106\n",
      "\n",
      "    accuracy                           0.77       150\n",
      "   macro avg       0.73      0.68      0.70       150\n",
      "weighted avg       0.76      0.77      0.76       150\n",
      "\n"
     ]
    }
   ],
   "source": [
    "print(classification_report(y_test, y_final_test_pred))"
   ]
  },
  {
   "cell_type": "code",
   "execution_count": 71,
   "metadata": {},
   "outputs": [
    {
     "data": {
      "text/plain": [
       "0.7774442538593481"
      ]
     },
     "execution_count": 71,
     "metadata": {},
     "output_type": "execute_result"
    }
   ],
   "source": [
    "y_final_test_pred_proba = logit_v2.predict_proba(X_test)[:, 1]\n",
    "roc_auc_score(y_test, y_final_test_pred_proba)"
   ]
  },
  {
   "cell_type": "markdown",
   "metadata": {},
   "source": [
    "### KNN v2"
   ]
  },
  {
   "cell_type": "code",
   "execution_count": 89,
   "metadata": {},
   "outputs": [],
   "source": [
    "from sklearn.neighbors import KNeighborsClassifier\n",
    "\n",
    "knn_v2 = KNeighborsClassifier()"
   ]
  },
  {
   "cell_type": "code",
   "execution_count": 90,
   "metadata": {},
   "outputs": [
    {
     "data": {
      "text/plain": [
       "KNeighborsClassifier(algorithm='auto', leaf_size=30, metric='minkowski',\n",
       "                     metric_params=None, n_jobs=None, n_neighbors=5, p=2,\n",
       "                     weights='uniform')"
      ]
     },
     "execution_count": 90,
     "metadata": {},
     "output_type": "execute_result"
    }
   ],
   "source": [
    "knn_v2.fit(X_train, y_train)"
   ]
  },
  {
   "cell_type": "code",
   "execution_count": 91,
   "metadata": {},
   "outputs": [],
   "source": [
    "y_eval_pred = knn_v2.predict(X_eval)"
   ]
  },
  {
   "cell_type": "code",
   "execution_count": 92,
   "metadata": {},
   "outputs": [
    {
     "data": {
      "text/plain": [
       "0.74"
      ]
     },
     "execution_count": 92,
     "metadata": {},
     "output_type": "execute_result"
    }
   ],
   "source": [
    "accuracy_score(y_eval, y_eval_pred)"
   ]
  },
  {
   "cell_type": "code",
   "execution_count": 93,
   "metadata": {},
   "outputs": [],
   "source": [
    "# report\n",
    "\n",
    "y_final_test_pred = knn_v2.predict(X_test)"
   ]
  },
  {
   "cell_type": "code",
   "execution_count": 95,
   "metadata": {},
   "outputs": [
    {
     "data": {
      "text/plain": [
       "<sklearn.metrics._plot.confusion_matrix.ConfusionMatrixDisplay at 0x1bad0aebc48>"
      ]
     },
     "execution_count": 95,
     "metadata": {},
     "output_type": "execute_result"
    },
    {
     "data": {
      "image/png": "[encoded data removed]",
      "text/plain": [
       "<Figure size 432x288 with 2 Axes>"
      ]
     },
     "metadata": {
      "needs_background": "light"
     },
     "output_type": "display_data"
    }
   ],
   "source": [
    "plot_confusion_matrix(knn_v2, X_test, y_test)"
   ]
  },
  {
   "cell_type": "code",
   "execution_count": 96,
   "metadata": {},
   "outputs": [
    {
     "name": "stdout",
     "output_type": "stream",
     "text": [
      "              precision    recall  f1-score   support\n",
      "\n",
      "           0       0.64      0.48      0.55        44\n",
      "           1       0.80      0.89      0.84       106\n",
      "\n",
      "    accuracy                           0.77       150\n",
      "   macro avg       0.72      0.68      0.69       150\n",
      "weighted avg       0.75      0.77      0.76       150\n",
      "\n"
     ]
    }
   ],
   "source": [
    "print(classification_report(y_test, y_final_test_pred))"
   ]
  },
  {
   "cell_type": "code",
   "execution_count": 97,
   "metadata": {},
   "outputs": [
    {
     "data": {
      "text/plain": [
       "0.7549313893653518"
      ]
     },
     "execution_count": 97,
     "metadata": {},
     "output_type": "execute_result"
    }
   ],
   "source": [
    "y_final_test_pred_proba = knn_v2.predict_proba(X_test)[:, 1]\n",
    "roc_auc_score(y_test, y_final_test_pred_proba)"
   ]
  },
  {
   "cell_type": "markdown",
   "metadata": {},
   "source": [
    "### SVM v2"
   ]
  },
  {
   "cell_type": "code",
   "execution_count": 116,
   "metadata": {},
   "outputs": [],
   "source": [
    "from sklearn.svm import SVC\n",
    "\n",
    "svm_v2 = SVC(kernel='linear',probability= True)"
   ]
  },
  {
   "cell_type": "code",
   "execution_count": 117,
   "metadata": {},
   "outputs": [
    {
     "data": {
      "text/plain": [
       "SVC(C=1.0, break_ties=False, cache_size=200, class_weight=None, coef0=0.0,\n",
       "    decision_function_shape='ovr', degree=3, gamma='scale', kernel='linear',\n",
       "    max_iter=-1, probability=True, random_state=None, shrinking=True, tol=0.001,\n",
       "    verbose=False)"
      ]
     },
     "execution_count": 117,
     "metadata": {},
     "output_type": "execute_result"
    }
   ],
   "source": [
    "svm_v2.fit(X_train, y_train)"
   ]
  },
  {
   "cell_type": "code",
   "execution_count": 118,
   "metadata": {},
   "outputs": [],
   "source": [
    "y_eval_pred = svm_v2.predict(X_eval)"
   ]
  },
  {
   "cell_type": "code",
   "execution_count": 119,
   "metadata": {},
   "outputs": [
    {
     "data": {
      "text/plain": [
       "0.72"
      ]
     },
     "execution_count": 119,
     "metadata": {},
     "output_type": "execute_result"
    }
   ],
   "source": [
    "accuracy_score(y_eval, y_eval_pred)"
   ]
  },
  {
   "cell_type": "code",
   "execution_count": 120,
   "metadata": {},
   "outputs": [],
   "source": [
    "# report\n",
    "\n",
    "y_final_test_pred = svm_v2.predict(X_test)"
   ]
  },
  {
   "cell_type": "code",
   "execution_count": 121,
   "metadata": {},
   "outputs": [
    {
     "data": {
      "text/plain": [
       "<sklearn.metrics._plot.confusion_matrix.ConfusionMatrixDisplay at 0x1bacfc211c8>"
      ]
     },
     "execution_count": 121,
     "metadata": {},
     "output_type": "execute_result"
    },
    {
     "data": {
      "image/png": "[encoded data removed]",
      "text/plain": [
       "<Figure size 432x288 with 2 Axes>"
      ]
     },
     "metadata": {
      "needs_background": "light"
     },
     "output_type": "display_data"
    }
   ],
   "source": [
    "plot_confusion_matrix(svm_v2, X_test, y_test)"
   ]
  },
  {
   "cell_type": "code",
   "execution_count": 122,
   "metadata": {},
   "outputs": [
    {
     "name": "stdout",
     "output_type": "stream",
     "text": [
      "              precision    recall  f1-score   support\n",
      "\n",
      "           0       0.67      0.45      0.54        44\n",
      "           1       0.80      0.91      0.85       106\n",
      "\n",
      "    accuracy                           0.77       150\n",
      "   macro avg       0.73      0.68      0.70       150\n",
      "weighted avg       0.76      0.77      0.76       150\n",
      "\n"
     ]
    }
   ],
   "source": [
    "print(classification_report(y_test, y_final_test_pred))"
   ]
  },
  {
   "cell_type": "code",
   "execution_count": 123,
   "metadata": {},
   "outputs": [
    {
     "data": {
      "text/plain": [
       "0.7790523156089194"
      ]
     },
     "execution_count": 123,
     "metadata": {},
     "output_type": "execute_result"
    }
   ],
   "source": [
    "y_final_test_pred_proba = svm_v2.predict_proba(X_test)[:, 1]\n",
    "roc_auc_score(y_test, y_final_test_pred_proba)"
   ]
  },
  {
   "cell_type": "markdown",
   "metadata": {},
   "source": [
    "## Version\n",
    "- CV wird benutzt"
   ]
  },
  {
   "cell_type": "code",
   "execution_count": 258,
   "metadata": {},
   "outputs": [],
   "source": [
    "from sklearn.model_selection import KFold, cross_validate, cross_val_score\n",
    "\n",
    "\n",
    "kFoldCV = KFold(n_splits=5,shuffle=True,random_state=4)"
   ]
  },
  {
   "cell_type": "code",
   "execution_count": 215,
   "metadata": {},
   "outputs": [],
   "source": [
    "######## zu 4.Version für GridSearchCV #########"
   ]
  },
  {
   "cell_type": "markdown",
   "metadata": {},
   "source": [
    "### Logit v3"
   ]
  },
  {
   "cell_type": "code",
   "execution_count": 164,
   "metadata": {},
   "outputs": [],
   "source": [
    "from sklearn.linear_model import LogisticRegression\n",
    "\n",
    "logit_v3 = LogisticRegression(max_iter=1000)"
   ]
  },
  {
   "cell_type": "code",
   "execution_count": 165,
   "metadata": {},
   "outputs": [],
   "source": [
    "scores = cross_validate(logit_v3, X_train, y_train, \n",
    "                        scoring=['precision','recall','f1','roc_auc','accuracy'],\n",
    "                        cv= kFoldCV)"
   ]
  },
  {
   "cell_type": "code",
   "execution_count": 166,
   "metadata": {},
   "outputs": [],
   "source": [
    "scores = pd.DataFrame(scores)"
   ]
  },
  {
   "cell_type": "code",
   "execution_count": 167,
   "metadata": {},
   "outputs": [
    {
     "data": {
      "text/html": [
       "<div>\n",
       "<style scoped>\n",
       "    .dataframe tbody tr th:only-of-type {\n",
       "        vertical-align: middle;\n",
       "    }\n",
       "\n",
       "    .dataframe tbody tr th {\n",
       "        vertical-align: top;\n",
       "    }\n",
       "\n",
       "    .dataframe thead th {\n",
       "        text-align: right;\n",
       "    }\n",
       "</style>\n",
       "<table border=\"1\" class=\"dataframe\">\n",
       "  <thead>\n",
       "    <tr style=\"text-align: right;\">\n",
       "      <th></th>\n",
       "      <th>fit_time</th>\n",
       "      <th>score_time</th>\n",
       "      <th>test_precision</th>\n",
       "      <th>test_recall</th>\n",
       "      <th>test_f1</th>\n",
       "      <th>test_roc_auc</th>\n",
       "      <th>test_accuracy</th>\n",
       "    </tr>\n",
       "  </thead>\n",
       "  <tbody>\n",
       "    <tr>\n",
       "      <th>0</th>\n",
       "      <td>0.019936</td>\n",
       "      <td>0.001994</td>\n",
       "      <td>0.787611</td>\n",
       "      <td>0.881188</td>\n",
       "      <td>0.831776</td>\n",
       "      <td>0.741559</td>\n",
       "      <td>0.742857</td>\n",
       "    </tr>\n",
       "    <tr>\n",
       "      <th>1</th>\n",
       "      <td>0.016955</td>\n",
       "      <td>0.002993</td>\n",
       "      <td>0.745763</td>\n",
       "      <td>0.926316</td>\n",
       "      <td>0.826291</td>\n",
       "      <td>0.778713</td>\n",
       "      <td>0.735714</td>\n",
       "    </tr>\n",
       "    <tr>\n",
       "      <th>2</th>\n",
       "      <td>0.015956</td>\n",
       "      <td>0.001995</td>\n",
       "      <td>0.796296</td>\n",
       "      <td>0.843137</td>\n",
       "      <td>0.819048</td>\n",
       "      <td>0.680857</td>\n",
       "      <td>0.728571</td>\n",
       "    </tr>\n",
       "    <tr>\n",
       "      <th>3</th>\n",
       "      <td>0.012965</td>\n",
       "      <td>0.001995</td>\n",
       "      <td>0.754386</td>\n",
       "      <td>0.905263</td>\n",
       "      <td>0.822967</td>\n",
       "      <td>0.781053</td>\n",
       "      <td>0.735714</td>\n",
       "    </tr>\n",
       "    <tr>\n",
       "      <th>4</th>\n",
       "      <td>0.016955</td>\n",
       "      <td>0.001995</td>\n",
       "      <td>0.844660</td>\n",
       "      <td>0.878788</td>\n",
       "      <td>0.861386</td>\n",
       "      <td>0.827790</td>\n",
       "      <td>0.800000</td>\n",
       "    </tr>\n",
       "  </tbody>\n",
       "</table>\n",
       "</div>"
      ],
      "text/plain": [
       "   fit_time  score_time  test_precision  test_recall   test_f1  test_roc_auc  \\\n",
       "0  0.019936    0.001994        0.787611     0.881188  0.831776      0.741559   \n",
       "1  0.016955    0.002993        0.745763     0.926316  0.826291      0.778713   \n",
       "2  0.015956    0.001995        0.796296     0.843137  0.819048      0.680857   \n",
       "3  0.012965    0.001995        0.754386     0.905263  0.822967      0.781053   \n",
       "4  0.016955    0.001995        0.844660     0.878788  0.861386      0.827790   \n",
       "\n",
       "   test_accuracy  \n",
       "0       0.742857  \n",
       "1       0.735714  \n",
       "2       0.728571  \n",
       "3       0.735714  \n",
       "4       0.800000  "
      ]
     },
     "execution_count": 167,
     "metadata": {},
     "output_type": "execute_result"
    }
   ],
   "source": [
    "scores"
   ]
  },
  {
   "cell_type": "code",
   "execution_count": 168,
   "metadata": {},
   "outputs": [
    {
     "data": {
      "text/plain": [
       "fit_time          0.016553\n",
       "score_time        0.002194\n",
       "test_precision    0.785743\n",
       "test_recall       0.886938\n",
       "test_f1           0.832293\n",
       "test_roc_auc      0.761994\n",
       "test_accuracy     0.748571\n",
       "dtype: float64"
      ]
     },
     "execution_count": 168,
     "metadata": {},
     "output_type": "execute_result"
    }
   ],
   "source": [
    "scores.mean()"
   ]
  },
  {
   "cell_type": "markdown",
   "metadata": {},
   "source": [
    "### KNN v3"
   ]
  },
  {
   "cell_type": "code",
   "execution_count": 188,
   "metadata": {},
   "outputs": [],
   "source": [
    "from sklearn.neighbors import KNeighborsClassifier\n",
    "\n",
    "knn_v3 = KNeighborsClassifier()"
   ]
  },
  {
   "cell_type": "code",
   "execution_count": 189,
   "metadata": {},
   "outputs": [],
   "source": [
    "scores = cross_validate(knn_v3, X_train, y_train, \n",
    "                        scoring=['precision','recall','f1','roc_auc','accuracy'],\n",
    "                        cv= kFoldCV)"
   ]
  },
  {
   "cell_type": "code",
   "execution_count": 190,
   "metadata": {},
   "outputs": [],
   "source": [
    "scores = pd.DataFrame(scores)"
   ]
  },
  {
   "cell_type": "code",
   "execution_count": 191,
   "metadata": {},
   "outputs": [
    {
     "data": {
      "text/html": [
       "<div>\n",
       "<style scoped>\n",
       "    .dataframe tbody tr th:only-of-type {\n",
       "        vertical-align: middle;\n",
       "    }\n",
       "\n",
       "    .dataframe tbody tr th {\n",
       "        vertical-align: top;\n",
       "    }\n",
       "\n",
       "    .dataframe thead th {\n",
       "        text-align: right;\n",
       "    }\n",
       "</style>\n",
       "<table border=\"1\" class=\"dataframe\">\n",
       "  <thead>\n",
       "    <tr style=\"text-align: right;\">\n",
       "      <th></th>\n",
       "      <th>fit_time</th>\n",
       "      <th>score_time</th>\n",
       "      <th>test_precision</th>\n",
       "      <th>test_recall</th>\n",
       "      <th>test_f1</th>\n",
       "      <th>test_roc_auc</th>\n",
       "      <th>test_accuracy</th>\n",
       "    </tr>\n",
       "  </thead>\n",
       "  <tbody>\n",
       "    <tr>\n",
       "      <th>0</th>\n",
       "      <td>0.002992</td>\n",
       "      <td>0.011968</td>\n",
       "      <td>0.745763</td>\n",
       "      <td>0.871287</td>\n",
       "      <td>0.803653</td>\n",
       "      <td>0.638868</td>\n",
       "      <td>0.692857</td>\n",
       "    </tr>\n",
       "    <tr>\n",
       "      <th>1</th>\n",
       "      <td>0.001995</td>\n",
       "      <td>0.009987</td>\n",
       "      <td>0.734513</td>\n",
       "      <td>0.873684</td>\n",
       "      <td>0.798077</td>\n",
       "      <td>0.710409</td>\n",
       "      <td>0.700000</td>\n",
       "    </tr>\n",
       "    <tr>\n",
       "      <th>2</th>\n",
       "      <td>0.001981</td>\n",
       "      <td>0.009995</td>\n",
       "      <td>0.792793</td>\n",
       "      <td>0.862745</td>\n",
       "      <td>0.826291</td>\n",
       "      <td>0.667957</td>\n",
       "      <td>0.735714</td>\n",
       "    </tr>\n",
       "    <tr>\n",
       "      <th>3</th>\n",
       "      <td>0.001971</td>\n",
       "      <td>0.009974</td>\n",
       "      <td>0.763636</td>\n",
       "      <td>0.884211</td>\n",
       "      <td>0.819512</td>\n",
       "      <td>0.744327</td>\n",
       "      <td>0.735714</td>\n",
       "    </tr>\n",
       "    <tr>\n",
       "      <th>4</th>\n",
       "      <td>0.001994</td>\n",
       "      <td>0.008978</td>\n",
       "      <td>0.779661</td>\n",
       "      <td>0.929293</td>\n",
       "      <td>0.847926</td>\n",
       "      <td>0.734664</td>\n",
       "      <td>0.764286</td>\n",
       "    </tr>\n",
       "  </tbody>\n",
       "</table>\n",
       "</div>"
      ],
      "text/plain": [
       "   fit_time  score_time  test_precision  test_recall   test_f1  test_roc_auc  \\\n",
       "0  0.002992    0.011968        0.745763     0.871287  0.803653      0.638868   \n",
       "1  0.001995    0.009987        0.734513     0.873684  0.798077      0.710409   \n",
       "2  0.001981    0.009995        0.792793     0.862745  0.826291      0.667957   \n",
       "3  0.001971    0.009974        0.763636     0.884211  0.819512      0.744327   \n",
       "4  0.001994    0.008978        0.779661     0.929293  0.847926      0.734664   \n",
       "\n",
       "   test_accuracy  \n",
       "0       0.692857  \n",
       "1       0.700000  \n",
       "2       0.735714  \n",
       "3       0.735714  \n",
       "4       0.764286  "
      ]
     },
     "execution_count": 191,
     "metadata": {},
     "output_type": "execute_result"
    }
   ],
   "source": [
    "scores"
   ]
  },
  {
   "cell_type": "code",
   "execution_count": 192,
   "metadata": {},
   "outputs": [
    {
     "data": {
      "text/plain": [
       "fit_time          0.002187\n",
       "score_time        0.010180\n",
       "test_precision    0.763273\n",
       "test_recall       0.884244\n",
       "test_f1           0.819092\n",
       "test_roc_auc      0.699245\n",
       "test_accuracy     0.725714\n",
       "dtype: float64"
      ]
     },
     "execution_count": 192,
     "metadata": {},
     "output_type": "execute_result"
    }
   ],
   "source": [
    "scores.mean()"
   ]
  },
  {
   "cell_type": "markdown",
   "metadata": {},
   "source": [
    "### SVM v3"
   ]
  },
  {
   "cell_type": "code",
   "execution_count": 210,
   "metadata": {},
   "outputs": [],
   "source": [
    "from sklearn.svm import SVC\n",
    "\n",
    "svm_v3 = SVC(kernel='linear',probability= True)"
   ]
  },
  {
   "cell_type": "code",
   "execution_count": 211,
   "metadata": {},
   "outputs": [],
   "source": [
    "scores = cross_validate(svm_v3, X_train, y_train, \n",
    "                        scoring=['precision','recall','f1','roc_auc','accuracy'],\n",
    "                        cv= kFoldCV)"
   ]
  },
  {
   "cell_type": "code",
   "execution_count": 212,
   "metadata": {},
   "outputs": [],
   "source": [
    "scores = pd.DataFrame(scores)"
   ]
  },
  {
   "cell_type": "code",
   "execution_count": 213,
   "metadata": {},
   "outputs": [
    {
     "data": {
      "text/html": [
       "<div>\n",
       "<style scoped>\n",
       "    .dataframe tbody tr th:only-of-type {\n",
       "        vertical-align: middle;\n",
       "    }\n",
       "\n",
       "    .dataframe tbody tr th {\n",
       "        vertical-align: top;\n",
       "    }\n",
       "\n",
       "    .dataframe thead th {\n",
       "        text-align: right;\n",
       "    }\n",
       "</style>\n",
       "<table border=\"1\" class=\"dataframe\">\n",
       "  <thead>\n",
       "    <tr style=\"text-align: right;\">\n",
       "      <th></th>\n",
       "      <th>fit_time</th>\n",
       "      <th>score_time</th>\n",
       "      <th>test_precision</th>\n",
       "      <th>test_recall</th>\n",
       "      <th>test_f1</th>\n",
       "      <th>test_roc_auc</th>\n",
       "      <th>test_accuracy</th>\n",
       "    </tr>\n",
       "  </thead>\n",
       "  <tbody>\n",
       "    <tr>\n",
       "      <th>0</th>\n",
       "      <td>0.072799</td>\n",
       "      <td>0.003990</td>\n",
       "      <td>0.780702</td>\n",
       "      <td>0.881188</td>\n",
       "      <td>0.827907</td>\n",
       "      <td>0.729881</td>\n",
       "      <td>0.735714</td>\n",
       "    </tr>\n",
       "    <tr>\n",
       "      <th>1</th>\n",
       "      <td>0.067846</td>\n",
       "      <td>0.003985</td>\n",
       "      <td>0.743802</td>\n",
       "      <td>0.947368</td>\n",
       "      <td>0.833333</td>\n",
       "      <td>0.773801</td>\n",
       "      <td>0.742857</td>\n",
       "    </tr>\n",
       "    <tr>\n",
       "      <th>2</th>\n",
       "      <td>0.062380</td>\n",
       "      <td>0.003062</td>\n",
       "      <td>0.796296</td>\n",
       "      <td>0.843137</td>\n",
       "      <td>0.819048</td>\n",
       "      <td>0.684985</td>\n",
       "      <td>0.728571</td>\n",
       "    </tr>\n",
       "    <tr>\n",
       "      <th>3</th>\n",
       "      <td>0.055997</td>\n",
       "      <td>0.004019</td>\n",
       "      <td>0.756757</td>\n",
       "      <td>0.884211</td>\n",
       "      <td>0.815534</td>\n",
       "      <td>0.793918</td>\n",
       "      <td>0.728571</td>\n",
       "    </tr>\n",
       "    <tr>\n",
       "      <th>4</th>\n",
       "      <td>0.059020</td>\n",
       "      <td>0.003958</td>\n",
       "      <td>0.818182</td>\n",
       "      <td>0.909091</td>\n",
       "      <td>0.861244</td>\n",
       "      <td>0.831239</td>\n",
       "      <td>0.792857</td>\n",
       "    </tr>\n",
       "  </tbody>\n",
       "</table>\n",
       "</div>"
      ],
      "text/plain": [
       "   fit_time  score_time  test_precision  test_recall   test_f1  test_roc_auc  \\\n",
       "0  0.072799    0.003990        0.780702     0.881188  0.827907      0.729881   \n",
       "1  0.067846    0.003985        0.743802     0.947368  0.833333      0.773801   \n",
       "2  0.062380    0.003062        0.796296     0.843137  0.819048      0.684985   \n",
       "3  0.055997    0.004019        0.756757     0.884211  0.815534      0.793918   \n",
       "4  0.059020    0.003958        0.818182     0.909091  0.861244      0.831239   \n",
       "\n",
       "   test_accuracy  \n",
       "0       0.735714  \n",
       "1       0.742857  \n",
       "2       0.728571  \n",
       "3       0.728571  \n",
       "4       0.792857  "
      ]
     },
     "execution_count": 213,
     "metadata": {},
     "output_type": "execute_result"
    }
   ],
   "source": [
    "scores"
   ]
  },
  {
   "cell_type": "code",
   "execution_count": 214,
   "metadata": {},
   "outputs": [
    {
     "data": {
      "text/plain": [
       "fit_time          0.063609\n",
       "score_time        0.003803\n",
       "test_precision    0.779148\n",
       "test_recall       0.892999\n",
       "test_f1           0.831413\n",
       "test_roc_auc      0.762765\n",
       "test_accuracy     0.745714\n",
       "dtype: float64"
      ]
     },
     "execution_count": 214,
     "metadata": {},
     "output_type": "execute_result"
    }
   ],
   "source": [
    "scores.mean()"
   ]
  },
  {
   "cell_type": "markdown",
   "metadata": {},
   "source": [
    "## Version"
   ]
  },
  {
   "cell_type": "code",
   "execution_count": 354,
   "metadata": {},
   "outputs": [],
   "source": [
    "kFoldCV = KFold(n_splits=5,shuffle=True,random_state=4)\n",
    "from sklearn.metrics import make_scorer"
   ]
  },
  {
   "cell_type": "markdown",
   "metadata": {},
   "source": [
    "### Logit v4"
   ]
  },
  {
   "cell_type": "code",
   "execution_count": 324,
   "metadata": {},
   "outputs": [],
   "source": [
    "param_test_logit = {'C':np.linspace(0.1,5.0),\n",
    "             'solver':['newton-cg', 'lbfgs', 'sag', 'saga','liblinear'],\n",
    "             'penalty':['l1','l2']\n",
    "             }"
   ]
  },
  {
   "cell_type": "code",
   "execution_count": 325,
   "metadata": {},
   "outputs": [],
   "source": [
    "logit_grid = LogisticRegression(max_iter=1000)"
   ]
  },
  {
   "cell_type": "code",
   "execution_count": 291,
   "metadata": {},
   "outputs": [],
   "source": [
    "\n",
    "\n",
    "#scoring = {'Precision': make_scorer(precision_score),'Recall':make_scorer(recall_score),\n",
    " #          'F1':make_scorer(f1_score),'AUC': 'roc_auc', 'Accuracy': make_scorer(accuracy_score)}\n",
    "\n",
    "#grid_model_logit = GridSearchCV(estimator = logit_grid,\n",
    "#                               param_grid = param_test_logit,\n",
    "#                               cv = kFoldCV,\n",
    "#                               scoring = scoring,\n",
    "#                               refit = 'AUC',\n",
    " #                              verbose = 2)"
   ]
  },
  {
   "cell_type": "markdown",
   "metadata": {},
   "source": [
    "#### AUC"
   ]
  },
  {
   "cell_type": "code",
   "execution_count": 292,
   "metadata": {},
   "outputs": [],
   "source": [
    "from sklearn.model_selection import GridSearchCV\n",
    "\n",
    "\n",
    "grid_model_logit = GridSearchCV(estimator = logit_grid,\n",
    "                               param_grid = param_test_logit,\n",
    "                               cv = kFoldCV,\n",
    "                               scoring = 'roc_auc',\n",
    "                               verbose = 2,\n",
    "                               n_jobs= -1)"
   ]
  },
  {
   "cell_type": "code",
   "execution_count": 293,
   "metadata": {},
   "outputs": [
    {
     "name": "stdout",
     "output_type": "stream",
     "text": [
      "Fitting 5 folds for each of 500 candidates, totalling 2500 fits\n",
      "[CV] C=0.1, penalty=l1, solver=newton-cg .............................\n",
      "[CV] .............. C=0.1, penalty=l1, solver=newton-cg, total=   0.0s\n",
      "[CV] C=0.1, penalty=l1, solver=newton-cg .............................\n",
      "[CV] .............. C=0.1, penalty=l1, solver=newton-cg, total=   0.0s\n",
      "[CV] C=0.1, penalty=l1, solver=newton-cg .............................\n",
      "[CV] .............. C=0.1, penalty=l1, solver=newton-cg, total=   0.0s\n",
      "[CV] C=0.1, penalty=l1, solver=newton-cg .............................\n",
      "[CV] .............. C=0.1, penalty=l1, solver=newton-cg, total=   0.0s\n",
      "[CV] C=0.1, penalty=l1, solver=newton-cg .............................\n",
      "[CV] .............. C=0.1, penalty=l1, solver=newton-cg, total=   0.0s\n",
      "[CV] C=0.1, penalty=l1, solver=lbfgs .................................\n",
      "[CV] .................. C=0.1, penalty=l1, solver=lbfgs, total=   0.0s\n",
      "[CV] C=0.1, penalty=l1, solver=lbfgs .................................\n",
      "[CV] .................. C=0.1, penalty=l1, solver=lbfgs, total=   0.0s\n",
      "[CV] C=0.1, penalty=l1, solver=lbfgs .................................\n",
      "[CV] .................. C=0.1, penalty=l1, solver=lbfgs, total=   0.0s\n",
      "[CV] C=0.1, penalty=l1, solver=lbfgs .................................\n",
      "[CV] .................. C=0.1, penalty=l1, solver=lbfgs, total=   0.0s\n",
      "[CV] C=0.1, penalty=l1, solver=lbfgs .................................\n",
      "[CV] .................. C=0.1, penalty=l1, solver=lbfgs, total=   0.0s\n",
      "[CV] C=0.1, penalty=l1, solver=sag ...................................\n",
      "[CV] .................... C=0.1, penalty=l1, solver=sag, total=   0.0s\n",
      "[CV] C=0.1, penalty=l1, solver=sag ...................................\n",
      "[CV] .................... C=0.1, penalty=l1, solver=sag, total=   0.0s\n",
      "[CV] C=0.1, penalty=l1, solver=sag ...................................\n",
      "[CV] .................... C=0.1, penalty=l1, solver=sag, total=   0.0s\n",
      "[CV] C=0.1, penalty=l1, solver=sag ...................................\n",
      "[CV] .................... C=0.1, penalty=l1, solver=sag, total=   0.0s\n",
      "[CV] C=0.1, penalty=l1, solver=sag ...................................\n",
      "[CV] .................... C=0.1, penalty=l1, solver=sag, total=   0.0s\n",
      "[CV] C=0.1, penalty=l1, solver=saga ..................................\n",
      "[CV] ................... C=0.1, penalty=l1, solver=saga, total=   0.0s\n",
      "[CV] C=0.1, penalty=l1, solver=saga ..................................\n",
      "[CV] ................... C=0.1, penalty=l1, solver=saga, total=   0.0s\n",
      "[CV] C=0.1, penalty=l1, solver=saga ..................................\n",
      "[CV] ................... C=0.1, penalty=l1, solver=saga, total=   0.0s\n",
      "[CV] C=0.1, penalty=l1, solver=saga ..................................\n",
      "[CV] ................... C=0.1, penalty=l1, solver=saga, total=   0.0s\n",
      "[CV] C=0.1, penalty=l1, solver=saga ..................................\n",
      "[CV] ................... C=0.1, penalty=l1, solver=saga, total=   0.0s\n",
      "[CV] C=0.1, penalty=l1, solver=liblinear .............................\n",
      "[CV] .............. C=0.1, penalty=l1, solver=liblinear, total=   0.0s\n",
      "[CV] C=0.1, penalty=l1, solver=liblinear .............................\n",
      "[CV] .............. C=0.1, penalty=l1, solver=liblinear, total=   0.0s\n",
      "[CV] C=0.1, penalty=l1, solver=liblinear .............................\n",
      "[CV] .............. C=0.1, penalty=l1, solver=liblinear, total=   0.0s\n",
      "[CV] C=0.1, penalty=l1, solver=liblinear .............................\n",
      "[CV] .............. C=0.1, penalty=l1, solver=liblinear, total=   0.0s\n",
      "[CV] C=0.1, penalty=l1, solver=liblinear .............................\n",
      "[CV] .............. C=0.1, penalty=l1, solver=liblinear, total=   0.0s\n",
      "[CV] C=0.1, penalty=l2, solver=newton-cg .............................\n",
      "[CV] .............. C=0.1, penalty=l2, solver=newton-cg, total=   0.0s"
     ]
    },
    {
     "name": "stderr",
     "output_type": "stream",
     "text": [
      "[Parallel(n_jobs=1)]: Using backend SequentialBackend with 1 concurrent workers.\n",
      "E:\\Anaconda3\\lib\\site-packages\\sklearn\\model_selection\\_validation.py:536: FitFailedWarning: Estimator fit failed. The score on this train-test partition for these parameters will be set to nan. Details: \n",
      "ValueError: Solver newton-cg supports only 'l2' or 'none' penalties, got l1 penalty.\n",
      "\n",
      "  FitFailedWarning)\n",
      "[Parallel(n_jobs=1)]: Done   1 out of   1 | elapsed:    0.0s remaining:    0.0s\n",
      "E:\\Anaconda3\\lib\\site-packages\\sklearn\\model_selection\\_validation.py:536: FitFailedWarning: Estimator fit failed. The score on this train-test partition for these parameters will be set to nan. Details: \n",
      "ValueError: Solver lbfgs supports only 'l2' or 'none' penalties, got l1 penalty.\n",
      "\n",
      "  FitFailedWarning)\n",
      "E:\\Anaconda3\\lib\\site-packages\\sklearn\\model_selection\\_validation.py:536: FitFailedWarning: Estimator fit failed. The score on this train-test partition for these parameters will be set to nan. Details: \n",
      "ValueError: Solver sag supports only 'l2' or 'none' penalties, got l1 penalty.\n",
      "\n",
      "  FitFailedWarning)\n"
     ]
    },
    {
     "name": "stdout",
     "output_type": "stream",
     "text": [
      "\n",
      "[CV] C=0.1, penalty=l2, solver=newton-cg .............................\n",
      "[CV] .............. C=0.1, penalty=l2, solver=newton-cg, total=   0.0s\n",
      "[CV] C=0.1, penalty=l2, solver=newton-cg .............................\n",
      "[CV] .............. C=0.1, penalty=l2, solver=newton-cg, total=   0.0s\n",
      "[CV] C=0.1, penalty=l2, solver=newton-cg .............................\n",
      "[CV] .............. C=0.1, penalty=l2, solver=newton-cg, total=   0.0s\n",
      "[CV] C=0.1, penalty=l2, solver=newton-cg .............................\n",
      "[CV] .............. C=0.1, penalty=l2, solver=newton-cg, total=   0.0s\n",
      "[CV] C=0.1, penalty=l2, solver=lbfgs .................................\n",
      "[CV] .................. C=0.1, penalty=l2, solver=lbfgs, total=   0.0s\n",
      "[CV] C=0.1, penalty=l2, solver=lbfgs .................................\n",
      "[CV] .................. C=0.1, penalty=l2, solver=lbfgs, total=   0.0s\n",
      "[CV] C=0.1, penalty=l2, solver=lbfgs .................................\n",
      "[CV] .................. C=0.1, penalty=l2, solver=lbfgs, total=   0.0s\n",
      "[CV] C=0.1, penalty=l2, solver=lbfgs .................................\n",
      "[CV] .................. C=0.1, penalty=l2, solver=lbfgs, total=   0.0s\n",
      "[CV] C=0.1, penalty=l2, solver=lbfgs .................................\n",
      "[CV] .................. C=0.1, penalty=l2, solver=lbfgs, total=   0.0s\n",
      "[CV] C=0.1, penalty=l2, solver=sag ...................................\n",
      "[CV] .................... C=0.1, penalty=l2, solver=sag, total=   0.0s\n",
      "[CV] C=0.1, penalty=l2, solver=sag ...................................\n",
      "[CV] .................... C=0.1, penalty=l2, solver=sag, total=   0.0s\n",
      "[CV] C=0.1, penalty=l2, solver=sag ...................................\n",
      "[CV] .................... C=0.1, penalty=l2, solver=sag, total=   0.0s\n",
      "[CV] C=0.1, penalty=l2, solver=sag ...................................\n",
      "[CV] .................... C=0.1, penalty=l2, solver=sag, total=   0.0s\n",
      "[CV] C=0.1, penalty=l2, solver=sag ...................................\n",
      "[CV] .................... C=0.1, penalty=l2, solver=sag, total=   0.0s\n",
      "[CV] C=0.1, penalty=l2, solver=saga ..................................\n",
      "[CV] ................... C=0.1, penalty=l2, solver=saga, total=   0.1s\n",
      "[CV] C=0.1, penalty=l2, solver=saga ..................................\n",
      "[CV] ................... C=0.1, penalty=l2, solver=saga, total=   0.1s\n",
      "[CV] C=0.1, penalty=l2, solver=saga ..................................\n",
      "[CV] ................... C=0.1, penalty=l2, solver=saga, total=   0.1s\n",
      "[CV] C=0.1, penalty=l2, solver=saga ..................................\n",
      "[CV] ................... C=0.1, penalty=l2, solver=saga, total=   0.1s\n",
      "[CV] C=0.1, penalty=l2, solver=saga ..................................\n",
      "[CV] ................... C=0.1, penalty=l2, solver=saga, total=   0.1s\n",
      "[CV] C=0.1, penalty=l2, solver=liblinear .............................\n",
      "[CV] .............. C=0.1, penalty=l2, solver=liblinear, total=   0.0s\n",
      "[CV] C=0.1, penalty=l2, solver=liblinear .............................\n",
      "[CV] .............. C=0.1, penalty=l2, solver=liblinear, total=   0.0s\n",
      "[CV] C=0.1, penalty=l2, solver=liblinear .............................\n",
      "[CV] .............. C=0.1, penalty=l2, solver=liblinear, total=   0.0s\n",
      "[CV] C=0.1, penalty=l2, solver=liblinear .............................\n",
      "[CV] .............. C=0.1, penalty=l2, solver=liblinear, total=   0.0s\n",
      "[CV] C=0.1, penalty=l2, solver=liblinear .............................\n",
      "[CV] .............. C=0.1, penalty=l2, solver=liblinear, total=   0.0s\n",
      "[CV] C=0.2, penalty=l1, solver=newton-cg .............................\n",
      "[CV] .............. C=0.2, penalty=l1, solver=newton-cg, total=   0.0s\n",
      "[CV] C=0.2, penalty=l1, solver=newton-cg .............................\n",
      "[CV] .............. C=0.2, penalty=l1, solver=newton-cg, total=   0.0s\n",
      "[CV] C=0.2, penalty=l1, solver=newton-cg .............................\n",
      "[CV] .............. C=0.2, penalty=l1, solver=newton-cg, total=   0.0s\n",
      "[CV] C=0.2, penalty=l1, solver=newton-cg .............................\n",
      "[CV] .............. C=0.2, penalty=l1, solver=newton-cg, total=   0.0s\n",
      "[CV] C=0.2, penalty=l1, solver=newton-cg .............................\n",
      "[CV] .............. C=0.2, penalty=l1, solver=newton-cg, total=   0.0s\n",
      "[CV] C=0.2, penalty=l1, solver=lbfgs .................................\n",
      "[CV] .................. C=0.2, penalty=l1, solver=lbfgs, total=   0.0s\n",
      "[CV] C=0.2, penalty=l1, solver=lbfgs .................................\n",
      "[CV] .................. C=0.2, penalty=l1, solver=lbfgs, total=   0.0s\n",
      "[CV] C=0.2, penalty=l1, solver=lbfgs .................................\n",
      "[CV] .................. C=0.2, penalty=l1, solver=lbfgs, total=   0.0s\n",
      "[CV] C=0.2, penalty=l1, solver=lbfgs .................................\n",
      "[CV] .................. C=0.2, penalty=l1, solver=lbfgs, total=   0.0s\n",
      "[CV] C=0.2, penalty=l1, solver=lbfgs .................................\n",
      "[CV] .................. C=0.2, penalty=l1, solver=lbfgs, total=   0.0s\n",
      "[CV] C=0.2, penalty=l1, solver=sag ...................................\n",
      "[CV] .................... C=0.2, penalty=l1, solver=sag, total=   0.0s\n",
      "[CV] C=0.2, penalty=l1, solver=sag ...................................\n",
      "[CV] .................... C=0.2, penalty=l1, solver=sag, total=   0.0s\n",
      "[CV] C=0.2, penalty=l1, solver=sag ...................................\n",
      "[CV] .................... C=0.2, penalty=l1, solver=sag, total=   0.0s\n",
      "[CV] C=0.2, penalty=l1, solver=sag ...................................\n",
      "[CV] .................... C=0.2, penalty=l1, solver=sag, total=   0.0s\n",
      "[CV] C=0.2, penalty=l1, solver=sag ...................................\n",
      "[CV] .................... C=0.2, penalty=l1, solver=sag, total=   0.0s\n",
      "[CV] C=0.2, penalty=l1, solver=saga ..................................\n",
      "[CV] ................... C=0.2, penalty=l1, solver=saga, total=   0.1s\n",
      "[CV] C=0.2, penalty=l1, solver=saga ..................................\n",
      "[CV] ................... C=0.2, penalty=l1, solver=saga, total=   0.1s\n",
      "[CV] C=0.2, penalty=l1, solver=saga ..................................\n",
      "[CV] ................... C=0.2, penalty=l1, solver=saga, total=   0.0s\n",
      "[CV] C=0.2, penalty=l1, solver=saga ..................................\n"
     ]
    },
    {
     "name": "stderr",
     "output_type": "stream",
     "text": [
      "E:\\Anaconda3\\lib\\site-packages\\sklearn\\model_selection\\_validation.py:536: FitFailedWarning: Estimator fit failed. The score on this train-test partition for these parameters will be set to nan. Details: \n",
      "ValueError: Solver newton-cg supports only 'l2' or 'none' penalties, got l1 penalty.\n",
      "\n",
      "  FitFailedWarning)\n",
      "E:\\Anaconda3\\lib\\site-packages\\sklearn\\model_selection\\_validation.py:536: FitFailedWarning: Estimator fit failed. The score on this train-test partition for these parameters will be set to nan. Details: \n",
      "ValueError: Solver lbfgs supports only 'l2' or 'none' penalties, got l1 penalty.\n",
      "\n",
      "  FitFailedWarning)\n",
      "E:\\Anaconda3\\lib\\site-packages\\sklearn\\model_selection\\_validation.py:536: FitFailedWarning: Estimator fit failed. The score on this train-test partition for these parameters will be set to nan. Details: \n",
      "ValueError: Solver sag supports only 'l2' or 'none' penalties, got l1 penalty.\n",
      "\n",
      "  FitFailedWarning)\n"
     ]
    },
    {
     "name": "stdout",
     "output_type": "stream",
     "text": [
      "[CV] ................... C=0.2, penalty=l1, solver=saga, total=   0.0s\n",
      "[CV] C=0.2, penalty=l1, solver=saga ..................................\n",
      "[CV] ................... C=0.2, penalty=l1, solver=saga, total=   0.0s\n",
      "[CV] C=0.2, penalty=l1, solver=liblinear .............................\n",
      "[CV] .............. C=0.2, penalty=l1, solver=liblinear, total=   0.0s\n",
      "[CV] C=0.2, penalty=l1, solver=liblinear .............................\n",
      "[CV] .............. C=0.2, penalty=l1, solver=liblinear, total=   0.0s\n",
      "[CV] C=0.2, penalty=l1, solver=liblinear .............................\n",
      "[CV] .............. C=0.2, penalty=l1, solver=liblinear, total=   0.0s\n",
      "[CV] C=0.2, penalty=l1, solver=liblinear .............................\n",
      "[CV] .............. C=0.2, penalty=l1, solver=liblinear, total=   0.0s\n",
      "[CV] C=0.2, penalty=l1, solver=liblinear .............................\n",
      "[CV] .............. C=0.2, penalty=l1, solver=liblinear, total=   0.0s\n",
      "[CV] C=0.2, penalty=l2, solver=newton-cg .............................\n",
      "[CV] .............. C=0.2, penalty=l2, solver=newton-cg, total=   0.0s\n",
      "[CV] C=0.2, penalty=l2, solver=newton-cg .............................\n",
      "[CV] .............. C=0.2, penalty=l2, solver=newton-cg, total=   0.0s\n",
      "[CV] C=0.2, penalty=l2, solver=newton-cg .............................\n",
      "[CV] .............. C=0.2, penalty=l2, solver=newton-cg, total=   0.0s\n",
      "[CV] C=0.2, penalty=l2, solver=newton-cg .............................\n",
      "[CV] .............. C=0.2, penalty=l2, solver=newton-cg, total=   0.0s\n",
      "[CV] C=0.2, penalty=l2, solver=newton-cg .............................\n",
      "[CV] .............. C=0.2, penalty=l2, solver=newton-cg, total=   0.0s\n",
      "[CV] C=0.2, penalty=l2, solver=lbfgs .................................\n",
      "[CV] .................. C=0.2, penalty=l2, solver=lbfgs, total=   0.0s\n",
      "[CV] C=0.2, penalty=l2, solver=lbfgs .................................\n",
      "[CV] .................. C=0.2, penalty=l2, solver=lbfgs, total=   0.0s\n",
      "[CV] C=0.2, penalty=l2, solver=lbfgs .................................\n",
      "[CV] .................. C=0.2, penalty=l2, solver=lbfgs, total=   0.0s\n",
      "[CV] C=0.2, penalty=l2, solver=lbfgs .................................\n",
      "[CV] .................. C=0.2, penalty=l2, solver=lbfgs, total=   0.0s\n",
      "[CV] C=0.2, penalty=l2, solver=lbfgs .................................\n",
      "[CV] .................. C=0.2, penalty=l2, solver=lbfgs, total=   0.0s\n",
      "[CV] C=0.2, penalty=l2, solver=sag ...................................\n",
      "[CV] .................... C=0.2, penalty=l2, solver=sag, total=   0.0s\n",
      "[CV] C=0.2, penalty=l2, solver=sag ...................................\n",
      "[CV] .................... C=0.2, penalty=l2, solver=sag, total=   0.1s\n",
      "[CV] C=0.2, penalty=l2, solver=sag ...................................\n",
      "[CV] .................... C=0.2, penalty=l2, solver=sag, total=   0.0s\n",
      "[CV] C=0.2, penalty=l2, solver=sag ...................................\n",
      "[CV] .................... C=0.2, penalty=l2, solver=sag, total=   0.0s\n",
      "[CV] C=0.2, penalty=l2, solver=sag ...................................\n",
      "[CV] .................... C=0.2, penalty=l2, solver=sag, total=   0.0s\n",
      "[CV] C=0.2, penalty=l2, solver=saga ..................................\n",
      "[CV] ................... C=0.2, penalty=l2, solver=saga, total=   0.1s\n",
      "[CV] C=0.2, penalty=l2, solver=saga ..................................\n",
      "[CV] ................... C=0.2, penalty=l2, solver=saga, total=   0.1s\n",
      "[CV] C=0.2, penalty=l2, solver=saga ..................................\n",
      "[CV] ................... C=0.2, penalty=l2, solver=saga, total=   0.1s\n",
      "[CV] C=0.2, penalty=l2, solver=saga ..................................\n",
      "[CV] ................... C=0.2, penalty=l2, solver=saga, total=   0.1s\n",
      "[CV] C=0.2, penalty=l2, solver=saga ..................................\n",
      "[CV] ................... C=0.2, penalty=l2, solver=saga, total=   0.1s\n",
      "[CV] C=0.2, penalty=l2, solver=liblinear .............................\n",
      "[CV] .............. C=0.2, penalty=l2, solver=liblinear, total=   0.0s\n",
      "[CV] C=0.2, penalty=l2, solver=liblinear .............................\n",
      "[CV] .............. C=0.2, penalty=l2, solver=liblinear, total=   0.0s\n",
      "[CV] C=0.2, penalty=l2, solver=liblinear .............................\n",
      "[CV] .............. C=0.2, penalty=l2, solver=liblinear, total=   0.0s\n",
      "[CV] C=0.2, penalty=l2, solver=liblinear .............................\n",
      "[CV] .............. C=0.2, penalty=l2, solver=liblinear, total=   0.0s\n",
      "[CV] C=0.2, penalty=l2, solver=liblinear .............................\n",
      "[CV] .............. C=0.2, penalty=l2, solver=liblinear, total=   0.0s\n",
      "[CV] C=0.30000000000000004, penalty=l1, solver=newton-cg .............\n",
      "[CV]  C=0.30000000000000004, penalty=l1, solver=newton-cg, total=   0.0s\n",
      "[CV] C=0.30000000000000004, penalty=l1, solver=newton-cg .............\n",
      "[CV]  C=0.30000000000000004, penalty=l1, solver=newton-cg, total=   0.0s\n",
      "[CV] C=0.30000000000000004, penalty=l1, solver=newton-cg .............\n",
      "[CV]  C=0.30000000000000004, penalty=l1, solver=newton-cg, total=   0.0s\n",
      "[CV] C=0.30000000000000004, penalty=l1, solver=newton-cg .............\n",
      "[CV]  C=0.30000000000000004, penalty=l1, solver=newton-cg, total=   0.0s\n",
      "[CV] C=0.30000000000000004, penalty=l1, solver=newton-cg .............\n",
      "[CV]  C=0.30000000000000004, penalty=l1, solver=newton-cg, total=   0.0s\n",
      "[CV] C=0.30000000000000004, penalty=l1, solver=lbfgs .................\n",
      "[CV] .. C=0.30000000000000004, penalty=l1, solver=lbfgs, total=   0.0s\n",
      "[CV] C=0.30000000000000004, penalty=l1, solver=lbfgs .................\n",
      "[CV] .. C=0.30000000000000004, penalty=l1, solver=lbfgs, total=   0.0s\n",
      "[CV] C=0.30000000000000004, penalty=l1, solver=lbfgs .................\n",
      "[CV] .. C=0.30000000000000004, penalty=l1, solver=lbfgs, total=   0.0s\n",
      "[CV] C=0.30000000000000004, penalty=l1, solver=lbfgs .................\n",
      "[CV] .. C=0.30000000000000004, penalty=l1, solver=lbfgs, total=   0.0s\n",
      "[CV] C=0.30000000000000004, penalty=l1, solver=lbfgs .................\n",
      "[CV] .. C=0.30000000000000004, penalty=l1, solver=lbfgs, total=   0.0s\n",
      "[CV] C=0.30000000000000004, penalty=l1, solver=sag ...................\n",
      "[CV] .... C=0.30000000000000004, penalty=l1, solver=sag, total=   0.0s\n",
      "[CV] C=0.30000000000000004, penalty=l1, solver=sag ...................\n",
      "[CV] .... C=0.30000000000000004, penalty=l1, solver=sag, total=   0.0s\n",
      "[CV] C=0.30000000000000004, penalty=l1, solver=sag ...................\n",
      "[CV] .... C=0.30000000000000004, penalty=l1, solver=sag, total=   0.0s\n",
      "[CV] C=0.30000000000000004, penalty=l1, solver=sag ...................\n",
      "[CV] .... C=0.30000000000000004, penalty=l1, solver=sag, total=   0.0s\n",
      "[CV] C=0.30000000000000004, penalty=l1, solver=sag ...................\n",
      "[CV] .... C=0.30000000000000004, penalty=l1, solver=sag, total=   0.0s\n",
      "[CV] C=0.30000000000000004, penalty=l1, solver=saga ..................\n",
      "[CV] ... C=0.30000000000000004, penalty=l1, solver=saga, total=   0.1s\n",
      "[CV] C=0.30000000000000004, penalty=l1, solver=saga ..................\n",
      "[CV] ... C=0.30000000000000004, penalty=l1, solver=saga, total=   0.1s\n",
      "[CV] C=0.30000000000000004, penalty=l1, solver=saga ..................\n"
     ]
    },
    {
     "name": "stderr",
     "output_type": "stream",
     "text": [
      "E:\\Anaconda3\\lib\\site-packages\\sklearn\\model_selection\\_validation.py:536: FitFailedWarning: Estimator fit failed. The score on this train-test partition for these parameters will be set to nan. Details: \n",
      "ValueError: Solver newton-cg supports only 'l2' or 'none' penalties, got l1 penalty.\n",
      "\n",
      "  FitFailedWarning)\n",
      "E:\\Anaconda3\\lib\\site-packages\\sklearn\\model_selection\\_validation.py:536: FitFailedWarning: Estimator fit failed. The score on this train-test partition for these parameters will be set to nan. Details: \n",
      "ValueError: Solver lbfgs supports only 'l2' or 'none' penalties, got l1 penalty.\n",
      "\n",
      "  FitFailedWarning)\n",
      "E:\\Anaconda3\\lib\\site-packages\\sklearn\\model_selection\\_validation.py:536: FitFailedWarning: Estimator fit failed. The score on this train-test partition for these parameters will be set to nan. Details: \n",
      "ValueError: Solver sag supports only 'l2' or 'none' penalties, got l1 penalty.\n",
      "\n",
      "  FitFailedWarning)\n"
     ]
    },
    {
     "name": "stdout",
     "output_type": "stream",
     "text": [
      "[CV] ... C=0.30000000000000004, penalty=l1, solver=saga, total=   0.1s\n",
      "[CV] C=0.30000000000000004, penalty=l1, solver=saga ..................\n",
      "[CV] ... C=0.30000000000000004, penalty=l1, solver=saga, total=   0.1s\n",
      "[CV] C=0.30000000000000004, penalty=l1, solver=saga ..................\n",
      "[CV] ... C=0.30000000000000004, penalty=l1, solver=saga, total=   0.1s\n",
      "[CV] C=0.30000000000000004, penalty=l1, solver=liblinear .............\n",
      "[CV]  C=0.30000000000000004, penalty=l1, solver=liblinear, total=   0.0s\n",
      "[CV] C=0.30000000000000004, penalty=l1, solver=liblinear .............\n",
      "[CV]  C=0.30000000000000004, penalty=l1, solver=liblinear, total=   0.0s\n",
      "[CV] C=0.30000000000000004, penalty=l1, solver=liblinear .............\n",
      "[CV]  C=0.30000000000000004, penalty=l1, solver=liblinear, total=   0.0s\n",
      "[CV] C=0.30000000000000004, penalty=l1, solver=liblinear .............\n",
      "[CV]  C=0.30000000000000004, penalty=l1, solver=liblinear, total=   0.0s\n",
      "[CV] C=0.30000000000000004, penalty=l1, solver=liblinear .............\n",
      "[CV]  C=0.30000000000000004, penalty=l1, solver=liblinear, total=   0.0s\n",
      "[CV] C=0.30000000000000004, penalty=l2, solver=newton-cg .............\n",
      "[CV]  C=0.30000000000000004, penalty=l2, solver=newton-cg, total=   0.0s\n",
      "[CV] C=0.30000000000000004, penalty=l2, solver=newton-cg .............\n",
      "[CV]  C=0.30000000000000004, penalty=l2, solver=newton-cg, total=   0.0s\n",
      "[CV] C=0.30000000000000004, penalty=l2, solver=newton-cg .............\n",
      "[CV]  C=0.30000000000000004, penalty=l2, solver=newton-cg, total=   0.0s\n",
      "[CV] C=0.30000000000000004, penalty=l2, solver=newton-cg .............\n",
      "[CV]  C=0.30000000000000004, penalty=l2, solver=newton-cg, total=   0.0s\n",
      "[CV] C=0.30000000000000004, penalty=l2, solver=newton-cg .............\n",
      "[CV]  C=0.30000000000000004, penalty=l2, solver=newton-cg, total=   0.0s\n",
      "[CV] C=0.30000000000000004, penalty=l2, solver=lbfgs .................\n",
      "[CV] .. C=0.30000000000000004, penalty=l2, solver=lbfgs, total=   0.0s\n",
      "[CV] C=0.30000000000000004, penalty=l2, solver=lbfgs .................\n",
      "[CV] .. C=0.30000000000000004, penalty=l2, solver=lbfgs, total=   0.0s\n",
      "[CV] C=0.30000000000000004, penalty=l2, solver=lbfgs .................\n",
      "[CV] .. C=0.30000000000000004, penalty=l2, solver=lbfgs, total=   0.0s\n",
      "[CV] C=0.30000000000000004, penalty=l2, solver=lbfgs .................\n",
      "[CV] .. C=0.30000000000000004, penalty=l2, solver=lbfgs, total=   0.0s\n",
      "[CV] C=0.30000000000000004, penalty=l2, solver=lbfgs .................\n",
      "[CV] .. C=0.30000000000000004, penalty=l2, solver=lbfgs, total=   0.0s\n",
      "[CV] C=0.30000000000000004, penalty=l2, solver=sag ...................\n",
      "[CV] .... C=0.30000000000000004, penalty=l2, solver=sag, total=   0.1s\n",
      "[CV] C=0.30000000000000004, penalty=l2, solver=sag ...................\n",
      "[CV] .... C=0.30000000000000004, penalty=l2, solver=sag, total=   0.1s\n",
      "[CV] C=0.30000000000000004, penalty=l2, solver=sag ...................\n",
      "[CV] .... C=0.30000000000000004, penalty=l2, solver=sag, total=   0.1s\n",
      "[CV] C=0.30000000000000004, penalty=l2, solver=sag ...................\n",
      "[CV] .... C=0.30000000000000004, penalty=l2, solver=sag, total=   0.0s\n",
      "[CV] C=0.30000000000000004, penalty=l2, solver=sag ...................\n",
      "[CV] .... C=0.30000000000000004, penalty=l2, solver=sag, total=   0.1s\n",
      "[CV] C=0.30000000000000004, penalty=l2, solver=saga ..................\n",
      "[CV] ... C=0.30000000000000004, penalty=l2, solver=saga, total=   0.1s\n",
      "[CV] C=0.30000000000000004, penalty=l2, solver=saga ..................\n",
      "[CV] ... C=0.30000000000000004, penalty=l2, solver=saga, total=   0.1s\n",
      "[CV] C=0.30000000000000004, penalty=l2, solver=saga ..................\n"
     ]
    },
    {
     "name": "stderr",
     "output_type": "stream",
     "text": [
      "E:\\Anaconda3\\lib\\site-packages\\sklearn\\linear_model\\_sag.py:330: ConvergenceWarning: The max_iter was reached which means the coef_ did not converge\n",
      "  \"the coef_ did not converge\", ConvergenceWarning)\n"
     ]
    },
    {
     "name": "stdout",
     "output_type": "stream",
     "text": [
      "[CV] ... C=0.30000000000000004, penalty=l2, solver=saga, total=   0.1s\n",
      "[CV] C=0.30000000000000004, penalty=l2, solver=saga ..................\n",
      "[CV] ... C=0.30000000000000004, penalty=l2, solver=saga, total=   0.1s\n",
      "[CV] C=0.30000000000000004, penalty=l2, solver=saga ..................\n",
      "[CV] ... C=0.30000000000000004, penalty=l2, solver=saga, total=   0.1s\n",
      "[CV] C=0.30000000000000004, penalty=l2, solver=liblinear .............\n",
      "[CV]  C=0.30000000000000004, penalty=l2, solver=liblinear, total=   0.0s\n",
      "[CV] C=0.30000000000000004, penalty=l2, solver=liblinear .............\n",
      "[CV]  C=0.30000000000000004, penalty=l2, solver=liblinear, total=   0.0s\n",
      "[CV] C=0.30000000000000004, penalty=l2, solver=liblinear .............\n",
      "[CV]  C=0.30000000000000004, penalty=l2, solver=liblinear, total=   0.0s\n",
      "[CV] C=0.30000000000000004, penalty=l2, solver=liblinear .............\n",
      "[CV]  C=0.30000000000000004, penalty=l2, solver=liblinear, total=   0.0s\n",
      "[CV] C=0.30000000000000004, penalty=l2, solver=liblinear .............\n",
      "[CV]  C=0.30000000000000004, penalty=l2, solver=liblinear, total=   0.0s\n",
      "[CV] C=0.4, penalty=l1, solver=newton-cg .............................\n",
      "[CV] .............. C=0.4, penalty=l1, solver=newton-cg, total=   0.0s\n",
      "[CV] C=0.4, penalty=l1, solver=newton-cg .............................\n",
      "[CV] .............. C=0.4, penalty=l1, solver=newton-cg, total=   0.0s\n",
      "[CV] C=0.4, penalty=l1, solver=newton-cg .............................\n",
      "[CV] .............. C=0.4, penalty=l1, solver=newton-cg, total=   0.0s\n",
      "[CV] C=0.4, penalty=l1, solver=newton-cg .............................\n",
      "[CV] .............. C=0.4, penalty=l1, solver=newton-cg, total=   0.0s\n",
      "[CV] C=0.4, penalty=l1, solver=newton-cg .............................\n",
      "[CV] .............. C=0.4, penalty=l1, solver=newton-cg, total=   0.0s\n",
      "[CV] C=0.4, penalty=l1, solver=lbfgs .................................\n",
      "[CV] .................. C=0.4, penalty=l1, solver=lbfgs, total=   0.0s\n",
      "[CV] C=0.4, penalty=l1, solver=lbfgs .................................\n",
      "[CV] .................. C=0.4, penalty=l1, solver=lbfgs, total=   0.0s\n",
      "[CV] C=0.4, penalty=l1, solver=lbfgs .................................\n",
      "[CV] .................. C=0.4, penalty=l1, solver=lbfgs, total=   0.0s\n",
      "[CV] C=0.4, penalty=l1, solver=lbfgs .................................\n",
      "[CV] .................. C=0.4, penalty=l1, solver=lbfgs, total=   0.0s\n",
      "[CV] C=0.4, penalty=l1, solver=lbfgs .................................\n",
      "[CV] .................. C=0.4, penalty=l1, solver=lbfgs, total=   0.0s\n",
      "[CV] C=0.4, penalty=l1, solver=sag ...................................\n",
      "[CV] .................... C=0.4, penalty=l1, solver=sag, total=   0.0s\n",
      "[CV] C=0.4, penalty=l1, solver=sag ...................................\n",
      "[CV] .................... C=0.4, penalty=l1, solver=sag, total=   0.0s\n",
      "[CV] C=0.4, penalty=l1, solver=sag ...................................\n",
      "[CV] .................... C=0.4, penalty=l1, solver=sag, total=   0.0s\n",
      "[CV] C=0.4, penalty=l1, solver=sag ...................................\n",
      "[CV] .................... C=0.4, penalty=l1, solver=sag, total=   0.0s\n",
      "[CV] C=0.4, penalty=l1, solver=sag ...................................\n",
      "[CV] .................... C=0.4, penalty=l1, solver=sag, total=   0.0s\n",
      "[CV] C=0.4, penalty=l1, solver=saga ..................................\n",
      "[CV] ................... C=0.4, penalty=l1, solver=saga, total=   0.1s\n",
      "[CV] C=0.4, penalty=l1, solver=saga ..................................\n",
      "[CV] ................... C=0.4, penalty=l1, solver=saga, total=   0.1s\n",
      "[CV] C=0.4, penalty=l1, solver=saga ..................................\n"
     ]
    },
    {
     "name": "stderr",
     "output_type": "stream",
     "text": [
      "E:\\Anaconda3\\lib\\site-packages\\sklearn\\model_selection\\_validation.py:536: FitFailedWarning: Estimator fit failed. The score on this train-test partition for these parameters will be set to nan. Details: \n",
      "ValueError: Solver newton-cg supports only 'l2' or 'none' penalties, got l1 penalty.\n",
      "\n",
      "  FitFailedWarning)\n",
      "E:\\Anaconda3\\lib\\site-packages\\sklearn\\model_selection\\_validation.py:536: FitFailedWarning: Estimator fit failed. The score on this train-test partition for these parameters will be set to nan. Details: \n",
      "ValueError: Solver lbfgs supports only 'l2' or 'none' penalties, got l1 penalty.\n",
      "\n",
      "  FitFailedWarning)\n",
      "E:\\Anaconda3\\lib\\site-packages\\sklearn\\model_selection\\_validation.py:536: FitFailedWarning: Estimator fit failed. The score on this train-test partition for these parameters will be set to nan. Details: \n",
      "ValueError: Solver sag supports only 'l2' or 'none' penalties, got l1 penalty.\n",
      "\n",
      "  FitFailedWarning)\n",
      "E:\\Anaconda3\\lib\\site-packages\\sklearn\\linear_model\\_sag.py:330: ConvergenceWarning: The max_iter was reached which means the coef_ did not converge\n",
      "  \"the coef_ did not converge\", ConvergenceWarning)\n"
     ]
    },
    {
     "name": "stdout",
     "output_type": "stream",
     "text": [
      "[CV] ................... C=0.4, penalty=l1, solver=saga, total=   0.1s\n",
      "[CV] C=0.4, penalty=l1, solver=saga ..................................\n",
      "[CV] ................... C=0.4, penalty=l1, solver=saga, total=   0.1s\n",
      "[CV] C=0.4, penalty=l1, solver=saga ..................................\n",
      "[CV] ................... C=0.4, penalty=l1, solver=saga, total=   0.1s\n",
      "[CV] C=0.4, penalty=l1, solver=liblinear .............................\n",
      "[CV] .............. C=0.4, penalty=l1, solver=liblinear, total=   0.0s\n",
      "[CV] C=0.4, penalty=l1, solver=liblinear .............................\n",
      "[CV] .............. C=0.4, penalty=l1, solver=liblinear, total=   0.0s\n",
      "[CV] C=0.4, penalty=l1, solver=liblinear .............................\n",
      "[CV] .............. C=0.4, penalty=l1, solver=liblinear, total=   0.0s\n",
      "[CV] C=0.4, penalty=l1, solver=liblinear .............................\n",
      "[CV] .............. C=0.4, penalty=l1, solver=liblinear, total=   0.0s\n",
      "[CV] C=0.4, penalty=l1, solver=liblinear .............................\n",
      "[CV] .............. C=0.4, penalty=l1, solver=liblinear, total=   0.0s\n",
      "[CV] C=0.4, penalty=l2, solver=newton-cg .............................\n",
      "[CV] .............. C=0.4, penalty=l2, solver=newton-cg, total=   0.0s\n",
      "[CV] C=0.4, penalty=l2, solver=newton-cg .............................\n",
      "[CV] .............. C=0.4, penalty=l2, solver=newton-cg, total=   0.0s\n",
      "[CV] C=0.4, penalty=l2, solver=newton-cg .............................\n",
      "[CV] .............. C=0.4, penalty=l2, solver=newton-cg, total=   0.0s\n",
      "[CV] C=0.4, penalty=l2, solver=newton-cg .............................\n",
      "[CV] .............. C=0.4, penalty=l2, solver=newton-cg, total=   0.0s\n",
      "[CV] C=0.4, penalty=l2, solver=newton-cg .............................\n",
      "[CV] .............. C=0.4, penalty=l2, solver=newton-cg, total=   0.0s\n",
      "[CV] C=0.4, penalty=l2, solver=lbfgs .................................\n",
      "[CV] .................. C=0.4, penalty=l2, solver=lbfgs, total=   0.0s\n",
      "[CV] C=0.4, penalty=l2, solver=lbfgs .................................\n",
      "[CV] .................. C=0.4, penalty=l2, solver=lbfgs, total=   0.0s\n",
      "[CV] C=0.4, penalty=l2, solver=lbfgs .................................\n",
      "[CV] .................. C=0.4, penalty=l2, solver=lbfgs, total=   0.0s\n",
      "[CV] C=0.4, penalty=l2, solver=lbfgs .................................\n",
      "[CV] .................. C=0.4, penalty=l2, solver=lbfgs, total=   0.0s\n",
      "[CV] C=0.4, penalty=l2, solver=lbfgs .................................\n",
      "[CV] .................. C=0.4, penalty=l2, solver=lbfgs, total=   0.0s\n",
      "[CV] C=0.4, penalty=l2, solver=sag ...................................\n",
      "[CV] .................... C=0.4, penalty=l2, solver=sag, total=   0.1s\n",
      "[CV] C=0.4, penalty=l2, solver=sag ...................................\n",
      "[CV] .................... C=0.4, penalty=l2, solver=sag, total=   0.1s\n",
      "[CV] C=0.4, penalty=l2, solver=sag ...................................\n",
      "[CV] .................... C=0.4, penalty=l2, solver=sag, total=   0.1s\n",
      "[CV] C=0.4, penalty=l2, solver=sag ...................................\n",
      "[CV] .................... C=0.4, penalty=l2, solver=sag, total=   0.0s\n",
      "[CV] C=0.4, penalty=l2, solver=sag ...................................\n",
      "[CV] .................... C=0.4, penalty=l2, solver=sag, total=   0.1s\n",
      "[CV] C=0.4, penalty=l2, solver=saga ..................................\n",
      "[CV] ................... C=0.4, penalty=l2, solver=saga, total=   0.1s\n",
      "[CV] C=0.4, penalty=l2, solver=saga ..................................\n"
     ]
    },
    {
     "name": "stderr",
     "output_type": "stream",
     "text": [
      "E:\\Anaconda3\\lib\\site-packages\\sklearn\\linear_model\\_sag.py:330: ConvergenceWarning: The max_iter was reached which means the coef_ did not converge\n",
      "  \"the coef_ did not converge\", ConvergenceWarning)\n",
      "E:\\Anaconda3\\lib\\site-packages\\sklearn\\linear_model\\_sag.py:330: ConvergenceWarning: The max_iter was reached which means the coef_ did not converge\n",
      "  \"the coef_ did not converge\", ConvergenceWarning)\n"
     ]
    },
    {
     "name": "stdout",
     "output_type": "stream",
     "text": [
      "[CV] ................... C=0.4, penalty=l2, solver=saga, total=   0.1s\n",
      "[CV] C=0.4, penalty=l2, solver=saga ..................................\n",
      "[CV] ................... C=0.4, penalty=l2, solver=saga, total=   0.1s\n",
      "[CV] C=0.4, penalty=l2, solver=saga ..................................\n"
     ]
    },
    {
     "name": "stderr",
     "output_type": "stream",
     "text": [
      "E:\\Anaconda3\\lib\\site-packages\\sklearn\\linear_model\\_sag.py:330: ConvergenceWarning: The max_iter was reached which means the coef_ did not converge\n",
      "  \"the coef_ did not converge\", ConvergenceWarning)\n"
     ]
    },
    {
     "name": "stdout",
     "output_type": "stream",
     "text": [
      "[CV] ................... C=0.4, penalty=l2, solver=saga, total=   0.1s\n",
      "[CV] C=0.4, penalty=l2, solver=saga ..................................\n",
      "[CV] ................... C=0.4, penalty=l2, solver=saga, total=   0.1s\n",
      "[CV] C=0.4, penalty=l2, solver=liblinear .............................\n",
      "[CV] .............. C=0.4, penalty=l2, solver=liblinear, total=   0.0s\n",
      "[CV] C=0.4, penalty=l2, solver=liblinear .............................\n",
      "[CV] .............. C=0.4, penalty=l2, solver=liblinear, total=   0.0s\n",
      "[CV] C=0.4, penalty=l2, solver=liblinear .............................\n",
      "[CV] .............. C=0.4, penalty=l2, solver=liblinear, total=   0.0s\n",
      "[CV] C=0.4, penalty=l2, solver=liblinear .............................\n",
      "[CV] .............. C=0.4, penalty=l2, solver=liblinear, total=   0.0s\n",
      "[CV] C=0.4, penalty=l2, solver=liblinear .............................\n",
      "[CV] .............. C=0.4, penalty=l2, solver=liblinear, total=   0.0s\n",
      "[CV] C=0.5, penalty=l1, solver=newton-cg .............................\n",
      "[CV] .............. C=0.5, penalty=l1, solver=newton-cg, total=   0.0s\n",
      "[CV] C=0.5, penalty=l1, solver=newton-cg .............................\n",
      "[CV] .............. C=0.5, penalty=l1, solver=newton-cg, total=   0.0s\n",
      "[CV] C=0.5, penalty=l1, solver=newton-cg .............................\n",
      "[CV] .............. C=0.5, penalty=l1, solver=newton-cg, total=   0.0s\n",
      "[CV] C=0.5, penalty=l1, solver=newton-cg .............................\n",
      "[CV] .............. C=0.5, penalty=l1, solver=newton-cg, total=   0.0s\n",
      "[CV] C=0.5, penalty=l1, solver=newton-cg .............................\n",
      "[CV] .............. C=0.5, penalty=l1, solver=newton-cg, total=   0.0s\n",
      "[CV] C=0.5, penalty=l1, solver=lbfgs .................................\n",
      "[CV] .................. C=0.5, penalty=l1, solver=lbfgs, total=   0.0s\n",
      "[CV] C=0.5, penalty=l1, solver=lbfgs .................................\n",
      "[CV] .................. C=0.5, penalty=l1, solver=lbfgs, total=   0.0s\n",
      "[CV] C=0.5, penalty=l1, solver=lbfgs .................................\n",
      "[CV] .................. C=0.5, penalty=l1, solver=lbfgs, total=   0.0s\n",
      "[CV] C=0.5, penalty=l1, solver=lbfgs .................................\n",
      "[CV] .................. C=0.5, penalty=l1, solver=lbfgs, total=   0.0s\n",
      "[CV] C=0.5, penalty=l1, solver=lbfgs .................................\n",
      "[CV] .................. C=0.5, penalty=l1, solver=lbfgs, total=   0.0s\n",
      "[CV] C=0.5, penalty=l1, solver=sag ...................................\n",
      "[CV] .................... C=0.5, penalty=l1, solver=sag, total=   0.0s\n",
      "[CV] C=0.5, penalty=l1, solver=sag ...................................\n",
      "[CV] .................... C=0.5, penalty=l1, solver=sag, total=   0.0s\n",
      "[CV] C=0.5, penalty=l1, solver=sag ...................................\n",
      "[CV] .................... C=0.5, penalty=l1, solver=sag, total=   0.0s\n",
      "[CV] C=0.5, penalty=l1, solver=sag ...................................\n",
      "[CV] .................... C=0.5, penalty=l1, solver=sag, total=   0.0s\n",
      "[CV] C=0.5, penalty=l1, solver=sag ...................................\n",
      "[CV] .................... C=0.5, penalty=l1, solver=sag, total=   0.0s\n",
      "[CV] C=0.5, penalty=l1, solver=saga ..................................\n"
     ]
    },
    {
     "name": "stderr",
     "output_type": "stream",
     "text": [
      "E:\\Anaconda3\\lib\\site-packages\\sklearn\\model_selection\\_validation.py:536: FitFailedWarning: Estimator fit failed. The score on this train-test partition for these parameters will be set to nan. Details: \n",
      "ValueError: Solver newton-cg supports only 'l2' or 'none' penalties, got l1 penalty.\n",
      "\n",
      "  FitFailedWarning)\n",
      "E:\\Anaconda3\\lib\\site-packages\\sklearn\\model_selection\\_validation.py:536: FitFailedWarning: Estimator fit failed. The score on this train-test partition for these parameters will be set to nan. Details: \n",
      "ValueError: Solver lbfgs supports only 'l2' or 'none' penalties, got l1 penalty.\n",
      "\n",
      "  FitFailedWarning)\n",
      "E:\\Anaconda3\\lib\\site-packages\\sklearn\\model_selection\\_validation.py:536: FitFailedWarning: Estimator fit failed. The score on this train-test partition for these parameters will be set to nan. Details: \n",
      "ValueError: Solver sag supports only 'l2' or 'none' penalties, got l1 penalty.\n",
      "\n",
      "  FitFailedWarning)\n",
      "E:\\Anaconda3\\lib\\site-packages\\sklearn\\linear_model\\_sag.py:330: ConvergenceWarning: The max_iter was reached which means the coef_ did not converge\n",
      "  \"the coef_ did not converge\", ConvergenceWarning)\n"
     ]
    },
    {
     "name": "stdout",
     "output_type": "stream",
     "text": [
      "[CV] ................... C=0.5, penalty=l1, solver=saga, total=   0.1s\n",
      "[CV] C=0.5, penalty=l1, solver=saga ..................................\n",
      "[CV] ................... C=0.5, penalty=l1, solver=saga, total=   0.1s\n",
      "[CV] C=0.5, penalty=l1, solver=saga ..................................\n"
     ]
    },
    {
     "name": "stderr",
     "output_type": "stream",
     "text": [
      "E:\\Anaconda3\\lib\\site-packages\\sklearn\\linear_model\\_sag.py:330: ConvergenceWarning: The max_iter was reached which means the coef_ did not converge\n",
      "  \"the coef_ did not converge\", ConvergenceWarning)\n",
      "E:\\Anaconda3\\lib\\site-packages\\sklearn\\linear_model\\_sag.py:330: ConvergenceWarning: The max_iter was reached which means the coef_ did not converge\n",
      "  \"the coef_ did not converge\", ConvergenceWarning)\n"
     ]
    },
    {
     "name": "stdout",
     "output_type": "stream",
     "text": [
      "[CV] ................... C=0.5, penalty=l1, solver=saga, total=   0.1s\n",
      "[CV] C=0.5, penalty=l1, solver=saga ..................................\n",
      "[CV] ................... C=0.5, penalty=l1, solver=saga, total=   0.1s\n",
      "[CV] C=0.5, penalty=l1, solver=saga ..................................\n"
     ]
    },
    {
     "name": "stderr",
     "output_type": "stream",
     "text": [
      "E:\\Anaconda3\\lib\\site-packages\\sklearn\\linear_model\\_sag.py:330: ConvergenceWarning: The max_iter was reached which means the coef_ did not converge\n",
      "  \"the coef_ did not converge\", ConvergenceWarning)\n"
     ]
    },
    {
     "name": "stdout",
     "output_type": "stream",
     "text": [
      "[CV] ................... C=0.5, penalty=l1, solver=saga, total=   0.1s\n",
      "[CV] C=0.5, penalty=l1, solver=liblinear .............................\n",
      "[CV] .............. C=0.5, penalty=l1, solver=liblinear, total=   0.0s\n",
      "[CV] C=0.5, penalty=l1, solver=liblinear .............................\n",
      "[CV] .............. C=0.5, penalty=l1, solver=liblinear, total=   0.0s\n",
      "[CV] C=0.5, penalty=l1, solver=liblinear .............................\n",
      "[CV] .............. C=0.5, penalty=l1, solver=liblinear, total=   0.0s\n",
      "[CV] C=0.5, penalty=l1, solver=liblinear .............................\n",
      "[CV] .............. C=0.5, penalty=l1, solver=liblinear, total=   0.0s\n",
      "[CV] C=0.5, penalty=l1, solver=liblinear .............................\n",
      "[CV] .............. C=0.5, penalty=l1, solver=liblinear, total=   0.0s\n",
      "[CV] C=0.5, penalty=l2, solver=newton-cg .............................\n",
      "[CV] .............. C=0.5, penalty=l2, solver=newton-cg, total=   0.0s\n",
      "[CV] C=0.5, penalty=l2, solver=newton-cg .............................\n",
      "[CV] .............. C=0.5, penalty=l2, solver=newton-cg, total=   0.0s\n",
      "[CV] C=0.5, penalty=l2, solver=newton-cg .............................\n",
      "[CV] .............. C=0.5, penalty=l2, solver=newton-cg, total=   0.0s\n",
      "[CV] C=0.5, penalty=l2, solver=newton-cg .............................\n",
      "[CV] .............. C=0.5, penalty=l2, solver=newton-cg, total=   0.0s\n",
      "[CV] C=0.5, penalty=l2, solver=newton-cg .............................\n",
      "[CV] .............. C=0.5, penalty=l2, solver=newton-cg, total=   0.0s\n",
      "[CV] C=0.5, penalty=l2, solver=lbfgs .................................\n",
      "[CV] .................. C=0.5, penalty=l2, solver=lbfgs, total=   0.0s\n",
      "[CV] C=0.5, penalty=l2, solver=lbfgs .................................\n",
      "[CV] .................. C=0.5, penalty=l2, solver=lbfgs, total=   0.0s\n",
      "[CV] C=0.5, penalty=l2, solver=lbfgs .................................\n",
      "[CV] .................. C=0.5, penalty=l2, solver=lbfgs, total=   0.0s\n",
      "[CV] C=0.5, penalty=l2, solver=lbfgs .................................\n",
      "[CV] .................. C=0.5, penalty=l2, solver=lbfgs, total=   0.0s\n",
      "[CV] C=0.5, penalty=l2, solver=lbfgs .................................\n",
      "[CV] .................. C=0.5, penalty=l2, solver=lbfgs, total=   0.0s\n",
      "[CV] C=0.5, penalty=l2, solver=sag ...................................\n",
      "[CV] .................... C=0.5, penalty=l2, solver=sag, total=   0.1s\n",
      "[CV] C=0.5, penalty=l2, solver=sag ...................................\n",
      "[CV] .................... C=0.5, penalty=l2, solver=sag, total=   0.1s\n",
      "[CV] C=0.5, penalty=l2, solver=sag ...................................\n",
      "[CV] .................... C=0.5, penalty=l2, solver=sag, total=   0.1s\n",
      "[CV] C=0.5, penalty=l2, solver=sag ...................................\n",
      "[CV] .................... C=0.5, penalty=l2, solver=sag, total=   0.0s\n",
      "[CV] C=0.5, penalty=l2, solver=sag ...................................\n",
      "[CV] .................... C=0.5, penalty=l2, solver=sag, total=   0.1s\n",
      "[CV] C=0.5, penalty=l2, solver=saga ..................................\n",
      "[CV] ................... C=0.5, penalty=l2, solver=saga, total=   0.1s\n",
      "[CV] C=0.5, penalty=l2, solver=saga ..................................\n"
     ]
    },
    {
     "name": "stderr",
     "output_type": "stream",
     "text": [
      "E:\\Anaconda3\\lib\\site-packages\\sklearn\\linear_model\\_sag.py:330: ConvergenceWarning: The max_iter was reached which means the coef_ did not converge\n",
      "  \"the coef_ did not converge\", ConvergenceWarning)\n",
      "E:\\Anaconda3\\lib\\site-packages\\sklearn\\linear_model\\_sag.py:330: ConvergenceWarning: The max_iter was reached which means the coef_ did not converge\n",
      "  \"the coef_ did not converge\", ConvergenceWarning)\n"
     ]
    },
    {
     "name": "stdout",
     "output_type": "stream",
     "text": [
      "[CV] ................... C=0.5, penalty=l2, solver=saga, total=   0.1s\n",
      "[CV] C=0.5, penalty=l2, solver=saga ..................................\n",
      "[CV] ................... C=0.5, penalty=l2, solver=saga, total=   0.1s\n",
      "[CV] C=0.5, penalty=l2, solver=saga ..................................\n",
      "[CV] ................... C=0.5, penalty=l2, solver=saga, total=   0.1s\n",
      "[CV] C=0.5, penalty=l2, solver=saga ..................................\n"
     ]
    },
    {
     "name": "stderr",
     "output_type": "stream",
     "text": [
      "E:\\Anaconda3\\lib\\site-packages\\sklearn\\linear_model\\_sag.py:330: ConvergenceWarning: The max_iter was reached which means the coef_ did not converge\n",
      "  \"the coef_ did not converge\", ConvergenceWarning)\n",
      "E:\\Anaconda3\\lib\\site-packages\\sklearn\\linear_model\\_sag.py:330: ConvergenceWarning: The max_iter was reached which means the coef_ did not converge\n",
      "  \"the coef_ did not converge\", ConvergenceWarning)\n",
      "E:\\Anaconda3\\lib\\site-packages\\sklearn\\model_selection\\_validation.py:536: FitFailedWarning: Estimator fit failed. The score on this train-test partition for these parameters will be set to nan. Details: \n",
      "ValueError: Solver newton-cg supports only 'l2' or 'none' penalties, got l1 penalty.\n",
      "\n",
      "  FitFailedWarning)\n",
      "E:\\Anaconda3\\lib\\site-packages\\sklearn\\model_selection\\_validation.py:536: FitFailedWarning: Estimator fit failed. The score on this train-test partition for these parameters will be set to nan. Details: \n",
      "ValueError: Solver lbfgs supports only 'l2' or 'none' penalties, got l1 penalty.\n",
      "\n",
      "  FitFailedWarning)\n",
      "E:\\Anaconda3\\lib\\site-packages\\sklearn\\model_selection\\_validation.py:536: FitFailedWarning: Estimator fit failed. The score on this train-test partition for these parameters will be set to nan. Details: \n",
      "ValueError: Solver sag supports only 'l2' or 'none' penalties, got l1 penalty.\n",
      "\n",
      "  FitFailedWarning)\n",
      "E:\\Anaconda3\\lib\\site-packages\\sklearn\\linear_model\\_sag.py:330: ConvergenceWarning: The max_iter was reached which means the coef_ did not converge\n",
      "  \"the coef_ did not converge\", ConvergenceWarning)\n"
     ]
    },
    {
     "name": "stdout",
     "output_type": "stream",
     "text": [
      "[CV] ................... C=0.5, penalty=l2, solver=saga, total=   0.1s\n",
      "[CV] C=0.5, penalty=l2, solver=liblinear .............................\n",
      "[CV] .............. C=0.5, penalty=l2, solver=liblinear, total=   0.0s\n",
      "[CV] C=0.5, penalty=l2, solver=liblinear .............................\n",
      "[CV] .............. C=0.5, penalty=l2, solver=liblinear, total=   0.0s\n",
      "[CV] C=0.5, penalty=l2, solver=liblinear .............................\n",
      "[CV] .............. C=0.5, penalty=l2, solver=liblinear, total=   0.0s\n",
      "[CV] C=0.5, penalty=l2, solver=liblinear .............................\n",
      "[CV] .............. C=0.5, penalty=l2, solver=liblinear, total=   0.0s\n",
      "[CV] C=0.5, penalty=l2, solver=liblinear .............................\n",
      "[CV] .............. C=0.5, penalty=l2, solver=liblinear, total=   0.0s\n",
      "[CV] C=0.6, penalty=l1, solver=newton-cg .............................\n",
      "[CV] .............. C=0.6, penalty=l1, solver=newton-cg, total=   0.0s\n",
      "[CV] C=0.6, penalty=l1, solver=newton-cg .............................\n",
      "[CV] .............. C=0.6, penalty=l1, solver=newton-cg, total=   0.0s\n",
      "[CV] C=0.6, penalty=l1, solver=newton-cg .............................\n",
      "[CV] .............. C=0.6, penalty=l1, solver=newton-cg, total=   0.0s\n",
      "[CV] C=0.6, penalty=l1, solver=newton-cg .............................\n",
      "[CV] .............. C=0.6, penalty=l1, solver=newton-cg, total=   0.0s\n",
      "[CV] C=0.6, penalty=l1, solver=newton-cg .............................\n",
      "[CV] .............. C=0.6, penalty=l1, solver=newton-cg, total=   0.0s\n",
      "[CV] C=0.6, penalty=l1, solver=lbfgs .................................\n",
      "[CV] .................. C=0.6, penalty=l1, solver=lbfgs, total=   0.0s\n",
      "[CV] C=0.6, penalty=l1, solver=lbfgs .................................\n",
      "[CV] .................. C=0.6, penalty=l1, solver=lbfgs, total=   0.0s\n",
      "[CV] C=0.6, penalty=l1, solver=lbfgs .................................\n",
      "[CV] .................. C=0.6, penalty=l1, solver=lbfgs, total=   0.0s\n",
      "[CV] C=0.6, penalty=l1, solver=lbfgs .................................\n",
      "[CV] .................. C=0.6, penalty=l1, solver=lbfgs, total=   0.0s\n",
      "[CV] C=0.6, penalty=l1, solver=lbfgs .................................\n",
      "[CV] .................. C=0.6, penalty=l1, solver=lbfgs, total=   0.0s\n",
      "[CV] C=0.6, penalty=l1, solver=sag ...................................\n",
      "[CV] .................... C=0.6, penalty=l1, solver=sag, total=   0.0s\n",
      "[CV] C=0.6, penalty=l1, solver=sag ...................................\n",
      "[CV] .................... C=0.6, penalty=l1, solver=sag, total=   0.0s\n",
      "[CV] C=0.6, penalty=l1, solver=sag ...................................\n",
      "[CV] .................... C=0.6, penalty=l1, solver=sag, total=   0.0s\n",
      "[CV] C=0.6, penalty=l1, solver=sag ...................................\n",
      "[CV] .................... C=0.6, penalty=l1, solver=sag, total=   0.0s\n",
      "[CV] C=0.6, penalty=l1, solver=sag ...................................\n",
      "[CV] .................... C=0.6, penalty=l1, solver=sag, total=   0.0s\n",
      "[CV] C=0.6, penalty=l1, solver=saga ..................................\n",
      "[CV] ................... C=0.6, penalty=l1, solver=saga, total=   0.1s\n",
      "[CV] C=0.6, penalty=l1, solver=saga ..................................\n"
     ]
    },
    {
     "name": "stderr",
     "output_type": "stream",
     "text": [
      "E:\\Anaconda3\\lib\\site-packages\\sklearn\\linear_model\\_sag.py:330: ConvergenceWarning: The max_iter was reached which means the coef_ did not converge\n",
      "  \"the coef_ did not converge\", ConvergenceWarning)\n",
      "E:\\Anaconda3\\lib\\site-packages\\sklearn\\linear_model\\_sag.py:330: ConvergenceWarning: The max_iter was reached which means the coef_ did not converge\n",
      "  \"the coef_ did not converge\", ConvergenceWarning)\n"
     ]
    },
    {
     "name": "stdout",
     "output_type": "stream",
     "text": [
      "[CV] ................... C=0.6, penalty=l1, solver=saga, total=   0.1s\n",
      "[CV] C=0.6, penalty=l1, solver=saga ..................................\n",
      "[CV] ................... C=0.6, penalty=l1, solver=saga, total=   0.1s\n",
      "[CV] C=0.6, penalty=l1, solver=saga ..................................\n"
     ]
    },
    {
     "name": "stderr",
     "output_type": "stream",
     "text": [
      "E:\\Anaconda3\\lib\\site-packages\\sklearn\\linear_model\\_sag.py:330: ConvergenceWarning: The max_iter was reached which means the coef_ did not converge\n",
      "  \"the coef_ did not converge\", ConvergenceWarning)\n",
      "E:\\Anaconda3\\lib\\site-packages\\sklearn\\linear_model\\_sag.py:330: ConvergenceWarning: The max_iter was reached which means the coef_ did not converge\n",
      "  \"the coef_ did not converge\", ConvergenceWarning)\n"
     ]
    },
    {
     "name": "stdout",
     "output_type": "stream",
     "text": [
      "[CV] ................... C=0.6, penalty=l1, solver=saga, total=   0.1s\n",
      "[CV] C=0.6, penalty=l1, solver=saga ..................................\n",
      "[CV] ................... C=0.6, penalty=l1, solver=saga, total=   0.1s\n",
      "[CV] C=0.6, penalty=l1, solver=liblinear .............................\n",
      "[CV] .............. C=0.6, penalty=l1, solver=liblinear, total=   0.0s\n",
      "[CV] C=0.6, penalty=l1, solver=liblinear .............................\n",
      "[CV] .............. C=0.6, penalty=l1, solver=liblinear, total=   0.0s\n",
      "[CV] C=0.6, penalty=l1, solver=liblinear .............................\n",
      "[CV] .............. C=0.6, penalty=l1, solver=liblinear, total=   0.0s\n",
      "[CV] C=0.6, penalty=l1, solver=liblinear .............................\n",
      "[CV] .............. C=0.6, penalty=l1, solver=liblinear, total=   0.0s\n",
      "[CV] C=0.6, penalty=l1, solver=liblinear .............................\n",
      "[CV] .............. C=0.6, penalty=l1, solver=liblinear, total=   0.0s\n",
      "[CV] C=0.6, penalty=l2, solver=newton-cg .............................\n",
      "[CV] .............. C=0.6, penalty=l2, solver=newton-cg, total=   0.0s\n",
      "[CV] C=0.6, penalty=l2, solver=newton-cg .............................\n",
      "[CV] .............. C=0.6, penalty=l2, solver=newton-cg, total=   0.0s\n",
      "[CV] C=0.6, penalty=l2, solver=newton-cg .............................\n",
      "[CV] .............. C=0.6, penalty=l2, solver=newton-cg, total=   0.0s\n",
      "[CV] C=0.6, penalty=l2, solver=newton-cg .............................\n",
      "[CV] .............. C=0.6, penalty=l2, solver=newton-cg, total=   0.0s\n",
      "[CV] C=0.6, penalty=l2, solver=newton-cg .............................\n",
      "[CV] .............. C=0.6, penalty=l2, solver=newton-cg, total=   0.0s\n",
      "[CV] C=0.6, penalty=l2, solver=lbfgs .................................\n",
      "[CV] .................. C=0.6, penalty=l2, solver=lbfgs, total=   0.0s\n",
      "[CV] C=0.6, penalty=l2, solver=lbfgs .................................\n",
      "[CV] .................. C=0.6, penalty=l2, solver=lbfgs, total=   0.0s\n",
      "[CV] C=0.6, penalty=l2, solver=lbfgs .................................\n",
      "[CV] .................. C=0.6, penalty=l2, solver=lbfgs, total=   0.0s\n",
      "[CV] C=0.6, penalty=l2, solver=lbfgs .................................\n",
      "[CV] .................. C=0.6, penalty=l2, solver=lbfgs, total=   0.0s\n",
      "[CV] C=0.6, penalty=l2, solver=lbfgs .................................\n",
      "[CV] .................. C=0.6, penalty=l2, solver=lbfgs, total=   0.0s\n",
      "[CV] C=0.6, penalty=l2, solver=sag ...................................\n",
      "[CV] .................... C=0.6, penalty=l2, solver=sag, total=   0.1s\n",
      "[CV] C=0.6, penalty=l2, solver=sag ...................................\n",
      "[CV] .................... C=0.6, penalty=l2, solver=sag, total=   0.1s\n",
      "[CV] C=0.6, penalty=l2, solver=sag ...................................\n",
      "[CV] .................... C=0.6, penalty=l2, solver=sag, total=   0.1s\n",
      "[CV] C=0.6, penalty=l2, solver=sag ...................................\n",
      "[CV] .................... C=0.6, penalty=l2, solver=sag, total=   0.1s\n",
      "[CV] C=0.6, penalty=l2, solver=sag ...................................\n",
      "[CV] .................... C=0.6, penalty=l2, solver=sag, total=   0.1s\n",
      "[CV] C=0.6, penalty=l2, solver=saga ..................................\n",
      "[CV] ................... C=0.6, penalty=l2, solver=saga, total=   0.1s\n",
      "[CV] C=0.6, penalty=l2, solver=saga ..................................\n"
     ]
    },
    {
     "name": "stderr",
     "output_type": "stream",
     "text": [
      "E:\\Anaconda3\\lib\\site-packages\\sklearn\\linear_model\\_sag.py:330: ConvergenceWarning: The max_iter was reached which means the coef_ did not converge\n",
      "  \"the coef_ did not converge\", ConvergenceWarning)\n",
      "E:\\Anaconda3\\lib\\site-packages\\sklearn\\linear_model\\_sag.py:330: ConvergenceWarning: The max_iter was reached which means the coef_ did not converge\n",
      "  \"the coef_ did not converge\", ConvergenceWarning)\n"
     ]
    },
    {
     "name": "stdout",
     "output_type": "stream",
     "text": [
      "[CV] ................... C=0.6, penalty=l2, solver=saga, total=   0.1s\n",
      "[CV] C=0.6, penalty=l2, solver=saga ..................................\n",
      "[CV] ................... C=0.6, penalty=l2, solver=saga, total=   0.1s\n",
      "[CV] C=0.6, penalty=l2, solver=saga ..................................\n"
     ]
    },
    {
     "name": "stderr",
     "output_type": "stream",
     "text": [
      "E:\\Anaconda3\\lib\\site-packages\\sklearn\\linear_model\\_sag.py:330: ConvergenceWarning: The max_iter was reached which means the coef_ did not converge\n",
      "  \"the coef_ did not converge\", ConvergenceWarning)\n"
     ]
    },
    {
     "name": "stdout",
     "output_type": "stream",
     "text": [
      "[CV] ................... C=0.6, penalty=l2, solver=saga, total=   0.1s\n",
      "[CV] C=0.6, penalty=l2, solver=saga ..................................\n",
      "[CV] ................... C=0.6, penalty=l2, solver=saga, total=   0.1s\n",
      "[CV] C=0.6, penalty=l2, solver=liblinear .............................\n",
      "[CV] .............. C=0.6, penalty=l2, solver=liblinear, total=   0.0s\n",
      "[CV] C=0.6, penalty=l2, solver=liblinear .............................\n",
      "[CV] .............. C=0.6, penalty=l2, solver=liblinear, total=   0.0s\n",
      "[CV] C=0.6, penalty=l2, solver=liblinear .............................\n",
      "[CV] .............. C=0.6, penalty=l2, solver=liblinear, total=   0.0s\n",
      "[CV] C=0.6, penalty=l2, solver=liblinear .............................\n",
      "[CV] .............. C=0.6, penalty=l2, solver=liblinear, total=   0.0s\n",
      "[CV] C=0.6, penalty=l2, solver=liblinear .............................\n",
      "[CV] .............. C=0.6, penalty=l2, solver=liblinear, total=   0.0s\n",
      "[CV] C=0.7000000000000001, penalty=l1, solver=newton-cg ..............\n",
      "[CV]  C=0.7000000000000001, penalty=l1, solver=newton-cg, total=   0.0s\n",
      "[CV] C=0.7000000000000001, penalty=l1, solver=newton-cg ..............\n",
      "[CV]  C=0.7000000000000001, penalty=l1, solver=newton-cg, total=   0.0s\n",
      "[CV] C=0.7000000000000001, penalty=l1, solver=newton-cg ..............\n",
      "[CV]  C=0.7000000000000001, penalty=l1, solver=newton-cg, total=   0.0s\n",
      "[CV] C=0.7000000000000001, penalty=l1, solver=newton-cg ..............\n",
      "[CV]  C=0.7000000000000001, penalty=l1, solver=newton-cg, total=   0.0s\n",
      "[CV] C=0.7000000000000001, penalty=l1, solver=newton-cg ..............\n",
      "[CV]  C=0.7000000000000001, penalty=l1, solver=newton-cg, total=   0.0s\n",
      "[CV] C=0.7000000000000001, penalty=l1, solver=lbfgs ..................\n",
      "[CV] ... C=0.7000000000000001, penalty=l1, solver=lbfgs, total=   0.0s\n",
      "[CV] C=0.7000000000000001, penalty=l1, solver=lbfgs ..................\n",
      "[CV] ... C=0.7000000000000001, penalty=l1, solver=lbfgs, total=   0.0s\n",
      "[CV] C=0.7000000000000001, penalty=l1, solver=lbfgs ..................\n",
      "[CV] ... C=0.7000000000000001, penalty=l1, solver=lbfgs, total=   0.0s\n",
      "[CV] C=0.7000000000000001, penalty=l1, solver=lbfgs ..................\n",
      "[CV] ... C=0.7000000000000001, penalty=l1, solver=lbfgs, total=   0.0s\n",
      "[CV] C=0.7000000000000001, penalty=l1, solver=lbfgs ..................\n",
      "[CV] ... C=0.7000000000000001, penalty=l1, solver=lbfgs, total=   0.0s\n",
      "[CV] C=0.7000000000000001, penalty=l1, solver=sag ....................\n",
      "[CV] ..... C=0.7000000000000001, penalty=l1, solver=sag, total=   0.0s\n",
      "[CV] C=0.7000000000000001, penalty=l1, solver=sag ....................\n",
      "[CV] ..... C=0.7000000000000001, penalty=l1, solver=sag, total=   0.0s\n",
      "[CV] C=0.7000000000000001, penalty=l1, solver=sag ....................\n",
      "[CV] ..... C=0.7000000000000001, penalty=l1, solver=sag, total=   0.0s\n",
      "[CV] C=0.7000000000000001, penalty=l1, solver=sag ....................\n",
      "[CV] ..... C=0.7000000000000001, penalty=l1, solver=sag, total=   0.0s\n",
      "[CV] C=0.7000000000000001, penalty=l1, solver=sag ....................\n",
      "[CV] ..... C=0.7000000000000001, penalty=l1, solver=sag, total=   0.0s\n",
      "[CV] C=0.7000000000000001, penalty=l1, solver=saga ...................\n"
     ]
    },
    {
     "name": "stderr",
     "output_type": "stream",
     "text": [
      "E:\\Anaconda3\\lib\\site-packages\\sklearn\\linear_model\\_sag.py:330: ConvergenceWarning: The max_iter was reached which means the coef_ did not converge\n",
      "  \"the coef_ did not converge\", ConvergenceWarning)\n",
      "E:\\Anaconda3\\lib\\site-packages\\sklearn\\model_selection\\_validation.py:536: FitFailedWarning: Estimator fit failed. The score on this train-test partition for these parameters will be set to nan. Details: \n",
      "ValueError: Solver newton-cg supports only 'l2' or 'none' penalties, got l1 penalty.\n",
      "\n",
      "  FitFailedWarning)\n",
      "E:\\Anaconda3\\lib\\site-packages\\sklearn\\model_selection\\_validation.py:536: FitFailedWarning: Estimator fit failed. The score on this train-test partition for these parameters will be set to nan. Details: \n",
      "ValueError: Solver lbfgs supports only 'l2' or 'none' penalties, got l1 penalty.\n",
      "\n",
      "  FitFailedWarning)\n",
      "E:\\Anaconda3\\lib\\site-packages\\sklearn\\model_selection\\_validation.py:536: FitFailedWarning: Estimator fit failed. The score on this train-test partition for these parameters will be set to nan. Details: \n",
      "ValueError: Solver sag supports only 'l2' or 'none' penalties, got l1 penalty.\n",
      "\n",
      "  FitFailedWarning)\n",
      "E:\\Anaconda3\\lib\\site-packages\\sklearn\\linear_model\\_sag.py:330: ConvergenceWarning: The max_iter was reached which means the coef_ did not converge\n",
      "  \"the coef_ did not converge\", ConvergenceWarning)\n"
     ]
    },
    {
     "name": "stdout",
     "output_type": "stream",
     "text": [
      "[CV] .... C=0.7000000000000001, penalty=l1, solver=saga, total=   0.1s\n",
      "[CV] C=0.7000000000000001, penalty=l1, solver=saga ...................\n",
      "[CV] .... C=0.7000000000000001, penalty=l1, solver=saga, total=   0.1s\n",
      "[CV] C=0.7000000000000001, penalty=l1, solver=saga ...................\n"
     ]
    },
    {
     "name": "stderr",
     "output_type": "stream",
     "text": [
      "E:\\Anaconda3\\lib\\site-packages\\sklearn\\linear_model\\_sag.py:330: ConvergenceWarning: The max_iter was reached which means the coef_ did not converge\n",
      "  \"the coef_ did not converge\", ConvergenceWarning)\n",
      "E:\\Anaconda3\\lib\\site-packages\\sklearn\\linear_model\\_sag.py:330: ConvergenceWarning: The max_iter was reached which means the coef_ did not converge\n",
      "  \"the coef_ did not converge\", ConvergenceWarning)\n"
     ]
    },
    {
     "name": "stdout",
     "output_type": "stream",
     "text": [
      "[CV] .... C=0.7000000000000001, penalty=l1, solver=saga, total=   0.1s\n",
      "[CV] C=0.7000000000000001, penalty=l1, solver=saga ...................\n",
      "[CV] .... C=0.7000000000000001, penalty=l1, solver=saga, total=   0.1s\n",
      "[CV] C=0.7000000000000001, penalty=l1, solver=saga ...................\n"
     ]
    },
    {
     "name": "stderr",
     "output_type": "stream",
     "text": [
      "E:\\Anaconda3\\lib\\site-packages\\sklearn\\linear_model\\_sag.py:330: ConvergenceWarning: The max_iter was reached which means the coef_ did not converge\n",
      "  \"the coef_ did not converge\", ConvergenceWarning)\n",
      "E:\\Anaconda3\\lib\\site-packages\\sklearn\\linear_model\\_sag.py:330: ConvergenceWarning: The max_iter was reached which means the coef_ did not converge\n",
      "  \"the coef_ did not converge\", ConvergenceWarning)\n"
     ]
    },
    {
     "name": "stdout",
     "output_type": "stream",
     "text": [
      "[CV] .... C=0.7000000000000001, penalty=l1, solver=saga, total=   0.1s\n",
      "[CV] C=0.7000000000000001, penalty=l1, solver=liblinear ..............\n",
      "[CV]  C=0.7000000000000001, penalty=l1, solver=liblinear, total=   0.0s\n",
      "[CV] C=0.7000000000000001, penalty=l1, solver=liblinear ..............\n",
      "[CV]  C=0.7000000000000001, penalty=l1, solver=liblinear, total=   0.0s\n",
      "[CV] C=0.7000000000000001, penalty=l1, solver=liblinear ..............\n",
      "[CV]  C=0.7000000000000001, penalty=l1, solver=liblinear, total=   0.0s\n",
      "[CV] C=0.7000000000000001, penalty=l1, solver=liblinear ..............\n",
      "[CV]  C=0.7000000000000001, penalty=l1, solver=liblinear, total=   0.0s\n",
      "[CV] C=0.7000000000000001, penalty=l1, solver=liblinear ..............\n",
      "[CV]  C=0.7000000000000001, penalty=l1, solver=liblinear, total=   0.0s\n",
      "[CV] C=0.7000000000000001, penalty=l2, solver=newton-cg ..............\n",
      "[CV]  C=0.7000000000000001, penalty=l2, solver=newton-cg, total=   0.0s\n",
      "[CV] C=0.7000000000000001, penalty=l2, solver=newton-cg ..............\n",
      "[CV]  C=0.7000000000000001, penalty=l2, solver=newton-cg, total=   0.0s\n",
      "[CV] C=0.7000000000000001, penalty=l2, solver=newton-cg ..............\n",
      "[CV]  C=0.7000000000000001, penalty=l2, solver=newton-cg, total=   0.0s\n",
      "[CV] C=0.7000000000000001, penalty=l2, solver=newton-cg ..............\n",
      "[CV]  C=0.7000000000000001, penalty=l2, solver=newton-cg, total=   0.0s\n",
      "[CV] C=0.7000000000000001, penalty=l2, solver=newton-cg ..............\n",
      "[CV]  C=0.7000000000000001, penalty=l2, solver=newton-cg, total=   0.0s\n",
      "[CV] C=0.7000000000000001, penalty=l2, solver=lbfgs ..................\n",
      "[CV] ... C=0.7000000000000001, penalty=l2, solver=lbfgs, total=   0.0s\n",
      "[CV] C=0.7000000000000001, penalty=l2, solver=lbfgs ..................\n",
      "[CV] ... C=0.7000000000000001, penalty=l2, solver=lbfgs, total=   0.0s\n",
      "[CV] C=0.7000000000000001, penalty=l2, solver=lbfgs ..................\n",
      "[CV] ... C=0.7000000000000001, penalty=l2, solver=lbfgs, total=   0.0s\n",
      "[CV] C=0.7000000000000001, penalty=l2, solver=lbfgs ..................\n",
      "[CV] ... C=0.7000000000000001, penalty=l2, solver=lbfgs, total=   0.0s\n",
      "[CV] C=0.7000000000000001, penalty=l2, solver=lbfgs ..................\n",
      "[CV] ... C=0.7000000000000001, penalty=l2, solver=lbfgs, total=   0.0s\n",
      "[CV] C=0.7000000000000001, penalty=l2, solver=sag ....................\n",
      "[CV] ..... C=0.7000000000000001, penalty=l2, solver=sag, total=   0.1s\n",
      "[CV] C=0.7000000000000001, penalty=l2, solver=sag ....................\n",
      "[CV] ..... C=0.7000000000000001, penalty=l2, solver=sag, total=   0.1s\n",
      "[CV] C=0.7000000000000001, penalty=l2, solver=sag ....................\n",
      "[CV] ..... C=0.7000000000000001, penalty=l2, solver=sag, total=   0.1s\n",
      "[CV] C=0.7000000000000001, penalty=l2, solver=sag ....................\n",
      "[CV] ..... C=0.7000000000000001, penalty=l2, solver=sag, total=   0.0s\n",
      "[CV] C=0.7000000000000001, penalty=l2, solver=sag ....................\n",
      "[CV] ..... C=0.7000000000000001, penalty=l2, solver=sag, total=   0.1s\n",
      "[CV] C=0.7000000000000001, penalty=l2, solver=saga ...................\n"
     ]
    },
    {
     "name": "stderr",
     "output_type": "stream",
     "text": [
      "E:\\Anaconda3\\lib\\site-packages\\sklearn\\linear_model\\_sag.py:330: ConvergenceWarning: The max_iter was reached which means the coef_ did not converge\n",
      "  \"the coef_ did not converge\", ConvergenceWarning)\n",
      "E:\\Anaconda3\\lib\\site-packages\\sklearn\\linear_model\\_sag.py:330: ConvergenceWarning: The max_iter was reached which means the coef_ did not converge\n",
      "  \"the coef_ did not converge\", ConvergenceWarning)\n"
     ]
    },
    {
     "name": "stdout",
     "output_type": "stream",
     "text": [
      "[CV] .... C=0.7000000000000001, penalty=l2, solver=saga, total=   0.1s\n",
      "[CV] C=0.7000000000000001, penalty=l2, solver=saga ...................\n",
      "[CV] .... C=0.7000000000000001, penalty=l2, solver=saga, total=   0.1s\n",
      "[CV] C=0.7000000000000001, penalty=l2, solver=saga ...................\n"
     ]
    },
    {
     "name": "stderr",
     "output_type": "stream",
     "text": [
      "E:\\Anaconda3\\lib\\site-packages\\sklearn\\linear_model\\_sag.py:330: ConvergenceWarning: The max_iter was reached which means the coef_ did not converge\n",
      "  \"the coef_ did not converge\", ConvergenceWarning)\n"
     ]
    },
    {
     "name": "stdout",
     "output_type": "stream",
     "text": [
      "[CV] .... C=0.7000000000000001, penalty=l2, solver=saga, total=   0.1s\n",
      "[CV] C=0.7000000000000001, penalty=l2, solver=saga ...................\n",
      "[CV] .... C=0.7000000000000001, penalty=l2, solver=saga, total=   0.1s\n",
      "[CV] C=0.7000000000000001, penalty=l2, solver=saga ...................\n"
     ]
    },
    {
     "name": "stderr",
     "output_type": "stream",
     "text": [
      "E:\\Anaconda3\\lib\\site-packages\\sklearn\\linear_model\\_sag.py:330: ConvergenceWarning: The max_iter was reached which means the coef_ did not converge\n",
      "  \"the coef_ did not converge\", ConvergenceWarning)\n",
      "E:\\Anaconda3\\lib\\site-packages\\sklearn\\model_selection\\_validation.py:536: FitFailedWarning: Estimator fit failed. The score on this train-test partition for these parameters will be set to nan. Details: \n",
      "ValueError: Solver newton-cg supports only 'l2' or 'none' penalties, got l1 penalty.\n",
      "\n",
      "  FitFailedWarning)\n",
      "E:\\Anaconda3\\lib\\site-packages\\sklearn\\model_selection\\_validation.py:536: FitFailedWarning: Estimator fit failed. The score on this train-test partition for these parameters will be set to nan. Details: \n",
      "ValueError: Solver lbfgs supports only 'l2' or 'none' penalties, got l1 penalty.\n",
      "\n",
      "  FitFailedWarning)\n",
      "E:\\Anaconda3\\lib\\site-packages\\sklearn\\model_selection\\_validation.py:536: FitFailedWarning: Estimator fit failed. The score on this train-test partition for these parameters will be set to nan. Details: \n",
      "ValueError: Solver sag supports only 'l2' or 'none' penalties, got l1 penalty.\n",
      "\n",
      "  FitFailedWarning)\n",
      "E:\\Anaconda3\\lib\\site-packages\\sklearn\\linear_model\\_sag.py:330: ConvergenceWarning: The max_iter was reached which means the coef_ did not converge\n",
      "  \"the coef_ did not converge\", ConvergenceWarning)\n"
     ]
    },
    {
     "name": "stdout",
     "output_type": "stream",
     "text": [
      "[CV] .... C=0.7000000000000001, penalty=l2, solver=saga, total=   0.1s\n",
      "[CV] C=0.7000000000000001, penalty=l2, solver=liblinear ..............\n",
      "[CV]  C=0.7000000000000001, penalty=l2, solver=liblinear, total=   0.0s\n",
      "[CV] C=0.7000000000000001, penalty=l2, solver=liblinear ..............\n",
      "[CV]  C=0.7000000000000001, penalty=l2, solver=liblinear, total=   0.0s\n",
      "[CV] C=0.7000000000000001, penalty=l2, solver=liblinear ..............\n",
      "[CV]  C=0.7000000000000001, penalty=l2, solver=liblinear, total=   0.0s\n",
      "[CV] C=0.7000000000000001, penalty=l2, solver=liblinear ..............\n",
      "[CV]  C=0.7000000000000001, penalty=l2, solver=liblinear, total=   0.0s\n",
      "[CV] C=0.7000000000000001, penalty=l2, solver=liblinear ..............\n",
      "[CV]  C=0.7000000000000001, penalty=l2, solver=liblinear, total=   0.0s\n",
      "[CV] C=0.8, penalty=l1, solver=newton-cg .............................\n",
      "[CV] .............. C=0.8, penalty=l1, solver=newton-cg, total=   0.0s\n",
      "[CV] C=0.8, penalty=l1, solver=newton-cg .............................\n",
      "[CV] .............. C=0.8, penalty=l1, solver=newton-cg, total=   0.0s\n",
      "[CV] C=0.8, penalty=l1, solver=newton-cg .............................\n",
      "[CV] .............. C=0.8, penalty=l1, solver=newton-cg, total=   0.0s\n",
      "[CV] C=0.8, penalty=l1, solver=newton-cg .............................\n",
      "[CV] .............. C=0.8, penalty=l1, solver=newton-cg, total=   0.0s\n",
      "[CV] C=0.8, penalty=l1, solver=newton-cg .............................\n",
      "[CV] .............. C=0.8, penalty=l1, solver=newton-cg, total=   0.0s\n",
      "[CV] C=0.8, penalty=l1, solver=lbfgs .................................\n",
      "[CV] .................. C=0.8, penalty=l1, solver=lbfgs, total=   0.0s\n",
      "[CV] C=0.8, penalty=l1, solver=lbfgs .................................\n",
      "[CV] .................. C=0.8, penalty=l1, solver=lbfgs, total=   0.0s\n",
      "[CV] C=0.8, penalty=l1, solver=lbfgs .................................\n",
      "[CV] .................. C=0.8, penalty=l1, solver=lbfgs, total=   0.0s\n",
      "[CV] C=0.8, penalty=l1, solver=lbfgs .................................\n",
      "[CV] .................. C=0.8, penalty=l1, solver=lbfgs, total=   0.0s\n",
      "[CV] C=0.8, penalty=l1, solver=lbfgs .................................\n",
      "[CV] .................. C=0.8, penalty=l1, solver=lbfgs, total=   0.0s\n",
      "[CV] C=0.8, penalty=l1, solver=sag ...................................\n",
      "[CV] .................... C=0.8, penalty=l1, solver=sag, total=   0.0s\n",
      "[CV] C=0.8, penalty=l1, solver=sag ...................................\n",
      "[CV] .................... C=0.8, penalty=l1, solver=sag, total=   0.0s\n",
      "[CV] C=0.8, penalty=l1, solver=sag ...................................\n",
      "[CV] .................... C=0.8, penalty=l1, solver=sag, total=   0.0s\n",
      "[CV] C=0.8, penalty=l1, solver=sag ...................................\n",
      "[CV] .................... C=0.8, penalty=l1, solver=sag, total=   0.0s\n",
      "[CV] C=0.8, penalty=l1, solver=sag ...................................\n",
      "[CV] .................... C=0.8, penalty=l1, solver=sag, total=   0.0s\n",
      "[CV] C=0.8, penalty=l1, solver=saga ..................................\n",
      "[CV] ................... C=0.8, penalty=l1, solver=saga, total=   0.1s\n",
      "[CV] C=0.8, penalty=l1, solver=saga ..................................\n"
     ]
    },
    {
     "name": "stderr",
     "output_type": "stream",
     "text": [
      "E:\\Anaconda3\\lib\\site-packages\\sklearn\\linear_model\\_sag.py:330: ConvergenceWarning: The max_iter was reached which means the coef_ did not converge\n",
      "  \"the coef_ did not converge\", ConvergenceWarning)\n",
      "E:\\Anaconda3\\lib\\site-packages\\sklearn\\linear_model\\_sag.py:330: ConvergenceWarning: The max_iter was reached which means the coef_ did not converge\n",
      "  \"the coef_ did not converge\", ConvergenceWarning)\n"
     ]
    },
    {
     "name": "stdout",
     "output_type": "stream",
     "text": [
      "[CV] ................... C=0.8, penalty=l1, solver=saga, total=   0.1s\n",
      "[CV] C=0.8, penalty=l1, solver=saga ..................................\n",
      "[CV] ................... C=0.8, penalty=l1, solver=saga, total=   0.1s\n",
      "[CV] C=0.8, penalty=l1, solver=saga ..................................\n"
     ]
    },
    {
     "name": "stderr",
     "output_type": "stream",
     "text": [
      "E:\\Anaconda3\\lib\\site-packages\\sklearn\\linear_model\\_sag.py:330: ConvergenceWarning: The max_iter was reached which means the coef_ did not converge\n",
      "  \"the coef_ did not converge\", ConvergenceWarning)\n",
      "E:\\Anaconda3\\lib\\site-packages\\sklearn\\linear_model\\_sag.py:330: ConvergenceWarning: The max_iter was reached which means the coef_ did not converge\n",
      "  \"the coef_ did not converge\", ConvergenceWarning)\n"
     ]
    },
    {
     "name": "stdout",
     "output_type": "stream",
     "text": [
      "[CV] ................... C=0.8, penalty=l1, solver=saga, total=   0.1s\n",
      "[CV] C=0.8, penalty=l1, solver=saga ..................................\n",
      "[CV] ................... C=0.8, penalty=l1, solver=saga, total=   0.1s\n",
      "[CV] C=0.8, penalty=l1, solver=liblinear .............................\n",
      "[CV] .............. C=0.8, penalty=l1, solver=liblinear, total=   0.0s\n",
      "[CV] C=0.8, penalty=l1, solver=liblinear .............................\n",
      "[CV] .............. C=0.8, penalty=l1, solver=liblinear, total=   0.0s\n",
      "[CV] C=0.8, penalty=l1, solver=liblinear .............................\n",
      "[CV] .............. C=0.8, penalty=l1, solver=liblinear, total=   0.0s\n",
      "[CV] C=0.8, penalty=l1, solver=liblinear .............................\n",
      "[CV] .............. C=0.8, penalty=l1, solver=liblinear, total=   0.0s\n",
      "[CV] C=0.8, penalty=l1, solver=liblinear .............................\n",
      "[CV] .............. C=0.8, penalty=l1, solver=liblinear, total=   0.0s\n",
      "[CV] C=0.8, penalty=l2, solver=newton-cg .............................\n",
      "[CV] .............. C=0.8, penalty=l2, solver=newton-cg, total=   0.0s\n",
      "[CV] C=0.8, penalty=l2, solver=newton-cg .............................\n",
      "[CV] .............. C=0.8, penalty=l2, solver=newton-cg, total=   0.0s\n",
      "[CV] C=0.8, penalty=l2, solver=newton-cg .............................\n",
      "[CV] .............. C=0.8, penalty=l2, solver=newton-cg, total=   0.0s\n",
      "[CV] C=0.8, penalty=l2, solver=newton-cg .............................\n",
      "[CV] .............. C=0.8, penalty=l2, solver=newton-cg, total=   0.0s\n",
      "[CV] C=0.8, penalty=l2, solver=newton-cg .............................\n",
      "[CV] .............. C=0.8, penalty=l2, solver=newton-cg, total=   0.0s\n",
      "[CV] C=0.8, penalty=l2, solver=lbfgs .................................\n",
      "[CV] .................. C=0.8, penalty=l2, solver=lbfgs, total=   0.0s\n",
      "[CV] C=0.8, penalty=l2, solver=lbfgs .................................\n",
      "[CV] .................. C=0.8, penalty=l2, solver=lbfgs, total=   0.0s\n",
      "[CV] C=0.8, penalty=l2, solver=lbfgs .................................\n",
      "[CV] .................. C=0.8, penalty=l2, solver=lbfgs, total=   0.0s\n",
      "[CV] C=0.8, penalty=l2, solver=lbfgs .................................\n",
      "[CV] .................. C=0.8, penalty=l2, solver=lbfgs, total=   0.0s\n",
      "[CV] C=0.8, penalty=l2, solver=lbfgs .................................\n",
      "[CV] .................. C=0.8, penalty=l2, solver=lbfgs, total=   0.0s\n",
      "[CV] C=0.8, penalty=l2, solver=sag ...................................\n",
      "[CV] .................... C=0.8, penalty=l2, solver=sag, total=   0.1s\n",
      "[CV] C=0.8, penalty=l2, solver=sag ...................................\n",
      "[CV] .................... C=0.8, penalty=l2, solver=sag, total=   0.1s\n",
      "[CV] C=0.8, penalty=l2, solver=sag ...................................\n",
      "[CV] .................... C=0.8, penalty=l2, solver=sag, total=   0.1s\n",
      "[CV] C=0.8, penalty=l2, solver=sag ...................................\n",
      "[CV] .................... C=0.8, penalty=l2, solver=sag, total=   0.1s\n",
      "[CV] C=0.8, penalty=l2, solver=sag ...................................\n",
      "[CV] .................... C=0.8, penalty=l2, solver=sag, total=   0.1s\n",
      "[CV] C=0.8, penalty=l2, solver=saga ..................................\n",
      "[CV] ................... C=0.8, penalty=l2, solver=saga, total=   0.1s\n",
      "[CV] C=0.8, penalty=l2, solver=saga ..................................\n"
     ]
    },
    {
     "name": "stderr",
     "output_type": "stream",
     "text": [
      "E:\\Anaconda3\\lib\\site-packages\\sklearn\\linear_model\\_sag.py:330: ConvergenceWarning: The max_iter was reached which means the coef_ did not converge\n",
      "  \"the coef_ did not converge\", ConvergenceWarning)\n",
      "E:\\Anaconda3\\lib\\site-packages\\sklearn\\linear_model\\_sag.py:330: ConvergenceWarning: The max_iter was reached which means the coef_ did not converge\n",
      "  \"the coef_ did not converge\", ConvergenceWarning)\n"
     ]
    },
    {
     "name": "stdout",
     "output_type": "stream",
     "text": [
      "[CV] ................... C=0.8, penalty=l2, solver=saga, total=   0.1s\n",
      "[CV] C=0.8, penalty=l2, solver=saga ..................................\n",
      "[CV] ................... C=0.8, penalty=l2, solver=saga, total=   0.1s\n",
      "[CV] C=0.8, penalty=l2, solver=saga ..................................\n"
     ]
    },
    {
     "name": "stderr",
     "output_type": "stream",
     "text": [
      "E:\\Anaconda3\\lib\\site-packages\\sklearn\\linear_model\\_sag.py:330: ConvergenceWarning: The max_iter was reached which means the coef_ did not converge\n",
      "  \"the coef_ did not converge\", ConvergenceWarning)\n"
     ]
    },
    {
     "name": "stdout",
     "output_type": "stream",
     "text": [
      "[CV] ................... C=0.8, penalty=l2, solver=saga, total=   0.1s\n",
      "[CV] C=0.8, penalty=l2, solver=saga ..................................\n",
      "[CV] ................... C=0.8, penalty=l2, solver=saga, total=   0.1s\n",
      "[CV] C=0.8, penalty=l2, solver=liblinear .............................\n",
      "[CV] .............. C=0.8, penalty=l2, solver=liblinear, total=   0.0s\n",
      "[CV] C=0.8, penalty=l2, solver=liblinear .............................\n",
      "[CV] .............. C=0.8, penalty=l2, solver=liblinear, total=   0.0s\n",
      "[CV] C=0.8, penalty=l2, solver=liblinear .............................\n",
      "[CV] .............. C=0.8, penalty=l2, solver=liblinear, total=   0.0s\n",
      "[CV] C=0.8, penalty=l2, solver=liblinear .............................\n",
      "[CV] .............. C=0.8, penalty=l2, solver=liblinear, total=   0.0s\n",
      "[CV] C=0.8, penalty=l2, solver=liblinear .............................\n",
      "[CV] .............. C=0.8, penalty=l2, solver=liblinear, total=   0.0s\n",
      "[CV] C=0.9, penalty=l1, solver=newton-cg .............................\n",
      "[CV] .............. C=0.9, penalty=l1, solver=newton-cg, total=   0.0s\n",
      "[CV] C=0.9, penalty=l1, solver=newton-cg .............................\n",
      "[CV] .............. C=0.9, penalty=l1, solver=newton-cg, total=   0.0s\n",
      "[CV] C=0.9, penalty=l1, solver=newton-cg .............................\n",
      "[CV] .............. C=0.9, penalty=l1, solver=newton-cg, total=   0.0s\n",
      "[CV] C=0.9, penalty=l1, solver=newton-cg .............................\n",
      "[CV] .............. C=0.9, penalty=l1, solver=newton-cg, total=   0.0s\n",
      "[CV] C=0.9, penalty=l1, solver=newton-cg .............................\n",
      "[CV] .............. C=0.9, penalty=l1, solver=newton-cg, total=   0.0s\n",
      "[CV] C=0.9, penalty=l1, solver=lbfgs .................................\n",
      "[CV] .................. C=0.9, penalty=l1, solver=lbfgs, total=   0.0s\n",
      "[CV] C=0.9, penalty=l1, solver=lbfgs .................................\n",
      "[CV] .................. C=0.9, penalty=l1, solver=lbfgs, total=   0.0s\n",
      "[CV] C=0.9, penalty=l1, solver=lbfgs .................................\n",
      "[CV] .................. C=0.9, penalty=l1, solver=lbfgs, total=   0.0s\n",
      "[CV] C=0.9, penalty=l1, solver=lbfgs .................................\n",
      "[CV] .................. C=0.9, penalty=l1, solver=lbfgs, total=   0.0s\n",
      "[CV] C=0.9, penalty=l1, solver=lbfgs .................................\n",
      "[CV] .................. C=0.9, penalty=l1, solver=lbfgs, total=   0.0s\n",
      "[CV] C=0.9, penalty=l1, solver=sag ...................................\n",
      "[CV] .................... C=0.9, penalty=l1, solver=sag, total=   0.0s\n",
      "[CV] C=0.9, penalty=l1, solver=sag ...................................\n",
      "[CV] .................... C=0.9, penalty=l1, solver=sag, total=   0.0s\n",
      "[CV] C=0.9, penalty=l1, solver=sag ...................................\n",
      "[CV] .................... C=0.9, penalty=l1, solver=sag, total=   0.0s\n",
      "[CV] C=0.9, penalty=l1, solver=sag ...................................\n",
      "[CV] .................... C=0.9, penalty=l1, solver=sag, total=   0.0s\n",
      "[CV] C=0.9, penalty=l1, solver=sag ...................................\n",
      "[CV] .................... C=0.9, penalty=l1, solver=sag, total=   0.0s\n",
      "[CV] C=0.9, penalty=l1, solver=saga ..................................\n"
     ]
    },
    {
     "name": "stderr",
     "output_type": "stream",
     "text": [
      "E:\\Anaconda3\\lib\\site-packages\\sklearn\\linear_model\\_sag.py:330: ConvergenceWarning: The max_iter was reached which means the coef_ did not converge\n",
      "  \"the coef_ did not converge\", ConvergenceWarning)\n",
      "E:\\Anaconda3\\lib\\site-packages\\sklearn\\model_selection\\_validation.py:536: FitFailedWarning: Estimator fit failed. The score on this train-test partition for these parameters will be set to nan. Details: \n",
      "ValueError: Solver newton-cg supports only 'l2' or 'none' penalties, got l1 penalty.\n",
      "\n",
      "  FitFailedWarning)\n",
      "E:\\Anaconda3\\lib\\site-packages\\sklearn\\model_selection\\_validation.py:536: FitFailedWarning: Estimator fit failed. The score on this train-test partition for these parameters will be set to nan. Details: \n",
      "ValueError: Solver lbfgs supports only 'l2' or 'none' penalties, got l1 penalty.\n",
      "\n",
      "  FitFailedWarning)\n",
      "E:\\Anaconda3\\lib\\site-packages\\sklearn\\model_selection\\_validation.py:536: FitFailedWarning: Estimator fit failed. The score on this train-test partition for these parameters will be set to nan. Details: \n",
      "ValueError: Solver sag supports only 'l2' or 'none' penalties, got l1 penalty.\n",
      "\n",
      "  FitFailedWarning)\n",
      "E:\\Anaconda3\\lib\\site-packages\\sklearn\\linear_model\\_sag.py:330: ConvergenceWarning: The max_iter was reached which means the coef_ did not converge\n",
      "  \"the coef_ did not converge\", ConvergenceWarning)\n"
     ]
    },
    {
     "name": "stdout",
     "output_type": "stream",
     "text": [
      "[CV] ................... C=0.9, penalty=l1, solver=saga, total=   0.1s\n",
      "[CV] C=0.9, penalty=l1, solver=saga ..................................\n",
      "[CV] ................... C=0.9, penalty=l1, solver=saga, total=   0.1s\n",
      "[CV] C=0.9, penalty=l1, solver=saga ..................................\n"
     ]
    },
    {
     "name": "stderr",
     "output_type": "stream",
     "text": [
      "E:\\Anaconda3\\lib\\site-packages\\sklearn\\linear_model\\_sag.py:330: ConvergenceWarning: The max_iter was reached which means the coef_ did not converge\n",
      "  \"the coef_ did not converge\", ConvergenceWarning)\n",
      "E:\\Anaconda3\\lib\\site-packages\\sklearn\\linear_model\\_sag.py:330: ConvergenceWarning: The max_iter was reached which means the coef_ did not converge\n",
      "  \"the coef_ did not converge\", ConvergenceWarning)\n"
     ]
    },
    {
     "name": "stdout",
     "output_type": "stream",
     "text": [
      "[CV] ................... C=0.9, penalty=l1, solver=saga, total=   0.1s\n",
      "[CV] C=0.9, penalty=l1, solver=saga ..................................\n",
      "[CV] ................... C=0.9, penalty=l1, solver=saga, total=   0.1s\n",
      "[CV] C=0.9, penalty=l1, solver=saga ..................................\n"
     ]
    },
    {
     "name": "stderr",
     "output_type": "stream",
     "text": [
      "E:\\Anaconda3\\lib\\site-packages\\sklearn\\linear_model\\_sag.py:330: ConvergenceWarning: The max_iter was reached which means the coef_ did not converge\n",
      "  \"the coef_ did not converge\", ConvergenceWarning)\n",
      "E:\\Anaconda3\\lib\\site-packages\\sklearn\\linear_model\\_sag.py:330: ConvergenceWarning: The max_iter was reached which means the coef_ did not converge\n",
      "  \"the coef_ did not converge\", ConvergenceWarning)\n"
     ]
    },
    {
     "name": "stdout",
     "output_type": "stream",
     "text": [
      "[CV] ................... C=0.9, penalty=l1, solver=saga, total=   0.1s\n",
      "[CV] C=0.9, penalty=l1, solver=liblinear .............................\n",
      "[CV] .............. C=0.9, penalty=l1, solver=liblinear, total=   0.0s\n",
      "[CV] C=0.9, penalty=l1, solver=liblinear .............................\n",
      "[CV] .............. C=0.9, penalty=l1, solver=liblinear, total=   0.0s\n",
      "[CV] C=0.9, penalty=l1, solver=liblinear .............................\n",
      "[CV] .............. C=0.9, penalty=l1, solver=liblinear, total=   0.0s\n",
      "[CV] C=0.9, penalty=l1, solver=liblinear .............................\n",
      "[CV] .............. C=0.9, penalty=l1, solver=liblinear, total=   0.0s\n",
      "[CV] C=0.9, penalty=l1, solver=liblinear .............................\n",
      "[CV] .............. C=0.9, penalty=l1, solver=liblinear, total=   0.0s\n",
      "[CV] C=0.9, penalty=l2, solver=newton-cg .............................\n",
      "[CV] .............. C=0.9, penalty=l2, solver=newton-cg, total=   0.0s\n",
      "[CV] C=0.9, penalty=l2, solver=newton-cg .............................\n",
      "[CV] .............. C=0.9, penalty=l2, solver=newton-cg, total=   0.0s\n",
      "[CV] C=0.9, penalty=l2, solver=newton-cg .............................\n",
      "[CV] .............. C=0.9, penalty=l2, solver=newton-cg, total=   0.0s\n",
      "[CV] C=0.9, penalty=l2, solver=newton-cg .............................\n",
      "[CV] .............. C=0.9, penalty=l2, solver=newton-cg, total=   0.0s\n",
      "[CV] C=0.9, penalty=l2, solver=newton-cg .............................\n",
      "[CV] .............. C=0.9, penalty=l2, solver=newton-cg, total=   0.0s\n",
      "[CV] C=0.9, penalty=l2, solver=lbfgs .................................\n",
      "[CV] .................. C=0.9, penalty=l2, solver=lbfgs, total=   0.0s\n",
      "[CV] C=0.9, penalty=l2, solver=lbfgs .................................\n",
      "[CV] .................. C=0.9, penalty=l2, solver=lbfgs, total=   0.0s\n",
      "[CV] C=0.9, penalty=l2, solver=lbfgs .................................\n",
      "[CV] .................. C=0.9, penalty=l2, solver=lbfgs, total=   0.0s\n",
      "[CV] C=0.9, penalty=l2, solver=lbfgs .................................\n",
      "[CV] .................. C=0.9, penalty=l2, solver=lbfgs, total=   0.0s\n",
      "[CV] C=0.9, penalty=l2, solver=lbfgs .................................\n",
      "[CV] .................. C=0.9, penalty=l2, solver=lbfgs, total=   0.0s\n",
      "[CV] C=0.9, penalty=l2, solver=sag ...................................\n",
      "[CV] .................... C=0.9, penalty=l2, solver=sag, total=   0.1s\n",
      "[CV] C=0.9, penalty=l2, solver=sag ...................................\n",
      "[CV] .................... C=0.9, penalty=l2, solver=sag, total=   0.1s\n",
      "[CV] C=0.9, penalty=l2, solver=sag ...................................\n",
      "[CV] .................... C=0.9, penalty=l2, solver=sag, total=   0.1s\n",
      "[CV] C=0.9, penalty=l2, solver=sag ...................................\n",
      "[CV] .................... C=0.9, penalty=l2, solver=sag, total=   0.1s\n",
      "[CV] C=0.9, penalty=l2, solver=sag ...................................\n",
      "[CV] .................... C=0.9, penalty=l2, solver=sag, total=   0.1s\n",
      "[CV] C=0.9, penalty=l2, solver=saga ..................................\n"
     ]
    },
    {
     "name": "stderr",
     "output_type": "stream",
     "text": [
      "E:\\Anaconda3\\lib\\site-packages\\sklearn\\linear_model\\_sag.py:330: ConvergenceWarning: The max_iter was reached which means the coef_ did not converge\n",
      "  \"the coef_ did not converge\", ConvergenceWarning)\n",
      "E:\\Anaconda3\\lib\\site-packages\\sklearn\\linear_model\\_sag.py:330: ConvergenceWarning: The max_iter was reached which means the coef_ did not converge\n",
      "  \"the coef_ did not converge\", ConvergenceWarning)\n"
     ]
    },
    {
     "name": "stdout",
     "output_type": "stream",
     "text": [
      "[CV] ................... C=0.9, penalty=l2, solver=saga, total=   0.1s\n",
      "[CV] C=0.9, penalty=l2, solver=saga ..................................\n",
      "[CV] ................... C=0.9, penalty=l2, solver=saga, total=   0.1s\n",
      "[CV] C=0.9, penalty=l2, solver=saga ..................................\n"
     ]
    },
    {
     "name": "stderr",
     "output_type": "stream",
     "text": [
      "E:\\Anaconda3\\lib\\site-packages\\sklearn\\linear_model\\_sag.py:330: ConvergenceWarning: The max_iter was reached which means the coef_ did not converge\n",
      "  \"the coef_ did not converge\", ConvergenceWarning)\n"
     ]
    },
    {
     "name": "stdout",
     "output_type": "stream",
     "text": [
      "[CV] ................... C=0.9, penalty=l2, solver=saga, total=   0.1s\n",
      "[CV] C=0.9, penalty=l2, solver=saga ..................................\n",
      "[CV] ................... C=0.9, penalty=l2, solver=saga, total=   0.1s\n",
      "[CV] C=0.9, penalty=l2, solver=saga ..................................\n"
     ]
    },
    {
     "name": "stderr",
     "output_type": "stream",
     "text": [
      "E:\\Anaconda3\\lib\\site-packages\\sklearn\\linear_model\\_sag.py:330: ConvergenceWarning: The max_iter was reached which means the coef_ did not converge\n",
      "  \"the coef_ did not converge\", ConvergenceWarning)\n",
      "E:\\Anaconda3\\lib\\site-packages\\sklearn\\model_selection\\_validation.py:536: FitFailedWarning: Estimator fit failed. The score on this train-test partition for these parameters will be set to nan. Details: \n",
      "ValueError: Solver newton-cg supports only 'l2' or 'none' penalties, got l1 penalty.\n",
      "\n",
      "  FitFailedWarning)\n",
      "E:\\Anaconda3\\lib\\site-packages\\sklearn\\model_selection\\_validation.py:536: FitFailedWarning: Estimator fit failed. The score on this train-test partition for these parameters will be set to nan. Details: \n",
      "ValueError: Solver lbfgs supports only 'l2' or 'none' penalties, got l1 penalty.\n",
      "\n",
      "  FitFailedWarning)\n",
      "E:\\Anaconda3\\lib\\site-packages\\sklearn\\model_selection\\_validation.py:536: FitFailedWarning: Estimator fit failed. The score on this train-test partition for these parameters will be set to nan. Details: \n",
      "ValueError: Solver sag supports only 'l2' or 'none' penalties, got l1 penalty.\n",
      "\n",
      "  FitFailedWarning)\n",
      "E:\\Anaconda3\\lib\\site-packages\\sklearn\\linear_model\\_sag.py:330: ConvergenceWarning: The max_iter was reached which means the coef_ did not converge\n",
      "  \"the coef_ did not converge\", ConvergenceWarning)\n"
     ]
    },
    {
     "name": "stdout",
     "output_type": "stream",
     "text": [
      "[CV] ................... C=0.9, penalty=l2, solver=saga, total=   0.1s\n",
      "[CV] C=0.9, penalty=l2, solver=liblinear .............................\n",
      "[CV] .............. C=0.9, penalty=l2, solver=liblinear, total=   0.0s\n",
      "[CV] C=0.9, penalty=l2, solver=liblinear .............................\n",
      "[CV] .............. C=0.9, penalty=l2, solver=liblinear, total=   0.0s\n",
      "[CV] C=0.9, penalty=l2, solver=liblinear .............................\n",
      "[CV] .............. C=0.9, penalty=l2, solver=liblinear, total=   0.0s\n",
      "[CV] C=0.9, penalty=l2, solver=liblinear .............................\n",
      "[CV] .............. C=0.9, penalty=l2, solver=liblinear, total=   0.0s\n",
      "[CV] C=0.9, penalty=l2, solver=liblinear .............................\n",
      "[CV] .............. C=0.9, penalty=l2, solver=liblinear, total=   0.0s\n",
      "[CV] C=1.0, penalty=l1, solver=newton-cg .............................\n",
      "[CV] .............. C=1.0, penalty=l1, solver=newton-cg, total=   0.0s\n",
      "[CV] C=1.0, penalty=l1, solver=newton-cg .............................\n",
      "[CV] .............. C=1.0, penalty=l1, solver=newton-cg, total=   0.0s\n",
      "[CV] C=1.0, penalty=l1, solver=newton-cg .............................\n",
      "[CV] .............. C=1.0, penalty=l1, solver=newton-cg, total=   0.0s\n",
      "[CV] C=1.0, penalty=l1, solver=newton-cg .............................\n",
      "[CV] .............. C=1.0, penalty=l1, solver=newton-cg, total=   0.0s\n",
      "[CV] C=1.0, penalty=l1, solver=newton-cg .............................\n",
      "[CV] .............. C=1.0, penalty=l1, solver=newton-cg, total=   0.0s\n",
      "[CV] C=1.0, penalty=l1, solver=lbfgs .................................\n",
      "[CV] .................. C=1.0, penalty=l1, solver=lbfgs, total=   0.0s\n",
      "[CV] C=1.0, penalty=l1, solver=lbfgs .................................\n",
      "[CV] .................. C=1.0, penalty=l1, solver=lbfgs, total=   0.0s\n",
      "[CV] C=1.0, penalty=l1, solver=lbfgs .................................\n",
      "[CV] .................. C=1.0, penalty=l1, solver=lbfgs, total=   0.0s\n",
      "[CV] C=1.0, penalty=l1, solver=lbfgs .................................\n",
      "[CV] .................. C=1.0, penalty=l1, solver=lbfgs, total=   0.0s\n",
      "[CV] C=1.0, penalty=l1, solver=lbfgs .................................\n",
      "[CV] .................. C=1.0, penalty=l1, solver=lbfgs, total=   0.0s\n",
      "[CV] C=1.0, penalty=l1, solver=sag ...................................\n",
      "[CV] .................... C=1.0, penalty=l1, solver=sag, total=   0.0s\n",
      "[CV] C=1.0, penalty=l1, solver=sag ...................................\n",
      "[CV] .................... C=1.0, penalty=l1, solver=sag, total=   0.0s\n",
      "[CV] C=1.0, penalty=l1, solver=sag ...................................\n",
      "[CV] .................... C=1.0, penalty=l1, solver=sag, total=   0.0s\n",
      "[CV] C=1.0, penalty=l1, solver=sag ...................................\n",
      "[CV] .................... C=1.0, penalty=l1, solver=sag, total=   0.0s\n",
      "[CV] C=1.0, penalty=l1, solver=sag ...................................\n",
      "[CV] .................... C=1.0, penalty=l1, solver=sag, total=   0.0s\n",
      "[CV] C=1.0, penalty=l1, solver=saga ..................................\n",
      "[CV] ................... C=1.0, penalty=l1, solver=saga, total=   0.1s\n",
      "[CV] C=1.0, penalty=l1, solver=saga ..................................\n"
     ]
    },
    {
     "name": "stderr",
     "output_type": "stream",
     "text": [
      "E:\\Anaconda3\\lib\\site-packages\\sklearn\\linear_model\\_sag.py:330: ConvergenceWarning: The max_iter was reached which means the coef_ did not converge\n",
      "  \"the coef_ did not converge\", ConvergenceWarning)\n",
      "E:\\Anaconda3\\lib\\site-packages\\sklearn\\linear_model\\_sag.py:330: ConvergenceWarning: The max_iter was reached which means the coef_ did not converge\n",
      "  \"the coef_ did not converge\", ConvergenceWarning)\n"
     ]
    },
    {
     "name": "stdout",
     "output_type": "stream",
     "text": [
      "[CV] ................... C=1.0, penalty=l1, solver=saga, total=   0.1s\n",
      "[CV] C=1.0, penalty=l1, solver=saga ..................................\n",
      "[CV] ................... C=1.0, penalty=l1, solver=saga, total=   0.1s\n",
      "[CV] C=1.0, penalty=l1, solver=saga ..................................\n"
     ]
    },
    {
     "name": "stderr",
     "output_type": "stream",
     "text": [
      "E:\\Anaconda3\\lib\\site-packages\\sklearn\\linear_model\\_sag.py:330: ConvergenceWarning: The max_iter was reached which means the coef_ did not converge\n",
      "  \"the coef_ did not converge\", ConvergenceWarning)\n",
      "E:\\Anaconda3\\lib\\site-packages\\sklearn\\linear_model\\_sag.py:330: ConvergenceWarning: The max_iter was reached which means the coef_ did not converge\n",
      "  \"the coef_ did not converge\", ConvergenceWarning)\n"
     ]
    },
    {
     "name": "stdout",
     "output_type": "stream",
     "text": [
      "[CV] ................... C=1.0, penalty=l1, solver=saga, total=   0.1s\n",
      "[CV] C=1.0, penalty=l1, solver=saga ..................................\n",
      "[CV] ................... C=1.0, penalty=l1, solver=saga, total=   0.1s\n",
      "[CV] C=1.0, penalty=l1, solver=liblinear .............................\n",
      "[CV] .............. C=1.0, penalty=l1, solver=liblinear, total=   0.0s\n",
      "[CV] C=1.0, penalty=l1, solver=liblinear .............................\n",
      "[CV] .............. C=1.0, penalty=l1, solver=liblinear, total=   0.0s\n",
      "[CV] C=1.0, penalty=l1, solver=liblinear .............................\n",
      "[CV] .............. C=1.0, penalty=l1, solver=liblinear, total=   0.0s\n",
      "[CV] C=1.0, penalty=l1, solver=liblinear .............................\n",
      "[CV] .............. C=1.0, penalty=l1, solver=liblinear, total=   0.0s\n",
      "[CV] C=1.0, penalty=l1, solver=liblinear .............................\n",
      "[CV] .............. C=1.0, penalty=l1, solver=liblinear, total=   0.0s\n",
      "[CV] C=1.0, penalty=l2, solver=newton-cg .............................\n",
      "[CV] .............. C=1.0, penalty=l2, solver=newton-cg, total=   0.0s\n",
      "[CV] C=1.0, penalty=l2, solver=newton-cg .............................\n",
      "[CV] .............. C=1.0, penalty=l2, solver=newton-cg, total=   0.0s\n",
      "[CV] C=1.0, penalty=l2, solver=newton-cg .............................\n",
      "[CV] .............. C=1.0, penalty=l2, solver=newton-cg, total=   0.0s\n",
      "[CV] C=1.0, penalty=l2, solver=newton-cg .............................\n",
      "[CV] .............. C=1.0, penalty=l2, solver=newton-cg, total=   0.0s\n",
      "[CV] C=1.0, penalty=l2, solver=newton-cg .............................\n",
      "[CV] .............. C=1.0, penalty=l2, solver=newton-cg, total=   0.0s\n",
      "[CV] C=1.0, penalty=l2, solver=lbfgs .................................\n",
      "[CV] .................. C=1.0, penalty=l2, solver=lbfgs, total=   0.0s\n",
      "[CV] C=1.0, penalty=l2, solver=lbfgs .................................\n",
      "[CV] .................. C=1.0, penalty=l2, solver=lbfgs, total=   0.0s\n",
      "[CV] C=1.0, penalty=l2, solver=lbfgs .................................\n",
      "[CV] .................. C=1.0, penalty=l2, solver=lbfgs, total=   0.0s\n",
      "[CV] C=1.0, penalty=l2, solver=lbfgs .................................\n",
      "[CV] .................. C=1.0, penalty=l2, solver=lbfgs, total=   0.0s\n",
      "[CV] C=1.0, penalty=l2, solver=lbfgs .................................\n",
      "[CV] .................. C=1.0, penalty=l2, solver=lbfgs, total=   0.0s\n",
      "[CV] C=1.0, penalty=l2, solver=sag ...................................\n",
      "[CV] .................... C=1.0, penalty=l2, solver=sag, total=   0.1s\n",
      "[CV] C=1.0, penalty=l2, solver=sag ...................................\n",
      "[CV] .................... C=1.0, penalty=l2, solver=sag, total=   0.1s\n",
      "[CV] C=1.0, penalty=l2, solver=sag ...................................\n",
      "[CV] .................... C=1.0, penalty=l2, solver=sag, total=   0.1s\n",
      "[CV] C=1.0, penalty=l2, solver=sag ...................................\n",
      "[CV] .................... C=1.0, penalty=l2, solver=sag, total=   0.1s\n",
      "[CV] C=1.0, penalty=l2, solver=sag ...................................\n",
      "[CV] .................... C=1.0, penalty=l2, solver=sag, total=   0.1s\n",
      "[CV] C=1.0, penalty=l2, solver=saga ..................................\n",
      "[CV] ................... C=1.0, penalty=l2, solver=saga, total=   0.1s\n",
      "[CV] C=1.0, penalty=l2, solver=saga ..................................\n"
     ]
    },
    {
     "name": "stderr",
     "output_type": "stream",
     "text": [
      "E:\\Anaconda3\\lib\\site-packages\\sklearn\\linear_model\\_sag.py:330: ConvergenceWarning: The max_iter was reached which means the coef_ did not converge\n",
      "  \"the coef_ did not converge\", ConvergenceWarning)\n",
      "E:\\Anaconda3\\lib\\site-packages\\sklearn\\linear_model\\_sag.py:330: ConvergenceWarning: The max_iter was reached which means the coef_ did not converge\n",
      "  \"the coef_ did not converge\", ConvergenceWarning)\n"
     ]
    },
    {
     "name": "stdout",
     "output_type": "stream",
     "text": [
      "[CV] ................... C=1.0, penalty=l2, solver=saga, total=   0.1s\n",
      "[CV] C=1.0, penalty=l2, solver=saga ..................................\n",
      "[CV] ................... C=1.0, penalty=l2, solver=saga, total=   0.1s\n",
      "[CV] C=1.0, penalty=l2, solver=saga ..................................\n"
     ]
    },
    {
     "name": "stderr",
     "output_type": "stream",
     "text": [
      "E:\\Anaconda3\\lib\\site-packages\\sklearn\\linear_model\\_sag.py:330: ConvergenceWarning: The max_iter was reached which means the coef_ did not converge\n",
      "  \"the coef_ did not converge\", ConvergenceWarning)\n"
     ]
    },
    {
     "name": "stdout",
     "output_type": "stream",
     "text": [
      "[CV] ................... C=1.0, penalty=l2, solver=saga, total=   0.1s\n",
      "[CV] C=1.0, penalty=l2, solver=saga ..................................\n",
      "[CV] ................... C=1.0, penalty=l2, solver=saga, total=   0.1s\n",
      "[CV] C=1.0, penalty=l2, solver=liblinear .............................\n",
      "[CV] .............. C=1.0, penalty=l2, solver=liblinear, total=   0.0s\n",
      "[CV] C=1.0, penalty=l2, solver=liblinear .............................\n",
      "[CV] .............. C=1.0, penalty=l2, solver=liblinear, total=   0.0s\n",
      "[CV] C=1.0, penalty=l2, solver=liblinear .............................\n",
      "[CV] .............. C=1.0, penalty=l2, solver=liblinear, total=   0.0s\n",
      "[CV] C=1.0, penalty=l2, solver=liblinear .............................\n",
      "[CV] .............. C=1.0, penalty=l2, solver=liblinear, total=   0.0s\n",
      "[CV] C=1.0, penalty=l2, solver=liblinear .............................\n",
      "[CV] .............. C=1.0, penalty=l2, solver=liblinear, total=   0.0s\n",
      "[CV] C=1.1, penalty=l1, solver=newton-cg .............................\n",
      "[CV] .............. C=1.1, penalty=l1, solver=newton-cg, total=   0.0s\n",
      "[CV] C=1.1, penalty=l1, solver=newton-cg .............................\n",
      "[CV] .............. C=1.1, penalty=l1, solver=newton-cg, total=   0.0s\n",
      "[CV] C=1.1, penalty=l1, solver=newton-cg .............................\n",
      "[CV] .............. C=1.1, penalty=l1, solver=newton-cg, total=   0.0s\n",
      "[CV] C=1.1, penalty=l1, solver=newton-cg .............................\n",
      "[CV] .............. C=1.1, penalty=l1, solver=newton-cg, total=   0.0s\n",
      "[CV] C=1.1, penalty=l1, solver=newton-cg .............................\n",
      "[CV] .............. C=1.1, penalty=l1, solver=newton-cg, total=   0.0s\n",
      "[CV] C=1.1, penalty=l1, solver=lbfgs .................................\n",
      "[CV] .................. C=1.1, penalty=l1, solver=lbfgs, total=   0.0s\n",
      "[CV] C=1.1, penalty=l1, solver=lbfgs .................................\n",
      "[CV] .................. C=1.1, penalty=l1, solver=lbfgs, total=   0.0s\n",
      "[CV] C=1.1, penalty=l1, solver=lbfgs .................................\n",
      "[CV] .................. C=1.1, penalty=l1, solver=lbfgs, total=   0.0s\n",
      "[CV] C=1.1, penalty=l1, solver=lbfgs .................................\n",
      "[CV] .................. C=1.1, penalty=l1, solver=lbfgs, total=   0.0s\n",
      "[CV] C=1.1, penalty=l1, solver=lbfgs .................................\n",
      "[CV] .................. C=1.1, penalty=l1, solver=lbfgs, total=   0.0s\n",
      "[CV] C=1.1, penalty=l1, solver=sag ...................................\n",
      "[CV] .................... C=1.1, penalty=l1, solver=sag, total=   0.0s\n",
      "[CV] C=1.1, penalty=l1, solver=sag ...................................\n",
      "[CV] .................... C=1.1, penalty=l1, solver=sag, total=   0.0s\n",
      "[CV] C=1.1, penalty=l1, solver=sag ...................................\n",
      "[CV] .................... C=1.1, penalty=l1, solver=sag, total=   0.0s\n",
      "[CV] C=1.1, penalty=l1, solver=sag ...................................\n",
      "[CV] .................... C=1.1, penalty=l1, solver=sag, total=   0.0s\n",
      "[CV] C=1.1, penalty=l1, solver=sag ...................................\n",
      "[CV] .................... C=1.1, penalty=l1, solver=sag, total=   0.0s\n",
      "[CV] C=1.1, penalty=l1, solver=saga ..................................\n"
     ]
    },
    {
     "name": "stderr",
     "output_type": "stream",
     "text": [
      "E:\\Anaconda3\\lib\\site-packages\\sklearn\\linear_model\\_sag.py:330: ConvergenceWarning: The max_iter was reached which means the coef_ did not converge\n",
      "  \"the coef_ did not converge\", ConvergenceWarning)\n",
      "E:\\Anaconda3\\lib\\site-packages\\sklearn\\model_selection\\_validation.py:536: FitFailedWarning: Estimator fit failed. The score on this train-test partition for these parameters will be set to nan. Details: \n",
      "ValueError: Solver newton-cg supports only 'l2' or 'none' penalties, got l1 penalty.\n",
      "\n",
      "  FitFailedWarning)\n",
      "E:\\Anaconda3\\lib\\site-packages\\sklearn\\model_selection\\_validation.py:536: FitFailedWarning: Estimator fit failed. The score on this train-test partition for these parameters will be set to nan. Details: \n",
      "ValueError: Solver lbfgs supports only 'l2' or 'none' penalties, got l1 penalty.\n",
      "\n",
      "  FitFailedWarning)\n",
      "E:\\Anaconda3\\lib\\site-packages\\sklearn\\model_selection\\_validation.py:536: FitFailedWarning: Estimator fit failed. The score on this train-test partition for these parameters will be set to nan. Details: \n",
      "ValueError: Solver sag supports only 'l2' or 'none' penalties, got l1 penalty.\n",
      "\n",
      "  FitFailedWarning)\n",
      "E:\\Anaconda3\\lib\\site-packages\\sklearn\\linear_model\\_sag.py:330: ConvergenceWarning: The max_iter was reached which means the coef_ did not converge\n",
      "  \"the coef_ did not converge\", ConvergenceWarning)\n"
     ]
    },
    {
     "name": "stdout",
     "output_type": "stream",
     "text": [
      "[CV] ................... C=1.1, penalty=l1, solver=saga, total=   0.1s\n",
      "[CV] C=1.1, penalty=l1, solver=saga ..................................\n",
      "[CV] ................... C=1.1, penalty=l1, solver=saga, total=   0.1s\n",
      "[CV] C=1.1, penalty=l1, solver=saga ..................................\n"
     ]
    },
    {
     "name": "stderr",
     "output_type": "stream",
     "text": [
      "E:\\Anaconda3\\lib\\site-packages\\sklearn\\linear_model\\_sag.py:330: ConvergenceWarning: The max_iter was reached which means the coef_ did not converge\n",
      "  \"the coef_ did not converge\", ConvergenceWarning)\n",
      "E:\\Anaconda3\\lib\\site-packages\\sklearn\\linear_model\\_sag.py:330: ConvergenceWarning: The max_iter was reached which means the coef_ did not converge\n",
      "  \"the coef_ did not converge\", ConvergenceWarning)\n"
     ]
    },
    {
     "name": "stdout",
     "output_type": "stream",
     "text": [
      "[CV] ................... C=1.1, penalty=l1, solver=saga, total=   0.1s\n",
      "[CV] C=1.1, penalty=l1, solver=saga ..................................\n",
      "[CV] ................... C=1.1, penalty=l1, solver=saga, total=   0.1s\n",
      "[CV] C=1.1, penalty=l1, solver=saga ..................................\n"
     ]
    },
    {
     "name": "stderr",
     "output_type": "stream",
     "text": [
      "E:\\Anaconda3\\lib\\site-packages\\sklearn\\linear_model\\_sag.py:330: ConvergenceWarning: The max_iter was reached which means the coef_ did not converge\n",
      "  \"the coef_ did not converge\", ConvergenceWarning)\n",
      "E:\\Anaconda3\\lib\\site-packages\\sklearn\\linear_model\\_sag.py:330: ConvergenceWarning: The max_iter was reached which means the coef_ did not converge\n",
      "  \"the coef_ did not converge\", ConvergenceWarning)\n"
     ]
    },
    {
     "name": "stdout",
     "output_type": "stream",
     "text": [
      "[CV] ................... C=1.1, penalty=l1, solver=saga, total=   0.1s\n",
      "[CV] C=1.1, penalty=l1, solver=liblinear .............................\n",
      "[CV] .............. C=1.1, penalty=l1, solver=liblinear, total=   0.0s\n",
      "[CV] C=1.1, penalty=l1, solver=liblinear .............................\n",
      "[CV] .............. C=1.1, penalty=l1, solver=liblinear, total=   0.0s\n",
      "[CV] C=1.1, penalty=l1, solver=liblinear .............................\n",
      "[CV] .............. C=1.1, penalty=l1, solver=liblinear, total=   0.0s\n",
      "[CV] C=1.1, penalty=l1, solver=liblinear .............................\n",
      "[CV] .............. C=1.1, penalty=l1, solver=liblinear, total=   0.0s\n",
      "[CV] C=1.1, penalty=l1, solver=liblinear .............................\n",
      "[CV] .............. C=1.1, penalty=l1, solver=liblinear, total=   0.0s\n",
      "[CV] C=1.1, penalty=l2, solver=newton-cg .............................\n",
      "[CV] .............. C=1.1, penalty=l2, solver=newton-cg, total=   0.0s\n",
      "[CV] C=1.1, penalty=l2, solver=newton-cg .............................\n",
      "[CV] .............. C=1.1, penalty=l2, solver=newton-cg, total=   0.0s\n",
      "[CV] C=1.1, penalty=l2, solver=newton-cg .............................\n",
      "[CV] .............. C=1.1, penalty=l2, solver=newton-cg, total=   0.0s\n",
      "[CV] C=1.1, penalty=l2, solver=newton-cg .............................\n",
      "[CV] .............. C=1.1, penalty=l2, solver=newton-cg, total=   0.0s\n",
      "[CV] C=1.1, penalty=l2, solver=newton-cg .............................\n",
      "[CV] .............. C=1.1, penalty=l2, solver=newton-cg, total=   0.0s\n",
      "[CV] C=1.1, penalty=l2, solver=lbfgs .................................\n",
      "[CV] .................. C=1.1, penalty=l2, solver=lbfgs, total=   0.0s\n",
      "[CV] C=1.1, penalty=l2, solver=lbfgs .................................\n",
      "[CV] .................. C=1.1, penalty=l2, solver=lbfgs, total=   0.0s\n",
      "[CV] C=1.1, penalty=l2, solver=lbfgs .................................\n",
      "[CV] .................. C=1.1, penalty=l2, solver=lbfgs, total=   0.0s\n",
      "[CV] C=1.1, penalty=l2, solver=lbfgs .................................\n",
      "[CV] .................. C=1.1, penalty=l2, solver=lbfgs, total=   0.0s\n",
      "[CV] C=1.1, penalty=l2, solver=lbfgs .................................\n",
      "[CV] .................. C=1.1, penalty=l2, solver=lbfgs, total=   0.0s\n",
      "[CV] C=1.1, penalty=l2, solver=sag ...................................\n",
      "[CV] .................... C=1.1, penalty=l2, solver=sag, total=   0.1s\n",
      "[CV] C=1.1, penalty=l2, solver=sag ...................................\n",
      "[CV] .................... C=1.1, penalty=l2, solver=sag, total=   0.1s\n",
      "[CV] C=1.1, penalty=l2, solver=sag ...................................\n",
      "[CV] .................... C=1.1, penalty=l2, solver=sag, total=   0.1s\n",
      "[CV] C=1.1, penalty=l2, solver=sag ...................................\n",
      "[CV] .................... C=1.1, penalty=l2, solver=sag, total=   0.1s\n",
      "[CV] C=1.1, penalty=l2, solver=sag ...................................\n",
      "[CV] .................... C=1.1, penalty=l2, solver=sag, total=   0.1s\n",
      "[CV] C=1.1, penalty=l2, solver=saga ..................................\n"
     ]
    },
    {
     "name": "stderr",
     "output_type": "stream",
     "text": [
      "E:\\Anaconda3\\lib\\site-packages\\sklearn\\linear_model\\_sag.py:330: ConvergenceWarning: The max_iter was reached which means the coef_ did not converge\n",
      "  \"the coef_ did not converge\", ConvergenceWarning)\n",
      "E:\\Anaconda3\\lib\\site-packages\\sklearn\\linear_model\\_sag.py:330: ConvergenceWarning: The max_iter was reached which means the coef_ did not converge\n",
      "  \"the coef_ did not converge\", ConvergenceWarning)\n"
     ]
    },
    {
     "name": "stdout",
     "output_type": "stream",
     "text": [
      "[CV] ................... C=1.1, penalty=l2, solver=saga, total=   0.1s\n",
      "[CV] C=1.1, penalty=l2, solver=saga ..................................\n",
      "[CV] ................... C=1.1, penalty=l2, solver=saga, total=   0.1s\n",
      "[CV] C=1.1, penalty=l2, solver=saga ..................................\n"
     ]
    },
    {
     "name": "stderr",
     "output_type": "stream",
     "text": [
      "E:\\Anaconda3\\lib\\site-packages\\sklearn\\linear_model\\_sag.py:330: ConvergenceWarning: The max_iter was reached which means the coef_ did not converge\n",
      "  \"the coef_ did not converge\", ConvergenceWarning)\n"
     ]
    },
    {
     "name": "stdout",
     "output_type": "stream",
     "text": [
      "[CV] ................... C=1.1, penalty=l2, solver=saga, total=   0.1s\n",
      "[CV] C=1.1, penalty=l2, solver=saga ..................................\n",
      "[CV] ................... C=1.1, penalty=l2, solver=saga, total=   0.1s\n",
      "[CV] C=1.1, penalty=l2, solver=saga ..................................\n"
     ]
    },
    {
     "name": "stderr",
     "output_type": "stream",
     "text": [
      "E:\\Anaconda3\\lib\\site-packages\\sklearn\\linear_model\\_sag.py:330: ConvergenceWarning: The max_iter was reached which means the coef_ did not converge\n",
      "  \"the coef_ did not converge\", ConvergenceWarning)\n",
      "E:\\Anaconda3\\lib\\site-packages\\sklearn\\model_selection\\_validation.py:536: FitFailedWarning: Estimator fit failed. The score on this train-test partition for these parameters will be set to nan. Details: \n",
      "ValueError: Solver newton-cg supports only 'l2' or 'none' penalties, got l1 penalty.\n",
      "\n",
      "  FitFailedWarning)\n",
      "E:\\Anaconda3\\lib\\site-packages\\sklearn\\model_selection\\_validation.py:536: FitFailedWarning: Estimator fit failed. The score on this train-test partition for these parameters will be set to nan. Details: \n",
      "ValueError: Solver lbfgs supports only 'l2' or 'none' penalties, got l1 penalty.\n",
      "\n",
      "  FitFailedWarning)\n",
      "E:\\Anaconda3\\lib\\site-packages\\sklearn\\model_selection\\_validation.py:536: FitFailedWarning: Estimator fit failed. The score on this train-test partition for these parameters will be set to nan. Details: \n",
      "ValueError: Solver sag supports only 'l2' or 'none' penalties, got l1 penalty.\n",
      "\n",
      "  FitFailedWarning)\n",
      "E:\\Anaconda3\\lib\\site-packages\\sklearn\\linear_model\\_sag.py:330: ConvergenceWarning: The max_iter was reached which means the coef_ did not converge\n",
      "  \"the coef_ did not converge\", ConvergenceWarning)\n"
     ]
    },
    {
     "name": "stdout",
     "output_type": "stream",
     "text": [
      "[CV] ................... C=1.1, penalty=l2, solver=saga, total=   0.1s\n",
      "[CV] C=1.1, penalty=l2, solver=liblinear .............................\n",
      "[CV] .............. C=1.1, penalty=l2, solver=liblinear, total=   0.0s\n",
      "[CV] C=1.1, penalty=l2, solver=liblinear .............................\n",
      "[CV] .............. C=1.1, penalty=l2, solver=liblinear, total=   0.0s\n",
      "[CV] C=1.1, penalty=l2, solver=liblinear .............................\n",
      "[CV] .............. C=1.1, penalty=l2, solver=liblinear, total=   0.0s\n",
      "[CV] C=1.1, penalty=l2, solver=liblinear .............................\n",
      "[CV] .............. C=1.1, penalty=l2, solver=liblinear, total=   0.0s\n",
      "[CV] C=1.1, penalty=l2, solver=liblinear .............................\n",
      "[CV] .............. C=1.1, penalty=l2, solver=liblinear, total=   0.0s\n",
      "[CV] C=1.2000000000000002, penalty=l1, solver=newton-cg ..............\n",
      "[CV]  C=1.2000000000000002, penalty=l1, solver=newton-cg, total=   0.0s\n",
      "[CV] C=1.2000000000000002, penalty=l1, solver=newton-cg ..............\n",
      "[CV]  C=1.2000000000000002, penalty=l1, solver=newton-cg, total=   0.0s\n",
      "[CV] C=1.2000000000000002, penalty=l1, solver=newton-cg ..............\n",
      "[CV]  C=1.2000000000000002, penalty=l1, solver=newton-cg, total=   0.0s\n",
      "[CV] C=1.2000000000000002, penalty=l1, solver=newton-cg ..............\n",
      "[CV]  C=1.2000000000000002, penalty=l1, solver=newton-cg, total=   0.0s\n",
      "[CV] C=1.2000000000000002, penalty=l1, solver=newton-cg ..............\n",
      "[CV]  C=1.2000000000000002, penalty=l1, solver=newton-cg, total=   0.0s\n",
      "[CV] C=1.2000000000000002, penalty=l1, solver=lbfgs ..................\n",
      "[CV] ... C=1.2000000000000002, penalty=l1, solver=lbfgs, total=   0.0s\n",
      "[CV] C=1.2000000000000002, penalty=l1, solver=lbfgs ..................\n",
      "[CV] ... C=1.2000000000000002, penalty=l1, solver=lbfgs, total=   0.0s\n",
      "[CV] C=1.2000000000000002, penalty=l1, solver=lbfgs ..................\n",
      "[CV] ... C=1.2000000000000002, penalty=l1, solver=lbfgs, total=   0.0s\n",
      "[CV] C=1.2000000000000002, penalty=l1, solver=lbfgs ..................\n",
      "[CV] ... C=1.2000000000000002, penalty=l1, solver=lbfgs, total=   0.0s\n",
      "[CV] C=1.2000000000000002, penalty=l1, solver=lbfgs ..................\n",
      "[CV] ... C=1.2000000000000002, penalty=l1, solver=lbfgs, total=   0.0s\n",
      "[CV] C=1.2000000000000002, penalty=l1, solver=sag ....................\n",
      "[CV] ..... C=1.2000000000000002, penalty=l1, solver=sag, total=   0.0s\n",
      "[CV] C=1.2000000000000002, penalty=l1, solver=sag ....................\n",
      "[CV] ..... C=1.2000000000000002, penalty=l1, solver=sag, total=   0.0s\n",
      "[CV] C=1.2000000000000002, penalty=l1, solver=sag ....................\n",
      "[CV] ..... C=1.2000000000000002, penalty=l1, solver=sag, total=   0.0s\n",
      "[CV] C=1.2000000000000002, penalty=l1, solver=sag ....................\n",
      "[CV] ..... C=1.2000000000000002, penalty=l1, solver=sag, total=   0.0s\n",
      "[CV] C=1.2000000000000002, penalty=l1, solver=sag ....................\n",
      "[CV] ..... C=1.2000000000000002, penalty=l1, solver=sag, total=   0.0s\n",
      "[CV] C=1.2000000000000002, penalty=l1, solver=saga ...................\n",
      "[CV] .... C=1.2000000000000002, penalty=l1, solver=saga, total=   0.1s\n",
      "[CV] C=1.2000000000000002, penalty=l1, solver=saga ...................\n"
     ]
    },
    {
     "name": "stderr",
     "output_type": "stream",
     "text": [
      "E:\\Anaconda3\\lib\\site-packages\\sklearn\\linear_model\\_sag.py:330: ConvergenceWarning: The max_iter was reached which means the coef_ did not converge\n",
      "  \"the coef_ did not converge\", ConvergenceWarning)\n",
      "E:\\Anaconda3\\lib\\site-packages\\sklearn\\linear_model\\_sag.py:330: ConvergenceWarning: The max_iter was reached which means the coef_ did not converge\n",
      "  \"the coef_ did not converge\", ConvergenceWarning)\n"
     ]
    },
    {
     "name": "stdout",
     "output_type": "stream",
     "text": [
      "[CV] .... C=1.2000000000000002, penalty=l1, solver=saga, total=   0.1s\n",
      "[CV] C=1.2000000000000002, penalty=l1, solver=saga ...................\n",
      "[CV] .... C=1.2000000000000002, penalty=l1, solver=saga, total=   0.1s\n",
      "[CV] C=1.2000000000000002, penalty=l1, solver=saga ...................\n"
     ]
    },
    {
     "name": "stderr",
     "output_type": "stream",
     "text": [
      "E:\\Anaconda3\\lib\\site-packages\\sklearn\\linear_model\\_sag.py:330: ConvergenceWarning: The max_iter was reached which means the coef_ did not converge\n",
      "  \"the coef_ did not converge\", ConvergenceWarning)\n",
      "E:\\Anaconda3\\lib\\site-packages\\sklearn\\linear_model\\_sag.py:330: ConvergenceWarning: The max_iter was reached which means the coef_ did not converge\n",
      "  \"the coef_ did not converge\", ConvergenceWarning)\n"
     ]
    },
    {
     "name": "stdout",
     "output_type": "stream",
     "text": [
      "[CV] .... C=1.2000000000000002, penalty=l1, solver=saga, total=   0.1s\n",
      "[CV] C=1.2000000000000002, penalty=l1, solver=saga ...................\n",
      "[CV] .... C=1.2000000000000002, penalty=l1, solver=saga, total=   0.1s\n",
      "[CV] C=1.2000000000000002, penalty=l1, solver=liblinear ..............\n",
      "[CV]  C=1.2000000000000002, penalty=l1, solver=liblinear, total=   0.0s\n",
      "[CV] C=1.2000000000000002, penalty=l1, solver=liblinear ..............\n",
      "[CV]  C=1.2000000000000002, penalty=l1, solver=liblinear, total=   0.0s\n",
      "[CV] C=1.2000000000000002, penalty=l1, solver=liblinear ..............\n",
      "[CV]  C=1.2000000000000002, penalty=l1, solver=liblinear, total=   0.0s\n",
      "[CV] C=1.2000000000000002, penalty=l1, solver=liblinear ..............\n",
      "[CV]  C=1.2000000000000002, penalty=l1, solver=liblinear, total=   0.0s\n",
      "[CV] C=1.2000000000000002, penalty=l1, solver=liblinear ..............\n",
      "[CV]  C=1.2000000000000002, penalty=l1, solver=liblinear, total=   0.0s\n",
      "[CV] C=1.2000000000000002, penalty=l2, solver=newton-cg ..............\n",
      "[CV]  C=1.2000000000000002, penalty=l2, solver=newton-cg, total=   0.0s\n",
      "[CV] C=1.2000000000000002, penalty=l2, solver=newton-cg ..............\n",
      "[CV]  C=1.2000000000000002, penalty=l2, solver=newton-cg, total=   0.0s\n",
      "[CV] C=1.2000000000000002, penalty=l2, solver=newton-cg ..............\n",
      "[CV]  C=1.2000000000000002, penalty=l2, solver=newton-cg, total=   0.0s\n",
      "[CV] C=1.2000000000000002, penalty=l2, solver=newton-cg ..............\n",
      "[CV]  C=1.2000000000000002, penalty=l2, solver=newton-cg, total=   0.0s\n",
      "[CV] C=1.2000000000000002, penalty=l2, solver=newton-cg ..............\n",
      "[CV]  C=1.2000000000000002, penalty=l2, solver=newton-cg, total=   0.0s\n",
      "[CV] C=1.2000000000000002, penalty=l2, solver=lbfgs ..................\n",
      "[CV] ... C=1.2000000000000002, penalty=l2, solver=lbfgs, total=   0.0s\n",
      "[CV] C=1.2000000000000002, penalty=l2, solver=lbfgs ..................\n",
      "[CV] ... C=1.2000000000000002, penalty=l2, solver=lbfgs, total=   0.0s\n",
      "[CV] C=1.2000000000000002, penalty=l2, solver=lbfgs ..................\n",
      "[CV] ... C=1.2000000000000002, penalty=l2, solver=lbfgs, total=   0.0s\n",
      "[CV] C=1.2000000000000002, penalty=l2, solver=lbfgs ..................\n",
      "[CV] ... C=1.2000000000000002, penalty=l2, solver=lbfgs, total=   0.0s\n",
      "[CV] C=1.2000000000000002, penalty=l2, solver=lbfgs ..................\n",
      "[CV] ... C=1.2000000000000002, penalty=l2, solver=lbfgs, total=   0.0s\n",
      "[CV] C=1.2000000000000002, penalty=l2, solver=sag ....................\n",
      "[CV] ..... C=1.2000000000000002, penalty=l2, solver=sag, total=   0.1s\n",
      "[CV] C=1.2000000000000002, penalty=l2, solver=sag ....................\n",
      "[CV] ..... C=1.2000000000000002, penalty=l2, solver=sag, total=   0.1s\n",
      "[CV] C=1.2000000000000002, penalty=l2, solver=sag ....................\n",
      "[CV] ..... C=1.2000000000000002, penalty=l2, solver=sag, total=   0.1s\n",
      "[CV] C=1.2000000000000002, penalty=l2, solver=sag ....................\n",
      "[CV] ..... C=1.2000000000000002, penalty=l2, solver=sag, total=   0.1s\n",
      "[CV] C=1.2000000000000002, penalty=l2, solver=sag ....................\n",
      "[CV] ..... C=1.2000000000000002, penalty=l2, solver=sag, total=   0.1s\n",
      "[CV] C=1.2000000000000002, penalty=l2, solver=saga ...................\n"
     ]
    },
    {
     "name": "stderr",
     "output_type": "stream",
     "text": [
      "E:\\Anaconda3\\lib\\site-packages\\sklearn\\linear_model\\_sag.py:330: ConvergenceWarning: The max_iter was reached which means the coef_ did not converge\n",
      "  \"the coef_ did not converge\", ConvergenceWarning)\n",
      "E:\\Anaconda3\\lib\\site-packages\\sklearn\\linear_model\\_sag.py:330: ConvergenceWarning: The max_iter was reached which means the coef_ did not converge\n",
      "  \"the coef_ did not converge\", ConvergenceWarning)\n"
     ]
    },
    {
     "name": "stdout",
     "output_type": "stream",
     "text": [
      "[CV] .... C=1.2000000000000002, penalty=l2, solver=saga, total=   0.1s\n",
      "[CV] C=1.2000000000000002, penalty=l2, solver=saga ...................\n",
      "[CV] .... C=1.2000000000000002, penalty=l2, solver=saga, total=   0.1s\n",
      "[CV] C=1.2000000000000002, penalty=l2, solver=saga ...................\n"
     ]
    },
    {
     "name": "stderr",
     "output_type": "stream",
     "text": [
      "E:\\Anaconda3\\lib\\site-packages\\sklearn\\linear_model\\_sag.py:330: ConvergenceWarning: The max_iter was reached which means the coef_ did not converge\n",
      "  \"the coef_ did not converge\", ConvergenceWarning)\n"
     ]
    },
    {
     "name": "stdout",
     "output_type": "stream",
     "text": [
      "[CV] .... C=1.2000000000000002, penalty=l2, solver=saga, total=   0.1s\n",
      "[CV] C=1.2000000000000002, penalty=l2, solver=saga ...................\n",
      "[CV] .... C=1.2000000000000002, penalty=l2, solver=saga, total=   0.1s\n",
      "[CV] C=1.2000000000000002, penalty=l2, solver=saga ...................\n"
     ]
    },
    {
     "name": "stderr",
     "output_type": "stream",
     "text": [
      "E:\\Anaconda3\\lib\\site-packages\\sklearn\\linear_model\\_sag.py:330: ConvergenceWarning: The max_iter was reached which means the coef_ did not converge\n",
      "  \"the coef_ did not converge\", ConvergenceWarning)\n",
      "E:\\Anaconda3\\lib\\site-packages\\sklearn\\model_selection\\_validation.py:536: FitFailedWarning: Estimator fit failed. The score on this train-test partition for these parameters will be set to nan. Details: \n",
      "ValueError: Solver newton-cg supports only 'l2' or 'none' penalties, got l1 penalty.\n",
      "\n",
      "  FitFailedWarning)\n",
      "E:\\Anaconda3\\lib\\site-packages\\sklearn\\model_selection\\_validation.py:536: FitFailedWarning: Estimator fit failed. The score on this train-test partition for these parameters will be set to nan. Details: \n",
      "ValueError: Solver lbfgs supports only 'l2' or 'none' penalties, got l1 penalty.\n",
      "\n",
      "  FitFailedWarning)\n",
      "E:\\Anaconda3\\lib\\site-packages\\sklearn\\model_selection\\_validation.py:536: FitFailedWarning: Estimator fit failed. The score on this train-test partition for these parameters will be set to nan. Details: \n",
      "ValueError: Solver sag supports only 'l2' or 'none' penalties, got l1 penalty.\n",
      "\n",
      "  FitFailedWarning)\n",
      "E:\\Anaconda3\\lib\\site-packages\\sklearn\\linear_model\\_sag.py:330: ConvergenceWarning: The max_iter was reached which means the coef_ did not converge\n",
      "  \"the coef_ did not converge\", ConvergenceWarning)\n"
     ]
    },
    {
     "name": "stdout",
     "output_type": "stream",
     "text": [
      "[CV] .... C=1.2000000000000002, penalty=l2, solver=saga, total=   0.1s\n",
      "[CV] C=1.2000000000000002, penalty=l2, solver=liblinear ..............\n",
      "[CV]  C=1.2000000000000002, penalty=l2, solver=liblinear, total=   0.0s\n",
      "[CV] C=1.2000000000000002, penalty=l2, solver=liblinear ..............\n",
      "[CV]  C=1.2000000000000002, penalty=l2, solver=liblinear, total=   0.0s\n",
      "[CV] C=1.2000000000000002, penalty=l2, solver=liblinear ..............\n",
      "[CV]  C=1.2000000000000002, penalty=l2, solver=liblinear, total=   0.0s\n",
      "[CV] C=1.2000000000000002, penalty=l2, solver=liblinear ..............\n",
      "[CV]  C=1.2000000000000002, penalty=l2, solver=liblinear, total=   0.0s\n",
      "[CV] C=1.2000000000000002, penalty=l2, solver=liblinear ..............\n",
      "[CV]  C=1.2000000000000002, penalty=l2, solver=liblinear, total=   0.0s\n",
      "[CV] C=1.3000000000000003, penalty=l1, solver=newton-cg ..............\n",
      "[CV]  C=1.3000000000000003, penalty=l1, solver=newton-cg, total=   0.0s\n",
      "[CV] C=1.3000000000000003, penalty=l1, solver=newton-cg ..............\n",
      "[CV]  C=1.3000000000000003, penalty=l1, solver=newton-cg, total=   0.0s\n",
      "[CV] C=1.3000000000000003, penalty=l1, solver=newton-cg ..............\n",
      "[CV]  C=1.3000000000000003, penalty=l1, solver=newton-cg, total=   0.0s\n",
      "[CV] C=1.3000000000000003, penalty=l1, solver=newton-cg ..............\n",
      "[CV]  C=1.3000000000000003, penalty=l1, solver=newton-cg, total=   0.0s\n",
      "[CV] C=1.3000000000000003, penalty=l1, solver=newton-cg ..............\n",
      "[CV]  C=1.3000000000000003, penalty=l1, solver=newton-cg, total=   0.0s\n",
      "[CV] C=1.3000000000000003, penalty=l1, solver=lbfgs ..................\n",
      "[CV] ... C=1.3000000000000003, penalty=l1, solver=lbfgs, total=   0.0s\n",
      "[CV] C=1.3000000000000003, penalty=l1, solver=lbfgs ..................\n",
      "[CV] ... C=1.3000000000000003, penalty=l1, solver=lbfgs, total=   0.0s\n",
      "[CV] C=1.3000000000000003, penalty=l1, solver=lbfgs ..................\n",
      "[CV] ... C=1.3000000000000003, penalty=l1, solver=lbfgs, total=   0.0s\n",
      "[CV] C=1.3000000000000003, penalty=l1, solver=lbfgs ..................\n",
      "[CV] ... C=1.3000000000000003, penalty=l1, solver=lbfgs, total=   0.0s\n",
      "[CV] C=1.3000000000000003, penalty=l1, solver=lbfgs ..................\n",
      "[CV] ... C=1.3000000000000003, penalty=l1, solver=lbfgs, total=   0.0s\n",
      "[CV] C=1.3000000000000003, penalty=l1, solver=sag ....................\n",
      "[CV] ..... C=1.3000000000000003, penalty=l1, solver=sag, total=   0.0s\n",
      "[CV] C=1.3000000000000003, penalty=l1, solver=sag ....................\n",
      "[CV] ..... C=1.3000000000000003, penalty=l1, solver=sag, total=   0.0s\n",
      "[CV] C=1.3000000000000003, penalty=l1, solver=sag ....................\n",
      "[CV] ..... C=1.3000000000000003, penalty=l1, solver=sag, total=   0.0s\n",
      "[CV] C=1.3000000000000003, penalty=l1, solver=sag ....................\n",
      "[CV] ..... C=1.3000000000000003, penalty=l1, solver=sag, total=   0.0s\n",
      "[CV] C=1.3000000000000003, penalty=l1, solver=sag ....................\n",
      "[CV] ..... C=1.3000000000000003, penalty=l1, solver=sag, total=   0.0s\n",
      "[CV] C=1.3000000000000003, penalty=l1, solver=saga ...................\n",
      "[CV] .... C=1.3000000000000003, penalty=l1, solver=saga, total=   0.1s\n",
      "[CV] C=1.3000000000000003, penalty=l1, solver=saga ...................\n"
     ]
    },
    {
     "name": "stderr",
     "output_type": "stream",
     "text": [
      "E:\\Anaconda3\\lib\\site-packages\\sklearn\\linear_model\\_sag.py:330: ConvergenceWarning: The max_iter was reached which means the coef_ did not converge\n",
      "  \"the coef_ did not converge\", ConvergenceWarning)\n",
      "E:\\Anaconda3\\lib\\site-packages\\sklearn\\linear_model\\_sag.py:330: ConvergenceWarning: The max_iter was reached which means the coef_ did not converge\n",
      "  \"the coef_ did not converge\", ConvergenceWarning)\n"
     ]
    },
    {
     "name": "stdout",
     "output_type": "stream",
     "text": [
      "[CV] .... C=1.3000000000000003, penalty=l1, solver=saga, total=   0.1s\n",
      "[CV] C=1.3000000000000003, penalty=l1, solver=saga ...................\n",
      "[CV] .... C=1.3000000000000003, penalty=l1, solver=saga, total=   0.1s\n",
      "[CV] C=1.3000000000000003, penalty=l1, solver=saga ...................\n"
     ]
    },
    {
     "name": "stderr",
     "output_type": "stream",
     "text": [
      "E:\\Anaconda3\\lib\\site-packages\\sklearn\\linear_model\\_sag.py:330: ConvergenceWarning: The max_iter was reached which means the coef_ did not converge\n",
      "  \"the coef_ did not converge\", ConvergenceWarning)\n",
      "E:\\Anaconda3\\lib\\site-packages\\sklearn\\linear_model\\_sag.py:330: ConvergenceWarning: The max_iter was reached which means the coef_ did not converge\n",
      "  \"the coef_ did not converge\", ConvergenceWarning)\n"
     ]
    },
    {
     "name": "stdout",
     "output_type": "stream",
     "text": [
      "[CV] .... C=1.3000000000000003, penalty=l1, solver=saga, total=   0.1s\n",
      "[CV] C=1.3000000000000003, penalty=l1, solver=saga ...................\n",
      "[CV] .... C=1.3000000000000003, penalty=l1, solver=saga, total=   0.1s\n",
      "[CV] C=1.3000000000000003, penalty=l1, solver=liblinear ..............\n",
      "[CV]  C=1.3000000000000003, penalty=l1, solver=liblinear, total=   0.0s\n",
      "[CV] C=1.3000000000000003, penalty=l1, solver=liblinear ..............\n",
      "[CV]  C=1.3000000000000003, penalty=l1, solver=liblinear, total=   0.0s\n",
      "[CV] C=1.3000000000000003, penalty=l1, solver=liblinear ..............\n",
      "[CV]  C=1.3000000000000003, penalty=l1, solver=liblinear, total=   0.0s\n",
      "[CV] C=1.3000000000000003, penalty=l1, solver=liblinear ..............\n",
      "[CV]  C=1.3000000000000003, penalty=l1, solver=liblinear, total=   0.0s\n",
      "[CV] C=1.3000000000000003, penalty=l1, solver=liblinear ..............\n",
      "[CV]  C=1.3000000000000003, penalty=l1, solver=liblinear, total=   0.0s\n",
      "[CV] C=1.3000000000000003, penalty=l2, solver=newton-cg ..............\n",
      "[CV]  C=1.3000000000000003, penalty=l2, solver=newton-cg, total=   0.0s\n",
      "[CV] C=1.3000000000000003, penalty=l2, solver=newton-cg ..............\n",
      "[CV]  C=1.3000000000000003, penalty=l2, solver=newton-cg, total=   0.0s\n",
      "[CV] C=1.3000000000000003, penalty=l2, solver=newton-cg ..............\n",
      "[CV]  C=1.3000000000000003, penalty=l2, solver=newton-cg, total=   0.0s\n",
      "[CV] C=1.3000000000000003, penalty=l2, solver=newton-cg ..............\n",
      "[CV]  C=1.3000000000000003, penalty=l2, solver=newton-cg, total=   0.0s\n",
      "[CV] C=1.3000000000000003, penalty=l2, solver=newton-cg ..............\n",
      "[CV]  C=1.3000000000000003, penalty=l2, solver=newton-cg, total=   0.0s\n",
      "[CV] C=1.3000000000000003, penalty=l2, solver=lbfgs ..................\n",
      "[CV] ... C=1.3000000000000003, penalty=l2, solver=lbfgs, total=   0.0s\n",
      "[CV] C=1.3000000000000003, penalty=l2, solver=lbfgs ..................\n",
      "[CV] ... C=1.3000000000000003, penalty=l2, solver=lbfgs, total=   0.0s\n",
      "[CV] C=1.3000000000000003, penalty=l2, solver=lbfgs ..................\n",
      "[CV] ... C=1.3000000000000003, penalty=l2, solver=lbfgs, total=   0.0s\n",
      "[CV] C=1.3000000000000003, penalty=l2, solver=lbfgs ..................\n",
      "[CV] ... C=1.3000000000000003, penalty=l2, solver=lbfgs, total=   0.0s\n",
      "[CV] C=1.3000000000000003, penalty=l2, solver=lbfgs ..................\n",
      "[CV] ... C=1.3000000000000003, penalty=l2, solver=lbfgs, total=   0.0s\n",
      "[CV] C=1.3000000000000003, penalty=l2, solver=sag ....................\n",
      "[CV] ..... C=1.3000000000000003, penalty=l2, solver=sag, total=   0.1s\n",
      "[CV] C=1.3000000000000003, penalty=l2, solver=sag ....................\n",
      "[CV] ..... C=1.3000000000000003, penalty=l2, solver=sag, total=   0.1s\n",
      "[CV] C=1.3000000000000003, penalty=l2, solver=sag ....................\n",
      "[CV] ..... C=1.3000000000000003, penalty=l2, solver=sag, total=   0.1s\n",
      "[CV] C=1.3000000000000003, penalty=l2, solver=sag ....................\n",
      "[CV] ..... C=1.3000000000000003, penalty=l2, solver=sag, total=   0.1s\n",
      "[CV] C=1.3000000000000003, penalty=l2, solver=sag ....................\n",
      "[CV] ..... C=1.3000000000000003, penalty=l2, solver=sag, total=   0.1s\n",
      "[CV] C=1.3000000000000003, penalty=l2, solver=saga ...................\n"
     ]
    },
    {
     "name": "stderr",
     "output_type": "stream",
     "text": [
      "E:\\Anaconda3\\lib\\site-packages\\sklearn\\linear_model\\_sag.py:330: ConvergenceWarning: The max_iter was reached which means the coef_ did not converge\n",
      "  \"the coef_ did not converge\", ConvergenceWarning)\n",
      "E:\\Anaconda3\\lib\\site-packages\\sklearn\\linear_model\\_sag.py:330: ConvergenceWarning: The max_iter was reached which means the coef_ did not converge\n",
      "  \"the coef_ did not converge\", ConvergenceWarning)\n"
     ]
    },
    {
     "name": "stdout",
     "output_type": "stream",
     "text": [
      "[CV] .... C=1.3000000000000003, penalty=l2, solver=saga, total=   0.1s\n",
      "[CV] C=1.3000000000000003, penalty=l2, solver=saga ...................\n",
      "[CV] .... C=1.3000000000000003, penalty=l2, solver=saga, total=   0.1s\n",
      "[CV] C=1.3000000000000003, penalty=l2, solver=saga ...................\n"
     ]
    },
    {
     "name": "stderr",
     "output_type": "stream",
     "text": [
      "E:\\Anaconda3\\lib\\site-packages\\sklearn\\linear_model\\_sag.py:330: ConvergenceWarning: The max_iter was reached which means the coef_ did not converge\n",
      "  \"the coef_ did not converge\", ConvergenceWarning)\n"
     ]
    },
    {
     "name": "stdout",
     "output_type": "stream",
     "text": [
      "[CV] .... C=1.3000000000000003, penalty=l2, solver=saga, total=   0.1s\n",
      "[CV] C=1.3000000000000003, penalty=l2, solver=saga ...................\n",
      "[CV] .... C=1.3000000000000003, penalty=l2, solver=saga, total=   0.1s\n",
      "[CV] C=1.3000000000000003, penalty=l2, solver=saga ...................\n"
     ]
    },
    {
     "name": "stderr",
     "output_type": "stream",
     "text": [
      "E:\\Anaconda3\\lib\\site-packages\\sklearn\\linear_model\\_sag.py:330: ConvergenceWarning: The max_iter was reached which means the coef_ did not converge\n",
      "  \"the coef_ did not converge\", ConvergenceWarning)\n",
      "E:\\Anaconda3\\lib\\site-packages\\sklearn\\model_selection\\_validation.py:536: FitFailedWarning: Estimator fit failed. The score on this train-test partition for these parameters will be set to nan. Details: \n",
      "ValueError: Solver newton-cg supports only 'l2' or 'none' penalties, got l1 penalty.\n",
      "\n",
      "  FitFailedWarning)\n",
      "E:\\Anaconda3\\lib\\site-packages\\sklearn\\model_selection\\_validation.py:536: FitFailedWarning: Estimator fit failed. The score on this train-test partition for these parameters will be set to nan. Details: \n",
      "ValueError: Solver lbfgs supports only 'l2' or 'none' penalties, got l1 penalty.\n",
      "\n",
      "  FitFailedWarning)\n",
      "E:\\Anaconda3\\lib\\site-packages\\sklearn\\model_selection\\_validation.py:536: FitFailedWarning: Estimator fit failed. The score on this train-test partition for these parameters will be set to nan. Details: \n",
      "ValueError: Solver sag supports only 'l2' or 'none' penalties, got l1 penalty.\n",
      "\n",
      "  FitFailedWarning)\n",
      "E:\\Anaconda3\\lib\\site-packages\\sklearn\\linear_model\\_sag.py:330: ConvergenceWarning: The max_iter was reached which means the coef_ did not converge\n",
      "  \"the coef_ did not converge\", ConvergenceWarning)\n"
     ]
    },
    {
     "name": "stdout",
     "output_type": "stream",
     "text": [
      "[CV] .... C=1.3000000000000003, penalty=l2, solver=saga, total=   0.1s\n",
      "[CV] C=1.3000000000000003, penalty=l2, solver=liblinear ..............\n",
      "[CV]  C=1.3000000000000003, penalty=l2, solver=liblinear, total=   0.0s\n",
      "[CV] C=1.3000000000000003, penalty=l2, solver=liblinear ..............\n",
      "[CV]  C=1.3000000000000003, penalty=l2, solver=liblinear, total=   0.0s\n",
      "[CV] C=1.3000000000000003, penalty=l2, solver=liblinear ..............\n",
      "[CV]  C=1.3000000000000003, penalty=l2, solver=liblinear, total=   0.0s\n",
      "[CV] C=1.3000000000000003, penalty=l2, solver=liblinear ..............\n",
      "[CV]  C=1.3000000000000003, penalty=l2, solver=liblinear, total=   0.0s\n",
      "[CV] C=1.3000000000000003, penalty=l2, solver=liblinear ..............\n",
      "[CV]  C=1.3000000000000003, penalty=l2, solver=liblinear, total=   0.0s\n",
      "[CV] C=1.4000000000000001, penalty=l1, solver=newton-cg ..............\n",
      "[CV]  C=1.4000000000000001, penalty=l1, solver=newton-cg, total=   0.0s\n",
      "[CV] C=1.4000000000000001, penalty=l1, solver=newton-cg ..............\n",
      "[CV]  C=1.4000000000000001, penalty=l1, solver=newton-cg, total=   0.0s\n",
      "[CV] C=1.4000000000000001, penalty=l1, solver=newton-cg ..............\n",
      "[CV]  C=1.4000000000000001, penalty=l1, solver=newton-cg, total=   0.0s\n",
      "[CV] C=1.4000000000000001, penalty=l1, solver=newton-cg ..............\n",
      "[CV]  C=1.4000000000000001, penalty=l1, solver=newton-cg, total=   0.0s\n",
      "[CV] C=1.4000000000000001, penalty=l1, solver=newton-cg ..............\n",
      "[CV]  C=1.4000000000000001, penalty=l1, solver=newton-cg, total=   0.0s\n",
      "[CV] C=1.4000000000000001, penalty=l1, solver=lbfgs ..................\n",
      "[CV] ... C=1.4000000000000001, penalty=l1, solver=lbfgs, total=   0.0s\n",
      "[CV] C=1.4000000000000001, penalty=l1, solver=lbfgs ..................\n",
      "[CV] ... C=1.4000000000000001, penalty=l1, solver=lbfgs, total=   0.0s\n",
      "[CV] C=1.4000000000000001, penalty=l1, solver=lbfgs ..................\n",
      "[CV] ... C=1.4000000000000001, penalty=l1, solver=lbfgs, total=   0.0s\n",
      "[CV] C=1.4000000000000001, penalty=l1, solver=lbfgs ..................\n",
      "[CV] ... C=1.4000000000000001, penalty=l1, solver=lbfgs, total=   0.0s\n",
      "[CV] C=1.4000000000000001, penalty=l1, solver=lbfgs ..................\n",
      "[CV] ... C=1.4000000000000001, penalty=l1, solver=lbfgs, total=   0.0s\n",
      "[CV] C=1.4000000000000001, penalty=l1, solver=sag ....................\n",
      "[CV] ..... C=1.4000000000000001, penalty=l1, solver=sag, total=   0.0s\n",
      "[CV] C=1.4000000000000001, penalty=l1, solver=sag ....................\n",
      "[CV] ..... C=1.4000000000000001, penalty=l1, solver=sag, total=   0.0s\n",
      "[CV] C=1.4000000000000001, penalty=l1, solver=sag ....................\n",
      "[CV] ..... C=1.4000000000000001, penalty=l1, solver=sag, total=   0.0s\n",
      "[CV] C=1.4000000000000001, penalty=l1, solver=sag ....................\n",
      "[CV] ..... C=1.4000000000000001, penalty=l1, solver=sag, total=   0.0s\n",
      "[CV] C=1.4000000000000001, penalty=l1, solver=sag ....................\n",
      "[CV] ..... C=1.4000000000000001, penalty=l1, solver=sag, total=   0.0s\n",
      "[CV] C=1.4000000000000001, penalty=l1, solver=saga ...................\n",
      "[CV] .... C=1.4000000000000001, penalty=l1, solver=saga, total=   0.1s\n",
      "[CV] C=1.4000000000000001, penalty=l1, solver=saga ...................\n"
     ]
    },
    {
     "name": "stderr",
     "output_type": "stream",
     "text": [
      "E:\\Anaconda3\\lib\\site-packages\\sklearn\\linear_model\\_sag.py:330: ConvergenceWarning: The max_iter was reached which means the coef_ did not converge\n",
      "  \"the coef_ did not converge\", ConvergenceWarning)\n",
      "E:\\Anaconda3\\lib\\site-packages\\sklearn\\linear_model\\_sag.py:330: ConvergenceWarning: The max_iter was reached which means the coef_ did not converge\n",
      "  \"the coef_ did not converge\", ConvergenceWarning)\n"
     ]
    },
    {
     "name": "stdout",
     "output_type": "stream",
     "text": [
      "[CV] .... C=1.4000000000000001, penalty=l1, solver=saga, total=   0.1s\n",
      "[CV] C=1.4000000000000001, penalty=l1, solver=saga ...................\n",
      "[CV] .... C=1.4000000000000001, penalty=l1, solver=saga, total=   0.1s\n",
      "[CV] C=1.4000000000000001, penalty=l1, solver=saga ...................\n"
     ]
    },
    {
     "name": "stderr",
     "output_type": "stream",
     "text": [
      "E:\\Anaconda3\\lib\\site-packages\\sklearn\\linear_model\\_sag.py:330: ConvergenceWarning: The max_iter was reached which means the coef_ did not converge\n",
      "  \"the coef_ did not converge\", ConvergenceWarning)\n",
      "E:\\Anaconda3\\lib\\site-packages\\sklearn\\linear_model\\_sag.py:330: ConvergenceWarning: The max_iter was reached which means the coef_ did not converge\n",
      "  \"the coef_ did not converge\", ConvergenceWarning)\n"
     ]
    },
    {
     "name": "stdout",
     "output_type": "stream",
     "text": [
      "[CV] .... C=1.4000000000000001, penalty=l1, solver=saga, total=   0.1s\n",
      "[CV] C=1.4000000000000001, penalty=l1, solver=saga ...................\n",
      "[CV] .... C=1.4000000000000001, penalty=l1, solver=saga, total=   0.1s\n",
      "[CV] C=1.4000000000000001, penalty=l1, solver=liblinear ..............\n",
      "[CV]  C=1.4000000000000001, penalty=l1, solver=liblinear, total=   0.0s\n",
      "[CV] C=1.4000000000000001, penalty=l1, solver=liblinear ..............\n",
      "[CV]  C=1.4000000000000001, penalty=l1, solver=liblinear, total=   0.0s\n",
      "[CV] C=1.4000000000000001, penalty=l1, solver=liblinear ..............\n",
      "[CV]  C=1.4000000000000001, penalty=l1, solver=liblinear, total=   0.0s\n",
      "[CV] C=1.4000000000000001, penalty=l1, solver=liblinear ..............\n",
      "[CV]  C=1.4000000000000001, penalty=l1, solver=liblinear, total=   0.0s\n",
      "[CV] C=1.4000000000000001, penalty=l1, solver=liblinear ..............\n",
      "[CV]  C=1.4000000000000001, penalty=l1, solver=liblinear, total=   0.0s\n",
      "[CV] C=1.4000000000000001, penalty=l2, solver=newton-cg ..............\n",
      "[CV]  C=1.4000000000000001, penalty=l2, solver=newton-cg, total=   0.0s\n",
      "[CV] C=1.4000000000000001, penalty=l2, solver=newton-cg ..............\n",
      "[CV]  C=1.4000000000000001, penalty=l2, solver=newton-cg, total=   0.0s\n",
      "[CV] C=1.4000000000000001, penalty=l2, solver=newton-cg ..............\n",
      "[CV]  C=1.4000000000000001, penalty=l2, solver=newton-cg, total=   0.0s\n",
      "[CV] C=1.4000000000000001, penalty=l2, solver=newton-cg ..............\n",
      "[CV]  C=1.4000000000000001, penalty=l2, solver=newton-cg, total=   0.0s\n",
      "[CV] C=1.4000000000000001, penalty=l2, solver=newton-cg ..............\n",
      "[CV]  C=1.4000000000000001, penalty=l2, solver=newton-cg, total=   0.0s\n",
      "[CV] C=1.4000000000000001, penalty=l2, solver=lbfgs ..................\n",
      "[CV] ... C=1.4000000000000001, penalty=l2, solver=lbfgs, total=   0.0s\n",
      "[CV] C=1.4000000000000001, penalty=l2, solver=lbfgs ..................\n",
      "[CV] ... C=1.4000000000000001, penalty=l2, solver=lbfgs, total=   0.0s\n",
      "[CV] C=1.4000000000000001, penalty=l2, solver=lbfgs ..................\n",
      "[CV] ... C=1.4000000000000001, penalty=l2, solver=lbfgs, total=   0.0s\n",
      "[CV] C=1.4000000000000001, penalty=l2, solver=lbfgs ..................\n",
      "[CV] ... C=1.4000000000000001, penalty=l2, solver=lbfgs, total=   0.0s\n",
      "[CV] C=1.4000000000000001, penalty=l2, solver=lbfgs ..................\n",
      "[CV] ... C=1.4000000000000001, penalty=l2, solver=lbfgs, total=   0.0s\n",
      "[CV] C=1.4000000000000001, penalty=l2, solver=sag ....................\n",
      "[CV] ..... C=1.4000000000000001, penalty=l2, solver=sag, total=   0.1s\n",
      "[CV] C=1.4000000000000001, penalty=l2, solver=sag ....................\n",
      "[CV] ..... C=1.4000000000000001, penalty=l2, solver=sag, total=   0.1s\n",
      "[CV] C=1.4000000000000001, penalty=l2, solver=sag ....................\n",
      "[CV] ..... C=1.4000000000000001, penalty=l2, solver=sag, total=   0.1s\n",
      "[CV] C=1.4000000000000001, penalty=l2, solver=sag ....................\n",
      "[CV] ..... C=1.4000000000000001, penalty=l2, solver=sag, total=   0.1s\n",
      "[CV] C=1.4000000000000001, penalty=l2, solver=sag ....................\n",
      "[CV] ..... C=1.4000000000000001, penalty=l2, solver=sag, total=   0.1s\n",
      "[CV] C=1.4000000000000001, penalty=l2, solver=saga ...................\n",
      "[CV] .... C=1.4000000000000001, penalty=l2, solver=saga, total=   0.1s\n",
      "[CV] C=1.4000000000000001, penalty=l2, solver=saga ...................\n"
     ]
    },
    {
     "name": "stderr",
     "output_type": "stream",
     "text": [
      "E:\\Anaconda3\\lib\\site-packages\\sklearn\\linear_model\\_sag.py:330: ConvergenceWarning: The max_iter was reached which means the coef_ did not converge\n",
      "  \"the coef_ did not converge\", ConvergenceWarning)\n",
      "E:\\Anaconda3\\lib\\site-packages\\sklearn\\linear_model\\_sag.py:330: ConvergenceWarning: The max_iter was reached which means the coef_ did not converge\n",
      "  \"the coef_ did not converge\", ConvergenceWarning)\n"
     ]
    },
    {
     "name": "stdout",
     "output_type": "stream",
     "text": [
      "[CV] .... C=1.4000000000000001, penalty=l2, solver=saga, total=   0.1s\n",
      "[CV] C=1.4000000000000001, penalty=l2, solver=saga ...................\n",
      "[CV] .... C=1.4000000000000001, penalty=l2, solver=saga, total=   0.1s\n",
      "[CV] C=1.4000000000000001, penalty=l2, solver=saga ...................\n"
     ]
    },
    {
     "name": "stderr",
     "output_type": "stream",
     "text": [
      "E:\\Anaconda3\\lib\\site-packages\\sklearn\\linear_model\\_sag.py:330: ConvergenceWarning: The max_iter was reached which means the coef_ did not converge\n",
      "  \"the coef_ did not converge\", ConvergenceWarning)\n"
     ]
    },
    {
     "name": "stdout",
     "output_type": "stream",
     "text": [
      "[CV] .... C=1.4000000000000001, penalty=l2, solver=saga, total=   0.1s\n",
      "[CV] C=1.4000000000000001, penalty=l2, solver=saga ...................\n",
      "[CV] .... C=1.4000000000000001, penalty=l2, solver=saga, total=   0.1s\n",
      "[CV] C=1.4000000000000001, penalty=l2, solver=liblinear ..............\n",
      "[CV]  C=1.4000000000000001, penalty=l2, solver=liblinear, total=   0.0s\n",
      "[CV] C=1.4000000000000001, penalty=l2, solver=liblinear ..............\n",
      "[CV]  C=1.4000000000000001, penalty=l2, solver=liblinear, total=   0.0s\n",
      "[CV] C=1.4000000000000001, penalty=l2, solver=liblinear ..............\n",
      "[CV]  C=1.4000000000000001, penalty=l2, solver=liblinear, total=   0.0s\n",
      "[CV] C=1.4000000000000001, penalty=l2, solver=liblinear ..............\n",
      "[CV]  C=1.4000000000000001, penalty=l2, solver=liblinear, total=   0.0s\n",
      "[CV] C=1.4000000000000001, penalty=l2, solver=liblinear ..............\n",
      "[CV]  C=1.4000000000000001, penalty=l2, solver=liblinear, total=   0.0s\n",
      "[CV] C=1.5000000000000002, penalty=l1, solver=newton-cg ..............\n",
      "[CV]  C=1.5000000000000002, penalty=l1, solver=newton-cg, total=   0.0s\n",
      "[CV] C=1.5000000000000002, penalty=l1, solver=newton-cg ..............\n",
      "[CV]  C=1.5000000000000002, penalty=l1, solver=newton-cg, total=   0.0s\n",
      "[CV] C=1.5000000000000002, penalty=l1, solver=newton-cg ..............\n",
      "[CV]  C=1.5000000000000002, penalty=l1, solver=newton-cg, total=   0.0s\n",
      "[CV] C=1.5000000000000002, penalty=l1, solver=newton-cg ..............\n",
      "[CV]  C=1.5000000000000002, penalty=l1, solver=newton-cg, total=   0.0s\n",
      "[CV] C=1.5000000000000002, penalty=l1, solver=newton-cg ..............\n",
      "[CV]  C=1.5000000000000002, penalty=l1, solver=newton-cg, total=   0.0s\n",
      "[CV] C=1.5000000000000002, penalty=l1, solver=lbfgs ..................\n",
      "[CV] ... C=1.5000000000000002, penalty=l1, solver=lbfgs, total=   0.0s\n",
      "[CV] C=1.5000000000000002, penalty=l1, solver=lbfgs ..................\n",
      "[CV] ... C=1.5000000000000002, penalty=l1, solver=lbfgs, total=   0.0s\n",
      "[CV] C=1.5000000000000002, penalty=l1, solver=lbfgs ..................\n",
      "[CV] ... C=1.5000000000000002, penalty=l1, solver=lbfgs, total=   0.0s\n",
      "[CV] C=1.5000000000000002, penalty=l1, solver=lbfgs ..................\n",
      "[CV] ... C=1.5000000000000002, penalty=l1, solver=lbfgs, total=   0.0s\n",
      "[CV] C=1.5000000000000002, penalty=l1, solver=lbfgs ..................\n",
      "[CV] ... C=1.5000000000000002, penalty=l1, solver=lbfgs, total=   0.0s\n",
      "[CV] C=1.5000000000000002, penalty=l1, solver=sag ....................\n",
      "[CV] ..... C=1.5000000000000002, penalty=l1, solver=sag, total=   0.0s\n",
      "[CV] C=1.5000000000000002, penalty=l1, solver=sag ....................\n",
      "[CV] ..... C=1.5000000000000002, penalty=l1, solver=sag, total=   0.0s\n",
      "[CV] C=1.5000000000000002, penalty=l1, solver=sag ....................\n",
      "[CV] ..... C=1.5000000000000002, penalty=l1, solver=sag, total=   0.0s\n",
      "[CV] C=1.5000000000000002, penalty=l1, solver=sag ....................\n",
      "[CV] ..... C=1.5000000000000002, penalty=l1, solver=sag, total=   0.0s\n",
      "[CV] C=1.5000000000000002, penalty=l1, solver=sag ....................\n",
      "[CV] ..... C=1.5000000000000002, penalty=l1, solver=sag, total=   0.0s\n",
      "[CV] C=1.5000000000000002, penalty=l1, solver=saga ...................\n"
     ]
    },
    {
     "name": "stderr",
     "output_type": "stream",
     "text": [
      "E:\\Anaconda3\\lib\\site-packages\\sklearn\\linear_model\\_sag.py:330: ConvergenceWarning: The max_iter was reached which means the coef_ did not converge\n",
      "  \"the coef_ did not converge\", ConvergenceWarning)\n",
      "E:\\Anaconda3\\lib\\site-packages\\sklearn\\model_selection\\_validation.py:536: FitFailedWarning: Estimator fit failed. The score on this train-test partition for these parameters will be set to nan. Details: \n",
      "ValueError: Solver newton-cg supports only 'l2' or 'none' penalties, got l1 penalty.\n",
      "\n",
      "  FitFailedWarning)\n",
      "E:\\Anaconda3\\lib\\site-packages\\sklearn\\model_selection\\_validation.py:536: FitFailedWarning: Estimator fit failed. The score on this train-test partition for these parameters will be set to nan. Details: \n",
      "ValueError: Solver lbfgs supports only 'l2' or 'none' penalties, got l1 penalty.\n",
      "\n",
      "  FitFailedWarning)\n",
      "E:\\Anaconda3\\lib\\site-packages\\sklearn\\model_selection\\_validation.py:536: FitFailedWarning: Estimator fit failed. The score on this train-test partition for these parameters will be set to nan. Details: \n",
      "ValueError: Solver sag supports only 'l2' or 'none' penalties, got l1 penalty.\n",
      "\n",
      "  FitFailedWarning)\n",
      "E:\\Anaconda3\\lib\\site-packages\\sklearn\\linear_model\\_sag.py:330: ConvergenceWarning: The max_iter was reached which means the coef_ did not converge\n",
      "  \"the coef_ did not converge\", ConvergenceWarning)\n"
     ]
    },
    {
     "name": "stdout",
     "output_type": "stream",
     "text": [
      "[CV] .... C=1.5000000000000002, penalty=l1, solver=saga, total=   0.1s\n",
      "[CV] C=1.5000000000000002, penalty=l1, solver=saga ...................\n",
      "[CV] .... C=1.5000000000000002, penalty=l1, solver=saga, total=   0.1s\n",
      "[CV] C=1.5000000000000002, penalty=l1, solver=saga ...................\n"
     ]
    },
    {
     "name": "stderr",
     "output_type": "stream",
     "text": [
      "E:\\Anaconda3\\lib\\site-packages\\sklearn\\linear_model\\_sag.py:330: ConvergenceWarning: The max_iter was reached which means the coef_ did not converge\n",
      "  \"the coef_ did not converge\", ConvergenceWarning)\n",
      "E:\\Anaconda3\\lib\\site-packages\\sklearn\\linear_model\\_sag.py:330: ConvergenceWarning: The max_iter was reached which means the coef_ did not converge\n",
      "  \"the coef_ did not converge\", ConvergenceWarning)\n"
     ]
    },
    {
     "name": "stdout",
     "output_type": "stream",
     "text": [
      "[CV] .... C=1.5000000000000002, penalty=l1, solver=saga, total=   0.1s\n",
      "[CV] C=1.5000000000000002, penalty=l1, solver=saga ...................\n",
      "[CV] .... C=1.5000000000000002, penalty=l1, solver=saga, total=   0.1s\n",
      "[CV] C=1.5000000000000002, penalty=l1, solver=saga ...................\n"
     ]
    },
    {
     "name": "stderr",
     "output_type": "stream",
     "text": [
      "E:\\Anaconda3\\lib\\site-packages\\sklearn\\linear_model\\_sag.py:330: ConvergenceWarning: The max_iter was reached which means the coef_ did not converge\n",
      "  \"the coef_ did not converge\", ConvergenceWarning)\n",
      "E:\\Anaconda3\\lib\\site-packages\\sklearn\\linear_model\\_sag.py:330: ConvergenceWarning: The max_iter was reached which means the coef_ did not converge\n",
      "  \"the coef_ did not converge\", ConvergenceWarning)\n"
     ]
    },
    {
     "name": "stdout",
     "output_type": "stream",
     "text": [
      "[CV] .... C=1.5000000000000002, penalty=l1, solver=saga, total=   0.1s\n",
      "[CV] C=1.5000000000000002, penalty=l1, solver=liblinear ..............\n",
      "[CV]  C=1.5000000000000002, penalty=l1, solver=liblinear, total=   0.0s\n",
      "[CV] C=1.5000000000000002, penalty=l1, solver=liblinear ..............\n",
      "[CV]  C=1.5000000000000002, penalty=l1, solver=liblinear, total=   0.0s\n",
      "[CV] C=1.5000000000000002, penalty=l1, solver=liblinear ..............\n",
      "[CV]  C=1.5000000000000002, penalty=l1, solver=liblinear, total=   0.0s\n",
      "[CV] C=1.5000000000000002, penalty=l1, solver=liblinear ..............\n",
      "[CV]  C=1.5000000000000002, penalty=l1, solver=liblinear, total=   0.0s\n",
      "[CV] C=1.5000000000000002, penalty=l1, solver=liblinear ..............\n",
      "[CV]  C=1.5000000000000002, penalty=l1, solver=liblinear, total=   0.0s\n",
      "[CV] C=1.5000000000000002, penalty=l2, solver=newton-cg ..............\n",
      "[CV]  C=1.5000000000000002, penalty=l2, solver=newton-cg, total=   0.0s\n",
      "[CV] C=1.5000000000000002, penalty=l2, solver=newton-cg ..............\n",
      "[CV]  C=1.5000000000000002, penalty=l2, solver=newton-cg, total=   0.0s\n",
      "[CV] C=1.5000000000000002, penalty=l2, solver=newton-cg ..............\n",
      "[CV]  C=1.5000000000000002, penalty=l2, solver=newton-cg, total=   0.0s\n",
      "[CV] C=1.5000000000000002, penalty=l2, solver=newton-cg ..............\n",
      "[CV]  C=1.5000000000000002, penalty=l2, solver=newton-cg, total=   0.0s\n",
      "[CV] C=1.5000000000000002, penalty=l2, solver=newton-cg ..............\n",
      "[CV]  C=1.5000000000000002, penalty=l2, solver=newton-cg, total=   0.0s\n",
      "[CV] C=1.5000000000000002, penalty=l2, solver=lbfgs ..................\n",
      "[CV] ... C=1.5000000000000002, penalty=l2, solver=lbfgs, total=   0.0s\n",
      "[CV] C=1.5000000000000002, penalty=l2, solver=lbfgs ..................\n",
      "[CV] ... C=1.5000000000000002, penalty=l2, solver=lbfgs, total=   0.0s\n",
      "[CV] C=1.5000000000000002, penalty=l2, solver=lbfgs ..................\n",
      "[CV] ... C=1.5000000000000002, penalty=l2, solver=lbfgs, total=   0.0s\n",
      "[CV] C=1.5000000000000002, penalty=l2, solver=lbfgs ..................\n",
      "[CV] ... C=1.5000000000000002, penalty=l2, solver=lbfgs, total=   0.0s\n",
      "[CV] C=1.5000000000000002, penalty=l2, solver=lbfgs ..................\n",
      "[CV] ... C=1.5000000000000002, penalty=l2, solver=lbfgs, total=   0.0s\n",
      "[CV] C=1.5000000000000002, penalty=l2, solver=sag ....................\n",
      "[CV] ..... C=1.5000000000000002, penalty=l2, solver=sag, total=   0.1s\n",
      "[CV] C=1.5000000000000002, penalty=l2, solver=sag ....................\n",
      "[CV] ..... C=1.5000000000000002, penalty=l2, solver=sag, total=   0.1s\n",
      "[CV] C=1.5000000000000002, penalty=l2, solver=sag ....................\n",
      "[CV] ..... C=1.5000000000000002, penalty=l2, solver=sag, total=   0.1s\n",
      "[CV] C=1.5000000000000002, penalty=l2, solver=sag ....................\n",
      "[CV] ..... C=1.5000000000000002, penalty=l2, solver=sag, total=   0.1s\n",
      "[CV] C=1.5000000000000002, penalty=l2, solver=sag ....................\n",
      "[CV] ..... C=1.5000000000000002, penalty=l2, solver=sag, total=   0.1s\n",
      "[CV] C=1.5000000000000002, penalty=l2, solver=saga ...................\n",
      "[CV] .... C=1.5000000000000002, penalty=l2, solver=saga, total=   0.1s\n",
      "[CV] C=1.5000000000000002, penalty=l2, solver=saga ...................\n"
     ]
    },
    {
     "name": "stderr",
     "output_type": "stream",
     "text": [
      "E:\\Anaconda3\\lib\\site-packages\\sklearn\\linear_model\\_sag.py:330: ConvergenceWarning: The max_iter was reached which means the coef_ did not converge\n",
      "  \"the coef_ did not converge\", ConvergenceWarning)\n",
      "E:\\Anaconda3\\lib\\site-packages\\sklearn\\linear_model\\_sag.py:330: ConvergenceWarning: The max_iter was reached which means the coef_ did not converge\n",
      "  \"the coef_ did not converge\", ConvergenceWarning)\n"
     ]
    },
    {
     "name": "stdout",
     "output_type": "stream",
     "text": [
      "[CV] .... C=1.5000000000000002, penalty=l2, solver=saga, total=   0.1s\n",
      "[CV] C=1.5000000000000002, penalty=l2, solver=saga ...................\n",
      "[CV] .... C=1.5000000000000002, penalty=l2, solver=saga, total=   0.1s\n",
      "[CV] C=1.5000000000000002, penalty=l2, solver=saga ...................\n"
     ]
    },
    {
     "name": "stderr",
     "output_type": "stream",
     "text": [
      "E:\\Anaconda3\\lib\\site-packages\\sklearn\\linear_model\\_sag.py:330: ConvergenceWarning: The max_iter was reached which means the coef_ did not converge\n",
      "  \"the coef_ did not converge\", ConvergenceWarning)\n"
     ]
    },
    {
     "name": "stdout",
     "output_type": "stream",
     "text": [
      "[CV] .... C=1.5000000000000002, penalty=l2, solver=saga, total=   0.1s\n",
      "[CV] C=1.5000000000000002, penalty=l2, solver=saga ...................\n",
      "[CV] .... C=1.5000000000000002, penalty=l2, solver=saga, total=   0.1s\n",
      "[CV] C=1.5000000000000002, penalty=l2, solver=liblinear ..............\n",
      "[CV]  C=1.5000000000000002, penalty=l2, solver=liblinear, total=   0.0s\n",
      "[CV] C=1.5000000000000002, penalty=l2, solver=liblinear ..............\n",
      "[CV]  C=1.5000000000000002, penalty=l2, solver=liblinear, total=   0.0s\n",
      "[CV] C=1.5000000000000002, penalty=l2, solver=liblinear ..............\n",
      "[CV]  C=1.5000000000000002, penalty=l2, solver=liblinear, total=   0.0s\n",
      "[CV] C=1.5000000000000002, penalty=l2, solver=liblinear ..............\n",
      "[CV]  C=1.5000000000000002, penalty=l2, solver=liblinear, total=   0.0s\n",
      "[CV] C=1.5000000000000002, penalty=l2, solver=liblinear ..............\n",
      "[CV]  C=1.5000000000000002, penalty=l2, solver=liblinear, total=   0.0s\n",
      "[CV] C=1.6, penalty=l1, solver=newton-cg .............................\n",
      "[CV] .............. C=1.6, penalty=l1, solver=newton-cg, total=   0.0s\n",
      "[CV] C=1.6, penalty=l1, solver=newton-cg .............................\n",
      "[CV] .............. C=1.6, penalty=l1, solver=newton-cg, total=   0.0s\n",
      "[CV] C=1.6, penalty=l1, solver=newton-cg .............................\n",
      "[CV] .............. C=1.6, penalty=l1, solver=newton-cg, total=   0.0s\n",
      "[CV] C=1.6, penalty=l1, solver=newton-cg .............................\n",
      "[CV] .............. C=1.6, penalty=l1, solver=newton-cg, total=   0.0s\n",
      "[CV] C=1.6, penalty=l1, solver=newton-cg .............................\n",
      "[CV] .............. C=1.6, penalty=l1, solver=newton-cg, total=   0.0s\n",
      "[CV] C=1.6, penalty=l1, solver=lbfgs .................................\n",
      "[CV] .................. C=1.6, penalty=l1, solver=lbfgs, total=   0.0s\n",
      "[CV] C=1.6, penalty=l1, solver=lbfgs .................................\n",
      "[CV] .................. C=1.6, penalty=l1, solver=lbfgs, total=   0.0s\n",
      "[CV] C=1.6, penalty=l1, solver=lbfgs .................................\n",
      "[CV] .................. C=1.6, penalty=l1, solver=lbfgs, total=   0.0s\n",
      "[CV] C=1.6, penalty=l1, solver=lbfgs .................................\n",
      "[CV] .................. C=1.6, penalty=l1, solver=lbfgs, total=   0.0s\n",
      "[CV] C=1.6, penalty=l1, solver=lbfgs .................................\n",
      "[CV] .................. C=1.6, penalty=l1, solver=lbfgs, total=   0.0s\n",
      "[CV] C=1.6, penalty=l1, solver=sag ...................................\n",
      "[CV] .................... C=1.6, penalty=l1, solver=sag, total=   0.0s\n",
      "[CV] C=1.6, penalty=l1, solver=sag ...................................\n",
      "[CV] .................... C=1.6, penalty=l1, solver=sag, total=   0.0s\n",
      "[CV] C=1.6, penalty=l1, solver=sag ...................................\n",
      "[CV] .................... C=1.6, penalty=l1, solver=sag, total=   0.0s\n",
      "[CV] C=1.6, penalty=l1, solver=sag ...................................\n",
      "[CV] .................... C=1.6, penalty=l1, solver=sag, total=   0.0s\n",
      "[CV] C=1.6, penalty=l1, solver=sag ...................................\n",
      "[CV] .................... C=1.6, penalty=l1, solver=sag, total=   0.0s\n",
      "[CV] C=1.6, penalty=l1, solver=saga ..................................\n"
     ]
    },
    {
     "name": "stderr",
     "output_type": "stream",
     "text": [
      "E:\\Anaconda3\\lib\\site-packages\\sklearn\\linear_model\\_sag.py:330: ConvergenceWarning: The max_iter was reached which means the coef_ did not converge\n",
      "  \"the coef_ did not converge\", ConvergenceWarning)\n",
      "E:\\Anaconda3\\lib\\site-packages\\sklearn\\model_selection\\_validation.py:536: FitFailedWarning: Estimator fit failed. The score on this train-test partition for these parameters will be set to nan. Details: \n",
      "ValueError: Solver newton-cg supports only 'l2' or 'none' penalties, got l1 penalty.\n",
      "\n",
      "  FitFailedWarning)\n",
      "E:\\Anaconda3\\lib\\site-packages\\sklearn\\model_selection\\_validation.py:536: FitFailedWarning: Estimator fit failed. The score on this train-test partition for these parameters will be set to nan. Details: \n",
      "ValueError: Solver lbfgs supports only 'l2' or 'none' penalties, got l1 penalty.\n",
      "\n",
      "  FitFailedWarning)\n",
      "E:\\Anaconda3\\lib\\site-packages\\sklearn\\model_selection\\_validation.py:536: FitFailedWarning: Estimator fit failed. The score on this train-test partition for these parameters will be set to nan. Details: \n",
      "ValueError: Solver sag supports only 'l2' or 'none' penalties, got l1 penalty.\n",
      "\n",
      "  FitFailedWarning)\n",
      "E:\\Anaconda3\\lib\\site-packages\\sklearn\\linear_model\\_sag.py:330: ConvergenceWarning: The max_iter was reached which means the coef_ did not converge\n",
      "  \"the coef_ did not converge\", ConvergenceWarning)\n"
     ]
    },
    {
     "name": "stdout",
     "output_type": "stream",
     "text": [
      "[CV] ................... C=1.6, penalty=l1, solver=saga, total=   0.1s\n",
      "[CV] C=1.6, penalty=l1, solver=saga ..................................\n",
      "[CV] ................... C=1.6, penalty=l1, solver=saga, total=   0.1s\n",
      "[CV] C=1.6, penalty=l1, solver=saga ..................................\n"
     ]
    },
    {
     "name": "stderr",
     "output_type": "stream",
     "text": [
      "E:\\Anaconda3\\lib\\site-packages\\sklearn\\linear_model\\_sag.py:330: ConvergenceWarning: The max_iter was reached which means the coef_ did not converge\n",
      "  \"the coef_ did not converge\", ConvergenceWarning)\n",
      "E:\\Anaconda3\\lib\\site-packages\\sklearn\\linear_model\\_sag.py:330: ConvergenceWarning: The max_iter was reached which means the coef_ did not converge\n",
      "  \"the coef_ did not converge\", ConvergenceWarning)\n"
     ]
    },
    {
     "name": "stdout",
     "output_type": "stream",
     "text": [
      "[CV] ................... C=1.6, penalty=l1, solver=saga, total=   0.1s\n",
      "[CV] C=1.6, penalty=l1, solver=saga ..................................\n",
      "[CV] ................... C=1.6, penalty=l1, solver=saga, total=   0.1s\n",
      "[CV] C=1.6, penalty=l1, solver=saga ..................................\n"
     ]
    },
    {
     "name": "stderr",
     "output_type": "stream",
     "text": [
      "E:\\Anaconda3\\lib\\site-packages\\sklearn\\linear_model\\_sag.py:330: ConvergenceWarning: The max_iter was reached which means the coef_ did not converge\n",
      "  \"the coef_ did not converge\", ConvergenceWarning)\n",
      "E:\\Anaconda3\\lib\\site-packages\\sklearn\\linear_model\\_sag.py:330: ConvergenceWarning: The max_iter was reached which means the coef_ did not converge\n",
      "  \"the coef_ did not converge\", ConvergenceWarning)\n"
     ]
    },
    {
     "name": "stdout",
     "output_type": "stream",
     "text": [
      "[CV] ................... C=1.6, penalty=l1, solver=saga, total=   0.1s\n",
      "[CV] C=1.6, penalty=l1, solver=liblinear .............................\n",
      "[CV] .............. C=1.6, penalty=l1, solver=liblinear, total=   0.0s\n",
      "[CV] C=1.6, penalty=l1, solver=liblinear .............................\n",
      "[CV] .............. C=1.6, penalty=l1, solver=liblinear, total=   0.0s\n",
      "[CV] C=1.6, penalty=l1, solver=liblinear .............................\n",
      "[CV] .............. C=1.6, penalty=l1, solver=liblinear, total=   0.0s\n",
      "[CV] C=1.6, penalty=l1, solver=liblinear .............................\n",
      "[CV] .............. C=1.6, penalty=l1, solver=liblinear, total=   0.0s\n",
      "[CV] C=1.6, penalty=l1, solver=liblinear .............................\n",
      "[CV] .............. C=1.6, penalty=l1, solver=liblinear, total=   0.0s\n",
      "[CV] C=1.6, penalty=l2, solver=newton-cg .............................\n",
      "[CV] .............. C=1.6, penalty=l2, solver=newton-cg, total=   0.0s\n",
      "[CV] C=1.6, penalty=l2, solver=newton-cg .............................\n",
      "[CV] .............. C=1.6, penalty=l2, solver=newton-cg, total=   0.0s\n",
      "[CV] C=1.6, penalty=l2, solver=newton-cg .............................\n",
      "[CV] .............. C=1.6, penalty=l2, solver=newton-cg, total=   0.0s\n",
      "[CV] C=1.6, penalty=l2, solver=newton-cg .............................\n",
      "[CV] .............. C=1.6, penalty=l2, solver=newton-cg, total=   0.0s\n",
      "[CV] C=1.6, penalty=l2, solver=newton-cg .............................\n",
      "[CV] .............. C=1.6, penalty=l2, solver=newton-cg, total=   0.0s\n",
      "[CV] C=1.6, penalty=l2, solver=lbfgs .................................\n",
      "[CV] .................. C=1.6, penalty=l2, solver=lbfgs, total=   0.0s\n",
      "[CV] C=1.6, penalty=l2, solver=lbfgs .................................\n",
      "[CV] .................. C=1.6, penalty=l2, solver=lbfgs, total=   0.0s\n",
      "[CV] C=1.6, penalty=l2, solver=lbfgs .................................\n",
      "[CV] .................. C=1.6, penalty=l2, solver=lbfgs, total=   0.0s\n",
      "[CV] C=1.6, penalty=l2, solver=lbfgs .................................\n",
      "[CV] .................. C=1.6, penalty=l2, solver=lbfgs, total=   0.0s\n",
      "[CV] C=1.6, penalty=l2, solver=lbfgs .................................\n",
      "[CV] .................. C=1.6, penalty=l2, solver=lbfgs, total=   0.0s\n",
      "[CV] C=1.6, penalty=l2, solver=sag ...................................\n",
      "[CV] .................... C=1.6, penalty=l2, solver=sag, total=   0.1s\n",
      "[CV] C=1.6, penalty=l2, solver=sag ...................................\n",
      "[CV] .................... C=1.6, penalty=l2, solver=sag, total=   0.1s\n",
      "[CV] C=1.6, penalty=l2, solver=sag ...................................\n",
      "[CV] .................... C=1.6, penalty=l2, solver=sag, total=   0.1s\n",
      "[CV] C=1.6, penalty=l2, solver=sag ...................................\n",
      "[CV] .................... C=1.6, penalty=l2, solver=sag, total=   0.1s\n",
      "[CV] C=1.6, penalty=l2, solver=sag ...................................\n",
      "[CV] .................... C=1.6, penalty=l2, solver=sag, total=   0.1s\n",
      "[CV] C=1.6, penalty=l2, solver=saga ..................................\n",
      "[CV] ................... C=1.6, penalty=l2, solver=saga, total=   0.1s\n",
      "[CV] C=1.6, penalty=l2, solver=saga ..................................\n"
     ]
    },
    {
     "name": "stderr",
     "output_type": "stream",
     "text": [
      "E:\\Anaconda3\\lib\\site-packages\\sklearn\\linear_model\\_sag.py:330: ConvergenceWarning: The max_iter was reached which means the coef_ did not converge\n",
      "  \"the coef_ did not converge\", ConvergenceWarning)\n",
      "E:\\Anaconda3\\lib\\site-packages\\sklearn\\linear_model\\_sag.py:330: ConvergenceWarning: The max_iter was reached which means the coef_ did not converge\n",
      "  \"the coef_ did not converge\", ConvergenceWarning)\n"
     ]
    },
    {
     "name": "stdout",
     "output_type": "stream",
     "text": [
      "[CV] ................... C=1.6, penalty=l2, solver=saga, total=   0.1s\n",
      "[CV] C=1.6, penalty=l2, solver=saga ..................................\n",
      "[CV] ................... C=1.6, penalty=l2, solver=saga, total=   0.1s\n",
      "[CV] C=1.6, penalty=l2, solver=saga ..................................\n"
     ]
    },
    {
     "name": "stderr",
     "output_type": "stream",
     "text": [
      "E:\\Anaconda3\\lib\\site-packages\\sklearn\\linear_model\\_sag.py:330: ConvergenceWarning: The max_iter was reached which means the coef_ did not converge\n",
      "  \"the coef_ did not converge\", ConvergenceWarning)\n"
     ]
    },
    {
     "name": "stdout",
     "output_type": "stream",
     "text": [
      "[CV] ................... C=1.6, penalty=l2, solver=saga, total=   0.1s\n",
      "[CV] C=1.6, penalty=l2, solver=saga ..................................\n",
      "[CV] ................... C=1.6, penalty=l2, solver=saga, total=   0.1s\n",
      "[CV] C=1.6, penalty=l2, solver=liblinear .............................\n",
      "[CV] .............. C=1.6, penalty=l2, solver=liblinear, total=   0.0s\n",
      "[CV] C=1.6, penalty=l2, solver=liblinear .............................\n",
      "[CV] .............. C=1.6, penalty=l2, solver=liblinear, total=   0.0s\n",
      "[CV] C=1.6, penalty=l2, solver=liblinear .............................\n",
      "[CV] .............. C=1.6, penalty=l2, solver=liblinear, total=   0.0s\n",
      "[CV] C=1.6, penalty=l2, solver=liblinear .............................\n",
      "[CV] .............. C=1.6, penalty=l2, solver=liblinear, total=   0.0s\n",
      "[CV] C=1.6, penalty=l2, solver=liblinear .............................\n",
      "[CV] .............. C=1.6, penalty=l2, solver=liblinear, total=   0.0s\n",
      "[CV] C=1.7000000000000002, penalty=l1, solver=newton-cg ..............\n",
      "[CV]  C=1.7000000000000002, penalty=l1, solver=newton-cg, total=   0.0s\n",
      "[CV] C=1.7000000000000002, penalty=l1, solver=newton-cg ..............\n",
      "[CV]  C=1.7000000000000002, penalty=l1, solver=newton-cg, total=   0.0s\n",
      "[CV] C=1.7000000000000002, penalty=l1, solver=newton-cg ..............\n",
      "[CV]  C=1.7000000000000002, penalty=l1, solver=newton-cg, total=   0.0s\n",
      "[CV] C=1.7000000000000002, penalty=l1, solver=newton-cg ..............\n",
      "[CV]  C=1.7000000000000002, penalty=l1, solver=newton-cg, total=   0.0s\n",
      "[CV] C=1.7000000000000002, penalty=l1, solver=newton-cg ..............\n",
      "[CV]  C=1.7000000000000002, penalty=l1, solver=newton-cg, total=   0.0s\n",
      "[CV] C=1.7000000000000002, penalty=l1, solver=lbfgs ..................\n",
      "[CV] ... C=1.7000000000000002, penalty=l1, solver=lbfgs, total=   0.0s\n",
      "[CV] C=1.7000000000000002, penalty=l1, solver=lbfgs ..................\n",
      "[CV] ... C=1.7000000000000002, penalty=l1, solver=lbfgs, total=   0.0s\n",
      "[CV] C=1.7000000000000002, penalty=l1, solver=lbfgs ..................\n",
      "[CV] ... C=1.7000000000000002, penalty=l1, solver=lbfgs, total=   0.0s\n",
      "[CV] C=1.7000000000000002, penalty=l1, solver=lbfgs ..................\n",
      "[CV] ... C=1.7000000000000002, penalty=l1, solver=lbfgs, total=   0.0s\n",
      "[CV] C=1.7000000000000002, penalty=l1, solver=lbfgs ..................\n",
      "[CV] ... C=1.7000000000000002, penalty=l1, solver=lbfgs, total=   0.0s\n",
      "[CV] C=1.7000000000000002, penalty=l1, solver=sag ....................\n",
      "[CV] ..... C=1.7000000000000002, penalty=l1, solver=sag, total=   0.0s\n",
      "[CV] C=1.7000000000000002, penalty=l1, solver=sag ....................\n",
      "[CV] ..... C=1.7000000000000002, penalty=l1, solver=sag, total=   0.0s\n",
      "[CV] C=1.7000000000000002, penalty=l1, solver=sag ....................\n",
      "[CV] ..... C=1.7000000000000002, penalty=l1, solver=sag, total=   0.0s\n",
      "[CV] C=1.7000000000000002, penalty=l1, solver=sag ....................\n",
      "[CV] ..... C=1.7000000000000002, penalty=l1, solver=sag, total=   0.0s\n",
      "[CV] C=1.7000000000000002, penalty=l1, solver=sag ....................\n",
      "[CV] ..... C=1.7000000000000002, penalty=l1, solver=sag, total=   0.0s\n",
      "[CV] C=1.7000000000000002, penalty=l1, solver=saga ...................\n"
     ]
    },
    {
     "name": "stderr",
     "output_type": "stream",
     "text": [
      "E:\\Anaconda3\\lib\\site-packages\\sklearn\\linear_model\\_sag.py:330: ConvergenceWarning: The max_iter was reached which means the coef_ did not converge\n",
      "  \"the coef_ did not converge\", ConvergenceWarning)\n",
      "E:\\Anaconda3\\lib\\site-packages\\sklearn\\model_selection\\_validation.py:536: FitFailedWarning: Estimator fit failed. The score on this train-test partition for these parameters will be set to nan. Details: \n",
      "ValueError: Solver newton-cg supports only 'l2' or 'none' penalties, got l1 penalty.\n",
      "\n",
      "  FitFailedWarning)\n",
      "E:\\Anaconda3\\lib\\site-packages\\sklearn\\model_selection\\_validation.py:536: FitFailedWarning: Estimator fit failed. The score on this train-test partition for these parameters will be set to nan. Details: \n",
      "ValueError: Solver lbfgs supports only 'l2' or 'none' penalties, got l1 penalty.\n",
      "\n",
      "  FitFailedWarning)\n",
      "E:\\Anaconda3\\lib\\site-packages\\sklearn\\model_selection\\_validation.py:536: FitFailedWarning: Estimator fit failed. The score on this train-test partition for these parameters will be set to nan. Details: \n",
      "ValueError: Solver sag supports only 'l2' or 'none' penalties, got l1 penalty.\n",
      "\n",
      "  FitFailedWarning)\n",
      "E:\\Anaconda3\\lib\\site-packages\\sklearn\\linear_model\\_sag.py:330: ConvergenceWarning: The max_iter was reached which means the coef_ did not converge\n",
      "  \"the coef_ did not converge\", ConvergenceWarning)\n"
     ]
    },
    {
     "name": "stdout",
     "output_type": "stream",
     "text": [
      "[CV] .... C=1.7000000000000002, penalty=l1, solver=saga, total=   0.1s\n",
      "[CV] C=1.7000000000000002, penalty=l1, solver=saga ...................\n",
      "[CV] .... C=1.7000000000000002, penalty=l1, solver=saga, total=   0.1s\n",
      "[CV] C=1.7000000000000002, penalty=l1, solver=saga ...................\n"
     ]
    },
    {
     "name": "stderr",
     "output_type": "stream",
     "text": [
      "E:\\Anaconda3\\lib\\site-packages\\sklearn\\linear_model\\_sag.py:330: ConvergenceWarning: The max_iter was reached which means the coef_ did not converge\n",
      "  \"the coef_ did not converge\", ConvergenceWarning)\n",
      "E:\\Anaconda3\\lib\\site-packages\\sklearn\\linear_model\\_sag.py:330: ConvergenceWarning: The max_iter was reached which means the coef_ did not converge\n",
      "  \"the coef_ did not converge\", ConvergenceWarning)\n"
     ]
    },
    {
     "name": "stdout",
     "output_type": "stream",
     "text": [
      "[CV] .... C=1.7000000000000002, penalty=l1, solver=saga, total=   0.1s\n",
      "[CV] C=1.7000000000000002, penalty=l1, solver=saga ...................\n",
      "[CV] .... C=1.7000000000000002, penalty=l1, solver=saga, total=   0.1s\n",
      "[CV] C=1.7000000000000002, penalty=l1, solver=saga ...................\n"
     ]
    },
    {
     "name": "stderr",
     "output_type": "stream",
     "text": [
      "E:\\Anaconda3\\lib\\site-packages\\sklearn\\linear_model\\_sag.py:330: ConvergenceWarning: The max_iter was reached which means the coef_ did not converge\n",
      "  \"the coef_ did not converge\", ConvergenceWarning)\n",
      "E:\\Anaconda3\\lib\\site-packages\\sklearn\\linear_model\\_sag.py:330: ConvergenceWarning: The max_iter was reached which means the coef_ did not converge\n",
      "  \"the coef_ did not converge\", ConvergenceWarning)\n"
     ]
    },
    {
     "name": "stdout",
     "output_type": "stream",
     "text": [
      "[CV] .... C=1.7000000000000002, penalty=l1, solver=saga, total=   0.1s\n",
      "[CV] C=1.7000000000000002, penalty=l1, solver=liblinear ..............\n",
      "[CV]  C=1.7000000000000002, penalty=l1, solver=liblinear, total=   0.0s\n",
      "[CV] C=1.7000000000000002, penalty=l1, solver=liblinear ..............\n",
      "[CV]  C=1.7000000000000002, penalty=l1, solver=liblinear, total=   0.0s\n",
      "[CV] C=1.7000000000000002, penalty=l1, solver=liblinear ..............\n",
      "[CV]  C=1.7000000000000002, penalty=l1, solver=liblinear, total=   0.0s\n",
      "[CV] C=1.7000000000000002, penalty=l1, solver=liblinear ..............\n",
      "[CV]  C=1.7000000000000002, penalty=l1, solver=liblinear, total=   0.0s\n",
      "[CV] C=1.7000000000000002, penalty=l1, solver=liblinear ..............\n",
      "[CV]  C=1.7000000000000002, penalty=l1, solver=liblinear, total=   0.0s\n",
      "[CV] C=1.7000000000000002, penalty=l2, solver=newton-cg ..............\n",
      "[CV]  C=1.7000000000000002, penalty=l2, solver=newton-cg, total=   0.0s\n",
      "[CV] C=1.7000000000000002, penalty=l2, solver=newton-cg ..............\n",
      "[CV]  C=1.7000000000000002, penalty=l2, solver=newton-cg, total=   0.0s\n",
      "[CV] C=1.7000000000000002, penalty=l2, solver=newton-cg ..............\n",
      "[CV]  C=1.7000000000000002, penalty=l2, solver=newton-cg, total=   0.0s\n",
      "[CV] C=1.7000000000000002, penalty=l2, solver=newton-cg ..............\n",
      "[CV]  C=1.7000000000000002, penalty=l2, solver=newton-cg, total=   0.0s\n",
      "[CV] C=1.7000000000000002, penalty=l2, solver=newton-cg ..............\n",
      "[CV]  C=1.7000000000000002, penalty=l2, solver=newton-cg, total=   0.0s\n",
      "[CV] C=1.7000000000000002, penalty=l2, solver=lbfgs ..................\n",
      "[CV] ... C=1.7000000000000002, penalty=l2, solver=lbfgs, total=   0.0s\n",
      "[CV] C=1.7000000000000002, penalty=l2, solver=lbfgs ..................\n",
      "[CV] ... C=1.7000000000000002, penalty=l2, solver=lbfgs, total=   0.0s\n",
      "[CV] C=1.7000000000000002, penalty=l2, solver=lbfgs ..................\n",
      "[CV] ... C=1.7000000000000002, penalty=l2, solver=lbfgs, total=   0.0s\n",
      "[CV] C=1.7000000000000002, penalty=l2, solver=lbfgs ..................\n",
      "[CV] ... C=1.7000000000000002, penalty=l2, solver=lbfgs, total=   0.0s\n",
      "[CV] C=1.7000000000000002, penalty=l2, solver=lbfgs ..................\n",
      "[CV] ... C=1.7000000000000002, penalty=l2, solver=lbfgs, total=   0.0s\n",
      "[CV] C=1.7000000000000002, penalty=l2, solver=sag ....................\n",
      "[CV] ..... C=1.7000000000000002, penalty=l2, solver=sag, total=   0.1s\n",
      "[CV] C=1.7000000000000002, penalty=l2, solver=sag ....................\n",
      "[CV] ..... C=1.7000000000000002, penalty=l2, solver=sag, total=   0.1s\n",
      "[CV] C=1.7000000000000002, penalty=l2, solver=sag ....................\n",
      "[CV] ..... C=1.7000000000000002, penalty=l2, solver=sag, total=   0.1s\n",
      "[CV] C=1.7000000000000002, penalty=l2, solver=sag ....................\n",
      "[CV] ..... C=1.7000000000000002, penalty=l2, solver=sag, total=   0.1s\n",
      "[CV] C=1.7000000000000002, penalty=l2, solver=sag ....................\n",
      "[CV] ..... C=1.7000000000000002, penalty=l2, solver=sag, total=   0.1s\n",
      "[CV] C=1.7000000000000002, penalty=l2, solver=saga ...................\n",
      "[CV] .... C=1.7000000000000002, penalty=l2, solver=saga, total=   0.1s\n",
      "[CV] C=1.7000000000000002, penalty=l2, solver=saga ...................\n"
     ]
    },
    {
     "name": "stderr",
     "output_type": "stream",
     "text": [
      "E:\\Anaconda3\\lib\\site-packages\\sklearn\\linear_model\\_sag.py:330: ConvergenceWarning: The max_iter was reached which means the coef_ did not converge\n",
      "  \"the coef_ did not converge\", ConvergenceWarning)\n",
      "E:\\Anaconda3\\lib\\site-packages\\sklearn\\linear_model\\_sag.py:330: ConvergenceWarning: The max_iter was reached which means the coef_ did not converge\n",
      "  \"the coef_ did not converge\", ConvergenceWarning)\n"
     ]
    },
    {
     "name": "stdout",
     "output_type": "stream",
     "text": [
      "[CV] .... C=1.7000000000000002, penalty=l2, solver=saga, total=   0.1s\n",
      "[CV] C=1.7000000000000002, penalty=l2, solver=saga ...................\n",
      "[CV] .... C=1.7000000000000002, penalty=l2, solver=saga, total=   0.1s\n",
      "[CV] C=1.7000000000000002, penalty=l2, solver=saga ...................\n"
     ]
    },
    {
     "name": "stderr",
     "output_type": "stream",
     "text": [
      "E:\\Anaconda3\\lib\\site-packages\\sklearn\\linear_model\\_sag.py:330: ConvergenceWarning: The max_iter was reached which means the coef_ did not converge\n",
      "  \"the coef_ did not converge\", ConvergenceWarning)\n"
     ]
    },
    {
     "name": "stdout",
     "output_type": "stream",
     "text": [
      "[CV] .... C=1.7000000000000002, penalty=l2, solver=saga, total=   0.1s\n",
      "[CV] C=1.7000000000000002, penalty=l2, solver=saga ...................\n",
      "[CV] .... C=1.7000000000000002, penalty=l2, solver=saga, total=   0.1s\n",
      "[CV] C=1.7000000000000002, penalty=l2, solver=liblinear ..............\n",
      "[CV]  C=1.7000000000000002, penalty=l2, solver=liblinear, total=   0.0s\n",
      "[CV] C=1.7000000000000002, penalty=l2, solver=liblinear ..............\n",
      "[CV]  C=1.7000000000000002, penalty=l2, solver=liblinear, total=   0.0s\n",
      "[CV] C=1.7000000000000002, penalty=l2, solver=liblinear ..............\n",
      "[CV]  C=1.7000000000000002, penalty=l2, solver=liblinear, total=   0.0s\n",
      "[CV] C=1.7000000000000002, penalty=l2, solver=liblinear ..............\n",
      "[CV]  C=1.7000000000000002, penalty=l2, solver=liblinear, total=   0.0s\n",
      "[CV] C=1.7000000000000002, penalty=l2, solver=liblinear ..............\n",
      "[CV]  C=1.7000000000000002, penalty=l2, solver=liblinear, total=   0.0s\n",
      "[CV] C=1.8000000000000003, penalty=l1, solver=newton-cg ..............\n",
      "[CV]  C=1.8000000000000003, penalty=l1, solver=newton-cg, total=   0.0s\n",
      "[CV] C=1.8000000000000003, penalty=l1, solver=newton-cg ..............\n",
      "[CV]  C=1.8000000000000003, penalty=l1, solver=newton-cg, total=   0.0s\n",
      "[CV] C=1.8000000000000003, penalty=l1, solver=newton-cg ..............\n",
      "[CV]  C=1.8000000000000003, penalty=l1, solver=newton-cg, total=   0.0s\n",
      "[CV] C=1.8000000000000003, penalty=l1, solver=newton-cg ..............\n",
      "[CV]  C=1.8000000000000003, penalty=l1, solver=newton-cg, total=   0.0s\n",
      "[CV] C=1.8000000000000003, penalty=l1, solver=newton-cg ..............\n",
      "[CV]  C=1.8000000000000003, penalty=l1, solver=newton-cg, total=   0.0s\n",
      "[CV] C=1.8000000000000003, penalty=l1, solver=lbfgs ..................\n",
      "[CV] ... C=1.8000000000000003, penalty=l1, solver=lbfgs, total=   0.0s\n",
      "[CV] C=1.8000000000000003, penalty=l1, solver=lbfgs ..................\n",
      "[CV] ... C=1.8000000000000003, penalty=l1, solver=lbfgs, total=   0.0s\n",
      "[CV] C=1.8000000000000003, penalty=l1, solver=lbfgs ..................\n",
      "[CV] ... C=1.8000000000000003, penalty=l1, solver=lbfgs, total=   0.0s\n",
      "[CV] C=1.8000000000000003, penalty=l1, solver=lbfgs ..................\n",
      "[CV] ... C=1.8000000000000003, penalty=l1, solver=lbfgs, total=   0.0s\n",
      "[CV] C=1.8000000000000003, penalty=l1, solver=lbfgs ..................\n",
      "[CV] ... C=1.8000000000000003, penalty=l1, solver=lbfgs, total=   0.0s\n",
      "[CV] C=1.8000000000000003, penalty=l1, solver=sag ....................\n",
      "[CV] ..... C=1.8000000000000003, penalty=l1, solver=sag, total=   0.0s\n",
      "[CV] C=1.8000000000000003, penalty=l1, solver=sag ....................\n",
      "[CV] ..... C=1.8000000000000003, penalty=l1, solver=sag, total=   0.0s\n",
      "[CV] C=1.8000000000000003, penalty=l1, solver=sag ....................\n",
      "[CV] ..... C=1.8000000000000003, penalty=l1, solver=sag, total=   0.0s\n",
      "[CV] C=1.8000000000000003, penalty=l1, solver=sag ....................\n",
      "[CV] ..... C=1.8000000000000003, penalty=l1, solver=sag, total=   0.0s\n",
      "[CV] C=1.8000000000000003, penalty=l1, solver=sag ....................\n",
      "[CV] ..... C=1.8000000000000003, penalty=l1, solver=sag, total=   0.0s\n",
      "[CV] C=1.8000000000000003, penalty=l1, solver=saga ...................\n"
     ]
    },
    {
     "name": "stderr",
     "output_type": "stream",
     "text": [
      "E:\\Anaconda3\\lib\\site-packages\\sklearn\\linear_model\\_sag.py:330: ConvergenceWarning: The max_iter was reached which means the coef_ did not converge\n",
      "  \"the coef_ did not converge\", ConvergenceWarning)\n",
      "E:\\Anaconda3\\lib\\site-packages\\sklearn\\model_selection\\_validation.py:536: FitFailedWarning: Estimator fit failed. The score on this train-test partition for these parameters will be set to nan. Details: \n",
      "ValueError: Solver newton-cg supports only 'l2' or 'none' penalties, got l1 penalty.\n",
      "\n",
      "  FitFailedWarning)\n",
      "E:\\Anaconda3\\lib\\site-packages\\sklearn\\model_selection\\_validation.py:536: FitFailedWarning: Estimator fit failed. The score on this train-test partition for these parameters will be set to nan. Details: \n",
      "ValueError: Solver lbfgs supports only 'l2' or 'none' penalties, got l1 penalty.\n",
      "\n",
      "  FitFailedWarning)\n",
      "E:\\Anaconda3\\lib\\site-packages\\sklearn\\model_selection\\_validation.py:536: FitFailedWarning: Estimator fit failed. The score on this train-test partition for these parameters will be set to nan. Details: \n",
      "ValueError: Solver sag supports only 'l2' or 'none' penalties, got l1 penalty.\n",
      "\n",
      "  FitFailedWarning)\n",
      "E:\\Anaconda3\\lib\\site-packages\\sklearn\\linear_model\\_sag.py:330: ConvergenceWarning: The max_iter was reached which means the coef_ did not converge\n",
      "  \"the coef_ did not converge\", ConvergenceWarning)\n"
     ]
    },
    {
     "name": "stdout",
     "output_type": "stream",
     "text": [
      "[CV] .... C=1.8000000000000003, penalty=l1, solver=saga, total=   0.1s\n",
      "[CV] C=1.8000000000000003, penalty=l1, solver=saga ...................\n",
      "[CV] .... C=1.8000000000000003, penalty=l1, solver=saga, total=   0.1s\n",
      "[CV] C=1.8000000000000003, penalty=l1, solver=saga ...................\n"
     ]
    },
    {
     "name": "stderr",
     "output_type": "stream",
     "text": [
      "E:\\Anaconda3\\lib\\site-packages\\sklearn\\linear_model\\_sag.py:330: ConvergenceWarning: The max_iter was reached which means the coef_ did not converge\n",
      "  \"the coef_ did not converge\", ConvergenceWarning)\n",
      "E:\\Anaconda3\\lib\\site-packages\\sklearn\\linear_model\\_sag.py:330: ConvergenceWarning: The max_iter was reached which means the coef_ did not converge\n",
      "  \"the coef_ did not converge\", ConvergenceWarning)\n"
     ]
    },
    {
     "name": "stdout",
     "output_type": "stream",
     "text": [
      "[CV] .... C=1.8000000000000003, penalty=l1, solver=saga, total=   0.1s\n",
      "[CV] C=1.8000000000000003, penalty=l1, solver=saga ...................\n",
      "[CV] .... C=1.8000000000000003, penalty=l1, solver=saga, total=   0.1s\n",
      "[CV] C=1.8000000000000003, penalty=l1, solver=saga ...................\n"
     ]
    },
    {
     "name": "stderr",
     "output_type": "stream",
     "text": [
      "E:\\Anaconda3\\lib\\site-packages\\sklearn\\linear_model\\_sag.py:330: ConvergenceWarning: The max_iter was reached which means the coef_ did not converge\n",
      "  \"the coef_ did not converge\", ConvergenceWarning)\n",
      "E:\\Anaconda3\\lib\\site-packages\\sklearn\\linear_model\\_sag.py:330: ConvergenceWarning: The max_iter was reached which means the coef_ did not converge\n",
      "  \"the coef_ did not converge\", ConvergenceWarning)\n"
     ]
    },
    {
     "name": "stdout",
     "output_type": "stream",
     "text": [
      "[CV] .... C=1.8000000000000003, penalty=l1, solver=saga, total=   0.1s\n",
      "[CV] C=1.8000000000000003, penalty=l1, solver=liblinear ..............\n",
      "[CV]  C=1.8000000000000003, penalty=l1, solver=liblinear, total=   0.0s\n",
      "[CV] C=1.8000000000000003, penalty=l1, solver=liblinear ..............\n",
      "[CV]  C=1.8000000000000003, penalty=l1, solver=liblinear, total=   0.0s\n",
      "[CV] C=1.8000000000000003, penalty=l1, solver=liblinear ..............\n",
      "[CV]  C=1.8000000000000003, penalty=l1, solver=liblinear, total=   0.0s\n",
      "[CV] C=1.8000000000000003, penalty=l1, solver=liblinear ..............\n",
      "[CV]  C=1.8000000000000003, penalty=l1, solver=liblinear, total=   0.0s\n",
      "[CV] C=1.8000000000000003, penalty=l1, solver=liblinear ..............\n",
      "[CV]  C=1.8000000000000003, penalty=l1, solver=liblinear, total=   0.0s\n",
      "[CV] C=1.8000000000000003, penalty=l2, solver=newton-cg ..............\n",
      "[CV]  C=1.8000000000000003, penalty=l2, solver=newton-cg, total=   0.0s\n",
      "[CV] C=1.8000000000000003, penalty=l2, solver=newton-cg ..............\n",
      "[CV]  C=1.8000000000000003, penalty=l2, solver=newton-cg, total=   0.0s\n",
      "[CV] C=1.8000000000000003, penalty=l2, solver=newton-cg ..............\n",
      "[CV]  C=1.8000000000000003, penalty=l2, solver=newton-cg, total=   0.0s\n",
      "[CV] C=1.8000000000000003, penalty=l2, solver=newton-cg ..............\n",
      "[CV]  C=1.8000000000000003, penalty=l2, solver=newton-cg, total=   0.0s\n",
      "[CV] C=1.8000000000000003, penalty=l2, solver=newton-cg ..............\n",
      "[CV]  C=1.8000000000000003, penalty=l2, solver=newton-cg, total=   0.0s\n",
      "[CV] C=1.8000000000000003, penalty=l2, solver=lbfgs ..................\n",
      "[CV] ... C=1.8000000000000003, penalty=l2, solver=lbfgs, total=   0.0s\n",
      "[CV] C=1.8000000000000003, penalty=l2, solver=lbfgs ..................\n",
      "[CV] ... C=1.8000000000000003, penalty=l2, solver=lbfgs, total=   0.0s\n",
      "[CV] C=1.8000000000000003, penalty=l2, solver=lbfgs ..................\n",
      "[CV] ... C=1.8000000000000003, penalty=l2, solver=lbfgs, total=   0.0s\n",
      "[CV] C=1.8000000000000003, penalty=l2, solver=lbfgs ..................\n",
      "[CV] ... C=1.8000000000000003, penalty=l2, solver=lbfgs, total=   0.0s\n",
      "[CV] C=1.8000000000000003, penalty=l2, solver=lbfgs ..................\n",
      "[CV] ... C=1.8000000000000003, penalty=l2, solver=lbfgs, total=   0.0s\n",
      "[CV] C=1.8000000000000003, penalty=l2, solver=sag ....................\n",
      "[CV] ..... C=1.8000000000000003, penalty=l2, solver=sag, total=   0.1s\n",
      "[CV] C=1.8000000000000003, penalty=l2, solver=sag ....................\n",
      "[CV] ..... C=1.8000000000000003, penalty=l2, solver=sag, total=   0.1s\n",
      "[CV] C=1.8000000000000003, penalty=l2, solver=sag ....................\n",
      "[CV] ..... C=1.8000000000000003, penalty=l2, solver=sag, total=   0.1s\n",
      "[CV] C=1.8000000000000003, penalty=l2, solver=sag ....................\n",
      "[CV] ..... C=1.8000000000000003, penalty=l2, solver=sag, total=   0.1s\n",
      "[CV] C=1.8000000000000003, penalty=l2, solver=sag ....................\n",
      "[CV] ..... C=1.8000000000000003, penalty=l2, solver=sag, total=   0.1s\n",
      "[CV] C=1.8000000000000003, penalty=l2, solver=saga ...................\n",
      "[CV] .... C=1.8000000000000003, penalty=l2, solver=saga, total=   0.1s\n",
      "[CV] C=1.8000000000000003, penalty=l2, solver=saga ...................\n"
     ]
    },
    {
     "name": "stderr",
     "output_type": "stream",
     "text": [
      "E:\\Anaconda3\\lib\\site-packages\\sklearn\\linear_model\\_sag.py:330: ConvergenceWarning: The max_iter was reached which means the coef_ did not converge\n",
      "  \"the coef_ did not converge\", ConvergenceWarning)\n",
      "E:\\Anaconda3\\lib\\site-packages\\sklearn\\linear_model\\_sag.py:330: ConvergenceWarning: The max_iter was reached which means the coef_ did not converge\n",
      "  \"the coef_ did not converge\", ConvergenceWarning)\n"
     ]
    },
    {
     "name": "stdout",
     "output_type": "stream",
     "text": [
      "[CV] .... C=1.8000000000000003, penalty=l2, solver=saga, total=   0.1s\n",
      "[CV] C=1.8000000000000003, penalty=l2, solver=saga ...................\n",
      "[CV] .... C=1.8000000000000003, penalty=l2, solver=saga, total=   0.1s\n",
      "[CV] C=1.8000000000000003, penalty=l2, solver=saga ...................\n"
     ]
    },
    {
     "name": "stderr",
     "output_type": "stream",
     "text": [
      "E:\\Anaconda3\\lib\\site-packages\\sklearn\\linear_model\\_sag.py:330: ConvergenceWarning: The max_iter was reached which means the coef_ did not converge\n",
      "  \"the coef_ did not converge\", ConvergenceWarning)\n"
     ]
    },
    {
     "name": "stdout",
     "output_type": "stream",
     "text": [
      "[CV] .... C=1.8000000000000003, penalty=l2, solver=saga, total=   0.1s\n",
      "[CV] C=1.8000000000000003, penalty=l2, solver=saga ...................\n",
      "[CV] .... C=1.8000000000000003, penalty=l2, solver=saga, total=   0.1s\n",
      "[CV] C=1.8000000000000003, penalty=l2, solver=liblinear ..............\n",
      "[CV]  C=1.8000000000000003, penalty=l2, solver=liblinear, total=   0.0s\n",
      "[CV] C=1.8000000000000003, penalty=l2, solver=liblinear ..............\n",
      "[CV]  C=1.8000000000000003, penalty=l2, solver=liblinear, total=   0.0s\n",
      "[CV] C=1.8000000000000003, penalty=l2, solver=liblinear ..............\n",
      "[CV]  C=1.8000000000000003, penalty=l2, solver=liblinear, total=   0.0s\n",
      "[CV] C=1.8000000000000003, penalty=l2, solver=liblinear ..............\n",
      "[CV]  C=1.8000000000000003, penalty=l2, solver=liblinear, total=   0.0s\n",
      "[CV] C=1.8000000000000003, penalty=l2, solver=liblinear ..............\n",
      "[CV]  C=1.8000000000000003, penalty=l2, solver=liblinear, total=   0.0s\n",
      "[CV] C=1.9000000000000001, penalty=l1, solver=newton-cg ..............\n",
      "[CV]  C=1.9000000000000001, penalty=l1, solver=newton-cg, total=   0.0s\n",
      "[CV] C=1.9000000000000001, penalty=l1, solver=newton-cg ..............\n",
      "[CV]  C=1.9000000000000001, penalty=l1, solver=newton-cg, total=   0.0s\n",
      "[CV] C=1.9000000000000001, penalty=l1, solver=newton-cg ..............\n",
      "[CV]  C=1.9000000000000001, penalty=l1, solver=newton-cg, total=   0.0s\n",
      "[CV] C=1.9000000000000001, penalty=l1, solver=newton-cg ..............\n",
      "[CV]  C=1.9000000000000001, penalty=l1, solver=newton-cg, total=   0.0s\n",
      "[CV] C=1.9000000000000001, penalty=l1, solver=newton-cg ..............\n",
      "[CV]  C=1.9000000000000001, penalty=l1, solver=newton-cg, total=   0.0s\n",
      "[CV] C=1.9000000000000001, penalty=l1, solver=lbfgs ..................\n",
      "[CV] ... C=1.9000000000000001, penalty=l1, solver=lbfgs, total=   0.0s\n",
      "[CV] C=1.9000000000000001, penalty=l1, solver=lbfgs ..................\n",
      "[CV] ... C=1.9000000000000001, penalty=l1, solver=lbfgs, total=   0.0s\n",
      "[CV] C=1.9000000000000001, penalty=l1, solver=lbfgs ..................\n",
      "[CV] ... C=1.9000000000000001, penalty=l1, solver=lbfgs, total=   0.0s\n",
      "[CV] C=1.9000000000000001, penalty=l1, solver=lbfgs ..................\n",
      "[CV] ... C=1.9000000000000001, penalty=l1, solver=lbfgs, total=   0.0s\n",
      "[CV] C=1.9000000000000001, penalty=l1, solver=lbfgs ..................\n",
      "[CV] ... C=1.9000000000000001, penalty=l1, solver=lbfgs, total=   0.0s\n",
      "[CV] C=1.9000000000000001, penalty=l1, solver=sag ....................\n",
      "[CV] ..... C=1.9000000000000001, penalty=l1, solver=sag, total=   0.0s\n",
      "[CV] C=1.9000000000000001, penalty=l1, solver=sag ....................\n",
      "[CV] ..... C=1.9000000000000001, penalty=l1, solver=sag, total=   0.0s\n",
      "[CV] C=1.9000000000000001, penalty=l1, solver=sag ....................\n",
      "[CV] ..... C=1.9000000000000001, penalty=l1, solver=sag, total=   0.0s\n",
      "[CV] C=1.9000000000000001, penalty=l1, solver=sag ....................\n",
      "[CV] ..... C=1.9000000000000001, penalty=l1, solver=sag, total=   0.0s\n",
      "[CV] C=1.9000000000000001, penalty=l1, solver=sag ....................\n",
      "[CV] ..... C=1.9000000000000001, penalty=l1, solver=sag, total=   0.0s\n",
      "[CV] C=1.9000000000000001, penalty=l1, solver=saga ...................\n"
     ]
    },
    {
     "name": "stderr",
     "output_type": "stream",
     "text": [
      "E:\\Anaconda3\\lib\\site-packages\\sklearn\\linear_model\\_sag.py:330: ConvergenceWarning: The max_iter was reached which means the coef_ did not converge\n",
      "  \"the coef_ did not converge\", ConvergenceWarning)\n",
      "E:\\Anaconda3\\lib\\site-packages\\sklearn\\model_selection\\_validation.py:536: FitFailedWarning: Estimator fit failed. The score on this train-test partition for these parameters will be set to nan. Details: \n",
      "ValueError: Solver newton-cg supports only 'l2' or 'none' penalties, got l1 penalty.\n",
      "\n",
      "  FitFailedWarning)\n",
      "E:\\Anaconda3\\lib\\site-packages\\sklearn\\model_selection\\_validation.py:536: FitFailedWarning: Estimator fit failed. The score on this train-test partition for these parameters will be set to nan. Details: \n",
      "ValueError: Solver lbfgs supports only 'l2' or 'none' penalties, got l1 penalty.\n",
      "\n",
      "  FitFailedWarning)\n",
      "E:\\Anaconda3\\lib\\site-packages\\sklearn\\model_selection\\_validation.py:536: FitFailedWarning: Estimator fit failed. The score on this train-test partition for these parameters will be set to nan. Details: \n",
      "ValueError: Solver sag supports only 'l2' or 'none' penalties, got l1 penalty.\n",
      "\n",
      "  FitFailedWarning)\n",
      "E:\\Anaconda3\\lib\\site-packages\\sklearn\\linear_model\\_sag.py:330: ConvergenceWarning: The max_iter was reached which means the coef_ did not converge\n",
      "  \"the coef_ did not converge\", ConvergenceWarning)\n"
     ]
    },
    {
     "name": "stdout",
     "output_type": "stream",
     "text": [
      "[CV] .... C=1.9000000000000001, penalty=l1, solver=saga, total=   0.1s\n",
      "[CV] C=1.9000000000000001, penalty=l1, solver=saga ...................\n",
      "[CV] .... C=1.9000000000000001, penalty=l1, solver=saga, total=   0.1s\n",
      "[CV] C=1.9000000000000001, penalty=l1, solver=saga ...................\n"
     ]
    },
    {
     "name": "stderr",
     "output_type": "stream",
     "text": [
      "E:\\Anaconda3\\lib\\site-packages\\sklearn\\linear_model\\_sag.py:330: ConvergenceWarning: The max_iter was reached which means the coef_ did not converge\n",
      "  \"the coef_ did not converge\", ConvergenceWarning)\n",
      "E:\\Anaconda3\\lib\\site-packages\\sklearn\\linear_model\\_sag.py:330: ConvergenceWarning: The max_iter was reached which means the coef_ did not converge\n",
      "  \"the coef_ did not converge\", ConvergenceWarning)\n"
     ]
    },
    {
     "name": "stdout",
     "output_type": "stream",
     "text": [
      "[CV] .... C=1.9000000000000001, penalty=l1, solver=saga, total=   0.1s\n",
      "[CV] C=1.9000000000000001, penalty=l1, solver=saga ...................\n",
      "[CV] .... C=1.9000000000000001, penalty=l1, solver=saga, total=   0.1s\n",
      "[CV] C=1.9000000000000001, penalty=l1, solver=saga ...................\n"
     ]
    },
    {
     "name": "stderr",
     "output_type": "stream",
     "text": [
      "E:\\Anaconda3\\lib\\site-packages\\sklearn\\linear_model\\_sag.py:330: ConvergenceWarning: The max_iter was reached which means the coef_ did not converge\n",
      "  \"the coef_ did not converge\", ConvergenceWarning)\n",
      "E:\\Anaconda3\\lib\\site-packages\\sklearn\\linear_model\\_sag.py:330: ConvergenceWarning: The max_iter was reached which means the coef_ did not converge\n",
      "  \"the coef_ did not converge\", ConvergenceWarning)\n"
     ]
    },
    {
     "name": "stdout",
     "output_type": "stream",
     "text": [
      "[CV] .... C=1.9000000000000001, penalty=l1, solver=saga, total=   0.1s\n",
      "[CV] C=1.9000000000000001, penalty=l1, solver=liblinear ..............\n",
      "[CV]  C=1.9000000000000001, penalty=l1, solver=liblinear, total=   0.0s\n",
      "[CV] C=1.9000000000000001, penalty=l1, solver=liblinear ..............\n",
      "[CV]  C=1.9000000000000001, penalty=l1, solver=liblinear, total=   0.0s\n",
      "[CV] C=1.9000000000000001, penalty=l1, solver=liblinear ..............\n",
      "[CV]  C=1.9000000000000001, penalty=l1, solver=liblinear, total=   0.0s\n",
      "[CV] C=1.9000000000000001, penalty=l1, solver=liblinear ..............\n",
      "[CV]  C=1.9000000000000001, penalty=l1, solver=liblinear, total=   0.0s\n",
      "[CV] C=1.9000000000000001, penalty=l1, solver=liblinear ..............\n",
      "[CV]  C=1.9000000000000001, penalty=l1, solver=liblinear, total=   0.0s\n",
      "[CV] C=1.9000000000000001, penalty=l2, solver=newton-cg ..............\n",
      "[CV]  C=1.9000000000000001, penalty=l2, solver=newton-cg, total=   0.0s\n",
      "[CV] C=1.9000000000000001, penalty=l2, solver=newton-cg ..............\n",
      "[CV]  C=1.9000000000000001, penalty=l2, solver=newton-cg, total=   0.0s\n",
      "[CV] C=1.9000000000000001, penalty=l2, solver=newton-cg ..............\n",
      "[CV]  C=1.9000000000000001, penalty=l2, solver=newton-cg, total=   0.0s\n",
      "[CV] C=1.9000000000000001, penalty=l2, solver=newton-cg ..............\n",
      "[CV]  C=1.9000000000000001, penalty=l2, solver=newton-cg, total=   0.0s\n",
      "[CV] C=1.9000000000000001, penalty=l2, solver=newton-cg ..............\n",
      "[CV]  C=1.9000000000000001, penalty=l2, solver=newton-cg, total=   0.0s\n",
      "[CV] C=1.9000000000000001, penalty=l2, solver=lbfgs ..................\n",
      "[CV] ... C=1.9000000000000001, penalty=l2, solver=lbfgs, total=   0.0s\n",
      "[CV] C=1.9000000000000001, penalty=l2, solver=lbfgs ..................\n",
      "[CV] ... C=1.9000000000000001, penalty=l2, solver=lbfgs, total=   0.0s\n",
      "[CV] C=1.9000000000000001, penalty=l2, solver=lbfgs ..................\n",
      "[CV] ... C=1.9000000000000001, penalty=l2, solver=lbfgs, total=   0.0s\n",
      "[CV] C=1.9000000000000001, penalty=l2, solver=lbfgs ..................\n",
      "[CV] ... C=1.9000000000000001, penalty=l2, solver=lbfgs, total=   0.0s\n",
      "[CV] C=1.9000000000000001, penalty=l2, solver=lbfgs ..................\n",
      "[CV] ... C=1.9000000000000001, penalty=l2, solver=lbfgs, total=   0.0s\n",
      "[CV] C=1.9000000000000001, penalty=l2, solver=sag ....................\n",
      "[CV] ..... C=1.9000000000000001, penalty=l2, solver=sag, total=   0.1s\n",
      "[CV] C=1.9000000000000001, penalty=l2, solver=sag ....................\n",
      "[CV] ..... C=1.9000000000000001, penalty=l2, solver=sag, total=   0.1s\n",
      "[CV] C=1.9000000000000001, penalty=l2, solver=sag ....................\n",
      "[CV] ..... C=1.9000000000000001, penalty=l2, solver=sag, total=   0.1s\n",
      "[CV] C=1.9000000000000001, penalty=l2, solver=sag ....................\n",
      "[CV] ..... C=1.9000000000000001, penalty=l2, solver=sag, total=   0.1s\n",
      "[CV] C=1.9000000000000001, penalty=l2, solver=sag ....................\n",
      "[CV] ..... C=1.9000000000000001, penalty=l2, solver=sag, total=   0.1s\n",
      "[CV] C=1.9000000000000001, penalty=l2, solver=saga ...................\n",
      "[CV] .... C=1.9000000000000001, penalty=l2, solver=saga, total=   0.1s\n",
      "[CV] C=1.9000000000000001, penalty=l2, solver=saga ...................\n"
     ]
    },
    {
     "name": "stderr",
     "output_type": "stream",
     "text": [
      "E:\\Anaconda3\\lib\\site-packages\\sklearn\\linear_model\\_sag.py:330: ConvergenceWarning: The max_iter was reached which means the coef_ did not converge\n",
      "  \"the coef_ did not converge\", ConvergenceWarning)\n",
      "E:\\Anaconda3\\lib\\site-packages\\sklearn\\linear_model\\_sag.py:330: ConvergenceWarning: The max_iter was reached which means the coef_ did not converge\n",
      "  \"the coef_ did not converge\", ConvergenceWarning)\n"
     ]
    },
    {
     "name": "stdout",
     "output_type": "stream",
     "text": [
      "[CV] .... C=1.9000000000000001, penalty=l2, solver=saga, total=   0.1s\n",
      "[CV] C=1.9000000000000001, penalty=l2, solver=saga ...................\n",
      "[CV] .... C=1.9000000000000001, penalty=l2, solver=saga, total=   0.1s\n",
      "[CV] C=1.9000000000000001, penalty=l2, solver=saga ...................\n"
     ]
    },
    {
     "name": "stderr",
     "output_type": "stream",
     "text": [
      "E:\\Anaconda3\\lib\\site-packages\\sklearn\\linear_model\\_sag.py:330: ConvergenceWarning: The max_iter was reached which means the coef_ did not converge\n",
      "  \"the coef_ did not converge\", ConvergenceWarning)\n"
     ]
    },
    {
     "name": "stdout",
     "output_type": "stream",
     "text": [
      "[CV] .... C=1.9000000000000001, penalty=l2, solver=saga, total=   0.1s\n",
      "[CV] C=1.9000000000000001, penalty=l2, solver=saga ...................\n",
      "[CV] .... C=1.9000000000000001, penalty=l2, solver=saga, total=   0.1s\n",
      "[CV] C=1.9000000000000001, penalty=l2, solver=liblinear ..............\n",
      "[CV]  C=1.9000000000000001, penalty=l2, solver=liblinear, total=   0.0s\n",
      "[CV] C=1.9000000000000001, penalty=l2, solver=liblinear ..............\n",
      "[CV]  C=1.9000000000000001, penalty=l2, solver=liblinear, total=   0.0s\n",
      "[CV] C=1.9000000000000001, penalty=l2, solver=liblinear ..............\n",
      "[CV]  C=1.9000000000000001, penalty=l2, solver=liblinear, total=   0.0s\n",
      "[CV] C=1.9000000000000001, penalty=l2, solver=liblinear ..............\n",
      "[CV]  C=1.9000000000000001, penalty=l2, solver=liblinear, total=   0.0s\n",
      "[CV] C=1.9000000000000001, penalty=l2, solver=liblinear ..............\n",
      "[CV]  C=1.9000000000000001, penalty=l2, solver=liblinear, total=   0.0s\n",
      "[CV] C=2.0, penalty=l1, solver=newton-cg .............................\n",
      "[CV] .............. C=2.0, penalty=l1, solver=newton-cg, total=   0.0s\n",
      "[CV] C=2.0, penalty=l1, solver=newton-cg .............................\n",
      "[CV] .............. C=2.0, penalty=l1, solver=newton-cg, total=   0.0s\n",
      "[CV] C=2.0, penalty=l1, solver=newton-cg .............................\n",
      "[CV] .............. C=2.0, penalty=l1, solver=newton-cg, total=   0.0s\n",
      "[CV] C=2.0, penalty=l1, solver=newton-cg .............................\n",
      "[CV] .............. C=2.0, penalty=l1, solver=newton-cg, total=   0.0s\n",
      "[CV] C=2.0, penalty=l1, solver=newton-cg .............................\n",
      "[CV] .............. C=2.0, penalty=l1, solver=newton-cg, total=   0.0s\n",
      "[CV] C=2.0, penalty=l1, solver=lbfgs .................................\n",
      "[CV] .................. C=2.0, penalty=l1, solver=lbfgs, total=   0.0s\n",
      "[CV] C=2.0, penalty=l1, solver=lbfgs .................................\n",
      "[CV] .................. C=2.0, penalty=l1, solver=lbfgs, total=   0.0s\n",
      "[CV] C=2.0, penalty=l1, solver=lbfgs .................................\n",
      "[CV] .................. C=2.0, penalty=l1, solver=lbfgs, total=   0.0s\n",
      "[CV] C=2.0, penalty=l1, solver=lbfgs .................................\n",
      "[CV] .................. C=2.0, penalty=l1, solver=lbfgs, total=   0.0s\n",
      "[CV] C=2.0, penalty=l1, solver=lbfgs .................................\n",
      "[CV] .................. C=2.0, penalty=l1, solver=lbfgs, total=   0.0s\n",
      "[CV] C=2.0, penalty=l1, solver=sag ...................................\n",
      "[CV] .................... C=2.0, penalty=l1, solver=sag, total=   0.0s\n",
      "[CV] C=2.0, penalty=l1, solver=sag ...................................\n",
      "[CV] .................... C=2.0, penalty=l1, solver=sag, total=   0.0s\n",
      "[CV] C=2.0, penalty=l1, solver=sag ...................................\n",
      "[CV] .................... C=2.0, penalty=l1, solver=sag, total=   0.0s\n",
      "[CV] C=2.0, penalty=l1, solver=sag ...................................\n",
      "[CV] .................... C=2.0, penalty=l1, solver=sag, total=   0.0s\n",
      "[CV] C=2.0, penalty=l1, solver=sag ...................................\n",
      "[CV] .................... C=2.0, penalty=l1, solver=sag, total=   0.0s\n",
      "[CV] C=2.0, penalty=l1, solver=saga ..................................\n"
     ]
    },
    {
     "name": "stderr",
     "output_type": "stream",
     "text": [
      "E:\\Anaconda3\\lib\\site-packages\\sklearn\\linear_model\\_sag.py:330: ConvergenceWarning: The max_iter was reached which means the coef_ did not converge\n",
      "  \"the coef_ did not converge\", ConvergenceWarning)\n",
      "E:\\Anaconda3\\lib\\site-packages\\sklearn\\model_selection\\_validation.py:536: FitFailedWarning: Estimator fit failed. The score on this train-test partition for these parameters will be set to nan. Details: \n",
      "ValueError: Solver newton-cg supports only 'l2' or 'none' penalties, got l1 penalty.\n",
      "\n",
      "  FitFailedWarning)\n",
      "E:\\Anaconda3\\lib\\site-packages\\sklearn\\model_selection\\_validation.py:536: FitFailedWarning: Estimator fit failed. The score on this train-test partition for these parameters will be set to nan. Details: \n",
      "ValueError: Solver lbfgs supports only 'l2' or 'none' penalties, got l1 penalty.\n",
      "\n",
      "  FitFailedWarning)\n",
      "E:\\Anaconda3\\lib\\site-packages\\sklearn\\model_selection\\_validation.py:536: FitFailedWarning: Estimator fit failed. The score on this train-test partition for these parameters will be set to nan. Details: \n",
      "ValueError: Solver sag supports only 'l2' or 'none' penalties, got l1 penalty.\n",
      "\n",
      "  FitFailedWarning)\n",
      "E:\\Anaconda3\\lib\\site-packages\\sklearn\\linear_model\\_sag.py:330: ConvergenceWarning: The max_iter was reached which means the coef_ did not converge\n",
      "  \"the coef_ did not converge\", ConvergenceWarning)\n"
     ]
    },
    {
     "name": "stdout",
     "output_type": "stream",
     "text": [
      "[CV] ................... C=2.0, penalty=l1, solver=saga, total=   0.1s\n",
      "[CV] C=2.0, penalty=l1, solver=saga ..................................\n",
      "[CV] ................... C=2.0, penalty=l1, solver=saga, total=   0.1s\n",
      "[CV] C=2.0, penalty=l1, solver=saga ..................................\n"
     ]
    },
    {
     "name": "stderr",
     "output_type": "stream",
     "text": [
      "E:\\Anaconda3\\lib\\site-packages\\sklearn\\linear_model\\_sag.py:330: ConvergenceWarning: The max_iter was reached which means the coef_ did not converge\n",
      "  \"the coef_ did not converge\", ConvergenceWarning)\n",
      "E:\\Anaconda3\\lib\\site-packages\\sklearn\\linear_model\\_sag.py:330: ConvergenceWarning: The max_iter was reached which means the coef_ did not converge\n",
      "  \"the coef_ did not converge\", ConvergenceWarning)\n"
     ]
    },
    {
     "name": "stdout",
     "output_type": "stream",
     "text": [
      "[CV] ................... C=2.0, penalty=l1, solver=saga, total=   0.1s\n",
      "[CV] C=2.0, penalty=l1, solver=saga ..................................\n",
      "[CV] ................... C=2.0, penalty=l1, solver=saga, total=   0.1s\n",
      "[CV] C=2.0, penalty=l1, solver=saga ..................................\n"
     ]
    },
    {
     "name": "stderr",
     "output_type": "stream",
     "text": [
      "E:\\Anaconda3\\lib\\site-packages\\sklearn\\linear_model\\_sag.py:330: ConvergenceWarning: The max_iter was reached which means the coef_ did not converge\n",
      "  \"the coef_ did not converge\", ConvergenceWarning)\n",
      "E:\\Anaconda3\\lib\\site-packages\\sklearn\\linear_model\\_sag.py:330: ConvergenceWarning: The max_iter was reached which means the coef_ did not converge\n",
      "  \"the coef_ did not converge\", ConvergenceWarning)\n"
     ]
    },
    {
     "name": "stdout",
     "output_type": "stream",
     "text": [
      "[CV] ................... C=2.0, penalty=l1, solver=saga, total=   0.1s\n",
      "[CV] C=2.0, penalty=l1, solver=liblinear .............................\n",
      "[CV] .............. C=2.0, penalty=l1, solver=liblinear, total=   0.0s\n",
      "[CV] C=2.0, penalty=l1, solver=liblinear .............................\n",
      "[CV] .............. C=2.0, penalty=l1, solver=liblinear, total=   0.0s\n",
      "[CV] C=2.0, penalty=l1, solver=liblinear .............................\n",
      "[CV] .............. C=2.0, penalty=l1, solver=liblinear, total=   0.0s\n",
      "[CV] C=2.0, penalty=l1, solver=liblinear .............................\n",
      "[CV] .............. C=2.0, penalty=l1, solver=liblinear, total=   0.0s\n",
      "[CV] C=2.0, penalty=l1, solver=liblinear .............................\n",
      "[CV] .............. C=2.0, penalty=l1, solver=liblinear, total=   0.0s\n",
      "[CV] C=2.0, penalty=l2, solver=newton-cg .............................\n",
      "[CV] .............. C=2.0, penalty=l2, solver=newton-cg, total=   0.0s\n",
      "[CV] C=2.0, penalty=l2, solver=newton-cg .............................\n",
      "[CV] .............. C=2.0, penalty=l2, solver=newton-cg, total=   0.0s\n",
      "[CV] C=2.0, penalty=l2, solver=newton-cg .............................\n",
      "[CV] .............. C=2.0, penalty=l2, solver=newton-cg, total=   0.0s\n",
      "[CV] C=2.0, penalty=l2, solver=newton-cg .............................\n",
      "[CV] .............. C=2.0, penalty=l2, solver=newton-cg, total=   0.0s\n",
      "[CV] C=2.0, penalty=l2, solver=newton-cg .............................\n",
      "[CV] .............. C=2.0, penalty=l2, solver=newton-cg, total=   0.0s\n",
      "[CV] C=2.0, penalty=l2, solver=lbfgs .................................\n",
      "[CV] .................. C=2.0, penalty=l2, solver=lbfgs, total=   0.0s\n",
      "[CV] C=2.0, penalty=l2, solver=lbfgs .................................\n",
      "[CV] .................. C=2.0, penalty=l2, solver=lbfgs, total=   0.0s\n",
      "[CV] C=2.0, penalty=l2, solver=lbfgs .................................\n",
      "[CV] .................. C=2.0, penalty=l2, solver=lbfgs, total=   0.0s\n",
      "[CV] C=2.0, penalty=l2, solver=lbfgs .................................\n",
      "[CV] .................. C=2.0, penalty=l2, solver=lbfgs, total=   0.0s\n",
      "[CV] C=2.0, penalty=l2, solver=lbfgs .................................\n",
      "[CV] .................. C=2.0, penalty=l2, solver=lbfgs, total=   0.0s\n",
      "[CV] C=2.0, penalty=l2, solver=sag ...................................\n",
      "[CV] .................... C=2.0, penalty=l2, solver=sag, total=   0.1s\n",
      "[CV] C=2.0, penalty=l2, solver=sag ...................................\n",
      "[CV] .................... C=2.0, penalty=l2, solver=sag, total=   0.1s\n",
      "[CV] C=2.0, penalty=l2, solver=sag ...................................\n",
      "[CV] .................... C=2.0, penalty=l2, solver=sag, total=   0.1s\n",
      "[CV] C=2.0, penalty=l2, solver=sag ...................................\n",
      "[CV] .................... C=2.0, penalty=l2, solver=sag, total=   0.1s\n",
      "[CV] C=2.0, penalty=l2, solver=sag ...................................\n",
      "[CV] .................... C=2.0, penalty=l2, solver=sag, total=   0.1s\n",
      "[CV] C=2.0, penalty=l2, solver=saga ..................................\n",
      "[CV] ................... C=2.0, penalty=l2, solver=saga, total=   0.1s\n",
      "[CV] C=2.0, penalty=l2, solver=saga ..................................\n"
     ]
    },
    {
     "name": "stderr",
     "output_type": "stream",
     "text": [
      "E:\\Anaconda3\\lib\\site-packages\\sklearn\\linear_model\\_sag.py:330: ConvergenceWarning: The max_iter was reached which means the coef_ did not converge\n",
      "  \"the coef_ did not converge\", ConvergenceWarning)\n",
      "E:\\Anaconda3\\lib\\site-packages\\sklearn\\linear_model\\_sag.py:330: ConvergenceWarning: The max_iter was reached which means the coef_ did not converge\n",
      "  \"the coef_ did not converge\", ConvergenceWarning)\n"
     ]
    },
    {
     "name": "stdout",
     "output_type": "stream",
     "text": [
      "[CV] ................... C=2.0, penalty=l2, solver=saga, total=   0.1s\n",
      "[CV] C=2.0, penalty=l2, solver=saga ..................................\n",
      "[CV] ................... C=2.0, penalty=l2, solver=saga, total=   0.1s\n",
      "[CV] C=2.0, penalty=l2, solver=saga ..................................\n"
     ]
    },
    {
     "name": "stderr",
     "output_type": "stream",
     "text": [
      "E:\\Anaconda3\\lib\\site-packages\\sklearn\\linear_model\\_sag.py:330: ConvergenceWarning: The max_iter was reached which means the coef_ did not converge\n",
      "  \"the coef_ did not converge\", ConvergenceWarning)\n"
     ]
    },
    {
     "name": "stdout",
     "output_type": "stream",
     "text": [
      "[CV] ................... C=2.0, penalty=l2, solver=saga, total=   0.1s\n",
      "[CV] C=2.0, penalty=l2, solver=saga ..................................\n",
      "[CV] ................... C=2.0, penalty=l2, solver=saga, total=   0.1s\n",
      "[CV] C=2.0, penalty=l2, solver=liblinear .............................\n",
      "[CV] .............. C=2.0, penalty=l2, solver=liblinear, total=   0.0s\n",
      "[CV] C=2.0, penalty=l2, solver=liblinear .............................\n",
      "[CV] .............. C=2.0, penalty=l2, solver=liblinear, total=   0.0s\n",
      "[CV] C=2.0, penalty=l2, solver=liblinear .............................\n",
      "[CV] .............. C=2.0, penalty=l2, solver=liblinear, total=   0.0s\n",
      "[CV] C=2.0, penalty=l2, solver=liblinear .............................\n",
      "[CV] .............. C=2.0, penalty=l2, solver=liblinear, total=   0.0s\n",
      "[CV] C=2.0, penalty=l2, solver=liblinear .............................\n",
      "[CV] .............. C=2.0, penalty=l2, solver=liblinear, total=   0.0s\n",
      "[CV] C=2.1, penalty=l1, solver=newton-cg .............................\n",
      "[CV] .............. C=2.1, penalty=l1, solver=newton-cg, total=   0.0s\n",
      "[CV] C=2.1, penalty=l1, solver=newton-cg .............................\n",
      "[CV] .............. C=2.1, penalty=l1, solver=newton-cg, total=   0.0s\n",
      "[CV] C=2.1, penalty=l1, solver=newton-cg .............................\n",
      "[CV] .............. C=2.1, penalty=l1, solver=newton-cg, total=   0.0s\n",
      "[CV] C=2.1, penalty=l1, solver=newton-cg .............................\n",
      "[CV] .............. C=2.1, penalty=l1, solver=newton-cg, total=   0.0s\n",
      "[CV] C=2.1, penalty=l1, solver=newton-cg .............................\n",
      "[CV] .............. C=2.1, penalty=l1, solver=newton-cg, total=   0.0s\n",
      "[CV] C=2.1, penalty=l1, solver=lbfgs .................................\n",
      "[CV] .................. C=2.1, penalty=l1, solver=lbfgs, total=   0.0s\n",
      "[CV] C=2.1, penalty=l1, solver=lbfgs .................................\n",
      "[CV] .................. C=2.1, penalty=l1, solver=lbfgs, total=   0.0s\n",
      "[CV] C=2.1, penalty=l1, solver=lbfgs .................................\n",
      "[CV] .................. C=2.1, penalty=l1, solver=lbfgs, total=   0.0s\n",
      "[CV] C=2.1, penalty=l1, solver=lbfgs .................................\n",
      "[CV] .................. C=2.1, penalty=l1, solver=lbfgs, total=   0.0s\n",
      "[CV] C=2.1, penalty=l1, solver=lbfgs .................................\n",
      "[CV] .................. C=2.1, penalty=l1, solver=lbfgs, total=   0.0s\n",
      "[CV] C=2.1, penalty=l1, solver=sag ...................................\n",
      "[CV] .................... C=2.1, penalty=l1, solver=sag, total=   0.0s\n",
      "[CV] C=2.1, penalty=l1, solver=sag ...................................\n",
      "[CV] .................... C=2.1, penalty=l1, solver=sag, total=   0.0s\n",
      "[CV] C=2.1, penalty=l1, solver=sag ...................................\n",
      "[CV] .................... C=2.1, penalty=l1, solver=sag, total=   0.0s\n",
      "[CV] C=2.1, penalty=l1, solver=sag ...................................\n",
      "[CV] .................... C=2.1, penalty=l1, solver=sag, total=   0.0s\n",
      "[CV] C=2.1, penalty=l1, solver=sag ...................................\n",
      "[CV] .................... C=2.1, penalty=l1, solver=sag, total=   0.0s\n",
      "[CV] C=2.1, penalty=l1, solver=saga ..................................\n"
     ]
    },
    {
     "name": "stderr",
     "output_type": "stream",
     "text": [
      "E:\\Anaconda3\\lib\\site-packages\\sklearn\\linear_model\\_sag.py:330: ConvergenceWarning: The max_iter was reached which means the coef_ did not converge\n",
      "  \"the coef_ did not converge\", ConvergenceWarning)\n",
      "E:\\Anaconda3\\lib\\site-packages\\sklearn\\model_selection\\_validation.py:536: FitFailedWarning: Estimator fit failed. The score on this train-test partition for these parameters will be set to nan. Details: \n",
      "ValueError: Solver newton-cg supports only 'l2' or 'none' penalties, got l1 penalty.\n",
      "\n",
      "  FitFailedWarning)\n",
      "E:\\Anaconda3\\lib\\site-packages\\sklearn\\model_selection\\_validation.py:536: FitFailedWarning: Estimator fit failed. The score on this train-test partition for these parameters will be set to nan. Details: \n",
      "ValueError: Solver lbfgs supports only 'l2' or 'none' penalties, got l1 penalty.\n",
      "\n",
      "  FitFailedWarning)\n",
      "E:\\Anaconda3\\lib\\site-packages\\sklearn\\model_selection\\_validation.py:536: FitFailedWarning: Estimator fit failed. The score on this train-test partition for these parameters will be set to nan. Details: \n",
      "ValueError: Solver sag supports only 'l2' or 'none' penalties, got l1 penalty.\n",
      "\n",
      "  FitFailedWarning)\n",
      "E:\\Anaconda3\\lib\\site-packages\\sklearn\\linear_model\\_sag.py:330: ConvergenceWarning: The max_iter was reached which means the coef_ did not converge\n",
      "  \"the coef_ did not converge\", ConvergenceWarning)\n"
     ]
    },
    {
     "name": "stdout",
     "output_type": "stream",
     "text": [
      "[CV] ................... C=2.1, penalty=l1, solver=saga, total=   0.1s\n",
      "[CV] C=2.1, penalty=l1, solver=saga ..................................\n",
      "[CV] ................... C=2.1, penalty=l1, solver=saga, total=   0.1s\n",
      "[CV] C=2.1, penalty=l1, solver=saga ..................................\n"
     ]
    },
    {
     "name": "stderr",
     "output_type": "stream",
     "text": [
      "E:\\Anaconda3\\lib\\site-packages\\sklearn\\linear_model\\_sag.py:330: ConvergenceWarning: The max_iter was reached which means the coef_ did not converge\n",
      "  \"the coef_ did not converge\", ConvergenceWarning)\n",
      "E:\\Anaconda3\\lib\\site-packages\\sklearn\\linear_model\\_sag.py:330: ConvergenceWarning: The max_iter was reached which means the coef_ did not converge\n",
      "  \"the coef_ did not converge\", ConvergenceWarning)\n"
     ]
    },
    {
     "name": "stdout",
     "output_type": "stream",
     "text": [
      "[CV] ................... C=2.1, penalty=l1, solver=saga, total=   0.1s\n",
      "[CV] C=2.1, penalty=l1, solver=saga ..................................\n",
      "[CV] ................... C=2.1, penalty=l1, solver=saga, total=   0.1s\n",
      "[CV] C=2.1, penalty=l1, solver=saga ..................................\n"
     ]
    },
    {
     "name": "stderr",
     "output_type": "stream",
     "text": [
      "E:\\Anaconda3\\lib\\site-packages\\sklearn\\linear_model\\_sag.py:330: ConvergenceWarning: The max_iter was reached which means the coef_ did not converge\n",
      "  \"the coef_ did not converge\", ConvergenceWarning)\n",
      "E:\\Anaconda3\\lib\\site-packages\\sklearn\\linear_model\\_sag.py:330: ConvergenceWarning: The max_iter was reached which means the coef_ did not converge\n",
      "  \"the coef_ did not converge\", ConvergenceWarning)\n"
     ]
    },
    {
     "name": "stdout",
     "output_type": "stream",
     "text": [
      "[CV] ................... C=2.1, penalty=l1, solver=saga, total=   0.1s\n",
      "[CV] C=2.1, penalty=l1, solver=liblinear .............................\n",
      "[CV] .............. C=2.1, penalty=l1, solver=liblinear, total=   0.0s\n",
      "[CV] C=2.1, penalty=l1, solver=liblinear .............................\n",
      "[CV] .............. C=2.1, penalty=l1, solver=liblinear, total=   0.0s\n",
      "[CV] C=2.1, penalty=l1, solver=liblinear .............................\n",
      "[CV] .............. C=2.1, penalty=l1, solver=liblinear, total=   0.0s\n",
      "[CV] C=2.1, penalty=l1, solver=liblinear .............................\n",
      "[CV] .............. C=2.1, penalty=l1, solver=liblinear, total=   0.0s\n",
      "[CV] C=2.1, penalty=l1, solver=liblinear .............................\n",
      "[CV] .............. C=2.1, penalty=l1, solver=liblinear, total=   0.0s\n",
      "[CV] C=2.1, penalty=l2, solver=newton-cg .............................\n",
      "[CV] .............. C=2.1, penalty=l2, solver=newton-cg, total=   0.0s\n",
      "[CV] C=2.1, penalty=l2, solver=newton-cg .............................\n",
      "[CV] .............. C=2.1, penalty=l2, solver=newton-cg, total=   0.0s\n",
      "[CV] C=2.1, penalty=l2, solver=newton-cg .............................\n",
      "[CV] .............. C=2.1, penalty=l2, solver=newton-cg, total=   0.0s\n",
      "[CV] C=2.1, penalty=l2, solver=newton-cg .............................\n",
      "[CV] .............. C=2.1, penalty=l2, solver=newton-cg, total=   0.0s\n",
      "[CV] C=2.1, penalty=l2, solver=newton-cg .............................\n",
      "[CV] .............. C=2.1, penalty=l2, solver=newton-cg, total=   0.0s\n",
      "[CV] C=2.1, penalty=l2, solver=lbfgs .................................\n",
      "[CV] .................. C=2.1, penalty=l2, solver=lbfgs, total=   0.0s\n",
      "[CV] C=2.1, penalty=l2, solver=lbfgs .................................\n",
      "[CV] .................. C=2.1, penalty=l2, solver=lbfgs, total=   0.0s\n",
      "[CV] C=2.1, penalty=l2, solver=lbfgs .................................\n",
      "[CV] .................. C=2.1, penalty=l2, solver=lbfgs, total=   0.0s\n",
      "[CV] C=2.1, penalty=l2, solver=lbfgs .................................\n",
      "[CV] .................. C=2.1, penalty=l2, solver=lbfgs, total=   0.0s\n",
      "[CV] C=2.1, penalty=l2, solver=lbfgs .................................\n",
      "[CV] .................. C=2.1, penalty=l2, solver=lbfgs, total=   0.0s\n",
      "[CV] C=2.1, penalty=l2, solver=sag ...................................\n",
      "[CV] .................... C=2.1, penalty=l2, solver=sag, total=   0.1s\n",
      "[CV] C=2.1, penalty=l2, solver=sag ...................................\n",
      "[CV] .................... C=2.1, penalty=l2, solver=sag, total=   0.1s\n",
      "[CV] C=2.1, penalty=l2, solver=sag ...................................\n",
      "[CV] .................... C=2.1, penalty=l2, solver=sag, total=   0.1s\n",
      "[CV] C=2.1, penalty=l2, solver=sag ...................................\n",
      "[CV] .................... C=2.1, penalty=l2, solver=sag, total=   0.1s\n",
      "[CV] C=2.1, penalty=l2, solver=sag ...................................\n",
      "[CV] .................... C=2.1, penalty=l2, solver=sag, total=   0.1s\n",
      "[CV] C=2.1, penalty=l2, solver=saga ..................................\n",
      "[CV] ................... C=2.1, penalty=l2, solver=saga, total=   0.1s\n",
      "[CV] C=2.1, penalty=l2, solver=saga ..................................\n"
     ]
    },
    {
     "name": "stderr",
     "output_type": "stream",
     "text": [
      "E:\\Anaconda3\\lib\\site-packages\\sklearn\\linear_model\\_sag.py:330: ConvergenceWarning: The max_iter was reached which means the coef_ did not converge\n",
      "  \"the coef_ did not converge\", ConvergenceWarning)\n",
      "E:\\Anaconda3\\lib\\site-packages\\sklearn\\linear_model\\_sag.py:330: ConvergenceWarning: The max_iter was reached which means the coef_ did not converge\n",
      "  \"the coef_ did not converge\", ConvergenceWarning)\n"
     ]
    },
    {
     "name": "stdout",
     "output_type": "stream",
     "text": [
      "[CV] ................... C=2.1, penalty=l2, solver=saga, total=   0.1s\n",
      "[CV] C=2.1, penalty=l2, solver=saga ..................................\n",
      "[CV] ................... C=2.1, penalty=l2, solver=saga, total=   0.1s\n",
      "[CV] C=2.1, penalty=l2, solver=saga ..................................\n"
     ]
    },
    {
     "name": "stderr",
     "output_type": "stream",
     "text": [
      "E:\\Anaconda3\\lib\\site-packages\\sklearn\\linear_model\\_sag.py:330: ConvergenceWarning: The max_iter was reached which means the coef_ did not converge\n",
      "  \"the coef_ did not converge\", ConvergenceWarning)\n"
     ]
    },
    {
     "name": "stdout",
     "output_type": "stream",
     "text": [
      "[CV] ................... C=2.1, penalty=l2, solver=saga, total=   0.1s\n",
      "[CV] C=2.1, penalty=l2, solver=saga ..................................\n",
      "[CV] ................... C=2.1, penalty=l2, solver=saga, total=   0.1s\n",
      "[CV] C=2.1, penalty=l2, solver=liblinear .............................\n",
      "[CV] .............. C=2.1, penalty=l2, solver=liblinear, total=   0.0s\n",
      "[CV] C=2.1, penalty=l2, solver=liblinear .............................\n",
      "[CV] .............. C=2.1, penalty=l2, solver=liblinear, total=   0.0s\n",
      "[CV] C=2.1, penalty=l2, solver=liblinear .............................\n",
      "[CV] .............. C=2.1, penalty=l2, solver=liblinear, total=   0.0s\n",
      "[CV] C=2.1, penalty=l2, solver=liblinear .............................\n",
      "[CV] .............. C=2.1, penalty=l2, solver=liblinear, total=   0.0s\n",
      "[CV] C=2.1, penalty=l2, solver=liblinear .............................\n",
      "[CV] .............. C=2.1, penalty=l2, solver=liblinear, total=   0.0s\n",
      "[CV] C=2.2, penalty=l1, solver=newton-cg .............................\n",
      "[CV] .............. C=2.2, penalty=l1, solver=newton-cg, total=   0.0s\n",
      "[CV] C=2.2, penalty=l1, solver=newton-cg .............................\n",
      "[CV] .............. C=2.2, penalty=l1, solver=newton-cg, total=   0.0s\n",
      "[CV] C=2.2, penalty=l1, solver=newton-cg .............................\n",
      "[CV] .............. C=2.2, penalty=l1, solver=newton-cg, total=   0.0s\n",
      "[CV] C=2.2, penalty=l1, solver=newton-cg .............................\n",
      "[CV] .............. C=2.2, penalty=l1, solver=newton-cg, total=   0.0s\n",
      "[CV] C=2.2, penalty=l1, solver=newton-cg .............................\n",
      "[CV] .............. C=2.2, penalty=l1, solver=newton-cg, total=   0.0s\n",
      "[CV] C=2.2, penalty=l1, solver=lbfgs .................................\n",
      "[CV] .................. C=2.2, penalty=l1, solver=lbfgs, total=   0.0s\n",
      "[CV] C=2.2, penalty=l1, solver=lbfgs .................................\n",
      "[CV] .................. C=2.2, penalty=l1, solver=lbfgs, total=   0.0s\n",
      "[CV] C=2.2, penalty=l1, solver=lbfgs .................................\n",
      "[CV] .................. C=2.2, penalty=l1, solver=lbfgs, total=   0.0s\n",
      "[CV] C=2.2, penalty=l1, solver=lbfgs .................................\n",
      "[CV] .................. C=2.2, penalty=l1, solver=lbfgs, total=   0.0s\n",
      "[CV] C=2.2, penalty=l1, solver=lbfgs .................................\n",
      "[CV] .................. C=2.2, penalty=l1, solver=lbfgs, total=   0.0s\n",
      "[CV] C=2.2, penalty=l1, solver=sag ...................................\n",
      "[CV] .................... C=2.2, penalty=l1, solver=sag, total=   0.0s\n",
      "[CV] C=2.2, penalty=l1, solver=sag ...................................\n",
      "[CV] .................... C=2.2, penalty=l1, solver=sag, total=   0.0s\n",
      "[CV] C=2.2, penalty=l1, solver=sag ...................................\n",
      "[CV] .................... C=2.2, penalty=l1, solver=sag, total=   0.0s\n",
      "[CV] C=2.2, penalty=l1, solver=sag ...................................\n",
      "[CV] .................... C=2.2, penalty=l1, solver=sag, total=   0.0s\n",
      "[CV] C=2.2, penalty=l1, solver=sag ...................................\n",
      "[CV] .................... C=2.2, penalty=l1, solver=sag, total=   0.0s\n",
      "[CV] C=2.2, penalty=l1, solver=saga ..................................\n"
     ]
    },
    {
     "name": "stderr",
     "output_type": "stream",
     "text": [
      "E:\\Anaconda3\\lib\\site-packages\\sklearn\\linear_model\\_sag.py:330: ConvergenceWarning: The max_iter was reached which means the coef_ did not converge\n",
      "  \"the coef_ did not converge\", ConvergenceWarning)\n",
      "E:\\Anaconda3\\lib\\site-packages\\sklearn\\model_selection\\_validation.py:536: FitFailedWarning: Estimator fit failed. The score on this train-test partition for these parameters will be set to nan. Details: \n",
      "ValueError: Solver newton-cg supports only 'l2' or 'none' penalties, got l1 penalty.\n",
      "\n",
      "  FitFailedWarning)\n",
      "E:\\Anaconda3\\lib\\site-packages\\sklearn\\model_selection\\_validation.py:536: FitFailedWarning: Estimator fit failed. The score on this train-test partition for these parameters will be set to nan. Details: \n",
      "ValueError: Solver lbfgs supports only 'l2' or 'none' penalties, got l1 penalty.\n",
      "\n",
      "  FitFailedWarning)\n",
      "E:\\Anaconda3\\lib\\site-packages\\sklearn\\model_selection\\_validation.py:536: FitFailedWarning: Estimator fit failed. The score on this train-test partition for these parameters will be set to nan. Details: \n",
      "ValueError: Solver sag supports only 'l2' or 'none' penalties, got l1 penalty.\n",
      "\n",
      "  FitFailedWarning)\n",
      "E:\\Anaconda3\\lib\\site-packages\\sklearn\\linear_model\\_sag.py:330: ConvergenceWarning: The max_iter was reached which means the coef_ did not converge\n",
      "  \"the coef_ did not converge\", ConvergenceWarning)\n"
     ]
    },
    {
     "name": "stdout",
     "output_type": "stream",
     "text": [
      "[CV] ................... C=2.2, penalty=l1, solver=saga, total=   0.1s\n",
      "[CV] C=2.2, penalty=l1, solver=saga ..................................\n",
      "[CV] ................... C=2.2, penalty=l1, solver=saga, total=   0.1s\n",
      "[CV] C=2.2, penalty=l1, solver=saga ..................................\n"
     ]
    },
    {
     "name": "stderr",
     "output_type": "stream",
     "text": [
      "E:\\Anaconda3\\lib\\site-packages\\sklearn\\linear_model\\_sag.py:330: ConvergenceWarning: The max_iter was reached which means the coef_ did not converge\n",
      "  \"the coef_ did not converge\", ConvergenceWarning)\n",
      "E:\\Anaconda3\\lib\\site-packages\\sklearn\\linear_model\\_sag.py:330: ConvergenceWarning: The max_iter was reached which means the coef_ did not converge\n",
      "  \"the coef_ did not converge\", ConvergenceWarning)\n"
     ]
    },
    {
     "name": "stdout",
     "output_type": "stream",
     "text": [
      "[CV] ................... C=2.2, penalty=l1, solver=saga, total=   0.1s\n",
      "[CV] C=2.2, penalty=l1, solver=saga ..................................\n",
      "[CV] ................... C=2.2, penalty=l1, solver=saga, total=   0.1s\n",
      "[CV] C=2.2, penalty=l1, solver=saga ..................................\n"
     ]
    },
    {
     "name": "stderr",
     "output_type": "stream",
     "text": [
      "E:\\Anaconda3\\lib\\site-packages\\sklearn\\linear_model\\_sag.py:330: ConvergenceWarning: The max_iter was reached which means the coef_ did not converge\n",
      "  \"the coef_ did not converge\", ConvergenceWarning)\n",
      "E:\\Anaconda3\\lib\\site-packages\\sklearn\\linear_model\\_sag.py:330: ConvergenceWarning: The max_iter was reached which means the coef_ did not converge\n",
      "  \"the coef_ did not converge\", ConvergenceWarning)\n"
     ]
    },
    {
     "name": "stdout",
     "output_type": "stream",
     "text": [
      "[CV] ................... C=2.2, penalty=l1, solver=saga, total=   0.1s\n",
      "[CV] C=2.2, penalty=l1, solver=liblinear .............................\n",
      "[CV] .............. C=2.2, penalty=l1, solver=liblinear, total=   0.0s\n",
      "[CV] C=2.2, penalty=l1, solver=liblinear .............................\n",
      "[CV] .............. C=2.2, penalty=l1, solver=liblinear, total=   0.0s\n",
      "[CV] C=2.2, penalty=l1, solver=liblinear .............................\n",
      "[CV] .............. C=2.2, penalty=l1, solver=liblinear, total=   0.0s\n",
      "[CV] C=2.2, penalty=l1, solver=liblinear .............................\n",
      "[CV] .............. C=2.2, penalty=l1, solver=liblinear, total=   0.0s\n",
      "[CV] C=2.2, penalty=l1, solver=liblinear .............................\n",
      "[CV] .............. C=2.2, penalty=l1, solver=liblinear, total=   0.0s\n",
      "[CV] C=2.2, penalty=l2, solver=newton-cg .............................\n",
      "[CV] .............. C=2.2, penalty=l2, solver=newton-cg, total=   0.0s\n",
      "[CV] C=2.2, penalty=l2, solver=newton-cg .............................\n",
      "[CV] .............. C=2.2, penalty=l2, solver=newton-cg, total=   0.0s\n",
      "[CV] C=2.2, penalty=l2, solver=newton-cg .............................\n",
      "[CV] .............. C=2.2, penalty=l2, solver=newton-cg, total=   0.0s\n",
      "[CV] C=2.2, penalty=l2, solver=newton-cg .............................\n",
      "[CV] .............. C=2.2, penalty=l2, solver=newton-cg, total=   0.0s\n",
      "[CV] C=2.2, penalty=l2, solver=newton-cg .............................\n",
      "[CV] .............. C=2.2, penalty=l2, solver=newton-cg, total=   0.0s\n",
      "[CV] C=2.2, penalty=l2, solver=lbfgs .................................\n",
      "[CV] .................. C=2.2, penalty=l2, solver=lbfgs, total=   0.0s\n",
      "[CV] C=2.2, penalty=l2, solver=lbfgs .................................\n",
      "[CV] .................. C=2.2, penalty=l2, solver=lbfgs, total=   0.0s\n",
      "[CV] C=2.2, penalty=l2, solver=lbfgs .................................\n",
      "[CV] .................. C=2.2, penalty=l2, solver=lbfgs, total=   0.0s\n",
      "[CV] C=2.2, penalty=l2, solver=lbfgs .................................\n",
      "[CV] .................. C=2.2, penalty=l2, solver=lbfgs, total=   0.0s\n",
      "[CV] C=2.2, penalty=l2, solver=lbfgs .................................\n",
      "[CV] .................. C=2.2, penalty=l2, solver=lbfgs, total=   0.0s\n",
      "[CV] C=2.2, penalty=l2, solver=sag ...................................\n",
      "[CV] .................... C=2.2, penalty=l2, solver=sag, total=   0.1s\n",
      "[CV] C=2.2, penalty=l2, solver=sag ...................................\n",
      "[CV] .................... C=2.2, penalty=l2, solver=sag, total=   0.1s\n",
      "[CV] C=2.2, penalty=l2, solver=sag ...................................\n",
      "[CV] .................... C=2.2, penalty=l2, solver=sag, total=   0.1s\n",
      "[CV] C=2.2, penalty=l2, solver=sag ...................................\n",
      "[CV] .................... C=2.2, penalty=l2, solver=sag, total=   0.1s\n",
      "[CV] C=2.2, penalty=l2, solver=sag ...................................\n",
      "[CV] .................... C=2.2, penalty=l2, solver=sag, total=   0.1s\n",
      "[CV] C=2.2, penalty=l2, solver=saga ..................................\n",
      "[CV] ................... C=2.2, penalty=l2, solver=saga, total=   0.1s\n",
      "[CV] C=2.2, penalty=l2, solver=saga ..................................\n"
     ]
    },
    {
     "name": "stderr",
     "output_type": "stream",
     "text": [
      "E:\\Anaconda3\\lib\\site-packages\\sklearn\\linear_model\\_sag.py:330: ConvergenceWarning: The max_iter was reached which means the coef_ did not converge\n",
      "  \"the coef_ did not converge\", ConvergenceWarning)\n",
      "E:\\Anaconda3\\lib\\site-packages\\sklearn\\linear_model\\_sag.py:330: ConvergenceWarning: The max_iter was reached which means the coef_ did not converge\n",
      "  \"the coef_ did not converge\", ConvergenceWarning)\n"
     ]
    },
    {
     "name": "stdout",
     "output_type": "stream",
     "text": [
      "[CV] ................... C=2.2, penalty=l2, solver=saga, total=   0.1s\n",
      "[CV] C=2.2, penalty=l2, solver=saga ..................................\n",
      "[CV] ................... C=2.2, penalty=l2, solver=saga, total=   0.1s\n",
      "[CV] C=2.2, penalty=l2, solver=saga ..................................\n"
     ]
    },
    {
     "name": "stderr",
     "output_type": "stream",
     "text": [
      "E:\\Anaconda3\\lib\\site-packages\\sklearn\\linear_model\\_sag.py:330: ConvergenceWarning: The max_iter was reached which means the coef_ did not converge\n",
      "  \"the coef_ did not converge\", ConvergenceWarning)\n",
      "E:\\Anaconda3\\lib\\site-packages\\sklearn\\linear_model\\_sag.py:330: ConvergenceWarning: The max_iter was reached which means the coef_ did not converge\n",
      "  \"the coef_ did not converge\", ConvergenceWarning)\n"
     ]
    },
    {
     "name": "stdout",
     "output_type": "stream",
     "text": [
      "[CV] ................... C=2.2, penalty=l2, solver=saga, total=   0.1s\n",
      "[CV] C=2.2, penalty=l2, solver=saga ..................................\n",
      "[CV] ................... C=2.2, penalty=l2, solver=saga, total=   0.1s\n",
      "[CV] C=2.2, penalty=l2, solver=liblinear .............................\n",
      "[CV] .............. C=2.2, penalty=l2, solver=liblinear, total=   0.0s\n",
      "[CV] C=2.2, penalty=l2, solver=liblinear .............................\n",
      "[CV] .............. C=2.2, penalty=l2, solver=liblinear, total=   0.0s\n",
      "[CV] C=2.2, penalty=l2, solver=liblinear .............................\n",
      "[CV] .............. C=2.2, penalty=l2, solver=liblinear, total=   0.0s\n",
      "[CV] C=2.2, penalty=l2, solver=liblinear .............................\n",
      "[CV] .............. C=2.2, penalty=l2, solver=liblinear, total=   0.0s\n",
      "[CV] C=2.2, penalty=l2, solver=liblinear .............................\n",
      "[CV] .............. C=2.2, penalty=l2, solver=liblinear, total=   0.0s\n",
      "[CV] C=2.3000000000000003, penalty=l1, solver=newton-cg ..............\n",
      "[CV]  C=2.3000000000000003, penalty=l1, solver=newton-cg, total=   0.0s\n",
      "[CV] C=2.3000000000000003, penalty=l1, solver=newton-cg ..............\n",
      "[CV]  C=2.3000000000000003, penalty=l1, solver=newton-cg, total=   0.0s\n",
      "[CV] C=2.3000000000000003, penalty=l1, solver=newton-cg ..............\n",
      "[CV]  C=2.3000000000000003, penalty=l1, solver=newton-cg, total=   0.0s\n",
      "[CV] C=2.3000000000000003, penalty=l1, solver=newton-cg ..............\n",
      "[CV]  C=2.3000000000000003, penalty=l1, solver=newton-cg, total=   0.0s\n",
      "[CV] C=2.3000000000000003, penalty=l1, solver=newton-cg ..............\n",
      "[CV]  C=2.3000000000000003, penalty=l1, solver=newton-cg, total=   0.0s\n",
      "[CV] C=2.3000000000000003, penalty=l1, solver=lbfgs ..................\n",
      "[CV] ... C=2.3000000000000003, penalty=l1, solver=lbfgs, total=   0.0s\n",
      "[CV] C=2.3000000000000003, penalty=l1, solver=lbfgs ..................\n",
      "[CV] ... C=2.3000000000000003, penalty=l1, solver=lbfgs, total=   0.0s\n",
      "[CV] C=2.3000000000000003, penalty=l1, solver=lbfgs ..................\n",
      "[CV] ... C=2.3000000000000003, penalty=l1, solver=lbfgs, total=   0.0s\n",
      "[CV] C=2.3000000000000003, penalty=l1, solver=lbfgs ..................\n",
      "[CV] ... C=2.3000000000000003, penalty=l1, solver=lbfgs, total=   0.0s\n",
      "[CV] C=2.3000000000000003, penalty=l1, solver=lbfgs ..................\n",
      "[CV] ... C=2.3000000000000003, penalty=l1, solver=lbfgs, total=   0.0s\n",
      "[CV] C=2.3000000000000003, penalty=l1, solver=sag ....................\n",
      "[CV] ..... C=2.3000000000000003, penalty=l1, solver=sag, total=   0.0s\n",
      "[CV] C=2.3000000000000003, penalty=l1, solver=sag ....................\n",
      "[CV] ..... C=2.3000000000000003, penalty=l1, solver=sag, total=   0.0s\n",
      "[CV] C=2.3000000000000003, penalty=l1, solver=sag ....................\n",
      "[CV] ..... C=2.3000000000000003, penalty=l1, solver=sag, total=   0.0s\n",
      "[CV] C=2.3000000000000003, penalty=l1, solver=sag ....................\n",
      "[CV] ..... C=2.3000000000000003, penalty=l1, solver=sag, total=   0.0s\n",
      "[CV] C=2.3000000000000003, penalty=l1, solver=sag ....................\n",
      "[CV] ..... C=2.3000000000000003, penalty=l1, solver=sag, total=   0.0s\n",
      "[CV] C=2.3000000000000003, penalty=l1, solver=saga ...................\n"
     ]
    },
    {
     "name": "stderr",
     "output_type": "stream",
     "text": [
      "E:\\Anaconda3\\lib\\site-packages\\sklearn\\linear_model\\_sag.py:330: ConvergenceWarning: The max_iter was reached which means the coef_ did not converge\n",
      "  \"the coef_ did not converge\", ConvergenceWarning)\n",
      "E:\\Anaconda3\\lib\\site-packages\\sklearn\\model_selection\\_validation.py:536: FitFailedWarning: Estimator fit failed. The score on this train-test partition for these parameters will be set to nan. Details: \n",
      "ValueError: Solver newton-cg supports only 'l2' or 'none' penalties, got l1 penalty.\n",
      "\n",
      "  FitFailedWarning)\n",
      "E:\\Anaconda3\\lib\\site-packages\\sklearn\\model_selection\\_validation.py:536: FitFailedWarning: Estimator fit failed. The score on this train-test partition for these parameters will be set to nan. Details: \n",
      "ValueError: Solver lbfgs supports only 'l2' or 'none' penalties, got l1 penalty.\n",
      "\n",
      "  FitFailedWarning)\n",
      "E:\\Anaconda3\\lib\\site-packages\\sklearn\\model_selection\\_validation.py:536: FitFailedWarning: Estimator fit failed. The score on this train-test partition for these parameters will be set to nan. Details: \n",
      "ValueError: Solver sag supports only 'l2' or 'none' penalties, got l1 penalty.\n",
      "\n",
      "  FitFailedWarning)\n",
      "E:\\Anaconda3\\lib\\site-packages\\sklearn\\linear_model\\_sag.py:330: ConvergenceWarning: The max_iter was reached which means the coef_ did not converge\n",
      "  \"the coef_ did not converge\", ConvergenceWarning)\n"
     ]
    },
    {
     "name": "stdout",
     "output_type": "stream",
     "text": [
      "[CV] .... C=2.3000000000000003, penalty=l1, solver=saga, total=   0.1s\n",
      "[CV] C=2.3000000000000003, penalty=l1, solver=saga ...................\n",
      "[CV] .... C=2.3000000000000003, penalty=l1, solver=saga, total=   0.1s\n",
      "[CV] C=2.3000000000000003, penalty=l1, solver=saga ...................\n"
     ]
    },
    {
     "name": "stderr",
     "output_type": "stream",
     "text": [
      "E:\\Anaconda3\\lib\\site-packages\\sklearn\\linear_model\\_sag.py:330: ConvergenceWarning: The max_iter was reached which means the coef_ did not converge\n",
      "  \"the coef_ did not converge\", ConvergenceWarning)\n",
      "E:\\Anaconda3\\lib\\site-packages\\sklearn\\linear_model\\_sag.py:330: ConvergenceWarning: The max_iter was reached which means the coef_ did not converge\n",
      "  \"the coef_ did not converge\", ConvergenceWarning)\n"
     ]
    },
    {
     "name": "stdout",
     "output_type": "stream",
     "text": [
      "[CV] .... C=2.3000000000000003, penalty=l1, solver=saga, total=   0.1s\n",
      "[CV] C=2.3000000000000003, penalty=l1, solver=saga ...................\n",
      "[CV] .... C=2.3000000000000003, penalty=l1, solver=saga, total=   0.1s\n",
      "[CV] C=2.3000000000000003, penalty=l1, solver=saga ...................\n"
     ]
    },
    {
     "name": "stderr",
     "output_type": "stream",
     "text": [
      "E:\\Anaconda3\\lib\\site-packages\\sklearn\\linear_model\\_sag.py:330: ConvergenceWarning: The max_iter was reached which means the coef_ did not converge\n",
      "  \"the coef_ did not converge\", ConvergenceWarning)\n",
      "E:\\Anaconda3\\lib\\site-packages\\sklearn\\linear_model\\_sag.py:330: ConvergenceWarning: The max_iter was reached which means the coef_ did not converge\n",
      "  \"the coef_ did not converge\", ConvergenceWarning)\n"
     ]
    },
    {
     "name": "stdout",
     "output_type": "stream",
     "text": [
      "[CV] .... C=2.3000000000000003, penalty=l1, solver=saga, total=   0.1s\n",
      "[CV] C=2.3000000000000003, penalty=l1, solver=liblinear ..............\n",
      "[CV]  C=2.3000000000000003, penalty=l1, solver=liblinear, total=   0.0s\n",
      "[CV] C=2.3000000000000003, penalty=l1, solver=liblinear ..............\n",
      "[CV]  C=2.3000000000000003, penalty=l1, solver=liblinear, total=   0.0s\n",
      "[CV] C=2.3000000000000003, penalty=l1, solver=liblinear ..............\n",
      "[CV]  C=2.3000000000000003, penalty=l1, solver=liblinear, total=   0.0s\n",
      "[CV] C=2.3000000000000003, penalty=l1, solver=liblinear ..............\n",
      "[CV]  C=2.3000000000000003, penalty=l1, solver=liblinear, total=   0.0s\n",
      "[CV] C=2.3000000000000003, penalty=l1, solver=liblinear ..............\n",
      "[CV]  C=2.3000000000000003, penalty=l1, solver=liblinear, total=   0.0s\n",
      "[CV] C=2.3000000000000003, penalty=l2, solver=newton-cg ..............\n",
      "[CV]  C=2.3000000000000003, penalty=l2, solver=newton-cg, total=   0.0s\n",
      "[CV] C=2.3000000000000003, penalty=l2, solver=newton-cg ..............\n",
      "[CV]  C=2.3000000000000003, penalty=l2, solver=newton-cg, total=   0.0s\n",
      "[CV] C=2.3000000000000003, penalty=l2, solver=newton-cg ..............\n",
      "[CV]  C=2.3000000000000003, penalty=l2, solver=newton-cg, total=   0.0s\n",
      "[CV] C=2.3000000000000003, penalty=l2, solver=newton-cg ..............\n",
      "[CV]  C=2.3000000000000003, penalty=l2, solver=newton-cg, total=   0.0s\n",
      "[CV] C=2.3000000000000003, penalty=l2, solver=newton-cg ..............\n",
      "[CV]  C=2.3000000000000003, penalty=l2, solver=newton-cg, total=   0.0s\n",
      "[CV] C=2.3000000000000003, penalty=l2, solver=lbfgs ..................\n",
      "[CV] ... C=2.3000000000000003, penalty=l2, solver=lbfgs, total=   0.0s\n",
      "[CV] C=2.3000000000000003, penalty=l2, solver=lbfgs ..................\n",
      "[CV] ... C=2.3000000000000003, penalty=l2, solver=lbfgs, total=   0.0s\n",
      "[CV] C=2.3000000000000003, penalty=l2, solver=lbfgs ..................\n",
      "[CV] ... C=2.3000000000000003, penalty=l2, solver=lbfgs, total=   0.0s\n",
      "[CV] C=2.3000000000000003, penalty=l2, solver=lbfgs ..................\n",
      "[CV] ... C=2.3000000000000003, penalty=l2, solver=lbfgs, total=   0.0s\n",
      "[CV] C=2.3000000000000003, penalty=l2, solver=lbfgs ..................\n",
      "[CV] ... C=2.3000000000000003, penalty=l2, solver=lbfgs, total=   0.0s\n",
      "[CV] C=2.3000000000000003, penalty=l2, solver=sag ....................\n",
      "[CV] ..... C=2.3000000000000003, penalty=l2, solver=sag, total=   0.1s\n",
      "[CV] C=2.3000000000000003, penalty=l2, solver=sag ....................\n",
      "[CV] ..... C=2.3000000000000003, penalty=l2, solver=sag, total=   0.1s\n",
      "[CV] C=2.3000000000000003, penalty=l2, solver=sag ....................\n",
      "[CV] ..... C=2.3000000000000003, penalty=l2, solver=sag, total=   0.1s\n",
      "[CV] C=2.3000000000000003, penalty=l2, solver=sag ....................\n",
      "[CV] ..... C=2.3000000000000003, penalty=l2, solver=sag, total=   0.1s\n",
      "[CV] C=2.3000000000000003, penalty=l2, solver=sag ....................\n",
      "[CV] ..... C=2.3000000000000003, penalty=l2, solver=sag, total=   0.1s\n",
      "[CV] C=2.3000000000000003, penalty=l2, solver=saga ...................\n",
      "[CV] .... C=2.3000000000000003, penalty=l2, solver=saga, total=   0.1s\n",
      "[CV] C=2.3000000000000003, penalty=l2, solver=saga ...................\n"
     ]
    },
    {
     "name": "stderr",
     "output_type": "stream",
     "text": [
      "E:\\Anaconda3\\lib\\site-packages\\sklearn\\linear_model\\_sag.py:330: ConvergenceWarning: The max_iter was reached which means the coef_ did not converge\n",
      "  \"the coef_ did not converge\", ConvergenceWarning)\n",
      "E:\\Anaconda3\\lib\\site-packages\\sklearn\\linear_model\\_sag.py:330: ConvergenceWarning: The max_iter was reached which means the coef_ did not converge\n",
      "  \"the coef_ did not converge\", ConvergenceWarning)\n"
     ]
    },
    {
     "name": "stdout",
     "output_type": "stream",
     "text": [
      "[CV] .... C=2.3000000000000003, penalty=l2, solver=saga, total=   0.1s\n",
      "[CV] C=2.3000000000000003, penalty=l2, solver=saga ...................\n",
      "[CV] .... C=2.3000000000000003, penalty=l2, solver=saga, total=   0.1s\n",
      "[CV] C=2.3000000000000003, penalty=l2, solver=saga ...................\n"
     ]
    },
    {
     "name": "stderr",
     "output_type": "stream",
     "text": [
      "E:\\Anaconda3\\lib\\site-packages\\sklearn\\linear_model\\_sag.py:330: ConvergenceWarning: The max_iter was reached which means the coef_ did not converge\n",
      "  \"the coef_ did not converge\", ConvergenceWarning)\n",
      "E:\\Anaconda3\\lib\\site-packages\\sklearn\\linear_model\\_sag.py:330: ConvergenceWarning: The max_iter was reached which means the coef_ did not converge\n",
      "  \"the coef_ did not converge\", ConvergenceWarning)\n"
     ]
    },
    {
     "name": "stdout",
     "output_type": "stream",
     "text": [
      "[CV] .... C=2.3000000000000003, penalty=l2, solver=saga, total=   0.1s\n",
      "[CV] C=2.3000000000000003, penalty=l2, solver=saga ...................\n",
      "[CV] .... C=2.3000000000000003, penalty=l2, solver=saga, total=   0.1s\n",
      "[CV] C=2.3000000000000003, penalty=l2, solver=liblinear ..............\n",
      "[CV]  C=2.3000000000000003, penalty=l2, solver=liblinear, total=   0.0s\n",
      "[CV] C=2.3000000000000003, penalty=l2, solver=liblinear ..............\n",
      "[CV]  C=2.3000000000000003, penalty=l2, solver=liblinear, total=   0.0s\n",
      "[CV] C=2.3000000000000003, penalty=l2, solver=liblinear ..............\n",
      "[CV]  C=2.3000000000000003, penalty=l2, solver=liblinear, total=   0.0s\n",
      "[CV] C=2.3000000000000003, penalty=l2, solver=liblinear ..............\n",
      "[CV]  C=2.3000000000000003, penalty=l2, solver=liblinear, total=   0.0s\n",
      "[CV] C=2.3000000000000003, penalty=l2, solver=liblinear ..............\n",
      "[CV]  C=2.3000000000000003, penalty=l2, solver=liblinear, total=   0.0s\n",
      "[CV] C=2.4000000000000004, penalty=l1, solver=newton-cg ..............\n",
      "[CV]  C=2.4000000000000004, penalty=l1, solver=newton-cg, total=   0.0s\n",
      "[CV] C=2.4000000000000004, penalty=l1, solver=newton-cg ..............\n",
      "[CV]  C=2.4000000000000004, penalty=l1, solver=newton-cg, total=   0.0s\n",
      "[CV] C=2.4000000000000004, penalty=l1, solver=newton-cg ..............\n",
      "[CV]  C=2.4000000000000004, penalty=l1, solver=newton-cg, total=   0.0s\n",
      "[CV] C=2.4000000000000004, penalty=l1, solver=newton-cg ..............\n",
      "[CV]  C=2.4000000000000004, penalty=l1, solver=newton-cg, total=   0.0s\n",
      "[CV] C=2.4000000000000004, penalty=l1, solver=newton-cg ..............\n",
      "[CV]  C=2.4000000000000004, penalty=l1, solver=newton-cg, total=   0.0s\n",
      "[CV] C=2.4000000000000004, penalty=l1, solver=lbfgs ..................\n",
      "[CV] ... C=2.4000000000000004, penalty=l1, solver=lbfgs, total=   0.0s\n",
      "[CV] C=2.4000000000000004, penalty=l1, solver=lbfgs ..................\n",
      "[CV] ... C=2.4000000000000004, penalty=l1, solver=lbfgs, total=   0.0s\n",
      "[CV] C=2.4000000000000004, penalty=l1, solver=lbfgs ..................\n",
      "[CV] ... C=2.4000000000000004, penalty=l1, solver=lbfgs, total=   0.0s\n",
      "[CV] C=2.4000000000000004, penalty=l1, solver=lbfgs ..................\n",
      "[CV] ... C=2.4000000000000004, penalty=l1, solver=lbfgs, total=   0.0s\n",
      "[CV] C=2.4000000000000004, penalty=l1, solver=lbfgs ..................\n",
      "[CV] ... C=2.4000000000000004, penalty=l1, solver=lbfgs, total=   0.0s\n",
      "[CV] C=2.4000000000000004, penalty=l1, solver=sag ....................\n",
      "[CV] ..... C=2.4000000000000004, penalty=l1, solver=sag, total=   0.0s\n",
      "[CV] C=2.4000000000000004, penalty=l1, solver=sag ....................\n",
      "[CV] ..... C=2.4000000000000004, penalty=l1, solver=sag, total=   0.0s\n",
      "[CV] C=2.4000000000000004, penalty=l1, solver=sag ....................\n",
      "[CV] ..... C=2.4000000000000004, penalty=l1, solver=sag, total=   0.0s\n",
      "[CV] C=2.4000000000000004, penalty=l1, solver=sag ....................\n",
      "[CV] ..... C=2.4000000000000004, penalty=l1, solver=sag, total=   0.0s\n",
      "[CV] C=2.4000000000000004, penalty=l1, solver=sag ....................\n",
      "[CV] ..... C=2.4000000000000004, penalty=l1, solver=sag, total=   0.0s\n",
      "[CV] C=2.4000000000000004, penalty=l1, solver=saga ...................\n"
     ]
    },
    {
     "name": "stderr",
     "output_type": "stream",
     "text": [
      "E:\\Anaconda3\\lib\\site-packages\\sklearn\\linear_model\\_sag.py:330: ConvergenceWarning: The max_iter was reached which means the coef_ did not converge\n",
      "  \"the coef_ did not converge\", ConvergenceWarning)\n",
      "E:\\Anaconda3\\lib\\site-packages\\sklearn\\model_selection\\_validation.py:536: FitFailedWarning: Estimator fit failed. The score on this train-test partition for these parameters will be set to nan. Details: \n",
      "ValueError: Solver newton-cg supports only 'l2' or 'none' penalties, got l1 penalty.\n",
      "\n",
      "  FitFailedWarning)\n",
      "E:\\Anaconda3\\lib\\site-packages\\sklearn\\model_selection\\_validation.py:536: FitFailedWarning: Estimator fit failed. The score on this train-test partition for these parameters will be set to nan. Details: \n",
      "ValueError: Solver lbfgs supports only 'l2' or 'none' penalties, got l1 penalty.\n",
      "\n",
      "  FitFailedWarning)\n",
      "E:\\Anaconda3\\lib\\site-packages\\sklearn\\model_selection\\_validation.py:536: FitFailedWarning: Estimator fit failed. The score on this train-test partition for these parameters will be set to nan. Details: \n",
      "ValueError: Solver sag supports only 'l2' or 'none' penalties, got l1 penalty.\n",
      "\n",
      "  FitFailedWarning)\n",
      "E:\\Anaconda3\\lib\\site-packages\\sklearn\\linear_model\\_sag.py:330: ConvergenceWarning: The max_iter was reached which means the coef_ did not converge\n",
      "  \"the coef_ did not converge\", ConvergenceWarning)\n"
     ]
    },
    {
     "name": "stdout",
     "output_type": "stream",
     "text": [
      "[CV] .... C=2.4000000000000004, penalty=l1, solver=saga, total=   0.1s\n",
      "[CV] C=2.4000000000000004, penalty=l1, solver=saga ...................\n",
      "[CV] .... C=2.4000000000000004, penalty=l1, solver=saga, total=   0.1s\n",
      "[CV] C=2.4000000000000004, penalty=l1, solver=saga ...................\n"
     ]
    },
    {
     "name": "stderr",
     "output_type": "stream",
     "text": [
      "E:\\Anaconda3\\lib\\site-packages\\sklearn\\linear_model\\_sag.py:330: ConvergenceWarning: The max_iter was reached which means the coef_ did not converge\n",
      "  \"the coef_ did not converge\", ConvergenceWarning)\n",
      "E:\\Anaconda3\\lib\\site-packages\\sklearn\\linear_model\\_sag.py:330: ConvergenceWarning: The max_iter was reached which means the coef_ did not converge\n",
      "  \"the coef_ did not converge\", ConvergenceWarning)\n"
     ]
    },
    {
     "name": "stdout",
     "output_type": "stream",
     "text": [
      "[CV] .... C=2.4000000000000004, penalty=l1, solver=saga, total=   0.1s\n",
      "[CV] C=2.4000000000000004, penalty=l1, solver=saga ...................\n",
      "[CV] .... C=2.4000000000000004, penalty=l1, solver=saga, total=   0.1s\n",
      "[CV] C=2.4000000000000004, penalty=l1, solver=saga ...................\n"
     ]
    },
    {
     "name": "stderr",
     "output_type": "stream",
     "text": [
      "E:\\Anaconda3\\lib\\site-packages\\sklearn\\linear_model\\_sag.py:330: ConvergenceWarning: The max_iter was reached which means the coef_ did not converge\n",
      "  \"the coef_ did not converge\", ConvergenceWarning)\n",
      "E:\\Anaconda3\\lib\\site-packages\\sklearn\\linear_model\\_sag.py:330: ConvergenceWarning: The max_iter was reached which means the coef_ did not converge\n",
      "  \"the coef_ did not converge\", ConvergenceWarning)\n"
     ]
    },
    {
     "name": "stdout",
     "output_type": "stream",
     "text": [
      "[CV] .... C=2.4000000000000004, penalty=l1, solver=saga, total=   0.1s\n",
      "[CV] C=2.4000000000000004, penalty=l1, solver=liblinear ..............\n",
      "[CV]  C=2.4000000000000004, penalty=l1, solver=liblinear, total=   0.0s\n",
      "[CV] C=2.4000000000000004, penalty=l1, solver=liblinear ..............\n",
      "[CV]  C=2.4000000000000004, penalty=l1, solver=liblinear, total=   0.0s\n",
      "[CV] C=2.4000000000000004, penalty=l1, solver=liblinear ..............\n",
      "[CV]  C=2.4000000000000004, penalty=l1, solver=liblinear, total=   0.0s\n",
      "[CV] C=2.4000000000000004, penalty=l1, solver=liblinear ..............\n",
      "[CV]  C=2.4000000000000004, penalty=l1, solver=liblinear, total=   0.0s\n",
      "[CV] C=2.4000000000000004, penalty=l1, solver=liblinear ..............\n",
      "[CV]  C=2.4000000000000004, penalty=l1, solver=liblinear, total=   0.0s\n",
      "[CV] C=2.4000000000000004, penalty=l2, solver=newton-cg ..............\n",
      "[CV]  C=2.4000000000000004, penalty=l2, solver=newton-cg, total=   0.0s\n",
      "[CV] C=2.4000000000000004, penalty=l2, solver=newton-cg ..............\n",
      "[CV]  C=2.4000000000000004, penalty=l2, solver=newton-cg, total=   0.0s\n",
      "[CV] C=2.4000000000000004, penalty=l2, solver=newton-cg ..............\n",
      "[CV]  C=2.4000000000000004, penalty=l2, solver=newton-cg, total=   0.0s\n",
      "[CV] C=2.4000000000000004, penalty=l2, solver=newton-cg ..............\n",
      "[CV]  C=2.4000000000000004, penalty=l2, solver=newton-cg, total=   0.0s\n",
      "[CV] C=2.4000000000000004, penalty=l2, solver=newton-cg ..............\n",
      "[CV]  C=2.4000000000000004, penalty=l2, solver=newton-cg, total=   0.0s\n",
      "[CV] C=2.4000000000000004, penalty=l2, solver=lbfgs ..................\n",
      "[CV] ... C=2.4000000000000004, penalty=l2, solver=lbfgs, total=   0.0s\n",
      "[CV] C=2.4000000000000004, penalty=l2, solver=lbfgs ..................\n",
      "[CV] ... C=2.4000000000000004, penalty=l2, solver=lbfgs, total=   0.0s\n",
      "[CV] C=2.4000000000000004, penalty=l2, solver=lbfgs ..................\n",
      "[CV] ... C=2.4000000000000004, penalty=l2, solver=lbfgs, total=   0.0s\n",
      "[CV] C=2.4000000000000004, penalty=l2, solver=lbfgs ..................\n",
      "[CV] ... C=2.4000000000000004, penalty=l2, solver=lbfgs, total=   0.0s\n",
      "[CV] C=2.4000000000000004, penalty=l2, solver=lbfgs ..................\n",
      "[CV] ... C=2.4000000000000004, penalty=l2, solver=lbfgs, total=   0.0s\n",
      "[CV] C=2.4000000000000004, penalty=l2, solver=sag ....................\n",
      "[CV] ..... C=2.4000000000000004, penalty=l2, solver=sag, total=   0.1s\n",
      "[CV] C=2.4000000000000004, penalty=l2, solver=sag ....................\n",
      "[CV] ..... C=2.4000000000000004, penalty=l2, solver=sag, total=   0.1s\n",
      "[CV] C=2.4000000000000004, penalty=l2, solver=sag ....................\n",
      "[CV] ..... C=2.4000000000000004, penalty=l2, solver=sag, total=   0.1s\n",
      "[CV] C=2.4000000000000004, penalty=l2, solver=sag ....................\n",
      "[CV] ..... C=2.4000000000000004, penalty=l2, solver=sag, total=   0.1s\n",
      "[CV] C=2.4000000000000004, penalty=l2, solver=sag ....................\n",
      "[CV] ..... C=2.4000000000000004, penalty=l2, solver=sag, total=   0.1s\n",
      "[CV] C=2.4000000000000004, penalty=l2, solver=saga ...................\n",
      "[CV] .... C=2.4000000000000004, penalty=l2, solver=saga, total=   0.1s\n",
      "[CV] C=2.4000000000000004, penalty=l2, solver=saga ...................\n"
     ]
    },
    {
     "name": "stderr",
     "output_type": "stream",
     "text": [
      "E:\\Anaconda3\\lib\\site-packages\\sklearn\\linear_model\\_sag.py:330: ConvergenceWarning: The max_iter was reached which means the coef_ did not converge\n",
      "  \"the coef_ did not converge\", ConvergenceWarning)\n",
      "E:\\Anaconda3\\lib\\site-packages\\sklearn\\linear_model\\_sag.py:330: ConvergenceWarning: The max_iter was reached which means the coef_ did not converge\n",
      "  \"the coef_ did not converge\", ConvergenceWarning)\n"
     ]
    },
    {
     "name": "stdout",
     "output_type": "stream",
     "text": [
      "[CV] .... C=2.4000000000000004, penalty=l2, solver=saga, total=   0.1s\n",
      "[CV] C=2.4000000000000004, penalty=l2, solver=saga ...................\n",
      "[CV] .... C=2.4000000000000004, penalty=l2, solver=saga, total=   0.1s\n",
      "[CV] C=2.4000000000000004, penalty=l2, solver=saga ...................\n"
     ]
    },
    {
     "name": "stderr",
     "output_type": "stream",
     "text": [
      "E:\\Anaconda3\\lib\\site-packages\\sklearn\\linear_model\\_sag.py:330: ConvergenceWarning: The max_iter was reached which means the coef_ did not converge\n",
      "  \"the coef_ did not converge\", ConvergenceWarning)\n",
      "E:\\Anaconda3\\lib\\site-packages\\sklearn\\linear_model\\_sag.py:330: ConvergenceWarning: The max_iter was reached which means the coef_ did not converge\n",
      "  \"the coef_ did not converge\", ConvergenceWarning)\n"
     ]
    },
    {
     "name": "stdout",
     "output_type": "stream",
     "text": [
      "[CV] .... C=2.4000000000000004, penalty=l2, solver=saga, total=   0.1s\n",
      "[CV] C=2.4000000000000004, penalty=l2, solver=saga ...................\n",
      "[CV] .... C=2.4000000000000004, penalty=l2, solver=saga, total=   0.1s\n",
      "[CV] C=2.4000000000000004, penalty=l2, solver=liblinear ..............\n",
      "[CV]  C=2.4000000000000004, penalty=l2, solver=liblinear, total=   0.0s\n",
      "[CV] C=2.4000000000000004, penalty=l2, solver=liblinear ..............\n",
      "[CV]  C=2.4000000000000004, penalty=l2, solver=liblinear, total=   0.0s\n",
      "[CV] C=2.4000000000000004, penalty=l2, solver=liblinear ..............\n",
      "[CV]  C=2.4000000000000004, penalty=l2, solver=liblinear, total=   0.0s\n",
      "[CV] C=2.4000000000000004, penalty=l2, solver=liblinear ..............\n",
      "[CV]  C=2.4000000000000004, penalty=l2, solver=liblinear, total=   0.0s\n",
      "[CV] C=2.4000000000000004, penalty=l2, solver=liblinear ..............\n",
      "[CV]  C=2.4000000000000004, penalty=l2, solver=liblinear, total=   0.0s\n",
      "[CV] C=2.5000000000000004, penalty=l1, solver=newton-cg ..............\n",
      "[CV]  C=2.5000000000000004, penalty=l1, solver=newton-cg, total=   0.0s\n",
      "[CV] C=2.5000000000000004, penalty=l1, solver=newton-cg ..............\n",
      "[CV]  C=2.5000000000000004, penalty=l1, solver=newton-cg, total=   0.0s\n",
      "[CV] C=2.5000000000000004, penalty=l1, solver=newton-cg ..............\n",
      "[CV]  C=2.5000000000000004, penalty=l1, solver=newton-cg, total=   0.0s\n",
      "[CV] C=2.5000000000000004, penalty=l1, solver=newton-cg ..............\n",
      "[CV]  C=2.5000000000000004, penalty=l1, solver=newton-cg, total=   0.0s\n",
      "[CV] C=2.5000000000000004, penalty=l1, solver=newton-cg ..............\n",
      "[CV]  C=2.5000000000000004, penalty=l1, solver=newton-cg, total=   0.0s\n",
      "[CV] C=2.5000000000000004, penalty=l1, solver=lbfgs ..................\n",
      "[CV] ... C=2.5000000000000004, penalty=l1, solver=lbfgs, total=   0.0s\n",
      "[CV] C=2.5000000000000004, penalty=l1, solver=lbfgs ..................\n",
      "[CV] ... C=2.5000000000000004, penalty=l1, solver=lbfgs, total=   0.0s\n",
      "[CV] C=2.5000000000000004, penalty=l1, solver=lbfgs ..................\n",
      "[CV] ... C=2.5000000000000004, penalty=l1, solver=lbfgs, total=   0.0s\n",
      "[CV] C=2.5000000000000004, penalty=l1, solver=lbfgs ..................\n",
      "[CV] ... C=2.5000000000000004, penalty=l1, solver=lbfgs, total=   0.0s\n",
      "[CV] C=2.5000000000000004, penalty=l1, solver=lbfgs ..................\n",
      "[CV] ... C=2.5000000000000004, penalty=l1, solver=lbfgs, total=   0.0s\n",
      "[CV] C=2.5000000000000004, penalty=l1, solver=sag ....................\n",
      "[CV] ..... C=2.5000000000000004, penalty=l1, solver=sag, total=   0.0s\n",
      "[CV] C=2.5000000000000004, penalty=l1, solver=sag ....................\n",
      "[CV] ..... C=2.5000000000000004, penalty=l1, solver=sag, total=   0.0s\n",
      "[CV] C=2.5000000000000004, penalty=l1, solver=sag ....................\n",
      "[CV] ..... C=2.5000000000000004, penalty=l1, solver=sag, total=   0.0s\n",
      "[CV] C=2.5000000000000004, penalty=l1, solver=sag ....................\n",
      "[CV] ..... C=2.5000000000000004, penalty=l1, solver=sag, total=   0.0s\n",
      "[CV] C=2.5000000000000004, penalty=l1, solver=sag ....................\n",
      "[CV] ..... C=2.5000000000000004, penalty=l1, solver=sag, total=   0.0s\n",
      "[CV] C=2.5000000000000004, penalty=l1, solver=saga ...................\n"
     ]
    },
    {
     "name": "stderr",
     "output_type": "stream",
     "text": [
      "E:\\Anaconda3\\lib\\site-packages\\sklearn\\linear_model\\_sag.py:330: ConvergenceWarning: The max_iter was reached which means the coef_ did not converge\n",
      "  \"the coef_ did not converge\", ConvergenceWarning)\n",
      "E:\\Anaconda3\\lib\\site-packages\\sklearn\\model_selection\\_validation.py:536: FitFailedWarning: Estimator fit failed. The score on this train-test partition for these parameters will be set to nan. Details: \n",
      "ValueError: Solver newton-cg supports only 'l2' or 'none' penalties, got l1 penalty.\n",
      "\n",
      "  FitFailedWarning)\n",
      "E:\\Anaconda3\\lib\\site-packages\\sklearn\\model_selection\\_validation.py:536: FitFailedWarning: Estimator fit failed. The score on this train-test partition for these parameters will be set to nan. Details: \n",
      "ValueError: Solver lbfgs supports only 'l2' or 'none' penalties, got l1 penalty.\n",
      "\n",
      "  FitFailedWarning)\n",
      "E:\\Anaconda3\\lib\\site-packages\\sklearn\\model_selection\\_validation.py:536: FitFailedWarning: Estimator fit failed. The score on this train-test partition for these parameters will be set to nan. Details: \n",
      "ValueError: Solver sag supports only 'l2' or 'none' penalties, got l1 penalty.\n",
      "\n",
      "  FitFailedWarning)\n",
      "E:\\Anaconda3\\lib\\site-packages\\sklearn\\linear_model\\_sag.py:330: ConvergenceWarning: The max_iter was reached which means the coef_ did not converge\n",
      "  \"the coef_ did not converge\", ConvergenceWarning)\n"
     ]
    },
    {
     "name": "stdout",
     "output_type": "stream",
     "text": [
      "[CV] .... C=2.5000000000000004, penalty=l1, solver=saga, total=   0.1s\n",
      "[CV] C=2.5000000000000004, penalty=l1, solver=saga ...................\n",
      "[CV] .... C=2.5000000000000004, penalty=l1, solver=saga, total=   0.1s\n",
      "[CV] C=2.5000000000000004, penalty=l1, solver=saga ...................\n"
     ]
    },
    {
     "name": "stderr",
     "output_type": "stream",
     "text": [
      "E:\\Anaconda3\\lib\\site-packages\\sklearn\\linear_model\\_sag.py:330: ConvergenceWarning: The max_iter was reached which means the coef_ did not converge\n",
      "  \"the coef_ did not converge\", ConvergenceWarning)\n",
      "E:\\Anaconda3\\lib\\site-packages\\sklearn\\linear_model\\_sag.py:330: ConvergenceWarning: The max_iter was reached which means the coef_ did not converge\n",
      "  \"the coef_ did not converge\", ConvergenceWarning)\n"
     ]
    },
    {
     "name": "stdout",
     "output_type": "stream",
     "text": [
      "[CV] .... C=2.5000000000000004, penalty=l1, solver=saga, total=   0.1s\n",
      "[CV] C=2.5000000000000004, penalty=l1, solver=saga ...................\n",
      "[CV] .... C=2.5000000000000004, penalty=l1, solver=saga, total=   0.1s\n",
      "[CV] C=2.5000000000000004, penalty=l1, solver=saga ...................\n"
     ]
    },
    {
     "name": "stderr",
     "output_type": "stream",
     "text": [
      "E:\\Anaconda3\\lib\\site-packages\\sklearn\\linear_model\\_sag.py:330: ConvergenceWarning: The max_iter was reached which means the coef_ did not converge\n",
      "  \"the coef_ did not converge\", ConvergenceWarning)\n",
      "E:\\Anaconda3\\lib\\site-packages\\sklearn\\linear_model\\_sag.py:330: ConvergenceWarning: The max_iter was reached which means the coef_ did not converge\n",
      "  \"the coef_ did not converge\", ConvergenceWarning)\n"
     ]
    },
    {
     "name": "stdout",
     "output_type": "stream",
     "text": [
      "[CV] .... C=2.5000000000000004, penalty=l1, solver=saga, total=   0.1s\n",
      "[CV] C=2.5000000000000004, penalty=l1, solver=liblinear ..............\n",
      "[CV]  C=2.5000000000000004, penalty=l1, solver=liblinear, total=   0.0s\n",
      "[CV] C=2.5000000000000004, penalty=l1, solver=liblinear ..............\n",
      "[CV]  C=2.5000000000000004, penalty=l1, solver=liblinear, total=   0.0s\n",
      "[CV] C=2.5000000000000004, penalty=l1, solver=liblinear ..............\n",
      "[CV]  C=2.5000000000000004, penalty=l1, solver=liblinear, total=   0.0s\n",
      "[CV] C=2.5000000000000004, penalty=l1, solver=liblinear ..............\n",
      "[CV]  C=2.5000000000000004, penalty=l1, solver=liblinear, total=   0.0s\n",
      "[CV] C=2.5000000000000004, penalty=l1, solver=liblinear ..............\n",
      "[CV]  C=2.5000000000000004, penalty=l1, solver=liblinear, total=   0.0s\n",
      "[CV] C=2.5000000000000004, penalty=l2, solver=newton-cg ..............\n",
      "[CV]  C=2.5000000000000004, penalty=l2, solver=newton-cg, total=   0.0s\n",
      "[CV] C=2.5000000000000004, penalty=l2, solver=newton-cg ..............\n",
      "[CV]  C=2.5000000000000004, penalty=l2, solver=newton-cg, total=   0.0s\n",
      "[CV] C=2.5000000000000004, penalty=l2, solver=newton-cg ..............\n",
      "[CV]  C=2.5000000000000004, penalty=l2, solver=newton-cg, total=   0.0s\n",
      "[CV] C=2.5000000000000004, penalty=l2, solver=newton-cg ..............\n",
      "[CV]  C=2.5000000000000004, penalty=l2, solver=newton-cg, total=   0.0s\n",
      "[CV] C=2.5000000000000004, penalty=l2, solver=newton-cg ..............\n",
      "[CV]  C=2.5000000000000004, penalty=l2, solver=newton-cg, total=   0.0s\n",
      "[CV] C=2.5000000000000004, penalty=l2, solver=lbfgs ..................\n",
      "[CV] ... C=2.5000000000000004, penalty=l2, solver=lbfgs, total=   0.0s\n",
      "[CV] C=2.5000000000000004, penalty=l2, solver=lbfgs ..................\n",
      "[CV] ... C=2.5000000000000004, penalty=l2, solver=lbfgs, total=   0.0s\n",
      "[CV] C=2.5000000000000004, penalty=l2, solver=lbfgs ..................\n",
      "[CV] ... C=2.5000000000000004, penalty=l2, solver=lbfgs, total=   0.0s\n",
      "[CV] C=2.5000000000000004, penalty=l2, solver=lbfgs ..................\n",
      "[CV] ... C=2.5000000000000004, penalty=l2, solver=lbfgs, total=   0.0s\n",
      "[CV] C=2.5000000000000004, penalty=l2, solver=lbfgs ..................\n",
      "[CV] ... C=2.5000000000000004, penalty=l2, solver=lbfgs, total=   0.0s\n",
      "[CV] C=2.5000000000000004, penalty=l2, solver=sag ....................\n",
      "[CV] ..... C=2.5000000000000004, penalty=l2, solver=sag, total=   0.1s\n",
      "[CV] C=2.5000000000000004, penalty=l2, solver=sag ....................\n",
      "[CV] ..... C=2.5000000000000004, penalty=l2, solver=sag, total=   0.1s\n",
      "[CV] C=2.5000000000000004, penalty=l2, solver=sag ....................\n",
      "[CV] ..... C=2.5000000000000004, penalty=l2, solver=sag, total=   0.1s\n",
      "[CV] C=2.5000000000000004, penalty=l2, solver=sag ....................\n",
      "[CV] ..... C=2.5000000000000004, penalty=l2, solver=sag, total=   0.1s\n",
      "[CV] C=2.5000000000000004, penalty=l2, solver=sag ....................\n",
      "[CV] ..... C=2.5000000000000004, penalty=l2, solver=sag, total=   0.1s\n",
      "[CV] C=2.5000000000000004, penalty=l2, solver=saga ...................\n",
      "[CV] .... C=2.5000000000000004, penalty=l2, solver=saga, total=   0.1s\n",
      "[CV] C=2.5000000000000004, penalty=l2, solver=saga ...................\n"
     ]
    },
    {
     "name": "stderr",
     "output_type": "stream",
     "text": [
      "E:\\Anaconda3\\lib\\site-packages\\sklearn\\linear_model\\_sag.py:330: ConvergenceWarning: The max_iter was reached which means the coef_ did not converge\n",
      "  \"the coef_ did not converge\", ConvergenceWarning)\n",
      "E:\\Anaconda3\\lib\\site-packages\\sklearn\\linear_model\\_sag.py:330: ConvergenceWarning: The max_iter was reached which means the coef_ did not converge\n",
      "  \"the coef_ did not converge\", ConvergenceWarning)\n"
     ]
    },
    {
     "name": "stdout",
     "output_type": "stream",
     "text": [
      "[CV] .... C=2.5000000000000004, penalty=l2, solver=saga, total=   0.1s\n",
      "[CV] C=2.5000000000000004, penalty=l2, solver=saga ...................\n",
      "[CV] .... C=2.5000000000000004, penalty=l2, solver=saga, total=   0.1s\n",
      "[CV] C=2.5000000000000004, penalty=l2, solver=saga ...................\n"
     ]
    },
    {
     "name": "stderr",
     "output_type": "stream",
     "text": [
      "E:\\Anaconda3\\lib\\site-packages\\sklearn\\linear_model\\_sag.py:330: ConvergenceWarning: The max_iter was reached which means the coef_ did not converge\n",
      "  \"the coef_ did not converge\", ConvergenceWarning)\n",
      "E:\\Anaconda3\\lib\\site-packages\\sklearn\\linear_model\\_sag.py:330: ConvergenceWarning: The max_iter was reached which means the coef_ did not converge\n",
      "  \"the coef_ did not converge\", ConvergenceWarning)\n"
     ]
    },
    {
     "name": "stdout",
     "output_type": "stream",
     "text": [
      "[CV] .... C=2.5000000000000004, penalty=l2, solver=saga, total=   0.1s\n",
      "[CV] C=2.5000000000000004, penalty=l2, solver=saga ...................\n",
      "[CV] .... C=2.5000000000000004, penalty=l2, solver=saga, total=   0.1s\n",
      "[CV] C=2.5000000000000004, penalty=l2, solver=liblinear ..............\n",
      "[CV]  C=2.5000000000000004, penalty=l2, solver=liblinear, total=   0.0s\n",
      "[CV] C=2.5000000000000004, penalty=l2, solver=liblinear ..............\n",
      "[CV]  C=2.5000000000000004, penalty=l2, solver=liblinear, total=   0.0s\n",
      "[CV] C=2.5000000000000004, penalty=l2, solver=liblinear ..............\n",
      "[CV]  C=2.5000000000000004, penalty=l2, solver=liblinear, total=   0.0s\n",
      "[CV] C=2.5000000000000004, penalty=l2, solver=liblinear ..............\n",
      "[CV]  C=2.5000000000000004, penalty=l2, solver=liblinear, total=   0.0s\n",
      "[CV] C=2.5000000000000004, penalty=l2, solver=liblinear ..............\n",
      "[CV]  C=2.5000000000000004, penalty=l2, solver=liblinear, total=   0.0s\n",
      "[CV] C=2.6, penalty=l1, solver=newton-cg .............................\n",
      "[CV] .............. C=2.6, penalty=l1, solver=newton-cg, total=   0.0s\n",
      "[CV] C=2.6, penalty=l1, solver=newton-cg .............................\n",
      "[CV] .............. C=2.6, penalty=l1, solver=newton-cg, total=   0.0s\n",
      "[CV] C=2.6, penalty=l1, solver=newton-cg .............................\n",
      "[CV] .............. C=2.6, penalty=l1, solver=newton-cg, total=   0.0s\n",
      "[CV] C=2.6, penalty=l1, solver=newton-cg .............................\n",
      "[CV] .............. C=2.6, penalty=l1, solver=newton-cg, total=   0.0s\n",
      "[CV] C=2.6, penalty=l1, solver=newton-cg .............................\n",
      "[CV] .............. C=2.6, penalty=l1, solver=newton-cg, total=   0.0s\n",
      "[CV] C=2.6, penalty=l1, solver=lbfgs .................................\n",
      "[CV] .................. C=2.6, penalty=l1, solver=lbfgs, total=   0.0s\n",
      "[CV] C=2.6, penalty=l1, solver=lbfgs .................................\n",
      "[CV] .................. C=2.6, penalty=l1, solver=lbfgs, total=   0.0s\n",
      "[CV] C=2.6, penalty=l1, solver=lbfgs .................................\n",
      "[CV] .................. C=2.6, penalty=l1, solver=lbfgs, total=   0.0s\n",
      "[CV] C=2.6, penalty=l1, solver=lbfgs .................................\n",
      "[CV] .................. C=2.6, penalty=l1, solver=lbfgs, total=   0.0s\n",
      "[CV] C=2.6, penalty=l1, solver=lbfgs .................................\n",
      "[CV] .................. C=2.6, penalty=l1, solver=lbfgs, total=   0.0s\n",
      "[CV] C=2.6, penalty=l1, solver=sag ...................................\n",
      "[CV] .................... C=2.6, penalty=l1, solver=sag, total=   0.0s\n",
      "[CV] C=2.6, penalty=l1, solver=sag ...................................\n",
      "[CV] .................... C=2.6, penalty=l1, solver=sag, total=   0.0s\n",
      "[CV] C=2.6, penalty=l1, solver=sag ...................................\n",
      "[CV] .................... C=2.6, penalty=l1, solver=sag, total=   0.0s\n",
      "[CV] C=2.6, penalty=l1, solver=sag ...................................\n",
      "[CV] .................... C=2.6, penalty=l1, solver=sag, total=   0.0s\n",
      "[CV] C=2.6, penalty=l1, solver=sag ...................................\n",
      "[CV] .................... C=2.6, penalty=l1, solver=sag, total=   0.0s\n",
      "[CV] C=2.6, penalty=l1, solver=saga ..................................\n"
     ]
    },
    {
     "name": "stderr",
     "output_type": "stream",
     "text": [
      "E:\\Anaconda3\\lib\\site-packages\\sklearn\\linear_model\\_sag.py:330: ConvergenceWarning: The max_iter was reached which means the coef_ did not converge\n",
      "  \"the coef_ did not converge\", ConvergenceWarning)\n",
      "E:\\Anaconda3\\lib\\site-packages\\sklearn\\model_selection\\_validation.py:536: FitFailedWarning: Estimator fit failed. The score on this train-test partition for these parameters will be set to nan. Details: \n",
      "ValueError: Solver newton-cg supports only 'l2' or 'none' penalties, got l1 penalty.\n",
      "\n",
      "  FitFailedWarning)\n",
      "E:\\Anaconda3\\lib\\site-packages\\sklearn\\model_selection\\_validation.py:536: FitFailedWarning: Estimator fit failed. The score on this train-test partition for these parameters will be set to nan. Details: \n",
      "ValueError: Solver lbfgs supports only 'l2' or 'none' penalties, got l1 penalty.\n",
      "\n",
      "  FitFailedWarning)\n",
      "E:\\Anaconda3\\lib\\site-packages\\sklearn\\model_selection\\_validation.py:536: FitFailedWarning: Estimator fit failed. The score on this train-test partition for these parameters will be set to nan. Details: \n",
      "ValueError: Solver sag supports only 'l2' or 'none' penalties, got l1 penalty.\n",
      "\n",
      "  FitFailedWarning)\n",
      "E:\\Anaconda3\\lib\\site-packages\\sklearn\\linear_model\\_sag.py:330: ConvergenceWarning: The max_iter was reached which means the coef_ did not converge\n",
      "  \"the coef_ did not converge\", ConvergenceWarning)\n"
     ]
    },
    {
     "name": "stdout",
     "output_type": "stream",
     "text": [
      "[CV] ................... C=2.6, penalty=l1, solver=saga, total=   0.1s\n",
      "[CV] C=2.6, penalty=l1, solver=saga ..................................\n",
      "[CV] ................... C=2.6, penalty=l1, solver=saga, total=   0.1s\n",
      "[CV] C=2.6, penalty=l1, solver=saga ..................................\n"
     ]
    },
    {
     "name": "stderr",
     "output_type": "stream",
     "text": [
      "E:\\Anaconda3\\lib\\site-packages\\sklearn\\linear_model\\_sag.py:330: ConvergenceWarning: The max_iter was reached which means the coef_ did not converge\n",
      "  \"the coef_ did not converge\", ConvergenceWarning)\n",
      "E:\\Anaconda3\\lib\\site-packages\\sklearn\\linear_model\\_sag.py:330: ConvergenceWarning: The max_iter was reached which means the coef_ did not converge\n",
      "  \"the coef_ did not converge\", ConvergenceWarning)\n"
     ]
    },
    {
     "name": "stdout",
     "output_type": "stream",
     "text": [
      "[CV] ................... C=2.6, penalty=l1, solver=saga, total=   0.1s\n",
      "[CV] C=2.6, penalty=l1, solver=saga ..................................\n",
      "[CV] ................... C=2.6, penalty=l1, solver=saga, total=   0.1s\n",
      "[CV] C=2.6, penalty=l1, solver=saga ..................................\n"
     ]
    },
    {
     "name": "stderr",
     "output_type": "stream",
     "text": [
      "E:\\Anaconda3\\lib\\site-packages\\sklearn\\linear_model\\_sag.py:330: ConvergenceWarning: The max_iter was reached which means the coef_ did not converge\n",
      "  \"the coef_ did not converge\", ConvergenceWarning)\n",
      "E:\\Anaconda3\\lib\\site-packages\\sklearn\\linear_model\\_sag.py:330: ConvergenceWarning: The max_iter was reached which means the coef_ did not converge\n",
      "  \"the coef_ did not converge\", ConvergenceWarning)\n"
     ]
    },
    {
     "name": "stdout",
     "output_type": "stream",
     "text": [
      "[CV] ................... C=2.6, penalty=l1, solver=saga, total=   0.1s\n",
      "[CV] C=2.6, penalty=l1, solver=liblinear .............................\n",
      "[CV] .............. C=2.6, penalty=l1, solver=liblinear, total=   0.0s\n",
      "[CV] C=2.6, penalty=l1, solver=liblinear .............................\n",
      "[CV] .............. C=2.6, penalty=l1, solver=liblinear, total=   0.0s\n",
      "[CV] C=2.6, penalty=l1, solver=liblinear .............................\n",
      "[CV] .............. C=2.6, penalty=l1, solver=liblinear, total=   0.0s\n",
      "[CV] C=2.6, penalty=l1, solver=liblinear .............................\n",
      "[CV] .............. C=2.6, penalty=l1, solver=liblinear, total=   0.0s\n",
      "[CV] C=2.6, penalty=l1, solver=liblinear .............................\n",
      "[CV] .............. C=2.6, penalty=l1, solver=liblinear, total=   0.0s\n",
      "[CV] C=2.6, penalty=l2, solver=newton-cg .............................\n",
      "[CV] .............. C=2.6, penalty=l2, solver=newton-cg, total=   0.0s\n",
      "[CV] C=2.6, penalty=l2, solver=newton-cg .............................\n",
      "[CV] .............. C=2.6, penalty=l2, solver=newton-cg, total=   0.0s\n",
      "[CV] C=2.6, penalty=l2, solver=newton-cg .............................\n",
      "[CV] .............. C=2.6, penalty=l2, solver=newton-cg, total=   0.0s\n",
      "[CV] C=2.6, penalty=l2, solver=newton-cg .............................\n",
      "[CV] .............. C=2.6, penalty=l2, solver=newton-cg, total=   0.0s\n",
      "[CV] C=2.6, penalty=l2, solver=newton-cg .............................\n",
      "[CV] .............. C=2.6, penalty=l2, solver=newton-cg, total=   0.0s\n",
      "[CV] C=2.6, penalty=l2, solver=lbfgs .................................\n",
      "[CV] .................. C=2.6, penalty=l2, solver=lbfgs, total=   0.0s\n",
      "[CV] C=2.6, penalty=l2, solver=lbfgs .................................\n",
      "[CV] .................. C=2.6, penalty=l2, solver=lbfgs, total=   0.0s\n",
      "[CV] C=2.6, penalty=l2, solver=lbfgs .................................\n",
      "[CV] .................. C=2.6, penalty=l2, solver=lbfgs, total=   0.0s\n",
      "[CV] C=2.6, penalty=l2, solver=lbfgs .................................\n",
      "[CV] .................. C=2.6, penalty=l2, solver=lbfgs, total=   0.0s\n",
      "[CV] C=2.6, penalty=l2, solver=lbfgs .................................\n",
      "[CV] .................. C=2.6, penalty=l2, solver=lbfgs, total=   0.0s\n",
      "[CV] C=2.6, penalty=l2, solver=sag ...................................\n",
      "[CV] .................... C=2.6, penalty=l2, solver=sag, total=   0.1s\n",
      "[CV] C=2.6, penalty=l2, solver=sag ...................................\n",
      "[CV] .................... C=2.6, penalty=l2, solver=sag, total=   0.1s\n",
      "[CV] C=2.6, penalty=l2, solver=sag ...................................\n",
      "[CV] .................... C=2.6, penalty=l2, solver=sag, total=   0.1s\n",
      "[CV] C=2.6, penalty=l2, solver=sag ...................................\n",
      "[CV] .................... C=2.6, penalty=l2, solver=sag, total=   0.1s\n",
      "[CV] C=2.6, penalty=l2, solver=sag ...................................\n",
      "[CV] .................... C=2.6, penalty=l2, solver=sag, total=   0.1s\n",
      "[CV] C=2.6, penalty=l2, solver=saga ..................................\n",
      "[CV] ................... C=2.6, penalty=l2, solver=saga, total=   0.1s\n",
      "[CV] C=2.6, penalty=l2, solver=saga ..................................\n"
     ]
    },
    {
     "name": "stderr",
     "output_type": "stream",
     "text": [
      "E:\\Anaconda3\\lib\\site-packages\\sklearn\\linear_model\\_sag.py:330: ConvergenceWarning: The max_iter was reached which means the coef_ did not converge\n",
      "  \"the coef_ did not converge\", ConvergenceWarning)\n",
      "E:\\Anaconda3\\lib\\site-packages\\sklearn\\linear_model\\_sag.py:330: ConvergenceWarning: The max_iter was reached which means the coef_ did not converge\n",
      "  \"the coef_ did not converge\", ConvergenceWarning)\n"
     ]
    },
    {
     "name": "stdout",
     "output_type": "stream",
     "text": [
      "[CV] ................... C=2.6, penalty=l2, solver=saga, total=   0.1s\n",
      "[CV] C=2.6, penalty=l2, solver=saga ..................................\n",
      "[CV] ................... C=2.6, penalty=l2, solver=saga, total=   0.1s\n",
      "[CV] C=2.6, penalty=l2, solver=saga ..................................\n"
     ]
    },
    {
     "name": "stderr",
     "output_type": "stream",
     "text": [
      "E:\\Anaconda3\\lib\\site-packages\\sklearn\\linear_model\\_sag.py:330: ConvergenceWarning: The max_iter was reached which means the coef_ did not converge\n",
      "  \"the coef_ did not converge\", ConvergenceWarning)\n",
      "E:\\Anaconda3\\lib\\site-packages\\sklearn\\linear_model\\_sag.py:330: ConvergenceWarning: The max_iter was reached which means the coef_ did not converge\n",
      "  \"the coef_ did not converge\", ConvergenceWarning)\n"
     ]
    },
    {
     "name": "stdout",
     "output_type": "stream",
     "text": [
      "[CV] ................... C=2.6, penalty=l2, solver=saga, total=   0.1s\n",
      "[CV] C=2.6, penalty=l2, solver=saga ..................................\n",
      "[CV] ................... C=2.6, penalty=l2, solver=saga, total=   0.1s\n",
      "[CV] C=2.6, penalty=l2, solver=liblinear .............................\n",
      "[CV] .............. C=2.6, penalty=l2, solver=liblinear, total=   0.0s\n",
      "[CV] C=2.6, penalty=l2, solver=liblinear .............................\n",
      "[CV] .............. C=2.6, penalty=l2, solver=liblinear, total=   0.0s\n",
      "[CV] C=2.6, penalty=l2, solver=liblinear .............................\n",
      "[CV] .............. C=2.6, penalty=l2, solver=liblinear, total=   0.0s\n",
      "[CV] C=2.6, penalty=l2, solver=liblinear .............................\n",
      "[CV] .............. C=2.6, penalty=l2, solver=liblinear, total=   0.0s\n",
      "[CV] C=2.6, penalty=l2, solver=liblinear .............................\n",
      "[CV] .............. C=2.6, penalty=l2, solver=liblinear, total=   0.0s\n",
      "[CV] C=2.7, penalty=l1, solver=newton-cg .............................\n",
      "[CV] .............. C=2.7, penalty=l1, solver=newton-cg, total=   0.0s\n",
      "[CV] C=2.7, penalty=l1, solver=newton-cg .............................\n",
      "[CV] .............. C=2.7, penalty=l1, solver=newton-cg, total=   0.0s\n",
      "[CV] C=2.7, penalty=l1, solver=newton-cg .............................\n",
      "[CV] .............. C=2.7, penalty=l1, solver=newton-cg, total=   0.0s\n",
      "[CV] C=2.7, penalty=l1, solver=newton-cg .............................\n",
      "[CV] .............. C=2.7, penalty=l1, solver=newton-cg, total=   0.0s\n",
      "[CV] C=2.7, penalty=l1, solver=newton-cg .............................\n",
      "[CV] .............. C=2.7, penalty=l1, solver=newton-cg, total=   0.0s\n",
      "[CV] C=2.7, penalty=l1, solver=lbfgs .................................\n",
      "[CV] .................. C=2.7, penalty=l1, solver=lbfgs, total=   0.0s\n",
      "[CV] C=2.7, penalty=l1, solver=lbfgs .................................\n",
      "[CV] .................. C=2.7, penalty=l1, solver=lbfgs, total=   0.0s\n",
      "[CV] C=2.7, penalty=l1, solver=lbfgs .................................\n",
      "[CV] .................. C=2.7, penalty=l1, solver=lbfgs, total=   0.0s\n",
      "[CV] C=2.7, penalty=l1, solver=lbfgs .................................\n",
      "[CV] .................. C=2.7, penalty=l1, solver=lbfgs, total=   0.0s\n",
      "[CV] C=2.7, penalty=l1, solver=lbfgs .................................\n",
      "[CV] .................. C=2.7, penalty=l1, solver=lbfgs, total=   0.0s\n",
      "[CV] C=2.7, penalty=l1, solver=sag ...................................\n",
      "[CV] .................... C=2.7, penalty=l1, solver=sag, total=   0.0s\n",
      "[CV] C=2.7, penalty=l1, solver=sag ...................................\n",
      "[CV] .................... C=2.7, penalty=l1, solver=sag, total=   0.0s\n",
      "[CV] C=2.7, penalty=l1, solver=sag ...................................\n",
      "[CV] .................... C=2.7, penalty=l1, solver=sag, total=   0.0s\n",
      "[CV] C=2.7, penalty=l1, solver=sag ...................................\n",
      "[CV] .................... C=2.7, penalty=l1, solver=sag, total=   0.0s\n",
      "[CV] C=2.7, penalty=l1, solver=sag ...................................\n",
      "[CV] .................... C=2.7, penalty=l1, solver=sag, total=   0.0s\n",
      "[CV] C=2.7, penalty=l1, solver=saga ..................................\n"
     ]
    },
    {
     "name": "stderr",
     "output_type": "stream",
     "text": [
      "E:\\Anaconda3\\lib\\site-packages\\sklearn\\linear_model\\_sag.py:330: ConvergenceWarning: The max_iter was reached which means the coef_ did not converge\n",
      "  \"the coef_ did not converge\", ConvergenceWarning)\n",
      "E:\\Anaconda3\\lib\\site-packages\\sklearn\\model_selection\\_validation.py:536: FitFailedWarning: Estimator fit failed. The score on this train-test partition for these parameters will be set to nan. Details: \n",
      "ValueError: Solver newton-cg supports only 'l2' or 'none' penalties, got l1 penalty.\n",
      "\n",
      "  FitFailedWarning)\n",
      "E:\\Anaconda3\\lib\\site-packages\\sklearn\\model_selection\\_validation.py:536: FitFailedWarning: Estimator fit failed. The score on this train-test partition for these parameters will be set to nan. Details: \n",
      "ValueError: Solver lbfgs supports only 'l2' or 'none' penalties, got l1 penalty.\n",
      "\n",
      "  FitFailedWarning)\n",
      "E:\\Anaconda3\\lib\\site-packages\\sklearn\\model_selection\\_validation.py:536: FitFailedWarning: Estimator fit failed. The score on this train-test partition for these parameters will be set to nan. Details: \n",
      "ValueError: Solver sag supports only 'l2' or 'none' penalties, got l1 penalty.\n",
      "\n",
      "  FitFailedWarning)\n",
      "E:\\Anaconda3\\lib\\site-packages\\sklearn\\linear_model\\_sag.py:330: ConvergenceWarning: The max_iter was reached which means the coef_ did not converge\n",
      "  \"the coef_ did not converge\", ConvergenceWarning)\n"
     ]
    },
    {
     "name": "stdout",
     "output_type": "stream",
     "text": [
      "[CV] ................... C=2.7, penalty=l1, solver=saga, total=   0.1s\n",
      "[CV] C=2.7, penalty=l1, solver=saga ..................................\n",
      "[CV] ................... C=2.7, penalty=l1, solver=saga, total=   0.1s\n",
      "[CV] C=2.7, penalty=l1, solver=saga ..................................\n"
     ]
    },
    {
     "name": "stderr",
     "output_type": "stream",
     "text": [
      "E:\\Anaconda3\\lib\\site-packages\\sklearn\\linear_model\\_sag.py:330: ConvergenceWarning: The max_iter was reached which means the coef_ did not converge\n",
      "  \"the coef_ did not converge\", ConvergenceWarning)\n",
      "E:\\Anaconda3\\lib\\site-packages\\sklearn\\linear_model\\_sag.py:330: ConvergenceWarning: The max_iter was reached which means the coef_ did not converge\n",
      "  \"the coef_ did not converge\", ConvergenceWarning)\n"
     ]
    },
    {
     "name": "stdout",
     "output_type": "stream",
     "text": [
      "[CV] ................... C=2.7, penalty=l1, solver=saga, total=   0.1s\n",
      "[CV] C=2.7, penalty=l1, solver=saga ..................................\n",
      "[CV] ................... C=2.7, penalty=l1, solver=saga, total=   0.1s\n",
      "[CV] C=2.7, penalty=l1, solver=saga ..................................\n"
     ]
    },
    {
     "name": "stderr",
     "output_type": "stream",
     "text": [
      "E:\\Anaconda3\\lib\\site-packages\\sklearn\\linear_model\\_sag.py:330: ConvergenceWarning: The max_iter was reached which means the coef_ did not converge\n",
      "  \"the coef_ did not converge\", ConvergenceWarning)\n",
      "E:\\Anaconda3\\lib\\site-packages\\sklearn\\linear_model\\_sag.py:330: ConvergenceWarning: The max_iter was reached which means the coef_ did not converge\n",
      "  \"the coef_ did not converge\", ConvergenceWarning)\n"
     ]
    },
    {
     "name": "stdout",
     "output_type": "stream",
     "text": [
      "[CV] ................... C=2.7, penalty=l1, solver=saga, total=   0.1s\n",
      "[CV] C=2.7, penalty=l1, solver=liblinear .............................\n",
      "[CV] .............. C=2.7, penalty=l1, solver=liblinear, total=   0.0s\n",
      "[CV] C=2.7, penalty=l1, solver=liblinear .............................\n",
      "[CV] .............. C=2.7, penalty=l1, solver=liblinear, total=   0.0s\n",
      "[CV] C=2.7, penalty=l1, solver=liblinear .............................\n",
      "[CV] .............. C=2.7, penalty=l1, solver=liblinear, total=   0.0s\n",
      "[CV] C=2.7, penalty=l1, solver=liblinear .............................\n",
      "[CV] .............. C=2.7, penalty=l1, solver=liblinear, total=   0.0s\n",
      "[CV] C=2.7, penalty=l1, solver=liblinear .............................\n",
      "[CV] .............. C=2.7, penalty=l1, solver=liblinear, total=   0.0s\n",
      "[CV] C=2.7, penalty=l2, solver=newton-cg .............................\n",
      "[CV] .............. C=2.7, penalty=l2, solver=newton-cg, total=   0.0s\n",
      "[CV] C=2.7, penalty=l2, solver=newton-cg .............................\n",
      "[CV] .............. C=2.7, penalty=l2, solver=newton-cg, total=   0.0s\n",
      "[CV] C=2.7, penalty=l2, solver=newton-cg .............................\n",
      "[CV] .............. C=2.7, penalty=l2, solver=newton-cg, total=   0.0s\n",
      "[CV] C=2.7, penalty=l2, solver=newton-cg .............................\n",
      "[CV] .............. C=2.7, penalty=l2, solver=newton-cg, total=   0.0s\n",
      "[CV] C=2.7, penalty=l2, solver=newton-cg .............................\n",
      "[CV] .............. C=2.7, penalty=l2, solver=newton-cg, total=   0.0s\n",
      "[CV] C=2.7, penalty=l2, solver=lbfgs .................................\n",
      "[CV] .................. C=2.7, penalty=l2, solver=lbfgs, total=   0.0s\n",
      "[CV] C=2.7, penalty=l2, solver=lbfgs .................................\n",
      "[CV] .................. C=2.7, penalty=l2, solver=lbfgs, total=   0.0s\n",
      "[CV] C=2.7, penalty=l2, solver=lbfgs .................................\n",
      "[CV] .................. C=2.7, penalty=l2, solver=lbfgs, total=   0.0s\n",
      "[CV] C=2.7, penalty=l2, solver=lbfgs .................................\n",
      "[CV] .................. C=2.7, penalty=l2, solver=lbfgs, total=   0.0s\n",
      "[CV] C=2.7, penalty=l2, solver=lbfgs .................................\n",
      "[CV] .................. C=2.7, penalty=l2, solver=lbfgs, total=   0.0s\n",
      "[CV] C=2.7, penalty=l2, solver=sag ...................................\n",
      "[CV] .................... C=2.7, penalty=l2, solver=sag, total=   0.1s\n",
      "[CV] C=2.7, penalty=l2, solver=sag ...................................\n",
      "[CV] .................... C=2.7, penalty=l2, solver=sag, total=   0.1s\n",
      "[CV] C=2.7, penalty=l2, solver=sag ...................................\n",
      "[CV] .................... C=2.7, penalty=l2, solver=sag, total=   0.1s\n",
      "[CV] C=2.7, penalty=l2, solver=sag ...................................\n",
      "[CV] .................... C=2.7, penalty=l2, solver=sag, total=   0.1s\n",
      "[CV] C=2.7, penalty=l2, solver=sag ...................................\n",
      "[CV] .................... C=2.7, penalty=l2, solver=sag, total=   0.1s\n",
      "[CV] C=2.7, penalty=l2, solver=saga ..................................\n",
      "[CV] ................... C=2.7, penalty=l2, solver=saga, total=   0.1s\n",
      "[CV] C=2.7, penalty=l2, solver=saga ..................................\n"
     ]
    },
    {
     "name": "stderr",
     "output_type": "stream",
     "text": [
      "E:\\Anaconda3\\lib\\site-packages\\sklearn\\linear_model\\_sag.py:330: ConvergenceWarning: The max_iter was reached which means the coef_ did not converge\n",
      "  \"the coef_ did not converge\", ConvergenceWarning)\n",
      "E:\\Anaconda3\\lib\\site-packages\\sklearn\\linear_model\\_sag.py:330: ConvergenceWarning: The max_iter was reached which means the coef_ did not converge\n",
      "  \"the coef_ did not converge\", ConvergenceWarning)\n"
     ]
    },
    {
     "name": "stdout",
     "output_type": "stream",
     "text": [
      "[CV] ................... C=2.7, penalty=l2, solver=saga, total=   0.1s\n",
      "[CV] C=2.7, penalty=l2, solver=saga ..................................\n",
      "[CV] ................... C=2.7, penalty=l2, solver=saga, total=   0.1s\n",
      "[CV] C=2.7, penalty=l2, solver=saga ..................................\n"
     ]
    },
    {
     "name": "stderr",
     "output_type": "stream",
     "text": [
      "E:\\Anaconda3\\lib\\site-packages\\sklearn\\linear_model\\_sag.py:330: ConvergenceWarning: The max_iter was reached which means the coef_ did not converge\n",
      "  \"the coef_ did not converge\", ConvergenceWarning)\n",
      "E:\\Anaconda3\\lib\\site-packages\\sklearn\\linear_model\\_sag.py:330: ConvergenceWarning: The max_iter was reached which means the coef_ did not converge\n",
      "  \"the coef_ did not converge\", ConvergenceWarning)\n"
     ]
    },
    {
     "name": "stdout",
     "output_type": "stream",
     "text": [
      "[CV] ................... C=2.7, penalty=l2, solver=saga, total=   0.1s\n",
      "[CV] C=2.7, penalty=l2, solver=saga ..................................\n",
      "[CV] ................... C=2.7, penalty=l2, solver=saga, total=   0.1s\n",
      "[CV] C=2.7, penalty=l2, solver=liblinear .............................\n",
      "[CV] .............. C=2.7, penalty=l2, solver=liblinear, total=   0.0s\n",
      "[CV] C=2.7, penalty=l2, solver=liblinear .............................\n",
      "[CV] .............. C=2.7, penalty=l2, solver=liblinear, total=   0.0s\n",
      "[CV] C=2.7, penalty=l2, solver=liblinear .............................\n",
      "[CV] .............. C=2.7, penalty=l2, solver=liblinear, total=   0.0s\n",
      "[CV] C=2.7, penalty=l2, solver=liblinear .............................\n",
      "[CV] .............. C=2.7, penalty=l2, solver=liblinear, total=   0.0s\n",
      "[CV] C=2.7, penalty=l2, solver=liblinear .............................\n",
      "[CV] .............. C=2.7, penalty=l2, solver=liblinear, total=   0.0s\n",
      "[CV] C=2.8000000000000003, penalty=l1, solver=newton-cg ..............\n",
      "[CV]  C=2.8000000000000003, penalty=l1, solver=newton-cg, total=   0.0s\n",
      "[CV] C=2.8000000000000003, penalty=l1, solver=newton-cg ..............\n",
      "[CV]  C=2.8000000000000003, penalty=l1, solver=newton-cg, total=   0.0s\n",
      "[CV] C=2.8000000000000003, penalty=l1, solver=newton-cg ..............\n",
      "[CV]  C=2.8000000000000003, penalty=l1, solver=newton-cg, total=   0.0s\n",
      "[CV] C=2.8000000000000003, penalty=l1, solver=newton-cg ..............\n",
      "[CV]  C=2.8000000000000003, penalty=l1, solver=newton-cg, total=   0.0s\n",
      "[CV] C=2.8000000000000003, penalty=l1, solver=newton-cg ..............\n",
      "[CV]  C=2.8000000000000003, penalty=l1, solver=newton-cg, total=   0.0s\n",
      "[CV] C=2.8000000000000003, penalty=l1, solver=lbfgs ..................\n",
      "[CV] ... C=2.8000000000000003, penalty=l1, solver=lbfgs, total=   0.0s\n",
      "[CV] C=2.8000000000000003, penalty=l1, solver=lbfgs ..................\n",
      "[CV] ... C=2.8000000000000003, penalty=l1, solver=lbfgs, total=   0.0s\n",
      "[CV] C=2.8000000000000003, penalty=l1, solver=lbfgs ..................\n",
      "[CV] ... C=2.8000000000000003, penalty=l1, solver=lbfgs, total=   0.0s\n",
      "[CV] C=2.8000000000000003, penalty=l1, solver=lbfgs ..................\n",
      "[CV] ... C=2.8000000000000003, penalty=l1, solver=lbfgs, total=   0.0s\n",
      "[CV] C=2.8000000000000003, penalty=l1, solver=lbfgs ..................\n",
      "[CV] ... C=2.8000000000000003, penalty=l1, solver=lbfgs, total=   0.0s\n",
      "[CV] C=2.8000000000000003, penalty=l1, solver=sag ....................\n",
      "[CV] ..... C=2.8000000000000003, penalty=l1, solver=sag, total=   0.0s\n",
      "[CV] C=2.8000000000000003, penalty=l1, solver=sag ....................\n",
      "[CV] ..... C=2.8000000000000003, penalty=l1, solver=sag, total=   0.0s\n",
      "[CV] C=2.8000000000000003, penalty=l1, solver=sag ....................\n",
      "[CV] ..... C=2.8000000000000003, penalty=l1, solver=sag, total=   0.0s\n",
      "[CV] C=2.8000000000000003, penalty=l1, solver=sag ....................\n",
      "[CV] ..... C=2.8000000000000003, penalty=l1, solver=sag, total=   0.0s\n",
      "[CV] C=2.8000000000000003, penalty=l1, solver=sag ....................\n",
      "[CV] ..... C=2.8000000000000003, penalty=l1, solver=sag, total=   0.0s\n",
      "[CV] C=2.8000000000000003, penalty=l1, solver=saga ...................\n"
     ]
    },
    {
     "name": "stderr",
     "output_type": "stream",
     "text": [
      "E:\\Anaconda3\\lib\\site-packages\\sklearn\\linear_model\\_sag.py:330: ConvergenceWarning: The max_iter was reached which means the coef_ did not converge\n",
      "  \"the coef_ did not converge\", ConvergenceWarning)\n",
      "E:\\Anaconda3\\lib\\site-packages\\sklearn\\model_selection\\_validation.py:536: FitFailedWarning: Estimator fit failed. The score on this train-test partition for these parameters will be set to nan. Details: \n",
      "ValueError: Solver newton-cg supports only 'l2' or 'none' penalties, got l1 penalty.\n",
      "\n",
      "  FitFailedWarning)\n",
      "E:\\Anaconda3\\lib\\site-packages\\sklearn\\model_selection\\_validation.py:536: FitFailedWarning: Estimator fit failed. The score on this train-test partition for these parameters will be set to nan. Details: \n",
      "ValueError: Solver lbfgs supports only 'l2' or 'none' penalties, got l1 penalty.\n",
      "\n",
      "  FitFailedWarning)\n",
      "E:\\Anaconda3\\lib\\site-packages\\sklearn\\model_selection\\_validation.py:536: FitFailedWarning: Estimator fit failed. The score on this train-test partition for these parameters will be set to nan. Details: \n",
      "ValueError: Solver sag supports only 'l2' or 'none' penalties, got l1 penalty.\n",
      "\n",
      "  FitFailedWarning)\n",
      "E:\\Anaconda3\\lib\\site-packages\\sklearn\\linear_model\\_sag.py:330: ConvergenceWarning: The max_iter was reached which means the coef_ did not converge\n",
      "  \"the coef_ did not converge\", ConvergenceWarning)\n"
     ]
    },
    {
     "name": "stdout",
     "output_type": "stream",
     "text": [
      "[CV] .... C=2.8000000000000003, penalty=l1, solver=saga, total=   0.1s\n",
      "[CV] C=2.8000000000000003, penalty=l1, solver=saga ...................\n",
      "[CV] .... C=2.8000000000000003, penalty=l1, solver=saga, total=   0.1s\n",
      "[CV] C=2.8000000000000003, penalty=l1, solver=saga ...................\n"
     ]
    },
    {
     "name": "stderr",
     "output_type": "stream",
     "text": [
      "E:\\Anaconda3\\lib\\site-packages\\sklearn\\linear_model\\_sag.py:330: ConvergenceWarning: The max_iter was reached which means the coef_ did not converge\n",
      "  \"the coef_ did not converge\", ConvergenceWarning)\n",
      "E:\\Anaconda3\\lib\\site-packages\\sklearn\\linear_model\\_sag.py:330: ConvergenceWarning: The max_iter was reached which means the coef_ did not converge\n",
      "  \"the coef_ did not converge\", ConvergenceWarning)\n"
     ]
    },
    {
     "name": "stdout",
     "output_type": "stream",
     "text": [
      "[CV] .... C=2.8000000000000003, penalty=l1, solver=saga, total=   0.1s\n",
      "[CV] C=2.8000000000000003, penalty=l1, solver=saga ...................\n",
      "[CV] .... C=2.8000000000000003, penalty=l1, solver=saga, total=   0.1s\n",
      "[CV] C=2.8000000000000003, penalty=l1, solver=saga ...................\n"
     ]
    },
    {
     "name": "stderr",
     "output_type": "stream",
     "text": [
      "E:\\Anaconda3\\lib\\site-packages\\sklearn\\linear_model\\_sag.py:330: ConvergenceWarning: The max_iter was reached which means the coef_ did not converge\n",
      "  \"the coef_ did not converge\", ConvergenceWarning)\n",
      "E:\\Anaconda3\\lib\\site-packages\\sklearn\\linear_model\\_sag.py:330: ConvergenceWarning: The max_iter was reached which means the coef_ did not converge\n",
      "  \"the coef_ did not converge\", ConvergenceWarning)\n"
     ]
    },
    {
     "name": "stdout",
     "output_type": "stream",
     "text": [
      "[CV] .... C=2.8000000000000003, penalty=l1, solver=saga, total=   0.1s\n",
      "[CV] C=2.8000000000000003, penalty=l1, solver=liblinear ..............\n",
      "[CV]  C=2.8000000000000003, penalty=l1, solver=liblinear, total=   0.0s\n",
      "[CV] C=2.8000000000000003, penalty=l1, solver=liblinear ..............\n",
      "[CV]  C=2.8000000000000003, penalty=l1, solver=liblinear, total=   0.0s\n",
      "[CV] C=2.8000000000000003, penalty=l1, solver=liblinear ..............\n",
      "[CV]  C=2.8000000000000003, penalty=l1, solver=liblinear, total=   0.0s\n",
      "[CV] C=2.8000000000000003, penalty=l1, solver=liblinear ..............\n",
      "[CV]  C=2.8000000000000003, penalty=l1, solver=liblinear, total=   0.0s\n",
      "[CV] C=2.8000000000000003, penalty=l1, solver=liblinear ..............\n",
      "[CV]  C=2.8000000000000003, penalty=l1, solver=liblinear, total=   0.0s\n",
      "[CV] C=2.8000000000000003, penalty=l2, solver=newton-cg ..............\n",
      "[CV]  C=2.8000000000000003, penalty=l2, solver=newton-cg, total=   0.0s\n",
      "[CV] C=2.8000000000000003, penalty=l2, solver=newton-cg ..............\n",
      "[CV]  C=2.8000000000000003, penalty=l2, solver=newton-cg, total=   0.0s\n",
      "[CV] C=2.8000000000000003, penalty=l2, solver=newton-cg ..............\n",
      "[CV]  C=2.8000000000000003, penalty=l2, solver=newton-cg, total=   0.0s\n",
      "[CV] C=2.8000000000000003, penalty=l2, solver=newton-cg ..............\n",
      "[CV]  C=2.8000000000000003, penalty=l2, solver=newton-cg, total=   0.0s\n",
      "[CV] C=2.8000000000000003, penalty=l2, solver=newton-cg ..............\n",
      "[CV]  C=2.8000000000000003, penalty=l2, solver=newton-cg, total=   0.0s\n",
      "[CV] C=2.8000000000000003, penalty=l2, solver=lbfgs ..................\n",
      "[CV] ... C=2.8000000000000003, penalty=l2, solver=lbfgs, total=   0.0s\n",
      "[CV] C=2.8000000000000003, penalty=l2, solver=lbfgs ..................\n",
      "[CV] ... C=2.8000000000000003, penalty=l2, solver=lbfgs, total=   0.0s\n",
      "[CV] C=2.8000000000000003, penalty=l2, solver=lbfgs ..................\n",
      "[CV] ... C=2.8000000000000003, penalty=l2, solver=lbfgs, total=   0.0s\n",
      "[CV] C=2.8000000000000003, penalty=l2, solver=lbfgs ..................\n",
      "[CV] ... C=2.8000000000000003, penalty=l2, solver=lbfgs, total=   0.0s\n",
      "[CV] C=2.8000000000000003, penalty=l2, solver=lbfgs ..................\n",
      "[CV] ... C=2.8000000000000003, penalty=l2, solver=lbfgs, total=   0.0s\n",
      "[CV] C=2.8000000000000003, penalty=l2, solver=sag ....................\n",
      "[CV] ..... C=2.8000000000000003, penalty=l2, solver=sag, total=   0.1s\n",
      "[CV] C=2.8000000000000003, penalty=l2, solver=sag ....................\n",
      "[CV] ..... C=2.8000000000000003, penalty=l2, solver=sag, total=   0.1s\n",
      "[CV] C=2.8000000000000003, penalty=l2, solver=sag ....................\n",
      "[CV] ..... C=2.8000000000000003, penalty=l2, solver=sag, total=   0.1s\n",
      "[CV] C=2.8000000000000003, penalty=l2, solver=sag ....................\n",
      "[CV] ..... C=2.8000000000000003, penalty=l2, solver=sag, total=   0.1s\n",
      "[CV] C=2.8000000000000003, penalty=l2, solver=sag ....................\n",
      "[CV] ..... C=2.8000000000000003, penalty=l2, solver=sag, total=   0.1s\n",
      "[CV] C=2.8000000000000003, penalty=l2, solver=saga ...................\n",
      "[CV] .... C=2.8000000000000003, penalty=l2, solver=saga, total=   0.1s\n",
      "[CV] C=2.8000000000000003, penalty=l2, solver=saga ...................\n"
     ]
    },
    {
     "name": "stderr",
     "output_type": "stream",
     "text": [
      "E:\\Anaconda3\\lib\\site-packages\\sklearn\\linear_model\\_sag.py:330: ConvergenceWarning: The max_iter was reached which means the coef_ did not converge\n",
      "  \"the coef_ did not converge\", ConvergenceWarning)\n",
      "E:\\Anaconda3\\lib\\site-packages\\sklearn\\linear_model\\_sag.py:330: ConvergenceWarning: The max_iter was reached which means the coef_ did not converge\n",
      "  \"the coef_ did not converge\", ConvergenceWarning)\n"
     ]
    },
    {
     "name": "stdout",
     "output_type": "stream",
     "text": [
      "[CV] .... C=2.8000000000000003, penalty=l2, solver=saga, total=   0.1s\n",
      "[CV] C=2.8000000000000003, penalty=l2, solver=saga ...................\n",
      "[CV] .... C=2.8000000000000003, penalty=l2, solver=saga, total=   0.1s\n",
      "[CV] C=2.8000000000000003, penalty=l2, solver=saga ...................\n"
     ]
    },
    {
     "name": "stderr",
     "output_type": "stream",
     "text": [
      "E:\\Anaconda3\\lib\\site-packages\\sklearn\\linear_model\\_sag.py:330: ConvergenceWarning: The max_iter was reached which means the coef_ did not converge\n",
      "  \"the coef_ did not converge\", ConvergenceWarning)\n",
      "E:\\Anaconda3\\lib\\site-packages\\sklearn\\linear_model\\_sag.py:330: ConvergenceWarning: The max_iter was reached which means the coef_ did not converge\n",
      "  \"the coef_ did not converge\", ConvergenceWarning)\n"
     ]
    },
    {
     "name": "stdout",
     "output_type": "stream",
     "text": [
      "[CV] .... C=2.8000000000000003, penalty=l2, solver=saga, total=   0.1s\n",
      "[CV] C=2.8000000000000003, penalty=l2, solver=saga ...................\n",
      "[CV] .... C=2.8000000000000003, penalty=l2, solver=saga, total=   0.1s\n",
      "[CV] C=2.8000000000000003, penalty=l2, solver=liblinear ..............\n",
      "[CV]  C=2.8000000000000003, penalty=l2, solver=liblinear, total=   0.0s\n",
      "[CV] C=2.8000000000000003, penalty=l2, solver=liblinear ..............\n",
      "[CV]  C=2.8000000000000003, penalty=l2, solver=liblinear, total=   0.0s\n",
      "[CV] C=2.8000000000000003, penalty=l2, solver=liblinear ..............\n",
      "[CV]  C=2.8000000000000003, penalty=l2, solver=liblinear, total=   0.0s\n",
      "[CV] C=2.8000000000000003, penalty=l2, solver=liblinear ..............\n",
      "[CV]  C=2.8000000000000003, penalty=l2, solver=liblinear, total=   0.0s\n",
      "[CV] C=2.8000000000000003, penalty=l2, solver=liblinear ..............\n",
      "[CV]  C=2.8000000000000003, penalty=l2, solver=liblinear, total=   0.0s\n",
      "[CV] C=2.9000000000000004, penalty=l1, solver=newton-cg ..............\n",
      "[CV]  C=2.9000000000000004, penalty=l1, solver=newton-cg, total=   0.0s\n",
      "[CV] C=2.9000000000000004, penalty=l1, solver=newton-cg ..............\n",
      "[CV]  C=2.9000000000000004, penalty=l1, solver=newton-cg, total=   0.0s\n",
      "[CV] C=2.9000000000000004, penalty=l1, solver=newton-cg ..............\n",
      "[CV]  C=2.9000000000000004, penalty=l1, solver=newton-cg, total=   0.0s\n",
      "[CV] C=2.9000000000000004, penalty=l1, solver=newton-cg ..............\n",
      "[CV]  C=2.9000000000000004, penalty=l1, solver=newton-cg, total=   0.0s\n",
      "[CV] C=2.9000000000000004, penalty=l1, solver=newton-cg ..............\n",
      "[CV]  C=2.9000000000000004, penalty=l1, solver=newton-cg, total=   0.0s\n",
      "[CV] C=2.9000000000000004, penalty=l1, solver=lbfgs ..................\n",
      "[CV] ... C=2.9000000000000004, penalty=l1, solver=lbfgs, total=   0.0s\n",
      "[CV] C=2.9000000000000004, penalty=l1, solver=lbfgs ..................\n",
      "[CV] ... C=2.9000000000000004, penalty=l1, solver=lbfgs, total=   0.0s\n",
      "[CV] C=2.9000000000000004, penalty=l1, solver=lbfgs ..................\n",
      "[CV] ... C=2.9000000000000004, penalty=l1, solver=lbfgs, total=   0.0s\n",
      "[CV] C=2.9000000000000004, penalty=l1, solver=lbfgs ..................\n",
      "[CV] ... C=2.9000000000000004, penalty=l1, solver=lbfgs, total=   0.0s\n",
      "[CV] C=2.9000000000000004, penalty=l1, solver=lbfgs ..................\n",
      "[CV] ... C=2.9000000000000004, penalty=l1, solver=lbfgs, total=   0.0s\n",
      "[CV] C=2.9000000000000004, penalty=l1, solver=sag ....................\n",
      "[CV] ..... C=2.9000000000000004, penalty=l1, solver=sag, total=   0.0s\n",
      "[CV] C=2.9000000000000004, penalty=l1, solver=sag ....................\n",
      "[CV] ..... C=2.9000000000000004, penalty=l1, solver=sag, total=   0.0s\n",
      "[CV] C=2.9000000000000004, penalty=l1, solver=sag ....................\n",
      "[CV] ..... C=2.9000000000000004, penalty=l1, solver=sag, total=   0.0s\n",
      "[CV] C=2.9000000000000004, penalty=l1, solver=sag ....................\n",
      "[CV] ..... C=2.9000000000000004, penalty=l1, solver=sag, total=   0.0s\n",
      "[CV] C=2.9000000000000004, penalty=l1, solver=sag ....................\n",
      "[CV] ..... C=2.9000000000000004, penalty=l1, solver=sag, total=   0.0s\n",
      "[CV] C=2.9000000000000004, penalty=l1, solver=saga ...................\n"
     ]
    },
    {
     "name": "stderr",
     "output_type": "stream",
     "text": [
      "E:\\Anaconda3\\lib\\site-packages\\sklearn\\linear_model\\_sag.py:330: ConvergenceWarning: The max_iter was reached which means the coef_ did not converge\n",
      "  \"the coef_ did not converge\", ConvergenceWarning)\n",
      "E:\\Anaconda3\\lib\\site-packages\\sklearn\\model_selection\\_validation.py:536: FitFailedWarning: Estimator fit failed. The score on this train-test partition for these parameters will be set to nan. Details: \n",
      "ValueError: Solver newton-cg supports only 'l2' or 'none' penalties, got l1 penalty.\n",
      "\n",
      "  FitFailedWarning)\n",
      "E:\\Anaconda3\\lib\\site-packages\\sklearn\\model_selection\\_validation.py:536: FitFailedWarning: Estimator fit failed. The score on this train-test partition for these parameters will be set to nan. Details: \n",
      "ValueError: Solver lbfgs supports only 'l2' or 'none' penalties, got l1 penalty.\n",
      "\n",
      "  FitFailedWarning)\n",
      "E:\\Anaconda3\\lib\\site-packages\\sklearn\\model_selection\\_validation.py:536: FitFailedWarning: Estimator fit failed. The score on this train-test partition for these parameters will be set to nan. Details: \n",
      "ValueError: Solver sag supports only 'l2' or 'none' penalties, got l1 penalty.\n",
      "\n",
      "  FitFailedWarning)\n",
      "E:\\Anaconda3\\lib\\site-packages\\sklearn\\linear_model\\_sag.py:330: ConvergenceWarning: The max_iter was reached which means the coef_ did not converge\n",
      "  \"the coef_ did not converge\", ConvergenceWarning)\n"
     ]
    },
    {
     "name": "stdout",
     "output_type": "stream",
     "text": [
      "[CV] .... C=2.9000000000000004, penalty=l1, solver=saga, total=   0.1s\n",
      "[CV] C=2.9000000000000004, penalty=l1, solver=saga ...................\n",
      "[CV] .... C=2.9000000000000004, penalty=l1, solver=saga, total=   0.1s\n",
      "[CV] C=2.9000000000000004, penalty=l1, solver=saga ...................\n"
     ]
    },
    {
     "name": "stderr",
     "output_type": "stream",
     "text": [
      "E:\\Anaconda3\\lib\\site-packages\\sklearn\\linear_model\\_sag.py:330: ConvergenceWarning: The max_iter was reached which means the coef_ did not converge\n",
      "  \"the coef_ did not converge\", ConvergenceWarning)\n",
      "E:\\Anaconda3\\lib\\site-packages\\sklearn\\linear_model\\_sag.py:330: ConvergenceWarning: The max_iter was reached which means the coef_ did not converge\n",
      "  \"the coef_ did not converge\", ConvergenceWarning)\n"
     ]
    },
    {
     "name": "stdout",
     "output_type": "stream",
     "text": [
      "[CV] .... C=2.9000000000000004, penalty=l1, solver=saga, total=   0.1s\n",
      "[CV] C=2.9000000000000004, penalty=l1, solver=saga ...................\n",
      "[CV] .... C=2.9000000000000004, penalty=l1, solver=saga, total=   0.1s\n",
      "[CV] C=2.9000000000000004, penalty=l1, solver=saga ...................\n"
     ]
    },
    {
     "name": "stderr",
     "output_type": "stream",
     "text": [
      "E:\\Anaconda3\\lib\\site-packages\\sklearn\\linear_model\\_sag.py:330: ConvergenceWarning: The max_iter was reached which means the coef_ did not converge\n",
      "  \"the coef_ did not converge\", ConvergenceWarning)\n",
      "E:\\Anaconda3\\lib\\site-packages\\sklearn\\linear_model\\_sag.py:330: ConvergenceWarning: The max_iter was reached which means the coef_ did not converge\n",
      "  \"the coef_ did not converge\", ConvergenceWarning)\n"
     ]
    },
    {
     "name": "stdout",
     "output_type": "stream",
     "text": [
      "[CV] .... C=2.9000000000000004, penalty=l1, solver=saga, total=   0.1s\n",
      "[CV] C=2.9000000000000004, penalty=l1, solver=liblinear ..............\n",
      "[CV]  C=2.9000000000000004, penalty=l1, solver=liblinear, total=   0.0s\n",
      "[CV] C=2.9000000000000004, penalty=l1, solver=liblinear ..............\n",
      "[CV]  C=2.9000000000000004, penalty=l1, solver=liblinear, total=   0.0s\n",
      "[CV] C=2.9000000000000004, penalty=l1, solver=liblinear ..............\n",
      "[CV]  C=2.9000000000000004, penalty=l1, solver=liblinear, total=   0.0s\n",
      "[CV] C=2.9000000000000004, penalty=l1, solver=liblinear ..............\n",
      "[CV]  C=2.9000000000000004, penalty=l1, solver=liblinear, total=   0.0s\n",
      "[CV] C=2.9000000000000004, penalty=l1, solver=liblinear ..............\n",
      "[CV]  C=2.9000000000000004, penalty=l1, solver=liblinear, total=   0.0s\n",
      "[CV] C=2.9000000000000004, penalty=l2, solver=newton-cg ..............\n",
      "[CV]  C=2.9000000000000004, penalty=l2, solver=newton-cg, total=   0.0s\n",
      "[CV] C=2.9000000000000004, penalty=l2, solver=newton-cg ..............\n",
      "[CV]  C=2.9000000000000004, penalty=l2, solver=newton-cg, total=   0.0s\n",
      "[CV] C=2.9000000000000004, penalty=l2, solver=newton-cg ..............\n",
      "[CV]  C=2.9000000000000004, penalty=l2, solver=newton-cg, total=   0.0s\n",
      "[CV] C=2.9000000000000004, penalty=l2, solver=newton-cg ..............\n",
      "[CV]  C=2.9000000000000004, penalty=l2, solver=newton-cg, total=   0.0s\n",
      "[CV] C=2.9000000000000004, penalty=l2, solver=newton-cg ..............\n",
      "[CV]  C=2.9000000000000004, penalty=l2, solver=newton-cg, total=   0.0s\n",
      "[CV] C=2.9000000000000004, penalty=l2, solver=lbfgs ..................\n",
      "[CV] ... C=2.9000000000000004, penalty=l2, solver=lbfgs, total=   0.0s\n",
      "[CV] C=2.9000000000000004, penalty=l2, solver=lbfgs ..................\n",
      "[CV] ... C=2.9000000000000004, penalty=l2, solver=lbfgs, total=   0.0s\n",
      "[CV] C=2.9000000000000004, penalty=l2, solver=lbfgs ..................\n",
      "[CV] ... C=2.9000000000000004, penalty=l2, solver=lbfgs, total=   0.0s\n",
      "[CV] C=2.9000000000000004, penalty=l2, solver=lbfgs ..................\n",
      "[CV] ... C=2.9000000000000004, penalty=l2, solver=lbfgs, total=   0.0s\n",
      "[CV] C=2.9000000000000004, penalty=l2, solver=lbfgs ..................\n",
      "[CV] ... C=2.9000000000000004, penalty=l2, solver=lbfgs, total=   0.0s\n",
      "[CV] C=2.9000000000000004, penalty=l2, solver=sag ....................\n",
      "[CV] ..... C=2.9000000000000004, penalty=l2, solver=sag, total=   0.1s\n",
      "[CV] C=2.9000000000000004, penalty=l2, solver=sag ....................\n",
      "[CV] ..... C=2.9000000000000004, penalty=l2, solver=sag, total=   0.1s\n",
      "[CV] C=2.9000000000000004, penalty=l2, solver=sag ....................\n",
      "[CV] ..... C=2.9000000000000004, penalty=l2, solver=sag, total=   0.1s\n",
      "[CV] C=2.9000000000000004, penalty=l2, solver=sag ....................\n",
      "[CV] ..... C=2.9000000000000004, penalty=l2, solver=sag, total=   0.1s\n",
      "[CV] C=2.9000000000000004, penalty=l2, solver=sag ....................\n",
      "[CV] ..... C=2.9000000000000004, penalty=l2, solver=sag, total=   0.1s\n",
      "[CV] C=2.9000000000000004, penalty=l2, solver=saga ...................\n",
      "[CV] .... C=2.9000000000000004, penalty=l2, solver=saga, total=   0.1s\n",
      "[CV] C=2.9000000000000004, penalty=l2, solver=saga ...................\n"
     ]
    },
    {
     "name": "stderr",
     "output_type": "stream",
     "text": [
      "E:\\Anaconda3\\lib\\site-packages\\sklearn\\linear_model\\_sag.py:330: ConvergenceWarning: The max_iter was reached which means the coef_ did not converge\n",
      "  \"the coef_ did not converge\", ConvergenceWarning)\n",
      "E:\\Anaconda3\\lib\\site-packages\\sklearn\\linear_model\\_sag.py:330: ConvergenceWarning: The max_iter was reached which means the coef_ did not converge\n",
      "  \"the coef_ did not converge\", ConvergenceWarning)\n"
     ]
    },
    {
     "name": "stdout",
     "output_type": "stream",
     "text": [
      "[CV] .... C=2.9000000000000004, penalty=l2, solver=saga, total=   0.1s\n",
      "[CV] C=2.9000000000000004, penalty=l2, solver=saga ...................\n",
      "[CV] .... C=2.9000000000000004, penalty=l2, solver=saga, total=   0.1s\n",
      "[CV] C=2.9000000000000004, penalty=l2, solver=saga ...................\n"
     ]
    },
    {
     "name": "stderr",
     "output_type": "stream",
     "text": [
      "E:\\Anaconda3\\lib\\site-packages\\sklearn\\linear_model\\_sag.py:330: ConvergenceWarning: The max_iter was reached which means the coef_ did not converge\n",
      "  \"the coef_ did not converge\", ConvergenceWarning)\n",
      "E:\\Anaconda3\\lib\\site-packages\\sklearn\\linear_model\\_sag.py:330: ConvergenceWarning: The max_iter was reached which means the coef_ did not converge\n",
      "  \"the coef_ did not converge\", ConvergenceWarning)\n"
     ]
    },
    {
     "name": "stdout",
     "output_type": "stream",
     "text": [
      "[CV] .... C=2.9000000000000004, penalty=l2, solver=saga, total=   0.1s\n",
      "[CV] C=2.9000000000000004, penalty=l2, solver=saga ...................\n",
      "[CV] .... C=2.9000000000000004, penalty=l2, solver=saga, total=   0.1s\n",
      "[CV] C=2.9000000000000004, penalty=l2, solver=liblinear ..............\n",
      "[CV]  C=2.9000000000000004, penalty=l2, solver=liblinear, total=   0.0s\n",
      "[CV] C=2.9000000000000004, penalty=l2, solver=liblinear ..............\n",
      "[CV]  C=2.9000000000000004, penalty=l2, solver=liblinear, total=   0.0s\n",
      "[CV] C=2.9000000000000004, penalty=l2, solver=liblinear ..............\n",
      "[CV]  C=2.9000000000000004, penalty=l2, solver=liblinear, total=   0.0s\n",
      "[CV] C=2.9000000000000004, penalty=l2, solver=liblinear ..............\n",
      "[CV]  C=2.9000000000000004, penalty=l2, solver=liblinear, total=   0.0s\n",
      "[CV] C=2.9000000000000004, penalty=l2, solver=liblinear ..............\n",
      "[CV]  C=2.9000000000000004, penalty=l2, solver=liblinear, total=   0.0s\n",
      "[CV] C=3.0000000000000004, penalty=l1, solver=newton-cg ..............\n",
      "[CV]  C=3.0000000000000004, penalty=l1, solver=newton-cg, total=   0.0s\n",
      "[CV] C=3.0000000000000004, penalty=l1, solver=newton-cg ..............\n",
      "[CV]  C=3.0000000000000004, penalty=l1, solver=newton-cg, total=   0.0s\n",
      "[CV] C=3.0000000000000004, penalty=l1, solver=newton-cg ..............\n",
      "[CV]  C=3.0000000000000004, penalty=l1, solver=newton-cg, total=   0.0s\n",
      "[CV] C=3.0000000000000004, penalty=l1, solver=newton-cg ..............\n",
      "[CV]  C=3.0000000000000004, penalty=l1, solver=newton-cg, total=   0.0s\n",
      "[CV] C=3.0000000000000004, penalty=l1, solver=newton-cg ..............\n",
      "[CV]  C=3.0000000000000004, penalty=l1, solver=newton-cg, total=   0.0s\n",
      "[CV] C=3.0000000000000004, penalty=l1, solver=lbfgs ..................\n",
      "[CV] ... C=3.0000000000000004, penalty=l1, solver=lbfgs, total=   0.0s\n",
      "[CV] C=3.0000000000000004, penalty=l1, solver=lbfgs ..................\n",
      "[CV] ... C=3.0000000000000004, penalty=l1, solver=lbfgs, total=   0.0s\n",
      "[CV] C=3.0000000000000004, penalty=l1, solver=lbfgs ..................\n",
      "[CV] ... C=3.0000000000000004, penalty=l1, solver=lbfgs, total=   0.0s\n",
      "[CV] C=3.0000000000000004, penalty=l1, solver=lbfgs ..................\n",
      "[CV] ... C=3.0000000000000004, penalty=l1, solver=lbfgs, total=   0.0s\n",
      "[CV] C=3.0000000000000004, penalty=l1, solver=lbfgs ..................\n",
      "[CV] ... C=3.0000000000000004, penalty=l1, solver=lbfgs, total=   0.0s\n",
      "[CV] C=3.0000000000000004, penalty=l1, solver=sag ....................\n",
      "[CV] ..... C=3.0000000000000004, penalty=l1, solver=sag, total=   0.0s\n",
      "[CV] C=3.0000000000000004, penalty=l1, solver=sag ....................\n",
      "[CV] ..... C=3.0000000000000004, penalty=l1, solver=sag, total=   0.0s\n",
      "[CV] C=3.0000000000000004, penalty=l1, solver=sag ....................\n",
      "[CV] ..... C=3.0000000000000004, penalty=l1, solver=sag, total=   0.0s\n",
      "[CV] C=3.0000000000000004, penalty=l1, solver=sag ....................\n",
      "[CV] ..... C=3.0000000000000004, penalty=l1, solver=sag, total=   0.0s\n",
      "[CV] C=3.0000000000000004, penalty=l1, solver=sag ....................\n",
      "[CV] ..... C=3.0000000000000004, penalty=l1, solver=sag, total=   0.0s\n",
      "[CV] C=3.0000000000000004, penalty=l1, solver=saga ...................\n"
     ]
    },
    {
     "name": "stderr",
     "output_type": "stream",
     "text": [
      "E:\\Anaconda3\\lib\\site-packages\\sklearn\\linear_model\\_sag.py:330: ConvergenceWarning: The max_iter was reached which means the coef_ did not converge\n",
      "  \"the coef_ did not converge\", ConvergenceWarning)\n",
      "E:\\Anaconda3\\lib\\site-packages\\sklearn\\model_selection\\_validation.py:536: FitFailedWarning: Estimator fit failed. The score on this train-test partition for these parameters will be set to nan. Details: \n",
      "ValueError: Solver newton-cg supports only 'l2' or 'none' penalties, got l1 penalty.\n",
      "\n",
      "  FitFailedWarning)\n",
      "E:\\Anaconda3\\lib\\site-packages\\sklearn\\model_selection\\_validation.py:536: FitFailedWarning: Estimator fit failed. The score on this train-test partition for these parameters will be set to nan. Details: \n",
      "ValueError: Solver lbfgs supports only 'l2' or 'none' penalties, got l1 penalty.\n",
      "\n",
      "  FitFailedWarning)\n",
      "E:\\Anaconda3\\lib\\site-packages\\sklearn\\model_selection\\_validation.py:536: FitFailedWarning: Estimator fit failed. The score on this train-test partition for these parameters will be set to nan. Details: \n",
      "ValueError: Solver sag supports only 'l2' or 'none' penalties, got l1 penalty.\n",
      "\n",
      "  FitFailedWarning)\n",
      "E:\\Anaconda3\\lib\\site-packages\\sklearn\\linear_model\\_sag.py:330: ConvergenceWarning: The max_iter was reached which means the coef_ did not converge\n",
      "  \"the coef_ did not converge\", ConvergenceWarning)\n"
     ]
    },
    {
     "name": "stdout",
     "output_type": "stream",
     "text": [
      "[CV] .... C=3.0000000000000004, penalty=l1, solver=saga, total=   0.1s\n",
      "[CV] C=3.0000000000000004, penalty=l1, solver=saga ...................\n",
      "[CV] .... C=3.0000000000000004, penalty=l1, solver=saga, total=   0.1s\n",
      "[CV] C=3.0000000000000004, penalty=l1, solver=saga ...................\n"
     ]
    },
    {
     "name": "stderr",
     "output_type": "stream",
     "text": [
      "E:\\Anaconda3\\lib\\site-packages\\sklearn\\linear_model\\_sag.py:330: ConvergenceWarning: The max_iter was reached which means the coef_ did not converge\n",
      "  \"the coef_ did not converge\", ConvergenceWarning)\n",
      "E:\\Anaconda3\\lib\\site-packages\\sklearn\\linear_model\\_sag.py:330: ConvergenceWarning: The max_iter was reached which means the coef_ did not converge\n",
      "  \"the coef_ did not converge\", ConvergenceWarning)\n"
     ]
    },
    {
     "name": "stdout",
     "output_type": "stream",
     "text": [
      "[CV] .... C=3.0000000000000004, penalty=l1, solver=saga, total=   0.1s\n",
      "[CV] C=3.0000000000000004, penalty=l1, solver=saga ...................\n",
      "[CV] .... C=3.0000000000000004, penalty=l1, solver=saga, total=   0.1s\n",
      "[CV] C=3.0000000000000004, penalty=l1, solver=saga ...................\n"
     ]
    },
    {
     "name": "stderr",
     "output_type": "stream",
     "text": [
      "E:\\Anaconda3\\lib\\site-packages\\sklearn\\linear_model\\_sag.py:330: ConvergenceWarning: The max_iter was reached which means the coef_ did not converge\n",
      "  \"the coef_ did not converge\", ConvergenceWarning)\n",
      "E:\\Anaconda3\\lib\\site-packages\\sklearn\\linear_model\\_sag.py:330: ConvergenceWarning: The max_iter was reached which means the coef_ did not converge\n",
      "  \"the coef_ did not converge\", ConvergenceWarning)\n"
     ]
    },
    {
     "name": "stdout",
     "output_type": "stream",
     "text": [
      "[CV] .... C=3.0000000000000004, penalty=l1, solver=saga, total=   0.1s\n",
      "[CV] C=3.0000000000000004, penalty=l1, solver=liblinear ..............\n",
      "[CV]  C=3.0000000000000004, penalty=l1, solver=liblinear, total=   0.0s\n",
      "[CV] C=3.0000000000000004, penalty=l1, solver=liblinear ..............\n",
      "[CV]  C=3.0000000000000004, penalty=l1, solver=liblinear, total=   0.0s\n",
      "[CV] C=3.0000000000000004, penalty=l1, solver=liblinear ..............\n",
      "[CV]  C=3.0000000000000004, penalty=l1, solver=liblinear, total=   0.0s\n",
      "[CV] C=3.0000000000000004, penalty=l1, solver=liblinear ..............\n",
      "[CV]  C=3.0000000000000004, penalty=l1, solver=liblinear, total=   0.0s\n",
      "[CV] C=3.0000000000000004, penalty=l1, solver=liblinear ..............\n",
      "[CV]  C=3.0000000000000004, penalty=l1, solver=liblinear, total=   0.0s\n",
      "[CV] C=3.0000000000000004, penalty=l2, solver=newton-cg ..............\n",
      "[CV]  C=3.0000000000000004, penalty=l2, solver=newton-cg, total=   0.0s\n",
      "[CV] C=3.0000000000000004, penalty=l2, solver=newton-cg ..............\n",
      "[CV]  C=3.0000000000000004, penalty=l2, solver=newton-cg, total=   0.0s\n",
      "[CV] C=3.0000000000000004, penalty=l2, solver=newton-cg ..............\n",
      "[CV]  C=3.0000000000000004, penalty=l2, solver=newton-cg, total=   0.0s\n",
      "[CV] C=3.0000000000000004, penalty=l2, solver=newton-cg ..............\n",
      "[CV]  C=3.0000000000000004, penalty=l2, solver=newton-cg, total=   0.0s\n",
      "[CV] C=3.0000000000000004, penalty=l2, solver=newton-cg ..............\n",
      "[CV]  C=3.0000000000000004, penalty=l2, solver=newton-cg, total=   0.0s\n",
      "[CV] C=3.0000000000000004, penalty=l2, solver=lbfgs ..................\n",
      "[CV] ... C=3.0000000000000004, penalty=l2, solver=lbfgs, total=   0.0s\n",
      "[CV] C=3.0000000000000004, penalty=l2, solver=lbfgs ..................\n",
      "[CV] ... C=3.0000000000000004, penalty=l2, solver=lbfgs, total=   0.0s\n",
      "[CV] C=3.0000000000000004, penalty=l2, solver=lbfgs ..................\n",
      "[CV] ... C=3.0000000000000004, penalty=l2, solver=lbfgs, total=   0.0s\n",
      "[CV] C=3.0000000000000004, penalty=l2, solver=lbfgs ..................\n",
      "[CV] ... C=3.0000000000000004, penalty=l2, solver=lbfgs, total=   0.0s\n",
      "[CV] C=3.0000000000000004, penalty=l2, solver=lbfgs ..................\n",
      "[CV] ... C=3.0000000000000004, penalty=l2, solver=lbfgs, total=   0.0s\n",
      "[CV] C=3.0000000000000004, penalty=l2, solver=sag ....................\n",
      "[CV] ..... C=3.0000000000000004, penalty=l2, solver=sag, total=   0.1s\n",
      "[CV] C=3.0000000000000004, penalty=l2, solver=sag ....................\n",
      "[CV] ..... C=3.0000000000000004, penalty=l2, solver=sag, total=   0.1s\n",
      "[CV] C=3.0000000000000004, penalty=l2, solver=sag ....................\n",
      "[CV] ..... C=3.0000000000000004, penalty=l2, solver=sag, total=   0.1s\n",
      "[CV] C=3.0000000000000004, penalty=l2, solver=sag ....................\n",
      "[CV] ..... C=3.0000000000000004, penalty=l2, solver=sag, total=   0.1s\n",
      "[CV] C=3.0000000000000004, penalty=l2, solver=sag ....................\n",
      "[CV] ..... C=3.0000000000000004, penalty=l2, solver=sag, total=   0.1s\n",
      "[CV] C=3.0000000000000004, penalty=l2, solver=saga ...................\n",
      "[CV] .... C=3.0000000000000004, penalty=l2, solver=saga, total=   0.1s\n",
      "[CV] C=3.0000000000000004, penalty=l2, solver=saga ...................\n"
     ]
    },
    {
     "name": "stderr",
     "output_type": "stream",
     "text": [
      "E:\\Anaconda3\\lib\\site-packages\\sklearn\\linear_model\\_sag.py:330: ConvergenceWarning: The max_iter was reached which means the coef_ did not converge\n",
      "  \"the coef_ did not converge\", ConvergenceWarning)\n",
      "E:\\Anaconda3\\lib\\site-packages\\sklearn\\linear_model\\_sag.py:330: ConvergenceWarning: The max_iter was reached which means the coef_ did not converge\n",
      "  \"the coef_ did not converge\", ConvergenceWarning)\n"
     ]
    },
    {
     "name": "stdout",
     "output_type": "stream",
     "text": [
      "[CV] .... C=3.0000000000000004, penalty=l2, solver=saga, total=   0.1s\n",
      "[CV] C=3.0000000000000004, penalty=l2, solver=saga ...................\n",
      "[CV] .... C=3.0000000000000004, penalty=l2, solver=saga, total=   0.1s\n",
      "[CV] C=3.0000000000000004, penalty=l2, solver=saga ...................\n"
     ]
    },
    {
     "name": "stderr",
     "output_type": "stream",
     "text": [
      "E:\\Anaconda3\\lib\\site-packages\\sklearn\\linear_model\\_sag.py:330: ConvergenceWarning: The max_iter was reached which means the coef_ did not converge\n",
      "  \"the coef_ did not converge\", ConvergenceWarning)\n",
      "E:\\Anaconda3\\lib\\site-packages\\sklearn\\linear_model\\_sag.py:330: ConvergenceWarning: The max_iter was reached which means the coef_ did not converge\n",
      "  \"the coef_ did not converge\", ConvergenceWarning)\n"
     ]
    },
    {
     "name": "stdout",
     "output_type": "stream",
     "text": [
      "[CV] .... C=3.0000000000000004, penalty=l2, solver=saga, total=   0.1s\n",
      "[CV] C=3.0000000000000004, penalty=l2, solver=saga ...................\n",
      "[CV] .... C=3.0000000000000004, penalty=l2, solver=saga, total=   0.1s\n",
      "[CV] C=3.0000000000000004, penalty=l2, solver=liblinear ..............\n",
      "[CV]  C=3.0000000000000004, penalty=l2, solver=liblinear, total=   0.0s\n",
      "[CV] C=3.0000000000000004, penalty=l2, solver=liblinear ..............\n",
      "[CV]  C=3.0000000000000004, penalty=l2, solver=liblinear, total=   0.0s\n",
      "[CV] C=3.0000000000000004, penalty=l2, solver=liblinear ..............\n",
      "[CV]  C=3.0000000000000004, penalty=l2, solver=liblinear, total=   0.0s\n",
      "[CV] C=3.0000000000000004, penalty=l2, solver=liblinear ..............\n",
      "[CV]  C=3.0000000000000004, penalty=l2, solver=liblinear, total=   0.0s\n",
      "[CV] C=3.0000000000000004, penalty=l2, solver=liblinear ..............\n",
      "[CV]  C=3.0000000000000004, penalty=l2, solver=liblinear, total=   0.0s\n",
      "[CV] C=3.1, penalty=l1, solver=newton-cg .............................\n",
      "[CV] .............. C=3.1, penalty=l1, solver=newton-cg, total=   0.0s\n",
      "[CV] C=3.1, penalty=l1, solver=newton-cg .............................\n",
      "[CV] .............. C=3.1, penalty=l1, solver=newton-cg, total=   0.0s\n",
      "[CV] C=3.1, penalty=l1, solver=newton-cg .............................\n",
      "[CV] .............. C=3.1, penalty=l1, solver=newton-cg, total=   0.0s\n",
      "[CV] C=3.1, penalty=l1, solver=newton-cg .............................\n",
      "[CV] .............. C=3.1, penalty=l1, solver=newton-cg, total=   0.0s\n",
      "[CV] C=3.1, penalty=l1, solver=newton-cg .............................\n",
      "[CV] .............. C=3.1, penalty=l1, solver=newton-cg, total=   0.0s\n",
      "[CV] C=3.1, penalty=l1, solver=lbfgs .................................\n",
      "[CV] .................. C=3.1, penalty=l1, solver=lbfgs, total=   0.0s\n",
      "[CV] C=3.1, penalty=l1, solver=lbfgs .................................\n",
      "[CV] .................. C=3.1, penalty=l1, solver=lbfgs, total=   0.0s\n",
      "[CV] C=3.1, penalty=l1, solver=lbfgs .................................\n",
      "[CV] .................. C=3.1, penalty=l1, solver=lbfgs, total=   0.0s\n",
      "[CV] C=3.1, penalty=l1, solver=lbfgs .................................\n",
      "[CV] .................. C=3.1, penalty=l1, solver=lbfgs, total=   0.0s\n",
      "[CV] C=3.1, penalty=l1, solver=lbfgs .................................\n",
      "[CV] .................. C=3.1, penalty=l1, solver=lbfgs, total=   0.0s\n",
      "[CV] C=3.1, penalty=l1, solver=sag ...................................\n",
      "[CV] .................... C=3.1, penalty=l1, solver=sag, total=   0.0s\n",
      "[CV] C=3.1, penalty=l1, solver=sag ...................................\n",
      "[CV] .................... C=3.1, penalty=l1, solver=sag, total=   0.0s\n",
      "[CV] C=3.1, penalty=l1, solver=sag ...................................\n",
      "[CV] .................... C=3.1, penalty=l1, solver=sag, total=   0.0s\n",
      "[CV] C=3.1, penalty=l1, solver=sag ...................................\n",
      "[CV] .................... C=3.1, penalty=l1, solver=sag, total=   0.0s\n",
      "[CV] C=3.1, penalty=l1, solver=sag ...................................\n",
      "[CV] .................... C=3.1, penalty=l1, solver=sag, total=   0.0s\n",
      "[CV] C=3.1, penalty=l1, solver=saga ..................................\n"
     ]
    },
    {
     "name": "stderr",
     "output_type": "stream",
     "text": [
      "E:\\Anaconda3\\lib\\site-packages\\sklearn\\linear_model\\_sag.py:330: ConvergenceWarning: The max_iter was reached which means the coef_ did not converge\n",
      "  \"the coef_ did not converge\", ConvergenceWarning)\n",
      "E:\\Anaconda3\\lib\\site-packages\\sklearn\\model_selection\\_validation.py:536: FitFailedWarning: Estimator fit failed. The score on this train-test partition for these parameters will be set to nan. Details: \n",
      "ValueError: Solver newton-cg supports only 'l2' or 'none' penalties, got l1 penalty.\n",
      "\n",
      "  FitFailedWarning)\n",
      "E:\\Anaconda3\\lib\\site-packages\\sklearn\\model_selection\\_validation.py:536: FitFailedWarning: Estimator fit failed. The score on this train-test partition for these parameters will be set to nan. Details: \n",
      "ValueError: Solver lbfgs supports only 'l2' or 'none' penalties, got l1 penalty.\n",
      "\n",
      "  FitFailedWarning)\n",
      "E:\\Anaconda3\\lib\\site-packages\\sklearn\\model_selection\\_validation.py:536: FitFailedWarning: Estimator fit failed. The score on this train-test partition for these parameters will be set to nan. Details: \n",
      "ValueError: Solver sag supports only 'l2' or 'none' penalties, got l1 penalty.\n",
      "\n",
      "  FitFailedWarning)\n",
      "E:\\Anaconda3\\lib\\site-packages\\sklearn\\linear_model\\_sag.py:330: ConvergenceWarning: The max_iter was reached which means the coef_ did not converge\n",
      "  \"the coef_ did not converge\", ConvergenceWarning)\n"
     ]
    },
    {
     "name": "stdout",
     "output_type": "stream",
     "text": [
      "[CV] ................... C=3.1, penalty=l1, solver=saga, total=   0.1s\n",
      "[CV] C=3.1, penalty=l1, solver=saga ..................................\n",
      "[CV] ................... C=3.1, penalty=l1, solver=saga, total=   0.1s\n",
      "[CV] C=3.1, penalty=l1, solver=saga ..................................\n"
     ]
    },
    {
     "name": "stderr",
     "output_type": "stream",
     "text": [
      "E:\\Anaconda3\\lib\\site-packages\\sklearn\\linear_model\\_sag.py:330: ConvergenceWarning: The max_iter was reached which means the coef_ did not converge\n",
      "  \"the coef_ did not converge\", ConvergenceWarning)\n",
      "E:\\Anaconda3\\lib\\site-packages\\sklearn\\linear_model\\_sag.py:330: ConvergenceWarning: The max_iter was reached which means the coef_ did not converge\n",
      "  \"the coef_ did not converge\", ConvergenceWarning)\n"
     ]
    },
    {
     "name": "stdout",
     "output_type": "stream",
     "text": [
      "[CV] ................... C=3.1, penalty=l1, solver=saga, total=   0.1s\n",
      "[CV] C=3.1, penalty=l1, solver=saga ..................................\n",
      "[CV] ................... C=3.1, penalty=l1, solver=saga, total=   0.1s\n",
      "[CV] C=3.1, penalty=l1, solver=saga ..................................\n"
     ]
    },
    {
     "name": "stderr",
     "output_type": "stream",
     "text": [
      "E:\\Anaconda3\\lib\\site-packages\\sklearn\\linear_model\\_sag.py:330: ConvergenceWarning: The max_iter was reached which means the coef_ did not converge\n",
      "  \"the coef_ did not converge\", ConvergenceWarning)\n",
      "E:\\Anaconda3\\lib\\site-packages\\sklearn\\linear_model\\_sag.py:330: ConvergenceWarning: The max_iter was reached which means the coef_ did not converge\n",
      "  \"the coef_ did not converge\", ConvergenceWarning)\n"
     ]
    },
    {
     "name": "stdout",
     "output_type": "stream",
     "text": [
      "[CV] ................... C=3.1, penalty=l1, solver=saga, total=   0.1s\n",
      "[CV] C=3.1, penalty=l1, solver=liblinear .............................\n",
      "[CV] .............. C=3.1, penalty=l1, solver=liblinear, total=   0.0s\n",
      "[CV] C=3.1, penalty=l1, solver=liblinear .............................\n",
      "[CV] .............. C=3.1, penalty=l1, solver=liblinear, total=   0.0s\n",
      "[CV] C=3.1, penalty=l1, solver=liblinear .............................\n",
      "[CV] .............. C=3.1, penalty=l1, solver=liblinear, total=   0.0s\n",
      "[CV] C=3.1, penalty=l1, solver=liblinear .............................\n",
      "[CV] .............. C=3.1, penalty=l1, solver=liblinear, total=   0.0s\n",
      "[CV] C=3.1, penalty=l1, solver=liblinear .............................\n",
      "[CV] .............. C=3.1, penalty=l1, solver=liblinear, total=   0.0s\n",
      "[CV] C=3.1, penalty=l2, solver=newton-cg .............................\n",
      "[CV] .............. C=3.1, penalty=l2, solver=newton-cg, total=   0.0s\n",
      "[CV] C=3.1, penalty=l2, solver=newton-cg .............................\n",
      "[CV] .............. C=3.1, penalty=l2, solver=newton-cg, total=   0.0s\n",
      "[CV] C=3.1, penalty=l2, solver=newton-cg .............................\n",
      "[CV] .............. C=3.1, penalty=l2, solver=newton-cg, total=   0.0s\n",
      "[CV] C=3.1, penalty=l2, solver=newton-cg .............................\n",
      "[CV] .............. C=3.1, penalty=l2, solver=newton-cg, total=   0.0s\n",
      "[CV] C=3.1, penalty=l2, solver=newton-cg .............................\n",
      "[CV] .............. C=3.1, penalty=l2, solver=newton-cg, total=   0.0s\n",
      "[CV] C=3.1, penalty=l2, solver=lbfgs .................................\n",
      "[CV] .................. C=3.1, penalty=l2, solver=lbfgs, total=   0.0s\n",
      "[CV] C=3.1, penalty=l2, solver=lbfgs .................................\n",
      "[CV] .................. C=3.1, penalty=l2, solver=lbfgs, total=   0.0s\n",
      "[CV] C=3.1, penalty=l2, solver=lbfgs .................................\n",
      "[CV] .................. C=3.1, penalty=l2, solver=lbfgs, total=   0.0s\n",
      "[CV] C=3.1, penalty=l2, solver=lbfgs .................................\n",
      "[CV] .................. C=3.1, penalty=l2, solver=lbfgs, total=   0.0s\n",
      "[CV] C=3.1, penalty=l2, solver=lbfgs .................................\n",
      "[CV] .................. C=3.1, penalty=l2, solver=lbfgs, total=   0.0s\n",
      "[CV] C=3.1, penalty=l2, solver=sag ...................................\n",
      "[CV] .................... C=3.1, penalty=l2, solver=sag, total=   0.1s\n",
      "[CV] C=3.1, penalty=l2, solver=sag ...................................\n",
      "[CV] .................... C=3.1, penalty=l2, solver=sag, total=   0.1s\n",
      "[CV] C=3.1, penalty=l2, solver=sag ...................................\n",
      "[CV] .................... C=3.1, penalty=l2, solver=sag, total=   0.1s\n",
      "[CV] C=3.1, penalty=l2, solver=sag ...................................\n",
      "[CV] .................... C=3.1, penalty=l2, solver=sag, total=   0.1s\n",
      "[CV] C=3.1, penalty=l2, solver=sag ...................................\n",
      "[CV] .................... C=3.1, penalty=l2, solver=sag, total=   0.1s\n",
      "[CV] C=3.1, penalty=l2, solver=saga ..................................\n",
      "[CV] ................... C=3.1, penalty=l2, solver=saga, total=   0.1s\n",
      "[CV] C=3.1, penalty=l2, solver=saga ..................................\n"
     ]
    },
    {
     "name": "stderr",
     "output_type": "stream",
     "text": [
      "E:\\Anaconda3\\lib\\site-packages\\sklearn\\linear_model\\_sag.py:330: ConvergenceWarning: The max_iter was reached which means the coef_ did not converge\n",
      "  \"the coef_ did not converge\", ConvergenceWarning)\n",
      "E:\\Anaconda3\\lib\\site-packages\\sklearn\\linear_model\\_sag.py:330: ConvergenceWarning: The max_iter was reached which means the coef_ did not converge\n",
      "  \"the coef_ did not converge\", ConvergenceWarning)\n"
     ]
    },
    {
     "name": "stdout",
     "output_type": "stream",
     "text": [
      "[CV] ................... C=3.1, penalty=l2, solver=saga, total=   0.1s\n",
      "[CV] C=3.1, penalty=l2, solver=saga ..................................\n",
      "[CV] ................... C=3.1, penalty=l2, solver=saga, total=   0.1s\n",
      "[CV] C=3.1, penalty=l2, solver=saga ..................................\n"
     ]
    },
    {
     "name": "stderr",
     "output_type": "stream",
     "text": [
      "E:\\Anaconda3\\lib\\site-packages\\sklearn\\linear_model\\_sag.py:330: ConvergenceWarning: The max_iter was reached which means the coef_ did not converge\n",
      "  \"the coef_ did not converge\", ConvergenceWarning)\n",
      "E:\\Anaconda3\\lib\\site-packages\\sklearn\\linear_model\\_sag.py:330: ConvergenceWarning: The max_iter was reached which means the coef_ did not converge\n",
      "  \"the coef_ did not converge\", ConvergenceWarning)\n"
     ]
    },
    {
     "name": "stdout",
     "output_type": "stream",
     "text": [
      "[CV] ................... C=3.1, penalty=l2, solver=saga, total=   0.1s\n",
      "[CV] C=3.1, penalty=l2, solver=saga ..................................\n",
      "[CV] ................... C=3.1, penalty=l2, solver=saga, total=   0.1s\n",
      "[CV] C=3.1, penalty=l2, solver=liblinear .............................\n",
      "[CV] .............. C=3.1, penalty=l2, solver=liblinear, total=   0.0s\n",
      "[CV] C=3.1, penalty=l2, solver=liblinear .............................\n",
      "[CV] .............. C=3.1, penalty=l2, solver=liblinear, total=   0.0s\n",
      "[CV] C=3.1, penalty=l2, solver=liblinear .............................\n",
      "[CV] .............. C=3.1, penalty=l2, solver=liblinear, total=   0.0s\n",
      "[CV] C=3.1, penalty=l2, solver=liblinear .............................\n",
      "[CV] .............. C=3.1, penalty=l2, solver=liblinear, total=   0.0s\n",
      "[CV] C=3.1, penalty=l2, solver=liblinear .............................\n",
      "[CV] .............. C=3.1, penalty=l2, solver=liblinear, total=   0.0s\n",
      "[CV] C=3.2, penalty=l1, solver=newton-cg .............................\n",
      "[CV] .............. C=3.2, penalty=l1, solver=newton-cg, total=   0.0s\n",
      "[CV] C=3.2, penalty=l1, solver=newton-cg .............................\n",
      "[CV] .............. C=3.2, penalty=l1, solver=newton-cg, total=   0.0s\n",
      "[CV] C=3.2, penalty=l1, solver=newton-cg .............................\n",
      "[CV] .............. C=3.2, penalty=l1, solver=newton-cg, total=   0.0s\n",
      "[CV] C=3.2, penalty=l1, solver=newton-cg .............................\n",
      "[CV] .............. C=3.2, penalty=l1, solver=newton-cg, total=   0.0s\n",
      "[CV] C=3.2, penalty=l1, solver=newton-cg .............................\n",
      "[CV] .............. C=3.2, penalty=l1, solver=newton-cg, total=   0.0s\n",
      "[CV] C=3.2, penalty=l1, solver=lbfgs .................................\n",
      "[CV] .................. C=3.2, penalty=l1, solver=lbfgs, total=   0.0s\n",
      "[CV] C=3.2, penalty=l1, solver=lbfgs .................................\n",
      "[CV] .................. C=3.2, penalty=l1, solver=lbfgs, total=   0.0s\n",
      "[CV] C=3.2, penalty=l1, solver=lbfgs .................................\n",
      "[CV] .................. C=3.2, penalty=l1, solver=lbfgs, total=   0.0s\n",
      "[CV] C=3.2, penalty=l1, solver=lbfgs .................................\n",
      "[CV] .................. C=3.2, penalty=l1, solver=lbfgs, total=   0.0s\n",
      "[CV] C=3.2, penalty=l1, solver=lbfgs .................................\n",
      "[CV] .................. C=3.2, penalty=l1, solver=lbfgs, total=   0.0s\n",
      "[CV] C=3.2, penalty=l1, solver=sag ...................................\n",
      "[CV] .................... C=3.2, penalty=l1, solver=sag, total=   0.0s\n",
      "[CV] C=3.2, penalty=l1, solver=sag ...................................\n",
      "[CV] .................... C=3.2, penalty=l1, solver=sag, total=   0.0s\n",
      "[CV] C=3.2, penalty=l1, solver=sag ...................................\n",
      "[CV] .................... C=3.2, penalty=l1, solver=sag, total=   0.0s\n",
      "[CV] C=3.2, penalty=l1, solver=sag ...................................\n",
      "[CV] .................... C=3.2, penalty=l1, solver=sag, total=   0.0s\n",
      "[CV] C=3.2, penalty=l1, solver=sag ...................................\n",
      "[CV] .................... C=3.2, penalty=l1, solver=sag, total=   0.0s\n",
      "[CV] C=3.2, penalty=l1, solver=saga ..................................\n"
     ]
    },
    {
     "name": "stderr",
     "output_type": "stream",
     "text": [
      "E:\\Anaconda3\\lib\\site-packages\\sklearn\\linear_model\\_sag.py:330: ConvergenceWarning: The max_iter was reached which means the coef_ did not converge\n",
      "  \"the coef_ did not converge\", ConvergenceWarning)\n",
      "E:\\Anaconda3\\lib\\site-packages\\sklearn\\model_selection\\_validation.py:536: FitFailedWarning: Estimator fit failed. The score on this train-test partition for these parameters will be set to nan. Details: \n",
      "ValueError: Solver newton-cg supports only 'l2' or 'none' penalties, got l1 penalty.\n",
      "\n",
      "  FitFailedWarning)\n",
      "E:\\Anaconda3\\lib\\site-packages\\sklearn\\model_selection\\_validation.py:536: FitFailedWarning: Estimator fit failed. The score on this train-test partition for these parameters will be set to nan. Details: \n",
      "ValueError: Solver lbfgs supports only 'l2' or 'none' penalties, got l1 penalty.\n",
      "\n",
      "  FitFailedWarning)\n",
      "E:\\Anaconda3\\lib\\site-packages\\sklearn\\model_selection\\_validation.py:536: FitFailedWarning: Estimator fit failed. The score on this train-test partition for these parameters will be set to nan. Details: \n",
      "ValueError: Solver sag supports only 'l2' or 'none' penalties, got l1 penalty.\n",
      "\n",
      "  FitFailedWarning)\n",
      "E:\\Anaconda3\\lib\\site-packages\\sklearn\\linear_model\\_sag.py:330: ConvergenceWarning: The max_iter was reached which means the coef_ did not converge\n",
      "  \"the coef_ did not converge\", ConvergenceWarning)\n"
     ]
    },
    {
     "name": "stdout",
     "output_type": "stream",
     "text": [
      "[CV] ................... C=3.2, penalty=l1, solver=saga, total=   0.1s\n",
      "[CV] C=3.2, penalty=l1, solver=saga ..................................\n",
      "[CV] ................... C=3.2, penalty=l1, solver=saga, total=   0.1s\n",
      "[CV] C=3.2, penalty=l1, solver=saga ..................................\n"
     ]
    },
    {
     "name": "stderr",
     "output_type": "stream",
     "text": [
      "E:\\Anaconda3\\lib\\site-packages\\sklearn\\linear_model\\_sag.py:330: ConvergenceWarning: The max_iter was reached which means the coef_ did not converge\n",
      "  \"the coef_ did not converge\", ConvergenceWarning)\n",
      "E:\\Anaconda3\\lib\\site-packages\\sklearn\\linear_model\\_sag.py:330: ConvergenceWarning: The max_iter was reached which means the coef_ did not converge\n",
      "  \"the coef_ did not converge\", ConvergenceWarning)\n"
     ]
    },
    {
     "name": "stdout",
     "output_type": "stream",
     "text": [
      "[CV] ................... C=3.2, penalty=l1, solver=saga, total=   0.1s\n",
      "[CV] C=3.2, penalty=l1, solver=saga ..................................\n",
      "[CV] ................... C=3.2, penalty=l1, solver=saga, total=   0.1s\n",
      "[CV] C=3.2, penalty=l1, solver=saga ..................................\n"
     ]
    },
    {
     "name": "stderr",
     "output_type": "stream",
     "text": [
      "E:\\Anaconda3\\lib\\site-packages\\sklearn\\linear_model\\_sag.py:330: ConvergenceWarning: The max_iter was reached which means the coef_ did not converge\n",
      "  \"the coef_ did not converge\", ConvergenceWarning)\n",
      "E:\\Anaconda3\\lib\\site-packages\\sklearn\\linear_model\\_sag.py:330: ConvergenceWarning: The max_iter was reached which means the coef_ did not converge\n",
      "  \"the coef_ did not converge\", ConvergenceWarning)\n"
     ]
    },
    {
     "name": "stdout",
     "output_type": "stream",
     "text": [
      "[CV] ................... C=3.2, penalty=l1, solver=saga, total=   0.1s\n",
      "[CV] C=3.2, penalty=l1, solver=liblinear .............................\n",
      "[CV] .............. C=3.2, penalty=l1, solver=liblinear, total=   0.0s\n",
      "[CV] C=3.2, penalty=l1, solver=liblinear .............................\n",
      "[CV] .............. C=3.2, penalty=l1, solver=liblinear, total=   0.0s\n",
      "[CV] C=3.2, penalty=l1, solver=liblinear .............................\n",
      "[CV] .............. C=3.2, penalty=l1, solver=liblinear, total=   0.0s\n",
      "[CV] C=3.2, penalty=l1, solver=liblinear .............................\n",
      "[CV] .............. C=3.2, penalty=l1, solver=liblinear, total=   0.0s\n",
      "[CV] C=3.2, penalty=l1, solver=liblinear .............................\n",
      "[CV] .............. C=3.2, penalty=l1, solver=liblinear, total=   0.0s\n",
      "[CV] C=3.2, penalty=l2, solver=newton-cg .............................\n",
      "[CV] .............. C=3.2, penalty=l2, solver=newton-cg, total=   0.0s\n",
      "[CV] C=3.2, penalty=l2, solver=newton-cg .............................\n",
      "[CV] .............. C=3.2, penalty=l2, solver=newton-cg, total=   0.0s\n",
      "[CV] C=3.2, penalty=l2, solver=newton-cg .............................\n",
      "[CV] .............. C=3.2, penalty=l2, solver=newton-cg, total=   0.0s\n",
      "[CV] C=3.2, penalty=l2, solver=newton-cg .............................\n",
      "[CV] .............. C=3.2, penalty=l2, solver=newton-cg, total=   0.0s\n",
      "[CV] C=3.2, penalty=l2, solver=newton-cg .............................\n",
      "[CV] .............. C=3.2, penalty=l2, solver=newton-cg, total=   0.0s\n",
      "[CV] C=3.2, penalty=l2, solver=lbfgs .................................\n",
      "[CV] .................. C=3.2, penalty=l2, solver=lbfgs, total=   0.0s\n",
      "[CV] C=3.2, penalty=l2, solver=lbfgs .................................\n",
      "[CV] .................. C=3.2, penalty=l2, solver=lbfgs, total=   0.0s\n",
      "[CV] C=3.2, penalty=l2, solver=lbfgs .................................\n",
      "[CV] .................. C=3.2, penalty=l2, solver=lbfgs, total=   0.0s\n",
      "[CV] C=3.2, penalty=l2, solver=lbfgs .................................\n",
      "[CV] .................. C=3.2, penalty=l2, solver=lbfgs, total=   0.0s\n",
      "[CV] C=3.2, penalty=l2, solver=lbfgs .................................\n",
      "[CV] .................. C=3.2, penalty=l2, solver=lbfgs, total=   0.0s\n",
      "[CV] C=3.2, penalty=l2, solver=sag ...................................\n",
      "[CV] .................... C=3.2, penalty=l2, solver=sag, total=   0.1s\n",
      "[CV] C=3.2, penalty=l2, solver=sag ...................................\n",
      "[CV] .................... C=3.2, penalty=l2, solver=sag, total=   0.1s\n",
      "[CV] C=3.2, penalty=l2, solver=sag ...................................\n",
      "[CV] .................... C=3.2, penalty=l2, solver=sag, total=   0.1s\n",
      "[CV] C=3.2, penalty=l2, solver=sag ...................................\n",
      "[CV] .................... C=3.2, penalty=l2, solver=sag, total=   0.1s\n",
      "[CV] C=3.2, penalty=l2, solver=sag ...................................\n",
      "[CV] .................... C=3.2, penalty=l2, solver=sag, total=   0.1s\n",
      "[CV] C=3.2, penalty=l2, solver=saga ..................................\n",
      "[CV] ................... C=3.2, penalty=l2, solver=saga, total=   0.1s\n",
      "[CV] C=3.2, penalty=l2, solver=saga ..................................\n"
     ]
    },
    {
     "name": "stderr",
     "output_type": "stream",
     "text": [
      "E:\\Anaconda3\\lib\\site-packages\\sklearn\\linear_model\\_sag.py:330: ConvergenceWarning: The max_iter was reached which means the coef_ did not converge\n",
      "  \"the coef_ did not converge\", ConvergenceWarning)\n",
      "E:\\Anaconda3\\lib\\site-packages\\sklearn\\linear_model\\_sag.py:330: ConvergenceWarning: The max_iter was reached which means the coef_ did not converge\n",
      "  \"the coef_ did not converge\", ConvergenceWarning)\n"
     ]
    },
    {
     "name": "stdout",
     "output_type": "stream",
     "text": [
      "[CV] ................... C=3.2, penalty=l2, solver=saga, total=   0.1s\n",
      "[CV] C=3.2, penalty=l2, solver=saga ..................................\n",
      "[CV] ................... C=3.2, penalty=l2, solver=saga, total=   0.1s\n",
      "[CV] C=3.2, penalty=l2, solver=saga ..................................\n"
     ]
    },
    {
     "name": "stderr",
     "output_type": "stream",
     "text": [
      "E:\\Anaconda3\\lib\\site-packages\\sklearn\\linear_model\\_sag.py:330: ConvergenceWarning: The max_iter was reached which means the coef_ did not converge\n",
      "  \"the coef_ did not converge\", ConvergenceWarning)\n",
      "E:\\Anaconda3\\lib\\site-packages\\sklearn\\linear_model\\_sag.py:330: ConvergenceWarning: The max_iter was reached which means the coef_ did not converge\n",
      "  \"the coef_ did not converge\", ConvergenceWarning)\n"
     ]
    },
    {
     "name": "stdout",
     "output_type": "stream",
     "text": [
      "[CV] ................... C=3.2, penalty=l2, solver=saga, total=   0.1s\n",
      "[CV] C=3.2, penalty=l2, solver=saga ..................................\n",
      "[CV] ................... C=3.2, penalty=l2, solver=saga, total=   0.1s\n",
      "[CV] C=3.2, penalty=l2, solver=liblinear .............................\n",
      "[CV] .............. C=3.2, penalty=l2, solver=liblinear, total=   0.0s\n",
      "[CV] C=3.2, penalty=l2, solver=liblinear .............................\n",
      "[CV] .............. C=3.2, penalty=l2, solver=liblinear, total=   0.0s\n",
      "[CV] C=3.2, penalty=l2, solver=liblinear .............................\n",
      "[CV] .............. C=3.2, penalty=l2, solver=liblinear, total=   0.0s\n",
      "[CV] C=3.2, penalty=l2, solver=liblinear .............................\n",
      "[CV] .............. C=3.2, penalty=l2, solver=liblinear, total=   0.0s\n",
      "[CV] C=3.2, penalty=l2, solver=liblinear .............................\n",
      "[CV] .............. C=3.2, penalty=l2, solver=liblinear, total=   0.0s\n",
      "[CV] C=3.3000000000000003, penalty=l1, solver=newton-cg ..............\n",
      "[CV]  C=3.3000000000000003, penalty=l1, solver=newton-cg, total=   0.0s\n",
      "[CV] C=3.3000000000000003, penalty=l1, solver=newton-cg ..............\n",
      "[CV]  C=3.3000000000000003, penalty=l1, solver=newton-cg, total=   0.0s\n",
      "[CV] C=3.3000000000000003, penalty=l1, solver=newton-cg ..............\n",
      "[CV]  C=3.3000000000000003, penalty=l1, solver=newton-cg, total=   0.0s\n",
      "[CV] C=3.3000000000000003, penalty=l1, solver=newton-cg ..............\n",
      "[CV]  C=3.3000000000000003, penalty=l1, solver=newton-cg, total=   0.0s\n",
      "[CV] C=3.3000000000000003, penalty=l1, solver=newton-cg ..............\n",
      "[CV]  C=3.3000000000000003, penalty=l1, solver=newton-cg, total=   0.0s\n",
      "[CV] C=3.3000000000000003, penalty=l1, solver=lbfgs ..................\n",
      "[CV] ... C=3.3000000000000003, penalty=l1, solver=lbfgs, total=   0.0s\n",
      "[CV] C=3.3000000000000003, penalty=l1, solver=lbfgs ..................\n",
      "[CV] ... C=3.3000000000000003, penalty=l1, solver=lbfgs, total=   0.0s\n",
      "[CV] C=3.3000000000000003, penalty=l1, solver=lbfgs ..................\n",
      "[CV] ... C=3.3000000000000003, penalty=l1, solver=lbfgs, total=   0.0s\n",
      "[CV] C=3.3000000000000003, penalty=l1, solver=lbfgs ..................\n",
      "[CV] ... C=3.3000000000000003, penalty=l1, solver=lbfgs, total=   0.0s\n",
      "[CV] C=3.3000000000000003, penalty=l1, solver=lbfgs ..................\n",
      "[CV] ... C=3.3000000000000003, penalty=l1, solver=lbfgs, total=   0.0s\n",
      "[CV] C=3.3000000000000003, penalty=l1, solver=sag ....................\n",
      "[CV] ..... C=3.3000000000000003, penalty=l1, solver=sag, total=   0.0s\n",
      "[CV] C=3.3000000000000003, penalty=l1, solver=sag ....................\n",
      "[CV] ..... C=3.3000000000000003, penalty=l1, solver=sag, total=   0.0s\n",
      "[CV] C=3.3000000000000003, penalty=l1, solver=sag ....................\n",
      "[CV] ..... C=3.3000000000000003, penalty=l1, solver=sag, total=   0.0s\n",
      "[CV] C=3.3000000000000003, penalty=l1, solver=sag ....................\n",
      "[CV] ..... C=3.3000000000000003, penalty=l1, solver=sag, total=   0.0s\n",
      "[CV] C=3.3000000000000003, penalty=l1, solver=sag ....................\n",
      "[CV] ..... C=3.3000000000000003, penalty=l1, solver=sag, total=   0.0s\n",
      "[CV] C=3.3000000000000003, penalty=l1, solver=saga ...................\n"
     ]
    },
    {
     "name": "stderr",
     "output_type": "stream",
     "text": [
      "E:\\Anaconda3\\lib\\site-packages\\sklearn\\linear_model\\_sag.py:330: ConvergenceWarning: The max_iter was reached which means the coef_ did not converge\n",
      "  \"the coef_ did not converge\", ConvergenceWarning)\n",
      "E:\\Anaconda3\\lib\\site-packages\\sklearn\\model_selection\\_validation.py:536: FitFailedWarning: Estimator fit failed. The score on this train-test partition for these parameters will be set to nan. Details: \n",
      "ValueError: Solver newton-cg supports only 'l2' or 'none' penalties, got l1 penalty.\n",
      "\n",
      "  FitFailedWarning)\n",
      "E:\\Anaconda3\\lib\\site-packages\\sklearn\\model_selection\\_validation.py:536: FitFailedWarning: Estimator fit failed. The score on this train-test partition for these parameters will be set to nan. Details: \n",
      "ValueError: Solver lbfgs supports only 'l2' or 'none' penalties, got l1 penalty.\n",
      "\n",
      "  FitFailedWarning)\n",
      "E:\\Anaconda3\\lib\\site-packages\\sklearn\\model_selection\\_validation.py:536: FitFailedWarning: Estimator fit failed. The score on this train-test partition for these parameters will be set to nan. Details: \n",
      "ValueError: Solver sag supports only 'l2' or 'none' penalties, got l1 penalty.\n",
      "\n",
      "  FitFailedWarning)\n",
      "E:\\Anaconda3\\lib\\site-packages\\sklearn\\linear_model\\_sag.py:330: ConvergenceWarning: The max_iter was reached which means the coef_ did not converge\n",
      "  \"the coef_ did not converge\", ConvergenceWarning)\n"
     ]
    },
    {
     "name": "stdout",
     "output_type": "stream",
     "text": [
      "[CV] .... C=3.3000000000000003, penalty=l1, solver=saga, total=   0.1s\n",
      "[CV] C=3.3000000000000003, penalty=l1, solver=saga ...................\n",
      "[CV] .... C=3.3000000000000003, penalty=l1, solver=saga, total=   0.1s\n",
      "[CV] C=3.3000000000000003, penalty=l1, solver=saga ...................\n"
     ]
    },
    {
     "name": "stderr",
     "output_type": "stream",
     "text": [
      "E:\\Anaconda3\\lib\\site-packages\\sklearn\\linear_model\\_sag.py:330: ConvergenceWarning: The max_iter was reached which means the coef_ did not converge\n",
      "  \"the coef_ did not converge\", ConvergenceWarning)\n",
      "E:\\Anaconda3\\lib\\site-packages\\sklearn\\linear_model\\_sag.py:330: ConvergenceWarning: The max_iter was reached which means the coef_ did not converge\n",
      "  \"the coef_ did not converge\", ConvergenceWarning)\n"
     ]
    },
    {
     "name": "stdout",
     "output_type": "stream",
     "text": [
      "[CV] .... C=3.3000000000000003, penalty=l1, solver=saga, total=   0.1s\n",
      "[CV] C=3.3000000000000003, penalty=l1, solver=saga ...................\n",
      "[CV] .... C=3.3000000000000003, penalty=l1, solver=saga, total=   0.1s\n",
      "[CV] C=3.3000000000000003, penalty=l1, solver=saga ...................\n"
     ]
    },
    {
     "name": "stderr",
     "output_type": "stream",
     "text": [
      "E:\\Anaconda3\\lib\\site-packages\\sklearn\\linear_model\\_sag.py:330: ConvergenceWarning: The max_iter was reached which means the coef_ did not converge\n",
      "  \"the coef_ did not converge\", ConvergenceWarning)\n",
      "E:\\Anaconda3\\lib\\site-packages\\sklearn\\linear_model\\_sag.py:330: ConvergenceWarning: The max_iter was reached which means the coef_ did not converge\n",
      "  \"the coef_ did not converge\", ConvergenceWarning)\n"
     ]
    },
    {
     "name": "stdout",
     "output_type": "stream",
     "text": [
      "[CV] .... C=3.3000000000000003, penalty=l1, solver=saga, total=   0.1s\n",
      "[CV] C=3.3000000000000003, penalty=l1, solver=liblinear ..............\n",
      "[CV]  C=3.3000000000000003, penalty=l1, solver=liblinear, total=   0.0s\n",
      "[CV] C=3.3000000000000003, penalty=l1, solver=liblinear ..............\n",
      "[CV]  C=3.3000000000000003, penalty=l1, solver=liblinear, total=   0.0s\n",
      "[CV] C=3.3000000000000003, penalty=l1, solver=liblinear ..............\n",
      "[CV]  C=3.3000000000000003, penalty=l1, solver=liblinear, total=   0.0s\n",
      "[CV] C=3.3000000000000003, penalty=l1, solver=liblinear ..............\n",
      "[CV]  C=3.3000000000000003, penalty=l1, solver=liblinear, total=   0.0s\n",
      "[CV] C=3.3000000000000003, penalty=l1, solver=liblinear ..............\n",
      "[CV]  C=3.3000000000000003, penalty=l1, solver=liblinear, total=   0.0s\n",
      "[CV] C=3.3000000000000003, penalty=l2, solver=newton-cg ..............\n",
      "[CV]  C=3.3000000000000003, penalty=l2, solver=newton-cg, total=   0.0s\n",
      "[CV] C=3.3000000000000003, penalty=l2, solver=newton-cg ..............\n",
      "[CV]  C=3.3000000000000003, penalty=l2, solver=newton-cg, total=   0.0s\n",
      "[CV] C=3.3000000000000003, penalty=l2, solver=newton-cg ..............\n",
      "[CV]  C=3.3000000000000003, penalty=l2, solver=newton-cg, total=   0.0s\n",
      "[CV] C=3.3000000000000003, penalty=l2, solver=newton-cg ..............\n",
      "[CV]  C=3.3000000000000003, penalty=l2, solver=newton-cg, total=   0.0s\n",
      "[CV] C=3.3000000000000003, penalty=l2, solver=newton-cg ..............\n",
      "[CV]  C=3.3000000000000003, penalty=l2, solver=newton-cg, total=   0.0s\n",
      "[CV] C=3.3000000000000003, penalty=l2, solver=lbfgs ..................\n",
      "[CV] ... C=3.3000000000000003, penalty=l2, solver=lbfgs, total=   0.0s\n",
      "[CV] C=3.3000000000000003, penalty=l2, solver=lbfgs ..................\n",
      "[CV] ... C=3.3000000000000003, penalty=l2, solver=lbfgs, total=   0.0s\n",
      "[CV] C=3.3000000000000003, penalty=l2, solver=lbfgs ..................\n",
      "[CV] ... C=3.3000000000000003, penalty=l2, solver=lbfgs, total=   0.0s\n",
      "[CV] C=3.3000000000000003, penalty=l2, solver=lbfgs ..................\n",
      "[CV] ... C=3.3000000000000003, penalty=l2, solver=lbfgs, total=   0.0s\n",
      "[CV] C=3.3000000000000003, penalty=l2, solver=lbfgs ..................\n",
      "[CV] ... C=3.3000000000000003, penalty=l2, solver=lbfgs, total=   0.0s\n",
      "[CV] C=3.3000000000000003, penalty=l2, solver=sag ....................\n",
      "[CV] ..... C=3.3000000000000003, penalty=l2, solver=sag, total=   0.1s\n",
      "[CV] C=3.3000000000000003, penalty=l2, solver=sag ....................\n",
      "[CV] ..... C=3.3000000000000003, penalty=l2, solver=sag, total=   0.1s\n",
      "[CV] C=3.3000000000000003, penalty=l2, solver=sag ....................\n",
      "[CV] ..... C=3.3000000000000003, penalty=l2, solver=sag, total=   0.1s\n",
      "[CV] C=3.3000000000000003, penalty=l2, solver=sag ....................\n",
      "[CV] ..... C=3.3000000000000003, penalty=l2, solver=sag, total=   0.1s\n",
      "[CV] C=3.3000000000000003, penalty=l2, solver=sag ....................\n",
      "[CV] ..... C=3.3000000000000003, penalty=l2, solver=sag, total=   0.1s\n",
      "[CV] C=3.3000000000000003, penalty=l2, solver=saga ...................\n",
      "[CV] .... C=3.3000000000000003, penalty=l2, solver=saga, total=   0.1s\n",
      "[CV] C=3.3000000000000003, penalty=l2, solver=saga ...................\n"
     ]
    },
    {
     "name": "stderr",
     "output_type": "stream",
     "text": [
      "E:\\Anaconda3\\lib\\site-packages\\sklearn\\linear_model\\_sag.py:330: ConvergenceWarning: The max_iter was reached which means the coef_ did not converge\n",
      "  \"the coef_ did not converge\", ConvergenceWarning)\n",
      "E:\\Anaconda3\\lib\\site-packages\\sklearn\\linear_model\\_sag.py:330: ConvergenceWarning: The max_iter was reached which means the coef_ did not converge\n",
      "  \"the coef_ did not converge\", ConvergenceWarning)\n"
     ]
    },
    {
     "name": "stdout",
     "output_type": "stream",
     "text": [
      "[CV] .... C=3.3000000000000003, penalty=l2, solver=saga, total=   0.1s\n",
      "[CV] C=3.3000000000000003, penalty=l2, solver=saga ...................\n",
      "[CV] .... C=3.3000000000000003, penalty=l2, solver=saga, total=   0.1s\n",
      "[CV] C=3.3000000000000003, penalty=l2, solver=saga ...................\n"
     ]
    },
    {
     "name": "stderr",
     "output_type": "stream",
     "text": [
      "E:\\Anaconda3\\lib\\site-packages\\sklearn\\linear_model\\_sag.py:330: ConvergenceWarning: The max_iter was reached which means the coef_ did not converge\n",
      "  \"the coef_ did not converge\", ConvergenceWarning)\n",
      "E:\\Anaconda3\\lib\\site-packages\\sklearn\\linear_model\\_sag.py:330: ConvergenceWarning: The max_iter was reached which means the coef_ did not converge\n",
      "  \"the coef_ did not converge\", ConvergenceWarning)\n"
     ]
    },
    {
     "name": "stdout",
     "output_type": "stream",
     "text": [
      "[CV] .... C=3.3000000000000003, penalty=l2, solver=saga, total=   0.1s\n",
      "[CV] C=3.3000000000000003, penalty=l2, solver=saga ...................\n",
      "[CV] .... C=3.3000000000000003, penalty=l2, solver=saga, total=   0.1s\n",
      "[CV] C=3.3000000000000003, penalty=l2, solver=liblinear ..............\n",
      "[CV]  C=3.3000000000000003, penalty=l2, solver=liblinear, total=   0.0s\n",
      "[CV] C=3.3000000000000003, penalty=l2, solver=liblinear ..............\n",
      "[CV]  C=3.3000000000000003, penalty=l2, solver=liblinear, total=   0.0s\n",
      "[CV] C=3.3000000000000003, penalty=l2, solver=liblinear ..............\n",
      "[CV]  C=3.3000000000000003, penalty=l2, solver=liblinear, total=   0.0s\n",
      "[CV] C=3.3000000000000003, penalty=l2, solver=liblinear ..............\n",
      "[CV]  C=3.3000000000000003, penalty=l2, solver=liblinear, total=   0.0s\n",
      "[CV] C=3.3000000000000003, penalty=l2, solver=liblinear ..............\n",
      "[CV]  C=3.3000000000000003, penalty=l2, solver=liblinear, total=   0.0s\n",
      "[CV] C=3.4000000000000004, penalty=l1, solver=newton-cg ..............\n",
      "[CV]  C=3.4000000000000004, penalty=l1, solver=newton-cg, total=   0.0s\n",
      "[CV] C=3.4000000000000004, penalty=l1, solver=newton-cg ..............\n",
      "[CV]  C=3.4000000000000004, penalty=l1, solver=newton-cg, total=   0.0s\n",
      "[CV] C=3.4000000000000004, penalty=l1, solver=newton-cg ..............\n",
      "[CV]  C=3.4000000000000004, penalty=l1, solver=newton-cg, total=   0.0s\n",
      "[CV] C=3.4000000000000004, penalty=l1, solver=newton-cg ..............\n",
      "[CV]  C=3.4000000000000004, penalty=l1, solver=newton-cg, total=   0.0s\n",
      "[CV] C=3.4000000000000004, penalty=l1, solver=newton-cg ..............\n",
      "[CV]  C=3.4000000000000004, penalty=l1, solver=newton-cg, total=   0.0s\n",
      "[CV] C=3.4000000000000004, penalty=l1, solver=lbfgs ..................\n",
      "[CV] ... C=3.4000000000000004, penalty=l1, solver=lbfgs, total=   0.0s\n",
      "[CV] C=3.4000000000000004, penalty=l1, solver=lbfgs ..................\n",
      "[CV] ... C=3.4000000000000004, penalty=l1, solver=lbfgs, total=   0.0s\n",
      "[CV] C=3.4000000000000004, penalty=l1, solver=lbfgs ..................\n",
      "[CV] ... C=3.4000000000000004, penalty=l1, solver=lbfgs, total=   0.0s\n",
      "[CV] C=3.4000000000000004, penalty=l1, solver=lbfgs ..................\n",
      "[CV] ... C=3.4000000000000004, penalty=l1, solver=lbfgs, total=   0.0s\n",
      "[CV] C=3.4000000000000004, penalty=l1, solver=lbfgs ..................\n",
      "[CV] ... C=3.4000000000000004, penalty=l1, solver=lbfgs, total=   0.0s\n",
      "[CV] C=3.4000000000000004, penalty=l1, solver=sag ....................\n",
      "[CV] ..... C=3.4000000000000004, penalty=l1, solver=sag, total=   0.0s\n",
      "[CV] C=3.4000000000000004, penalty=l1, solver=sag ....................\n",
      "[CV] ..... C=3.4000000000000004, penalty=l1, solver=sag, total=   0.0s\n",
      "[CV] C=3.4000000000000004, penalty=l1, solver=sag ....................\n",
      "[CV] ..... C=3.4000000000000004, penalty=l1, solver=sag, total=   0.0s\n",
      "[CV] C=3.4000000000000004, penalty=l1, solver=sag ....................\n",
      "[CV] ..... C=3.4000000000000004, penalty=l1, solver=sag, total=   0.0s\n",
      "[CV] C=3.4000000000000004, penalty=l1, solver=sag ....................\n",
      "[CV] ..... C=3.4000000000000004, penalty=l1, solver=sag, total=   0.0s\n",
      "[CV] C=3.4000000000000004, penalty=l1, solver=saga ...................\n"
     ]
    },
    {
     "name": "stderr",
     "output_type": "stream",
     "text": [
      "E:\\Anaconda3\\lib\\site-packages\\sklearn\\linear_model\\_sag.py:330: ConvergenceWarning: The max_iter was reached which means the coef_ did not converge\n",
      "  \"the coef_ did not converge\", ConvergenceWarning)\n",
      "E:\\Anaconda3\\lib\\site-packages\\sklearn\\model_selection\\_validation.py:536: FitFailedWarning: Estimator fit failed. The score on this train-test partition for these parameters will be set to nan. Details: \n",
      "ValueError: Solver newton-cg supports only 'l2' or 'none' penalties, got l1 penalty.\n",
      "\n",
      "  FitFailedWarning)\n",
      "E:\\Anaconda3\\lib\\site-packages\\sklearn\\model_selection\\_validation.py:536: FitFailedWarning: Estimator fit failed. The score on this train-test partition for these parameters will be set to nan. Details: \n",
      "ValueError: Solver lbfgs supports only 'l2' or 'none' penalties, got l1 penalty.\n",
      "\n",
      "  FitFailedWarning)\n",
      "E:\\Anaconda3\\lib\\site-packages\\sklearn\\model_selection\\_validation.py:536: FitFailedWarning: Estimator fit failed. The score on this train-test partition for these parameters will be set to nan. Details: \n",
      "ValueError: Solver sag supports only 'l2' or 'none' penalties, got l1 penalty.\n",
      "\n",
      "  FitFailedWarning)\n",
      "E:\\Anaconda3\\lib\\site-packages\\sklearn\\linear_model\\_sag.py:330: ConvergenceWarning: The max_iter was reached which means the coef_ did not converge\n",
      "  \"the coef_ did not converge\", ConvergenceWarning)\n"
     ]
    },
    {
     "name": "stdout",
     "output_type": "stream",
     "text": [
      "[CV] .... C=3.4000000000000004, penalty=l1, solver=saga, total=   0.1s\n",
      "[CV] C=3.4000000000000004, penalty=l1, solver=saga ...................\n",
      "[CV] .... C=3.4000000000000004, penalty=l1, solver=saga, total=   0.1s\n",
      "[CV] C=3.4000000000000004, penalty=l1, solver=saga ...................\n"
     ]
    },
    {
     "name": "stderr",
     "output_type": "stream",
     "text": [
      "E:\\Anaconda3\\lib\\site-packages\\sklearn\\linear_model\\_sag.py:330: ConvergenceWarning: The max_iter was reached which means the coef_ did not converge\n",
      "  \"the coef_ did not converge\", ConvergenceWarning)\n",
      "E:\\Anaconda3\\lib\\site-packages\\sklearn\\linear_model\\_sag.py:330: ConvergenceWarning: The max_iter was reached which means the coef_ did not converge\n",
      "  \"the coef_ did not converge\", ConvergenceWarning)\n"
     ]
    },
    {
     "name": "stdout",
     "output_type": "stream",
     "text": [
      "[CV] .... C=3.4000000000000004, penalty=l1, solver=saga, total=   0.1s\n",
      "[CV] C=3.4000000000000004, penalty=l1, solver=saga ...................\n",
      "[CV] .... C=3.4000000000000004, penalty=l1, solver=saga, total=   0.1s\n",
      "[CV] C=3.4000000000000004, penalty=l1, solver=saga ...................\n"
     ]
    },
    {
     "name": "stderr",
     "output_type": "stream",
     "text": [
      "E:\\Anaconda3\\lib\\site-packages\\sklearn\\linear_model\\_sag.py:330: ConvergenceWarning: The max_iter was reached which means the coef_ did not converge\n",
      "  \"the coef_ did not converge\", ConvergenceWarning)\n",
      "E:\\Anaconda3\\lib\\site-packages\\sklearn\\linear_model\\_sag.py:330: ConvergenceWarning: The max_iter was reached which means the coef_ did not converge\n",
      "  \"the coef_ did not converge\", ConvergenceWarning)\n"
     ]
    },
    {
     "name": "stdout",
     "output_type": "stream",
     "text": [
      "[CV] .... C=3.4000000000000004, penalty=l1, solver=saga, total=   0.1s\n",
      "[CV] C=3.4000000000000004, penalty=l1, solver=liblinear ..............\n",
      "[CV]  C=3.4000000000000004, penalty=l1, solver=liblinear, total=   0.0s\n",
      "[CV] C=3.4000000000000004, penalty=l1, solver=liblinear ..............\n",
      "[CV]  C=3.4000000000000004, penalty=l1, solver=liblinear, total=   0.0s\n",
      "[CV] C=3.4000000000000004, penalty=l1, solver=liblinear ..............\n",
      "[CV]  C=3.4000000000000004, penalty=l1, solver=liblinear, total=   0.0s\n",
      "[CV] C=3.4000000000000004, penalty=l1, solver=liblinear ..............\n",
      "[CV]  C=3.4000000000000004, penalty=l1, solver=liblinear, total=   0.0s\n",
      "[CV] C=3.4000000000000004, penalty=l1, solver=liblinear ..............\n",
      "[CV]  C=3.4000000000000004, penalty=l1, solver=liblinear, total=   0.0s\n",
      "[CV] C=3.4000000000000004, penalty=l2, solver=newton-cg ..............\n",
      "[CV]  C=3.4000000000000004, penalty=l2, solver=newton-cg, total=   0.0s\n",
      "[CV] C=3.4000000000000004, penalty=l2, solver=newton-cg ..............\n",
      "[CV]  C=3.4000000000000004, penalty=l2, solver=newton-cg, total=   0.0s\n",
      "[CV] C=3.4000000000000004, penalty=l2, solver=newton-cg ..............\n",
      "[CV]  C=3.4000000000000004, penalty=l2, solver=newton-cg, total=   0.0s\n",
      "[CV] C=3.4000000000000004, penalty=l2, solver=newton-cg ..............\n",
      "[CV]  C=3.4000000000000004, penalty=l2, solver=newton-cg, total=   0.0s\n",
      "[CV] C=3.4000000000000004, penalty=l2, solver=newton-cg ..............\n",
      "[CV]  C=3.4000000000000004, penalty=l2, solver=newton-cg, total=   0.0s\n",
      "[CV] C=3.4000000000000004, penalty=l2, solver=lbfgs ..................\n",
      "[CV] ... C=3.4000000000000004, penalty=l2, solver=lbfgs, total=   0.0s\n",
      "[CV] C=3.4000000000000004, penalty=l2, solver=lbfgs ..................\n",
      "[CV] ... C=3.4000000000000004, penalty=l2, solver=lbfgs, total=   0.0s\n",
      "[CV] C=3.4000000000000004, penalty=l2, solver=lbfgs ..................\n",
      "[CV] ... C=3.4000000000000004, penalty=l2, solver=lbfgs, total=   0.0s\n",
      "[CV] C=3.4000000000000004, penalty=l2, solver=lbfgs ..................\n",
      "[CV] ... C=3.4000000000000004, penalty=l2, solver=lbfgs, total=   0.0s\n",
      "[CV] C=3.4000000000000004, penalty=l2, solver=lbfgs ..................\n",
      "[CV] ... C=3.4000000000000004, penalty=l2, solver=lbfgs, total=   0.0s\n",
      "[CV] C=3.4000000000000004, penalty=l2, solver=sag ....................\n",
      "[CV] ..... C=3.4000000000000004, penalty=l2, solver=sag, total=   0.1s\n",
      "[CV] C=3.4000000000000004, penalty=l2, solver=sag ....................\n",
      "[CV] ..... C=3.4000000000000004, penalty=l2, solver=sag, total=   0.1s\n",
      "[CV] C=3.4000000000000004, penalty=l2, solver=sag ....................\n",
      "[CV] ..... C=3.4000000000000004, penalty=l2, solver=sag, total=   0.1s\n",
      "[CV] C=3.4000000000000004, penalty=l2, solver=sag ....................\n",
      "[CV] ..... C=3.4000000000000004, penalty=l2, solver=sag, total=   0.1s\n",
      "[CV] C=3.4000000000000004, penalty=l2, solver=sag ....................\n",
      "[CV] ..... C=3.4000000000000004, penalty=l2, solver=sag, total=   0.1s\n",
      "[CV] C=3.4000000000000004, penalty=l2, solver=saga ...................\n",
      "[CV] .... C=3.4000000000000004, penalty=l2, solver=saga, total=   0.1s\n",
      "[CV] C=3.4000000000000004, penalty=l2, solver=saga ...................\n"
     ]
    },
    {
     "name": "stderr",
     "output_type": "stream",
     "text": [
      "E:\\Anaconda3\\lib\\site-packages\\sklearn\\linear_model\\_sag.py:330: ConvergenceWarning: The max_iter was reached which means the coef_ did not converge\n",
      "  \"the coef_ did not converge\", ConvergenceWarning)\n",
      "E:\\Anaconda3\\lib\\site-packages\\sklearn\\linear_model\\_sag.py:330: ConvergenceWarning: The max_iter was reached which means the coef_ did not converge\n",
      "  \"the coef_ did not converge\", ConvergenceWarning)\n"
     ]
    },
    {
     "name": "stdout",
     "output_type": "stream",
     "text": [
      "[CV] .... C=3.4000000000000004, penalty=l2, solver=saga, total=   0.1s\n",
      "[CV] C=3.4000000000000004, penalty=l2, solver=saga ...................\n",
      "[CV] .... C=3.4000000000000004, penalty=l2, solver=saga, total=   0.1s\n",
      "[CV] C=3.4000000000000004, penalty=l2, solver=saga ...................\n"
     ]
    },
    {
     "name": "stderr",
     "output_type": "stream",
     "text": [
      "E:\\Anaconda3\\lib\\site-packages\\sklearn\\linear_model\\_sag.py:330: ConvergenceWarning: The max_iter was reached which means the coef_ did not converge\n",
      "  \"the coef_ did not converge\", ConvergenceWarning)\n",
      "E:\\Anaconda3\\lib\\site-packages\\sklearn\\linear_model\\_sag.py:330: ConvergenceWarning: The max_iter was reached which means the coef_ did not converge\n",
      "  \"the coef_ did not converge\", ConvergenceWarning)\n"
     ]
    },
    {
     "name": "stdout",
     "output_type": "stream",
     "text": [
      "[CV] .... C=3.4000000000000004, penalty=l2, solver=saga, total=   0.1s\n",
      "[CV] C=3.4000000000000004, penalty=l2, solver=saga ...................\n",
      "[CV] .... C=3.4000000000000004, penalty=l2, solver=saga, total=   0.1s\n",
      "[CV] C=3.4000000000000004, penalty=l2, solver=liblinear ..............\n",
      "[CV]  C=3.4000000000000004, penalty=l2, solver=liblinear, total=   0.0s\n",
      "[CV] C=3.4000000000000004, penalty=l2, solver=liblinear ..............\n",
      "[CV]  C=3.4000000000000004, penalty=l2, solver=liblinear, total=   0.0s\n",
      "[CV] C=3.4000000000000004, penalty=l2, solver=liblinear ..............\n",
      "[CV]  C=3.4000000000000004, penalty=l2, solver=liblinear, total=   0.0s\n",
      "[CV] C=3.4000000000000004, penalty=l2, solver=liblinear ..............\n",
      "[CV]  C=3.4000000000000004, penalty=l2, solver=liblinear, total=   0.0s\n",
      "[CV] C=3.4000000000000004, penalty=l2, solver=liblinear ..............\n",
      "[CV]  C=3.4000000000000004, penalty=l2, solver=liblinear, total=   0.0s\n",
      "[CV] C=3.5000000000000004, penalty=l1, solver=newton-cg ..............\n",
      "[CV]  C=3.5000000000000004, penalty=l1, solver=newton-cg, total=   0.0s\n",
      "[CV] C=3.5000000000000004, penalty=l1, solver=newton-cg ..............\n",
      "[CV]  C=3.5000000000000004, penalty=l1, solver=newton-cg, total=   0.0s\n",
      "[CV] C=3.5000000000000004, penalty=l1, solver=newton-cg ..............\n",
      "[CV]  C=3.5000000000000004, penalty=l1, solver=newton-cg, total=   0.0s\n",
      "[CV] C=3.5000000000000004, penalty=l1, solver=newton-cg ..............\n",
      "[CV]  C=3.5000000000000004, penalty=l1, solver=newton-cg, total=   0.0s\n",
      "[CV] C=3.5000000000000004, penalty=l1, solver=newton-cg ..............\n",
      "[CV]  C=3.5000000000000004, penalty=l1, solver=newton-cg, total=   0.0s\n",
      "[CV] C=3.5000000000000004, penalty=l1, solver=lbfgs ..................\n",
      "[CV] ... C=3.5000000000000004, penalty=l1, solver=lbfgs, total=   0.0s\n",
      "[CV] C=3.5000000000000004, penalty=l1, solver=lbfgs ..................\n",
      "[CV] ... C=3.5000000000000004, penalty=l1, solver=lbfgs, total=   0.0s\n",
      "[CV] C=3.5000000000000004, penalty=l1, solver=lbfgs ..................\n",
      "[CV] ... C=3.5000000000000004, penalty=l1, solver=lbfgs, total=   0.0s\n",
      "[CV] C=3.5000000000000004, penalty=l1, solver=lbfgs ..................\n",
      "[CV] ... C=3.5000000000000004, penalty=l1, solver=lbfgs, total=   0.0s\n",
      "[CV] C=3.5000000000000004, penalty=l1, solver=lbfgs ..................\n",
      "[CV] ... C=3.5000000000000004, penalty=l1, solver=lbfgs, total=   0.0s\n",
      "[CV] C=3.5000000000000004, penalty=l1, solver=sag ....................\n",
      "[CV] ..... C=3.5000000000000004, penalty=l1, solver=sag, total=   0.0s\n",
      "[CV] C=3.5000000000000004, penalty=l1, solver=sag ....................\n",
      "[CV] ..... C=3.5000000000000004, penalty=l1, solver=sag, total=   0.0s\n",
      "[CV] C=3.5000000000000004, penalty=l1, solver=sag ....................\n",
      "[CV] ..... C=3.5000000000000004, penalty=l1, solver=sag, total=   0.0s\n",
      "[CV] C=3.5000000000000004, penalty=l1, solver=sag ....................\n",
      "[CV] ..... C=3.5000000000000004, penalty=l1, solver=sag, total=   0.0s\n",
      "[CV] C=3.5000000000000004, penalty=l1, solver=sag ....................\n",
      "[CV] ..... C=3.5000000000000004, penalty=l1, solver=sag, total=   0.0s\n",
      "[CV] C=3.5000000000000004, penalty=l1, solver=saga ...................\n"
     ]
    },
    {
     "name": "stderr",
     "output_type": "stream",
     "text": [
      "E:\\Anaconda3\\lib\\site-packages\\sklearn\\linear_model\\_sag.py:330: ConvergenceWarning: The max_iter was reached which means the coef_ did not converge\n",
      "  \"the coef_ did not converge\", ConvergenceWarning)\n",
      "E:\\Anaconda3\\lib\\site-packages\\sklearn\\model_selection\\_validation.py:536: FitFailedWarning: Estimator fit failed. The score on this train-test partition for these parameters will be set to nan. Details: \n",
      "ValueError: Solver newton-cg supports only 'l2' or 'none' penalties, got l1 penalty.\n",
      "\n",
      "  FitFailedWarning)\n",
      "E:\\Anaconda3\\lib\\site-packages\\sklearn\\model_selection\\_validation.py:536: FitFailedWarning: Estimator fit failed. The score on this train-test partition for these parameters will be set to nan. Details: \n",
      "ValueError: Solver lbfgs supports only 'l2' or 'none' penalties, got l1 penalty.\n",
      "\n",
      "  FitFailedWarning)\n",
      "E:\\Anaconda3\\lib\\site-packages\\sklearn\\model_selection\\_validation.py:536: FitFailedWarning: Estimator fit failed. The score on this train-test partition for these parameters will be set to nan. Details: \n",
      "ValueError: Solver sag supports only 'l2' or 'none' penalties, got l1 penalty.\n",
      "\n",
      "  FitFailedWarning)\n",
      "E:\\Anaconda3\\lib\\site-packages\\sklearn\\linear_model\\_sag.py:330: ConvergenceWarning: The max_iter was reached which means the coef_ did not converge\n",
      "  \"the coef_ did not converge\", ConvergenceWarning)\n"
     ]
    },
    {
     "name": "stdout",
     "output_type": "stream",
     "text": [
      "[CV] .... C=3.5000000000000004, penalty=l1, solver=saga, total=   0.1s\n",
      "[CV] C=3.5000000000000004, penalty=l1, solver=saga ...................\n",
      "[CV] .... C=3.5000000000000004, penalty=l1, solver=saga, total=   0.1s\n",
      "[CV] C=3.5000000000000004, penalty=l1, solver=saga ...................\n"
     ]
    },
    {
     "name": "stderr",
     "output_type": "stream",
     "text": [
      "E:\\Anaconda3\\lib\\site-packages\\sklearn\\linear_model\\_sag.py:330: ConvergenceWarning: The max_iter was reached which means the coef_ did not converge\n",
      "  \"the coef_ did not converge\", ConvergenceWarning)\n",
      "E:\\Anaconda3\\lib\\site-packages\\sklearn\\linear_model\\_sag.py:330: ConvergenceWarning: The max_iter was reached which means the coef_ did not converge\n",
      "  \"the coef_ did not converge\", ConvergenceWarning)\n"
     ]
    },
    {
     "name": "stdout",
     "output_type": "stream",
     "text": [
      "[CV] .... C=3.5000000000000004, penalty=l1, solver=saga, total=   0.1s\n",
      "[CV] C=3.5000000000000004, penalty=l1, solver=saga ...................\n",
      "[CV] .... C=3.5000000000000004, penalty=l1, solver=saga, total=   0.1s\n",
      "[CV] C=3.5000000000000004, penalty=l1, solver=saga ...................\n"
     ]
    },
    {
     "name": "stderr",
     "output_type": "stream",
     "text": [
      "E:\\Anaconda3\\lib\\site-packages\\sklearn\\linear_model\\_sag.py:330: ConvergenceWarning: The max_iter was reached which means the coef_ did not converge\n",
      "  \"the coef_ did not converge\", ConvergenceWarning)\n",
      "E:\\Anaconda3\\lib\\site-packages\\sklearn\\linear_model\\_sag.py:330: ConvergenceWarning: The max_iter was reached which means the coef_ did not converge\n",
      "  \"the coef_ did not converge\", ConvergenceWarning)\n"
     ]
    },
    {
     "name": "stdout",
     "output_type": "stream",
     "text": [
      "[CV] .... C=3.5000000000000004, penalty=l1, solver=saga, total=   0.1s\n",
      "[CV] C=3.5000000000000004, penalty=l1, solver=liblinear ..............\n",
      "[CV]  C=3.5000000000000004, penalty=l1, solver=liblinear, total=   0.0s\n",
      "[CV] C=3.5000000000000004, penalty=l1, solver=liblinear ..............\n",
      "[CV]  C=3.5000000000000004, penalty=l1, solver=liblinear, total=   0.0s\n",
      "[CV] C=3.5000000000000004, penalty=l1, solver=liblinear ..............\n",
      "[CV]  C=3.5000000000000004, penalty=l1, solver=liblinear, total=   0.0s\n",
      "[CV] C=3.5000000000000004, penalty=l1, solver=liblinear ..............\n",
      "[CV]  C=3.5000000000000004, penalty=l1, solver=liblinear, total=   0.0s\n",
      "[CV] C=3.5000000000000004, penalty=l1, solver=liblinear ..............\n",
      "[CV]  C=3.5000000000000004, penalty=l1, solver=liblinear, total=   0.0s\n",
      "[CV] C=3.5000000000000004, penalty=l2, solver=newton-cg ..............\n",
      "[CV]  C=3.5000000000000004, penalty=l2, solver=newton-cg, total=   0.0s\n",
      "[CV] C=3.5000000000000004, penalty=l2, solver=newton-cg ..............\n",
      "[CV]  C=3.5000000000000004, penalty=l2, solver=newton-cg, total=   0.0s\n",
      "[CV] C=3.5000000000000004, penalty=l2, solver=newton-cg ..............\n",
      "[CV]  C=3.5000000000000004, penalty=l2, solver=newton-cg, total=   0.0s\n",
      "[CV] C=3.5000000000000004, penalty=l2, solver=newton-cg ..............\n",
      "[CV]  C=3.5000000000000004, penalty=l2, solver=newton-cg, total=   0.0s\n",
      "[CV] C=3.5000000000000004, penalty=l2, solver=newton-cg ..............\n",
      "[CV]  C=3.5000000000000004, penalty=l2, solver=newton-cg, total=   0.0s\n",
      "[CV] C=3.5000000000000004, penalty=l2, solver=lbfgs ..................\n",
      "[CV] ... C=3.5000000000000004, penalty=l2, solver=lbfgs, total=   0.0s\n",
      "[CV] C=3.5000000000000004, penalty=l2, solver=lbfgs ..................\n",
      "[CV] ... C=3.5000000000000004, penalty=l2, solver=lbfgs, total=   0.0s\n",
      "[CV] C=3.5000000000000004, penalty=l2, solver=lbfgs ..................\n",
      "[CV] ... C=3.5000000000000004, penalty=l2, solver=lbfgs, total=   0.0s\n",
      "[CV] C=3.5000000000000004, penalty=l2, solver=lbfgs ..................\n",
      "[CV] ... C=3.5000000000000004, penalty=l2, solver=lbfgs, total=   0.0s\n",
      "[CV] C=3.5000000000000004, penalty=l2, solver=lbfgs ..................\n",
      "[CV] ... C=3.5000000000000004, penalty=l2, solver=lbfgs, total=   0.0s\n",
      "[CV] C=3.5000000000000004, penalty=l2, solver=sag ....................\n",
      "[CV] ..... C=3.5000000000000004, penalty=l2, solver=sag, total=   0.1s\n",
      "[CV] C=3.5000000000000004, penalty=l2, solver=sag ....................\n",
      "[CV] ..... C=3.5000000000000004, penalty=l2, solver=sag, total=   0.1s\n",
      "[CV] C=3.5000000000000004, penalty=l2, solver=sag ....................\n",
      "[CV] ..... C=3.5000000000000004, penalty=l2, solver=sag, total=   0.1s\n",
      "[CV] C=3.5000000000000004, penalty=l2, solver=sag ....................\n",
      "[CV] ..... C=3.5000000000000004, penalty=l2, solver=sag, total=   0.1s\n",
      "[CV] C=3.5000000000000004, penalty=l2, solver=sag ....................\n",
      "[CV] ..... C=3.5000000000000004, penalty=l2, solver=sag, total=   0.1s\n",
      "[CV] C=3.5000000000000004, penalty=l2, solver=saga ...................\n",
      "[CV] .... C=3.5000000000000004, penalty=l2, solver=saga, total=   0.1s\n",
      "[CV] C=3.5000000000000004, penalty=l2, solver=saga ...................\n"
     ]
    },
    {
     "name": "stderr",
     "output_type": "stream",
     "text": [
      "E:\\Anaconda3\\lib\\site-packages\\sklearn\\linear_model\\_sag.py:330: ConvergenceWarning: The max_iter was reached which means the coef_ did not converge\n",
      "  \"the coef_ did not converge\", ConvergenceWarning)\n",
      "E:\\Anaconda3\\lib\\site-packages\\sklearn\\linear_model\\_sag.py:330: ConvergenceWarning: The max_iter was reached which means the coef_ did not converge\n",
      "  \"the coef_ did not converge\", ConvergenceWarning)\n"
     ]
    },
    {
     "name": "stdout",
     "output_type": "stream",
     "text": [
      "[CV] .... C=3.5000000000000004, penalty=l2, solver=saga, total=   0.1s\n",
      "[CV] C=3.5000000000000004, penalty=l2, solver=saga ...................\n",
      "[CV] .... C=3.5000000000000004, penalty=l2, solver=saga, total=   0.1s\n",
      "[CV] C=3.5000000000000004, penalty=l2, solver=saga ...................\n"
     ]
    },
    {
     "name": "stderr",
     "output_type": "stream",
     "text": [
      "E:\\Anaconda3\\lib\\site-packages\\sklearn\\linear_model\\_sag.py:330: ConvergenceWarning: The max_iter was reached which means the coef_ did not converge\n",
      "  \"the coef_ did not converge\", ConvergenceWarning)\n",
      "E:\\Anaconda3\\lib\\site-packages\\sklearn\\linear_model\\_sag.py:330: ConvergenceWarning: The max_iter was reached which means the coef_ did not converge\n",
      "  \"the coef_ did not converge\", ConvergenceWarning)\n"
     ]
    },
    {
     "name": "stdout",
     "output_type": "stream",
     "text": [
      "[CV] .... C=3.5000000000000004, penalty=l2, solver=saga, total=   0.1s\n",
      "[CV] C=3.5000000000000004, penalty=l2, solver=saga ...................\n",
      "[CV] .... C=3.5000000000000004, penalty=l2, solver=saga, total=   0.1s\n",
      "[CV] C=3.5000000000000004, penalty=l2, solver=liblinear ..............\n",
      "[CV]  C=3.5000000000000004, penalty=l2, solver=liblinear, total=   0.0s\n",
      "[CV] C=3.5000000000000004, penalty=l2, solver=liblinear ..............\n",
      "[CV]  C=3.5000000000000004, penalty=l2, solver=liblinear, total=   0.0s\n",
      "[CV] C=3.5000000000000004, penalty=l2, solver=liblinear ..............\n",
      "[CV]  C=3.5000000000000004, penalty=l2, solver=liblinear, total=   0.0s\n",
      "[CV] C=3.5000000000000004, penalty=l2, solver=liblinear ..............\n",
      "[CV]  C=3.5000000000000004, penalty=l2, solver=liblinear, total=   0.0s\n",
      "[CV] C=3.5000000000000004, penalty=l2, solver=liblinear ..............\n",
      "[CV]  C=3.5000000000000004, penalty=l2, solver=liblinear, total=   0.0s\n",
      "[CV] C=3.6, penalty=l1, solver=newton-cg .............................\n",
      "[CV] .............. C=3.6, penalty=l1, solver=newton-cg, total=   0.0s\n",
      "[CV] C=3.6, penalty=l1, solver=newton-cg .............................\n",
      "[CV] .............. C=3.6, penalty=l1, solver=newton-cg, total=   0.0s\n",
      "[CV] C=3.6, penalty=l1, solver=newton-cg .............................\n",
      "[CV] .............. C=3.6, penalty=l1, solver=newton-cg, total=   0.0s\n",
      "[CV] C=3.6, penalty=l1, solver=newton-cg .............................\n",
      "[CV] .............. C=3.6, penalty=l1, solver=newton-cg, total=   0.0s\n",
      "[CV] C=3.6, penalty=l1, solver=newton-cg .............................\n",
      "[CV] .............. C=3.6, penalty=l1, solver=newton-cg, total=   0.0s\n",
      "[CV] C=3.6, penalty=l1, solver=lbfgs .................................\n",
      "[CV] .................. C=3.6, penalty=l1, solver=lbfgs, total=   0.0s\n",
      "[CV] C=3.6, penalty=l1, solver=lbfgs .................................\n",
      "[CV] .................. C=3.6, penalty=l1, solver=lbfgs, total=   0.0s\n",
      "[CV] C=3.6, penalty=l1, solver=lbfgs .................................\n",
      "[CV] .................. C=3.6, penalty=l1, solver=lbfgs, total=   0.0s\n",
      "[CV] C=3.6, penalty=l1, solver=lbfgs .................................\n",
      "[CV] .................. C=3.6, penalty=l1, solver=lbfgs, total=   0.0s\n",
      "[CV] C=3.6, penalty=l1, solver=lbfgs .................................\n",
      "[CV] .................. C=3.6, penalty=l1, solver=lbfgs, total=   0.0s\n",
      "[CV] C=3.6, penalty=l1, solver=sag ...................................\n",
      "[CV] .................... C=3.6, penalty=l1, solver=sag, total=   0.0s\n",
      "[CV] C=3.6, penalty=l1, solver=sag ...................................\n",
      "[CV] .................... C=3.6, penalty=l1, solver=sag, total=   0.0s\n",
      "[CV] C=3.6, penalty=l1, solver=sag ...................................\n",
      "[CV] .................... C=3.6, penalty=l1, solver=sag, total=   0.0s\n",
      "[CV] C=3.6, penalty=l1, solver=sag ...................................\n",
      "[CV] .................... C=3.6, penalty=l1, solver=sag, total=   0.0s\n",
      "[CV] C=3.6, penalty=l1, solver=sag ...................................\n",
      "[CV] .................... C=3.6, penalty=l1, solver=sag, total=   0.0s\n",
      "[CV] C=3.6, penalty=l1, solver=saga ..................................\n"
     ]
    },
    {
     "name": "stderr",
     "output_type": "stream",
     "text": [
      "E:\\Anaconda3\\lib\\site-packages\\sklearn\\linear_model\\_sag.py:330: ConvergenceWarning: The max_iter was reached which means the coef_ did not converge\n",
      "  \"the coef_ did not converge\", ConvergenceWarning)\n",
      "E:\\Anaconda3\\lib\\site-packages\\sklearn\\model_selection\\_validation.py:536: FitFailedWarning: Estimator fit failed. The score on this train-test partition for these parameters will be set to nan. Details: \n",
      "ValueError: Solver newton-cg supports only 'l2' or 'none' penalties, got l1 penalty.\n",
      "\n",
      "  FitFailedWarning)\n",
      "E:\\Anaconda3\\lib\\site-packages\\sklearn\\model_selection\\_validation.py:536: FitFailedWarning: Estimator fit failed. The score on this train-test partition for these parameters will be set to nan. Details: \n",
      "ValueError: Solver lbfgs supports only 'l2' or 'none' penalties, got l1 penalty.\n",
      "\n",
      "  FitFailedWarning)\n",
      "E:\\Anaconda3\\lib\\site-packages\\sklearn\\model_selection\\_validation.py:536: FitFailedWarning: Estimator fit failed. The score on this train-test partition for these parameters will be set to nan. Details: \n",
      "ValueError: Solver sag supports only 'l2' or 'none' penalties, got l1 penalty.\n",
      "\n",
      "  FitFailedWarning)\n",
      "E:\\Anaconda3\\lib\\site-packages\\sklearn\\linear_model\\_sag.py:330: ConvergenceWarning: The max_iter was reached which means the coef_ did not converge\n",
      "  \"the coef_ did not converge\", ConvergenceWarning)\n"
     ]
    },
    {
     "name": "stdout",
     "output_type": "stream",
     "text": [
      "[CV] ................... C=3.6, penalty=l1, solver=saga, total=   0.1s\n",
      "[CV] C=3.6, penalty=l1, solver=saga ..................................\n",
      "[CV] ................... C=3.6, penalty=l1, solver=saga, total=   0.1s\n",
      "[CV] C=3.6, penalty=l1, solver=saga ..................................\n"
     ]
    },
    {
     "name": "stderr",
     "output_type": "stream",
     "text": [
      "E:\\Anaconda3\\lib\\site-packages\\sklearn\\linear_model\\_sag.py:330: ConvergenceWarning: The max_iter was reached which means the coef_ did not converge\n",
      "  \"the coef_ did not converge\", ConvergenceWarning)\n",
      "E:\\Anaconda3\\lib\\site-packages\\sklearn\\linear_model\\_sag.py:330: ConvergenceWarning: The max_iter was reached which means the coef_ did not converge\n",
      "  \"the coef_ did not converge\", ConvergenceWarning)\n"
     ]
    },
    {
     "name": "stdout",
     "output_type": "stream",
     "text": [
      "[CV] ................... C=3.6, penalty=l1, solver=saga, total=   0.1s\n",
      "[CV] C=3.6, penalty=l1, solver=saga ..................................\n",
      "[CV] ................... C=3.6, penalty=l1, solver=saga, total=   0.1s\n",
      "[CV] C=3.6, penalty=l1, solver=saga ..................................\n"
     ]
    },
    {
     "name": "stderr",
     "output_type": "stream",
     "text": [
      "E:\\Anaconda3\\lib\\site-packages\\sklearn\\linear_model\\_sag.py:330: ConvergenceWarning: The max_iter was reached which means the coef_ did not converge\n",
      "  \"the coef_ did not converge\", ConvergenceWarning)\n",
      "E:\\Anaconda3\\lib\\site-packages\\sklearn\\linear_model\\_sag.py:330: ConvergenceWarning: The max_iter was reached which means the coef_ did not converge\n",
      "  \"the coef_ did not converge\", ConvergenceWarning)\n"
     ]
    },
    {
     "name": "stdout",
     "output_type": "stream",
     "text": [
      "[CV] ................... C=3.6, penalty=l1, solver=saga, total=   0.1s\n",
      "[CV] C=3.6, penalty=l1, solver=liblinear .............................\n",
      "[CV] .............. C=3.6, penalty=l1, solver=liblinear, total=   0.0s\n",
      "[CV] C=3.6, penalty=l1, solver=liblinear .............................\n",
      "[CV] .............. C=3.6, penalty=l1, solver=liblinear, total=   0.0s\n",
      "[CV] C=3.6, penalty=l1, solver=liblinear .............................\n",
      "[CV] .............. C=3.6, penalty=l1, solver=liblinear, total=   0.0s\n",
      "[CV] C=3.6, penalty=l1, solver=liblinear .............................\n",
      "[CV] .............. C=3.6, penalty=l1, solver=liblinear, total=   0.0s\n",
      "[CV] C=3.6, penalty=l1, solver=liblinear .............................\n",
      "[CV] .............. C=3.6, penalty=l1, solver=liblinear, total=   0.0s\n",
      "[CV] C=3.6, penalty=l2, solver=newton-cg .............................\n",
      "[CV] .............. C=3.6, penalty=l2, solver=newton-cg, total=   0.0s\n",
      "[CV] C=3.6, penalty=l2, solver=newton-cg .............................\n",
      "[CV] .............. C=3.6, penalty=l2, solver=newton-cg, total=   0.0s\n",
      "[CV] C=3.6, penalty=l2, solver=newton-cg .............................\n",
      "[CV] .............. C=3.6, penalty=l2, solver=newton-cg, total=   0.0s\n",
      "[CV] C=3.6, penalty=l2, solver=newton-cg .............................\n",
      "[CV] .............. C=3.6, penalty=l2, solver=newton-cg, total=   0.0s\n",
      "[CV] C=3.6, penalty=l2, solver=newton-cg .............................\n",
      "[CV] .............. C=3.6, penalty=l2, solver=newton-cg, total=   0.0s\n",
      "[CV] C=3.6, penalty=l2, solver=lbfgs .................................\n",
      "[CV] .................. C=3.6, penalty=l2, solver=lbfgs, total=   0.0s\n",
      "[CV] C=3.6, penalty=l2, solver=lbfgs .................................\n",
      "[CV] .................. C=3.6, penalty=l2, solver=lbfgs, total=   0.0s\n",
      "[CV] C=3.6, penalty=l2, solver=lbfgs .................................\n",
      "[CV] .................. C=3.6, penalty=l2, solver=lbfgs, total=   0.0s\n",
      "[CV] C=3.6, penalty=l2, solver=lbfgs .................................\n",
      "[CV] .................. C=3.6, penalty=l2, solver=lbfgs, total=   0.0s\n",
      "[CV] C=3.6, penalty=l2, solver=lbfgs .................................\n",
      "[CV] .................. C=3.6, penalty=l2, solver=lbfgs, total=   0.0s\n",
      "[CV] C=3.6, penalty=l2, solver=sag ...................................\n",
      "[CV] .................... C=3.6, penalty=l2, solver=sag, total=   0.1s\n",
      "[CV] C=3.6, penalty=l2, solver=sag ...................................\n",
      "[CV] .................... C=3.6, penalty=l2, solver=sag, total=   0.1s\n",
      "[CV] C=3.6, penalty=l2, solver=sag ...................................\n",
      "[CV] .................... C=3.6, penalty=l2, solver=sag, total=   0.1s\n",
      "[CV] C=3.6, penalty=l2, solver=sag ...................................\n",
      "[CV] .................... C=3.6, penalty=l2, solver=sag, total=   0.1s\n",
      "[CV] C=3.6, penalty=l2, solver=sag ...................................\n",
      "[CV] .................... C=3.6, penalty=l2, solver=sag, total=   0.1s\n",
      "[CV] C=3.6, penalty=l2, solver=saga ..................................\n",
      "[CV] ................... C=3.6, penalty=l2, solver=saga, total=   0.1s\n",
      "[CV] C=3.6, penalty=l2, solver=saga ..................................\n"
     ]
    },
    {
     "name": "stderr",
     "output_type": "stream",
     "text": [
      "E:\\Anaconda3\\lib\\site-packages\\sklearn\\linear_model\\_sag.py:330: ConvergenceWarning: The max_iter was reached which means the coef_ did not converge\n",
      "  \"the coef_ did not converge\", ConvergenceWarning)\n",
      "E:\\Anaconda3\\lib\\site-packages\\sklearn\\linear_model\\_sag.py:330: ConvergenceWarning: The max_iter was reached which means the coef_ did not converge\n",
      "  \"the coef_ did not converge\", ConvergenceWarning)\n"
     ]
    },
    {
     "name": "stdout",
     "output_type": "stream",
     "text": [
      "[CV] ................... C=3.6, penalty=l2, solver=saga, total=   0.1s\n",
      "[CV] C=3.6, penalty=l2, solver=saga ..................................\n",
      "[CV] ................... C=3.6, penalty=l2, solver=saga, total=   0.1s\n",
      "[CV] C=3.6, penalty=l2, solver=saga ..................................\n"
     ]
    },
    {
     "name": "stderr",
     "output_type": "stream",
     "text": [
      "E:\\Anaconda3\\lib\\site-packages\\sklearn\\linear_model\\_sag.py:330: ConvergenceWarning: The max_iter was reached which means the coef_ did not converge\n",
      "  \"the coef_ did not converge\", ConvergenceWarning)\n",
      "E:\\Anaconda3\\lib\\site-packages\\sklearn\\linear_model\\_sag.py:330: ConvergenceWarning: The max_iter was reached which means the coef_ did not converge\n",
      "  \"the coef_ did not converge\", ConvergenceWarning)\n"
     ]
    },
    {
     "name": "stdout",
     "output_type": "stream",
     "text": [
      "[CV] ................... C=3.6, penalty=l2, solver=saga, total=   0.1s\n",
      "[CV] C=3.6, penalty=l2, solver=saga ..................................\n",
      "[CV] ................... C=3.6, penalty=l2, solver=saga, total=   0.1s\n",
      "[CV] C=3.6, penalty=l2, solver=liblinear .............................\n",
      "[CV] .............. C=3.6, penalty=l2, solver=liblinear, total=   0.0s\n",
      "[CV] C=3.6, penalty=l2, solver=liblinear .............................\n",
      "[CV] .............. C=3.6, penalty=l2, solver=liblinear, total=   0.0s\n",
      "[CV] C=3.6, penalty=l2, solver=liblinear .............................\n",
      "[CV] .............. C=3.6, penalty=l2, solver=liblinear, total=   0.0s\n",
      "[CV] C=3.6, penalty=l2, solver=liblinear .............................\n",
      "[CV] .............. C=3.6, penalty=l2, solver=liblinear, total=   0.0s\n",
      "[CV] C=3.6, penalty=l2, solver=liblinear .............................\n",
      "[CV] .............. C=3.6, penalty=l2, solver=liblinear, total=   0.0s\n",
      "[CV] C=3.7, penalty=l1, solver=newton-cg .............................\n",
      "[CV] .............. C=3.7, penalty=l1, solver=newton-cg, total=   0.0s\n",
      "[CV] C=3.7, penalty=l1, solver=newton-cg .............................\n",
      "[CV] .............. C=3.7, penalty=l1, solver=newton-cg, total=   0.0s\n",
      "[CV] C=3.7, penalty=l1, solver=newton-cg .............................\n",
      "[CV] .............. C=3.7, penalty=l1, solver=newton-cg, total=   0.0s\n",
      "[CV] C=3.7, penalty=l1, solver=newton-cg .............................\n",
      "[CV] .............. C=3.7, penalty=l1, solver=newton-cg, total=   0.0s\n",
      "[CV] C=3.7, penalty=l1, solver=newton-cg .............................\n",
      "[CV] .............. C=3.7, penalty=l1, solver=newton-cg, total=   0.0s\n",
      "[CV] C=3.7, penalty=l1, solver=lbfgs .................................\n",
      "[CV] .................. C=3.7, penalty=l1, solver=lbfgs, total=   0.0s\n",
      "[CV] C=3.7, penalty=l1, solver=lbfgs .................................\n",
      "[CV] .................. C=3.7, penalty=l1, solver=lbfgs, total=   0.0s\n",
      "[CV] C=3.7, penalty=l1, solver=lbfgs .................................\n",
      "[CV] .................. C=3.7, penalty=l1, solver=lbfgs, total=   0.0s\n",
      "[CV] C=3.7, penalty=l1, solver=lbfgs .................................\n",
      "[CV] .................. C=3.7, penalty=l1, solver=lbfgs, total=   0.0s\n",
      "[CV] C=3.7, penalty=l1, solver=lbfgs .................................\n",
      "[CV] .................. C=3.7, penalty=l1, solver=lbfgs, total=   0.0s\n",
      "[CV] C=3.7, penalty=l1, solver=sag ...................................\n",
      "[CV] .................... C=3.7, penalty=l1, solver=sag, total=   0.0s\n",
      "[CV] C=3.7, penalty=l1, solver=sag ...................................\n",
      "[CV] .................... C=3.7, penalty=l1, solver=sag, total=   0.0s\n",
      "[CV] C=3.7, penalty=l1, solver=sag ...................................\n",
      "[CV] .................... C=3.7, penalty=l1, solver=sag, total=   0.0s\n",
      "[CV] C=3.7, penalty=l1, solver=sag ...................................\n",
      "[CV] .................... C=3.7, penalty=l1, solver=sag, total=   0.0s\n",
      "[CV] C=3.7, penalty=l1, solver=sag ...................................\n",
      "[CV] .................... C=3.7, penalty=l1, solver=sag, total=   0.0s\n",
      "[CV] C=3.7, penalty=l1, solver=saga ..................................\n"
     ]
    },
    {
     "name": "stderr",
     "output_type": "stream",
     "text": [
      "E:\\Anaconda3\\lib\\site-packages\\sklearn\\linear_model\\_sag.py:330: ConvergenceWarning: The max_iter was reached which means the coef_ did not converge\n",
      "  \"the coef_ did not converge\", ConvergenceWarning)\n",
      "E:\\Anaconda3\\lib\\site-packages\\sklearn\\model_selection\\_validation.py:536: FitFailedWarning: Estimator fit failed. The score on this train-test partition for these parameters will be set to nan. Details: \n",
      "ValueError: Solver newton-cg supports only 'l2' or 'none' penalties, got l1 penalty.\n",
      "\n",
      "  FitFailedWarning)\n",
      "E:\\Anaconda3\\lib\\site-packages\\sklearn\\model_selection\\_validation.py:536: FitFailedWarning: Estimator fit failed. The score on this train-test partition for these parameters will be set to nan. Details: \n",
      "ValueError: Solver lbfgs supports only 'l2' or 'none' penalties, got l1 penalty.\n",
      "\n",
      "  FitFailedWarning)\n",
      "E:\\Anaconda3\\lib\\site-packages\\sklearn\\model_selection\\_validation.py:536: FitFailedWarning: Estimator fit failed. The score on this train-test partition for these parameters will be set to nan. Details: \n",
      "ValueError: Solver sag supports only 'l2' or 'none' penalties, got l1 penalty.\n",
      "\n",
      "  FitFailedWarning)\n",
      "E:\\Anaconda3\\lib\\site-packages\\sklearn\\linear_model\\_sag.py:330: ConvergenceWarning: The max_iter was reached which means the coef_ did not converge\n",
      "  \"the coef_ did not converge\", ConvergenceWarning)\n"
     ]
    },
    {
     "name": "stdout",
     "output_type": "stream",
     "text": [
      "[CV] ................... C=3.7, penalty=l1, solver=saga, total=   0.1s\n",
      "[CV] C=3.7, penalty=l1, solver=saga ..................................\n",
      "[CV] ................... C=3.7, penalty=l1, solver=saga, total=   0.1s\n",
      "[CV] C=3.7, penalty=l1, solver=saga ..................................\n"
     ]
    },
    {
     "name": "stderr",
     "output_type": "stream",
     "text": [
      "E:\\Anaconda3\\lib\\site-packages\\sklearn\\linear_model\\_sag.py:330: ConvergenceWarning: The max_iter was reached which means the coef_ did not converge\n",
      "  \"the coef_ did not converge\", ConvergenceWarning)\n",
      "E:\\Anaconda3\\lib\\site-packages\\sklearn\\linear_model\\_sag.py:330: ConvergenceWarning: The max_iter was reached which means the coef_ did not converge\n",
      "  \"the coef_ did not converge\", ConvergenceWarning)\n"
     ]
    },
    {
     "name": "stdout",
     "output_type": "stream",
     "text": [
      "[CV] ................... C=3.7, penalty=l1, solver=saga, total=   0.1s\n",
      "[CV] C=3.7, penalty=l1, solver=saga ..................................\n",
      "[CV] ................... C=3.7, penalty=l1, solver=saga, total=   0.1s\n",
      "[CV] C=3.7, penalty=l1, solver=saga ..................................\n"
     ]
    },
    {
     "name": "stderr",
     "output_type": "stream",
     "text": [
      "E:\\Anaconda3\\lib\\site-packages\\sklearn\\linear_model\\_sag.py:330: ConvergenceWarning: The max_iter was reached which means the coef_ did not converge\n",
      "  \"the coef_ did not converge\", ConvergenceWarning)\n",
      "E:\\Anaconda3\\lib\\site-packages\\sklearn\\linear_model\\_sag.py:330: ConvergenceWarning: The max_iter was reached which means the coef_ did not converge\n",
      "  \"the coef_ did not converge\", ConvergenceWarning)\n"
     ]
    },
    {
     "name": "stdout",
     "output_type": "stream",
     "text": [
      "[CV] ................... C=3.7, penalty=l1, solver=saga, total=   0.1s\n",
      "[CV] C=3.7, penalty=l1, solver=liblinear .............................\n",
      "[CV] .............. C=3.7, penalty=l1, solver=liblinear, total=   0.0s\n",
      "[CV] C=3.7, penalty=l1, solver=liblinear .............................\n",
      "[CV] .............. C=3.7, penalty=l1, solver=liblinear, total=   0.0s\n",
      "[CV] C=3.7, penalty=l1, solver=liblinear .............................\n",
      "[CV] .............. C=3.7, penalty=l1, solver=liblinear, total=   0.0s\n",
      "[CV] C=3.7, penalty=l1, solver=liblinear .............................\n",
      "[CV] .............. C=3.7, penalty=l1, solver=liblinear, total=   0.0s\n",
      "[CV] C=3.7, penalty=l1, solver=liblinear .............................\n",
      "[CV] .............. C=3.7, penalty=l1, solver=liblinear, total=   0.0s\n",
      "[CV] C=3.7, penalty=l2, solver=newton-cg .............................\n",
      "[CV] .............. C=3.7, penalty=l2, solver=newton-cg, total=   0.0s\n",
      "[CV] C=3.7, penalty=l2, solver=newton-cg .............................\n",
      "[CV] .............. C=3.7, penalty=l2, solver=newton-cg, total=   0.0s\n",
      "[CV] C=3.7, penalty=l2, solver=newton-cg .............................\n",
      "[CV] .............. C=3.7, penalty=l2, solver=newton-cg, total=   0.0s\n",
      "[CV] C=3.7, penalty=l2, solver=newton-cg .............................\n",
      "[CV] .............. C=3.7, penalty=l2, solver=newton-cg, total=   0.0s\n",
      "[CV] C=3.7, penalty=l2, solver=newton-cg .............................\n",
      "[CV] .............. C=3.7, penalty=l2, solver=newton-cg, total=   0.0s\n",
      "[CV] C=3.7, penalty=l2, solver=lbfgs .................................\n",
      "[CV] .................. C=3.7, penalty=l2, solver=lbfgs, total=   0.0s\n",
      "[CV] C=3.7, penalty=l2, solver=lbfgs .................................\n",
      "[CV] .................. C=3.7, penalty=l2, solver=lbfgs, total=   0.0s\n",
      "[CV] C=3.7, penalty=l2, solver=lbfgs .................................\n",
      "[CV] .................. C=3.7, penalty=l2, solver=lbfgs, total=   0.0s\n",
      "[CV] C=3.7, penalty=l2, solver=lbfgs .................................\n",
      "[CV] .................. C=3.7, penalty=l2, solver=lbfgs, total=   0.0s\n",
      "[CV] C=3.7, penalty=l2, solver=lbfgs .................................\n",
      "[CV] .................. C=3.7, penalty=l2, solver=lbfgs, total=   0.0s\n",
      "[CV] C=3.7, penalty=l2, solver=sag ...................................\n",
      "[CV] .................... C=3.7, penalty=l2, solver=sag, total=   0.1s\n",
      "[CV] C=3.7, penalty=l2, solver=sag ...................................\n",
      "[CV] .................... C=3.7, penalty=l2, solver=sag, total=   0.1s\n",
      "[CV] C=3.7, penalty=l2, solver=sag ...................................\n",
      "[CV] .................... C=3.7, penalty=l2, solver=sag, total=   0.1s\n",
      "[CV] C=3.7, penalty=l2, solver=sag ...................................\n",
      "[CV] .................... C=3.7, penalty=l2, solver=sag, total=   0.1s\n",
      "[CV] C=3.7, penalty=l2, solver=sag ...................................\n",
      "[CV] .................... C=3.7, penalty=l2, solver=sag, total=   0.1s\n",
      "[CV] C=3.7, penalty=l2, solver=saga ..................................\n",
      "[CV] ................... C=3.7, penalty=l2, solver=saga, total=   0.1s\n",
      "[CV] C=3.7, penalty=l2, solver=saga ..................................\n"
     ]
    },
    {
     "name": "stderr",
     "output_type": "stream",
     "text": [
      "E:\\Anaconda3\\lib\\site-packages\\sklearn\\linear_model\\_sag.py:330: ConvergenceWarning: The max_iter was reached which means the coef_ did not converge\n",
      "  \"the coef_ did not converge\", ConvergenceWarning)\n",
      "E:\\Anaconda3\\lib\\site-packages\\sklearn\\linear_model\\_sag.py:330: ConvergenceWarning: The max_iter was reached which means the coef_ did not converge\n",
      "  \"the coef_ did not converge\", ConvergenceWarning)\n"
     ]
    },
    {
     "name": "stdout",
     "output_type": "stream",
     "text": [
      "[CV] ................... C=3.7, penalty=l2, solver=saga, total=   0.1s\n",
      "[CV] C=3.7, penalty=l2, solver=saga ..................................\n",
      "[CV] ................... C=3.7, penalty=l2, solver=saga, total=   0.1s\n",
      "[CV] C=3.7, penalty=l2, solver=saga ..................................\n"
     ]
    },
    {
     "name": "stderr",
     "output_type": "stream",
     "text": [
      "E:\\Anaconda3\\lib\\site-packages\\sklearn\\linear_model\\_sag.py:330: ConvergenceWarning: The max_iter was reached which means the coef_ did not converge\n",
      "  \"the coef_ did not converge\", ConvergenceWarning)\n",
      "E:\\Anaconda3\\lib\\site-packages\\sklearn\\linear_model\\_sag.py:330: ConvergenceWarning: The max_iter was reached which means the coef_ did not converge\n",
      "  \"the coef_ did not converge\", ConvergenceWarning)\n"
     ]
    },
    {
     "name": "stdout",
     "output_type": "stream",
     "text": [
      "[CV] ................... C=3.7, penalty=l2, solver=saga, total=   0.1s\n",
      "[CV] C=3.7, penalty=l2, solver=saga ..................................\n",
      "[CV] ................... C=3.7, penalty=l2, solver=saga, total=   0.1s\n",
      "[CV] C=3.7, penalty=l2, solver=liblinear .............................\n",
      "[CV] .............. C=3.7, penalty=l2, solver=liblinear, total=   0.0s\n",
      "[CV] C=3.7, penalty=l2, solver=liblinear .............................\n",
      "[CV] .............. C=3.7, penalty=l2, solver=liblinear, total=   0.0s\n",
      "[CV] C=3.7, penalty=l2, solver=liblinear .............................\n",
      "[CV] .............. C=3.7, penalty=l2, solver=liblinear, total=   0.0s\n",
      "[CV] C=3.7, penalty=l2, solver=liblinear .............................\n",
      "[CV] .............. C=3.7, penalty=l2, solver=liblinear, total=   0.0s\n",
      "[CV] C=3.7, penalty=l2, solver=liblinear .............................\n",
      "[CV] .............. C=3.7, penalty=l2, solver=liblinear, total=   0.0s\n",
      "[CV] C=3.8000000000000003, penalty=l1, solver=newton-cg ..............\n",
      "[CV]  C=3.8000000000000003, penalty=l1, solver=newton-cg, total=   0.0s\n",
      "[CV] C=3.8000000000000003, penalty=l1, solver=newton-cg ..............\n",
      "[CV]  C=3.8000000000000003, penalty=l1, solver=newton-cg, total=   0.0s\n",
      "[CV] C=3.8000000000000003, penalty=l1, solver=newton-cg ..............\n",
      "[CV]  C=3.8000000000000003, penalty=l1, solver=newton-cg, total=   0.0s\n",
      "[CV] C=3.8000000000000003, penalty=l1, solver=newton-cg ..............\n",
      "[CV]  C=3.8000000000000003, penalty=l1, solver=newton-cg, total=   0.0s\n",
      "[CV] C=3.8000000000000003, penalty=l1, solver=newton-cg ..............\n",
      "[CV]  C=3.8000000000000003, penalty=l1, solver=newton-cg, total=   0.0s\n",
      "[CV] C=3.8000000000000003, penalty=l1, solver=lbfgs ..................\n",
      "[CV] ... C=3.8000000000000003, penalty=l1, solver=lbfgs, total=   0.0s\n",
      "[CV] C=3.8000000000000003, penalty=l1, solver=lbfgs ..................\n",
      "[CV] ... C=3.8000000000000003, penalty=l1, solver=lbfgs, total=   0.0s\n",
      "[CV] C=3.8000000000000003, penalty=l1, solver=lbfgs ..................\n",
      "[CV] ... C=3.8000000000000003, penalty=l1, solver=lbfgs, total=   0.0s\n",
      "[CV] C=3.8000000000000003, penalty=l1, solver=lbfgs ..................\n",
      "[CV] ... C=3.8000000000000003, penalty=l1, solver=lbfgs, total=   0.0s\n",
      "[CV] C=3.8000000000000003, penalty=l1, solver=lbfgs ..................\n",
      "[CV] ... C=3.8000000000000003, penalty=l1, solver=lbfgs, total=   0.0s\n",
      "[CV] C=3.8000000000000003, penalty=l1, solver=sag ....................\n",
      "[CV] ..... C=3.8000000000000003, penalty=l1, solver=sag, total=   0.0s\n",
      "[CV] C=3.8000000000000003, penalty=l1, solver=sag ....................\n",
      "[CV] ..... C=3.8000000000000003, penalty=l1, solver=sag, total=   0.0s\n",
      "[CV] C=3.8000000000000003, penalty=l1, solver=sag ....................\n",
      "[CV] ..... C=3.8000000000000003, penalty=l1, solver=sag, total=   0.0s\n",
      "[CV] C=3.8000000000000003, penalty=l1, solver=sag ....................\n",
      "[CV] ..... C=3.8000000000000003, penalty=l1, solver=sag, total=   0.0s\n",
      "[CV] C=3.8000000000000003, penalty=l1, solver=sag ....................\n",
      "[CV] ..... C=3.8000000000000003, penalty=l1, solver=sag, total=   0.0s\n",
      "[CV] C=3.8000000000000003, penalty=l1, solver=saga ...................\n"
     ]
    },
    {
     "name": "stderr",
     "output_type": "stream",
     "text": [
      "E:\\Anaconda3\\lib\\site-packages\\sklearn\\linear_model\\_sag.py:330: ConvergenceWarning: The max_iter was reached which means the coef_ did not converge\n",
      "  \"the coef_ did not converge\", ConvergenceWarning)\n",
      "E:\\Anaconda3\\lib\\site-packages\\sklearn\\model_selection\\_validation.py:536: FitFailedWarning: Estimator fit failed. The score on this train-test partition for these parameters will be set to nan. Details: \n",
      "ValueError: Solver newton-cg supports only 'l2' or 'none' penalties, got l1 penalty.\n",
      "\n",
      "  FitFailedWarning)\n",
      "E:\\Anaconda3\\lib\\site-packages\\sklearn\\model_selection\\_validation.py:536: FitFailedWarning: Estimator fit failed. The score on this train-test partition for these parameters will be set to nan. Details: \n",
      "ValueError: Solver lbfgs supports only 'l2' or 'none' penalties, got l1 penalty.\n",
      "\n",
      "  FitFailedWarning)\n",
      "E:\\Anaconda3\\lib\\site-packages\\sklearn\\model_selection\\_validation.py:536: FitFailedWarning: Estimator fit failed. The score on this train-test partition for these parameters will be set to nan. Details: \n",
      "ValueError: Solver sag supports only 'l2' or 'none' penalties, got l1 penalty.\n",
      "\n",
      "  FitFailedWarning)\n",
      "E:\\Anaconda3\\lib\\site-packages\\sklearn\\linear_model\\_sag.py:330: ConvergenceWarning: The max_iter was reached which means the coef_ did not converge\n",
      "  \"the coef_ did not converge\", ConvergenceWarning)\n"
     ]
    },
    {
     "name": "stdout",
     "output_type": "stream",
     "text": [
      "[CV] .... C=3.8000000000000003, penalty=l1, solver=saga, total=   0.1s\n",
      "[CV] C=3.8000000000000003, penalty=l1, solver=saga ...................\n",
      "[CV] .... C=3.8000000000000003, penalty=l1, solver=saga, total=   0.1s\n",
      "[CV] C=3.8000000000000003, penalty=l1, solver=saga ...................\n"
     ]
    },
    {
     "name": "stderr",
     "output_type": "stream",
     "text": [
      "E:\\Anaconda3\\lib\\site-packages\\sklearn\\linear_model\\_sag.py:330: ConvergenceWarning: The max_iter was reached which means the coef_ did not converge\n",
      "  \"the coef_ did not converge\", ConvergenceWarning)\n",
      "E:\\Anaconda3\\lib\\site-packages\\sklearn\\linear_model\\_sag.py:330: ConvergenceWarning: The max_iter was reached which means the coef_ did not converge\n",
      "  \"the coef_ did not converge\", ConvergenceWarning)\n"
     ]
    },
    {
     "name": "stdout",
     "output_type": "stream",
     "text": [
      "[CV] .... C=3.8000000000000003, penalty=l1, solver=saga, total=   0.1s\n",
      "[CV] C=3.8000000000000003, penalty=l1, solver=saga ...................\n",
      "[CV] .... C=3.8000000000000003, penalty=l1, solver=saga, total=   0.1s\n",
      "[CV] C=3.8000000000000003, penalty=l1, solver=saga ...................\n"
     ]
    },
    {
     "name": "stderr",
     "output_type": "stream",
     "text": [
      "E:\\Anaconda3\\lib\\site-packages\\sklearn\\linear_model\\_sag.py:330: ConvergenceWarning: The max_iter was reached which means the coef_ did not converge\n",
      "  \"the coef_ did not converge\", ConvergenceWarning)\n",
      "E:\\Anaconda3\\lib\\site-packages\\sklearn\\linear_model\\_sag.py:330: ConvergenceWarning: The max_iter was reached which means the coef_ did not converge\n",
      "  \"the coef_ did not converge\", ConvergenceWarning)\n"
     ]
    },
    {
     "name": "stdout",
     "output_type": "stream",
     "text": [
      "[CV] .... C=3.8000000000000003, penalty=l1, solver=saga, total=   0.1s\n",
      "[CV] C=3.8000000000000003, penalty=l1, solver=liblinear ..............\n",
      "[CV]  C=3.8000000000000003, penalty=l1, solver=liblinear, total=   0.0s\n",
      "[CV] C=3.8000000000000003, penalty=l1, solver=liblinear ..............\n",
      "[CV]  C=3.8000000000000003, penalty=l1, solver=liblinear, total=   0.0s\n",
      "[CV] C=3.8000000000000003, penalty=l1, solver=liblinear ..............\n",
      "[CV]  C=3.8000000000000003, penalty=l1, solver=liblinear, total=   0.0s\n",
      "[CV] C=3.8000000000000003, penalty=l1, solver=liblinear ..............\n",
      "[CV]  C=3.8000000000000003, penalty=l1, solver=liblinear, total=   0.0s\n",
      "[CV] C=3.8000000000000003, penalty=l1, solver=liblinear ..............\n",
      "[CV]  C=3.8000000000000003, penalty=l1, solver=liblinear, total=   0.0s\n",
      "[CV] C=3.8000000000000003, penalty=l2, solver=newton-cg ..............\n",
      "[CV]  C=3.8000000000000003, penalty=l2, solver=newton-cg, total=   0.0s\n",
      "[CV] C=3.8000000000000003, penalty=l2, solver=newton-cg ..............\n",
      "[CV]  C=3.8000000000000003, penalty=l2, solver=newton-cg, total=   0.0s\n",
      "[CV] C=3.8000000000000003, penalty=l2, solver=newton-cg ..............\n",
      "[CV]  C=3.8000000000000003, penalty=l2, solver=newton-cg, total=   0.0s\n",
      "[CV] C=3.8000000000000003, penalty=l2, solver=newton-cg ..............\n",
      "[CV]  C=3.8000000000000003, penalty=l2, solver=newton-cg, total=   0.0s\n",
      "[CV] C=3.8000000000000003, penalty=l2, solver=newton-cg ..............\n",
      "[CV]  C=3.8000000000000003, penalty=l2, solver=newton-cg, total=   0.0s\n",
      "[CV] C=3.8000000000000003, penalty=l2, solver=lbfgs ..................\n",
      "[CV] ... C=3.8000000000000003, penalty=l2, solver=lbfgs, total=   0.0s\n",
      "[CV] C=3.8000000000000003, penalty=l2, solver=lbfgs ..................\n",
      "[CV] ... C=3.8000000000000003, penalty=l2, solver=lbfgs, total=   0.0s\n",
      "[CV] C=3.8000000000000003, penalty=l2, solver=lbfgs ..................\n",
      "[CV] ... C=3.8000000000000003, penalty=l2, solver=lbfgs, total=   0.0s\n",
      "[CV] C=3.8000000000000003, penalty=l2, solver=lbfgs ..................\n",
      "[CV] ... C=3.8000000000000003, penalty=l2, solver=lbfgs, total=   0.0s\n",
      "[CV] C=3.8000000000000003, penalty=l2, solver=lbfgs ..................\n",
      "[CV] ... C=3.8000000000000003, penalty=l2, solver=lbfgs, total=   0.0s\n",
      "[CV] C=3.8000000000000003, penalty=l2, solver=sag ....................\n",
      "[CV] ..... C=3.8000000000000003, penalty=l2, solver=sag, total=   0.1s\n",
      "[CV] C=3.8000000000000003, penalty=l2, solver=sag ....................\n",
      "[CV] ..... C=3.8000000000000003, penalty=l2, solver=sag, total=   0.1s\n",
      "[CV] C=3.8000000000000003, penalty=l2, solver=sag ....................\n",
      "[CV] ..... C=3.8000000000000003, penalty=l2, solver=sag, total=   0.1s\n",
      "[CV] C=3.8000000000000003, penalty=l2, solver=sag ....................\n",
      "[CV] ..... C=3.8000000000000003, penalty=l2, solver=sag, total=   0.1s\n",
      "[CV] C=3.8000000000000003, penalty=l2, solver=sag ....................\n",
      "[CV] ..... C=3.8000000000000003, penalty=l2, solver=sag, total=   0.1s\n",
      "[CV] C=3.8000000000000003, penalty=l2, solver=saga ...................\n",
      "[CV] .... C=3.8000000000000003, penalty=l2, solver=saga, total=   0.1s\n",
      "[CV] C=3.8000000000000003, penalty=l2, solver=saga ...................\n"
     ]
    },
    {
     "name": "stderr",
     "output_type": "stream",
     "text": [
      "E:\\Anaconda3\\lib\\site-packages\\sklearn\\linear_model\\_sag.py:330: ConvergenceWarning: The max_iter was reached which means the coef_ did not converge\n",
      "  \"the coef_ did not converge\", ConvergenceWarning)\n",
      "E:\\Anaconda3\\lib\\site-packages\\sklearn\\linear_model\\_sag.py:330: ConvergenceWarning: The max_iter was reached which means the coef_ did not converge\n",
      "  \"the coef_ did not converge\", ConvergenceWarning)\n"
     ]
    },
    {
     "name": "stdout",
     "output_type": "stream",
     "text": [
      "[CV] .... C=3.8000000000000003, penalty=l2, solver=saga, total=   0.1s\n",
      "[CV] C=3.8000000000000003, penalty=l2, solver=saga ...................\n",
      "[CV] .... C=3.8000000000000003, penalty=l2, solver=saga, total=   0.1s\n",
      "[CV] C=3.8000000000000003, penalty=l2, solver=saga ...................\n"
     ]
    },
    {
     "name": "stderr",
     "output_type": "stream",
     "text": [
      "E:\\Anaconda3\\lib\\site-packages\\sklearn\\linear_model\\_sag.py:330: ConvergenceWarning: The max_iter was reached which means the coef_ did not converge\n",
      "  \"the coef_ did not converge\", ConvergenceWarning)\n",
      "E:\\Anaconda3\\lib\\site-packages\\sklearn\\linear_model\\_sag.py:330: ConvergenceWarning: The max_iter was reached which means the coef_ did not converge\n",
      "  \"the coef_ did not converge\", ConvergenceWarning)\n"
     ]
    },
    {
     "name": "stdout",
     "output_type": "stream",
     "text": [
      "[CV] .... C=3.8000000000000003, penalty=l2, solver=saga, total=   0.1s\n",
      "[CV] C=3.8000000000000003, penalty=l2, solver=saga ...................\n",
      "[CV] .... C=3.8000000000000003, penalty=l2, solver=saga, total=   0.1s\n",
      "[CV] C=3.8000000000000003, penalty=l2, solver=liblinear ..............\n",
      "[CV]  C=3.8000000000000003, penalty=l2, solver=liblinear, total=   0.0s\n",
      "[CV] C=3.8000000000000003, penalty=l2, solver=liblinear ..............\n",
      "[CV]  C=3.8000000000000003, penalty=l2, solver=liblinear, total=   0.0s\n",
      "[CV] C=3.8000000000000003, penalty=l2, solver=liblinear ..............\n",
      "[CV]  C=3.8000000000000003, penalty=l2, solver=liblinear, total=   0.0s\n",
      "[CV] C=3.8000000000000003, penalty=l2, solver=liblinear ..............\n",
      "[CV]  C=3.8000000000000003, penalty=l2, solver=liblinear, total=   0.0s\n",
      "[CV] C=3.8000000000000003, penalty=l2, solver=liblinear ..............\n",
      "[CV]  C=3.8000000000000003, penalty=l2, solver=liblinear, total=   0.0s\n",
      "[CV] C=3.9000000000000004, penalty=l1, solver=newton-cg ..............\n",
      "[CV]  C=3.9000000000000004, penalty=l1, solver=newton-cg, total=   0.0s\n",
      "[CV] C=3.9000000000000004, penalty=l1, solver=newton-cg ..............\n",
      "[CV]  C=3.9000000000000004, penalty=l1, solver=newton-cg, total=   0.0s\n",
      "[CV] C=3.9000000000000004, penalty=l1, solver=newton-cg ..............\n",
      "[CV]  C=3.9000000000000004, penalty=l1, solver=newton-cg, total=   0.0s\n",
      "[CV] C=3.9000000000000004, penalty=l1, solver=newton-cg ..............\n",
      "[CV]  C=3.9000000000000004, penalty=l1, solver=newton-cg, total=   0.0s\n",
      "[CV] C=3.9000000000000004, penalty=l1, solver=newton-cg ..............\n",
      "[CV]  C=3.9000000000000004, penalty=l1, solver=newton-cg, total=   0.0s\n",
      "[CV] C=3.9000000000000004, penalty=l1, solver=lbfgs ..................\n",
      "[CV] ... C=3.9000000000000004, penalty=l1, solver=lbfgs, total=   0.0s\n",
      "[CV] C=3.9000000000000004, penalty=l1, solver=lbfgs ..................\n",
      "[CV] ... C=3.9000000000000004, penalty=l1, solver=lbfgs, total=   0.0s\n",
      "[CV] C=3.9000000000000004, penalty=l1, solver=lbfgs ..................\n",
      "[CV] ... C=3.9000000000000004, penalty=l1, solver=lbfgs, total=   0.0s\n",
      "[CV] C=3.9000000000000004, penalty=l1, solver=lbfgs ..................\n",
      "[CV] ... C=3.9000000000000004, penalty=l1, solver=lbfgs, total=   0.0s\n",
      "[CV] C=3.9000000000000004, penalty=l1, solver=lbfgs ..................\n",
      "[CV] ... C=3.9000000000000004, penalty=l1, solver=lbfgs, total=   0.0s\n",
      "[CV] C=3.9000000000000004, penalty=l1, solver=sag ....................\n",
      "[CV] ..... C=3.9000000000000004, penalty=l1, solver=sag, total=   0.0s\n",
      "[CV] C=3.9000000000000004, penalty=l1, solver=sag ....................\n",
      "[CV] ..... C=3.9000000000000004, penalty=l1, solver=sag, total=   0.0s\n",
      "[CV] C=3.9000000000000004, penalty=l1, solver=sag ....................\n",
      "[CV] ..... C=3.9000000000000004, penalty=l1, solver=sag, total=   0.0s\n",
      "[CV] C=3.9000000000000004, penalty=l1, solver=sag ....................\n",
      "[CV] ..... C=3.9000000000000004, penalty=l1, solver=sag, total=   0.0s\n",
      "[CV] C=3.9000000000000004, penalty=l1, solver=sag ....................\n",
      "[CV] ..... C=3.9000000000000004, penalty=l1, solver=sag, total=   0.0s\n",
      "[CV] C=3.9000000000000004, penalty=l1, solver=saga ...................\n"
     ]
    },
    {
     "name": "stderr",
     "output_type": "stream",
     "text": [
      "E:\\Anaconda3\\lib\\site-packages\\sklearn\\linear_model\\_sag.py:330: ConvergenceWarning: The max_iter was reached which means the coef_ did not converge\n",
      "  \"the coef_ did not converge\", ConvergenceWarning)\n",
      "E:\\Anaconda3\\lib\\site-packages\\sklearn\\model_selection\\_validation.py:536: FitFailedWarning: Estimator fit failed. The score on this train-test partition for these parameters will be set to nan. Details: \n",
      "ValueError: Solver newton-cg supports only 'l2' or 'none' penalties, got l1 penalty.\n",
      "\n",
      "  FitFailedWarning)\n",
      "E:\\Anaconda3\\lib\\site-packages\\sklearn\\model_selection\\_validation.py:536: FitFailedWarning: Estimator fit failed. The score on this train-test partition for these parameters will be set to nan. Details: \n",
      "ValueError: Solver lbfgs supports only 'l2' or 'none' penalties, got l1 penalty.\n",
      "\n",
      "  FitFailedWarning)\n",
      "E:\\Anaconda3\\lib\\site-packages\\sklearn\\model_selection\\_validation.py:536: FitFailedWarning: Estimator fit failed. The score on this train-test partition for these parameters will be set to nan. Details: \n",
      "ValueError: Solver sag supports only 'l2' or 'none' penalties, got l1 penalty.\n",
      "\n",
      "  FitFailedWarning)\n",
      "E:\\Anaconda3\\lib\\site-packages\\sklearn\\linear_model\\_sag.py:330: ConvergenceWarning: The max_iter was reached which means the coef_ did not converge\n",
      "  \"the coef_ did not converge\", ConvergenceWarning)\n"
     ]
    },
    {
     "name": "stdout",
     "output_type": "stream",
     "text": [
      "[CV] .... C=3.9000000000000004, penalty=l1, solver=saga, total=   0.1s\n",
      "[CV] C=3.9000000000000004, penalty=l1, solver=saga ...................\n",
      "[CV] .... C=3.9000000000000004, penalty=l1, solver=saga, total=   0.1s\n",
      "[CV] C=3.9000000000000004, penalty=l1, solver=saga ...................\n"
     ]
    },
    {
     "name": "stderr",
     "output_type": "stream",
     "text": [
      "E:\\Anaconda3\\lib\\site-packages\\sklearn\\linear_model\\_sag.py:330: ConvergenceWarning: The max_iter was reached which means the coef_ did not converge\n",
      "  \"the coef_ did not converge\", ConvergenceWarning)\n",
      "E:\\Anaconda3\\lib\\site-packages\\sklearn\\linear_model\\_sag.py:330: ConvergenceWarning: The max_iter was reached which means the coef_ did not converge\n",
      "  \"the coef_ did not converge\", ConvergenceWarning)\n"
     ]
    },
    {
     "name": "stdout",
     "output_type": "stream",
     "text": [
      "[CV] .... C=3.9000000000000004, penalty=l1, solver=saga, total=   0.1s\n",
      "[CV] C=3.9000000000000004, penalty=l1, solver=saga ...................\n",
      "[CV] .... C=3.9000000000000004, penalty=l1, solver=saga, total=   0.1s\n",
      "[CV] C=3.9000000000000004, penalty=l1, solver=saga ...................\n"
     ]
    },
    {
     "name": "stderr",
     "output_type": "stream",
     "text": [
      "E:\\Anaconda3\\lib\\site-packages\\sklearn\\linear_model\\_sag.py:330: ConvergenceWarning: The max_iter was reached which means the coef_ did not converge\n",
      "  \"the coef_ did not converge\", ConvergenceWarning)\n",
      "E:\\Anaconda3\\lib\\site-packages\\sklearn\\linear_model\\_sag.py:330: ConvergenceWarning: The max_iter was reached which means the coef_ did not converge\n",
      "  \"the coef_ did not converge\", ConvergenceWarning)\n"
     ]
    },
    {
     "name": "stdout",
     "output_type": "stream",
     "text": [
      "[CV] .... C=3.9000000000000004, penalty=l1, solver=saga, total=   0.1s\n",
      "[CV] C=3.9000000000000004, penalty=l1, solver=liblinear ..............\n",
      "[CV]  C=3.9000000000000004, penalty=l1, solver=liblinear, total=   0.0s\n",
      "[CV] C=3.9000000000000004, penalty=l1, solver=liblinear ..............\n",
      "[CV]  C=3.9000000000000004, penalty=l1, solver=liblinear, total=   0.0s\n",
      "[CV] C=3.9000000000000004, penalty=l1, solver=liblinear ..............\n",
      "[CV]  C=3.9000000000000004, penalty=l1, solver=liblinear, total=   0.0s\n",
      "[CV] C=3.9000000000000004, penalty=l1, solver=liblinear ..............\n",
      "[CV]  C=3.9000000000000004, penalty=l1, solver=liblinear, total=   0.0s\n",
      "[CV] C=3.9000000000000004, penalty=l1, solver=liblinear ..............\n",
      "[CV]  C=3.9000000000000004, penalty=l1, solver=liblinear, total=   0.0s\n",
      "[CV] C=3.9000000000000004, penalty=l2, solver=newton-cg ..............\n",
      "[CV]  C=3.9000000000000004, penalty=l2, solver=newton-cg, total=   0.0s\n",
      "[CV] C=3.9000000000000004, penalty=l2, solver=newton-cg ..............\n",
      "[CV]  C=3.9000000000000004, penalty=l2, solver=newton-cg, total=   0.0s\n",
      "[CV] C=3.9000000000000004, penalty=l2, solver=newton-cg ..............\n",
      "[CV]  C=3.9000000000000004, penalty=l2, solver=newton-cg, total=   0.0s\n",
      "[CV] C=3.9000000000000004, penalty=l2, solver=newton-cg ..............\n",
      "[CV]  C=3.9000000000000004, penalty=l2, solver=newton-cg, total=   0.0s\n",
      "[CV] C=3.9000000000000004, penalty=l2, solver=newton-cg ..............\n",
      "[CV]  C=3.9000000000000004, penalty=l2, solver=newton-cg, total=   0.0s\n",
      "[CV] C=3.9000000000000004, penalty=l2, solver=lbfgs ..................\n",
      "[CV] ... C=3.9000000000000004, penalty=l2, solver=lbfgs, total=   0.0s\n",
      "[CV] C=3.9000000000000004, penalty=l2, solver=lbfgs ..................\n",
      "[CV] ... C=3.9000000000000004, penalty=l2, solver=lbfgs, total=   0.0s\n",
      "[CV] C=3.9000000000000004, penalty=l2, solver=lbfgs ..................\n",
      "[CV] ... C=3.9000000000000004, penalty=l2, solver=lbfgs, total=   0.0s\n",
      "[CV] C=3.9000000000000004, penalty=l2, solver=lbfgs ..................\n",
      "[CV] ... C=3.9000000000000004, penalty=l2, solver=lbfgs, total=   0.0s\n",
      "[CV] C=3.9000000000000004, penalty=l2, solver=lbfgs ..................\n",
      "[CV] ... C=3.9000000000000004, penalty=l2, solver=lbfgs, total=   0.0s\n",
      "[CV] C=3.9000000000000004, penalty=l2, solver=sag ....................\n",
      "[CV] ..... C=3.9000000000000004, penalty=l2, solver=sag, total=   0.1s\n",
      "[CV] C=3.9000000000000004, penalty=l2, solver=sag ....................\n",
      "[CV] ..... C=3.9000000000000004, penalty=l2, solver=sag, total=   0.1s\n",
      "[CV] C=3.9000000000000004, penalty=l2, solver=sag ....................\n",
      "[CV] ..... C=3.9000000000000004, penalty=l2, solver=sag, total=   0.1s\n",
      "[CV] C=3.9000000000000004, penalty=l2, solver=sag ....................\n",
      "[CV] ..... C=3.9000000000000004, penalty=l2, solver=sag, total=   0.1s\n",
      "[CV] C=3.9000000000000004, penalty=l2, solver=sag ....................\n",
      "[CV] ..... C=3.9000000000000004, penalty=l2, solver=sag, total=   0.1s\n",
      "[CV] C=3.9000000000000004, penalty=l2, solver=saga ...................\n",
      "[CV] .... C=3.9000000000000004, penalty=l2, solver=saga, total=   0.1s\n",
      "[CV] C=3.9000000000000004, penalty=l2, solver=saga ...................\n"
     ]
    },
    {
     "name": "stderr",
     "output_type": "stream",
     "text": [
      "E:\\Anaconda3\\lib\\site-packages\\sklearn\\linear_model\\_sag.py:330: ConvergenceWarning: The max_iter was reached which means the coef_ did not converge\n",
      "  \"the coef_ did not converge\", ConvergenceWarning)\n",
      "E:\\Anaconda3\\lib\\site-packages\\sklearn\\linear_model\\_sag.py:330: ConvergenceWarning: The max_iter was reached which means the coef_ did not converge\n",
      "  \"the coef_ did not converge\", ConvergenceWarning)\n"
     ]
    },
    {
     "name": "stdout",
     "output_type": "stream",
     "text": [
      "[CV] .... C=3.9000000000000004, penalty=l2, solver=saga, total=   0.1s\n",
      "[CV] C=3.9000000000000004, penalty=l2, solver=saga ...................\n",
      "[CV] .... C=3.9000000000000004, penalty=l2, solver=saga, total=   0.1s\n",
      "[CV] C=3.9000000000000004, penalty=l2, solver=saga ...................\n"
     ]
    },
    {
     "name": "stderr",
     "output_type": "stream",
     "text": [
      "E:\\Anaconda3\\lib\\site-packages\\sklearn\\linear_model\\_sag.py:330: ConvergenceWarning: The max_iter was reached which means the coef_ did not converge\n",
      "  \"the coef_ did not converge\", ConvergenceWarning)\n",
      "E:\\Anaconda3\\lib\\site-packages\\sklearn\\linear_model\\_sag.py:330: ConvergenceWarning: The max_iter was reached which means the coef_ did not converge\n",
      "  \"the coef_ did not converge\", ConvergenceWarning)\n"
     ]
    },
    {
     "name": "stdout",
     "output_type": "stream",
     "text": [
      "[CV] .... C=3.9000000000000004, penalty=l2, solver=saga, total=   0.1s\n",
      "[CV] C=3.9000000000000004, penalty=l2, solver=saga ...................\n",
      "[CV] .... C=3.9000000000000004, penalty=l2, solver=saga, total=   0.1s\n",
      "[CV] C=3.9000000000000004, penalty=l2, solver=liblinear ..............\n",
      "[CV]  C=3.9000000000000004, penalty=l2, solver=liblinear, total=   0.0s\n",
      "[CV] C=3.9000000000000004, penalty=l2, solver=liblinear ..............\n",
      "[CV]  C=3.9000000000000004, penalty=l2, solver=liblinear, total=   0.0s\n",
      "[CV] C=3.9000000000000004, penalty=l2, solver=liblinear ..............\n",
      "[CV]  C=3.9000000000000004, penalty=l2, solver=liblinear, total=   0.0s\n",
      "[CV] C=3.9000000000000004, penalty=l2, solver=liblinear ..............\n",
      "[CV]  C=3.9000000000000004, penalty=l2, solver=liblinear, total=   0.0s\n",
      "[CV] C=3.9000000000000004, penalty=l2, solver=liblinear ..............\n",
      "[CV]  C=3.9000000000000004, penalty=l2, solver=liblinear, total=   0.0s\n",
      "[CV] C=4.0, penalty=l1, solver=newton-cg .............................\n",
      "[CV] .............. C=4.0, penalty=l1, solver=newton-cg, total=   0.0s\n",
      "[CV] C=4.0, penalty=l1, solver=newton-cg .............................\n",
      "[CV] .............. C=4.0, penalty=l1, solver=newton-cg, total=   0.0s\n",
      "[CV] C=4.0, penalty=l1, solver=newton-cg .............................\n",
      "[CV] .............. C=4.0, penalty=l1, solver=newton-cg, total=   0.0s\n",
      "[CV] C=4.0, penalty=l1, solver=newton-cg .............................\n",
      "[CV] .............. C=4.0, penalty=l1, solver=newton-cg, total=   0.0s\n",
      "[CV] C=4.0, penalty=l1, solver=newton-cg .............................\n",
      "[CV] .............. C=4.0, penalty=l1, solver=newton-cg, total=   0.0s\n",
      "[CV] C=4.0, penalty=l1, solver=lbfgs .................................\n",
      "[CV] .................. C=4.0, penalty=l1, solver=lbfgs, total=   0.0s\n",
      "[CV] C=4.0, penalty=l1, solver=lbfgs .................................\n",
      "[CV] .................. C=4.0, penalty=l1, solver=lbfgs, total=   0.0s\n",
      "[CV] C=4.0, penalty=l1, solver=lbfgs .................................\n",
      "[CV] .................. C=4.0, penalty=l1, solver=lbfgs, total=   0.0s\n",
      "[CV] C=4.0, penalty=l1, solver=lbfgs .................................\n",
      "[CV] .................. C=4.0, penalty=l1, solver=lbfgs, total=   0.0s\n",
      "[CV] C=4.0, penalty=l1, solver=lbfgs .................................\n",
      "[CV] .................. C=4.0, penalty=l1, solver=lbfgs, total=   0.0s\n",
      "[CV] C=4.0, penalty=l1, solver=sag ...................................\n",
      "[CV] .................... C=4.0, penalty=l1, solver=sag, total=   0.0s\n",
      "[CV] C=4.0, penalty=l1, solver=sag ...................................\n",
      "[CV] .................... C=4.0, penalty=l1, solver=sag, total=   0.0s\n",
      "[CV] C=4.0, penalty=l1, solver=sag ...................................\n",
      "[CV] .................... C=4.0, penalty=l1, solver=sag, total=   0.0s\n",
      "[CV] C=4.0, penalty=l1, solver=sag ...................................\n",
      "[CV] .................... C=4.0, penalty=l1, solver=sag, total=   0.0s\n",
      "[CV] C=4.0, penalty=l1, solver=sag ...................................\n",
      "[CV] .................... C=4.0, penalty=l1, solver=sag, total=   0.0s\n",
      "[CV] C=4.0, penalty=l1, solver=saga ..................................\n"
     ]
    },
    {
     "name": "stderr",
     "output_type": "stream",
     "text": [
      "E:\\Anaconda3\\lib\\site-packages\\sklearn\\linear_model\\_sag.py:330: ConvergenceWarning: The max_iter was reached which means the coef_ did not converge\n",
      "  \"the coef_ did not converge\", ConvergenceWarning)\n",
      "E:\\Anaconda3\\lib\\site-packages\\sklearn\\model_selection\\_validation.py:536: FitFailedWarning: Estimator fit failed. The score on this train-test partition for these parameters will be set to nan. Details: \n",
      "ValueError: Solver newton-cg supports only 'l2' or 'none' penalties, got l1 penalty.\n",
      "\n",
      "  FitFailedWarning)\n",
      "E:\\Anaconda3\\lib\\site-packages\\sklearn\\model_selection\\_validation.py:536: FitFailedWarning: Estimator fit failed. The score on this train-test partition for these parameters will be set to nan. Details: \n",
      "ValueError: Solver lbfgs supports only 'l2' or 'none' penalties, got l1 penalty.\n",
      "\n",
      "  FitFailedWarning)\n",
      "E:\\Anaconda3\\lib\\site-packages\\sklearn\\model_selection\\_validation.py:536: FitFailedWarning: Estimator fit failed. The score on this train-test partition for these parameters will be set to nan. Details: \n",
      "ValueError: Solver sag supports only 'l2' or 'none' penalties, got l1 penalty.\n",
      "\n",
      "  FitFailedWarning)\n",
      "E:\\Anaconda3\\lib\\site-packages\\sklearn\\linear_model\\_sag.py:330: ConvergenceWarning: The max_iter was reached which means the coef_ did not converge\n",
      "  \"the coef_ did not converge\", ConvergenceWarning)\n"
     ]
    },
    {
     "name": "stdout",
     "output_type": "stream",
     "text": [
      "[CV] ................... C=4.0, penalty=l1, solver=saga, total=   0.1s\n",
      "[CV] C=4.0, penalty=l1, solver=saga ..................................\n",
      "[CV] ................... C=4.0, penalty=l1, solver=saga, total=   0.1s\n",
      "[CV] C=4.0, penalty=l1, solver=saga ..................................\n"
     ]
    },
    {
     "name": "stderr",
     "output_type": "stream",
     "text": [
      "E:\\Anaconda3\\lib\\site-packages\\sklearn\\linear_model\\_sag.py:330: ConvergenceWarning: The max_iter was reached which means the coef_ did not converge\n",
      "  \"the coef_ did not converge\", ConvergenceWarning)\n",
      "E:\\Anaconda3\\lib\\site-packages\\sklearn\\linear_model\\_sag.py:330: ConvergenceWarning: The max_iter was reached which means the coef_ did not converge\n",
      "  \"the coef_ did not converge\", ConvergenceWarning)\n"
     ]
    },
    {
     "name": "stdout",
     "output_type": "stream",
     "text": [
      "[CV] ................... C=4.0, penalty=l1, solver=saga, total=   0.1s\n",
      "[CV] C=4.0, penalty=l1, solver=saga ..................................\n",
      "[CV] ................... C=4.0, penalty=l1, solver=saga, total=   0.2s\n",
      "[CV] C=4.0, penalty=l1, solver=saga ..................................\n"
     ]
    },
    {
     "name": "stderr",
     "output_type": "stream",
     "text": [
      "E:\\Anaconda3\\lib\\site-packages\\sklearn\\linear_model\\_sag.py:330: ConvergenceWarning: The max_iter was reached which means the coef_ did not converge\n",
      "  \"the coef_ did not converge\", ConvergenceWarning)\n",
      "E:\\Anaconda3\\lib\\site-packages\\sklearn\\linear_model\\_sag.py:330: ConvergenceWarning: The max_iter was reached which means the coef_ did not converge\n",
      "  \"the coef_ did not converge\", ConvergenceWarning)\n"
     ]
    },
    {
     "name": "stdout",
     "output_type": "stream",
     "text": [
      "[CV] ................... C=4.0, penalty=l1, solver=saga, total=   0.1s\n",
      "[CV] C=4.0, penalty=l1, solver=liblinear .............................\n",
      "[CV] .............. C=4.0, penalty=l1, solver=liblinear, total=   0.0s\n",
      "[CV] C=4.0, penalty=l1, solver=liblinear .............................\n",
      "[CV] .............. C=4.0, penalty=l1, solver=liblinear, total=   0.0s\n",
      "[CV] C=4.0, penalty=l1, solver=liblinear .............................\n",
      "[CV] .............. C=4.0, penalty=l1, solver=liblinear, total=   0.0s\n",
      "[CV] C=4.0, penalty=l1, solver=liblinear .............................\n",
      "[CV] .............. C=4.0, penalty=l1, solver=liblinear, total=   0.0s\n",
      "[CV] C=4.0, penalty=l1, solver=liblinear .............................\n",
      "[CV] .............. C=4.0, penalty=l1, solver=liblinear, total=   0.0s\n",
      "[CV] C=4.0, penalty=l2, solver=newton-cg .............................\n",
      "[CV] .............. C=4.0, penalty=l2, solver=newton-cg, total=   0.0s\n",
      "[CV] C=4.0, penalty=l2, solver=newton-cg .............................\n",
      "[CV] .............. C=4.0, penalty=l2, solver=newton-cg, total=   0.0s\n",
      "[CV] C=4.0, penalty=l2, solver=newton-cg .............................\n",
      "[CV] .............. C=4.0, penalty=l2, solver=newton-cg, total=   0.0s\n",
      "[CV] C=4.0, penalty=l2, solver=newton-cg .............................\n",
      "[CV] .............. C=4.0, penalty=l2, solver=newton-cg, total=   0.0s\n",
      "[CV] C=4.0, penalty=l2, solver=newton-cg .............................\n",
      "[CV] .............. C=4.0, penalty=l2, solver=newton-cg, total=   0.0s\n",
      "[CV] C=4.0, penalty=l2, solver=lbfgs .................................\n",
      "[CV] .................. C=4.0, penalty=l2, solver=lbfgs, total=   0.0s\n",
      "[CV] C=4.0, penalty=l2, solver=lbfgs .................................\n",
      "[CV] .................. C=4.0, penalty=l2, solver=lbfgs, total=   0.0s\n",
      "[CV] C=4.0, penalty=l2, solver=lbfgs .................................\n",
      "[CV] .................. C=4.0, penalty=l2, solver=lbfgs, total=   0.0s\n",
      "[CV] C=4.0, penalty=l2, solver=lbfgs .................................\n",
      "[CV] .................. C=4.0, penalty=l2, solver=lbfgs, total=   0.0s\n",
      "[CV] C=4.0, penalty=l2, solver=lbfgs .................................\n",
      "[CV] .................. C=4.0, penalty=l2, solver=lbfgs, total=   0.0s\n",
      "[CV] C=4.0, penalty=l2, solver=sag ...................................\n",
      "[CV] .................... C=4.0, penalty=l2, solver=sag, total=   0.1s\n",
      "[CV] C=4.0, penalty=l2, solver=sag ...................................\n",
      "[CV] .................... C=4.0, penalty=l2, solver=sag, total=   0.1s\n",
      "[CV] C=4.0, penalty=l2, solver=sag ...................................\n",
      "[CV] .................... C=4.0, penalty=l2, solver=sag, total=   0.1s\n",
      "[CV] C=4.0, penalty=l2, solver=sag ...................................\n",
      "[CV] .................... C=4.0, penalty=l2, solver=sag, total=   0.1s\n",
      "[CV] C=4.0, penalty=l2, solver=sag ...................................\n",
      "[CV] .................... C=4.0, penalty=l2, solver=sag, total=   0.1s\n",
      "[CV] C=4.0, penalty=l2, solver=saga ..................................\n",
      "[CV] ................... C=4.0, penalty=l2, solver=saga, total=   0.1s\n",
      "[CV] C=4.0, penalty=l2, solver=saga ..................................\n"
     ]
    },
    {
     "name": "stderr",
     "output_type": "stream",
     "text": [
      "E:\\Anaconda3\\lib\\site-packages\\sklearn\\linear_model\\_sag.py:330: ConvergenceWarning: The max_iter was reached which means the coef_ did not converge\n",
      "  \"the coef_ did not converge\", ConvergenceWarning)\n",
      "E:\\Anaconda3\\lib\\site-packages\\sklearn\\linear_model\\_sag.py:330: ConvergenceWarning: The max_iter was reached which means the coef_ did not converge\n",
      "  \"the coef_ did not converge\", ConvergenceWarning)\n"
     ]
    },
    {
     "name": "stdout",
     "output_type": "stream",
     "text": [
      "[CV] ................... C=4.0, penalty=l2, solver=saga, total=   0.1s\n",
      "[CV] C=4.0, penalty=l2, solver=saga ..................................\n",
      "[CV] ................... C=4.0, penalty=l2, solver=saga, total=   0.1s\n",
      "[CV] C=4.0, penalty=l2, solver=saga ..................................\n"
     ]
    },
    {
     "name": "stderr",
     "output_type": "stream",
     "text": [
      "E:\\Anaconda3\\lib\\site-packages\\sklearn\\linear_model\\_sag.py:330: ConvergenceWarning: The max_iter was reached which means the coef_ did not converge\n",
      "  \"the coef_ did not converge\", ConvergenceWarning)\n",
      "E:\\Anaconda3\\lib\\site-packages\\sklearn\\linear_model\\_sag.py:330: ConvergenceWarning: The max_iter was reached which means the coef_ did not converge\n",
      "  \"the coef_ did not converge\", ConvergenceWarning)\n"
     ]
    },
    {
     "name": "stdout",
     "output_type": "stream",
     "text": [
      "[CV] ................... C=4.0, penalty=l2, solver=saga, total=   0.1s\n",
      "[CV] C=4.0, penalty=l2, solver=saga ..................................\n",
      "[CV] ................... C=4.0, penalty=l2, solver=saga, total=   0.1s\n",
      "[CV] C=4.0, penalty=l2, solver=liblinear .............................\n",
      "[CV] .............. C=4.0, penalty=l2, solver=liblinear, total=   0.0s\n",
      "[CV] C=4.0, penalty=l2, solver=liblinear .............................\n",
      "[CV] .............. C=4.0, penalty=l2, solver=liblinear, total=   0.0s\n",
      "[CV] C=4.0, penalty=l2, solver=liblinear .............................\n",
      "[CV] .............. C=4.0, penalty=l2, solver=liblinear, total=   0.0s\n",
      "[CV] C=4.0, penalty=l2, solver=liblinear .............................\n",
      "[CV] .............. C=4.0, penalty=l2, solver=liblinear, total=   0.0s\n",
      "[CV] C=4.0, penalty=l2, solver=liblinear .............................\n",
      "[CV] .............. C=4.0, penalty=l2, solver=liblinear, total=   0.0s\n",
      "[CV] C=4.1, penalty=l1, solver=newton-cg .............................\n",
      "[CV] .............. C=4.1, penalty=l1, solver=newton-cg, total=   0.0s\n",
      "[CV] C=4.1, penalty=l1, solver=newton-cg .............................\n",
      "[CV] .............. C=4.1, penalty=l1, solver=newton-cg, total=   0.0s\n",
      "[CV] C=4.1, penalty=l1, solver=newton-cg .............................\n",
      "[CV] .............. C=4.1, penalty=l1, solver=newton-cg, total=   0.0s\n",
      "[CV] C=4.1, penalty=l1, solver=newton-cg .............................\n",
      "[CV] .............. C=4.1, penalty=l1, solver=newton-cg, total=   0.0s\n",
      "[CV] C=4.1, penalty=l1, solver=newton-cg .............................\n",
      "[CV] .............. C=4.1, penalty=l1, solver=newton-cg, total=   0.0s\n",
      "[CV] C=4.1, penalty=l1, solver=lbfgs .................................\n",
      "[CV] .................. C=4.1, penalty=l1, solver=lbfgs, total=   0.0s\n",
      "[CV] C=4.1, penalty=l1, solver=lbfgs .................................\n",
      "[CV] .................. C=4.1, penalty=l1, solver=lbfgs, total=   0.0s\n",
      "[CV] C=4.1, penalty=l1, solver=lbfgs .................................\n",
      "[CV] .................. C=4.1, penalty=l1, solver=lbfgs, total=   0.0s\n",
      "[CV] C=4.1, penalty=l1, solver=lbfgs .................................\n",
      "[CV] .................. C=4.1, penalty=l1, solver=lbfgs, total=   0.0s\n",
      "[CV] C=4.1, penalty=l1, solver=lbfgs .................................\n",
      "[CV] .................. C=4.1, penalty=l1, solver=lbfgs, total=   0.0s\n",
      "[CV] C=4.1, penalty=l1, solver=sag ...................................\n",
      "[CV] .................... C=4.1, penalty=l1, solver=sag, total=   0.0s\n",
      "[CV] C=4.1, penalty=l1, solver=sag ...................................\n",
      "[CV] .................... C=4.1, penalty=l1, solver=sag, total=   0.0s\n",
      "[CV] C=4.1, penalty=l1, solver=sag ...................................\n",
      "[CV] .................... C=4.1, penalty=l1, solver=sag, total=   0.0s\n",
      "[CV] C=4.1, penalty=l1, solver=sag ...................................\n",
      "[CV] .................... C=4.1, penalty=l1, solver=sag, total=   0.0s\n",
      "[CV] C=4.1, penalty=l1, solver=sag ...................................\n",
      "[CV] .................... C=4.1, penalty=l1, solver=sag, total=   0.0s\n",
      "[CV] C=4.1, penalty=l1, solver=saga ..................................\n"
     ]
    },
    {
     "name": "stderr",
     "output_type": "stream",
     "text": [
      "E:\\Anaconda3\\lib\\site-packages\\sklearn\\linear_model\\_sag.py:330: ConvergenceWarning: The max_iter was reached which means the coef_ did not converge\n",
      "  \"the coef_ did not converge\", ConvergenceWarning)\n",
      "E:\\Anaconda3\\lib\\site-packages\\sklearn\\model_selection\\_validation.py:536: FitFailedWarning: Estimator fit failed. The score on this train-test partition for these parameters will be set to nan. Details: \n",
      "ValueError: Solver newton-cg supports only 'l2' or 'none' penalties, got l1 penalty.\n",
      "\n",
      "  FitFailedWarning)\n",
      "E:\\Anaconda3\\lib\\site-packages\\sklearn\\model_selection\\_validation.py:536: FitFailedWarning: Estimator fit failed. The score on this train-test partition for these parameters will be set to nan. Details: \n",
      "ValueError: Solver lbfgs supports only 'l2' or 'none' penalties, got l1 penalty.\n",
      "\n",
      "  FitFailedWarning)\n",
      "E:\\Anaconda3\\lib\\site-packages\\sklearn\\model_selection\\_validation.py:536: FitFailedWarning: Estimator fit failed. The score on this train-test partition for these parameters will be set to nan. Details: \n",
      "ValueError: Solver sag supports only 'l2' or 'none' penalties, got l1 penalty.\n",
      "\n",
      "  FitFailedWarning)\n",
      "E:\\Anaconda3\\lib\\site-packages\\sklearn\\linear_model\\_sag.py:330: ConvergenceWarning: The max_iter was reached which means the coef_ did not converge\n",
      "  \"the coef_ did not converge\", ConvergenceWarning)\n"
     ]
    },
    {
     "name": "stdout",
     "output_type": "stream",
     "text": [
      "[CV] ................... C=4.1, penalty=l1, solver=saga, total=   0.1s\n",
      "[CV] C=4.1, penalty=l1, solver=saga ..................................\n",
      "[CV] ................... C=4.1, penalty=l1, solver=saga, total=   0.1s\n",
      "[CV] C=4.1, penalty=l1, solver=saga ..................................\n"
     ]
    },
    {
     "name": "stderr",
     "output_type": "stream",
     "text": [
      "E:\\Anaconda3\\lib\\site-packages\\sklearn\\linear_model\\_sag.py:330: ConvergenceWarning: The max_iter was reached which means the coef_ did not converge\n",
      "  \"the coef_ did not converge\", ConvergenceWarning)\n",
      "E:\\Anaconda3\\lib\\site-packages\\sklearn\\linear_model\\_sag.py:330: ConvergenceWarning: The max_iter was reached which means the coef_ did not converge\n",
      "  \"the coef_ did not converge\", ConvergenceWarning)\n"
     ]
    },
    {
     "name": "stdout",
     "output_type": "stream",
     "text": [
      "[CV] ................... C=4.1, penalty=l1, solver=saga, total=   0.1s\n",
      "[CV] C=4.1, penalty=l1, solver=saga ..................................\n",
      "[CV] ................... C=4.1, penalty=l1, solver=saga, total=   0.1s\n",
      "[CV] C=4.1, penalty=l1, solver=saga ..................................\n"
     ]
    },
    {
     "name": "stderr",
     "output_type": "stream",
     "text": [
      "E:\\Anaconda3\\lib\\site-packages\\sklearn\\linear_model\\_sag.py:330: ConvergenceWarning: The max_iter was reached which means the coef_ did not converge\n",
      "  \"the coef_ did not converge\", ConvergenceWarning)\n",
      "E:\\Anaconda3\\lib\\site-packages\\sklearn\\linear_model\\_sag.py:330: ConvergenceWarning: The max_iter was reached which means the coef_ did not converge\n",
      "  \"the coef_ did not converge\", ConvergenceWarning)\n"
     ]
    },
    {
     "name": "stdout",
     "output_type": "stream",
     "text": [
      "[CV] ................... C=4.1, penalty=l1, solver=saga, total=   0.1s\n",
      "[CV] C=4.1, penalty=l1, solver=liblinear .............................\n",
      "[CV] .............. C=4.1, penalty=l1, solver=liblinear, total=   0.0s\n",
      "[CV] C=4.1, penalty=l1, solver=liblinear .............................\n",
      "[CV] .............. C=4.1, penalty=l1, solver=liblinear, total=   0.0s\n",
      "[CV] C=4.1, penalty=l1, solver=liblinear .............................\n",
      "[CV] .............. C=4.1, penalty=l1, solver=liblinear, total=   0.0s\n",
      "[CV] C=4.1, penalty=l1, solver=liblinear .............................\n",
      "[CV] .............. C=4.1, penalty=l1, solver=liblinear, total=   0.0s\n",
      "[CV] C=4.1, penalty=l1, solver=liblinear .............................\n",
      "[CV] .............. C=4.1, penalty=l1, solver=liblinear, total=   0.0s\n",
      "[CV] C=4.1, penalty=l2, solver=newton-cg .............................\n",
      "[CV] .............. C=4.1, penalty=l2, solver=newton-cg, total=   0.0s\n",
      "[CV] C=4.1, penalty=l2, solver=newton-cg .............................\n",
      "[CV] .............. C=4.1, penalty=l2, solver=newton-cg, total=   0.0s\n",
      "[CV] C=4.1, penalty=l2, solver=newton-cg .............................\n",
      "[CV] .............. C=4.1, penalty=l2, solver=newton-cg, total=   0.0s\n",
      "[CV] C=4.1, penalty=l2, solver=newton-cg .............................\n",
      "[CV] .............. C=4.1, penalty=l2, solver=newton-cg, total=   0.0s\n",
      "[CV] C=4.1, penalty=l2, solver=newton-cg .............................\n",
      "[CV] .............. C=4.1, penalty=l2, solver=newton-cg, total=   0.0s\n",
      "[CV] C=4.1, penalty=l2, solver=lbfgs .................................\n",
      "[CV] .................. C=4.1, penalty=l2, solver=lbfgs, total=   0.0s\n",
      "[CV] C=4.1, penalty=l2, solver=lbfgs .................................\n",
      "[CV] .................. C=4.1, penalty=l2, solver=lbfgs, total=   0.0s\n",
      "[CV] C=4.1, penalty=l2, solver=lbfgs .................................\n",
      "[CV] .................. C=4.1, penalty=l2, solver=lbfgs, total=   0.0s\n",
      "[CV] C=4.1, penalty=l2, solver=lbfgs .................................\n",
      "[CV] .................. C=4.1, penalty=l2, solver=lbfgs, total=   0.0s\n",
      "[CV] C=4.1, penalty=l2, solver=lbfgs .................................\n",
      "[CV] .................. C=4.1, penalty=l2, solver=lbfgs, total=   0.0s\n",
      "[CV] C=4.1, penalty=l2, solver=sag ...................................\n",
      "[CV] .................... C=4.1, penalty=l2, solver=sag, total=   0.1s\n",
      "[CV] C=4.1, penalty=l2, solver=sag ...................................\n",
      "[CV] .................... C=4.1, penalty=l2, solver=sag, total=   0.1s\n",
      "[CV] C=4.1, penalty=l2, solver=sag ...................................\n",
      "[CV] .................... C=4.1, penalty=l2, solver=sag, total=   0.1s\n",
      "[CV] C=4.1, penalty=l2, solver=sag ...................................\n",
      "[CV] .................... C=4.1, penalty=l2, solver=sag, total=   0.1s\n",
      "[CV] C=4.1, penalty=l2, solver=sag ...................................\n",
      "[CV] .................... C=4.1, penalty=l2, solver=sag, total=   0.1s\n",
      "[CV] C=4.1, penalty=l2, solver=saga ..................................\n",
      "[CV] ................... C=4.1, penalty=l2, solver=saga, total=   0.1s\n",
      "[CV] C=4.1, penalty=l2, solver=saga ..................................\n"
     ]
    },
    {
     "name": "stderr",
     "output_type": "stream",
     "text": [
      "E:\\Anaconda3\\lib\\site-packages\\sklearn\\linear_model\\_sag.py:330: ConvergenceWarning: The max_iter was reached which means the coef_ did not converge\n",
      "  \"the coef_ did not converge\", ConvergenceWarning)\n",
      "E:\\Anaconda3\\lib\\site-packages\\sklearn\\linear_model\\_sag.py:330: ConvergenceWarning: The max_iter was reached which means the coef_ did not converge\n",
      "  \"the coef_ did not converge\", ConvergenceWarning)\n"
     ]
    },
    {
     "name": "stdout",
     "output_type": "stream",
     "text": [
      "[CV] ................... C=4.1, penalty=l2, solver=saga, total=   0.1s\n",
      "[CV] C=4.1, penalty=l2, solver=saga ..................................\n",
      "[CV] ................... C=4.1, penalty=l2, solver=saga, total=   0.1s\n",
      "[CV] C=4.1, penalty=l2, solver=saga ..................................\n"
     ]
    },
    {
     "name": "stderr",
     "output_type": "stream",
     "text": [
      "E:\\Anaconda3\\lib\\site-packages\\sklearn\\linear_model\\_sag.py:330: ConvergenceWarning: The max_iter was reached which means the coef_ did not converge\n",
      "  \"the coef_ did not converge\", ConvergenceWarning)\n",
      "E:\\Anaconda3\\lib\\site-packages\\sklearn\\linear_model\\_sag.py:330: ConvergenceWarning: The max_iter was reached which means the coef_ did not converge\n",
      "  \"the coef_ did not converge\", ConvergenceWarning)\n"
     ]
    },
    {
     "name": "stdout",
     "output_type": "stream",
     "text": [
      "[CV] ................... C=4.1, penalty=l2, solver=saga, total=   0.1s\n",
      "[CV] C=4.1, penalty=l2, solver=saga ..................................\n",
      "[CV] ................... C=4.1, penalty=l2, solver=saga, total=   0.1s\n",
      "[CV] C=4.1, penalty=l2, solver=liblinear .............................\n",
      "[CV] .............. C=4.1, penalty=l2, solver=liblinear, total=   0.0s\n",
      "[CV] C=4.1, penalty=l2, solver=liblinear .............................\n",
      "[CV] .............. C=4.1, penalty=l2, solver=liblinear, total=   0.0s\n",
      "[CV] C=4.1, penalty=l2, solver=liblinear .............................\n",
      "[CV] .............. C=4.1, penalty=l2, solver=liblinear, total=   0.0s\n",
      "[CV] C=4.1, penalty=l2, solver=liblinear .............................\n",
      "[CV] .............. C=4.1, penalty=l2, solver=liblinear, total=   0.0s\n",
      "[CV] C=4.1, penalty=l2, solver=liblinear .............................\n",
      "[CV] .............. C=4.1, penalty=l2, solver=liblinear, total=   0.0s\n",
      "[CV] C=4.2, penalty=l1, solver=newton-cg .............................\n",
      "[CV] .............. C=4.2, penalty=l1, solver=newton-cg, total=   0.0s\n",
      "[CV] C=4.2, penalty=l1, solver=newton-cg .............................\n",
      "[CV] .............. C=4.2, penalty=l1, solver=newton-cg, total=   0.0s\n",
      "[CV] C=4.2, penalty=l1, solver=newton-cg .............................\n",
      "[CV] .............. C=4.2, penalty=l1, solver=newton-cg, total=   0.0s\n",
      "[CV] C=4.2, penalty=l1, solver=newton-cg .............................\n",
      "[CV] .............. C=4.2, penalty=l1, solver=newton-cg, total=   0.0s\n",
      "[CV] C=4.2, penalty=l1, solver=newton-cg .............................\n",
      "[CV] .............. C=4.2, penalty=l1, solver=newton-cg, total=   0.0s\n",
      "[CV] C=4.2, penalty=l1, solver=lbfgs .................................\n",
      "[CV] .................. C=4.2, penalty=l1, solver=lbfgs, total=   0.0s\n",
      "[CV] C=4.2, penalty=l1, solver=lbfgs .................................\n",
      "[CV] .................. C=4.2, penalty=l1, solver=lbfgs, total=   0.0s\n",
      "[CV] C=4.2, penalty=l1, solver=lbfgs .................................\n",
      "[CV] .................. C=4.2, penalty=l1, solver=lbfgs, total=   0.0s\n",
      "[CV] C=4.2, penalty=l1, solver=lbfgs .................................\n",
      "[CV] .................. C=4.2, penalty=l1, solver=lbfgs, total=   0.0s\n",
      "[CV] C=4.2, penalty=l1, solver=lbfgs .................................\n",
      "[CV] .................. C=4.2, penalty=l1, solver=lbfgs, total=   0.0s\n",
      "[CV] C=4.2, penalty=l1, solver=sag ...................................\n",
      "[CV] .................... C=4.2, penalty=l1, solver=sag, total=   0.0s\n",
      "[CV] C=4.2, penalty=l1, solver=sag ...................................\n",
      "[CV] .................... C=4.2, penalty=l1, solver=sag, total=   0.0s\n",
      "[CV] C=4.2, penalty=l1, solver=sag ...................................\n",
      "[CV] .................... C=4.2, penalty=l1, solver=sag, total=   0.0s\n",
      "[CV] C=4.2, penalty=l1, solver=sag ...................................\n",
      "[CV] .................... C=4.2, penalty=l1, solver=sag, total=   0.0s\n",
      "[CV] C=4.2, penalty=l1, solver=sag ...................................\n",
      "[CV] .................... C=4.2, penalty=l1, solver=sag, total=   0.0s\n",
      "[CV] C=4.2, penalty=l1, solver=saga ..................................\n"
     ]
    },
    {
     "name": "stderr",
     "output_type": "stream",
     "text": [
      "E:\\Anaconda3\\lib\\site-packages\\sklearn\\linear_model\\_sag.py:330: ConvergenceWarning: The max_iter was reached which means the coef_ did not converge\n",
      "  \"the coef_ did not converge\", ConvergenceWarning)\n",
      "E:\\Anaconda3\\lib\\site-packages\\sklearn\\model_selection\\_validation.py:536: FitFailedWarning: Estimator fit failed. The score on this train-test partition for these parameters will be set to nan. Details: \n",
      "ValueError: Solver newton-cg supports only 'l2' or 'none' penalties, got l1 penalty.\n",
      "\n",
      "  FitFailedWarning)\n",
      "E:\\Anaconda3\\lib\\site-packages\\sklearn\\model_selection\\_validation.py:536: FitFailedWarning: Estimator fit failed. The score on this train-test partition for these parameters will be set to nan. Details: \n",
      "ValueError: Solver lbfgs supports only 'l2' or 'none' penalties, got l1 penalty.\n",
      "\n",
      "  FitFailedWarning)\n",
      "E:\\Anaconda3\\lib\\site-packages\\sklearn\\model_selection\\_validation.py:536: FitFailedWarning: Estimator fit failed. The score on this train-test partition for these parameters will be set to nan. Details: \n",
      "ValueError: Solver sag supports only 'l2' or 'none' penalties, got l1 penalty.\n",
      "\n",
      "  FitFailedWarning)\n",
      "E:\\Anaconda3\\lib\\site-packages\\sklearn\\linear_model\\_sag.py:330: ConvergenceWarning: The max_iter was reached which means the coef_ did not converge\n",
      "  \"the coef_ did not converge\", ConvergenceWarning)\n"
     ]
    },
    {
     "name": "stdout",
     "output_type": "stream",
     "text": [
      "[CV] ................... C=4.2, penalty=l1, solver=saga, total=   0.1s\n",
      "[CV] C=4.2, penalty=l1, solver=saga ..................................\n",
      "[CV] ................... C=4.2, penalty=l1, solver=saga, total=   0.1s\n",
      "[CV] C=4.2, penalty=l1, solver=saga ..................................\n"
     ]
    },
    {
     "name": "stderr",
     "output_type": "stream",
     "text": [
      "E:\\Anaconda3\\lib\\site-packages\\sklearn\\linear_model\\_sag.py:330: ConvergenceWarning: The max_iter was reached which means the coef_ did not converge\n",
      "  \"the coef_ did not converge\", ConvergenceWarning)\n",
      "E:\\Anaconda3\\lib\\site-packages\\sklearn\\linear_model\\_sag.py:330: ConvergenceWarning: The max_iter was reached which means the coef_ did not converge\n",
      "  \"the coef_ did not converge\", ConvergenceWarning)\n"
     ]
    },
    {
     "name": "stdout",
     "output_type": "stream",
     "text": [
      "[CV] ................... C=4.2, penalty=l1, solver=saga, total=   0.1s\n",
      "[CV] C=4.2, penalty=l1, solver=saga ..................................\n",
      "[CV] ................... C=4.2, penalty=l1, solver=saga, total=   0.1s\n",
      "[CV] C=4.2, penalty=l1, solver=saga ..................................\n"
     ]
    },
    {
     "name": "stderr",
     "output_type": "stream",
     "text": [
      "E:\\Anaconda3\\lib\\site-packages\\sklearn\\linear_model\\_sag.py:330: ConvergenceWarning: The max_iter was reached which means the coef_ did not converge\n",
      "  \"the coef_ did not converge\", ConvergenceWarning)\n",
      "E:\\Anaconda3\\lib\\site-packages\\sklearn\\linear_model\\_sag.py:330: ConvergenceWarning: The max_iter was reached which means the coef_ did not converge\n",
      "  \"the coef_ did not converge\", ConvergenceWarning)\n"
     ]
    },
    {
     "name": "stdout",
     "output_type": "stream",
     "text": [
      "[CV] ................... C=4.2, penalty=l1, solver=saga, total=   0.1s\n",
      "[CV] C=4.2, penalty=l1, solver=liblinear .............................\n",
      "[CV] .............. C=4.2, penalty=l1, solver=liblinear, total=   0.0s\n",
      "[CV] C=4.2, penalty=l1, solver=liblinear .............................\n",
      "[CV] .............. C=4.2, penalty=l1, solver=liblinear, total=   0.0s\n",
      "[CV] C=4.2, penalty=l1, solver=liblinear .............................\n",
      "[CV] .............. C=4.2, penalty=l1, solver=liblinear, total=   0.0s\n",
      "[CV] C=4.2, penalty=l1, solver=liblinear .............................\n",
      "[CV] .............. C=4.2, penalty=l1, solver=liblinear, total=   0.0s\n",
      "[CV] C=4.2, penalty=l1, solver=liblinear .............................\n",
      "[CV] .............. C=4.2, penalty=l1, solver=liblinear, total=   0.0s\n",
      "[CV] C=4.2, penalty=l2, solver=newton-cg .............................\n",
      "[CV] .............. C=4.2, penalty=l2, solver=newton-cg, total=   0.0s\n",
      "[CV] C=4.2, penalty=l2, solver=newton-cg .............................\n",
      "[CV] .............. C=4.2, penalty=l2, solver=newton-cg, total=   0.0s\n",
      "[CV] C=4.2, penalty=l2, solver=newton-cg .............................\n",
      "[CV] .............. C=4.2, penalty=l2, solver=newton-cg, total=   0.0s\n",
      "[CV] C=4.2, penalty=l2, solver=newton-cg .............................\n",
      "[CV] .............. C=4.2, penalty=l2, solver=newton-cg, total=   0.0s\n",
      "[CV] C=4.2, penalty=l2, solver=newton-cg .............................\n",
      "[CV] .............. C=4.2, penalty=l2, solver=newton-cg, total=   0.0s\n",
      "[CV] C=4.2, penalty=l2, solver=lbfgs .................................\n",
      "[CV] .................. C=4.2, penalty=l2, solver=lbfgs, total=   0.0s\n",
      "[CV] C=4.2, penalty=l2, solver=lbfgs .................................\n",
      "[CV] .................. C=4.2, penalty=l2, solver=lbfgs, total=   0.0s\n",
      "[CV] C=4.2, penalty=l2, solver=lbfgs .................................\n",
      "[CV] .................. C=4.2, penalty=l2, solver=lbfgs, total=   0.0s\n",
      "[CV] C=4.2, penalty=l2, solver=lbfgs .................................\n",
      "[CV] .................. C=4.2, penalty=l2, solver=lbfgs, total=   0.0s\n",
      "[CV] C=4.2, penalty=l2, solver=lbfgs .................................\n",
      "[CV] .................. C=4.2, penalty=l2, solver=lbfgs, total=   0.0s\n",
      "[CV] C=4.2, penalty=l2, solver=sag ...................................\n",
      "[CV] .................... C=4.2, penalty=l2, solver=sag, total=   0.1s\n",
      "[CV] C=4.2, penalty=l2, solver=sag ...................................\n",
      "[CV] .................... C=4.2, penalty=l2, solver=sag, total=   0.1s\n",
      "[CV] C=4.2, penalty=l2, solver=sag ...................................\n",
      "[CV] .................... C=4.2, penalty=l2, solver=sag, total=   0.1s\n",
      "[CV] C=4.2, penalty=l2, solver=sag ...................................\n",
      "[CV] .................... C=4.2, penalty=l2, solver=sag, total=   0.1s\n",
      "[CV] C=4.2, penalty=l2, solver=sag ...................................\n",
      "[CV] .................... C=4.2, penalty=l2, solver=sag, total=   0.1s\n",
      "[CV] C=4.2, penalty=l2, solver=saga ..................................\n",
      "[CV] ................... C=4.2, penalty=l2, solver=saga, total=   0.1s\n",
      "[CV] C=4.2, penalty=l2, solver=saga ..................................\n"
     ]
    },
    {
     "name": "stderr",
     "output_type": "stream",
     "text": [
      "E:\\Anaconda3\\lib\\site-packages\\sklearn\\linear_model\\_sag.py:330: ConvergenceWarning: The max_iter was reached which means the coef_ did not converge\n",
      "  \"the coef_ did not converge\", ConvergenceWarning)\n",
      "E:\\Anaconda3\\lib\\site-packages\\sklearn\\linear_model\\_sag.py:330: ConvergenceWarning: The max_iter was reached which means the coef_ did not converge\n",
      "  \"the coef_ did not converge\", ConvergenceWarning)\n"
     ]
    },
    {
     "name": "stdout",
     "output_type": "stream",
     "text": [
      "[CV] ................... C=4.2, penalty=l2, solver=saga, total=   0.1s\n",
      "[CV] C=4.2, penalty=l2, solver=saga ..................................\n",
      "[CV] ................... C=4.2, penalty=l2, solver=saga, total=   0.1s\n",
      "[CV] C=4.2, penalty=l2, solver=saga ..................................\n"
     ]
    },
    {
     "name": "stderr",
     "output_type": "stream",
     "text": [
      "E:\\Anaconda3\\lib\\site-packages\\sklearn\\linear_model\\_sag.py:330: ConvergenceWarning: The max_iter was reached which means the coef_ did not converge\n",
      "  \"the coef_ did not converge\", ConvergenceWarning)\n",
      "E:\\Anaconda3\\lib\\site-packages\\sklearn\\linear_model\\_sag.py:330: ConvergenceWarning: The max_iter was reached which means the coef_ did not converge\n",
      "  \"the coef_ did not converge\", ConvergenceWarning)\n"
     ]
    },
    {
     "name": "stdout",
     "output_type": "stream",
     "text": [
      "[CV] ................... C=4.2, penalty=l2, solver=saga, total=   0.1s\n",
      "[CV] C=4.2, penalty=l2, solver=saga ..................................\n",
      "[CV] ................... C=4.2, penalty=l2, solver=saga, total=   0.1s\n",
      "[CV] C=4.2, penalty=l2, solver=liblinear .............................\n",
      "[CV] .............. C=4.2, penalty=l2, solver=liblinear, total=   0.0s\n",
      "[CV] C=4.2, penalty=l2, solver=liblinear .............................\n",
      "[CV] .............. C=4.2, penalty=l2, solver=liblinear, total=   0.0s\n",
      "[CV] C=4.2, penalty=l2, solver=liblinear .............................\n",
      "[CV] .............. C=4.2, penalty=l2, solver=liblinear, total=   0.0s\n",
      "[CV] C=4.2, penalty=l2, solver=liblinear .............................\n",
      "[CV] .............. C=4.2, penalty=l2, solver=liblinear, total=   0.0s\n",
      "[CV] C=4.2, penalty=l2, solver=liblinear .............................\n",
      "[CV] .............. C=4.2, penalty=l2, solver=liblinear, total=   0.0s\n",
      "[CV] C=4.3, penalty=l1, solver=newton-cg .............................\n",
      "[CV] .............. C=4.3, penalty=l1, solver=newton-cg, total=   0.0s\n",
      "[CV] C=4.3, penalty=l1, solver=newton-cg .............................\n",
      "[CV] .............. C=4.3, penalty=l1, solver=newton-cg, total=   0.0s\n",
      "[CV] C=4.3, penalty=l1, solver=newton-cg .............................\n",
      "[CV] .............. C=4.3, penalty=l1, solver=newton-cg, total=   0.0s\n",
      "[CV] C=4.3, penalty=l1, solver=newton-cg .............................\n",
      "[CV] .............. C=4.3, penalty=l1, solver=newton-cg, total=   0.0s\n",
      "[CV] C=4.3, penalty=l1, solver=newton-cg .............................\n",
      "[CV] .............. C=4.3, penalty=l1, solver=newton-cg, total=   0.0s\n",
      "[CV] C=4.3, penalty=l1, solver=lbfgs .................................\n",
      "[CV] .................. C=4.3, penalty=l1, solver=lbfgs, total=   0.0s\n",
      "[CV] C=4.3, penalty=l1, solver=lbfgs .................................\n",
      "[CV] .................. C=4.3, penalty=l1, solver=lbfgs, total=   0.0s\n",
      "[CV] C=4.3, penalty=l1, solver=lbfgs .................................\n",
      "[CV] .................. C=4.3, penalty=l1, solver=lbfgs, total=   0.0s\n",
      "[CV] C=4.3, penalty=l1, solver=lbfgs .................................\n",
      "[CV] .................. C=4.3, penalty=l1, solver=lbfgs, total=   0.0s\n",
      "[CV] C=4.3, penalty=l1, solver=lbfgs .................................\n",
      "[CV] .................. C=4.3, penalty=l1, solver=lbfgs, total=   0.0s\n",
      "[CV] C=4.3, penalty=l1, solver=sag ...................................\n",
      "[CV] .................... C=4.3, penalty=l1, solver=sag, total=   0.0s\n",
      "[CV] C=4.3, penalty=l1, solver=sag ...................................\n",
      "[CV] .................... C=4.3, penalty=l1, solver=sag, total=   0.0s\n",
      "[CV] C=4.3, penalty=l1, solver=sag ...................................\n",
      "[CV] .................... C=4.3, penalty=l1, solver=sag, total=   0.0s\n",
      "[CV] C=4.3, penalty=l1, solver=sag ...................................\n",
      "[CV] .................... C=4.3, penalty=l1, solver=sag, total=   0.0s\n",
      "[CV] C=4.3, penalty=l1, solver=sag ...................................\n",
      "[CV] .................... C=4.3, penalty=l1, solver=sag, total=   0.0s\n",
      "[CV] C=4.3, penalty=l1, solver=saga ..................................\n"
     ]
    },
    {
     "name": "stderr",
     "output_type": "stream",
     "text": [
      "E:\\Anaconda3\\lib\\site-packages\\sklearn\\linear_model\\_sag.py:330: ConvergenceWarning: The max_iter was reached which means the coef_ did not converge\n",
      "  \"the coef_ did not converge\", ConvergenceWarning)\n",
      "E:\\Anaconda3\\lib\\site-packages\\sklearn\\model_selection\\_validation.py:536: FitFailedWarning: Estimator fit failed. The score on this train-test partition for these parameters will be set to nan. Details: \n",
      "ValueError: Solver newton-cg supports only 'l2' or 'none' penalties, got l1 penalty.\n",
      "\n",
      "  FitFailedWarning)\n",
      "E:\\Anaconda3\\lib\\site-packages\\sklearn\\model_selection\\_validation.py:536: FitFailedWarning: Estimator fit failed. The score on this train-test partition for these parameters will be set to nan. Details: \n",
      "ValueError: Solver lbfgs supports only 'l2' or 'none' penalties, got l1 penalty.\n",
      "\n",
      "  FitFailedWarning)\n",
      "E:\\Anaconda3\\lib\\site-packages\\sklearn\\model_selection\\_validation.py:536: FitFailedWarning: Estimator fit failed. The score on this train-test partition for these parameters will be set to nan. Details: \n",
      "ValueError: Solver sag supports only 'l2' or 'none' penalties, got l1 penalty.\n",
      "\n",
      "  FitFailedWarning)\n",
      "E:\\Anaconda3\\lib\\site-packages\\sklearn\\linear_model\\_sag.py:330: ConvergenceWarning: The max_iter was reached which means the coef_ did not converge\n",
      "  \"the coef_ did not converge\", ConvergenceWarning)\n"
     ]
    },
    {
     "name": "stdout",
     "output_type": "stream",
     "text": [
      "[CV] ................... C=4.3, penalty=l1, solver=saga, total=   0.1s\n",
      "[CV] C=4.3, penalty=l1, solver=saga ..................................\n",
      "[CV] ................... C=4.3, penalty=l1, solver=saga, total=   0.1s\n",
      "[CV] C=4.3, penalty=l1, solver=saga ..................................\n"
     ]
    },
    {
     "name": "stderr",
     "output_type": "stream",
     "text": [
      "E:\\Anaconda3\\lib\\site-packages\\sklearn\\linear_model\\_sag.py:330: ConvergenceWarning: The max_iter was reached which means the coef_ did not converge\n",
      "  \"the coef_ did not converge\", ConvergenceWarning)\n",
      "E:\\Anaconda3\\lib\\site-packages\\sklearn\\linear_model\\_sag.py:330: ConvergenceWarning: The max_iter was reached which means the coef_ did not converge\n",
      "  \"the coef_ did not converge\", ConvergenceWarning)\n"
     ]
    },
    {
     "name": "stdout",
     "output_type": "stream",
     "text": [
      "[CV] ................... C=4.3, penalty=l1, solver=saga, total=   0.1s\n",
      "[CV] C=4.3, penalty=l1, solver=saga ..................................\n",
      "[CV] ................... C=4.3, penalty=l1, solver=saga, total=   0.1s\n",
      "[CV] C=4.3, penalty=l1, solver=saga ..................................\n"
     ]
    },
    {
     "name": "stderr",
     "output_type": "stream",
     "text": [
      "E:\\Anaconda3\\lib\\site-packages\\sklearn\\linear_model\\_sag.py:330: ConvergenceWarning: The max_iter was reached which means the coef_ did not converge\n",
      "  \"the coef_ did not converge\", ConvergenceWarning)\n",
      "E:\\Anaconda3\\lib\\site-packages\\sklearn\\linear_model\\_sag.py:330: ConvergenceWarning: The max_iter was reached which means the coef_ did not converge\n",
      "  \"the coef_ did not converge\", ConvergenceWarning)\n"
     ]
    },
    {
     "name": "stdout",
     "output_type": "stream",
     "text": [
      "[CV] ................... C=4.3, penalty=l1, solver=saga, total=   0.1s\n",
      "[CV] C=4.3, penalty=l1, solver=liblinear .............................\n",
      "[CV] .............. C=4.3, penalty=l1, solver=liblinear, total=   0.0s\n",
      "[CV] C=4.3, penalty=l1, solver=liblinear .............................\n",
      "[CV] .............. C=4.3, penalty=l1, solver=liblinear, total=   0.0s\n",
      "[CV] C=4.3, penalty=l1, solver=liblinear .............................\n",
      "[CV] .............. C=4.3, penalty=l1, solver=liblinear, total=   0.0s\n",
      "[CV] C=4.3, penalty=l1, solver=liblinear .............................\n",
      "[CV] .............. C=4.3, penalty=l1, solver=liblinear, total=   0.0s\n",
      "[CV] C=4.3, penalty=l1, solver=liblinear .............................\n",
      "[CV] .............. C=4.3, penalty=l1, solver=liblinear, total=   0.0s\n",
      "[CV] C=4.3, penalty=l2, solver=newton-cg .............................\n",
      "[CV] .............. C=4.3, penalty=l2, solver=newton-cg, total=   0.0s\n",
      "[CV] C=4.3, penalty=l2, solver=newton-cg .............................\n",
      "[CV] .............. C=4.3, penalty=l2, solver=newton-cg, total=   0.0s\n",
      "[CV] C=4.3, penalty=l2, solver=newton-cg .............................\n",
      "[CV] .............. C=4.3, penalty=l2, solver=newton-cg, total=   0.0s\n",
      "[CV] C=4.3, penalty=l2, solver=newton-cg .............................\n",
      "[CV] .............. C=4.3, penalty=l2, solver=newton-cg, total=   0.0s\n",
      "[CV] C=4.3, penalty=l2, solver=newton-cg .............................\n",
      "[CV] .............. C=4.3, penalty=l2, solver=newton-cg, total=   0.0s\n",
      "[CV] C=4.3, penalty=l2, solver=lbfgs .................................\n",
      "[CV] .................. C=4.3, penalty=l2, solver=lbfgs, total=   0.0s\n",
      "[CV] C=4.3, penalty=l2, solver=lbfgs .................................\n",
      "[CV] .................. C=4.3, penalty=l2, solver=lbfgs, total=   0.0s\n",
      "[CV] C=4.3, penalty=l2, solver=lbfgs .................................\n",
      "[CV] .................. C=4.3, penalty=l2, solver=lbfgs, total=   0.0s\n",
      "[CV] C=4.3, penalty=l2, solver=lbfgs .................................\n",
      "[CV] .................. C=4.3, penalty=l2, solver=lbfgs, total=   0.0s\n",
      "[CV] C=4.3, penalty=l2, solver=lbfgs .................................\n",
      "[CV] .................. C=4.3, penalty=l2, solver=lbfgs, total=   0.0s\n",
      "[CV] C=4.3, penalty=l2, solver=sag ...................................\n",
      "[CV] .................... C=4.3, penalty=l2, solver=sag, total=   0.1s\n",
      "[CV] C=4.3, penalty=l2, solver=sag ...................................\n",
      "[CV] .................... C=4.3, penalty=l2, solver=sag, total=   0.1s\n",
      "[CV] C=4.3, penalty=l2, solver=sag ...................................\n",
      "[CV] .................... C=4.3, penalty=l2, solver=sag, total=   0.1s\n",
      "[CV] C=4.3, penalty=l2, solver=sag ...................................\n",
      "[CV] .................... C=4.3, penalty=l2, solver=sag, total=   0.1s\n",
      "[CV] C=4.3, penalty=l2, solver=sag ...................................\n",
      "[CV] .................... C=4.3, penalty=l2, solver=sag, total=   0.1s\n",
      "[CV] C=4.3, penalty=l2, solver=saga ..................................\n",
      "[CV] ................... C=4.3, penalty=l2, solver=saga, total=   0.1s\n",
      "[CV] C=4.3, penalty=l2, solver=saga ..................................\n"
     ]
    },
    {
     "name": "stderr",
     "output_type": "stream",
     "text": [
      "E:\\Anaconda3\\lib\\site-packages\\sklearn\\linear_model\\_sag.py:330: ConvergenceWarning: The max_iter was reached which means the coef_ did not converge\n",
      "  \"the coef_ did not converge\", ConvergenceWarning)\n",
      "E:\\Anaconda3\\lib\\site-packages\\sklearn\\linear_model\\_sag.py:330: ConvergenceWarning: The max_iter was reached which means the coef_ did not converge\n",
      "  \"the coef_ did not converge\", ConvergenceWarning)\n"
     ]
    },
    {
     "name": "stdout",
     "output_type": "stream",
     "text": [
      "[CV] ................... C=4.3, penalty=l2, solver=saga, total=   0.1s\n",
      "[CV] C=4.3, penalty=l2, solver=saga ..................................\n",
      "[CV] ................... C=4.3, penalty=l2, solver=saga, total=   0.1s\n",
      "[CV] C=4.3, penalty=l2, solver=saga ..................................\n"
     ]
    },
    {
     "name": "stderr",
     "output_type": "stream",
     "text": [
      "E:\\Anaconda3\\lib\\site-packages\\sklearn\\linear_model\\_sag.py:330: ConvergenceWarning: The max_iter was reached which means the coef_ did not converge\n",
      "  \"the coef_ did not converge\", ConvergenceWarning)\n",
      "E:\\Anaconda3\\lib\\site-packages\\sklearn\\linear_model\\_sag.py:330: ConvergenceWarning: The max_iter was reached which means the coef_ did not converge\n",
      "  \"the coef_ did not converge\", ConvergenceWarning)\n"
     ]
    },
    {
     "name": "stdout",
     "output_type": "stream",
     "text": [
      "[CV] ................... C=4.3, penalty=l2, solver=saga, total=   0.1s\n",
      "[CV] C=4.3, penalty=l2, solver=saga ..................................\n",
      "[CV] ................... C=4.3, penalty=l2, solver=saga, total=   0.1s\n",
      "[CV] C=4.3, penalty=l2, solver=liblinear .............................\n",
      "[CV] .............. C=4.3, penalty=l2, solver=liblinear, total=   0.0s\n",
      "[CV] C=4.3, penalty=l2, solver=liblinear .............................\n",
      "[CV] .............. C=4.3, penalty=l2, solver=liblinear, total=   0.0s\n",
      "[CV] C=4.3, penalty=l2, solver=liblinear .............................\n",
      "[CV] .............. C=4.3, penalty=l2, solver=liblinear, total=   0.0s\n",
      "[CV] C=4.3, penalty=l2, solver=liblinear .............................\n",
      "[CV] .............. C=4.3, penalty=l2, solver=liblinear, total=   0.0s\n",
      "[CV] C=4.3, penalty=l2, solver=liblinear .............................\n",
      "[CV] .............. C=4.3, penalty=l2, solver=liblinear, total=   0.0s\n",
      "[CV] C=4.3999999999999995, penalty=l1, solver=newton-cg ..............\n",
      "[CV]  C=4.3999999999999995, penalty=l1, solver=newton-cg, total=   0.0s\n",
      "[CV] C=4.3999999999999995, penalty=l1, solver=newton-cg ..............\n",
      "[CV]  C=4.3999999999999995, penalty=l1, solver=newton-cg, total=   0.0s\n",
      "[CV] C=4.3999999999999995, penalty=l1, solver=newton-cg ..............\n",
      "[CV]  C=4.3999999999999995, penalty=l1, solver=newton-cg, total=   0.0s\n",
      "[CV] C=4.3999999999999995, penalty=l1, solver=newton-cg ..............\n",
      "[CV]  C=4.3999999999999995, penalty=l1, solver=newton-cg, total=   0.0s\n",
      "[CV] C=4.3999999999999995, penalty=l1, solver=newton-cg ..............\n",
      "[CV]  C=4.3999999999999995, penalty=l1, solver=newton-cg, total=   0.0s\n",
      "[CV] C=4.3999999999999995, penalty=l1, solver=lbfgs ..................\n",
      "[CV] ... C=4.3999999999999995, penalty=l1, solver=lbfgs, total=   0.0s\n",
      "[CV] C=4.3999999999999995, penalty=l1, solver=lbfgs ..................\n",
      "[CV] ... C=4.3999999999999995, penalty=l1, solver=lbfgs, total=   0.0s\n",
      "[CV] C=4.3999999999999995, penalty=l1, solver=lbfgs ..................\n",
      "[CV] ... C=4.3999999999999995, penalty=l1, solver=lbfgs, total=   0.0s\n",
      "[CV] C=4.3999999999999995, penalty=l1, solver=lbfgs ..................\n",
      "[CV] ... C=4.3999999999999995, penalty=l1, solver=lbfgs, total=   0.0s\n",
      "[CV] C=4.3999999999999995, penalty=l1, solver=lbfgs ..................\n",
      "[CV] ... C=4.3999999999999995, penalty=l1, solver=lbfgs, total=   0.0s\n",
      "[CV] C=4.3999999999999995, penalty=l1, solver=sag ....................\n",
      "[CV] ..... C=4.3999999999999995, penalty=l1, solver=sag, total=   0.0s\n",
      "[CV] C=4.3999999999999995, penalty=l1, solver=sag ....................\n",
      "[CV] ..... C=4.3999999999999995, penalty=l1, solver=sag, total=   0.0s\n",
      "[CV] C=4.3999999999999995, penalty=l1, solver=sag ....................\n",
      "[CV] ..... C=4.3999999999999995, penalty=l1, solver=sag, total=   0.0s\n",
      "[CV] C=4.3999999999999995, penalty=l1, solver=sag ....................\n",
      "[CV] ..... C=4.3999999999999995, penalty=l1, solver=sag, total=   0.0s\n",
      "[CV] C=4.3999999999999995, penalty=l1, solver=sag ....................\n",
      "[CV] ..... C=4.3999999999999995, penalty=l1, solver=sag, total=   0.0s\n",
      "[CV] C=4.3999999999999995, penalty=l1, solver=saga ...................\n"
     ]
    },
    {
     "name": "stderr",
     "output_type": "stream",
     "text": [
      "E:\\Anaconda3\\lib\\site-packages\\sklearn\\linear_model\\_sag.py:330: ConvergenceWarning: The max_iter was reached which means the coef_ did not converge\n",
      "  \"the coef_ did not converge\", ConvergenceWarning)\n",
      "E:\\Anaconda3\\lib\\site-packages\\sklearn\\model_selection\\_validation.py:536: FitFailedWarning: Estimator fit failed. The score on this train-test partition for these parameters will be set to nan. Details: \n",
      "ValueError: Solver newton-cg supports only 'l2' or 'none' penalties, got l1 penalty.\n",
      "\n",
      "  FitFailedWarning)\n",
      "E:\\Anaconda3\\lib\\site-packages\\sklearn\\model_selection\\_validation.py:536: FitFailedWarning: Estimator fit failed. The score on this train-test partition for these parameters will be set to nan. Details: \n",
      "ValueError: Solver lbfgs supports only 'l2' or 'none' penalties, got l1 penalty.\n",
      "\n",
      "  FitFailedWarning)\n",
      "E:\\Anaconda3\\lib\\site-packages\\sklearn\\model_selection\\_validation.py:536: FitFailedWarning: Estimator fit failed. The score on this train-test partition for these parameters will be set to nan. Details: \n",
      "ValueError: Solver sag supports only 'l2' or 'none' penalties, got l1 penalty.\n",
      "\n",
      "  FitFailedWarning)\n",
      "E:\\Anaconda3\\lib\\site-packages\\sklearn\\linear_model\\_sag.py:330: ConvergenceWarning: The max_iter was reached which means the coef_ did not converge\n",
      "  \"the coef_ did not converge\", ConvergenceWarning)\n"
     ]
    },
    {
     "name": "stdout",
     "output_type": "stream",
     "text": [
      "[CV] .... C=4.3999999999999995, penalty=l1, solver=saga, total=   0.1s\n",
      "[CV] C=4.3999999999999995, penalty=l1, solver=saga ...................\n",
      "[CV] .... C=4.3999999999999995, penalty=l1, solver=saga, total=   0.1s\n",
      "[CV] C=4.3999999999999995, penalty=l1, solver=saga ...................\n"
     ]
    },
    {
     "name": "stderr",
     "output_type": "stream",
     "text": [
      "E:\\Anaconda3\\lib\\site-packages\\sklearn\\linear_model\\_sag.py:330: ConvergenceWarning: The max_iter was reached which means the coef_ did not converge\n",
      "  \"the coef_ did not converge\", ConvergenceWarning)\n",
      "E:\\Anaconda3\\lib\\site-packages\\sklearn\\linear_model\\_sag.py:330: ConvergenceWarning: The max_iter was reached which means the coef_ did not converge\n",
      "  \"the coef_ did not converge\", ConvergenceWarning)\n"
     ]
    },
    {
     "name": "stdout",
     "output_type": "stream",
     "text": [
      "[CV] .... C=4.3999999999999995, penalty=l1, solver=saga, total=   0.1s\n",
      "[CV] C=4.3999999999999995, penalty=l1, solver=saga ...................\n",
      "[CV] .... C=4.3999999999999995, penalty=l1, solver=saga, total=   0.1s\n",
      "[CV] C=4.3999999999999995, penalty=l1, solver=saga ...................\n"
     ]
    },
    {
     "name": "stderr",
     "output_type": "stream",
     "text": [
      "E:\\Anaconda3\\lib\\site-packages\\sklearn\\linear_model\\_sag.py:330: ConvergenceWarning: The max_iter was reached which means the coef_ did not converge\n",
      "  \"the coef_ did not converge\", ConvergenceWarning)\n",
      "E:\\Anaconda3\\lib\\site-packages\\sklearn\\linear_model\\_sag.py:330: ConvergenceWarning: The max_iter was reached which means the coef_ did not converge\n",
      "  \"the coef_ did not converge\", ConvergenceWarning)\n"
     ]
    },
    {
     "name": "stdout",
     "output_type": "stream",
     "text": [
      "[CV] .... C=4.3999999999999995, penalty=l1, solver=saga, total=   0.1s\n",
      "[CV] C=4.3999999999999995, penalty=l1, solver=liblinear ..............\n",
      "[CV]  C=4.3999999999999995, penalty=l1, solver=liblinear, total=   0.0s\n",
      "[CV] C=4.3999999999999995, penalty=l1, solver=liblinear ..............\n",
      "[CV]  C=4.3999999999999995, penalty=l1, solver=liblinear, total=   0.0s\n",
      "[CV] C=4.3999999999999995, penalty=l1, solver=liblinear ..............\n",
      "[CV]  C=4.3999999999999995, penalty=l1, solver=liblinear, total=   0.0s\n",
      "[CV] C=4.3999999999999995, penalty=l1, solver=liblinear ..............\n",
      "[CV]  C=4.3999999999999995, penalty=l1, solver=liblinear, total=   0.0s\n",
      "[CV] C=4.3999999999999995, penalty=l1, solver=liblinear ..............\n",
      "[CV]  C=4.3999999999999995, penalty=l1, solver=liblinear, total=   0.0s\n",
      "[CV] C=4.3999999999999995, penalty=l2, solver=newton-cg ..............\n",
      "[CV]  C=4.3999999999999995, penalty=l2, solver=newton-cg, total=   0.0s\n",
      "[CV] C=4.3999999999999995, penalty=l2, solver=newton-cg ..............\n",
      "[CV]  C=4.3999999999999995, penalty=l2, solver=newton-cg, total=   0.0s\n",
      "[CV] C=4.3999999999999995, penalty=l2, solver=newton-cg ..............\n",
      "[CV]  C=4.3999999999999995, penalty=l2, solver=newton-cg, total=   0.0s\n",
      "[CV] C=4.3999999999999995, penalty=l2, solver=newton-cg ..............\n",
      "[CV]  C=4.3999999999999995, penalty=l2, solver=newton-cg, total=   0.0s\n",
      "[CV] C=4.3999999999999995, penalty=l2, solver=newton-cg ..............\n",
      "[CV]  C=4.3999999999999995, penalty=l2, solver=newton-cg, total=   0.0s\n",
      "[CV] C=4.3999999999999995, penalty=l2, solver=lbfgs ..................\n",
      "[CV] ... C=4.3999999999999995, penalty=l2, solver=lbfgs, total=   0.0s\n",
      "[CV] C=4.3999999999999995, penalty=l2, solver=lbfgs ..................\n",
      "[CV] ... C=4.3999999999999995, penalty=l2, solver=lbfgs, total=   0.0s\n",
      "[CV] C=4.3999999999999995, penalty=l2, solver=lbfgs ..................\n",
      "[CV] ... C=4.3999999999999995, penalty=l2, solver=lbfgs, total=   0.0s\n",
      "[CV] C=4.3999999999999995, penalty=l2, solver=lbfgs ..................\n",
      "[CV] ... C=4.3999999999999995, penalty=l2, solver=lbfgs, total=   0.0s\n",
      "[CV] C=4.3999999999999995, penalty=l2, solver=lbfgs ..................\n",
      "[CV] ... C=4.3999999999999995, penalty=l2, solver=lbfgs, total=   0.0s\n",
      "[CV] C=4.3999999999999995, penalty=l2, solver=sag ....................\n",
      "[CV] ..... C=4.3999999999999995, penalty=l2, solver=sag, total=   0.1s\n",
      "[CV] C=4.3999999999999995, penalty=l2, solver=sag ....................\n",
      "[CV] ..... C=4.3999999999999995, penalty=l2, solver=sag, total=   0.1s\n",
      "[CV] C=4.3999999999999995, penalty=l2, solver=sag ....................\n",
      "[CV] ..... C=4.3999999999999995, penalty=l2, solver=sag, total=   0.1s\n",
      "[CV] C=4.3999999999999995, penalty=l2, solver=sag ....................\n",
      "[CV] ..... C=4.3999999999999995, penalty=l2, solver=sag, total=   0.1s\n",
      "[CV] C=4.3999999999999995, penalty=l2, solver=sag ....................\n",
      "[CV] ..... C=4.3999999999999995, penalty=l2, solver=sag, total=   0.1s\n",
      "[CV] C=4.3999999999999995, penalty=l2, solver=saga ...................\n",
      "[CV] .... C=4.3999999999999995, penalty=l2, solver=saga, total=   0.1s\n",
      "[CV] C=4.3999999999999995, penalty=l2, solver=saga ...................\n"
     ]
    },
    {
     "name": "stderr",
     "output_type": "stream",
     "text": [
      "E:\\Anaconda3\\lib\\site-packages\\sklearn\\linear_model\\_sag.py:330: ConvergenceWarning: The max_iter was reached which means the coef_ did not converge\n",
      "  \"the coef_ did not converge\", ConvergenceWarning)\n",
      "E:\\Anaconda3\\lib\\site-packages\\sklearn\\linear_model\\_sag.py:330: ConvergenceWarning: The max_iter was reached which means the coef_ did not converge\n",
      "  \"the coef_ did not converge\", ConvergenceWarning)\n"
     ]
    },
    {
     "name": "stdout",
     "output_type": "stream",
     "text": [
      "[CV] .... C=4.3999999999999995, penalty=l2, solver=saga, total=   0.1s\n",
      "[CV] C=4.3999999999999995, penalty=l2, solver=saga ...................\n",
      "[CV] .... C=4.3999999999999995, penalty=l2, solver=saga, total=   0.1s\n",
      "[CV] C=4.3999999999999995, penalty=l2, solver=saga ...................\n"
     ]
    },
    {
     "name": "stderr",
     "output_type": "stream",
     "text": [
      "E:\\Anaconda3\\lib\\site-packages\\sklearn\\linear_model\\_sag.py:330: ConvergenceWarning: The max_iter was reached which means the coef_ did not converge\n",
      "  \"the coef_ did not converge\", ConvergenceWarning)\n",
      "E:\\Anaconda3\\lib\\site-packages\\sklearn\\linear_model\\_sag.py:330: ConvergenceWarning: The max_iter was reached which means the coef_ did not converge\n",
      "  \"the coef_ did not converge\", ConvergenceWarning)\n"
     ]
    },
    {
     "name": "stdout",
     "output_type": "stream",
     "text": [
      "[CV] .... C=4.3999999999999995, penalty=l2, solver=saga, total=   0.1s\n",
      "[CV] C=4.3999999999999995, penalty=l2, solver=saga ...................\n",
      "[CV] .... C=4.3999999999999995, penalty=l2, solver=saga, total=   0.1s\n",
      "[CV] C=4.3999999999999995, penalty=l2, solver=liblinear ..............\n",
      "[CV]  C=4.3999999999999995, penalty=l2, solver=liblinear, total=   0.0s\n",
      "[CV] C=4.3999999999999995, penalty=l2, solver=liblinear ..............\n",
      "[CV]  C=4.3999999999999995, penalty=l2, solver=liblinear, total=   0.0s\n",
      "[CV] C=4.3999999999999995, penalty=l2, solver=liblinear ..............\n",
      "[CV]  C=4.3999999999999995, penalty=l2, solver=liblinear, total=   0.0s\n",
      "[CV] C=4.3999999999999995, penalty=l2, solver=liblinear ..............\n",
      "[CV]  C=4.3999999999999995, penalty=l2, solver=liblinear, total=   0.0s\n",
      "[CV] C=4.3999999999999995, penalty=l2, solver=liblinear ..............\n",
      "[CV]  C=4.3999999999999995, penalty=l2, solver=liblinear, total=   0.0s\n",
      "[CV] C=4.5, penalty=l1, solver=newton-cg .............................\n",
      "[CV] .............. C=4.5, penalty=l1, solver=newton-cg, total=   0.0s\n",
      "[CV] C=4.5, penalty=l1, solver=newton-cg .............................\n",
      "[CV] .............. C=4.5, penalty=l1, solver=newton-cg, total=   0.0s\n",
      "[CV] C=4.5, penalty=l1, solver=newton-cg .............................\n",
      "[CV] .............. C=4.5, penalty=l1, solver=newton-cg, total=   0.0s\n",
      "[CV] C=4.5, penalty=l1, solver=newton-cg .............................\n",
      "[CV] .............. C=4.5, penalty=l1, solver=newton-cg, total=   0.0s\n",
      "[CV] C=4.5, penalty=l1, solver=newton-cg .............................\n",
      "[CV] .............. C=4.5, penalty=l1, solver=newton-cg, total=   0.0s\n",
      "[CV] C=4.5, penalty=l1, solver=lbfgs .................................\n",
      "[CV] .................. C=4.5, penalty=l1, solver=lbfgs, total=   0.0s\n",
      "[CV] C=4.5, penalty=l1, solver=lbfgs .................................\n",
      "[CV] .................. C=4.5, penalty=l1, solver=lbfgs, total=   0.0s\n",
      "[CV] C=4.5, penalty=l1, solver=lbfgs .................................\n",
      "[CV] .................. C=4.5, penalty=l1, solver=lbfgs, total=   0.0s\n",
      "[CV] C=4.5, penalty=l1, solver=lbfgs .................................\n",
      "[CV] .................. C=4.5, penalty=l1, solver=lbfgs, total=   0.0s\n",
      "[CV] C=4.5, penalty=l1, solver=lbfgs .................................\n",
      "[CV] .................. C=4.5, penalty=l1, solver=lbfgs, total=   0.0s\n",
      "[CV] C=4.5, penalty=l1, solver=sag ...................................\n",
      "[CV] .................... C=4.5, penalty=l1, solver=sag, total=   0.0s\n",
      "[CV] C=4.5, penalty=l1, solver=sag ...................................\n",
      "[CV] .................... C=4.5, penalty=l1, solver=sag, total=   0.0s\n",
      "[CV] C=4.5, penalty=l1, solver=sag ...................................\n",
      "[CV] .................... C=4.5, penalty=l1, solver=sag, total=   0.0s\n",
      "[CV] C=4.5, penalty=l1, solver=sag ...................................\n",
      "[CV] .................... C=4.5, penalty=l1, solver=sag, total=   0.0s\n",
      "[CV] C=4.5, penalty=l1, solver=sag ...................................\n",
      "[CV] .................... C=4.5, penalty=l1, solver=sag, total=   0.0s\n",
      "[CV] C=4.5, penalty=l1, solver=saga ..................................\n"
     ]
    },
    {
     "name": "stderr",
     "output_type": "stream",
     "text": [
      "E:\\Anaconda3\\lib\\site-packages\\sklearn\\linear_model\\_sag.py:330: ConvergenceWarning: The max_iter was reached which means the coef_ did not converge\n",
      "  \"the coef_ did not converge\", ConvergenceWarning)\n",
      "E:\\Anaconda3\\lib\\site-packages\\sklearn\\model_selection\\_validation.py:536: FitFailedWarning: Estimator fit failed. The score on this train-test partition for these parameters will be set to nan. Details: \n",
      "ValueError: Solver newton-cg supports only 'l2' or 'none' penalties, got l1 penalty.\n",
      "\n",
      "  FitFailedWarning)\n",
      "E:\\Anaconda3\\lib\\site-packages\\sklearn\\model_selection\\_validation.py:536: FitFailedWarning: Estimator fit failed. The score on this train-test partition for these parameters will be set to nan. Details: \n",
      "ValueError: Solver lbfgs supports only 'l2' or 'none' penalties, got l1 penalty.\n",
      "\n",
      "  FitFailedWarning)\n",
      "E:\\Anaconda3\\lib\\site-packages\\sklearn\\model_selection\\_validation.py:536: FitFailedWarning: Estimator fit failed. The score on this train-test partition for these parameters will be set to nan. Details: \n",
      "ValueError: Solver sag supports only 'l2' or 'none' penalties, got l1 penalty.\n",
      "\n",
      "  FitFailedWarning)\n",
      "E:\\Anaconda3\\lib\\site-packages\\sklearn\\linear_model\\_sag.py:330: ConvergenceWarning: The max_iter was reached which means the coef_ did not converge\n",
      "  \"the coef_ did not converge\", ConvergenceWarning)\n"
     ]
    },
    {
     "name": "stdout",
     "output_type": "stream",
     "text": [
      "[CV] ................... C=4.5, penalty=l1, solver=saga, total=   0.1s\n",
      "[CV] C=4.5, penalty=l1, solver=saga ..................................\n",
      "[CV] ................... C=4.5, penalty=l1, solver=saga, total=   0.1s\n",
      "[CV] C=4.5, penalty=l1, solver=saga ..................................\n"
     ]
    },
    {
     "name": "stderr",
     "output_type": "stream",
     "text": [
      "E:\\Anaconda3\\lib\\site-packages\\sklearn\\linear_model\\_sag.py:330: ConvergenceWarning: The max_iter was reached which means the coef_ did not converge\n",
      "  \"the coef_ did not converge\", ConvergenceWarning)\n",
      "E:\\Anaconda3\\lib\\site-packages\\sklearn\\linear_model\\_sag.py:330: ConvergenceWarning: The max_iter was reached which means the coef_ did not converge\n",
      "  \"the coef_ did not converge\", ConvergenceWarning)\n"
     ]
    },
    {
     "name": "stdout",
     "output_type": "stream",
     "text": [
      "[CV] ................... C=4.5, penalty=l1, solver=saga, total=   0.1s\n",
      "[CV] C=4.5, penalty=l1, solver=saga ..................................\n",
      "[CV] ................... C=4.5, penalty=l1, solver=saga, total=   0.1s\n",
      "[CV] C=4.5, penalty=l1, solver=saga ..................................\n"
     ]
    },
    {
     "name": "stderr",
     "output_type": "stream",
     "text": [
      "E:\\Anaconda3\\lib\\site-packages\\sklearn\\linear_model\\_sag.py:330: ConvergenceWarning: The max_iter was reached which means the coef_ did not converge\n",
      "  \"the coef_ did not converge\", ConvergenceWarning)\n",
      "E:\\Anaconda3\\lib\\site-packages\\sklearn\\linear_model\\_sag.py:330: ConvergenceWarning: The max_iter was reached which means the coef_ did not converge\n",
      "  \"the coef_ did not converge\", ConvergenceWarning)\n"
     ]
    },
    {
     "name": "stdout",
     "output_type": "stream",
     "text": [
      "[CV] ................... C=4.5, penalty=l1, solver=saga, total=   0.1s\n",
      "[CV] C=4.5, penalty=l1, solver=liblinear .............................\n",
      "[CV] .............. C=4.5, penalty=l1, solver=liblinear, total=   0.0s\n",
      "[CV] C=4.5, penalty=l1, solver=liblinear .............................\n",
      "[CV] .............. C=4.5, penalty=l1, solver=liblinear, total=   0.0s\n",
      "[CV] C=4.5, penalty=l1, solver=liblinear .............................\n",
      "[CV] .............. C=4.5, penalty=l1, solver=liblinear, total=   0.0s\n",
      "[CV] C=4.5, penalty=l1, solver=liblinear .............................\n",
      "[CV] .............. C=4.5, penalty=l1, solver=liblinear, total=   0.0s\n",
      "[CV] C=4.5, penalty=l1, solver=liblinear .............................\n",
      "[CV] .............. C=4.5, penalty=l1, solver=liblinear, total=   0.0s\n",
      "[CV] C=4.5, penalty=l2, solver=newton-cg .............................\n",
      "[CV] .............. C=4.5, penalty=l2, solver=newton-cg, total=   0.0s\n",
      "[CV] C=4.5, penalty=l2, solver=newton-cg .............................\n",
      "[CV] .............. C=4.5, penalty=l2, solver=newton-cg, total=   0.0s\n",
      "[CV] C=4.5, penalty=l2, solver=newton-cg .............................\n",
      "[CV] .............. C=4.5, penalty=l2, solver=newton-cg, total=   0.0s\n",
      "[CV] C=4.5, penalty=l2, solver=newton-cg .............................\n",
      "[CV] .............. C=4.5, penalty=l2, solver=newton-cg, total=   0.0s\n",
      "[CV] C=4.5, penalty=l2, solver=newton-cg .............................\n",
      "[CV] .............. C=4.5, penalty=l2, solver=newton-cg, total=   0.0s\n",
      "[CV] C=4.5, penalty=l2, solver=lbfgs .................................\n",
      "[CV] .................. C=4.5, penalty=l2, solver=lbfgs, total=   0.0s\n",
      "[CV] C=4.5, penalty=l2, solver=lbfgs .................................\n",
      "[CV] .................. C=4.5, penalty=l2, solver=lbfgs, total=   0.0s\n",
      "[CV] C=4.5, penalty=l2, solver=lbfgs .................................\n",
      "[CV] .................. C=4.5, penalty=l2, solver=lbfgs, total=   0.0s\n",
      "[CV] C=4.5, penalty=l2, solver=lbfgs .................................\n",
      "[CV] .................. C=4.5, penalty=l2, solver=lbfgs, total=   0.0s\n",
      "[CV] C=4.5, penalty=l2, solver=lbfgs .................................\n",
      "[CV] .................. C=4.5, penalty=l2, solver=lbfgs, total=   0.0s\n",
      "[CV] C=4.5, penalty=l2, solver=sag ...................................\n",
      "[CV] .................... C=4.5, penalty=l2, solver=sag, total=   0.1s\n",
      "[CV] C=4.5, penalty=l2, solver=sag ...................................\n",
      "[CV] .................... C=4.5, penalty=l2, solver=sag, total=   0.1s\n",
      "[CV] C=4.5, penalty=l2, solver=sag ...................................\n",
      "[CV] .................... C=4.5, penalty=l2, solver=sag, total=   0.1s\n",
      "[CV] C=4.5, penalty=l2, solver=sag ...................................\n",
      "[CV] .................... C=4.5, penalty=l2, solver=sag, total=   0.1s\n",
      "[CV] C=4.5, penalty=l2, solver=sag ...................................\n",
      "[CV] .................... C=4.5, penalty=l2, solver=sag, total=   0.1s\n",
      "[CV] C=4.5, penalty=l2, solver=saga ..................................\n",
      "[CV] ................... C=4.5, penalty=l2, solver=saga, total=   0.1s\n",
      "[CV] C=4.5, penalty=l2, solver=saga ..................................\n"
     ]
    },
    {
     "name": "stderr",
     "output_type": "stream",
     "text": [
      "E:\\Anaconda3\\lib\\site-packages\\sklearn\\linear_model\\_sag.py:330: ConvergenceWarning: The max_iter was reached which means the coef_ did not converge\n",
      "  \"the coef_ did not converge\", ConvergenceWarning)\n",
      "E:\\Anaconda3\\lib\\site-packages\\sklearn\\linear_model\\_sag.py:330: ConvergenceWarning: The max_iter was reached which means the coef_ did not converge\n",
      "  \"the coef_ did not converge\", ConvergenceWarning)\n"
     ]
    },
    {
     "name": "stdout",
     "output_type": "stream",
     "text": [
      "[CV] ................... C=4.5, penalty=l2, solver=saga, total=   0.1s\n",
      "[CV] C=4.5, penalty=l2, solver=saga ..................................\n",
      "[CV] ................... C=4.5, penalty=l2, solver=saga, total=   0.1s\n",
      "[CV] C=4.5, penalty=l2, solver=saga ..................................\n"
     ]
    },
    {
     "name": "stderr",
     "output_type": "stream",
     "text": [
      "E:\\Anaconda3\\lib\\site-packages\\sklearn\\linear_model\\_sag.py:330: ConvergenceWarning: The max_iter was reached which means the coef_ did not converge\n",
      "  \"the coef_ did not converge\", ConvergenceWarning)\n",
      "E:\\Anaconda3\\lib\\site-packages\\sklearn\\linear_model\\_sag.py:330: ConvergenceWarning: The max_iter was reached which means the coef_ did not converge\n",
      "  \"the coef_ did not converge\", ConvergenceWarning)\n"
     ]
    },
    {
     "name": "stdout",
     "output_type": "stream",
     "text": [
      "[CV] ................... C=4.5, penalty=l2, solver=saga, total=   0.1s\n",
      "[CV] C=4.5, penalty=l2, solver=saga ..................................\n",
      "[CV] ................... C=4.5, penalty=l2, solver=saga, total=   0.1s\n",
      "[CV] C=4.5, penalty=l2, solver=liblinear .............................\n",
      "[CV] .............. C=4.5, penalty=l2, solver=liblinear, total=   0.0s\n",
      "[CV] C=4.5, penalty=l2, solver=liblinear .............................\n",
      "[CV] .............. C=4.5, penalty=l2, solver=liblinear, total=   0.0s\n",
      "[CV] C=4.5, penalty=l2, solver=liblinear .............................\n",
      "[CV] .............. C=4.5, penalty=l2, solver=liblinear, total=   0.0s\n",
      "[CV] C=4.5, penalty=l2, solver=liblinear .............................\n",
      "[CV] .............. C=4.5, penalty=l2, solver=liblinear, total=   0.0s\n",
      "[CV] C=4.5, penalty=l2, solver=liblinear .............................\n",
      "[CV] .............. C=4.5, penalty=l2, solver=liblinear, total=   0.0s\n",
      "[CV] C=4.6, penalty=l1, solver=newton-cg .............................\n",
      "[CV] .............. C=4.6, penalty=l1, solver=newton-cg, total=   0.0s\n",
      "[CV] C=4.6, penalty=l1, solver=newton-cg .............................\n",
      "[CV] .............. C=4.6, penalty=l1, solver=newton-cg, total=   0.0s\n",
      "[CV] C=4.6, penalty=l1, solver=newton-cg .............................\n",
      "[CV] .............. C=4.6, penalty=l1, solver=newton-cg, total=   0.0s\n",
      "[CV] C=4.6, penalty=l1, solver=newton-cg .............................\n",
      "[CV] .............. C=4.6, penalty=l1, solver=newton-cg, total=   0.0s\n",
      "[CV] C=4.6, penalty=l1, solver=newton-cg .............................\n",
      "[CV] .............. C=4.6, penalty=l1, solver=newton-cg, total=   0.0s\n",
      "[CV] C=4.6, penalty=l1, solver=lbfgs .................................\n",
      "[CV] .................. C=4.6, penalty=l1, solver=lbfgs, total=   0.0s\n",
      "[CV] C=4.6, penalty=l1, solver=lbfgs .................................\n",
      "[CV] .................. C=4.6, penalty=l1, solver=lbfgs, total=   0.0s\n",
      "[CV] C=4.6, penalty=l1, solver=lbfgs .................................\n",
      "[CV] .................. C=4.6, penalty=l1, solver=lbfgs, total=   0.0s\n",
      "[CV] C=4.6, penalty=l1, solver=lbfgs .................................\n",
      "[CV] .................. C=4.6, penalty=l1, solver=lbfgs, total=   0.0s\n",
      "[CV] C=4.6, penalty=l1, solver=lbfgs .................................\n",
      "[CV] .................. C=4.6, penalty=l1, solver=lbfgs, total=   0.0s\n",
      "[CV] C=4.6, penalty=l1, solver=sag ...................................\n",
      "[CV] .................... C=4.6, penalty=l1, solver=sag, total=   0.0s\n",
      "[CV] C=4.6, penalty=l1, solver=sag ...................................\n",
      "[CV] .................... C=4.6, penalty=l1, solver=sag, total=   0.0s\n",
      "[CV] C=4.6, penalty=l1, solver=sag ...................................\n",
      "[CV] .................... C=4.6, penalty=l1, solver=sag, total=   0.0s\n",
      "[CV] C=4.6, penalty=l1, solver=sag ...................................\n",
      "[CV] .................... C=4.6, penalty=l1, solver=sag, total=   0.0s\n",
      "[CV] C=4.6, penalty=l1, solver=sag ...................................\n",
      "[CV] .................... C=4.6, penalty=l1, solver=sag, total=   0.0s\n",
      "[CV] C=4.6, penalty=l1, solver=saga ..................................\n"
     ]
    },
    {
     "name": "stderr",
     "output_type": "stream",
     "text": [
      "E:\\Anaconda3\\lib\\site-packages\\sklearn\\linear_model\\_sag.py:330: ConvergenceWarning: The max_iter was reached which means the coef_ did not converge\n",
      "  \"the coef_ did not converge\", ConvergenceWarning)\n",
      "E:\\Anaconda3\\lib\\site-packages\\sklearn\\model_selection\\_validation.py:536: FitFailedWarning: Estimator fit failed. The score on this train-test partition for these parameters will be set to nan. Details: \n",
      "ValueError: Solver newton-cg supports only 'l2' or 'none' penalties, got l1 penalty.\n",
      "\n",
      "  FitFailedWarning)\n",
      "E:\\Anaconda3\\lib\\site-packages\\sklearn\\model_selection\\_validation.py:536: FitFailedWarning: Estimator fit failed. The score on this train-test partition for these parameters will be set to nan. Details: \n",
      "ValueError: Solver lbfgs supports only 'l2' or 'none' penalties, got l1 penalty.\n",
      "\n",
      "  FitFailedWarning)\n",
      "E:\\Anaconda3\\lib\\site-packages\\sklearn\\model_selection\\_validation.py:536: FitFailedWarning: Estimator fit failed. The score on this train-test partition for these parameters will be set to nan. Details: \n",
      "ValueError: Solver sag supports only 'l2' or 'none' penalties, got l1 penalty.\n",
      "\n",
      "  FitFailedWarning)\n",
      "E:\\Anaconda3\\lib\\site-packages\\sklearn\\linear_model\\_sag.py:330: ConvergenceWarning: The max_iter was reached which means the coef_ did not converge\n",
      "  \"the coef_ did not converge\", ConvergenceWarning)\n"
     ]
    },
    {
     "name": "stdout",
     "output_type": "stream",
     "text": [
      "[CV] ................... C=4.6, penalty=l1, solver=saga, total=   0.1s\n",
      "[CV] C=4.6, penalty=l1, solver=saga ..................................\n",
      "[CV] ................... C=4.6, penalty=l1, solver=saga, total=   0.1s\n",
      "[CV] C=4.6, penalty=l1, solver=saga ..................................\n"
     ]
    },
    {
     "name": "stderr",
     "output_type": "stream",
     "text": [
      "E:\\Anaconda3\\lib\\site-packages\\sklearn\\linear_model\\_sag.py:330: ConvergenceWarning: The max_iter was reached which means the coef_ did not converge\n",
      "  \"the coef_ did not converge\", ConvergenceWarning)\n",
      "E:\\Anaconda3\\lib\\site-packages\\sklearn\\linear_model\\_sag.py:330: ConvergenceWarning: The max_iter was reached which means the coef_ did not converge\n",
      "  \"the coef_ did not converge\", ConvergenceWarning)\n"
     ]
    },
    {
     "name": "stdout",
     "output_type": "stream",
     "text": [
      "[CV] ................... C=4.6, penalty=l1, solver=saga, total=   0.1s\n",
      "[CV] C=4.6, penalty=l1, solver=saga ..................................\n",
      "[CV] ................... C=4.6, penalty=l1, solver=saga, total=   0.1s\n",
      "[CV] C=4.6, penalty=l1, solver=saga ..................................\n"
     ]
    },
    {
     "name": "stderr",
     "output_type": "stream",
     "text": [
      "E:\\Anaconda3\\lib\\site-packages\\sklearn\\linear_model\\_sag.py:330: ConvergenceWarning: The max_iter was reached which means the coef_ did not converge\n",
      "  \"the coef_ did not converge\", ConvergenceWarning)\n",
      "E:\\Anaconda3\\lib\\site-packages\\sklearn\\linear_model\\_sag.py:330: ConvergenceWarning: The max_iter was reached which means the coef_ did not converge\n",
      "  \"the coef_ did not converge\", ConvergenceWarning)\n"
     ]
    },
    {
     "name": "stdout",
     "output_type": "stream",
     "text": [
      "[CV] ................... C=4.6, penalty=l1, solver=saga, total=   0.1s\n",
      "[CV] C=4.6, penalty=l1, solver=liblinear .............................\n",
      "[CV] .............. C=4.6, penalty=l1, solver=liblinear, total=   0.0s\n",
      "[CV] C=4.6, penalty=l1, solver=liblinear .............................\n",
      "[CV] .............. C=4.6, penalty=l1, solver=liblinear, total=   0.0s\n",
      "[CV] C=4.6, penalty=l1, solver=liblinear .............................\n",
      "[CV] .............. C=4.6, penalty=l1, solver=liblinear, total=   0.0s\n",
      "[CV] C=4.6, penalty=l1, solver=liblinear .............................\n",
      "[CV] .............. C=4.6, penalty=l1, solver=liblinear, total=   0.0s\n",
      "[CV] C=4.6, penalty=l1, solver=liblinear .............................\n",
      "[CV] .............. C=4.6, penalty=l1, solver=liblinear, total=   0.0s\n",
      "[CV] C=4.6, penalty=l2, solver=newton-cg .............................\n",
      "[CV] .............. C=4.6, penalty=l2, solver=newton-cg, total=   0.0s\n",
      "[CV] C=4.6, penalty=l2, solver=newton-cg .............................\n",
      "[CV] .............. C=4.6, penalty=l2, solver=newton-cg, total=   0.0s\n",
      "[CV] C=4.6, penalty=l2, solver=newton-cg .............................\n",
      "[CV] .............. C=4.6, penalty=l2, solver=newton-cg, total=   0.0s\n",
      "[CV] C=4.6, penalty=l2, solver=newton-cg .............................\n",
      "[CV] .............. C=4.6, penalty=l2, solver=newton-cg, total=   0.0s\n",
      "[CV] C=4.6, penalty=l2, solver=newton-cg .............................\n",
      "[CV] .............. C=4.6, penalty=l2, solver=newton-cg, total=   0.0s\n",
      "[CV] C=4.6, penalty=l2, solver=lbfgs .................................\n",
      "[CV] .................. C=4.6, penalty=l2, solver=lbfgs, total=   0.0s\n",
      "[CV] C=4.6, penalty=l2, solver=lbfgs .................................\n",
      "[CV] .................. C=4.6, penalty=l2, solver=lbfgs, total=   0.0s\n",
      "[CV] C=4.6, penalty=l2, solver=lbfgs .................................\n",
      "[CV] .................. C=4.6, penalty=l2, solver=lbfgs, total=   0.0s\n",
      "[CV] C=4.6, penalty=l2, solver=lbfgs .................................\n",
      "[CV] .................. C=4.6, penalty=l2, solver=lbfgs, total=   0.0s\n",
      "[CV] C=4.6, penalty=l2, solver=lbfgs .................................\n",
      "[CV] .................. C=4.6, penalty=l2, solver=lbfgs, total=   0.0s\n",
      "[CV] C=4.6, penalty=l2, solver=sag ...................................\n",
      "[CV] .................... C=4.6, penalty=l2, solver=sag, total=   0.1s\n",
      "[CV] C=4.6, penalty=l2, solver=sag ...................................\n",
      "[CV] .................... C=4.6, penalty=l2, solver=sag, total=   0.1s\n",
      "[CV] C=4.6, penalty=l2, solver=sag ...................................\n",
      "[CV] .................... C=4.6, penalty=l2, solver=sag, total=   0.1s\n",
      "[CV] C=4.6, penalty=l2, solver=sag ...................................\n",
      "[CV] .................... C=4.6, penalty=l2, solver=sag, total=   0.1s\n",
      "[CV] C=4.6, penalty=l2, solver=sag ...................................\n",
      "[CV] .................... C=4.6, penalty=l2, solver=sag, total=   0.1s\n",
      "[CV] C=4.6, penalty=l2, solver=saga ..................................\n",
      "[CV] ................... C=4.6, penalty=l2, solver=saga, total=   0.1s\n",
      "[CV] C=4.6, penalty=l2, solver=saga ..................................\n"
     ]
    },
    {
     "name": "stderr",
     "output_type": "stream",
     "text": [
      "E:\\Anaconda3\\lib\\site-packages\\sklearn\\linear_model\\_sag.py:330: ConvergenceWarning: The max_iter was reached which means the coef_ did not converge\n",
      "  \"the coef_ did not converge\", ConvergenceWarning)\n",
      "E:\\Anaconda3\\lib\\site-packages\\sklearn\\linear_model\\_sag.py:330: ConvergenceWarning: The max_iter was reached which means the coef_ did not converge\n",
      "  \"the coef_ did not converge\", ConvergenceWarning)\n"
     ]
    },
    {
     "name": "stdout",
     "output_type": "stream",
     "text": [
      "[CV] ................... C=4.6, penalty=l2, solver=saga, total=   0.1s\n",
      "[CV] C=4.6, penalty=l2, solver=saga ..................................\n",
      "[CV] ................... C=4.6, penalty=l2, solver=saga, total=   0.1s\n",
      "[CV] C=4.6, penalty=l2, solver=saga ..................................\n"
     ]
    },
    {
     "name": "stderr",
     "output_type": "stream",
     "text": [
      "E:\\Anaconda3\\lib\\site-packages\\sklearn\\linear_model\\_sag.py:330: ConvergenceWarning: The max_iter was reached which means the coef_ did not converge\n",
      "  \"the coef_ did not converge\", ConvergenceWarning)\n",
      "E:\\Anaconda3\\lib\\site-packages\\sklearn\\linear_model\\_sag.py:330: ConvergenceWarning: The max_iter was reached which means the coef_ did not converge\n",
      "  \"the coef_ did not converge\", ConvergenceWarning)\n"
     ]
    },
    {
     "name": "stdout",
     "output_type": "stream",
     "text": [
      "[CV] ................... C=4.6, penalty=l2, solver=saga, total=   0.1s\n",
      "[CV] C=4.6, penalty=l2, solver=saga ..................................\n",
      "[CV] ................... C=4.6, penalty=l2, solver=saga, total=   0.1s\n",
      "[CV] C=4.6, penalty=l2, solver=liblinear .............................\n",
      "[CV] .............. C=4.6, penalty=l2, solver=liblinear, total=   0.0s\n",
      "[CV] C=4.6, penalty=l2, solver=liblinear .............................\n",
      "[CV] .............. C=4.6, penalty=l2, solver=liblinear, total=   0.0s\n",
      "[CV] C=4.6, penalty=l2, solver=liblinear .............................\n",
      "[CV] .............. C=4.6, penalty=l2, solver=liblinear, total=   0.0s\n",
      "[CV] C=4.6, penalty=l2, solver=liblinear .............................\n",
      "[CV] .............. C=4.6, penalty=l2, solver=liblinear, total=   0.0s\n",
      "[CV] C=4.6, penalty=l2, solver=liblinear .............................\n",
      "[CV] .............. C=4.6, penalty=l2, solver=liblinear, total=   0.0s\n",
      "[CV] C=4.7, penalty=l1, solver=newton-cg .............................\n",
      "[CV] .............. C=4.7, penalty=l1, solver=newton-cg, total=   0.0s\n",
      "[CV] C=4.7, penalty=l1, solver=newton-cg .............................\n",
      "[CV] .............. C=4.7, penalty=l1, solver=newton-cg, total=   0.0s\n",
      "[CV] C=4.7, penalty=l1, solver=newton-cg .............................\n",
      "[CV] .............. C=4.7, penalty=l1, solver=newton-cg, total=   0.0s\n",
      "[CV] C=4.7, penalty=l1, solver=newton-cg .............................\n",
      "[CV] .............. C=4.7, penalty=l1, solver=newton-cg, total=   0.0s\n",
      "[CV] C=4.7, penalty=l1, solver=newton-cg .............................\n",
      "[CV] .............. C=4.7, penalty=l1, solver=newton-cg, total=   0.0s\n",
      "[CV] C=4.7, penalty=l1, solver=lbfgs .................................\n",
      "[CV] .................. C=4.7, penalty=l1, solver=lbfgs, total=   0.0s\n",
      "[CV] C=4.7, penalty=l1, solver=lbfgs .................................\n",
      "[CV] .................. C=4.7, penalty=l1, solver=lbfgs, total=   0.0s\n",
      "[CV] C=4.7, penalty=l1, solver=lbfgs .................................\n",
      "[CV] .................. C=4.7, penalty=l1, solver=lbfgs, total=   0.0s\n",
      "[CV] C=4.7, penalty=l1, solver=lbfgs .................................\n",
      "[CV] .................. C=4.7, penalty=l1, solver=lbfgs, total=   0.0s\n",
      "[CV] C=4.7, penalty=l1, solver=lbfgs .................................\n",
      "[CV] .................. C=4.7, penalty=l1, solver=lbfgs, total=   0.0s\n",
      "[CV] C=4.7, penalty=l1, solver=sag ...................................\n",
      "[CV] .................... C=4.7, penalty=l1, solver=sag, total=   0.0s\n",
      "[CV] C=4.7, penalty=l1, solver=sag ...................................\n",
      "[CV] .................... C=4.7, penalty=l1, solver=sag, total=   0.0s\n",
      "[CV] C=4.7, penalty=l1, solver=sag ...................................\n",
      "[CV] .................... C=4.7, penalty=l1, solver=sag, total=   0.0s\n",
      "[CV] C=4.7, penalty=l1, solver=sag ...................................\n",
      "[CV] .................... C=4.7, penalty=l1, solver=sag, total=   0.0s\n",
      "[CV] C=4.7, penalty=l1, solver=sag ...................................\n",
      "[CV] .................... C=4.7, penalty=l1, solver=sag, total=   0.0s\n",
      "[CV] C=4.7, penalty=l1, solver=saga ..................................\n"
     ]
    },
    {
     "name": "stderr",
     "output_type": "stream",
     "text": [
      "E:\\Anaconda3\\lib\\site-packages\\sklearn\\linear_model\\_sag.py:330: ConvergenceWarning: The max_iter was reached which means the coef_ did not converge\n",
      "  \"the coef_ did not converge\", ConvergenceWarning)\n",
      "E:\\Anaconda3\\lib\\site-packages\\sklearn\\model_selection\\_validation.py:536: FitFailedWarning: Estimator fit failed. The score on this train-test partition for these parameters will be set to nan. Details: \n",
      "ValueError: Solver newton-cg supports only 'l2' or 'none' penalties, got l1 penalty.\n",
      "\n",
      "  FitFailedWarning)\n",
      "E:\\Anaconda3\\lib\\site-packages\\sklearn\\model_selection\\_validation.py:536: FitFailedWarning: Estimator fit failed. The score on this train-test partition for these parameters will be set to nan. Details: \n",
      "ValueError: Solver lbfgs supports only 'l2' or 'none' penalties, got l1 penalty.\n",
      "\n",
      "  FitFailedWarning)\n",
      "E:\\Anaconda3\\lib\\site-packages\\sklearn\\model_selection\\_validation.py:536: FitFailedWarning: Estimator fit failed. The score on this train-test partition for these parameters will be set to nan. Details: \n",
      "ValueError: Solver sag supports only 'l2' or 'none' penalties, got l1 penalty.\n",
      "\n",
      "  FitFailedWarning)\n",
      "E:\\Anaconda3\\lib\\site-packages\\sklearn\\linear_model\\_sag.py:330: ConvergenceWarning: The max_iter was reached which means the coef_ did not converge\n",
      "  \"the coef_ did not converge\", ConvergenceWarning)\n"
     ]
    },
    {
     "name": "stdout",
     "output_type": "stream",
     "text": [
      "[CV] ................... C=4.7, penalty=l1, solver=saga, total=   0.1s\n",
      "[CV] C=4.7, penalty=l1, solver=saga ..................................\n",
      "[CV] ................... C=4.7, penalty=l1, solver=saga, total=   0.1s\n",
      "[CV] C=4.7, penalty=l1, solver=saga ..................................\n"
     ]
    },
    {
     "name": "stderr",
     "output_type": "stream",
     "text": [
      "E:\\Anaconda3\\lib\\site-packages\\sklearn\\linear_model\\_sag.py:330: ConvergenceWarning: The max_iter was reached which means the coef_ did not converge\n",
      "  \"the coef_ did not converge\", ConvergenceWarning)\n",
      "E:\\Anaconda3\\lib\\site-packages\\sklearn\\linear_model\\_sag.py:330: ConvergenceWarning: The max_iter was reached which means the coef_ did not converge\n",
      "  \"the coef_ did not converge\", ConvergenceWarning)\n"
     ]
    },
    {
     "name": "stdout",
     "output_type": "stream",
     "text": [
      "[CV] ................... C=4.7, penalty=l1, solver=saga, total=   0.1s\n",
      "[CV] C=4.7, penalty=l1, solver=saga ..................................\n",
      "[CV] ................... C=4.7, penalty=l1, solver=saga, total=   0.1s\n",
      "[CV] C=4.7, penalty=l1, solver=saga ..................................\n"
     ]
    },
    {
     "name": "stderr",
     "output_type": "stream",
     "text": [
      "E:\\Anaconda3\\lib\\site-packages\\sklearn\\linear_model\\_sag.py:330: ConvergenceWarning: The max_iter was reached which means the coef_ did not converge\n",
      "  \"the coef_ did not converge\", ConvergenceWarning)\n",
      "E:\\Anaconda3\\lib\\site-packages\\sklearn\\linear_model\\_sag.py:330: ConvergenceWarning: The max_iter was reached which means the coef_ did not converge\n",
      "  \"the coef_ did not converge\", ConvergenceWarning)\n"
     ]
    },
    {
     "name": "stdout",
     "output_type": "stream",
     "text": [
      "[CV] ................... C=4.7, penalty=l1, solver=saga, total=   0.1s\n",
      "[CV] C=4.7, penalty=l1, solver=liblinear .............................\n",
      "[CV] .............. C=4.7, penalty=l1, solver=liblinear, total=   0.0s\n",
      "[CV] C=4.7, penalty=l1, solver=liblinear .............................\n",
      "[CV] .............. C=4.7, penalty=l1, solver=liblinear, total=   0.0s\n",
      "[CV] C=4.7, penalty=l1, solver=liblinear .............................\n",
      "[CV] .............. C=4.7, penalty=l1, solver=liblinear, total=   0.0s\n",
      "[CV] C=4.7, penalty=l1, solver=liblinear .............................\n",
      "[CV] .............. C=4.7, penalty=l1, solver=liblinear, total=   0.0s\n",
      "[CV] C=4.7, penalty=l1, solver=liblinear .............................\n",
      "[CV] .............. C=4.7, penalty=l1, solver=liblinear, total=   0.0s\n",
      "[CV] C=4.7, penalty=l2, solver=newton-cg .............................\n",
      "[CV] .............. C=4.7, penalty=l2, solver=newton-cg, total=   0.0s\n",
      "[CV] C=4.7, penalty=l2, solver=newton-cg .............................\n",
      "[CV] .............. C=4.7, penalty=l2, solver=newton-cg, total=   0.0s\n",
      "[CV] C=4.7, penalty=l2, solver=newton-cg .............................\n",
      "[CV] .............. C=4.7, penalty=l2, solver=newton-cg, total=   0.0s\n",
      "[CV] C=4.7, penalty=l2, solver=newton-cg .............................\n",
      "[CV] .............. C=4.7, penalty=l2, solver=newton-cg, total=   0.0s\n",
      "[CV] C=4.7, penalty=l2, solver=newton-cg .............................\n",
      "[CV] .............. C=4.7, penalty=l2, solver=newton-cg, total=   0.0s\n",
      "[CV] C=4.7, penalty=l2, solver=lbfgs .................................\n",
      "[CV] .................. C=4.7, penalty=l2, solver=lbfgs, total=   0.0s\n",
      "[CV] C=4.7, penalty=l2, solver=lbfgs .................................\n",
      "[CV] .................. C=4.7, penalty=l2, solver=lbfgs, total=   0.0s\n",
      "[CV] C=4.7, penalty=l2, solver=lbfgs .................................\n",
      "[CV] .................. C=4.7, penalty=l2, solver=lbfgs, total=   0.0s\n",
      "[CV] C=4.7, penalty=l2, solver=lbfgs .................................\n",
      "[CV] .................. C=4.7, penalty=l2, solver=lbfgs, total=   0.0s\n",
      "[CV] C=4.7, penalty=l2, solver=lbfgs .................................\n",
      "[CV] .................. C=4.7, penalty=l2, solver=lbfgs, total=   0.0s\n",
      "[CV] C=4.7, penalty=l2, solver=sag ...................................\n",
      "[CV] .................... C=4.7, penalty=l2, solver=sag, total=   0.1s\n",
      "[CV] C=4.7, penalty=l2, solver=sag ...................................\n",
      "[CV] .................... C=4.7, penalty=l2, solver=sag, total=   0.1s\n",
      "[CV] C=4.7, penalty=l2, solver=sag ...................................\n",
      "[CV] .................... C=4.7, penalty=l2, solver=sag, total=   0.1s\n",
      "[CV] C=4.7, penalty=l2, solver=sag ...................................\n",
      "[CV] .................... C=4.7, penalty=l2, solver=sag, total=   0.1s\n",
      "[CV] C=4.7, penalty=l2, solver=sag ...................................\n",
      "[CV] .................... C=4.7, penalty=l2, solver=sag, total=   0.1s\n",
      "[CV] C=4.7, penalty=l2, solver=saga ..................................\n",
      "[CV] ................... C=4.7, penalty=l2, solver=saga, total=   0.1s\n",
      "[CV] C=4.7, penalty=l2, solver=saga ..................................\n"
     ]
    },
    {
     "name": "stderr",
     "output_type": "stream",
     "text": [
      "E:\\Anaconda3\\lib\\site-packages\\sklearn\\linear_model\\_sag.py:330: ConvergenceWarning: The max_iter was reached which means the coef_ did not converge\n",
      "  \"the coef_ did not converge\", ConvergenceWarning)\n",
      "E:\\Anaconda3\\lib\\site-packages\\sklearn\\linear_model\\_sag.py:330: ConvergenceWarning: The max_iter was reached which means the coef_ did not converge\n",
      "  \"the coef_ did not converge\", ConvergenceWarning)\n"
     ]
    },
    {
     "name": "stdout",
     "output_type": "stream",
     "text": [
      "[CV] ................... C=4.7, penalty=l2, solver=saga, total=   0.1s\n",
      "[CV] C=4.7, penalty=l2, solver=saga ..................................\n",
      "[CV] ................... C=4.7, penalty=l2, solver=saga, total=   0.1s\n",
      "[CV] C=4.7, penalty=l2, solver=saga ..................................\n"
     ]
    },
    {
     "name": "stderr",
     "output_type": "stream",
     "text": [
      "E:\\Anaconda3\\lib\\site-packages\\sklearn\\linear_model\\_sag.py:330: ConvergenceWarning: The max_iter was reached which means the coef_ did not converge\n",
      "  \"the coef_ did not converge\", ConvergenceWarning)\n",
      "E:\\Anaconda3\\lib\\site-packages\\sklearn\\linear_model\\_sag.py:330: ConvergenceWarning: The max_iter was reached which means the coef_ did not converge\n",
      "  \"the coef_ did not converge\", ConvergenceWarning)\n"
     ]
    },
    {
     "name": "stdout",
     "output_type": "stream",
     "text": [
      "[CV] ................... C=4.7, penalty=l2, solver=saga, total=   0.1s\n",
      "[CV] C=4.7, penalty=l2, solver=saga ..................................\n",
      "[CV] ................... C=4.7, penalty=l2, solver=saga, total=   0.1s\n",
      "[CV] C=4.7, penalty=l2, solver=liblinear .............................\n",
      "[CV] .............. C=4.7, penalty=l2, solver=liblinear, total=   0.0s\n",
      "[CV] C=4.7, penalty=l2, solver=liblinear .............................\n",
      "[CV] .............. C=4.7, penalty=l2, solver=liblinear, total=   0.0s\n",
      "[CV] C=4.7, penalty=l2, solver=liblinear .............................\n",
      "[CV] .............. C=4.7, penalty=l2, solver=liblinear, total=   0.0s\n",
      "[CV] C=4.7, penalty=l2, solver=liblinear .............................\n",
      "[CV] .............. C=4.7, penalty=l2, solver=liblinear, total=   0.0s\n",
      "[CV] C=4.7, penalty=l2, solver=liblinear .............................\n",
      "[CV] .............. C=4.7, penalty=l2, solver=liblinear, total=   0.0s\n",
      "[CV] C=4.8, penalty=l1, solver=newton-cg .............................\n",
      "[CV] .............. C=4.8, penalty=l1, solver=newton-cg, total=   0.0s\n",
      "[CV] C=4.8, penalty=l1, solver=newton-cg .............................\n",
      "[CV] .............. C=4.8, penalty=l1, solver=newton-cg, total=   0.0s\n",
      "[CV] C=4.8, penalty=l1, solver=newton-cg .............................\n",
      "[CV] .............. C=4.8, penalty=l1, solver=newton-cg, total=   0.0s\n",
      "[CV] C=4.8, penalty=l1, solver=newton-cg .............................\n",
      "[CV] .............. C=4.8, penalty=l1, solver=newton-cg, total=   0.0s\n",
      "[CV] C=4.8, penalty=l1, solver=newton-cg .............................\n",
      "[CV] .............. C=4.8, penalty=l1, solver=newton-cg, total=   0.0s\n",
      "[CV] C=4.8, penalty=l1, solver=lbfgs .................................\n",
      "[CV] .................. C=4.8, penalty=l1, solver=lbfgs, total=   0.0s\n",
      "[CV] C=4.8, penalty=l1, solver=lbfgs .................................\n",
      "[CV] .................. C=4.8, penalty=l1, solver=lbfgs, total=   0.0s\n",
      "[CV] C=4.8, penalty=l1, solver=lbfgs .................................\n",
      "[CV] .................. C=4.8, penalty=l1, solver=lbfgs, total=   0.0s\n",
      "[CV] C=4.8, penalty=l1, solver=lbfgs .................................\n",
      "[CV] .................. C=4.8, penalty=l1, solver=lbfgs, total=   0.0s\n",
      "[CV] C=4.8, penalty=l1, solver=lbfgs .................................\n",
      "[CV] .................. C=4.8, penalty=l1, solver=lbfgs, total=   0.0s\n",
      "[CV] C=4.8, penalty=l1, solver=sag ...................................\n",
      "[CV] .................... C=4.8, penalty=l1, solver=sag, total=   0.0s\n",
      "[CV] C=4.8, penalty=l1, solver=sag ...................................\n",
      "[CV] .................... C=4.8, penalty=l1, solver=sag, total=   0.0s\n",
      "[CV] C=4.8, penalty=l1, solver=sag ...................................\n",
      "[CV] .................... C=4.8, penalty=l1, solver=sag, total=   0.0s\n",
      "[CV] C=4.8, penalty=l1, solver=sag ...................................\n",
      "[CV] .................... C=4.8, penalty=l1, solver=sag, total=   0.0s\n",
      "[CV] C=4.8, penalty=l1, solver=sag ...................................\n",
      "[CV] .................... C=4.8, penalty=l1, solver=sag, total=   0.0s\n",
      "[CV] C=4.8, penalty=l1, solver=saga ..................................\n"
     ]
    },
    {
     "name": "stderr",
     "output_type": "stream",
     "text": [
      "E:\\Anaconda3\\lib\\site-packages\\sklearn\\linear_model\\_sag.py:330: ConvergenceWarning: The max_iter was reached which means the coef_ did not converge\n",
      "  \"the coef_ did not converge\", ConvergenceWarning)\n",
      "E:\\Anaconda3\\lib\\site-packages\\sklearn\\model_selection\\_validation.py:536: FitFailedWarning: Estimator fit failed. The score on this train-test partition for these parameters will be set to nan. Details: \n",
      "ValueError: Solver newton-cg supports only 'l2' or 'none' penalties, got l1 penalty.\n",
      "\n",
      "  FitFailedWarning)\n",
      "E:\\Anaconda3\\lib\\site-packages\\sklearn\\model_selection\\_validation.py:536: FitFailedWarning: Estimator fit failed. The score on this train-test partition for these parameters will be set to nan. Details: \n",
      "ValueError: Solver lbfgs supports only 'l2' or 'none' penalties, got l1 penalty.\n",
      "\n",
      "  FitFailedWarning)\n",
      "E:\\Anaconda3\\lib\\site-packages\\sklearn\\model_selection\\_validation.py:536: FitFailedWarning: Estimator fit failed. The score on this train-test partition for these parameters will be set to nan. Details: \n",
      "ValueError: Solver sag supports only 'l2' or 'none' penalties, got l1 penalty.\n",
      "\n",
      "  FitFailedWarning)\n",
      "E:\\Anaconda3\\lib\\site-packages\\sklearn\\linear_model\\_sag.py:330: ConvergenceWarning: The max_iter was reached which means the coef_ did not converge\n",
      "  \"the coef_ did not converge\", ConvergenceWarning)\n"
     ]
    },
    {
     "name": "stdout",
     "output_type": "stream",
     "text": [
      "[CV] ................... C=4.8, penalty=l1, solver=saga, total=   0.1s\n",
      "[CV] C=4.8, penalty=l1, solver=saga ..................................\n",
      "[CV] ................... C=4.8, penalty=l1, solver=saga, total=   0.1s\n",
      "[CV] C=4.8, penalty=l1, solver=saga ..................................\n"
     ]
    },
    {
     "name": "stderr",
     "output_type": "stream",
     "text": [
      "E:\\Anaconda3\\lib\\site-packages\\sklearn\\linear_model\\_sag.py:330: ConvergenceWarning: The max_iter was reached which means the coef_ did not converge\n",
      "  \"the coef_ did not converge\", ConvergenceWarning)\n",
      "E:\\Anaconda3\\lib\\site-packages\\sklearn\\linear_model\\_sag.py:330: ConvergenceWarning: The max_iter was reached which means the coef_ did not converge\n",
      "  \"the coef_ did not converge\", ConvergenceWarning)\n"
     ]
    },
    {
     "name": "stdout",
     "output_type": "stream",
     "text": [
      "[CV] ................... C=4.8, penalty=l1, solver=saga, total=   0.1s\n",
      "[CV] C=4.8, penalty=l1, solver=saga ..................................\n",
      "[CV] ................... C=4.8, penalty=l1, solver=saga, total=   0.1s\n",
      "[CV] C=4.8, penalty=l1, solver=saga ..................................\n"
     ]
    },
    {
     "name": "stderr",
     "output_type": "stream",
     "text": [
      "E:\\Anaconda3\\lib\\site-packages\\sklearn\\linear_model\\_sag.py:330: ConvergenceWarning: The max_iter was reached which means the coef_ did not converge\n",
      "  \"the coef_ did not converge\", ConvergenceWarning)\n",
      "E:\\Anaconda3\\lib\\site-packages\\sklearn\\linear_model\\_sag.py:330: ConvergenceWarning: The max_iter was reached which means the coef_ did not converge\n",
      "  \"the coef_ did not converge\", ConvergenceWarning)\n"
     ]
    },
    {
     "name": "stdout",
     "output_type": "stream",
     "text": [
      "[CV] ................... C=4.8, penalty=l1, solver=saga, total=   0.1s\n",
      "[CV] C=4.8, penalty=l1, solver=liblinear .............................\n",
      "[CV] .............. C=4.8, penalty=l1, solver=liblinear, total=   0.0s\n",
      "[CV] C=4.8, penalty=l1, solver=liblinear .............................\n",
      "[CV] .............. C=4.8, penalty=l1, solver=liblinear, total=   0.0s\n",
      "[CV] C=4.8, penalty=l1, solver=liblinear .............................\n",
      "[CV] .............. C=4.8, penalty=l1, solver=liblinear, total=   0.0s\n",
      "[CV] C=4.8, penalty=l1, solver=liblinear .............................\n",
      "[CV] .............. C=4.8, penalty=l1, solver=liblinear, total=   0.0s\n",
      "[CV] C=4.8, penalty=l1, solver=liblinear .............................\n",
      "[CV] .............. C=4.8, penalty=l1, solver=liblinear, total=   0.0s\n",
      "[CV] C=4.8, penalty=l2, solver=newton-cg .............................\n",
      "[CV] .............. C=4.8, penalty=l2, solver=newton-cg, total=   0.0s\n",
      "[CV] C=4.8, penalty=l2, solver=newton-cg .............................\n",
      "[CV] .............. C=4.8, penalty=l2, solver=newton-cg, total=   0.0s\n",
      "[CV] C=4.8, penalty=l2, solver=newton-cg .............................\n",
      "[CV] .............. C=4.8, penalty=l2, solver=newton-cg, total=   0.0s\n",
      "[CV] C=4.8, penalty=l2, solver=newton-cg .............................\n",
      "[CV] .............. C=4.8, penalty=l2, solver=newton-cg, total=   0.0s\n",
      "[CV] C=4.8, penalty=l2, solver=newton-cg .............................\n",
      "[CV] .............. C=4.8, penalty=l2, solver=newton-cg, total=   0.0s\n",
      "[CV] C=4.8, penalty=l2, solver=lbfgs .................................\n",
      "[CV] .................. C=4.8, penalty=l2, solver=lbfgs, total=   0.0s\n",
      "[CV] C=4.8, penalty=l2, solver=lbfgs .................................\n",
      "[CV] .................. C=4.8, penalty=l2, solver=lbfgs, total=   0.0s\n",
      "[CV] C=4.8, penalty=l2, solver=lbfgs .................................\n",
      "[CV] .................. C=4.8, penalty=l2, solver=lbfgs, total=   0.0s\n",
      "[CV] C=4.8, penalty=l2, solver=lbfgs .................................\n",
      "[CV] .................. C=4.8, penalty=l2, solver=lbfgs, total=   0.0s\n",
      "[CV] C=4.8, penalty=l2, solver=lbfgs .................................\n",
      "[CV] .................. C=4.8, penalty=l2, solver=lbfgs, total=   0.0s\n",
      "[CV] C=4.8, penalty=l2, solver=sag ...................................\n",
      "[CV] .................... C=4.8, penalty=l2, solver=sag, total=   0.1s\n",
      "[CV] C=4.8, penalty=l2, solver=sag ...................................\n",
      "[CV] .................... C=4.8, penalty=l2, solver=sag, total=   0.1s\n",
      "[CV] C=4.8, penalty=l2, solver=sag ...................................\n",
      "[CV] .................... C=4.8, penalty=l2, solver=sag, total=   0.1s\n",
      "[CV] C=4.8, penalty=l2, solver=sag ...................................\n",
      "[CV] .................... C=4.8, penalty=l2, solver=sag, total=   0.1s\n",
      "[CV] C=4.8, penalty=l2, solver=sag ...................................\n",
      "[CV] .................... C=4.8, penalty=l2, solver=sag, total=   0.1s\n",
      "[CV] C=4.8, penalty=l2, solver=saga ..................................\n",
      "[CV] ................... C=4.8, penalty=l2, solver=saga, total=   0.1s\n",
      "[CV] C=4.8, penalty=l2, solver=saga ..................................\n"
     ]
    },
    {
     "name": "stderr",
     "output_type": "stream",
     "text": [
      "E:\\Anaconda3\\lib\\site-packages\\sklearn\\linear_model\\_sag.py:330: ConvergenceWarning: The max_iter was reached which means the coef_ did not converge\n",
      "  \"the coef_ did not converge\", ConvergenceWarning)\n",
      "E:\\Anaconda3\\lib\\site-packages\\sklearn\\linear_model\\_sag.py:330: ConvergenceWarning: The max_iter was reached which means the coef_ did not converge\n",
      "  \"the coef_ did not converge\", ConvergenceWarning)\n"
     ]
    },
    {
     "name": "stdout",
     "output_type": "stream",
     "text": [
      "[CV] ................... C=4.8, penalty=l2, solver=saga, total=   0.1s\n",
      "[CV] C=4.8, penalty=l2, solver=saga ..................................\n",
      "[CV] ................... C=4.8, penalty=l2, solver=saga, total=   0.1s\n",
      "[CV] C=4.8, penalty=l2, solver=saga ..................................\n"
     ]
    },
    {
     "name": "stderr",
     "output_type": "stream",
     "text": [
      "E:\\Anaconda3\\lib\\site-packages\\sklearn\\linear_model\\_sag.py:330: ConvergenceWarning: The max_iter was reached which means the coef_ did not converge\n",
      "  \"the coef_ did not converge\", ConvergenceWarning)\n",
      "E:\\Anaconda3\\lib\\site-packages\\sklearn\\linear_model\\_sag.py:330: ConvergenceWarning: The max_iter was reached which means the coef_ did not converge\n",
      "  \"the coef_ did not converge\", ConvergenceWarning)\n"
     ]
    },
    {
     "name": "stdout",
     "output_type": "stream",
     "text": [
      "[CV] ................... C=4.8, penalty=l2, solver=saga, total=   0.1s\n",
      "[CV] C=4.8, penalty=l2, solver=saga ..................................\n",
      "[CV] ................... C=4.8, penalty=l2, solver=saga, total=   0.1s\n",
      "[CV] C=4.8, penalty=l2, solver=liblinear .............................\n",
      "[CV] .............. C=4.8, penalty=l2, solver=liblinear, total=   0.0s\n",
      "[CV] C=4.8, penalty=l2, solver=liblinear .............................\n",
      "[CV] .............. C=4.8, penalty=l2, solver=liblinear, total=   0.0s\n",
      "[CV] C=4.8, penalty=l2, solver=liblinear .............................\n",
      "[CV] .............. C=4.8, penalty=l2, solver=liblinear, total=   0.0s\n",
      "[CV] C=4.8, penalty=l2, solver=liblinear .............................\n",
      "[CV] .............. C=4.8, penalty=l2, solver=liblinear, total=   0.0s\n",
      "[CV] C=4.8, penalty=l2, solver=liblinear .............................\n",
      "[CV] .............. C=4.8, penalty=l2, solver=liblinear, total=   0.0s\n",
      "[CV] C=4.9, penalty=l1, solver=newton-cg .............................\n",
      "[CV] .............. C=4.9, penalty=l1, solver=newton-cg, total=   0.0s\n",
      "[CV] C=4.9, penalty=l1, solver=newton-cg .............................\n",
      "[CV] .............. C=4.9, penalty=l1, solver=newton-cg, total=   0.0s\n",
      "[CV] C=4.9, penalty=l1, solver=newton-cg .............................\n",
      "[CV] .............. C=4.9, penalty=l1, solver=newton-cg, total=   0.0s\n",
      "[CV] C=4.9, penalty=l1, solver=newton-cg .............................\n",
      "[CV] .............. C=4.9, penalty=l1, solver=newton-cg, total=   0.0s\n",
      "[CV] C=4.9, penalty=l1, solver=newton-cg .............................\n",
      "[CV] .............. C=4.9, penalty=l1, solver=newton-cg, total=   0.0s\n",
      "[CV] C=4.9, penalty=l1, solver=lbfgs .................................\n",
      "[CV] .................. C=4.9, penalty=l1, solver=lbfgs, total=   0.0s\n",
      "[CV] C=4.9, penalty=l1, solver=lbfgs .................................\n",
      "[CV] .................. C=4.9, penalty=l1, solver=lbfgs, total=   0.0s\n",
      "[CV] C=4.9, penalty=l1, solver=lbfgs .................................\n",
      "[CV] .................. C=4.9, penalty=l1, solver=lbfgs, total=   0.0s\n",
      "[CV] C=4.9, penalty=l1, solver=lbfgs .................................\n",
      "[CV] .................. C=4.9, penalty=l1, solver=lbfgs, total=   0.0s\n",
      "[CV] C=4.9, penalty=l1, solver=lbfgs .................................\n",
      "[CV] .................. C=4.9, penalty=l1, solver=lbfgs, total=   0.0s\n",
      "[CV] C=4.9, penalty=l1, solver=sag ...................................\n",
      "[CV] .................... C=4.9, penalty=l1, solver=sag, total=   0.0s\n",
      "[CV] C=4.9, penalty=l1, solver=sag ...................................\n",
      "[CV] .................... C=4.9, penalty=l1, solver=sag, total=   0.0s\n",
      "[CV] C=4.9, penalty=l1, solver=sag ...................................\n",
      "[CV] .................... C=4.9, penalty=l1, solver=sag, total=   0.0s\n",
      "[CV] C=4.9, penalty=l1, solver=sag ...................................\n",
      "[CV] .................... C=4.9, penalty=l1, solver=sag, total=   0.0s\n",
      "[CV] C=4.9, penalty=l1, solver=sag ...................................\n",
      "[CV] .................... C=4.9, penalty=l1, solver=sag, total=   0.0s\n",
      "[CV] C=4.9, penalty=l1, solver=saga ..................................\n"
     ]
    },
    {
     "name": "stderr",
     "output_type": "stream",
     "text": [
      "E:\\Anaconda3\\lib\\site-packages\\sklearn\\linear_model\\_sag.py:330: ConvergenceWarning: The max_iter was reached which means the coef_ did not converge\n",
      "  \"the coef_ did not converge\", ConvergenceWarning)\n",
      "E:\\Anaconda3\\lib\\site-packages\\sklearn\\model_selection\\_validation.py:536: FitFailedWarning: Estimator fit failed. The score on this train-test partition for these parameters will be set to nan. Details: \n",
      "ValueError: Solver newton-cg supports only 'l2' or 'none' penalties, got l1 penalty.\n",
      "\n",
      "  FitFailedWarning)\n",
      "E:\\Anaconda3\\lib\\site-packages\\sklearn\\model_selection\\_validation.py:536: FitFailedWarning: Estimator fit failed. The score on this train-test partition for these parameters will be set to nan. Details: \n",
      "ValueError: Solver lbfgs supports only 'l2' or 'none' penalties, got l1 penalty.\n",
      "\n",
      "  FitFailedWarning)\n",
      "E:\\Anaconda3\\lib\\site-packages\\sklearn\\model_selection\\_validation.py:536: FitFailedWarning: Estimator fit failed. The score on this train-test partition for these parameters will be set to nan. Details: \n",
      "ValueError: Solver sag supports only 'l2' or 'none' penalties, got l1 penalty.\n",
      "\n",
      "  FitFailedWarning)\n",
      "E:\\Anaconda3\\lib\\site-packages\\sklearn\\linear_model\\_sag.py:330: ConvergenceWarning: The max_iter was reached which means the coef_ did not converge\n",
      "  \"the coef_ did not converge\", ConvergenceWarning)\n"
     ]
    },
    {
     "name": "stdout",
     "output_type": "stream",
     "text": [
      "[CV] ................... C=4.9, penalty=l1, solver=saga, total=   0.1s\n",
      "[CV] C=4.9, penalty=l1, solver=saga ..................................\n",
      "[CV] ................... C=4.9, penalty=l1, solver=saga, total=   0.1s\n",
      "[CV] C=4.9, penalty=l1, solver=saga ..................................\n"
     ]
    },
    {
     "name": "stderr",
     "output_type": "stream",
     "text": [
      "E:\\Anaconda3\\lib\\site-packages\\sklearn\\linear_model\\_sag.py:330: ConvergenceWarning: The max_iter was reached which means the coef_ did not converge\n",
      "  \"the coef_ did not converge\", ConvergenceWarning)\n",
      "E:\\Anaconda3\\lib\\site-packages\\sklearn\\linear_model\\_sag.py:330: ConvergenceWarning: The max_iter was reached which means the coef_ did not converge\n",
      "  \"the coef_ did not converge\", ConvergenceWarning)\n"
     ]
    },
    {
     "name": "stdout",
     "output_type": "stream",
     "text": [
      "[CV] ................... C=4.9, penalty=l1, solver=saga, total=   0.1s\n",
      "[CV] C=4.9, penalty=l1, solver=saga ..................................\n",
      "[CV] ................... C=4.9, penalty=l1, solver=saga, total=   0.1s\n",
      "[CV] C=4.9, penalty=l1, solver=saga ..................................\n"
     ]
    },
    {
     "name": "stderr",
     "output_type": "stream",
     "text": [
      "E:\\Anaconda3\\lib\\site-packages\\sklearn\\linear_model\\_sag.py:330: ConvergenceWarning: The max_iter was reached which means the coef_ did not converge\n",
      "  \"the coef_ did not converge\", ConvergenceWarning)\n",
      "E:\\Anaconda3\\lib\\site-packages\\sklearn\\linear_model\\_sag.py:330: ConvergenceWarning: The max_iter was reached which means the coef_ did not converge\n",
      "  \"the coef_ did not converge\", ConvergenceWarning)\n"
     ]
    },
    {
     "name": "stdout",
     "output_type": "stream",
     "text": [
      "[CV] ................... C=4.9, penalty=l1, solver=saga, total=   0.1s\n",
      "[CV] C=4.9, penalty=l1, solver=liblinear .............................\n",
      "[CV] .............. C=4.9, penalty=l1, solver=liblinear, total=   0.0s\n",
      "[CV] C=4.9, penalty=l1, solver=liblinear .............................\n",
      "[CV] .............. C=4.9, penalty=l1, solver=liblinear, total=   0.0s\n",
      "[CV] C=4.9, penalty=l1, solver=liblinear .............................\n",
      "[CV] .............. C=4.9, penalty=l1, solver=liblinear, total=   0.0s\n",
      "[CV] C=4.9, penalty=l1, solver=liblinear .............................\n",
      "[CV] .............. C=4.9, penalty=l1, solver=liblinear, total=   0.0s\n",
      "[CV] C=4.9, penalty=l1, solver=liblinear .............................\n",
      "[CV] .............. C=4.9, penalty=l1, solver=liblinear, total=   0.0s\n",
      "[CV] C=4.9, penalty=l2, solver=newton-cg .............................\n",
      "[CV] .............. C=4.9, penalty=l2, solver=newton-cg, total=   0.0s\n",
      "[CV] C=4.9, penalty=l2, solver=newton-cg .............................\n",
      "[CV] .............. C=4.9, penalty=l2, solver=newton-cg, total=   0.0s\n",
      "[CV] C=4.9, penalty=l2, solver=newton-cg .............................\n",
      "[CV] .............. C=4.9, penalty=l2, solver=newton-cg, total=   0.0s\n",
      "[CV] C=4.9, penalty=l2, solver=newton-cg .............................\n",
      "[CV] .............. C=4.9, penalty=l2, solver=newton-cg, total=   0.0s\n",
      "[CV] C=4.9, penalty=l2, solver=newton-cg .............................\n",
      "[CV] .............. C=4.9, penalty=l2, solver=newton-cg, total=   0.0s\n",
      "[CV] C=4.9, penalty=l2, solver=lbfgs .................................\n",
      "[CV] .................. C=4.9, penalty=l2, solver=lbfgs, total=   0.0s\n",
      "[CV] C=4.9, penalty=l2, solver=lbfgs .................................\n",
      "[CV] .................. C=4.9, penalty=l2, solver=lbfgs, total=   0.0s\n",
      "[CV] C=4.9, penalty=l2, solver=lbfgs .................................\n",
      "[CV] .................. C=4.9, penalty=l2, solver=lbfgs, total=   0.0s\n",
      "[CV] C=4.9, penalty=l2, solver=lbfgs .................................\n",
      "[CV] .................. C=4.9, penalty=l2, solver=lbfgs, total=   0.0s\n",
      "[CV] C=4.9, penalty=l2, solver=lbfgs .................................\n",
      "[CV] .................. C=4.9, penalty=l2, solver=lbfgs, total=   0.0s\n",
      "[CV] C=4.9, penalty=l2, solver=sag ...................................\n",
      "[CV] .................... C=4.9, penalty=l2, solver=sag, total=   0.1s\n",
      "[CV] C=4.9, penalty=l2, solver=sag ...................................\n",
      "[CV] .................... C=4.9, penalty=l2, solver=sag, total=   0.1s\n",
      "[CV] C=4.9, penalty=l2, solver=sag ...................................\n",
      "[CV] .................... C=4.9, penalty=l2, solver=sag, total=   0.1s\n",
      "[CV] C=4.9, penalty=l2, solver=sag ...................................\n",
      "[CV] .................... C=4.9, penalty=l2, solver=sag, total=   0.1s\n",
      "[CV] C=4.9, penalty=l2, solver=sag ...................................\n",
      "[CV] .................... C=4.9, penalty=l2, solver=sag, total=   0.1s\n",
      "[CV] C=4.9, penalty=l2, solver=saga ..................................\n",
      "[CV] ................... C=4.9, penalty=l2, solver=saga, total=   0.1s\n",
      "[CV] C=4.9, penalty=l2, solver=saga ..................................\n"
     ]
    },
    {
     "name": "stderr",
     "output_type": "stream",
     "text": [
      "E:\\Anaconda3\\lib\\site-packages\\sklearn\\linear_model\\_sag.py:330: ConvergenceWarning: The max_iter was reached which means the coef_ did not converge\n",
      "  \"the coef_ did not converge\", ConvergenceWarning)\n",
      "E:\\Anaconda3\\lib\\site-packages\\sklearn\\linear_model\\_sag.py:330: ConvergenceWarning: The max_iter was reached which means the coef_ did not converge\n",
      "  \"the coef_ did not converge\", ConvergenceWarning)\n"
     ]
    },
    {
     "name": "stdout",
     "output_type": "stream",
     "text": [
      "[CV] ................... C=4.9, penalty=l2, solver=saga, total=   0.1s\n",
      "[CV] C=4.9, penalty=l2, solver=saga ..................................\n",
      "[CV] ................... C=4.9, penalty=l2, solver=saga, total=   0.1s\n",
      "[CV] C=4.9, penalty=l2, solver=saga ..................................\n"
     ]
    },
    {
     "name": "stderr",
     "output_type": "stream",
     "text": [
      "E:\\Anaconda3\\lib\\site-packages\\sklearn\\linear_model\\_sag.py:330: ConvergenceWarning: The max_iter was reached which means the coef_ did not converge\n",
      "  \"the coef_ did not converge\", ConvergenceWarning)\n",
      "E:\\Anaconda3\\lib\\site-packages\\sklearn\\linear_model\\_sag.py:330: ConvergenceWarning: The max_iter was reached which means the coef_ did not converge\n",
      "  \"the coef_ did not converge\", ConvergenceWarning)\n"
     ]
    },
    {
     "name": "stdout",
     "output_type": "stream",
     "text": [
      "[CV] ................... C=4.9, penalty=l2, solver=saga, total=   0.1s\n",
      "[CV] C=4.9, penalty=l2, solver=saga ..................................\n",
      "[CV] ................... C=4.9, penalty=l2, solver=saga, total=   0.1s\n",
      "[CV] C=4.9, penalty=l2, solver=liblinear .............................\n",
      "[CV] .............. C=4.9, penalty=l2, solver=liblinear, total=   0.0s\n",
      "[CV] C=4.9, penalty=l2, solver=liblinear .............................\n",
      "[CV] .............. C=4.9, penalty=l2, solver=liblinear, total=   0.0s\n",
      "[CV] C=4.9, penalty=l2, solver=liblinear .............................\n",
      "[CV] .............. C=4.9, penalty=l2, solver=liblinear, total=   0.0s\n",
      "[CV] C=4.9, penalty=l2, solver=liblinear .............................\n",
      "[CV] .............. C=4.9, penalty=l2, solver=liblinear, total=   0.0s\n",
      "[CV] C=4.9, penalty=l2, solver=liblinear .............................\n",
      "[CV] .............. C=4.9, penalty=l2, solver=liblinear, total=   0.0s\n",
      "[CV] C=5.0, penalty=l1, solver=newton-cg .............................\n",
      "[CV] .............. C=5.0, penalty=l1, solver=newton-cg, total=   0.0s\n",
      "[CV] C=5.0, penalty=l1, solver=newton-cg .............................\n",
      "[CV] .............. C=5.0, penalty=l1, solver=newton-cg, total=   0.0s\n",
      "[CV] C=5.0, penalty=l1, solver=newton-cg .............................\n",
      "[CV] .............. C=5.0, penalty=l1, solver=newton-cg, total=   0.0s\n",
      "[CV] C=5.0, penalty=l1, solver=newton-cg .............................\n",
      "[CV] .............. C=5.0, penalty=l1, solver=newton-cg, total=   0.0s\n",
      "[CV] C=5.0, penalty=l1, solver=newton-cg .............................\n",
      "[CV] .............. C=5.0, penalty=l1, solver=newton-cg, total=   0.0s\n",
      "[CV] C=5.0, penalty=l1, solver=lbfgs .................................\n",
      "[CV] .................. C=5.0, penalty=l1, solver=lbfgs, total=   0.0s\n",
      "[CV] C=5.0, penalty=l1, solver=lbfgs .................................\n",
      "[CV] .................. C=5.0, penalty=l1, solver=lbfgs, total=   0.0s\n",
      "[CV] C=5.0, penalty=l1, solver=lbfgs .................................\n",
      "[CV] .................. C=5.0, penalty=l1, solver=lbfgs, total=   0.0s\n",
      "[CV] C=5.0, penalty=l1, solver=lbfgs .................................\n",
      "[CV] .................. C=5.0, penalty=l1, solver=lbfgs, total=   0.0s\n",
      "[CV] C=5.0, penalty=l1, solver=lbfgs .................................\n",
      "[CV] .................. C=5.0, penalty=l1, solver=lbfgs, total=   0.0s\n",
      "[CV] C=5.0, penalty=l1, solver=sag ...................................\n",
      "[CV] .................... C=5.0, penalty=l1, solver=sag, total=   0.0s\n",
      "[CV] C=5.0, penalty=l1, solver=sag ...................................\n",
      "[CV] .................... C=5.0, penalty=l1, solver=sag, total=   0.0s\n",
      "[CV] C=5.0, penalty=l1, solver=sag ...................................\n",
      "[CV] .................... C=5.0, penalty=l1, solver=sag, total=   0.0s\n",
      "[CV] C=5.0, penalty=l1, solver=sag ...................................\n",
      "[CV] .................... C=5.0, penalty=l1, solver=sag, total=   0.0s\n",
      "[CV] C=5.0, penalty=l1, solver=sag ...................................\n",
      "[CV] .................... C=5.0, penalty=l1, solver=sag, total=   0.0s\n",
      "[CV] C=5.0, penalty=l1, solver=saga ..................................\n"
     ]
    },
    {
     "name": "stderr",
     "output_type": "stream",
     "text": [
      "E:\\Anaconda3\\lib\\site-packages\\sklearn\\linear_model\\_sag.py:330: ConvergenceWarning: The max_iter was reached which means the coef_ did not converge\n",
      "  \"the coef_ did not converge\", ConvergenceWarning)\n",
      "E:\\Anaconda3\\lib\\site-packages\\sklearn\\model_selection\\_validation.py:536: FitFailedWarning: Estimator fit failed. The score on this train-test partition for these parameters will be set to nan. Details: \n",
      "ValueError: Solver newton-cg supports only 'l2' or 'none' penalties, got l1 penalty.\n",
      "\n",
      "  FitFailedWarning)\n",
      "E:\\Anaconda3\\lib\\site-packages\\sklearn\\model_selection\\_validation.py:536: FitFailedWarning: Estimator fit failed. The score on this train-test partition for these parameters will be set to nan. Details: \n",
      "ValueError: Solver lbfgs supports only 'l2' or 'none' penalties, got l1 penalty.\n",
      "\n",
      "  FitFailedWarning)\n",
      "E:\\Anaconda3\\lib\\site-packages\\sklearn\\model_selection\\_validation.py:536: FitFailedWarning: Estimator fit failed. The score on this train-test partition for these parameters will be set to nan. Details: \n",
      "ValueError: Solver sag supports only 'l2' or 'none' penalties, got l1 penalty.\n",
      "\n",
      "  FitFailedWarning)\n",
      "E:\\Anaconda3\\lib\\site-packages\\sklearn\\linear_model\\_sag.py:330: ConvergenceWarning: The max_iter was reached which means the coef_ did not converge\n",
      "  \"the coef_ did not converge\", ConvergenceWarning)\n"
     ]
    },
    {
     "name": "stdout",
     "output_type": "stream",
     "text": [
      "[CV] ................... C=5.0, penalty=l1, solver=saga, total=   0.1s\n",
      "[CV] C=5.0, penalty=l1, solver=saga ..................................\n",
      "[CV] ................... C=5.0, penalty=l1, solver=saga, total=   0.1s\n",
      "[CV] C=5.0, penalty=l1, solver=saga ..................................\n"
     ]
    },
    {
     "name": "stderr",
     "output_type": "stream",
     "text": [
      "E:\\Anaconda3\\lib\\site-packages\\sklearn\\linear_model\\_sag.py:330: ConvergenceWarning: The max_iter was reached which means the coef_ did not converge\n",
      "  \"the coef_ did not converge\", ConvergenceWarning)\n",
      "E:\\Anaconda3\\lib\\site-packages\\sklearn\\linear_model\\_sag.py:330: ConvergenceWarning: The max_iter was reached which means the coef_ did not converge\n",
      "  \"the coef_ did not converge\", ConvergenceWarning)\n"
     ]
    },
    {
     "name": "stdout",
     "output_type": "stream",
     "text": [
      "[CV] ................... C=5.0, penalty=l1, solver=saga, total=   0.1s\n",
      "[CV] C=5.0, penalty=l1, solver=saga ..................................\n",
      "[CV] ................... C=5.0, penalty=l1, solver=saga, total=   0.1s\n",
      "[CV] C=5.0, penalty=l1, solver=saga ..................................\n"
     ]
    },
    {
     "name": "stderr",
     "output_type": "stream",
     "text": [
      "E:\\Anaconda3\\lib\\site-packages\\sklearn\\linear_model\\_sag.py:330: ConvergenceWarning: The max_iter was reached which means the coef_ did not converge\n",
      "  \"the coef_ did not converge\", ConvergenceWarning)\n",
      "E:\\Anaconda3\\lib\\site-packages\\sklearn\\linear_model\\_sag.py:330: ConvergenceWarning: The max_iter was reached which means the coef_ did not converge\n",
      "  \"the coef_ did not converge\", ConvergenceWarning)\n"
     ]
    },
    {
     "name": "stdout",
     "output_type": "stream",
     "text": [
      "[CV] ................... C=5.0, penalty=l1, solver=saga, total=   0.1s\n",
      "[CV] C=5.0, penalty=l1, solver=liblinear .............................\n",
      "[CV] .............. C=5.0, penalty=l1, solver=liblinear, total=   0.0s\n",
      "[CV] C=5.0, penalty=l1, solver=liblinear .............................\n",
      "[CV] .............. C=5.0, penalty=l1, solver=liblinear, total=   0.0s\n",
      "[CV] C=5.0, penalty=l1, solver=liblinear .............................\n",
      "[CV] .............. C=5.0, penalty=l1, solver=liblinear, total=   0.0s\n",
      "[CV] C=5.0, penalty=l1, solver=liblinear .............................\n",
      "[CV] .............. C=5.0, penalty=l1, solver=liblinear, total=   0.0s\n",
      "[CV] C=5.0, penalty=l1, solver=liblinear .............................\n",
      "[CV] .............. C=5.0, penalty=l1, solver=liblinear, total=   0.0s\n",
      "[CV] C=5.0, penalty=l2, solver=newton-cg .............................\n",
      "[CV] .............. C=5.0, penalty=l2, solver=newton-cg, total=   0.0s\n",
      "[CV] C=5.0, penalty=l2, solver=newton-cg .............................\n",
      "[CV] .............. C=5.0, penalty=l2, solver=newton-cg, total=   0.0s\n",
      "[CV] C=5.0, penalty=l2, solver=newton-cg .............................\n",
      "[CV] .............. C=5.0, penalty=l2, solver=newton-cg, total=   0.0s\n",
      "[CV] C=5.0, penalty=l2, solver=newton-cg .............................\n",
      "[CV] .............. C=5.0, penalty=l2, solver=newton-cg, total=   0.0s\n",
      "[CV] C=5.0, penalty=l2, solver=newton-cg .............................\n",
      "[CV] .............. C=5.0, penalty=l2, solver=newton-cg, total=   0.0s\n",
      "[CV] C=5.0, penalty=l2, solver=lbfgs .................................\n",
      "[CV] .................. C=5.0, penalty=l2, solver=lbfgs, total=   0.0s\n",
      "[CV] C=5.0, penalty=l2, solver=lbfgs .................................\n",
      "[CV] .................. C=5.0, penalty=l2, solver=lbfgs, total=   0.0s\n",
      "[CV] C=5.0, penalty=l2, solver=lbfgs .................................\n",
      "[CV] .................. C=5.0, penalty=l2, solver=lbfgs, total=   0.0s\n",
      "[CV] C=5.0, penalty=l2, solver=lbfgs .................................\n",
      "[CV] .................. C=5.0, penalty=l2, solver=lbfgs, total=   0.0s\n",
      "[CV] C=5.0, penalty=l2, solver=lbfgs .................................\n",
      "[CV] .................. C=5.0, penalty=l2, solver=lbfgs, total=   0.0s\n",
      "[CV] C=5.0, penalty=l2, solver=sag ...................................\n",
      "[CV] .................... C=5.0, penalty=l2, solver=sag, total=   0.1s\n",
      "[CV] C=5.0, penalty=l2, solver=sag ...................................\n",
      "[CV] .................... C=5.0, penalty=l2, solver=sag, total=   0.1s\n",
      "[CV] C=5.0, penalty=l2, solver=sag ...................................\n",
      "[CV] .................... C=5.0, penalty=l2, solver=sag, total=   0.1s\n",
      "[CV] C=5.0, penalty=l2, solver=sag ...................................\n",
      "[CV] .................... C=5.0, penalty=l2, solver=sag, total=   0.1s\n",
      "[CV] C=5.0, penalty=l2, solver=sag ...................................\n",
      "[CV] .................... C=5.0, penalty=l2, solver=sag, total=   0.1s\n",
      "[CV] C=5.0, penalty=l2, solver=saga ..................................\n",
      "[CV] ................... C=5.0, penalty=l2, solver=saga, total=   0.1s\n",
      "[CV] C=5.0, penalty=l2, solver=saga ..................................\n"
     ]
    },
    {
     "name": "stderr",
     "output_type": "stream",
     "text": [
      "E:\\Anaconda3\\lib\\site-packages\\sklearn\\linear_model\\_sag.py:330: ConvergenceWarning: The max_iter was reached which means the coef_ did not converge\n",
      "  \"the coef_ did not converge\", ConvergenceWarning)\n",
      "E:\\Anaconda3\\lib\\site-packages\\sklearn\\linear_model\\_sag.py:330: ConvergenceWarning: The max_iter was reached which means the coef_ did not converge\n",
      "  \"the coef_ did not converge\", ConvergenceWarning)\n"
     ]
    },
    {
     "name": "stdout",
     "output_type": "stream",
     "text": [
      "[CV] ................... C=5.0, penalty=l2, solver=saga, total=   0.1s\n",
      "[CV] C=5.0, penalty=l2, solver=saga ..................................\n",
      "[CV] ................... C=5.0, penalty=l2, solver=saga, total=   0.1s\n",
      "[CV] C=5.0, penalty=l2, solver=saga ..................................\n"
     ]
    },
    {
     "name": "stderr",
     "output_type": "stream",
     "text": [
      "E:\\Anaconda3\\lib\\site-packages\\sklearn\\linear_model\\_sag.py:330: ConvergenceWarning: The max_iter was reached which means the coef_ did not converge\n",
      "  \"the coef_ did not converge\", ConvergenceWarning)\n",
      "E:\\Anaconda3\\lib\\site-packages\\sklearn\\linear_model\\_sag.py:330: ConvergenceWarning: The max_iter was reached which means the coef_ did not converge\n",
      "  \"the coef_ did not converge\", ConvergenceWarning)\n"
     ]
    },
    {
     "name": "stdout",
     "output_type": "stream",
     "text": [
      "[CV] ................... C=5.0, penalty=l2, solver=saga, total=   0.1s\n",
      "[CV] C=5.0, penalty=l2, solver=saga ..................................\n",
      "[CV] ................... C=5.0, penalty=l2, solver=saga, total=   0.1s\n",
      "[CV] C=5.0, penalty=l2, solver=liblinear .............................\n",
      "[CV] .............. C=5.0, penalty=l2, solver=liblinear, total=   0.0s\n",
      "[CV] C=5.0, penalty=l2, solver=liblinear .............................\n",
      "[CV] .............. C=5.0, penalty=l2, solver=liblinear, total=   0.0s\n",
      "[CV] C=5.0, penalty=l2, solver=liblinear .............................\n",
      "[CV] .............. C=5.0, penalty=l2, solver=liblinear, total=   0.0s\n",
      "[CV] C=5.0, penalty=l2, solver=liblinear .............................\n",
      "[CV] .............. C=5.0, penalty=l2, solver=liblinear, total=   0.0s\n",
      "[CV] C=5.0, penalty=l2, solver=liblinear .............................\n",
      "[CV] .............. C=5.0, penalty=l2, solver=liblinear, total=   0.0s\n"
     ]
    },
    {
     "name": "stderr",
     "output_type": "stream",
     "text": [
      "E:\\Anaconda3\\lib\\site-packages\\sklearn\\linear_model\\_sag.py:330: ConvergenceWarning: The max_iter was reached which means the coef_ did not converge\n",
      "  \"the coef_ did not converge\", ConvergenceWarning)\n",
      "[Parallel(n_jobs=1)]: Done 2500 out of 2500 | elapsed:  1.5min finished\n"
     ]
    },
    {
     "data": {
      "text/plain": [
       "GridSearchCV(cv=KFold(n_splits=5, random_state=4, shuffle=True),\n",
       "             error_score=nan,\n",
       "             estimator=LogisticRegression(C=1.0, class_weight=None, dual=False,\n",
       "                                          fit_intercept=True,\n",
       "                                          intercept_scaling=1, l1_ratio=None,\n",
       "                                          max_iter=1000, multi_class='auto',\n",
       "                                          n_jobs=None, penalty='l2',\n",
       "                                          random_state=None, solver='lbfgs',\n",
       "                                          tol=0.0001, verbose=0,\n",
       "                                          warm_start=False),\n",
       "             iid='deprecated', n_jobs=N...\n",
       "             param_grid={'C': array([0.1, 0.2, 0.3, 0.4, 0.5, 0.6, 0.7, 0.8, 0.9, 1. , 1.1, 1.2, 1.3,\n",
       "       1.4, 1.5, 1.6, 1.7, 1.8, 1.9, 2. , 2.1, 2.2, 2.3, 2.4, 2.5, 2.6,\n",
       "       2.7, 2.8, 2.9, 3. , 3.1, 3.2, 3.3, 3.4, 3.5, 3.6, 3.7, 3.8, 3.9,\n",
       "       4. , 4.1, 4.2, 4.3, 4.4, 4.5, 4.6, 4.7, 4.8, 4.9, 5. ]),\n",
       "                         'penalty': ['l1', 'l2'],\n",
       "                         'solver': ['newton-cg', 'lbfgs', 'sag', 'saga',\n",
       "                                    'liblinear']},\n",
       "             pre_dispatch='2*n_jobs', refit=True, return_train_score=False,\n",
       "             scoring='roc_auc', verbose=2)"
      ]
     },
     "execution_count": 293,
     "metadata": {},
     "output_type": "execute_result"
    }
   ],
   "source": [
    "grid_model_logit.fit(X_train, y_train)"
   ]
  },
  {
   "cell_type": "code",
   "execution_count": 297,
   "metadata": {},
   "outputs": [
    {
     "data": {
      "text/plain": [
       "LogisticRegression(C=0.2, class_weight=None, dual=False, fit_intercept=True,\n",
       "                   intercept_scaling=1, l1_ratio=None, max_iter=1000,\n",
       "                   multi_class='auto', n_jobs=None, penalty='l1',\n",
       "                   random_state=None, solver='saga', tol=0.0001, verbose=0,\n",
       "                   warm_start=False)"
      ]
     },
     "execution_count": 297,
     "metadata": {},
     "output_type": "execute_result"
    }
   ],
   "source": [
    "grid_model_logit.best_estimator_"
   ]
  },
  {
   "cell_type": "code",
   "execution_count": 298,
   "metadata": {},
   "outputs": [
    {
     "data": {
      "text/plain": [
       "{'C': 0.2, 'penalty': 'l1', 'solver': 'saga'}"
      ]
     },
     "execution_count": 298,
     "metadata": {},
     "output_type": "execute_result"
    }
   ],
   "source": [
    "#best params for auc\n",
    "\n",
    "grid_model_logit.best_params_"
   ]
  },
  {
   "cell_type": "code",
   "execution_count": 299,
   "metadata": {},
   "outputs": [
    {
     "data": {
      "text/plain": [
       "({'C': 0.2, 'penalty': 'l1', 'solver': 'saga'}, 0.7688495576257943)"
      ]
     },
     "execution_count": 299,
     "metadata": {},
     "output_type": "execute_result"
    }
   ],
   "source": [
    "#best score for auc\n",
    "\n",
    "grid_model_logit.best_params_, grid_model_logit.best_score_"
   ]
  },
  {
   "cell_type": "code",
   "execution_count": 301,
   "metadata": {},
   "outputs": [],
   "source": [
    "# pd.DataFrame(grid_model_logit.cv_results_)"
   ]
  },
  {
   "cell_type": "code",
   "execution_count": 302,
   "metadata": {},
   "outputs": [],
   "source": [
    "#report \n",
    "\n",
    "y_final_test_pred = grid_model_logit.predict(X_test)\n"
   ]
  },
  {
   "cell_type": "code",
   "execution_count": 303,
   "metadata": {},
   "outputs": [
    {
     "data": {
      "text/plain": [
       "<sklearn.metrics._plot.confusion_matrix.ConfusionMatrixDisplay at 0x1bad4267388>"
      ]
     },
     "execution_count": 303,
     "metadata": {},
     "output_type": "execute_result"
    },
    {
     "data": {
      "image/png": "[encoded data removed]",
      "text/plain": [
       "<Figure size 432x288 with 2 Axes>"
      ]
     },
     "metadata": {
      "needs_background": "light"
     },
     "output_type": "display_data"
    }
   ],
   "source": [
    "plot_confusion_matrix(grid_model_logit, X_test, y_test)"
   ]
  },
  {
   "cell_type": "code",
   "execution_count": 304,
   "metadata": {},
   "outputs": [
    {
     "name": "stdout",
     "output_type": "stream",
     "text": [
      "              precision    recall  f1-score   support\n",
      "\n",
      "           0       0.64      0.41      0.50        44\n",
      "           1       0.79      0.91      0.84       106\n",
      "\n",
      "    accuracy                           0.76       150\n",
      "   macro avg       0.71      0.66      0.67       150\n",
      "weighted avg       0.74      0.76      0.74       150\n",
      "\n"
     ]
    }
   ],
   "source": [
    "print(classification_report(y_test, y_final_test_pred))"
   ]
  },
  {
   "cell_type": "code",
   "execution_count": 305,
   "metadata": {},
   "outputs": [
    {
     "data": {
      "text/plain": [
       "0.7703687821612352"
      ]
     },
     "execution_count": 305,
     "metadata": {},
     "output_type": "execute_result"
    }
   ],
   "source": [
    "y_final_test_pred_proba = grid_model_logit.predict_proba(X_test)[:, 1]\n",
    "roc_auc_score(y_test, y_final_test_pred_proba)"
   ]
  },
  {
   "cell_type": "markdown",
   "metadata": {},
   "source": [
    "#### F1"
   ]
  },
  {
   "cell_type": "code",
   "execution_count": 327,
   "metadata": {},
   "outputs": [],
   "source": [
    "from sklearn.model_selection import GridSearchCV\n",
    "\n",
    "\n",
    "grid_model_logit = GridSearchCV(estimator = logit_grid,\n",
    "                               param_grid = param_test_logit,\n",
    "                               cv = kFoldCV,\n",
    "                               scoring = 'f1',\n",
    "                               verbose = 2,\n",
    "                               n_jobs= -1)"
   ]
  },
  {
   "cell_type": "code",
   "execution_count": 328,
   "metadata": {},
   "outputs": [
    {
     "name": "stdout",
     "output_type": "stream",
     "text": [
      "Fitting 5 folds for each of 500 candidates, totalling 2500 fits\n"
     ]
    },
    {
     "name": "stderr",
     "output_type": "stream",
     "text": [
      "[Parallel(n_jobs=-1)]: Using backend LokyBackend with 8 concurrent workers.\n",
      "[Parallel(n_jobs=-1)]: Done  25 tasks      | elapsed:    0.9s\n",
      "[Parallel(n_jobs=-1)]: Done 1072 tasks      | elapsed:    6.2s\n",
      "[Parallel(n_jobs=-1)]: Done 2500 out of 2500 | elapsed:   13.9s finished\n"
     ]
    },
    {
     "data": {
      "text/plain": [
       "GridSearchCV(cv=KFold(n_splits=5, random_state=4, shuffle=True),\n",
       "             error_score=nan,\n",
       "             estimator=LogisticRegression(C=1.0, class_weight=None, dual=False,\n",
       "                                          fit_intercept=True,\n",
       "                                          intercept_scaling=1, l1_ratio=None,\n",
       "                                          max_iter=1000, multi_class='auto',\n",
       "                                          n_jobs=None, penalty='l2',\n",
       "                                          random_state=None, solver='lbfgs',\n",
       "                                          tol=0.0001, verbose=0,\n",
       "                                          warm_start=False),\n",
       "             iid='deprecated', n_jobs=-1,\n",
       "             param_grid={'C': array([0.1, 0.2, 0.3, 0.4, 0.5, 0.6, 0.7, 0.8, 0.9, 1. , 1.1, 1.2, 1.3,\n",
       "       1.4, 1.5, 1.6, 1.7, 1.8, 1.9, 2. , 2.1, 2.2, 2.3, 2.4, 2.5, 2.6,\n",
       "       2.7, 2.8, 2.9, 3. , 3.1, 3.2, 3.3, 3.4, 3.5, 3.6, 3.7, 3.8, 3.9,\n",
       "       4. , 4.1, 4.2, 4.3, 4.4, 4.5, 4.6, 4.7, 4.8, 4.9, 5. ]),\n",
       "                         'penalty': ['l1', 'l2'],\n",
       "                         'solver': ['newton-cg', 'lbfgs', 'sag', 'saga',\n",
       "                                    'liblinear']},\n",
       "             pre_dispatch='2*n_jobs', refit=True, return_train_score=False,\n",
       "             scoring='f1', verbose=2)"
      ]
     },
     "execution_count": 328,
     "metadata": {},
     "output_type": "execute_result"
    }
   ],
   "source": [
    "grid_model_logit.fit(X_train, y_train)"
   ]
  },
  {
   "cell_type": "code",
   "execution_count": 329,
   "metadata": {},
   "outputs": [
    {
     "data": {
      "text/plain": [
       "LogisticRegression(C=0.1, class_weight=None, dual=False, fit_intercept=True,\n",
       "                   intercept_scaling=1, l1_ratio=None, max_iter=1000,\n",
       "                   multi_class='auto', n_jobs=None, penalty='l1',\n",
       "                   random_state=None, solver='liblinear', tol=0.0001, verbose=0,\n",
       "                   warm_start=False)"
      ]
     },
     "execution_count": 329,
     "metadata": {},
     "output_type": "execute_result"
    }
   ],
   "source": [
    "grid_model_logit.best_estimator_"
   ]
  },
  {
   "cell_type": "code",
   "execution_count": 330,
   "metadata": {},
   "outputs": [
    {
     "data": {
      "text/plain": [
       "{'C': 0.1, 'penalty': 'l1', 'solver': 'liblinear'}"
      ]
     },
     "execution_count": 330,
     "metadata": {},
     "output_type": "execute_result"
    }
   ],
   "source": [
    "#best params for f1\n",
    "\n",
    "grid_model_logit.best_params_"
   ]
  },
  {
   "cell_type": "code",
   "execution_count": 331,
   "metadata": {},
   "outputs": [
    {
     "data": {
      "text/plain": [
       "({'C': 0.1, 'penalty': 'l1', 'solver': 'liblinear'}, 0.8454828790876168)"
      ]
     },
     "execution_count": 331,
     "metadata": {},
     "output_type": "execute_result"
    }
   ],
   "source": [
    "#best score for f1\n",
    "\n",
    "grid_model_logit.best_params_, grid_model_logit.best_score_"
   ]
  },
  {
   "cell_type": "code",
   "execution_count": 332,
   "metadata": {},
   "outputs": [],
   "source": [
    "#report \n",
    "\n",
    "y_final_test_pred = grid_model_logit.predict(X_test)"
   ]
  },
  {
   "cell_type": "code",
   "execution_count": 333,
   "metadata": {},
   "outputs": [
    {
     "data": {
      "text/plain": [
       "<sklearn.metrics._plot.confusion_matrix.ConfusionMatrixDisplay at 0x1bad15fc348>"
      ]
     },
     "execution_count": 333,
     "metadata": {},
     "output_type": "execute_result"
    },
    {
     "data": {
      "image/png": "[encoded data removed]",
      "text/plain": [
       "<Figure size 432x288 with 2 Axes>"
      ]
     },
     "metadata": {
      "needs_background": "light"
     },
     "output_type": "display_data"
    }
   ],
   "source": [
    "plot_confusion_matrix(grid_model_logit, X_test, y_test)"
   ]
  },
  {
   "cell_type": "code",
   "execution_count": 334,
   "metadata": {},
   "outputs": [
    {
     "name": "stdout",
     "output_type": "stream",
     "text": [
      "              precision    recall  f1-score   support\n",
      "\n",
      "           0       0.59      0.30      0.39        44\n",
      "           1       0.76      0.92      0.83       106\n",
      "\n",
      "    accuracy                           0.73       150\n",
      "   macro avg       0.67      0.61      0.61       150\n",
      "weighted avg       0.71      0.73      0.70       150\n",
      "\n"
     ]
    }
   ],
   "source": [
    "print(classification_report(y_test, y_final_test_pred))"
   ]
  },
  {
   "cell_type": "code",
   "execution_count": 335,
   "metadata": {},
   "outputs": [
    {
     "data": {
      "text/plain": [
       "0.7560034305317325"
      ]
     },
     "execution_count": 335,
     "metadata": {},
     "output_type": "execute_result"
    }
   ],
   "source": [
    "y_final_test_pred_proba = grid_model_logit.predict_proba(X_test)[:, 1]\n",
    "roc_auc_score(y_test, y_final_test_pred_proba)"
   ]
  },
  {
   "cell_type": "markdown",
   "metadata": {},
   "source": [
    "### KNN v4"
   ]
  },
  {
   "cell_type": "markdown",
   "metadata": {},
   "source": [
    "#### F1"
   ]
  },
  {
   "cell_type": "code",
   "execution_count": 369,
   "metadata": {},
   "outputs": [],
   "source": [
    "kFoldCV = KFold(n_splits=5,shuffle=True,random_state=4)\n",
    "from sklearn.metrics import make_scorer\n",
    "from sklearn.neighbors import KNeighborsClassifier"
   ]
  },
  {
   "cell_type": "code",
   "execution_count": 356,
   "metadata": {},
   "outputs": [],
   "source": [
    "param_test_knn = {\n",
    "    'n_neighbors' : [3,5,7,9],\n",
    "    'weights' : ['uniform','distance'],\n",
    "    'p' : [1,2],\n",
    "    'metric' : ['euclidean', 'manhattan', 'minkowski']\n",
    "}"
   ]
  },
  {
   "cell_type": "code",
   "execution_count": 357,
   "metadata": {},
   "outputs": [],
   "source": [
    "knn_grid = KNeighborsClassifier()"
   ]
  },
  {
   "cell_type": "code",
   "execution_count": 360,
   "metadata": {},
   "outputs": [],
   "source": [
    "from sklearn.model_selection import GridSearchCV\n",
    "\n",
    "\n",
    "grid_model_knn = GridSearchCV(estimator = knn_grid,\n",
    "                               param_grid = param_test_knn,\n",
    "                               cv = kFoldCV,\n",
    "                               scoring = 'f1',\n",
    "                               verbose = 2,\n",
    "                               n_jobs= -1)"
   ]
  },
  {
   "cell_type": "code",
   "execution_count": 361,
   "metadata": {},
   "outputs": [
    {
     "name": "stdout",
     "output_type": "stream",
     "text": [
      "Fitting 5 folds for each of 48 candidates, totalling 240 fits\n"
     ]
    },
    {
     "name": "stderr",
     "output_type": "stream",
     "text": [
      "[Parallel(n_jobs=-1)]: Using backend LokyBackend with 8 concurrent workers.\n",
      "[Parallel(n_jobs=-1)]: Done  25 tasks      | elapsed:    0.9s\n",
      "[Parallel(n_jobs=-1)]: Done 240 out of 240 | elapsed:    1.2s finished\n"
     ]
    },
    {
     "data": {
      "text/plain": [
       "GridSearchCV(cv=KFold(n_splits=5, random_state=4, shuffle=True),\n",
       "             error_score=nan,\n",
       "             estimator=KNeighborsClassifier(algorithm='auto', leaf_size=30,\n",
       "                                            metric='minkowski',\n",
       "                                            metric_params=None, n_jobs=None,\n",
       "                                            n_neighbors=5, p=2,\n",
       "                                            weights='uniform'),\n",
       "             iid='deprecated', n_jobs=-1,\n",
       "             param_grid={'metric': ['euclidean', 'manhattan', 'minkowski'],\n",
       "                         'n_neighbors': [3, 5, 7, 9], 'p': [1, 2],\n",
       "                         'weights': ['uniform', 'distance']},\n",
       "             pre_dispatch='2*n_jobs', refit=True, return_train_score=False,\n",
       "             scoring='f1', verbose=2)"
      ]
     },
     "execution_count": 361,
     "metadata": {},
     "output_type": "execute_result"
    }
   ],
   "source": [
    "grid_model_knn.fit(X_train, y_train)"
   ]
  },
  {
   "cell_type": "code",
   "execution_count": 362,
   "metadata": {},
   "outputs": [
    {
     "data": {
      "text/plain": [
       "KNeighborsClassifier(algorithm='auto', leaf_size=30, metric='manhattan',\n",
       "                     metric_params=None, n_jobs=None, n_neighbors=9, p=1,\n",
       "                     weights='distance')"
      ]
     },
     "execution_count": 362,
     "metadata": {},
     "output_type": "execute_result"
    }
   ],
   "source": [
    "grid_model_knn.best_estimator_"
   ]
  },
  {
   "cell_type": "code",
   "execution_count": 363,
   "metadata": {},
   "outputs": [
    {
     "data": {
      "text/plain": [
       "{'metric': 'manhattan', 'n_neighbors': 9, 'p': 1, 'weights': 'distance'}"
      ]
     },
     "execution_count": 363,
     "metadata": {},
     "output_type": "execute_result"
    }
   ],
   "source": [
    "#best params for f1\n",
    "\n",
    "grid_model_knn.best_params_"
   ]
  },
  {
   "cell_type": "code",
   "execution_count": 364,
   "metadata": {},
   "outputs": [],
   "source": [
    "#report \n",
    "\n",
    "y_final_test_pred = grid_model_knn.predict(X_test)"
   ]
  },
  {
   "cell_type": "code",
   "execution_count": 365,
   "metadata": {},
   "outputs": [
    {
     "data": {
      "text/plain": [
       "<sklearn.metrics._plot.confusion_matrix.ConfusionMatrixDisplay at 0x1bad2666188>"
      ]
     },
     "execution_count": 365,
     "metadata": {},
     "output_type": "execute_result"
    },
    {
     "data": {
      "image/png": "[encoded data removed]",
      "text/plain": [
       "<Figure size 432x288 with 2 Axes>"
      ]
     },
     "metadata": {
      "needs_background": "light"
     },
     "output_type": "display_data"
    }
   ],
   "source": [
    "plot_confusion_matrix(grid_model_knn, X_test, y_test)"
   ]
  },
  {
   "cell_type": "code",
   "execution_count": 367,
   "metadata": {},
   "outputs": [
    {
     "name": "stdout",
     "output_type": "stream",
     "text": [
      "              precision    recall  f1-score   support\n",
      "\n",
      "           0       0.62      0.41      0.49        44\n",
      "           1       0.79      0.90      0.84       106\n",
      "\n",
      "    accuracy                           0.75       150\n",
      "   macro avg       0.70      0.65      0.67       150\n",
      "weighted avg       0.74      0.75      0.74       150\n",
      "\n"
     ]
    }
   ],
   "source": [
    "print(classification_report(y_test, y_final_test_pred))"
   ]
  },
  {
   "cell_type": "code",
   "execution_count": 368,
   "metadata": {},
   "outputs": [
    {
     "data": {
      "text/plain": [
       "0.781303602058319"
      ]
     },
     "execution_count": 368,
     "metadata": {},
     "output_type": "execute_result"
    }
   ],
   "source": [
    "y_final_test_pred_proba = grid_model_knn.predict_proba(X_test)[:, 1]\n",
    "roc_auc_score(y_test, y_final_test_pred_proba)"
   ]
  },
  {
   "cell_type": "markdown",
   "metadata": {},
   "source": [
    "### SVM v4"
   ]
  },
  {
   "cell_type": "markdown",
   "metadata": {},
   "source": [
    "#### F1"
   ]
  },
  {
   "cell_type": "code",
   "execution_count": 387,
   "metadata": {},
   "outputs": [],
   "source": [
    "kFoldCV = KFold(n_splits=5,shuffle=True,random_state=4)\n",
    "\n",
    "from sklearn.svm import SVC\n",
    "\n"
   ]
  },
  {
   "cell_type": "code",
   "execution_count": 388,
   "metadata": {},
   "outputs": [],
   "source": [
    "param_test_svc = {\n",
    "    'kernel' : ['linear','rbf'],\n",
    "    'C' : [1,10,100,1000],\n",
    "    'gamma' : [1,0.1,0.001,0.0001]\n",
    "}"
   ]
  },
  {
   "cell_type": "code",
   "execution_count": 389,
   "metadata": {},
   "outputs": [],
   "source": [
    "svc_grid = SVC(probability = True, max_iter = 2000)"
   ]
  },
  {
   "cell_type": "code",
   "execution_count": 391,
   "metadata": {},
   "outputs": [],
   "source": [
    "from sklearn.model_selection import GridSearchCV\n",
    "\n",
    "\n",
    "grid_model_svc = GridSearchCV(estimator = svc_grid,\n",
    "                               param_grid = param_test_svc,\n",
    "                               cv = kFoldCV,\n",
    "                               scoring = 'f1',\n",
    "                               verbose = 2,\n",
    "                               n_jobs= -1)"
   ]
  },
  {
   "cell_type": "code",
   "execution_count": 392,
   "metadata": {},
   "outputs": [
    {
     "name": "stdout",
     "output_type": "stream",
     "text": [
      "Fitting 5 folds for each of 32 candidates, totalling 160 fits\n"
     ]
    },
    {
     "name": "stderr",
     "output_type": "stream",
     "text": [
      "[Parallel(n_jobs=-1)]: Using backend LokyBackend with 8 concurrent workers.\n",
      "[Parallel(n_jobs=-1)]: Done  25 tasks      | elapsed:    1.0s\n",
      "[Parallel(n_jobs=-1)]: Done 160 out of 160 | elapsed:    1.9s finished\n"
     ]
    },
    {
     "data": {
      "text/plain": [
       "GridSearchCV(cv=KFold(n_splits=5, random_state=4, shuffle=True),\n",
       "             error_score=nan,\n",
       "             estimator=SVC(C=1.0, break_ties=False, cache_size=200,\n",
       "                           class_weight=None, coef0=0.0,\n",
       "                           decision_function_shape='ovr', degree=3,\n",
       "                           gamma='scale', kernel='rbf', max_iter=2000,\n",
       "                           probability=True, random_state=None, shrinking=True,\n",
       "                           tol=0.001, verbose=False),\n",
       "             iid='deprecated', n_jobs=-1,\n",
       "             param_grid={'C': [1, 10, 100, 1000],\n",
       "                         'gamma': [1, 0.1, 0.001, 0.0001],\n",
       "                         'kernel': ['linear', 'rbf']},\n",
       "             pre_dispatch='2*n_jobs', refit=True, return_train_score=False,\n",
       "             scoring='f1', verbose=2)"
      ]
     },
     "execution_count": 392,
     "metadata": {},
     "output_type": "execute_result"
    }
   ],
   "source": [
    "grid_model_svc.fit(X_train, y_train)"
   ]
  },
  {
   "cell_type": "code",
   "execution_count": 393,
   "metadata": {},
   "outputs": [
    {
     "data": {
      "text/plain": [
       "SVC(C=10, break_ties=False, cache_size=200, class_weight=None, coef0=0.0,\n",
       "    decision_function_shape='ovr', degree=3, gamma=0.001, kernel='rbf',\n",
       "    max_iter=2000, probability=True, random_state=None, shrinking=True,\n",
       "    tol=0.001, verbose=False)"
      ]
     },
     "execution_count": 393,
     "metadata": {},
     "output_type": "execute_result"
    }
   ],
   "source": [
    "grid_model_svc.best_estimator_"
   ]
  },
  {
   "cell_type": "code",
   "execution_count": 394,
   "metadata": {},
   "outputs": [
    {
     "data": {
      "text/plain": [
       "{'C': 10, 'gamma': 0.001, 'kernel': 'rbf'}"
      ]
     },
     "execution_count": 394,
     "metadata": {},
     "output_type": "execute_result"
    }
   ],
   "source": [
    "#best params for f1\n",
    "\n",
    "grid_model_svc.best_params_"
   ]
  },
  {
   "cell_type": "code",
   "execution_count": 395,
   "metadata": {},
   "outputs": [],
   "source": [
    "#report \n",
    "\n",
    "y_final_test_pred = grid_model_svc.predict(X_test)"
   ]
  },
  {
   "cell_type": "code",
   "execution_count": 396,
   "metadata": {},
   "outputs": [
    {
     "data": {
      "text/plain": [
       "<sklearn.metrics._plot.confusion_matrix.ConfusionMatrixDisplay at 0x1bad253a788>"
      ]
     },
     "execution_count": 396,
     "metadata": {},
     "output_type": "execute_result"
    },
    {
     "data": {
      "image/png": "[encoded data removed]",
      "text/plain": [
       "<Figure size 432x288 with 2 Axes>"
      ]
     },
     "metadata": {
      "needs_background": "light"
     },
     "output_type": "display_data"
    }
   ],
   "source": [
    "plot_confusion_matrix(grid_model_svc, X_test, y_test)"
   ]
  },
  {
   "cell_type": "code",
   "execution_count": 397,
   "metadata": {},
   "outputs": [
    {
     "name": "stdout",
     "output_type": "stream",
     "text": [
      "              precision    recall  f1-score   support\n",
      "\n",
      "           0       0.64      0.36      0.46        44\n",
      "           1       0.78      0.92      0.84       106\n",
      "\n",
      "    accuracy                           0.75       150\n",
      "   macro avg       0.71      0.64      0.65       150\n",
      "weighted avg       0.74      0.75      0.73       150\n",
      "\n"
     ]
    }
   ],
   "source": [
    "print(classification_report(y_test, y_final_test_pred))"
   ]
  },
  {
   "cell_type": "code",
   "execution_count": 398,
   "metadata": {},
   "outputs": [
    {
     "data": {
      "text/plain": [
       "0.7832332761578045"
      ]
     },
     "execution_count": 398,
     "metadata": {},
     "output_type": "execute_result"
    }
   ],
   "source": [
    "y_final_test_pred_proba = grid_model_svc.predict_proba(X_test)[:, 1]\n",
    "roc_auc_score(y_test, y_final_test_pred_proba)"
   ]
  },
  {
   "cell_type": "code",
   "execution_count": null,
   "metadata": {},
   "outputs": [],
   "source": []
  }
 ],
 "metadata": {
  "kernelspec": {
   "display_name": "Python 3",
   "language": "python",
   "name": "python3"
  },
  "language_info": {
   "codemirror_mode": {
    "name": "ipython",
    "version": 3
   },
   "file_extension": ".py",
   "mimetype": "text/x-python",
   "name": "python",
   "nbconvert_exporter": "python",
   "pygments_lexer": "ipython3",
   "version": "3.7.6"
  },
  "toc": {
   "base_numbering": 1,
   "nav_menu": {},
   "number_sections": true,
   "sideBar": true,
   "skip_h1_title": false,
   "title_cell": "Table of Contents",
   "title_sidebar": "Contents",
   "toc_cell": false,
   "toc_position": {
    "height": "calc(100% - 180px)",
    "left": "10px",
    "top": "150px",
    "width": "264.746px"
   },
   "toc_section_display": true,
   "toc_window_display": true
  }
 },
 "nbformat": 4,
 "nbformat_minor": 4
}
